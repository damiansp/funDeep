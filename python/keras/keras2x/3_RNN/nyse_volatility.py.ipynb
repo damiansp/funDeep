{
 "cells": [
  {
   "cell_type": "code",
   "execution_count": 34,
   "metadata": {},
   "outputs": [],
   "source": [
    "import matplotlib.pyplot as plt\n",
    "import numpy as np\n",
    "import pandas as pd\n",
    "from keras.layers import Dense, LSTM\n",
    "from keras.models import Sequential\n",
    "from sklearn.preprocessing import MinMaxScaler\n",
    "\n",
    "%matplotlib inline"
   ]
  },
  {
   "cell_type": "code",
   "execution_count": 35,
   "metadata": {},
   "outputs": [],
   "source": [
    "DATA_DIR = '../../data'\n",
    "data_file = f'{DATA_DIR}/nyse_historic.csv'"
   ]
  },
  {
   "cell_type": "code",
   "execution_count": 36,
   "metadata": {},
   "outputs": [
    {
     "data": {
      "text/html": [
       "<div>\n",
       "<style scoped>\n",
       "    .dataframe tbody tr th:only-of-type {\n",
       "        vertical-align: middle;\n",
       "    }\n",
       "\n",
       "    .dataframe tbody tr th {\n",
       "        vertical-align: top;\n",
       "    }\n",
       "\n",
       "    .dataframe thead th {\n",
       "        text-align: right;\n",
       "    }\n",
       "</style>\n",
       "<table border=\"1\" class=\"dataframe\">\n",
       "  <thead>\n",
       "    <tr style=\"text-align: right;\">\n",
       "      <th></th>\n",
       "      <th>Close</th>\n",
       "    </tr>\n",
       "    <tr>\n",
       "      <th>Date</th>\n",
       "      <th></th>\n",
       "    </tr>\n",
       "  </thead>\n",
       "  <tbody>\n",
       "    <tr>\n",
       "      <th>1965-12-31</th>\n",
       "      <td>528.690002</td>\n",
       "    </tr>\n",
       "    <tr>\n",
       "      <th>1966-01-03</th>\n",
       "      <td>527.210022</td>\n",
       "    </tr>\n",
       "    <tr>\n",
       "      <th>1966-01-04</th>\n",
       "      <td>527.840027</td>\n",
       "    </tr>\n",
       "    <tr>\n",
       "      <th>1966-01-05</th>\n",
       "      <td>531.119995</td>\n",
       "    </tr>\n",
       "    <tr>\n",
       "      <th>1966-01-06</th>\n",
       "      <td>532.070007</td>\n",
       "    </tr>\n",
       "  </tbody>\n",
       "</table>\n",
       "</div>"
      ],
      "text/plain": [
       "                 Close\n",
       "Date                  \n",
       "1965-12-31  528.690002\n",
       "1966-01-03  527.210022\n",
       "1966-01-04  527.840027\n",
       "1966-01-05  531.119995\n",
       "1966-01-06  532.070007"
      ]
     },
     "execution_count": 36,
     "metadata": {},
     "output_type": "execute_result"
    }
   ],
   "source": [
    "data = pd.read_csv(data_file, \n",
    "                   usecols=['Date', 'Adj Close'], \n",
    "                   parse_dates=True, \n",
    "                   index_col='Date')\n",
    "data = data.rename(columns={'Adj Close': 'Close'})\n",
    "data.head()"
   ]
  },
  {
   "cell_type": "code",
   "execution_count": 37,
   "metadata": {},
   "outputs": [
    {
     "name": "stdout",
     "output_type": "stream",
     "text": [
      "1\n",
      "0\n"
     ]
    }
   ],
   "source": [
    "print(np.isnan(data.Close).sum())\n",
    "data.fillna(method='ffill', inplace=True)\n",
    "print(np.isnan(data.Close).sum())"
   ]
  },
  {
   "cell_type": "code",
   "execution_count": 38,
   "metadata": {},
   "outputs": [
    {
     "name": "stdout",
     "output_type": "stream",
     "text": [
      "<class 'pandas.core.frame.DataFrame'>\n",
      "DatetimeIndex: 13365 entries, 1965-12-31 to 2019-02-05\n",
      "Data columns (total 1 columns):\n",
      "Close    13365 non-null float64\n",
      "dtypes: float64(1)\n",
      "memory usage: 208.8 KB\n"
     ]
    }
   ],
   "source": [
    "data.info()"
   ]
  },
  {
   "cell_type": "code",
   "execution_count": 39,
   "metadata": {},
   "outputs": [
    {
     "data": {
      "text/html": [
       "<div>\n",
       "<style scoped>\n",
       "    .dataframe tbody tr th:only-of-type {\n",
       "        vertical-align: middle;\n",
       "    }\n",
       "\n",
       "    .dataframe tbody tr th {\n",
       "        vertical-align: top;\n",
       "    }\n",
       "\n",
       "    .dataframe thead th {\n",
       "        text-align: right;\n",
       "    }\n",
       "</style>\n",
       "<table border=\"1\" class=\"dataframe\">\n",
       "  <thead>\n",
       "    <tr style=\"text-align: right;\">\n",
       "      <th></th>\n",
       "      <th>Close</th>\n",
       "    </tr>\n",
       "  </thead>\n",
       "  <tbody>\n",
       "    <tr>\n",
       "      <th>count</th>\n",
       "      <td>13365.000000</td>\n",
       "    </tr>\n",
       "    <tr>\n",
       "      <th>mean</th>\n",
       "      <td>4066.920669</td>\n",
       "    </tr>\n",
       "    <tr>\n",
       "      <th>std</th>\n",
       "      <td>3701.595629</td>\n",
       "    </tr>\n",
       "    <tr>\n",
       "      <th>min</th>\n",
       "      <td>347.769989</td>\n",
       "    </tr>\n",
       "    <tr>\n",
       "      <th>25%</th>\n",
       "      <td>640.659973</td>\n",
       "    </tr>\n",
       "    <tr>\n",
       "      <th>50%</th>\n",
       "      <td>2422.229980</td>\n",
       "    </tr>\n",
       "    <tr>\n",
       "      <th>75%</th>\n",
       "      <td>6939.430176</td>\n",
       "    </tr>\n",
       "    <tr>\n",
       "      <th>max</th>\n",
       "      <td>13637.019531</td>\n",
       "    </tr>\n",
       "  </tbody>\n",
       "</table>\n",
       "</div>"
      ],
      "text/plain": [
       "              Close\n",
       "count  13365.000000\n",
       "mean    4066.920669\n",
       "std     3701.595629\n",
       "min      347.769989\n",
       "25%      640.659973\n",
       "50%     2422.229980\n",
       "75%     6939.430176\n",
       "max    13637.019531"
      ]
     },
     "execution_count": 39,
     "metadata": {},
     "output_type": "execute_result"
    }
   ],
   "source": [
    "data.describe()"
   ]
  },
  {
   "cell_type": "code",
   "execution_count": 40,
   "metadata": {},
   "outputs": [
    {
     "data": {
      "image/png": "[encoded data removed]",
      "text/plain": [
       "<Figure size 720x360 with 1 Axes>"
      ]
     },
     "metadata": {},
     "output_type": "display_data"
    }
   ],
   "source": [
    "plt.figure(figsize=(10, 5))\n",
    "plt.plot(data);"
   ]
  },
  {
   "cell_type": "code",
   "execution_count": 41,
   "metadata": {},
   "outputs": [
    {
     "data": {
      "image/png": "[encoded data removed]",
      "text/plain": [
       "<Figure size 720x360 with 1 Axes>"
      ]
     },
     "metadata": {},
     "output_type": "display_data"
    }
   ],
   "source": [
    "plt.figure(figsize=(10, 5))\n",
    "plt.plot(data)\n",
    "plt.yscale('log');"
   ]
  },
  {
   "cell_type": "code",
   "execution_count": 42,
   "metadata": {},
   "outputs": [
    {
     "data": {
      "text/html": [
       "<div>\n",
       "<style scoped>\n",
       "    .dataframe tbody tr th:only-of-type {\n",
       "        vertical-align: middle;\n",
       "    }\n",
       "\n",
       "    .dataframe tbody tr th {\n",
       "        vertical-align: top;\n",
       "    }\n",
       "\n",
       "    .dataframe thead th {\n",
       "        text-align: right;\n",
       "    }\n",
       "</style>\n",
       "<table border=\"1\" class=\"dataframe\">\n",
       "  <thead>\n",
       "    <tr style=\"text-align: right;\">\n",
       "      <th></th>\n",
       "      <th>Close</th>\n",
       "      <th>PctChange</th>\n",
       "    </tr>\n",
       "    <tr>\n",
       "      <th>Date</th>\n",
       "      <th></th>\n",
       "      <th></th>\n",
       "    </tr>\n",
       "  </thead>\n",
       "  <tbody>\n",
       "    <tr>\n",
       "      <th>1965-12-31</th>\n",
       "      <td>528.690002</td>\n",
       "      <td>NaN</td>\n",
       "    </tr>\n",
       "    <tr>\n",
       "      <th>1966-01-03</th>\n",
       "      <td>527.210022</td>\n",
       "      <td>-0.002799</td>\n",
       "    </tr>\n",
       "    <tr>\n",
       "      <th>1966-01-04</th>\n",
       "      <td>527.840027</td>\n",
       "      <td>0.001195</td>\n",
       "    </tr>\n",
       "    <tr>\n",
       "      <th>1966-01-05</th>\n",
       "      <td>531.119995</td>\n",
       "      <td>0.006214</td>\n",
       "    </tr>\n",
       "    <tr>\n",
       "      <th>1966-01-06</th>\n",
       "      <td>532.070007</td>\n",
       "      <td>0.001789</td>\n",
       "    </tr>\n",
       "  </tbody>\n",
       "</table>\n",
       "</div>"
      ],
      "text/plain": [
       "                 Close  PctChange\n",
       "Date                             \n",
       "1965-12-31  528.690002        NaN\n",
       "1966-01-03  527.210022  -0.002799\n",
       "1966-01-04  527.840027   0.001195\n",
       "1966-01-05  531.119995   0.006214\n",
       "1966-01-06  532.070007   0.001789"
      ]
     },
     "execution_count": 42,
     "metadata": {},
     "output_type": "execute_result"
    }
   ],
   "source": [
    "data['PctChange'] = data.pct_change()\n",
    "data.head()"
   ]
  },
  {
   "cell_type": "code",
   "execution_count": 43,
   "metadata": {},
   "outputs": [
    {
     "data": {
      "image/png": "[encoded data removed]",
      "text/plain": [
       "<Figure size 432x288 with 1 Axes>"
      ]
     },
     "metadata": {},
     "output_type": "display_data"
    }
   ],
   "source": [
    "plt.plot(data.PctChange);"
   ]
  },
  {
   "cell_type": "code",
   "execution_count": 44,
   "metadata": {},
   "outputs": [],
   "source": [
    "data['LogReturns'] = np.log(1 + data.PctChange)"
   ]
  },
  {
   "cell_type": "code",
   "execution_count": 45,
   "metadata": {},
   "outputs": [
    {
     "data": {
      "image/png": "[encoded data removed]",
      "text/plain": [
       "<Figure size 432x288 with 1 Axes>"
      ]
     },
     "metadata": {},
     "output_type": "display_data"
    }
   ],
   "source": [
    "plt.plot(data.LogReturns);"
   ]
  },
  {
   "cell_type": "code",
   "execution_count": 46,
   "metadata": {},
   "outputs": [
    {
     "data": {
      "image/png": "[encoded data removed]",
      "text/plain": [
       "<Figure size 432x288 with 2 Axes>"
      ]
     },
     "metadata": {},
     "output_type": "display_data"
    }
   ],
   "source": [
    "plt.subplot(121)\n",
    "plt.hist(data.PctChange[1:])\n",
    "plt.subplot(122)\n",
    "plt.hist(data.LogReturns[1:]);"
   ]
  },
  {
   "cell_type": "code",
   "execution_count": 47,
   "metadata": {},
   "outputs": [],
   "source": [
    "data = data.iloc[1:, :] # drop init NA row"
   ]
  },
  {
   "cell_type": "code",
   "execution_count": 48,
   "metadata": {},
   "outputs": [
    {
     "data": {
      "text/html": [
       "<div>\n",
       "<style scoped>\n",
       "    .dataframe tbody tr th:only-of-type {\n",
       "        vertical-align: middle;\n",
       "    }\n",
       "\n",
       "    .dataframe tbody tr th {\n",
       "        vertical-align: top;\n",
       "    }\n",
       "\n",
       "    .dataframe thead th {\n",
       "        text-align: right;\n",
       "    }\n",
       "</style>\n",
       "<table border=\"1\" class=\"dataframe\">\n",
       "  <thead>\n",
       "    <tr style=\"text-align: right;\">\n",
       "      <th></th>\n",
       "      <th>LogReturns</th>\n",
       "    </tr>\n",
       "    <tr>\n",
       "      <th>Date</th>\n",
       "      <th></th>\n",
       "    </tr>\n",
       "  </thead>\n",
       "  <tbody>\n",
       "    <tr>\n",
       "      <th>2019-01-30</th>\n",
       "      <td>0.010826</td>\n",
       "    </tr>\n",
       "    <tr>\n",
       "      <th>2019-01-31</th>\n",
       "      <td>0.006251</td>\n",
       "    </tr>\n",
       "    <tr>\n",
       "      <th>2019-02-01</th>\n",
       "      <td>0.002490</td>\n",
       "    </tr>\n",
       "    <tr>\n",
       "      <th>2019-02-04</th>\n",
       "      <td>0.004220</td>\n",
       "    </tr>\n",
       "    <tr>\n",
       "      <th>2019-02-05</th>\n",
       "      <td>0.003743</td>\n",
       "    </tr>\n",
       "  </tbody>\n",
       "</table>\n",
       "</div>"
      ],
      "text/plain": [
       "            LogReturns\n",
       "Date                  \n",
       "2019-01-30    0.010826\n",
       "2019-01-31    0.006251\n",
       "2019-02-01    0.002490\n",
       "2019-02-04    0.004220\n",
       "2019-02-05    0.003743"
      ]
     },
     "execution_count": 48,
     "metadata": {},
     "output_type": "execute_result"
    }
   ],
   "source": [
    "data = pd.DataFrame(data['LogReturns'])\n",
    "data.tail()"
   ]
  },
  {
   "cell_type": "code",
   "execution_count": 49,
   "metadata": {},
   "outputs": [],
   "source": [
    "scaler = MinMaxScaler()\n",
    "data_scaled = scaler.fit_transform(data)"
   ]
  },
  {
   "cell_type": "code",
   "execution_count": 17,
   "metadata": {},
   "outputs": [
    {
     "name": "stdout",
     "output_type": "stream",
     "text": [
      "9354 4010\n"
     ]
    }
   ],
   "source": [
    "train_len = int(len(data_scaled) * 0.7)\n",
    "test_len = len(data_scaled) - train_len\n",
    "train_data = data_scaled[0:train_len, :]\n",
    "test_data = data_scaled[train_len:len(data_scaled), :]\n",
    "print(len(train_data), len(test_data))"
   ]
  },
  {
   "cell_type": "code",
   "execution_count": 18,
   "metadata": {},
   "outputs": [],
   "source": [
    "def create_dataset(dataset, t_step=1):\n",
    "    X, y = [], []\n",
    "    for i in range(len(dataset) - t_step - 1):\n",
    "        a = dataset[i:(i + t_step), 0]\n",
    "        X.append(a)\n",
    "        y.append(dataset[i + t_step, 0])\n",
    "    return np.array(X), np.array(y)"
   ]
  },
  {
   "cell_type": "code",
   "execution_count": 19,
   "metadata": {},
   "outputs": [],
   "source": [
    "TIME_STEP = 1\n",
    "LSTM_SIZE = 256\n",
    "EPOCHS = 20\n",
    "BATCH = 1"
   ]
  },
  {
   "cell_type": "code",
   "execution_count": 20,
   "metadata": {},
   "outputs": [],
   "source": [
    "X_train, y_train = create_dataset(train_data, TIME_STEP)\n",
    "X_test, y_test = create_dataset(test_data, TIME_STEP)"
   ]
  },
  {
   "cell_type": "code",
   "execution_count": 21,
   "metadata": {},
   "outputs": [],
   "source": [
    "X_train = np.reshape(X_train, (X_train.shape[0], 1, X_train.shape[1]))\n",
    "X_test  = np.reshape(X_test,  (X_test.shape[0],  1, X_test.shape[1]))"
   ]
  },
  {
   "cell_type": "code",
   "execution_count": 22,
   "metadata": {},
   "outputs": [
    {
     "name": "stdout",
     "output_type": "stream",
     "text": [
      "_________________________________________________________________\n",
      "Layer (type)                 Output Shape              Param #   \n",
      "=================================================================\n",
      "lstm_1 (LSTM)                (None, 256)               264192    \n",
      "_________________________________________________________________\n",
      "dense_1 (Dense)              (None, 1)                 257       \n",
      "=================================================================\n",
      "Total params: 264,449\n",
      "Trainable params: 264,449\n",
      "Non-trainable params: 0\n",
      "_________________________________________________________________\n"
     ]
    }
   ],
   "source": [
    "mod = Sequential()\n",
    "mod.add(LSTM(LSTM_SIZE, input_shape=(1, TIME_STEP)))\n",
    "mod.add(Dense(1, activation='sigmoid'))\n",
    "mod.compile(loss='mse', optimizer='adam', metrics=['mse'])\n",
    "mod.summary()"
   ]
  },
  {
   "cell_type": "code",
   "execution_count": 23,
   "metadata": {},
   "outputs": [
    {
     "name": "stdout",
     "output_type": "stream",
     "text": [
      "Epoch 1/20\n",
      "9352/9352 [==============================] - 42s 5ms/step - loss: 0.0027 - mean_squared_error: 0.0027\n",
      "Epoch 2/20\n",
      "9352/9352 [==============================] - 44s 5ms/step - loss: 2.3444e-04 - mean_squared_error: 2.3444e-04\n",
      "Epoch 3/20\n",
      "9352/9352 [==============================] - 42s 5ms/step - loss: 2.2099e-04 - mean_squared_error: 2.2099e-04\n",
      "Epoch 4/20\n",
      "9352/9352 [==============================] - 45s 5ms/step - loss: 2.0287e-04 - mean_squared_error: 2.0287e-04\n",
      "Epoch 5/20\n",
      "9352/9352 [==============================] - 43s 5ms/step - loss: 7.4488e-05 - mean_squared_error: 7.4488e-05\n",
      "Epoch 6/20\n",
      "9352/9352 [==============================] - 45s 5ms/step - loss: 3.3982e-05 - mean_squared_error: 3.3982e-05\n",
      "Epoch 7/20\n",
      "9352/9352 [==============================] - 45s 5ms/step - loss: 2.1273e-05 - mean_squared_error: 2.1273e-05\n",
      "Epoch 8/20\n",
      "9352/9352 [==============================] - 45s 5ms/step - loss: 1.5363e-05 - mean_squared_error: 1.5363e-05\n",
      "Epoch 9/20\n",
      "9352/9352 [==============================] - 45s 5ms/step - loss: 1.2302e-05 - mean_squared_error: 1.2302e-05\n",
      "Epoch 10/20\n",
      "9352/9352 [==============================] - 45s 5ms/step - loss: 1.0798e-05 - mean_squared_error: 1.0798e-05\n",
      "Epoch 11/20\n",
      "9352/9352 [==============================] - 45s 5ms/step - loss: 1.0445e-05 - mean_squared_error: 1.0445e-05\n",
      "Epoch 12/20\n",
      "9352/9352 [==============================] - 45s 5ms/step - loss: 1.0005e-05 - mean_squared_error: 1.0005e-05\n",
      "Epoch 13/20\n",
      "9352/9352 [==============================] - 41s 4ms/step - loss: 9.5356e-06 - mean_squared_error: 9.5356e-06\n",
      "Epoch 14/20\n",
      "9352/9352 [==============================] - 39s 4ms/step - loss: 9.2010e-06 - mean_squared_error: 9.2010e-06\n",
      "Epoch 15/20\n",
      "9352/9352 [==============================] - 45s 5ms/step - loss: 8.4875e-06 - mean_squared_error: 8.4875e-06\n",
      "Epoch 16/20\n",
      "9352/9352 [==============================] - 42s 5ms/step - loss: 8.2752e-06 - mean_squared_error: 8.2752e-06\n",
      "Epoch 17/20\n",
      "9352/9352 [==============================] - 39s 4ms/step - loss: 8.3443e-06 - mean_squared_error: 8.3443e-06\n",
      "Epoch 18/20\n",
      "9352/9352 [==============================] - 44s 5ms/step - loss: 7.9359e-06 - mean_squared_error: 7.9359e-06\n",
      "Epoch 19/20\n",
      "9352/9352 [==============================] - 45s 5ms/step - loss: 8.1437e-06 - mean_squared_error: 8.1437e-06\n",
      "Epoch 20/20\n",
      "9352/9352 [==============================] - 45s 5ms/step - loss: 8.0827e-06 - mean_squared_error: 8.0827e-06\n"
     ]
    }
   ],
   "source": [
    "history = mod.fit(\n",
    "    X_train, y_train, epochs=EPOCHS, batch_size=BATCH, verbose=1)"
   ]
  },
  {
   "cell_type": "code",
   "execution_count": 24,
   "metadata": {},
   "outputs": [
    {
     "data": {
      "image/png": "[encoded data removed]",
      "text/plain": [
       "<Figure size 432x288 with 1 Axes>"
      ]
     },
     "metadata": {},
     "output_type": "display_data"
    }
   ],
   "source": [
    "plt.plot(history.history['mean_squared_error']);"
   ]
  },
  {
   "cell_type": "code",
   "execution_count": 25,
   "metadata": {},
   "outputs": [
    {
     "name": "stdout",
     "output_type": "stream",
     "text": [
      "Loss: 6.233514050122694e-06\n",
      "Acc: 6.233514050122694e-06\n"
     ]
    }
   ],
   "source": [
    "score = mod.evaluate(X_train, y_train, verbose=0)\n",
    "print(f'Loss: {score[0]}\\nAcc: {score[1]}')"
   ]
  },
  {
   "cell_type": "code",
   "execution_count": 26,
   "metadata": {},
   "outputs": [],
   "source": [
    "train_pred = mod.predict(X_train)\n",
    "test_pred  = mod.predict(X_test)"
   ]
  },
  {
   "cell_type": "code",
   "execution_count": 50,
   "metadata": {},
   "outputs": [
    {
     "name": "stdout",
     "output_type": "stream",
     "text": [
      "(9352, 1)\n"
     ]
    },
    {
     "data": {
      "text/plain": [
       "array([[0.01328042],\n",
       "       [0.01332134],\n",
       "       [0.01353549],\n",
       "       ...,\n",
       "       [0.32701054],\n",
       "       [0.32259372],\n",
       "       [0.32553464]], dtype=float32)"
      ]
     },
     "execution_count": 50,
     "metadata": {},
     "output_type": "execute_result"
    }
   ],
   "source": [
    "print(train_pred.shape)\n",
    "train_pred"
   ]
  },
  {
   "cell_type": "code",
   "execution_count": 52,
   "metadata": {},
   "outputs": [],
   "source": [
    "train_pred = scaler.inverse_transform(train_pred)\n",
    "y_train = scaler.inverse_transform([y_train])\n",
    "test_pred = scaler.inverse_transform(test_pred)\n",
    "y_test = scaler.inverse_transform([y_test])"
   ]
  },
  {
   "cell_type": "code",
   "execution_count": 53,
   "metadata": {},
   "outputs": [],
   "source": [
    "train_pred_plot = np.empty_like(data_scaled)\n",
    "train_pred_plot[:, :] = np.nan\n",
    "train_pred_plot[1:len(train_pred) + 1, :] = train_pred\n",
    "\n",
    "test_pred_plot = np.empty_like(data_scaled)\n",
    "test_pred_plot[:, :] = np.nan\n",
    "test_pred_plot[len(train_pred) + 2 + 1:len(data_scaled) - 1, :] = test_pred"
   ]
  },
  {
   "cell_type": "code",
   "execution_count": 54,
   "metadata": {},
   "outputs": [
    {
     "data": {
      "image/png": "[encoded data removed]",
      "text/plain": [
       "<Figure size 432x288 with 1 Axes>"
      ]
     },
     "metadata": {},
     "output_type": "display_data"
    }
   ],
   "source": [
    "plt.plot(scaler.inverse_transform(data_scaled))\n",
    "plt.plot(train_pred_plot)\n",
    "plt.plot(test_pred_plot);"
   ]
  },
  {
   "cell_type": "code",
   "execution_count": null,
   "metadata": {},
   "outputs": [],
   "source": []
  }
 ],
 "metadata": {
  "kernelspec": {
   "display_name": "Python 3",
   "language": "python",
   "name": "python3"
  },
  "language_info": {
   "codemirror_mode": {
    "name": "ipython",
    "version": 3
   },
   "file_extension": ".py",
   "mimetype": "text/x-python",
   "name": "python",
   "nbconvert_exporter": "python",
   "pygments_lexer": "ipython3",
   "version": "3.6.5"
  }
 },
 "nbformat": 4,
 "nbformat_minor": 2
}
