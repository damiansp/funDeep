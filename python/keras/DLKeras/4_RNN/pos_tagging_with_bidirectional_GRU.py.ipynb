{
 "cells": [
  {
   "cell_type": "code",
   "execution_count": 16,
   "metadata": {},
   "outputs": [],
   "source": [
    "import collections\n",
    "import os\n",
    "\n",
    "#import matplotlib.pyplot as plt\n",
    "import nltk\n",
    "import numpy as np\n",
    "from keras.layers.core import (\n",
    "    Activation, Dense, Dropout, RepeatVector, SpatialDropout1D)\n",
    "from keras.layers.embeddings import Embedding\n",
    "from keras.layers.recurrent import GRU\n",
    "from keras.layers.wrappers import Bidirectional, TimeDistributed\n",
    "from keras.models import Sequential\n",
    "from keras.preprocessing import sequence\n",
    "from keras.utils import np_utils\n",
    "from sklearn.model_selection import train_test_split"
   ]
  },
  {
   "cell_type": "code",
   "execution_count": 2,
   "metadata": {},
   "outputs": [],
   "source": [
    "DATA_DIR = '../../data'"
   ]
  },
  {
   "cell_type": "code",
   "execution_count": 3,
   "metadata": {},
   "outputs": [],
   "source": [
    "fedata = open(os.path.join(DATA_DIR, 'treebank_sents.txt'), 'w')\n",
    "ffdata = open(os.path.join(DATA_DIR, 'treebank_poss.txt'), 'w')\n",
    "sents = nltk.corpus.treebank.tagged_sents()\n",
    "for sent in sents:\n",
    "    words, poss = [], []\n",
    "    for word, pos in sent:\n",
    "        if pos == '-NONE-':\n",
    "            continue\n",
    "        words.append(word)\n",
    "        poss.append(pos)\n",
    "    fedata.write('{:s}\\n'.format(' '.join(words)))\n",
    "    ffdata.write('{:s}\\n'.format(' '.join(poss)))\n",
    "fedata.close()\n",
    "ffdata.close()"
   ]
  },
  {
   "cell_type": "code",
   "execution_count": 4,
   "metadata": {},
   "outputs": [
    {
     "name": "stdout",
     "output_type": "stream",
     "text": [
      "NNP NNP , CD NNS JJ , MD VB DT NN IN DT JJ NN NNP CD .\n",
      "NNP NNP VBZ NN IN NNP NNP , DT NNP VBG NN .\n",
      "NNP NNP , CD NNS JJ CC JJ NN IN NNP NNP NNP NNP , VBD VBN DT JJ NN IN DT JJ JJ NN .\n",
      "Pierre Vinken , 61 years old , will join the board as a nonexecutive director Nov. 29 .\n",
      "Mr. Vinken is chairman of Elsevier N.V. , the Dutch publishing group .\n",
      "Rudolph Agnew , 55 years old and former chairman of Consolidated Gold Fields PLC , was named a nonexecutive director of this British industrial conglomerate .\n"
     ]
    }
   ],
   "source": [
    "!head -3 ../../data/treebank_poss.txt\n",
    "!head -3 ../../data/treebank_sents.txt"
   ]
  },
  {
   "cell_type": "code",
   "execution_count": 5,
   "metadata": {},
   "outputs": [],
   "source": [
    "def parse_sentences(filename):\n",
    "    word_freqs = collections.Counter()\n",
    "    n_recs, maxlen = 0, 0\n",
    "    fin = open(filename, 'r')\n",
    "    for line in fin:\n",
    "        words = line.strip().lower().split()\n",
    "        for word in words:\n",
    "            word_freqs[word] += 1\n",
    "        if len(words) > maxlen:\n",
    "            maxlen = len(words)\n",
    "        n_recs += 1\n",
    "    fin.close()\n",
    "    return word_freqs, maxlen, n_recs"
   ]
  },
  {
   "cell_type": "code",
   "execution_count": 6,
   "metadata": {},
   "outputs": [
    {
     "name": "stdout",
     "output_type": "stream",
     "text": [
      "10947 249 3914\n",
      "45 249 3914\n"
     ]
    }
   ],
   "source": [
    "s_wordfreqs, s_maxlen, s_nrecs = parse_sentences(\n",
    "    os.path.join(DATA_DIR, 'treebank_sents.txt'))\n",
    "t_wordfreqs, t_maxlen, t_nrecs = parse_sentences(\n",
    "    os.path.join(DATA_DIR, 'treebank_poss.txt'))\n",
    "\n",
    "print(len(s_wordfreqs), s_maxlen, s_nrecs)\n",
    "print(len(t_wordfreqs), t_maxlen, t_nrecs)"
   ]
  },
  {
   "cell_type": "code",
   "execution_count": 7,
   "metadata": {},
   "outputs": [],
   "source": [
    "MAX_SEQLEN = 250\n",
    "S_MAX_FEATURES = 5000 # use only top 5k\n",
    "T_MAX_FEATURES = 45"
   ]
  },
  {
   "cell_type": "code",
   "execution_count": 8,
   "metadata": {},
   "outputs": [],
   "source": [
    "s_vocabsize = min(len(s_wordfreqs), S_MAX_FEATURES) + 2\n",
    "s_word2index = {\n",
    "    x[0]: i + 2 \n",
    "    for i, x in enumerate(s_wordfreqs.most_common(S_MAX_FEATURES))}\n",
    "s_word2index['PAD'] = 0\n",
    "s_word2index['UNK'] = 1\n",
    "s_index2word = {v: k for k, v in s_word2index.items()}"
   ]
  },
  {
   "cell_type": "code",
   "execution_count": 9,
   "metadata": {},
   "outputs": [],
   "source": [
    "t_vocabsize = len(t_wordfreqs) + 1\n",
    "t_word2index = {\n",
    "    x[0]: i\n",
    "    for i, x in enumerate(t_wordfreqs.most_common(T_MAX_FEATURES))}\n",
    "t_word2index['PAD'] = 0\n",
    "t_index2word = {v: k for k, v in t_word2index.items()}"
   ]
  },
  {
   "cell_type": "code",
   "execution_count": 10,
   "metadata": {},
   "outputs": [],
   "source": [
    "def build_tensor(\n",
    "        filename, n_recs, word2index, maxlen, make_categorical=False, \n",
    "        n_classes=0):\n",
    "    data = np.empty((n_recs,), dtype=list)\n",
    "    fin = open(filename, 'r')\n",
    "    i = 0\n",
    "    for line in fin:\n",
    "        wids = []\n",
    "        for word in line.strip().lower().split():\n",
    "            if word in word2index:\n",
    "                wids.append(word2index[word])\n",
    "            else:\n",
    "                wids.append(word2index['UNK'])\n",
    "        if make_categorical:\n",
    "            data[i] = np_utils.to_categorical(wids, num_classes=n_classes)\n",
    "        else:\n",
    "            data[i] = wids\n",
    "        i += 1\n",
    "    fin.close()\n",
    "    pdata = sequence.pad_sequences(data, maxlen=maxlen)\n",
    "    return pdata"
   ]
  },
  {
   "cell_type": "code",
   "execution_count": 11,
   "metadata": {},
   "outputs": [],
   "source": [
    "X = build_tensor(os.path.join(DATA_DIR, 'treebank_sents.txt'), \n",
    "                 s_nrecs, \n",
    "                 s_word2index, \n",
    "                 MAX_SEQLEN)\n",
    "Y = build_tensor(os.path.join(DATA_DIR, 'treebank_poss.txt'),\n",
    "                 t_nrecs,\n",
    "                 t_word2index,\n",
    "                 MAX_SEQLEN,\n",
    "                 True,\n",
    "                 t_vocabsize)"
   ]
  },
  {
   "cell_type": "code",
   "execution_count": 12,
   "metadata": {},
   "outputs": [],
   "source": [
    "X_train, X_test, Y_train, Y_test = train_test_split(\n",
    "    X, Y, test_size=0.2) # random_state=123"
   ]
  },
  {
   "cell_type": "code",
   "execution_count": 13,
   "metadata": {},
   "outputs": [],
   "source": [
    "EMBED_SIZE = 128\n",
    "HIDDEN_SIZE = 64\n",
    "BATCH = 32\n",
    "EPOCHS = 1\n",
    "DROPOUT = 0.2"
   ]
  },
  {
   "cell_type": "code",
   "execution_count": 14,
   "metadata": {},
   "outputs": [],
   "source": [
    "mod = Sequential()\n",
    "mod.add(Embedding(s_vocabsize, EMBED_SIZE, input_length=MAX_SEQLEN))\n",
    "mod.add(SpatialDropout1D(DROPOUT))\n",
    "mod.add(GRU(HIDDEN_SIZE, dropout=DROPOUT, recurrent_dropout=DROPOUT))\n",
    "mod.add(RepeatVector(MAX_SEQLEN))\n",
    "mod.add(GRU(HIDDEN_SIZE, return_sequences=True))\n",
    "mod.add(TimeDistributed(Dense(t_vocabsize)))\n",
    "mod.add(Activation('softmax'))\n",
    "mod.compile(\n",
    "    loss='categorical_crossentropy', \n",
    "    optimizer='adam', \n",
    "    metrics=['accuracy'])"
   ]
  },
  {
   "cell_type": "code",
   "execution_count": 15,
   "metadata": {},
   "outputs": [
    {
     "name": "stdout",
     "output_type": "stream",
     "text": [
      "Train on 3131 samples, validate on 783 samples\n",
      "Epoch 1/1\n",
      "3131/3131 [==============================] - 39s 12ms/step - loss: 0.3063 - acc: 0.8425 - val_loss: 0.2803 - val_acc: 0.8617\n",
      "783/783 [==============================] - 2s 2ms/step\n",
      "Test Score: 0.280\tAccuracy: 0.862\n"
     ]
    }
   ],
   "source": [
    "mod.fit(\n",
    "    X_train, \n",
    "    Y_train, \n",
    "    batch_size=BATCH, \n",
    "    epochs=EPOCHS, \n",
    "    validation_data=[X_test, Y_test])\n",
    "score, acc = mod.evaluate(X_test, Y_test, batch_size=BATCH)\n",
    "print(f'Test Score: {score:.3f}\\tAccuracy: {acc:.3f}')"
   ]
  },
  {
   "cell_type": "markdown",
   "metadata": {},
   "source": [
    "## Bidirectional Model"
   ]
  },
  {
   "cell_type": "code",
   "execution_count": 20,
   "metadata": {},
   "outputs": [],
   "source": [
    "mod = Sequential()\n",
    "mod.add(Embedding(s_vocabsize, EMBED_SIZE, input_length=MAX_SEQLEN))\n",
    "mod.add(SpatialDropout1D(DROPOUT))\n",
    "mod.add(Bidirectional(GRU(\n",
    "    HIDDEN_SIZE, dropout=DROPOUT, recurrent_dropout=DROPOUT)))\n",
    "mod.add(RepeatVector(MAX_SEQLEN))\n",
    "mod.add(Bidirectional(GRU(HIDDEN_SIZE, return_sequences=True)))\n",
    "mod.add(TimeDistributed(Dense(t_vocabsize)))\n",
    "mod.add(Activation('softmax'))\n",
    "mod.compile(\n",
    "    loss='categorical_crossentropy', \n",
    "    optimizer='adam', \n",
    "    metrics=['accuracy'])"
   ]
  },
  {
   "cell_type": "code",
   "execution_count": 21,
   "metadata": {},
   "outputs": [
    {
     "name": "stdout",
     "output_type": "stream",
     "text": [
      "Train on 3131 samples, validate on 783 samples\n",
      "Epoch 1/1\n",
      "3131/3131 [==============================] - 49s 16ms/step - loss: 0.2935 - acc: 0.6962 - val_loss: 0.2659 - val_acc: 0.5242\n",
      "783/783 [==============================] - 2s 3ms/step\n",
      "Test Score: 0.266\tAccuracy: 0.524\n"
     ]
    }
   ],
   "source": [
    "mod.fit(\n",
    "    X_train, \n",
    "    Y_train, \n",
    "    batch_size=BATCH, \n",
    "    epochs=EPOCHS, \n",
    "    validation_data=[X_test, Y_test])\n",
    "score, acc = mod.evaluate(X_test, Y_test, batch_size=BATCH)\n",
    "print(f'Test Score: {score:.3f}\\tAccuracy: {acc:.3f}')"
   ]
  },
  {
   "cell_type": "code",
   "execution_count": null,
   "metadata": {},
   "outputs": [],
   "source": []
  }
 ],
 "metadata": {
  "kernelspec": {
   "display_name": "Python 3",
   "language": "python",
   "name": "python3"
  },
  "language_info": {
   "codemirror_mode": {
    "name": "ipython",
    "version": 3
   },
   "file_extension": ".py",
   "mimetype": "text/x-python",
   "name": "python",
   "nbconvert_exporter": "python",
   "pygments_lexer": "ipython3",
   "version": "3.6.5"
  }
 },
 "nbformat": 4,
 "nbformat_minor": 2
}
