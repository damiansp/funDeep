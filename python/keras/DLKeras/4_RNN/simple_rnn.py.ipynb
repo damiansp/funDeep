{
 "cells": [
  {
   "cell_type": "code",
   "execution_count": 4,
   "metadata": {},
   "outputs": [],
   "source": [
    "import os\n",
    "\n",
    "import numpy as np\n",
    "from keras.layers import Activation, Dense\n",
    "from keras.layers.recurrent import SimpleRNN\n",
    "from keras.models import Sequential\n",
    "from keras.utils.vis_utils import plot_model"
   ]
  },
  {
   "cell_type": "code",
   "execution_count": 5,
   "metadata": {},
   "outputs": [],
   "source": [
    "HOME = os.environ['HOME']\n",
    "ALICE_PATH = f'{HOME}/nltk_data/corpora/gutenberg/carroll-alice.txt'"
   ]
  },
  {
   "cell_type": "code",
   "execution_count": 6,
   "metadata": {},
   "outputs": [],
   "source": [
    "with open(ALICE_PATH) as f:\n",
    "    lines = []\n",
    "    for line in f:\n",
    "        line = line.strip().lower()\n",
    "        if len(line) == 0:\n",
    "            continue\n",
    "        lines.append(line)\n",
    "    text = ' '.join(lines)"
   ]
  },
  {
   "cell_type": "code",
   "execution_count": 7,
   "metadata": {},
   "outputs": [
    {
     "data": {
      "text/plain": [
       "\"[alice's adventures in wonderland by lewis carroll\""
      ]
     },
     "execution_count": 7,
     "metadata": {},
     "output_type": "execute_result"
    }
   ],
   "source": [
    "text[:50]"
   ]
  },
  {
   "cell_type": "code",
   "execution_count": 8,
   "metadata": {},
   "outputs": [
    {
     "name": "stdout",
     "output_type": "stream",
     "text": [
      "46\n"
     ]
    }
   ],
   "source": [
    "chars = set([c for c in text])\n",
    "n_chars = len(chars)\n",
    "print(n_chars)\n",
    "\n",
    "char2index = {c: i for i, c in enumerate(chars)} \n",
    "# 'a': 40, 'b': 18, 'c': 10...\n",
    "\n",
    "index2char = {i: c for i, c in enumerate(chars)} \n",
    "# 0: ')', 1: 'u', 2: 'r'..."
   ]
  },
  {
   "cell_type": "code",
   "execution_count": 9,
   "metadata": {},
   "outputs": [],
   "source": [
    "SEQ_LEN = 10\n",
    "STEP = 1"
   ]
  },
  {
   "cell_type": "code",
   "execution_count": 10,
   "metadata": {},
   "outputs": [],
   "source": [
    "input_chars = []\n",
    "label_chars = []\n",
    "for i in range(0, len(text) - SEQ_LEN, STEP) :\n",
    "    input_chars.append(text[i:i + SEQ_LEN])\n",
    "    label_chars.append(text[i + SEQ_LEN])"
   ]
  },
  {
   "cell_type": "code",
   "execution_count": 11,
   "metadata": {},
   "outputs": [
    {
     "name": "stdout",
     "output_type": "stream",
     "text": [
      "[alice's a -> d\n",
      "alice's ad -> v\n",
      "lice's adv -> e\n"
     ]
    }
   ],
   "source": [
    "print(f'{input_chars[0]} -> {label_chars[0]}')\n",
    "print(f'{input_chars[1]} -> {label_chars[1]}')\n",
    "print(f'{input_chars[2]} -> {label_chars[2]}')"
   ]
  },
  {
   "cell_type": "markdown",
   "metadata": {},
   "source": [
    "Each sample in X is:\n",
    "SEQ_LEN = 10 x n_chars = 46 letters + punctuation, etc.\n",
    " = 460 cells"
   ]
  },
  {
   "cell_type": "code",
   "execution_count": 12,
   "metadata": {},
   "outputs": [],
   "source": [
    "X = np.zeros([len(input_chars), SEQ_LEN, n_chars], dtype=np.bool)\n",
    "y = np.zeros([len(input_chars), n_chars], dtype=np.bool)\n",
    "for i, input_char in enumerate(input_chars):\n",
    "    for j, ch in enumerate(input_char):\n",
    "        X[i, j, char2index[ch]] = 1\n",
    "    y[i, char2index[label_chars[i]]] = 1"
   ]
  },
  {
   "cell_type": "code",
   "execution_count": 13,
   "metadata": {},
   "outputs": [],
   "source": [
    "HIDDEN_SIZE = 128\n",
    "BATCH = 128\n",
    "ITER = 25\n",
    "EPOCHS = 1\n",
    "PREDS_PER_EPOCH = 100"
   ]
  },
  {
   "cell_type": "code",
   "execution_count": 14,
   "metadata": {},
   "outputs": [],
   "source": [
    "model = Sequential()\n",
    "model.add(SimpleRNN(HIDDEN_SIZE, \n",
    "                    return_sequences=False, \n",
    "                    input_shape=[SEQ_LEN, n_chars],\n",
    "                    unroll=True))\n",
    "model.add(Dense(n_chars))\n",
    "model.add(Activation('softmax'))\n",
    "model.compile(loss='categorical_crossentropy', optimizer='rmsprop')"
   ]
  },
  {
   "cell_type": "code",
   "execution_count": 15,
   "metadata": {},
   "outputs": [
    {
     "name": "stdout",
     "output_type": "stream",
     "text": [
      "==================================================\n",
      "Iteration 1\n",
      "Epoch 1/1\n",
      "142594/142594 [==============================] - 5s 36us/step - loss: 2.3484\n",
      "Generating from seed: o the dark\n",
      "o the darkeng the harerere and alice was herereand an and alice was herereand an and alice was herereand an an\n",
      "==================================================\n",
      "Iteration 2\n",
      "Epoch 1/1\n",
      "142594/142594 [==============================] - 5s 36us/step - loss: 2.0275\n",
      "Generating from seed: er the sim\n",
      "er the sime the cares in the cares in the cares in the cares in the cares in the cares in the cares in the car\n",
      "==================================================\n",
      "Iteration 3\n",
      "Epoch 1/1\n",
      "142594/142594 [==============================] - 4s 31us/step - loss: 1.9239\n",
      "Generating from seed: that she h\n",
      "that she had and of the hares and here she had and of the hares and here she had and of the hares and here she\n",
      "==================================================\n",
      "Iteration 4\n",
      "Epoch 1/1\n",
      "142594/142594 [==============================] - 4s 31us/step - loss: 1.8478\n",
      "Generating from seed: o them, an\n",
      "o them, and the gryphon the king the ding the ding the ding the ding the ding the ding the ding the ding the d\n",
      "==================================================\n",
      "Iteration 5\n",
      "Epoch 1/1\n",
      "142594/142594 [==============================] - 5s 35us/step - loss: 1.7843\n",
      "Generating from seed: y confusin\n",
      "y confusing the rabbit the mare the mare the mare the mare the mare the mare the mare the mare the mare the ma\n",
      "==================================================\n",
      "Iteration 6\n",
      "Epoch 1/1\n",
      "142594/142594 [==============================] - 5s 37us/step - loss: 1.7305\n",
      "Generating from seed: iously int\n",
      "iously inthen the was the was the was the was the was the was the was the was the was the was the was the was \n",
      "==================================================\n",
      "Iteration 7\n",
      "Epoch 1/1\n",
      "142594/142594 [==============================] - 5s 32us/step - loss: 1.6861\n",
      "Generating from seed: e mock tur\n",
      "e mock turtle to thing to thing to thing to thing to thing to thing to thing to thing to thing to thing to thi\n",
      "==================================================\n",
      "Iteration 8\n",
      "Epoch 1/1\n",
      "142594/142594 [==============================] - 5s 34us/step - loss: 1.6481\n",
      "Generating from seed: ry solemnl\n",
      "ry solemnly so some the the the the the the the the the the the the the the the the the the the the the the th\n",
      "==================================================\n",
      "Iteration 9\n",
      "Epoch 1/1\n",
      "142594/142594 [==============================] - 5s 33us/step - loss: 1.6143\n",
      "Generating from seed: dish as it\n",
      "dish as it she was said the gryphon seep as the rook to the rabbit seepping on the rook to the rabbit seepping\n",
      "==================================================\n",
      "Iteration 10\n",
      "Epoch 1/1\n",
      "142594/142594 [==============================] - 5s 33us/step - loss: 1.5857\n",
      "Generating from seed: f course,'\n",
      "f course,' said the court in a little of the the sabbit to herself a whilen the roust of the rought the mouse \n",
      "==================================================\n",
      "Iteration 11\n",
      "Epoch 1/1\n",
      "142594/142594 [==============================] - 5s 32us/step - loss: 1.5598\n",
      "Generating from seed: ot quite k\n",
      "ot quite king she was and then the had so eack the roust in a look of the some the she said the queen said the\n",
      "==================================================\n",
      "Iteration 12\n",
      "Epoch 1/1\n",
      "142594/142594 [==============================] - 4s 31us/step - loss: 1.5377\n",
      "Generating from seed: . 'i've se\n",
      ". 'i've see down and her head all the door alice souply and the dored to the down as the roush of the gryphon \n",
      "==================================================\n",
      "Iteration 13\n",
      "Epoch 1/1\n",
      "142594/142594 [==============================] - 4s 31us/step - loss: 1.5166\n",
      "Generating from seed: e again he\n",
      "e again her had the dittle the his his his his his his his his his his his his his his his his his his his his\n",
      "==================================================\n",
      "Iteration 14\n",
      "Epoch 1/1\n",
      "142594/142594 [==============================] - 5s 32us/step - loss: 1.4994\n",
      "Generating from seed: lice more \n",
      "lice more the was had been the said to herself, 'it was the said to herself, 'it was the said to herself, 'it \n",
      "==================================================\n",
      "Iteration 15\n",
      "Epoch 1/1\n",
      "142594/142594 [==============================] - 5s 35us/step - loss: 1.4827\n",
      "Generating from seed: entures.' \n",
      "entures.' 'i was a little were her ound the door the mouse fell as she heard the door the mouse fell as she he\n",
      "==================================================\n",
      "Iteration 16\n",
      "Epoch 1/1\n",
      "142594/142594 [==============================] - 5s 33us/step - loss: 1.4687\n",
      "Generating from seed: long hall,\n",
      "long hall, and the part a bround the roust of the roust of the roust of the roust of the roust of the roust of\n",
      "==================================================\n",
      "Iteration 17\n",
      "Epoch 1/1\n",
      "142594/142594 [==============================] - 5s 32us/step - loss: 1.4551\n",
      "Generating from seed: late. alic\n",
      "late. alice was the mouse was the mouse was the mouse was the mouse was the mouse was the mouse was the mouse \n",
      "==================================================\n",
      "Iteration 18\n",
      "Epoch 1/1\n",
      "142594/142594 [==============================] - 5s 32us/step - loss: 1.4417\n",
      "Generating from seed: ,' said th\n",
      ",' said the cat rause, they was a little said to herself, and they last the could not in a little said to hers\n",
      "==================================================\n",
      "Iteration 19\n",
      "Epoch 1/1\n",
      "142594/142594 [==============================] - 4s 31us/step - loss: 1.4305\n",
      "Generating from seed: ff a bit o\n",
      "ff a bit of the gryphon in a little only only and and and and and and and and and and and and and and and and \n",
      "==================================================\n",
      "Iteration 20\n",
      "Epoch 1/1\n",
      "142594/142594 [==============================] - 5s 33us/step - loss: 1.4200\n",
      "Generating from seed: rms round \n",
      "rms round of the mock turtle sabbit of the same with the mock turtle sabbit of the same with the mock turtle s\n",
      "==================================================\n",
      "Iteration 21\n",
      "Epoch 1/1\n",
      "142594/142594 [==============================] - 4s 31us/step - loss: 1.4103\n",
      "Generating from seed:  make chil\n",
      " make children so she had not and the dormouse it was a little the roust of the rood to the roust of the rood \n",
      "==================================================\n",
      "Iteration 22\n",
      "Epoch 1/1\n",
      "142594/142594 [==============================] - 4s 31us/step - loss: 1.3999\n",
      "Generating from seed: shroom, an\n",
      "shroom, and the mock turtle sabbit it was the dormouse it was the dormouse it was the dormouse it was the dorm\n",
      "==================================================\n",
      "Iteration 23\n",
      "Epoch 1/1\n",
      "142594/142594 [==============================] - 4s 31us/step - loss: 1.3921\n",
      "Generating from seed:  but the d\n",
      " but the dormouse that she was nothing the less the whote rabbit to the little good the growh, the queen the g\n",
      "==================================================\n",
      "Iteration 24\n",
      "Epoch 1/1\n",
      "142594/142594 [==============================] - 5s 34us/step - loss: 1.3842\n",
      "Generating from seed:  comes at \n",
      " comes at the same the last a treat down and the other gone the mouse with an angring the other gone the mouse\n",
      "==================================================\n",
      "Iteration 25\n",
      "Epoch 1/1\n",
      "142594/142594 [==============================] - 4s 31us/step - loss: 1.3758\n",
      "Generating from seed: n glass. '\n",
      "n glass. 'well, i she was so much all the time it was the dormouse were the dormouse were the dormouse were th\n",
      "\n"
     ]
    }
   ],
   "source": [
    "for i in range(ITER):\n",
    "    print('=' * 50)\n",
    "    print(f'Iteration {i + 1}')\n",
    "    model.fit(X, y, batch_size=BATCH, epochs=EPOCHS)\n",
    "    test_idx = np.random.randint(len(input_chars))\n",
    "    test_chars = input_chars[test_idx]\n",
    "    print(f'Generating from seed: {test_chars}')\n",
    "    print(test_chars, end='')\n",
    "    for i in range(PREDS_PER_EPOCH):\n",
    "        X_test = np.zeros((1, SEQ_LEN, n_chars))\n",
    "        for i, ch in enumerate(test_chars):\n",
    "            X_test[0, i, char2index[ch]] = 1\n",
    "        pred = model.predict(X_test, verbose=0)[0]\n",
    "        y_pred = index2char[np.argmax(pred)]\n",
    "        print(y_pred, end='')\n",
    "        test_chars = test_chars[1:] + y_pred # shift\n",
    "    print()\n",
    "print()"
   ]
  },
  {
   "cell_type": "code",
   "execution_count": null,
   "metadata": {
    "collapsed": true
   },
   "outputs": [],
   "source": []
  }
 ],
 "metadata": {
  "kernelspec": {
   "display_name": "Python 3",
   "language": "python",
   "name": "python3"
  },
  "language_info": {
   "codemirror_mode": {
    "name": "ipython",
    "version": 3
   },
   "file_extension": ".py",
   "mimetype": "text/x-python",
   "name": "python",
   "nbconvert_exporter": "python",
   "pygments_lexer": "ipython3",
   "version": "3.6.5"
  }
 },
 "nbformat": 4,
 "nbformat_minor": 1
}
