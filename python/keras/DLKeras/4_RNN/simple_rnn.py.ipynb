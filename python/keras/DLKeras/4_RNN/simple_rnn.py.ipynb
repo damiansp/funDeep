{
 "cells": [
  {
   "cell_type": "code",
   "execution_count": 3,
   "metadata": {
    "collapsed": false
   },
   "outputs": [],
   "source": [
    "import numpy as np\n",
    "from keras.layers import Activation, Dense\n",
    "from keras.layers.recurrent import SimpleRNN\n",
    "from keras.models import Sequential\n",
    "from keras.utils.vis_utils import plot_model"
   ]
  },
  {
   "cell_type": "code",
   "execution_count": 4,
   "metadata": {
    "collapsed": true
   },
   "outputs": [],
   "source": [
    "ALICE_DIR = '/Users/dsp/nltk_data/corpora/gutenberg/carroll-alice.txt'"
   ]
  },
  {
   "cell_type": "code",
   "execution_count": 6,
   "metadata": {
    "collapsed": false
   },
   "outputs": [],
   "source": [
    "with open(ALICE_DIR) as f:\n",
    "    lines = []\n",
    "    for line in f:\n",
    "        line = line.strip().lower()\n",
    "        if len(line) == 0:\n",
    "            continue\n",
    "        lines.append(line)\n",
    "    text = ' '.join(lines)"
   ]
  },
  {
   "cell_type": "code",
   "execution_count": 7,
   "metadata": {
    "collapsed": false
   },
   "outputs": [
    {
     "data": {
      "text/plain": [
       "\"[alice's adventures in wonderland by lewis carroll\""
      ]
     },
     "execution_count": 7,
     "metadata": {},
     "output_type": "execute_result"
    }
   ],
   "source": [
    "text[:50]"
   ]
  },
  {
   "cell_type": "code",
   "execution_count": 9,
   "metadata": {
    "collapsed": false
   },
   "outputs": [],
   "source": [
    "chars = set([c for c in text])\n",
    "n_chars = len(chars)\n",
    "\n",
    "char2index = {c: i for i, c in enumerate(chars)} \n",
    "# 'a': 40, 'b': 18, 'c': 10...\n",
    "\n",
    "index2char = {i: c for i, c in enumerate(chars)} \n",
    "# 0: ')', 1: 'u', 2: 'r'..."
   ]
  },
  {
   "cell_type": "code",
   "execution_count": 11,
   "metadata": {
    "collapsed": false
   },
   "outputs": [],
   "source": [
    "SEQ_LEN = 10\n",
    "STEP = 1"
   ]
  },
  {
   "cell_type": "code",
   "execution_count": 12,
   "metadata": {
    "collapsed": true
   },
   "outputs": [],
   "source": [
    "input_chars = []\n",
    "label_chars = []\n",
    "for i in range(0, len(text) - SEQ_LEN, STEP) :\n",
    "    input_chars.append(text[i:i + SEQ_LEN])\n",
    "    label_chars.append(text[i + SEQ_LEN])"
   ]
  },
  {
   "cell_type": "code",
   "execution_count": 14,
   "metadata": {
    "collapsed": false
   },
   "outputs": [
    {
     "name": "stdout",
     "output_type": "stream",
     "text": [
      "[alice's a -> d\n",
      "alice's ad -> v\n",
      "lice's adv -> e\n"
     ]
    }
   ],
   "source": [
    "print(f'{input_chars[0]} -> {label_chars[0]}')\n",
    "print(f'{input_chars[1]} -> {label_chars[1]}')\n",
    "print(f'{input_chars[2]} -> {label_chars[2]}')"
   ]
  },
  {
   "cell_type": "code",
   "execution_count": null,
   "metadata": {
    "collapsed": true
   },
   "outputs": [],
   "source": []
  }
 ],
 "metadata": {
  "kernelspec": {
   "display_name": "Python 3",
   "language": "python",
   "name": "python3"
  },
  "language_info": {
   "codemirror_mode": {
    "name": "ipython",
    "version": 3
   },
   "file_extension": ".py",
   "mimetype": "text/x-python",
   "name": "python",
   "nbconvert_exporter": "python",
   "pygments_lexer": "ipython3",
   "version": "3.6.1"
  }
 },
 "nbformat": 4,
 "nbformat_minor": 0
}
