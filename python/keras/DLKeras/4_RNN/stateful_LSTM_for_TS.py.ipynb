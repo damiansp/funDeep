{
 "cells": [
  {
   "cell_type": "code",
   "execution_count": 6,
   "metadata": {},
   "outputs": [
    {
     "name": "stderr",
     "output_type": "stream",
     "text": [
      "Using TensorFlow backend.\n",
      "/usr/local/Cellar/python/3.6.5_1/Frameworks/Python.framework/Versions/3.6/lib/python3.6/importlib/_bootstrap.py:219: RuntimeWarning: numpy.dtype size changed, may indicate binary incompatibility. Expected 96, got 88\n",
      "  return f(*args, **kwds)\n"
     ]
    }
   ],
   "source": [
    "import math\n",
    "import os\n",
    "import re\n",
    "\n",
    "import matplotlib.pyplot as plt\n",
    "import numpy as np\n",
    "from keras.layers import Dense, LSTM\n",
    "from keras.models import Sequential\n",
    "from sklearn.preprocessing import MinMaxScaler"
   ]
  },
  {
   "cell_type": "code",
   "execution_count": 7,
   "metadata": {},
   "outputs": [],
   "source": [
    "DATA_DIR = '../../data'"
   ]
  },
  {
   "cell_type": "code",
   "execution_count": 3,
   "metadata": {},
   "outputs": [],
   "source": [
    "#f1d = open(os.path.join(DATA_DIR, 'electricityConsumption.txt'), 'r')\n",
    "#data = []\n",
    "#cid = 250\n",
    "#for line in f1d:\n",
    "#    if line.startswith('\"\";\"'):\n",
    "#        continue\n",
    "#    cols = [float(re.sub(',', '.', x)) \n",
    "#            for x in line.strip().split(';')[1:]]\n",
    "#    data.append(cols[cid])\n",
    "#f1d.close()"
   ]
  },
  {
   "cell_type": "code",
   "execution_count": 16,
   "metadata": {},
   "outputs": [],
   "source": [
    "N_ENTRIES = 1000\n",
    "#plt.plot(range(N_ENTRIES), data[0:N_ENTRIES])\n",
    "#plt.ylabel('Electricity Consumption')\n",
    "#plt.xlabel('time (15 min intervals)');"
   ]
  },
  {
   "cell_type": "code",
   "execution_count": 15,
   "metadata": {},
   "outputs": [],
   "source": [
    "#np.save(\n",
    "#    os.path.join(DATA_DIR, 'electicityConsumption.npy'), np.array(data))"
   ]
  },
  {
   "cell_type": "code",
   "execution_count": 8,
   "metadata": {},
   "outputs": [],
   "source": [
    "data = np.load(os.path.join(DATA_DIR, 'electicityConsumption.npy'))\n",
    "data = data.reshape(-1, 1)\n",
    "scaler = MinMaxScaler(feature_range=(0, 1), copy=False)\n",
    "data = scaler.fit_transform(data)"
   ]
  },
  {
   "cell_type": "code",
   "execution_count": 17,
   "metadata": {},
   "outputs": [
    {
     "data": {
      "image/png": "[encoded data removed]",
      "text/plain": [
       "<Figure size 432x288 with 1 Axes>"
      ]
     },
     "metadata": {},
     "output_type": "display_data"
    }
   ],
   "source": [
    "plt.plot(data[:N_ENTRIES]);"
   ]
  },
  {
   "cell_type": "code",
   "execution_count": 50,
   "metadata": {},
   "outputs": [],
   "source": [
    "N_TIMESTEPS = 20"
   ]
  },
  {
   "cell_type": "code",
   "execution_count": 51,
   "metadata": {},
   "outputs": [],
   "source": [
    "X = np.zeros((data.shape[0], N_TIMESTEPS))\n",
    "Y = np.zeros((data.shape[0], 1))\n",
    "for i in range(len(data) - N_TIMESTEPS - 1):\n",
    "    X[i] = data[i:i + N_TIMESTEPS].T\n",
    "    Y[i] = data[i + N_TIMESTEPS + 1]\n",
    "# Reshpae X to 3 dims (samples, timesteps, features)\n",
    "X = np.expand_dims(X, axis=2)"
   ]
  },
  {
   "cell_type": "code",
   "execution_count": 52,
   "metadata": {},
   "outputs": [
    {
     "name": "stdout",
     "output_type": "stream",
     "text": [
      "(98179, 20, 1) (42077, 20, 1) (98179, 1) (42077, 1)\n"
     ]
    }
   ],
   "source": [
    "sp = int(0.7 * len(data))\n",
    "X_train, X_test, Y_train, Y_test = X[0:sp], X[sp:], Y[0:sp], Y[sp:]\n",
    "print(X_train.shape, X_test.shape, Y_train.shape, Y_test.shape)"
   ]
  },
  {
   "cell_type": "code",
   "execution_count": 53,
   "metadata": {},
   "outputs": [],
   "source": [
    "HIDDEN = 10\n",
    "BATCH = 96 # = 24 hours of 15-min intervals\n",
    "EPOCHS = 30"
   ]
  },
  {
   "cell_type": "code",
   "execution_count": 54,
   "metadata": {},
   "outputs": [],
   "source": [
    "# Stateless model\n",
    "stateless_mod = Sequential()\n",
    "stateless_mod.add(LSTM(\n",
    "    HIDDEN, input_shape=(N_TIMESTEPS, 1), return_sequences=False))\n",
    "stateless_mod.add(Dense(1))"
   ]
  },
  {
   "cell_type": "code",
   "execution_count": 55,
   "metadata": {},
   "outputs": [],
   "source": [
    "# Stateful\n",
    "stateful_mod = Sequential()\n",
    "stateful_mod.add(LSTM(HIDDEN, \n",
    "                      stateful=True, \n",
    "                      batch_input_shape=(BATCH, N_TIMESTEPS, 1), \n",
    "                      return_sequences=False))\n",
    "stateful_mod.add(Dense(1))"
   ]
  },
  {
   "cell_type": "code",
   "execution_count": 56,
   "metadata": {},
   "outputs": [],
   "source": [
    "stateless_mod.compile(loss='mse', optimizer='adam', metrics=['mse'])\n",
    "stateful_mod.compile(loss='mse', optimizer='adam', metrics=['mse'])"
   ]
  },
  {
   "cell_type": "code",
   "execution_count": 57,
   "metadata": {},
   "outputs": [
    {
     "name": "stdout",
     "output_type": "stream",
     "text": [
      "Train on 98179 samples, validate on 42077 samples\n",
      "Epoch 1/30\n",
      "98179/98179 [==============================] - 20s 203us/step - loss: 0.0072 - mean_squared_error: 0.0072 - val_loss: 0.0039 - val_mean_squared_error: 0.0039\n",
      "Epoch 2/30\n",
      "98179/98179 [==============================] - 19s 195us/step - loss: 0.0046 - mean_squared_error: 0.0046 - val_loss: 0.0037 - val_mean_squared_error: 0.0037\n",
      "Epoch 3/30\n",
      "98179/98179 [==============================] - 20s 200us/step - loss: 0.0044 - mean_squared_error: 0.0044 - val_loss: 0.0037 - val_mean_squared_error: 0.0037\n",
      "Epoch 4/30\n",
      "98179/98179 [==============================] - 19s 196us/step - loss: 0.0043 - mean_squared_error: 0.0043 - val_loss: 0.0037 - val_mean_squared_error: 0.0037\n",
      "Epoch 5/30\n",
      "98179/98179 [==============================] - 19s 198us/step - loss: 0.0042 - mean_squared_error: 0.0042 - val_loss: 0.0036 - val_mean_squared_error: 0.0036\n",
      "Epoch 6/30\n",
      "98179/98179 [==============================] - 19s 191us/step - loss: 0.0042 - mean_squared_error: 0.0042 - val_loss: 0.0037 - val_mean_squared_error: 0.0037\n",
      "Epoch 7/30\n",
      "98179/98179 [==============================] - 19s 196us/step - loss: 0.0041 - mean_squared_error: 0.0041 - val_loss: 0.0038 - val_mean_squared_error: 0.0038\n",
      "Epoch 8/30\n",
      "98179/98179 [==============================] - 19s 193us/step - loss: 0.0041 - mean_squared_error: 0.0041 - val_loss: 0.0038 - val_mean_squared_error: 0.0038\n",
      "Epoch 9/30\n",
      "98179/98179 [==============================] - 19s 197us/step - loss: 0.0041 - mean_squared_error: 0.0041 - val_loss: 0.0038 - val_mean_squared_error: 0.0038\n",
      "Epoch 10/30\n",
      "98179/98179 [==============================] - 19s 193us/step - loss: 0.0041 - mean_squared_error: 0.0041 - val_loss: 0.0039 - val_mean_squared_error: 0.0039\n",
      "Epoch 11/30\n",
      "98179/98179 [==============================] - 19s 198us/step - loss: 0.0040 - mean_squared_error: 0.0040 - val_loss: 0.0039 - val_mean_squared_error: 0.0039\n",
      "Epoch 12/30\n",
      "98179/98179 [==============================] - 19s 194us/step - loss: 0.0040 - mean_squared_error: 0.0040 - val_loss: 0.0039 - val_mean_squared_error: 0.0039\n",
      "Epoch 13/30\n",
      "98179/98179 [==============================] - 20s 199us/step - loss: 0.0040 - mean_squared_error: 0.0040 - val_loss: 0.0038 - val_mean_squared_error: 0.0038\n",
      "Epoch 14/30\n",
      "98179/98179 [==============================] - 19s 195us/step - loss: 0.0040 - mean_squared_error: 0.0040 - val_loss: 0.0038 - val_mean_squared_error: 0.0038\n",
      "Epoch 15/30\n",
      "98179/98179 [==============================] - 19s 197us/step - loss: 0.0040 - mean_squared_error: 0.0040 - val_loss: 0.0037 - val_mean_squared_error: 0.0037\n",
      "Epoch 16/30\n",
      "98179/98179 [==============================] - 19s 198us/step - loss: 0.0039 - mean_squared_error: 0.0039 - val_loss: 0.0037 - val_mean_squared_error: 0.0037\n",
      "Epoch 17/30\n",
      "98179/98179 [==============================] - 19s 198us/step - loss: 0.0039 - mean_squared_error: 0.0039 - val_loss: 0.0036 - val_mean_squared_error: 0.0036\n",
      "Epoch 18/30\n",
      "98179/98179 [==============================] - 19s 192us/step - loss: 0.0039 - mean_squared_error: 0.0039 - val_loss: 0.0036 - val_mean_squared_error: 0.0036\n",
      "Epoch 19/30\n",
      "98179/98179 [==============================] - 20s 200us/step - loss: 0.0039 - mean_squared_error: 0.0039 - val_loss: 0.0037 - val_mean_squared_error: 0.0037\n",
      "Epoch 20/30\n",
      "98179/98179 [==============================] - 20s 201us/step - loss: 0.0039 - mean_squared_error: 0.0039 - val_loss: 0.0039 - val_mean_squared_error: 0.0039\n",
      "Epoch 21/30\n",
      "98179/98179 [==============================] - 19s 197us/step - loss: 0.0038 - mean_squared_error: 0.0038 - val_loss: 0.0036 - val_mean_squared_error: 0.0036\n",
      "Epoch 22/30\n",
      "98179/98179 [==============================] - 19s 198us/step - loss: 0.0038 - mean_squared_error: 0.0038 - val_loss: 0.0038 - val_mean_squared_error: 0.0038\n",
      "Epoch 23/30\n",
      "98179/98179 [==============================] - 19s 195us/step - loss: 0.0037 - mean_squared_error: 0.0037 - val_loss: 0.0038 - val_mean_squared_error: 0.0038\n",
      "Epoch 24/30\n",
      "98179/98179 [==============================] - 20s 202us/step - loss: 0.0037 - mean_squared_error: 0.0037 - val_loss: 0.0039 - val_mean_squared_error: 0.0039\n",
      "Epoch 25/30\n",
      "98179/98179 [==============================] - 19s 198us/step - loss: 0.0037 - mean_squared_error: 0.0037 - val_loss: 0.0039 - val_mean_squared_error: 0.0039\n",
      "Epoch 26/30\n",
      "98179/98179 [==============================] - 20s 200us/step - loss: 0.0037 - mean_squared_error: 0.0037 - val_loss: 0.0040 - val_mean_squared_error: 0.0040\n",
      "Epoch 27/30\n",
      "98179/98179 [==============================] - 20s 199us/step - loss: 0.0037 - mean_squared_error: 0.0037 - val_loss: 0.0040 - val_mean_squared_error: 0.0040\n",
      "Epoch 28/30\n",
      "98179/98179 [==============================] - 20s 202us/step - loss: 0.0036 - mean_squared_error: 0.0036 - val_loss: 0.0041 - val_mean_squared_error: 0.0041\n",
      "Epoch 29/30\n",
      "98179/98179 [==============================] - 20s 199us/step - loss: 0.0036 - mean_squared_error: 0.0036 - val_loss: 0.0040 - val_mean_squared_error: 0.0040\n",
      "Epoch 30/30\n",
      "98179/98179 [==============================] - 20s 201us/step - loss: 0.0036 - mean_squared_error: 0.0036 - val_loss: 0.0040 - val_mean_squared_error: 0.0040\n"
     ]
    }
   ],
   "source": [
    "stateless_history = stateless_mod.fit(X_train, \n",
    "                                      Y_train, \n",
    "                                      epochs=EPOCHS, \n",
    "                                      batch_size=BATCH, \n",
    "                                      validation_data=(X_test, Y_test), \n",
    "                                      shuffle=False)"
   ]
  },
  {
   "cell_type": "code",
   "execution_count": 58,
   "metadata": {},
   "outputs": [],
   "source": [
    "def plot_performance(history):\n",
    "    plt.plot(history.history['loss'], 'k-', label='train')\n",
    "    plt.plot(history.history['val_loss'], 'r-', label='valid')\n",
    "    plt.xlabel('Epochs')\n",
    "    plt.ylabel('Loss (MSE)')\n",
    "    plt.legend();"
   ]
  },
  {
   "cell_type": "code",
   "execution_count": 59,
   "metadata": {},
   "outputs": [
    {
     "data": {
      "image/png": "[encoded data removed]",
      "text/plain": [
       "<Figure size 432x288 with 1 Axes>"
      ]
     },
     "metadata": {},
     "output_type": "display_data"
    }
   ],
   "source": [
    "plot_performance(stateless_history)"
   ]
  },
  {
   "cell_type": "code",
   "execution_count": 60,
   "metadata": {},
   "outputs": [
    {
     "name": "stdout",
     "output_type": "stream",
     "text": [
      "(98112, 20, 1) (42048, 20, 1) (98112, 1) (42048, 1)\n"
     ]
    }
   ],
   "source": [
    "# For stateful, training and test data must be mult of BATCH\n",
    "train_size = (X_train.shape[0] // BATCH) * BATCH\n",
    "test_size  = (X_test.shape[0]  // BATCH) * BATCH\n",
    "X_train, Y_train = X_train[0:train_size], Y_train[0:train_size]\n",
    "X_test,  Y_test  = X_test[0:test_size],   Y_test[0:test_size]\n",
    "print(X_train.shape, X_test.shape, Y_train.shape, Y_test.shape)"
   ]
  },
  {
   "cell_type": "code",
   "execution_count": 61,
   "metadata": {},
   "outputs": [],
   "source": [
    "class History:\n",
    "    def __init__(self):\n",
    "        self.history = {'loss': [], 'val_loss': []}\n",
    "    \n",
    "    def update(self, history):\n",
    "        self.history['loss'] += history.history['loss']\n",
    "        self.history['val_loss'] += history.history['val_loss']"
   ]
  },
  {
   "cell_type": "code",
   "execution_count": 62,
   "metadata": {},
   "outputs": [
    {
     "name": "stdout",
     "output_type": "stream",
     "text": [
      "Epoch 1/30\n",
      "Train on 98112 samples, validate on 42048 samples\n",
      "Epoch 1/1\n",
      "98112/98112 [==============================] - 12s 123us/step - loss: 0.0221 - mean_squared_error: 0.0221 - val_loss: 0.0058 - val_mean_squared_error: 0.0058\n",
      "Epoch 2/30\n",
      "Train on 98112 samples, validate on 42048 samples\n",
      "Epoch 1/1\n",
      "98112/98112 [==============================] - 11s 115us/step - loss: 0.0056 - mean_squared_error: 0.0056 - val_loss: 0.0040 - val_mean_squared_error: 0.0040\n",
      "Epoch 3/30\n",
      "Train on 98112 samples, validate on 42048 samples\n",
      "Epoch 1/1\n",
      "98112/98112 [==============================] - 12s 119us/step - loss: 0.0048 - mean_squared_error: 0.0048 - val_loss: 0.0037 - val_mean_squared_error: 0.0037\n",
      "Epoch 4/30\n",
      "Train on 98112 samples, validate on 42048 samples\n",
      "Epoch 1/1\n",
      "98112/98112 [==============================] - 11s 117us/step - loss: 0.0046 - mean_squared_error: 0.0046 - val_loss: 0.0036 - val_mean_squared_error: 0.0036\n",
      "Epoch 5/30\n",
      "Train on 98112 samples, validate on 42048 samples\n",
      "Epoch 1/1\n",
      "98112/98112 [==============================] - 11s 116us/step - loss: 0.0045 - mean_squared_error: 0.0045 - val_loss: 0.0036 - val_mean_squared_error: 0.0036\n",
      "Epoch 6/30\n",
      "Train on 98112 samples, validate on 42048 samples\n",
      "Epoch 1/1\n",
      "98112/98112 [==============================] - 12s 118us/step - loss: 0.0044 - mean_squared_error: 0.0044 - val_loss: 0.0036 - val_mean_squared_error: 0.0036\n",
      "Epoch 7/30\n",
      "Train on 98112 samples, validate on 42048 samples\n",
      "Epoch 1/1\n",
      "98112/98112 [==============================] - 11s 116us/step - loss: 0.0044 - mean_squared_error: 0.0044 - val_loss: 0.0036 - val_mean_squared_error: 0.0036\n",
      "Epoch 8/30\n",
      "Train on 98112 samples, validate on 42048 samples\n",
      "Epoch 1/1\n",
      "98112/98112 [==============================] - 11s 117us/step - loss: 0.0044 - mean_squared_error: 0.0044 - val_loss: 0.0037 - val_mean_squared_error: 0.0037\n",
      "Epoch 9/30\n",
      "Train on 98112 samples, validate on 42048 samples\n",
      "Epoch 1/1\n",
      "98112/98112 [==============================] - 12s 121us/step - loss: 0.0043 - mean_squared_error: 0.0043 - val_loss: 0.0037 - val_mean_squared_error: 0.0037\n",
      "Epoch 10/30\n",
      "Train on 98112 samples, validate on 42048 samples\n",
      "Epoch 1/1\n",
      "98112/98112 [==============================] - 14s 147us/step - loss: 0.0042 - mean_squared_error: 0.0042 - val_loss: 0.0037 - val_mean_squared_error: 0.0037\n",
      "Epoch 11/30\n",
      "Train on 98112 samples, validate on 42048 samples\n",
      "Epoch 1/1\n",
      "98112/98112 [==============================] - 13s 128us/step - loss: 0.0041 - mean_squared_error: 0.0041 - val_loss: 0.0034 - val_mean_squared_error: 0.0034\n",
      "Epoch 12/30\n",
      "Train on 98112 samples, validate on 42048 samples\n",
      "Epoch 1/1\n",
      "98112/98112 [==============================] - 12s 121us/step - loss: 0.0039 - mean_squared_error: 0.0039 - val_loss: 0.0034 - val_mean_squared_error: 0.0034\n",
      "Epoch 13/30\n",
      "Train on 98112 samples, validate on 42048 samples\n",
      "Epoch 1/1\n",
      "98112/98112 [==============================] - 12s 120us/step - loss: 0.0038 - mean_squared_error: 0.0038 - val_loss: 0.0033 - val_mean_squared_error: 0.0033\n",
      "Epoch 14/30\n",
      "Train on 98112 samples, validate on 42048 samples\n",
      "Epoch 1/1\n",
      "98112/98112 [==============================] - 12s 120us/step - loss: 0.0038 - mean_squared_error: 0.0038 - val_loss: 0.0033 - val_mean_squared_error: 0.0033\n",
      "Epoch 15/30\n",
      "Train on 98112 samples, validate on 42048 samples\n",
      "Epoch 1/1\n",
      "98112/98112 [==============================] - 12s 119us/step - loss: 0.0037 - mean_squared_error: 0.0037 - val_loss: 0.0033 - val_mean_squared_error: 0.0033\n",
      "Epoch 16/30\n",
      "Train on 98112 samples, validate on 42048 samples\n",
      "Epoch 1/1\n",
      "98112/98112 [==============================] - 12s 122us/step - loss: 0.0037 - mean_squared_error: 0.0037 - val_loss: 0.0033 - val_mean_squared_error: 0.0033\n",
      "Epoch 17/30\n",
      "Train on 98112 samples, validate on 42048 samples\n",
      "Epoch 1/1\n",
      "98112/98112 [==============================] - 12s 120us/step - loss: 0.0037 - mean_squared_error: 0.0037 - val_loss: 0.0033 - val_mean_squared_error: 0.0033\n",
      "Epoch 18/30\n",
      "Train on 98112 samples, validate on 42048 samples\n",
      "Epoch 1/1\n",
      "98112/98112 [==============================] - 11s 117us/step - loss: 0.0037 - mean_squared_error: 0.0037 - val_loss: 0.0033 - val_mean_squared_error: 0.0033\n",
      "Epoch 19/30\n",
      "Train on 98112 samples, validate on 42048 samples\n",
      "Epoch 1/1\n",
      "98112/98112 [==============================] - 12s 121us/step - loss: 0.0037 - mean_squared_error: 0.0037 - val_loss: 0.0033 - val_mean_squared_error: 0.0033\n",
      "Epoch 20/30\n",
      "Train on 98112 samples, validate on 42048 samples\n",
      "Epoch 1/1\n",
      "98112/98112 [==============================] - 12s 119us/step - loss: 0.0037 - mean_squared_error: 0.0037 - val_loss: 0.0033 - val_mean_squared_error: 0.0033\n",
      "Epoch 21/30\n",
      "Train on 98112 samples, validate on 42048 samples\n",
      "Epoch 1/1\n",
      "98112/98112 [==============================] - 11s 117us/step - loss: 0.0037 - mean_squared_error: 0.0037 - val_loss: 0.0032 - val_mean_squared_error: 0.0032\n",
      "Epoch 22/30\n",
      "Train on 98112 samples, validate on 42048 samples\n",
      "Epoch 1/1\n",
      "98112/98112 [==============================] - 12s 121us/step - loss: 0.0036 - mean_squared_error: 0.0036 - val_loss: 0.0032 - val_mean_squared_error: 0.0032\n",
      "Epoch 23/30\n",
      "Train on 98112 samples, validate on 42048 samples\n",
      "Epoch 1/1\n",
      "98112/98112 [==============================] - 12s 125us/step - loss: 0.0036 - mean_squared_error: 0.0036 - val_loss: 0.0032 - val_mean_squared_error: 0.0032\n",
      "Epoch 24/30\n",
      "Train on 98112 samples, validate on 42048 samples\n",
      "Epoch 1/1\n",
      "98112/98112 [==============================] - 12s 121us/step - loss: 0.0036 - mean_squared_error: 0.0036 - val_loss: 0.0032 - val_mean_squared_error: 0.0032\n",
      "Epoch 25/30\n",
      "Train on 98112 samples, validate on 42048 samples\n",
      "Epoch 1/1\n",
      "98112/98112 [==============================] - 12s 121us/step - loss: 0.0036 - mean_squared_error: 0.0036 - val_loss: 0.0032 - val_mean_squared_error: 0.0032\n",
      "Epoch 26/30\n",
      "Train on 98112 samples, validate on 42048 samples\n",
      "Epoch 1/1\n",
      "98112/98112 [==============================] - 12s 127us/step - loss: 0.0036 - mean_squared_error: 0.0036 - val_loss: 0.0032 - val_mean_squared_error: 0.0032\n",
      "Epoch 27/30\n",
      "Train on 98112 samples, validate on 42048 samples\n",
      "Epoch 1/1\n",
      "98112/98112 [==============================] - 12s 119us/step - loss: 0.0036 - mean_squared_error: 0.0036 - val_loss: 0.0032 - val_mean_squared_error: 0.0032\n",
      "Epoch 28/30\n",
      "Train on 98112 samples, validate on 42048 samples\n",
      "Epoch 1/1\n",
      "98112/98112 [==============================] - 12s 120us/step - loss: 0.0036 - mean_squared_error: 0.0036 - val_loss: 0.0032 - val_mean_squared_error: 0.0032\n",
      "Epoch 29/30\n",
      "Train on 98112 samples, validate on 42048 samples\n",
      "Epoch 1/1\n",
      "98112/98112 [==============================] - 12s 122us/step - loss: 0.0036 - mean_squared_error: 0.0036 - val_loss: 0.0032 - val_mean_squared_error: 0.0032\n",
      "Epoch 30/30\n",
      "Train on 98112 samples, validate on 42048 samples\n",
      "Epoch 1/1\n",
      "98112/98112 [==============================] - 12s 121us/step - loss: 0.0036 - mean_squared_error: 0.0036 - val_loss: 0.0032 - val_mean_squared_error: 0.0032\n"
     ]
    }
   ],
   "source": [
    "stateful_history = History()\n",
    "\n",
    "for i in range(EPOCHS):\n",
    "    print(f'Epoch {i + 1}/{EPOCHS}')\n",
    "    history = stateful_mod.fit(X_train, \n",
    "                               Y_train, \n",
    "                               batch_size=BATCH, \n",
    "                               epochs=1, \n",
    "                               validation_data=(X_test, Y_test), \n",
    "                               shuffle=False)\n",
    "    stateful_history.update(history)\n",
    "    stateful_mod.reset_states()"
   ]
  },
  {
   "cell_type": "code",
   "execution_count": 66,
   "metadata": {},
   "outputs": [
    {
     "data": {
      "image/png": "[encoded data removed]",
      "text/plain": [
       "<Figure size 432x288 with 1 Axes>"
      ]
     },
     "metadata": {},
     "output_type": "display_data"
    }
   ],
   "source": [
    "plot_performance(stateful_history)\n",
    "plt.ylim([0.003, 0.007]);"
   ]
  },
  {
   "cell_type": "code",
   "execution_count": null,
   "metadata": {},
   "outputs": [],
   "source": []
  }
 ],
 "metadata": {
  "kernelspec": {
   "display_name": "Python 3",
   "language": "python",
   "name": "python3"
  },
  "language_info": {
   "codemirror_mode": {
    "name": "ipython",
    "version": 3
   },
   "file_extension": ".py",
   "mimetype": "text/x-python",
   "name": "python",
   "nbconvert_exporter": "python",
   "pygments_lexer": "ipython3",
   "version": "3.6.5"
  }
 },
 "nbformat": 4,
 "nbformat_minor": 2
}
