{
 "cells": [
  {
   "cell_type": "code",
   "execution_count": 1,
   "metadata": {},
   "outputs": [
    {
     "name": "stderr",
     "output_type": "stream",
     "text": [
      "Using TensorFlow backend.\n",
      "/usr/local/Cellar/python/3.6.5_1/Frameworks/Python.framework/Versions/3.6/lib/python3.6/importlib/_bootstrap.py:219: RuntimeWarning: numpy.dtype size changed, may indicate binary incompatibility. Expected 96, got 88\n",
      "  return f(*args, **kwds)\n"
     ]
    }
   ],
   "source": [
    "import collections\n",
    "import os\n",
    "\n",
    "import matplotlib.pyplot as plt\n",
    "import nltk\n",
    "import numpy as np\n",
    "from keras.layers.core import Activation, Dense, Dropout, SpatialDropout1D\n",
    "from keras.layers.embeddings import Embedding\n",
    "from keras.layers.recurrent import LSTM\n",
    "from keras.models import Sequential\n",
    "from keras.preprocessing import sequence\n",
    "from sklearn.model_selection import train_test_split"
   ]
  },
  {
   "cell_type": "markdown",
   "metadata": {},
   "source": [
    "# Exploration"
   ]
  },
  {
   "cell_type": "code",
   "execution_count": 2,
   "metadata": {},
   "outputs": [],
   "source": [
    "DATA_DIR = '../../data'"
   ]
  },
  {
   "cell_type": "code",
   "execution_count": 3,
   "metadata": {},
   "outputs": [],
   "source": [
    "maxlen = 0\n",
    "word_freqs = collections.Counter()\n",
    "n_recs = 0\n",
    "ftrain = open(os.path.join(DATA_DIR, 'umich-sentiment-train.txt'), 'r')\n",
    "for line in ftrain:\n",
    "    label, sentence = line.strip().split('\\t')\n",
    "    words = nltk.word_tokenize(sentence.lower())\n",
    "    if len(words) > maxlen:\n",
    "        maxlen = len(words)\n",
    "    for word in words:\n",
    "        word_freqs[word] += 1\n",
    "    n_recs += 1\n",
    "ftrain.close()"
   ]
  },
  {
   "cell_type": "code",
   "execution_count": 4,
   "metadata": {},
   "outputs": [
    {
     "name": "stdout",
     "output_type": "stream",
     "text": [
      "42\n",
      "2328\n"
     ]
    }
   ],
   "source": [
    "print(maxlen)\n",
    "print(len(word_freqs))"
   ]
  },
  {
   "cell_type": "code",
   "execution_count": 5,
   "metadata": {},
   "outputs": [],
   "source": [
    "MAX_FEATURES = 2000\n",
    "MAX_SENTENCE_LEN = 40"
   ]
  },
  {
   "cell_type": "code",
   "execution_count": 6,
   "metadata": {},
   "outputs": [],
   "source": [
    "vocab_size = min(MAX_FEATURES, len(word_freqs)) + 2\n",
    "word2index = {x[0]: i + 2 \n",
    "              for i, x in enumerate(word_freqs.most_common(MAX_FEATURES))}\n",
    "word2index['PAD'] = 0\n",
    "word2index['UNK'] = 1\n",
    "index2word = {v: k for k, v in word2index.items()}"
   ]
  },
  {
   "cell_type": "code",
   "execution_count": 7,
   "metadata": {},
   "outputs": [],
   "source": [
    "X = np.empty((n_recs, ), dtype=list)\n",
    "y = np.zeros((n_recs,))\n",
    "i = 0"
   ]
  },
  {
   "cell_type": "code",
   "execution_count": 8,
   "metadata": {},
   "outputs": [],
   "source": [
    "ftrain = open(os.path.join(DATA_DIR, 'umich-sentiment-train.txt'), 'r')\n",
    "for line in ftrain:\n",
    "    label, sentence = line.strip().split('\\t')\n",
    "    words = nltk.word_tokenize(sentence.lower())\n",
    "    seqs = []\n",
    "    for word in words:\n",
    "        if word in word2index:\n",
    "            seqs.append(word2index[word])\n",
    "        else:\n",
    "            seqs.append(word2index['UNK'])\n",
    "    X[i] = seqs\n",
    "    y[i] = int(label)\n",
    "    i += 1\n",
    "ftrain.close()\n",
    "\n",
    "X = sequence.pad_sequences(X, maxlen=MAX_SENTENCE_LEN)"
   ]
  },
  {
   "cell_type": "code",
   "execution_count": 9,
   "metadata": {},
   "outputs": [
    {
     "data": {
      "text/plain": [
       "array([  0,   0,   0,   0,   0,   0,   0,   0,   0,   0,   0,   0,   0,\n",
       "         0,   0,   0,   0,   0,   0,   0,   0,   0,   0,   0,   0,   0,\n",
       "         0,   0,   0,   0,   0,   5,  10,   9,  12, 101,  17,  48,  22,\n",
       "         4], dtype=int32)"
      ]
     },
     "execution_count": 9,
     "metadata": {},
     "output_type": "execute_result"
    }
   ],
   "source": [
    "X[0]"
   ]
  },
  {
   "cell_type": "code",
   "execution_count": 10,
   "metadata": {},
   "outputs": [],
   "source": [
    "X_train, X_test, y_train, y_test = train_test_split(\n",
    "    X, y, test_size=0.2, random_state=11)"
   ]
  },
  {
   "cell_type": "code",
   "execution_count": 12,
   "metadata": {},
   "outputs": [],
   "source": [
    "EMBEDDING_SIZE = 128\n",
    "N_HIDDEN = 64\n",
    "BATCH = 32\n",
    "EPOCHS = 10\n",
    "DROPOUT = 0.2"
   ]
  },
  {
   "cell_type": "code",
   "execution_count": 15,
   "metadata": {},
   "outputs": [],
   "source": [
    "mod = Sequential()\n",
    "mod.add(\n",
    "    Embedding(vocab_size, EMBEDDING_SIZE, input_length=MAX_SENTENCE_LEN))\n",
    "mod.add(SpatialDropout1D(DROPOUT))\n",
    "mod.add(LSTM(N_HIDDEN, dropout=DROPOUT, recurrent_dropout=DROPOUT))\n",
    "mod.add(Dense(1))\n",
    "mod.add(Activation('sigmoid'))\n",
    "mod.compile(\n",
    "    loss='binary_crossentropy', optimizer='adam', metrics=['accuracy'])"
   ]
  },
  {
   "cell_type": "code",
   "execution_count": 16,
   "metadata": {},
   "outputs": [
    {
     "name": "stdout",
     "output_type": "stream",
     "text": [
      "Train on 5668 samples, validate on 1418 samples\n",
      "Epoch 1/10\n",
      "5668/5668 [==============================] - 10s 2ms/step - loss: 0.2557 - acc: 0.8911 - val_loss: 0.0558 - val_acc: 0.9838\n",
      "Epoch 2/10\n",
      "5668/5668 [==============================] - 8s 1ms/step - loss: 0.0252 - acc: 0.9931 - val_loss: 0.0471 - val_acc: 0.9838\n",
      "Epoch 3/10\n",
      "5668/5668 [==============================] - 9s 2ms/step - loss: 0.0114 - acc: 0.9968 - val_loss: 0.0256 - val_acc: 0.9922\n",
      "Epoch 4/10\n",
      "5668/5668 [==============================] - 9s 2ms/step - loss: 0.0079 - acc: 0.9979 - val_loss: 0.0287 - val_acc: 0.9894\n",
      "Epoch 5/10\n",
      "5668/5668 [==============================] - 9s 2ms/step - loss: 0.0048 - acc: 0.9988 - val_loss: 0.0316 - val_acc: 0.9929\n",
      "Epoch 6/10\n",
      "5668/5668 [==============================] - 9s 2ms/step - loss: 0.0031 - acc: 0.9995 - val_loss: 0.0296 - val_acc: 0.9915\n",
      "Epoch 7/10\n",
      "5668/5668 [==============================] - 9s 2ms/step - loss: 0.0013 - acc: 0.9998 - val_loss: 0.0316 - val_acc: 0.9937\n",
      "Epoch 8/10\n",
      "5668/5668 [==============================] - 9s 2ms/step - loss: 8.7262e-04 - acc: 0.9996 - val_loss: 0.0342 - val_acc: 0.9908\n",
      "Epoch 9/10\n",
      "5668/5668 [==============================] - 9s 2ms/step - loss: 9.3009e-04 - acc: 0.9996 - val_loss: 0.0358 - val_acc: 0.9944\n",
      "Epoch 10/10\n",
      "5668/5668 [==============================] - 9s 2ms/step - loss: 6.6248e-04 - acc: 0.9996 - val_loss: 0.0361 - val_acc: 0.9944\n"
     ]
    }
   ],
   "source": [
    "history = mod.fit(X_train, \n",
    "                  y_train, \n",
    "                  batch_size=BATCH, \n",
    "                  epochs=EPOCHS, \n",
    "                  validation_data=(X_test, y_test))"
   ]
  },
  {
   "cell_type": "code",
   "execution_count": 17,
   "metadata": {},
   "outputs": [
    {
     "data": {
      "image/png": "[encoded data removed]",
      "text/plain": [
       "<Figure size 432x288 with 2 Axes>"
      ]
     },
     "metadata": {},
     "output_type": "display_data"
    }
   ],
   "source": [
    "plt.subplot(211)\n",
    "plt.title('Accuracy')\n",
    "plt.plot(history.history['acc'], label='Train')\n",
    "plt.plot(history.history['val_acc'], label='Validation')\n",
    "plt.legend()\n",
    "\n",
    "plt.subplot(212)\n",
    "plt.title('Loss')\n",
    "plt.plot(history.history['loss'], label='Train')\n",
    "plt.plot(history.history['val_loss'], label='Validation')\n",
    "plt.legend()\n",
    "\n",
    "plt.tight_layout()"
   ]
  },
  {
   "cell_type": "code",
   "execution_count": 20,
   "metadata": {},
   "outputs": [
    {
     "name": "stdout",
     "output_type": "stream",
     "text": [
      "1418/1418 [==============================] - 0s 244us/step\n",
      "Test score: 0.036, accuracy: 0.994\n",
      "1\t1\twe saw mission impossible 3 , which was rather awesome .\n",
      "0\t0\ti hate harry potter , it 's retarted , gay and stupid and there 's only one black guy ...\n",
      "0\t0\tmy dad 's being stupid about brokeback mountain ...\n",
      "0\t0\twe went to see brokeback UNK was kinda horrible lol ...\n",
      "0\t0\ti think i hate harry potter because it outshines much better reading material out there and the movies are just plain stupid to begin with .\n"
     ]
    }
   ],
   "source": [
    "score, acc = mod.evaluate(X_test, y_test, batch_size=BATCH)\n",
    "print('Test score: %.3f, accuracy: %.3f' % (score, acc))\n",
    "\n",
    "for _ in range(5):\n",
    "    idx = np.random.randint(len(X_test))\n",
    "    x_test = X_test[idx].reshape(1, 40)\n",
    "    y_label = y_test[idx]\n",
    "    y_pred = mod.predict(x_test)[0][0]\n",
    "    sent = ' '.join([index2word[x] for x in x_test[0].tolist() if x != 0])\n",
    "    print('%.0f\\t%d\\t%s' % (y_pred, y_label, sent))"
   ]
  },
  {
   "cell_type": "code",
   "execution_count": null,
   "metadata": {},
   "outputs": [],
   "source": []
  }
 ],
 "metadata": {
  "kernelspec": {
   "display_name": "Python 3",
   "language": "python",
   "name": "python3"
  },
  "language_info": {
   "codemirror_mode": {
    "name": "ipython",
    "version": 3
   },
   "file_extension": ".py",
   "mimetype": "text/x-python",
   "name": "python",
   "nbconvert_exporter": "python",
   "pygments_lexer": "ipython3",
   "version": "3.6.5"
  }
 },
 "nbformat": 4,
 "nbformat_minor": 2
}
