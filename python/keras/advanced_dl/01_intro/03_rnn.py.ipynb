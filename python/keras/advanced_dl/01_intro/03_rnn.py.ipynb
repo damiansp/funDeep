{
 "cells": [
  {
   "cell_type": "code",
   "execution_count": 1,
   "metadata": {},
   "outputs": [
    {
     "name": "stderr",
     "output_type": "stream",
     "text": [
      "Using TensorFlow backend.\n"
     ]
    }
   ],
   "source": [
    "from   keras.datasets import mnist\n",
    "from   keras.layers import Activation, Dense, SimpleRNN\n",
    "from   keras.models import Sequential\n",
    "from   keras.utils import plot_model, to_categorical\n",
    "import numpy as np"
   ]
  },
  {
   "cell_type": "code",
   "execution_count": 2,
   "metadata": {},
   "outputs": [],
   "source": [
    "(X_train, y_train), (X_test, y_test) = mnist.load_data()"
   ]
  },
  {
   "cell_type": "code",
   "execution_count": 3,
   "metadata": {},
   "outputs": [
    {
     "data": {
      "text/plain": [
       "10"
      ]
     },
     "execution_count": 3,
     "metadata": {},
     "output_type": "execute_result"
    }
   ],
   "source": [
    "n_labels = len(np.unique(y_train))\n",
    "n_labels"
   ]
  },
  {
   "cell_type": "code",
   "execution_count": 4,
   "metadata": {},
   "outputs": [],
   "source": [
    "y_train = to_categorical(y_train)\n",
    "y_test  = to_categorical(y_test)"
   ]
  },
  {
   "cell_type": "code",
   "execution_count": 5,
   "metadata": {},
   "outputs": [],
   "source": [
    "image_size = X_train.shape[1]\n",
    "X_train = np.reshape(X_train, [-1, image_size, image_size])\n",
    "X_test  = np.reshape(X_test,  [-1, image_size, image_size])\n",
    "X_train = X_train.astype('float32') / 255\n",
    "X_test  = X_test.astype('float32')  / 255"
   ]
  },
  {
   "cell_type": "code",
   "execution_count": 14,
   "metadata": {},
   "outputs": [
    {
     "data": {
      "text/plain": [
       "28"
      ]
     },
     "execution_count": 14,
     "metadata": {},
     "output_type": "execute_result"
    }
   ],
   "source": [
    "image_size"
   ]
  },
  {
   "cell_type": "code",
   "execution_count": 6,
   "metadata": {},
   "outputs": [],
   "source": [
    "input_shape = (image_size, image_size) # (timesteps, input_dim)\n",
    "batch_size = 128\n",
    "units = 256\n",
    "dropout = 0.2"
   ]
  },
  {
   "cell_type": "code",
   "execution_count": 8,
   "metadata": {},
   "outputs": [
    {
     "name": "stdout",
     "output_type": "stream",
     "text": [
      "_________________________________________________________________\n",
      "Layer (type)                 Output Shape              Param #   \n",
      "=================================================================\n",
      "simple_rnn_2 (SimpleRNN)     (None, 256)               72960     \n",
      "_________________________________________________________________\n",
      "dense_2 (Dense)              (None, 10)                2570      \n",
      "_________________________________________________________________\n",
      "activation_2 (Activation)    (None, 10)                0         \n",
      "=================================================================\n",
      "Total params: 75,530\n",
      "Trainable params: 75,530\n",
      "Non-trainable params: 0\n",
      "_________________________________________________________________\n"
     ]
    }
   ],
   "source": [
    "# RNN with 256 (image) units, input is 28-dim vec 28 timesteps\n",
    "model = Sequential()\n",
    "model.add(SimpleRNN(units=units, dropout=dropout, input_shape=input_shape))\n",
    "model.add(Dense(n_labels))\n",
    "model.add(Activation('softmax'))\n",
    "model.summary()\n",
    "plot_model(model, to_file='rnn-mnist.png', show_shapes=True)"
   ]
  },
  {
   "cell_type": "code",
   "execution_count": 10,
   "metadata": {},
   "outputs": [],
   "source": [
    "model.compile(\n",
    "    loss='categorical_crossentropy', optimizer='sgd', metrics=['accuracy'])"
   ]
  },
  {
   "cell_type": "code",
   "execution_count": 11,
   "metadata": {},
   "outputs": [
    {
     "name": "stdout",
     "output_type": "stream",
     "text": [
      "WARNING:tensorflow:From /usr/local/lib/python3.6/site-packages/tensorflow/python/ops/math_ops.py:3066: to_int32 (from tensorflow.python.ops.math_ops) is deprecated and will be removed in a future version.\n",
      "Instructions for updating:\n",
      "Use tf.cast instead.\n",
      "Epoch 1/20\n",
      "60000/60000 [==============================] - 9s 148us/step - loss: 0.7871 - acc: 0.7692\n",
      "Epoch 2/20\n",
      "60000/60000 [==============================] - 9s 142us/step - loss: 0.3647 - acc: 0.8909\n",
      "Epoch 3/20\n",
      "60000/60000 [==============================] - 9s 142us/step - loss: 0.2765 - acc: 0.9172\n",
      "Epoch 4/20\n",
      "60000/60000 [==============================] - 8s 141us/step - loss: 0.2344 - acc: 0.9294\n",
      "Epoch 5/20\n",
      "60000/60000 [==============================] - 9s 144us/step - loss: 0.2056 - acc: 0.9386\n",
      "Epoch 6/20\n",
      "60000/60000 [==============================] - 9s 145us/step - loss: 0.1840 - acc: 0.9446\n",
      "Epoch 7/20\n",
      "60000/60000 [==============================] - 9s 146us/step - loss: 0.1692 - acc: 0.9488\n",
      "Epoch 8/20\n",
      "60000/60000 [==============================] - 9s 147us/step - loss: 0.1567 - acc: 0.9526\n",
      "Epoch 9/20\n",
      "60000/60000 [==============================] - 9s 149us/step - loss: 0.1450 - acc: 0.9559\n",
      "Epoch 10/20\n",
      "60000/60000 [==============================] - 9s 144us/step - loss: 0.1382 - acc: 0.9585\n",
      "Epoch 11/20\n",
      "60000/60000 [==============================] - 9s 146us/step - loss: 0.1322 - acc: 0.9595\n",
      "Epoch 12/20\n",
      "60000/60000 [==============================] - 9s 149us/step - loss: 0.1253 - acc: 0.9613\n",
      "Epoch 13/20\n",
      "60000/60000 [==============================] - 9s 144us/step - loss: 0.1199 - acc: 0.9634\n",
      "Epoch 14/20\n",
      "60000/60000 [==============================] - 9s 143us/step - loss: 0.1109 - acc: 0.9664\n",
      "Epoch 15/20\n",
      "60000/60000 [==============================] - 9s 143us/step - loss: 0.1086 - acc: 0.9668\n",
      "Epoch 16/20\n",
      "60000/60000 [==============================] - 9s 143us/step - loss: 0.1042 - acc: 0.9677\n",
      "Epoch 17/20\n",
      "60000/60000 [==============================] - 9s 142us/step - loss: 0.1004 - acc: 0.9692\n",
      "Epoch 18/20\n",
      "60000/60000 [==============================] - 9s 142us/step - loss: 0.0985 - acc: 0.9702\n",
      "Epoch 19/20\n",
      "60000/60000 [==============================] - 9s 143us/step - loss: 0.0947 - acc: 0.9708\n",
      "Epoch 20/20\n",
      "60000/60000 [==============================] - 9s 142us/step - loss: 0.0893 - acc: 0.9725\n"
     ]
    },
    {
     "data": {
      "text/plain": [
       "<keras.callbacks.History at 0x13d5dc438>"
      ]
     },
     "execution_count": 11,
     "metadata": {},
     "output_type": "execute_result"
    }
   ],
   "source": [
    "model.fit(X_train, y_train, epochs=20, batch_size=batch_size)"
   ]
  },
  {
   "cell_type": "code",
   "execution_count": 13,
   "metadata": {},
   "outputs": [
    {
     "name": "stdout",
     "output_type": "stream",
     "text": [
      "10000/10000 [==============================] - 1s 64us/step\n",
      "Test Acc: 97.880%\n"
     ]
    }
   ],
   "source": [
    "loss, acc = model.evaluate(X_test, y_test, batch_size=batch_size)\n",
    "print(f'Test Acc: {100 * acc:.3f}%')"
   ]
  },
  {
   "cell_type": "code",
   "execution_count": null,
   "metadata": {},
   "outputs": [],
   "source": []
  }
 ],
 "metadata": {
  "kernelspec": {
   "display_name": "Python 3",
   "language": "python",
   "name": "python3"
  },
  "language_info": {
   "codemirror_mode": {
    "name": "ipython",
    "version": 3
   },
   "file_extension": ".py",
   "mimetype": "text/x-python",
   "name": "python",
   "nbconvert_exporter": "python",
   "pygments_lexer": "ipython3",
   "version": "3.6.5"
  }
 },
 "nbformat": 4,
 "nbformat_minor": 2
}
