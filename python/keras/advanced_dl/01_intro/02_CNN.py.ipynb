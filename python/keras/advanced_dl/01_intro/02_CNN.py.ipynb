{
 "cells": [
  {
   "cell_type": "code",
   "execution_count": 2,
   "metadata": {},
   "outputs": [],
   "source": [
    "from   keras.datasets import mnist\n",
    "from   keras.layers import (\n",
    "    Activation, Conv2D, Dense, Dropout, Flatten, MaxPooling2D)\n",
    "from   keras.models import Sequential\n",
    "from   keras.utils import plot_model, to_categorical\n",
    "import numpy as np"
   ]
  },
  {
   "cell_type": "code",
   "execution_count": 4,
   "metadata": {},
   "outputs": [],
   "source": [
    "(X_train, y_train), (X_test, y_test) = mnist.load_data()\n",
    "n_labels = len(np.unique(y_train))"
   ]
  },
  {
   "cell_type": "code",
   "execution_count": 5,
   "metadata": {},
   "outputs": [],
   "source": [
    "y_train = to_categorical(y_train)\n",
    "y_test = to_categorical(y_test)"
   ]
  },
  {
   "cell_type": "code",
   "execution_count": 6,
   "metadata": {},
   "outputs": [],
   "source": [
    "image_size = X_train.shape[1] # single dim\n",
    "X_train = np.reshape(X_train, [-1, image_size, image_size, 1])\n",
    "X_test  = np.reshape(X_test,  [-1, image_size, image_size, 1])\n",
    "X_train = X_train.astype('float32') / 255\n",
    "X_test  = X_test.astype('float32') / 255"
   ]
  },
  {
   "cell_type": "code",
   "execution_count": 19,
   "metadata": {},
   "outputs": [],
   "source": [
    "input_shape = (image_size, image_size, 1)\n",
    "\n",
    "BATCH = 128\n",
    "KERNEL = 3\n",
    "POOL = 2\n",
    "N_FILTERS = 64\n",
    "DROPOUT = 0.2\n",
    "#KEEP_PROB = 1 - DROPOUT\n",
    "EPOCHS = 10"
   ]
  },
  {
   "cell_type": "code",
   "execution_count": 20,
   "metadata": {},
   "outputs": [
    {
     "data": {
      "text/plain": [
       "(28, 28, 1)"
      ]
     },
     "execution_count": 20,
     "metadata": {},
     "output_type": "execute_result"
    }
   ],
   "source": [
    "input_shape"
   ]
  },
  {
   "cell_type": "code",
   "execution_count": 22,
   "metadata": {},
   "outputs": [
    {
     "name": "stdout",
     "output_type": "stream",
     "text": [
      "_________________________________________________________________\n",
      "Layer (type)                 Output Shape              Param #   \n",
      "=================================================================\n",
      "conv2d_11 (Conv2D)           (None, 26, 26, 64)        640       \n",
      "_________________________________________________________________\n",
      "max_pooling2d_7 (MaxPooling2 (None, 13, 13, 64)        0         \n",
      "_________________________________________________________________\n",
      "conv2d_12 (Conv2D)           (None, 11, 11, 64)        36928     \n",
      "_________________________________________________________________\n",
      "max_pooling2d_8 (MaxPooling2 (None, 5, 5, 64)          0         \n",
      "_________________________________________________________________\n",
      "conv2d_13 (Conv2D)           (None, 3, 3, 64)          36928     \n",
      "_________________________________________________________________\n",
      "flatten_4 (Flatten)          (None, 576)               0         \n",
      "_________________________________________________________________\n",
      "dropout_2 (Dropout)          (None, 576)               0         \n",
      "_________________________________________________________________\n",
      "dense_2 (Dense)              (None, 10)                5770      \n",
      "_________________________________________________________________\n",
      "activation_2 (Activation)    (None, 10)                0         \n",
      "=================================================================\n",
      "Total params: 80,266\n",
      "Trainable params: 80,266\n",
      "Non-trainable params: 0\n",
      "_________________________________________________________________\n"
     ]
    }
   ],
   "source": [
    "mod = Sequential()\n",
    "mod.add(Conv2D(filters=N_FILTERS, \n",
    "               kernel_size=KERNEL, \n",
    "               activation='relu', \n",
    "               input_shape=input_shape)) \n",
    "mod.add(MaxPooling2D(POOL))\n",
    "mod.add(Conv2D(filters=N_FILTERS, kernel_size=KERNEL, activation='relu'))\n",
    "mod.add(MaxPooling2D(POOL))\n",
    "mod.add(Conv2D(filters=N_FILTERS, kernel_size=KERNEL, activation='relu'))\n",
    "mod.add(Flatten())\n",
    "mod.add(Dropout(DROPOUT)) # output is 10-dim 1-hot vector\n",
    "mod.add(Dense(n_labels))\n",
    "mod.add(Activation('softmax'))\n",
    "mod.summary()"
   ]
  },
  {
   "cell_type": "code",
   "execution_count": 23,
   "metadata": {},
   "outputs": [],
   "source": [
    "plot_model(mod, to_file='cnn-mnist.png', show_shapes=True)"
   ]
  },
  {
   "cell_type": "markdown",
   "metadata": {},
   "source": [
    "Model:\n",
    "<img src=\"./cnn-mnist.png\" />"
   ]
  },
  {
   "cell_type": "code",
   "execution_count": 24,
   "metadata": {},
   "outputs": [],
   "source": [
    "mod.compile(loss='categorical_crossentropy', \n",
    "            optimizer='adam', \n",
    "            metrics=['accuracy'])"
   ]
  },
  {
   "cell_type": "code",
   "execution_count": 25,
   "metadata": {},
   "outputs": [
    {
     "name": "stdout",
     "output_type": "stream",
     "text": [
      "Epoch 1/10\n",
      "60000/60000 [==============================] - 51s 850us/step - loss: 0.2562 - acc: 0.9216\n",
      "Epoch 2/10\n",
      "60000/60000 [==============================] - 48s 804us/step - loss: 0.0634 - acc: 0.9802\n",
      "Epoch 3/10\n",
      "60000/60000 [==============================] - 52s 865us/step - loss: 0.0457 - acc: 0.9857\n",
      "Epoch 4/10\n",
      "60000/60000 [==============================] - 53s 881us/step - loss: 0.0377 - acc: 0.9886\n",
      "Epoch 5/10\n",
      "60000/60000 [==============================] - 53s 875us/step - loss: 0.0309 - acc: 0.9908\n",
      "Epoch 6/10\n",
      "60000/60000 [==============================] - 51s 856us/step - loss: 0.0266 - acc: 0.9916\n",
      "Epoch 7/10\n",
      "60000/60000 [==============================] - 52s 866us/step - loss: 0.0238 - acc: 0.9924\n",
      "Epoch 8/10\n",
      "60000/60000 [==============================] - 51s 850us/step - loss: 0.0208 - acc: 0.9930\n",
      "Epoch 9/10\n",
      "60000/60000 [==============================] - 49s 817us/step - loss: 0.0173 - acc: 0.9944\n",
      "Epoch 10/10\n",
      "60000/60000 [==============================] - 51s 851us/step - loss: 0.0162 - acc: 0.9944\n"
     ]
    }
   ],
   "source": [
    "history = mod.fit(X_train, y_train, epochs=EPOCHS, batch_size=BATCH)"
   ]
  },
  {
   "cell_type": "code",
   "execution_count": null,
   "metadata": {},
   "outputs": [],
   "source": []
  }
 ],
 "metadata": {
  "kernelspec": {
   "display_name": "Python 3",
   "language": "python",
   "name": "python3"
  },
  "language_info": {
   "codemirror_mode": {
    "name": "ipython",
    "version": 3
   },
   "file_extension": ".py",
   "mimetype": "text/x-python",
   "name": "python",
   "nbconvert_exporter": "python",
   "pygments_lexer": "ipython3",
   "version": "3.6.5"
  }
 },
 "nbformat": 4,
 "nbformat_minor": 2
}
