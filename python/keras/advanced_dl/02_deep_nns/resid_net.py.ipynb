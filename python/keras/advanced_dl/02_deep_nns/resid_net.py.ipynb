{
 "cells": [
  {
   "cell_type": "code",
   "execution_count": 1,
   "metadata": {},
   "outputs": [
    {
     "name": "stderr",
     "output_type": "stream",
     "text": [
      "Using TensorFlow backend.\n"
     ]
    }
   ],
   "source": [
    "from keras.datasets import cifar10"
   ]
  },
  {
   "cell_type": "code",
   "execution_count": 2,
   "metadata": {},
   "outputs": [],
   "source": [
    "(X_train, y_train), (X_test, y_test) = cifar10.load_data()"
   ]
  },
  {
   "cell_type": "code",
   "execution_count": 3,
   "metadata": {},
   "outputs": [],
   "source": [
    "n = 3\n",
    "\n",
    "# mod vers.\n",
    "# orig. paper: version = 1 (ResNet v1)\n",
    "# Improved ResNet: version = 2 (ResNet v2)\n",
    "version = 1"
   ]
  },
  {
   "cell_type": "code",
   "execution_count": 4,
   "metadata": {},
   "outputs": [],
   "source": [
    "# Depth computed from n param\n",
    "if version == 1:\n",
    "    depth = 6*n + 2\n",
    "elif version == 2:\n",
    "    depth = 9*n + 2\n",
    "    \n",
    "#if version == 2:\n",
    "#    model = resnet_v2(input_shape=input_shape, depth=depth)\n",
    "#else\n",
    "#    model = resnet_v1(input_shape=input_shape, depth=depth)"
   ]
  },
  {
   "cell_type": "code",
   "execution_count": null,
   "metadata": {},
   "outputs": [],
   "source": [
    "# Some imports missing...\n",
    "\n",
    "def resnet_v1(input_shape, depth, n_classes=10):\n",
    "    if (depth - 2) % 6 != 0:\n",
    "        raise ValueError('depth should be 6n + 2 (e.g., 20, 26, 32, ...)')\n",
    "    n_filters = 16\n",
    "    n_res_blocks = int((depth - 2) / 6)\n",
    "    inputs = Input(shape=input_shape)\n",
    "    x = resnet_layer(inputs=inputs)\n",
    "    \n",
    "    # Instantiate stack of resid units\n",
    "    for stack in range(3):\n",
    "        for res_block in range(n_res_blocks):\n",
    "            strides = 1\n",
    "            if stack > 0 and res_block == 0:\n",
    "                strides = 2 # downsample\n",
    "            y = resnet_layer(\n",
    "                inputs=x, n_filters=n_filters, strides=strides)\n",
    "            y = resnet_layer(\n",
    "                inputs=y, n_filters=n_filters, activation=None)\n",
    "            if stack > 0 and res_block == 0:\n",
    "                # linear projection resid short connection to match dims\n",
    "                x = resnet_layer(inputs=x, \n",
    "                                 n_filters=n_filters, \n",
    "                                 kernel_size=1, \n",
    "                                 strides=strides, \n",
    "                                 activation=None, \n",
    "                                 batch_normalization=False)\n",
    "            x = add([x, y])\n",
    "            x = Activation('relu')(x)\n",
    "        n_filters *= 2\n",
    "        \n",
    "    # Add classifiers on top\n",
    "    # V1 does not use batch normalization after last shortcut connection\n",
    "    # ReLU\n",
    "    x = AveragePooling2D(pool_size=8)\n",
    "    outputs = Dense(\n",
    "        n_classes, activation='softmax', kernel_initializer='he_normal'\n",
    "    )(y)\n",
    "    \n",
    "    model = Model(inputs=inputs, outputs=outputs)\n",
    "    return model"
   ]
  }
 ],
 "metadata": {
  "kernelspec": {
   "display_name": "Python 3",
   "language": "python",
   "name": "python3"
  },
  "language_info": {
   "codemirror_mode": {
    "name": "ipython",
    "version": 3
   },
   "file_extension": ".py",
   "mimetype": "text/x-python",
   "name": "python",
   "nbconvert_exporter": "python",
   "pygments_lexer": "ipython3",
   "version": "3.6.5"
  }
 },
 "nbformat": 4,
 "nbformat_minor": 2
}
