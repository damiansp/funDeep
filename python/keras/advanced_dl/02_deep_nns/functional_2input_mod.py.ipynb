{
 "cells": [
  {
   "cell_type": "markdown",
   "metadata": {},
   "source": [
    "# Two-Input One-Output Model"
   ]
  },
  {
   "cell_type": "code",
   "execution_count": 2,
   "metadata": {
    "collapsed": false
   },
   "outputs": [
    {
     "name": "stderr",
     "output_type": "stream",
     "text": [
      "/usr/local/lib/python3.6/site-packages/h5py/__init__.py:36: FutureWarning: Conversion of the second argument of issubdtype from `float` to `np.floating` is deprecated. In future, it will be treated as `np.float64 == np.dtype(float).type`.\n",
      "  from ._conv import register_converters as _register_converters\n",
      "Using TensorFlow backend.\n"
     ]
    }
   ],
   "source": [
    "from   keras.datasets import mnist\n",
    "from   keras.layers import (\n",
    "    Conv2D, Dense, Dropout, Flatten, Input, MaxPooling2D)\n",
    "from   keras.layers.merge import concatenate\n",
    "from   keras.models import Model\n",
    "from   keras.utils import plot_model, to_categorical\n",
    "import numpy as np"
   ]
  },
  {
   "cell_type": "code",
   "execution_count": 4,
   "metadata": {
    "collapsed": false
   },
   "outputs": [],
   "source": [
    "(X_train, y_train), (X_test, y_test) = mnist.load_data()"
   ]
  },
  {
   "cell_type": "code",
   "execution_count": 6,
   "metadata": {
    "collapsed": false
   },
   "outputs": [],
   "source": [
    "n_labels = len(np.unique(y_train))\n",
    "y_train = to_categorical(y_train)\n",
    "y_test = to_categorical(y_test)"
   ]
  },
  {
   "cell_type": "code",
   "execution_count": 7,
   "metadata": {
    "collapsed": true
   },
   "outputs": [],
   "source": [
    "image_size = X_train.shape[1]\n",
    "X_train = (\n",
    "    np.reshape(X_train, [-1, image_size, image_size, 1]).astype('float32') \n",
    "    / 255)\n",
    "X_test = (\n",
    "    np.reshape(X_test, [-1, image_size, image_size, 1]).astype('float32') \n",
    "    / 255)"
   ]
  },
  {
   "cell_type": "code",
   "execution_count": 8,
   "metadata": {
    "collapsed": true
   },
   "outputs": [],
   "source": [
    "input_shape = (image_size, image_size, 1)\n",
    "BATCH = 32\n",
    "KERNEL = 4\n",
    "DROPOUT = 0.4\n",
    "N_FILTERS = 32"
   ]
  },
  {
   "cell_type": "code",
   "execution_count": null,
   "metadata": {
    "collapsed": true
   },
   "outputs": [],
   "source": [
    "# Branch 1 of network\n",
    "left_inputs = Input(shape=input_shape)\n",
    "X1 = left_inputs\n",
    "filters = N_FILTERS\n",
    "\n",
    "# 3-layers of Conv2D-Dropout-MaxPooling2D\n",
    "for i in range(3):\n",
    "    X1 = Conv2D(filters=N_FILTERS, \n",
    "                kernel_size=KERNEL, \n",
    "                padding='same', \n",
    "                activation='relu')(X1)\n",
    "    X1 = Dropout(DROPOUT)(X1)\n",
    "    X1 = MaxPooling2D()(X1)\n",
    "    filters *= 2\n",
    "    \n",
    "# Branch 2\n",
    "right_inputs = Input(shape=input_shape)\n",
    "X2 = right_inputs\n",
    "filters = N_FILTERS\n",
    "\n",
    "# 3-layers of Conv2D-Dropout-MaxPooling2D\n"
   ]
  }
 ],
 "metadata": {
  "kernelspec": {
   "display_name": "Python 3",
   "language": "python",
   "name": "python3"
  },
  "language_info": {
   "codemirror_mode": {
    "name": "ipython",
    "version": 3
   },
   "file_extension": ".py",
   "mimetype": "text/x-python",
   "name": "python",
   "nbconvert_exporter": "python",
   "pygments_lexer": "ipython3",
   "version": "3.6.5"
  }
 },
 "nbformat": 4,
 "nbformat_minor": 0
}
