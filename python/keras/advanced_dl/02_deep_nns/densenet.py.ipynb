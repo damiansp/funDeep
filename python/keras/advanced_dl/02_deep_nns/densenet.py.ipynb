{
 "cells": [
  {
   "cell_type": "code",
   "execution_count": 1,
   "metadata": {},
   "outputs": [],
   "source": [
    "# imports and constancts omitted for brevity"
   ]
  },
  {
   "cell_type": "code",
   "execution_count": null,
   "metadata": {},
   "outputs": [],
   "source": [
    "# Densenet CNNs are: BN-ReLU-Conv2D\n",
    "inputs = Input(shape=input_shape)\n",
    "X = BatchNormalization()(inputs)\n",
    "X = Activation('relu')(X)\n",
    "X = Conv2D(n_filters_before_dense_block,\n",
    "           kernel_size=3,\n",
    "           padding='same',\n",
    "           kernel_initializer='he_normal')(X)\n",
    "X = concatenate([inputs, X])\n",
    "\n",
    "# Stack of Dense blocks bridged by transition layers\n",
    "for i in range(n_dense_blocks):\n",
    "    # Dense block is a stack of bottleneck layers\n",
    "    for j i n range(n_bottleneck_layers):\n",
    "        y = BatchNormalization()(X)\n",
    "        y = Activation('relu')(y)\n",
    "        y = Conv2D(4 * growth_rate,\n",
    "                   kernel_size=1,\n",
    "                   padding='same',\n",
    "                   kernel_initializer='he_normal')(y)\n",
    "        if not data_augmentation:\n",
    "            y = Dropout(0.2)(y)\n",
    "        y = BatchNormalization()(y)\n",
    "        y = Activation('relu')(y)\n",
    "        y = Conv2D(growth_rate,\n",
    "                   kernel_size=3,\n",
    "                   padding='same',\n",
    "                   kernel_initializer='he_normal')(y)\n",
    "        if not data_augmentation:\n",
    "            y = Dropout(0.2)(y)\n",
    "        X = concatenate([X, y])\n",
    "        \n",
    "    # No transition layer after last dense block\n",
    "    if i == n_dense_blocks - 1:\n",
    "        continue\n",
    "        \n",
    "    # Transition layer compresses n feature maps and reduces size by 2\n",
    "    n_filters_before_dense_block += n_bottleneck_layers * growth_rate\n",
    "    n_filters_before_dense_block = int(n_filters_before_dense_block \n",
    "                                       * compression_factor)\n",
    "    y = BatchNormalization()(X)\n",
    "    y = Conv2D(n_filters_before_dense_block,\n",
    "               kernel_size=1,\n",
    "               padding='same',\n",
    "               kernel_initializer='he_normal')(y)\n",
    "    if not data_augmentation:\n",
    "        y = Dropout(0.2)(y)\n",
    "    x = AveragePooling2D()(y)\n",
    "    \n",
    "# Add classifier on top\n",
    "# After pooling size of feature map is 1x1\n",
    "X = AveragePooling2D(pool_size=8)(X)\n",
    "y = Flatten()(X)\n",
    "outputs = Dense(\n",
    "    n_classes, kernel_initializer='he_normal', activation='softmax'\n",
    ")(y)\n",
    "\n",
    "# Instantiate and compile mod\n",
    "# original paper uses SGD but RMSprop works better\n",
    "model = Model(inputs=inputs, outputs=outputs)\n",
    "model.compile(loss='categorical_crossentropy', \n",
    "              optimizer=RMSprop(1e-3), \n",
    "              metrics=['accuracy'])\n",
    "model.summary()"
   ]
  }
 ],
 "metadata": {
  "kernelspec": {
   "display_name": "Python 3",
   "language": "python",
   "name": "python3"
  },
  "language_info": {
   "codemirror_mode": {
    "name": "ipython",
    "version": 3
   },
   "file_extension": ".py",
   "mimetype": "text/x-python",
   "name": "python",
   "nbconvert_exporter": "python",
   "pygments_lexer": "ipython3",
   "version": "3.6.5"
  }
 },
 "nbformat": 4,
 "nbformat_minor": 2
}
