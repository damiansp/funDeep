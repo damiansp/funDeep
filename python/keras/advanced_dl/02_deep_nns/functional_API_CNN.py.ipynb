{
 "cells": [
  {
   "cell_type": "code",
   "execution_count": 1,
   "metadata": {},
   "outputs": [
    {
     "name": "stderr",
     "output_type": "stream",
     "text": [
      "Using TensorFlow backend.\n"
     ]
    }
   ],
   "source": [
    "from   keras.datasets import mnist\n",
    "from   keras.layers import (\n",
    "    Conv2D, Dense, Dropout, Flatten, Input, MaxPooling2D)\n",
    "from   keras.models import Model\n",
    "from   keras.utils import to_categorical\n",
    "import numpy as np"
   ]
  },
  {
   "cell_type": "code",
   "execution_count": 2,
   "metadata": {},
   "outputs": [],
   "source": [
    "(X_train, y_train), (X_test, y_test) = mnist.load_data()\n",
    "n_labels = len(np.unique(y_train))"
   ]
  },
  {
   "cell_type": "code",
   "execution_count": 3,
   "metadata": {},
   "outputs": [],
   "source": [
    "y_train = to_categorical(y_train)\n",
    "y_test  = to_categorical(y_test)"
   ]
  },
  {
   "cell_type": "code",
   "execution_count": 5,
   "metadata": {},
   "outputs": [],
   "source": [
    "image_size = X_train.shape[1]\n",
    "X_train = np.reshape(X_train, [-1, image_size, image_size, 1])\n",
    "X_test  = np.reshape(X_test,  [-1, image_size, image_size, 1])\n",
    "X_train = X_train.astype('float32') / 255\n",
    "X_test  = X_test.astype('float32') / 255"
   ]
  },
  {
   "cell_type": "code",
   "execution_count": 10,
   "metadata": {},
   "outputs": [],
   "source": [
    "INPUT_SHAPE = (image_size, image_size, 1)\n",
    "BATCH = 128\n",
    "KERNEL = 3\n",
    "FILTERS = 64\n",
    "DROPOUT = 0.3\n",
    "EPOCHS = 20"
   ]
  },
  {
   "cell_type": "code",
   "execution_count": 8,
   "metadata": {},
   "outputs": [
    {
     "name": "stdout",
     "output_type": "stream",
     "text": [
      "WARNING:tensorflow:From /usr/local/lib/python3.6/site-packages/keras/backend/tensorflow_backend.py:3445: calling dropout (from tensorflow.python.ops.nn_ops) with keep_prob is deprecated and will be removed in a future version.\n",
      "Instructions for updating:\n",
      "Please use `rate` instead of `keep_prob`. Rate should be set to `rate = 1 - keep_prob`.\n",
      "_________________________________________________________________\n",
      "Layer (type)                 Output Shape              Param #   \n",
      "=================================================================\n",
      "input_2 (InputLayer)         (None, 28, 28, 1)         0         \n",
      "_________________________________________________________________\n",
      "conv2d_4 (Conv2D)            (None, 26, 26, 64)        640       \n",
      "_________________________________________________________________\n",
      "max_pooling2d_3 (MaxPooling2 (None, 13, 13, 64)        0         \n",
      "_________________________________________________________________\n",
      "conv2d_5 (Conv2D)            (None, 11, 11, 64)        36928     \n",
      "_________________________________________________________________\n",
      "max_pooling2d_4 (MaxPooling2 (None, 5, 5, 64)          0         \n",
      "_________________________________________________________________\n",
      "conv2d_6 (Conv2D)            (None, 3, 3, 64)          36928     \n",
      "_________________________________________________________________\n",
      "flatten_2 (Flatten)          (None, 576)               0         \n",
      "_________________________________________________________________\n",
      "dropout_1 (Dropout)          (None, 576)               0         \n",
      "_________________________________________________________________\n",
      "dense_1 (Dense)              (None, 10)                5770      \n",
      "=================================================================\n",
      "Total params: 80,266\n",
      "Trainable params: 80,266\n",
      "Non-trainable params: 0\n",
      "_________________________________________________________________\n"
     ]
    }
   ],
   "source": [
    "# Functional API for model\n",
    "inputs = Input(shape=INPUT_SHAPE)\n",
    "y = Conv2D(filters=FILTERS, kernel_size=KERNEL, activation='relu')(inputs)\n",
    "y = MaxPooling2D()(y) # defaults to pool_size=2\n",
    "y = Conv2D(filters=FILTERS, kernel_size=KERNEL, activation='relu')(y)\n",
    "y = MaxPooling2D()(y)\n",
    "y = Conv2D(filters=FILTERS, kernel_size=KERNEL, activation='relu')(y)\n",
    "y = Flatten()(y)\n",
    "y = Dropout(DROPOUT)(y)\n",
    "outputs = Dense(n_labels, activation='softmax')(y)\n",
    "\n",
    "model = Model(inputs=inputs, outputs=outputs)\n",
    "model.summary()"
   ]
  },
  {
   "cell_type": "code",
   "execution_count": 9,
   "metadata": {},
   "outputs": [],
   "source": [
    "model.compile(loss='categorical_crossentropy', \n",
    "              optimizer='adam', \n",
    "              metrics=['accuracy'])"
   ]
  },
  {
   "cell_type": "code",
   "execution_count": 11,
   "metadata": {},
   "outputs": [
    {
     "name": "stdout",
     "output_type": "stream",
     "text": [
      "WARNING:tensorflow:From /usr/local/lib/python3.6/site-packages/tensorflow/python/ops/math_ops.py:3066: to_int32 (from tensorflow.python.ops.math_ops) is deprecated and will be removed in a future version.\n",
      "Instructions for updating:\n",
      "Use tf.cast instead.\n",
      "Train on 60000 samples, validate on 10000 samples\n",
      "Epoch 1/20\n",
      "60000/60000 [==============================] - 56s 926us/step - loss: 0.2854 - acc: 0.9108 - val_loss: 0.0531 - val_acc: 0.9841\n",
      "Epoch 2/20\n",
      "60000/60000 [==============================] - 53s 879us/step - loss: 0.0718 - acc: 0.9769 - val_loss: 0.0354 - val_acc: 0.9868\n",
      "Epoch 3/20\n",
      "60000/60000 [==============================] - 55s 913us/step - loss: 0.0522 - acc: 0.9834 - val_loss: 0.0292 - val_acc: 0.9903\n",
      "Epoch 4/20\n",
      "60000/60000 [==============================] - 55s 909us/step - loss: 0.0402 - acc: 0.9869 - val_loss: 0.0299 - val_acc: 0.9897\n",
      "Epoch 5/20\n",
      "60000/60000 [==============================] - 57s 945us/step - loss: 0.0351 - acc: 0.9888 - val_loss: 0.0270 - val_acc: 0.9908\n",
      "Epoch 6/20\n",
      "60000/60000 [==============================] - 55s 914us/step - loss: 0.0310 - acc: 0.9898 - val_loss: 0.0225 - val_acc: 0.9922\n",
      "Epoch 7/20\n",
      "60000/60000 [==============================] - 55s 920us/step - loss: 0.0265 - acc: 0.9914 - val_loss: 0.0207 - val_acc: 0.9928\n",
      "Epoch 8/20\n",
      "60000/60000 [==============================] - 55s 915us/step - loss: 0.0236 - acc: 0.9926 - val_loss: 0.0238 - val_acc: 0.9925\n",
      "Epoch 9/20\n",
      "60000/60000 [==============================] - 55s 912us/step - loss: 0.0216 - acc: 0.9928 - val_loss: 0.0256 - val_acc: 0.9912\n",
      "Epoch 10/20\n",
      "60000/60000 [==============================] - 54s 893us/step - loss: 0.0191 - acc: 0.9937 - val_loss: 0.0222 - val_acc: 0.9929\n",
      "Epoch 11/20\n",
      "60000/60000 [==============================] - 54s 898us/step - loss: 0.0177 - acc: 0.9939 - val_loss: 0.0198 - val_acc: 0.9938\n",
      "Epoch 12/20\n",
      "60000/60000 [==============================] - 54s 901us/step - loss: 0.0166 - acc: 0.9945 - val_loss: 0.0219 - val_acc: 0.9930\n",
      "Epoch 13/20\n",
      "60000/60000 [==============================] - 55s 912us/step - loss: 0.0162 - acc: 0.9943 - val_loss: 0.0224 - val_acc: 0.9933\n",
      "Epoch 14/20\n",
      "60000/60000 [==============================] - 57s 946us/step - loss: 0.0141 - acc: 0.9954 - val_loss: 0.0209 - val_acc: 0.9939\n",
      "Epoch 15/20\n",
      "60000/60000 [==============================] - 55s 911us/step - loss: 0.0116 - acc: 0.9963 - val_loss: 0.0243 - val_acc: 0.9935\n",
      "Epoch 16/20\n",
      "60000/60000 [==============================] - 55s 910us/step - loss: 0.0126 - acc: 0.9957 - val_loss: 0.0273 - val_acc: 0.9933\n",
      "Epoch 17/20\n",
      "60000/60000 [==============================] - 54s 901us/step - loss: 0.0111 - acc: 0.9963 - val_loss: 0.0348 - val_acc: 0.9904\n",
      "Epoch 18/20\n",
      "60000/60000 [==============================] - 54s 907us/step - loss: 0.0108 - acc: 0.9964 - val_loss: 0.0230 - val_acc: 0.9933\n",
      "Epoch 19/20\n",
      "60000/60000 [==============================] - 54s 897us/step - loss: 0.0095 - acc: 0.9968 - val_loss: 0.0227 - val_acc: 0.9933\n",
      "Epoch 20/20\n",
      "60000/60000 [==============================] - 54s 896us/step - loss: 0.0095 - acc: 0.9968 - val_loss: 0.0244 - val_acc: 0.9932\n"
     ]
    },
    {
     "data": {
      "text/plain": [
       "<keras.callbacks.History at 0x13b4219e8>"
      ]
     },
     "execution_count": 11,
     "metadata": {},
     "output_type": "execute_result"
    }
   ],
   "source": [
    "model.fit(X_train,\n",
    "          y_train,\n",
    "          validation_data=(X_test, y_test),\n",
    "          epochs=EPOCHS,\n",
    "          batch_size=BATCH)"
   ]
  },
  {
   "cell_type": "code",
   "execution_count": 14,
   "metadata": {},
   "outputs": [
    {
     "name": "stdout",
     "output_type": "stream",
     "text": [
      "10000/10000 [==============================] - 2s 178us/step\n",
      "\n",
      "Test Accuracy: 99.3200\n"
     ]
    }
   ],
   "source": [
    "score = model.evaluate(X_test, y_test, batch_size=BATCH)\n",
    "print(f'\\nTest Accuracy: {100. * score[1]:.4f}')"
   ]
  },
  {
   "cell_type": "markdown",
   "metadata": {},
   "source": [
    "# Two-Input One-Output Model"
   ]
  },
  {
   "cell_type": "code",
   "execution_count": null,
   "metadata": {},
   "outputs": [],
   "source": []
  }
 ],
 "metadata": {
  "kernelspec": {
   "display_name": "Python 3",
   "language": "python",
   "name": "python3"
  },
  "language_info": {
   "codemirror_mode": {
    "name": "ipython",
    "version": 3
   },
   "file_extension": ".py",
   "mimetype": "text/x-python",
   "name": "python",
   "nbconvert_exporter": "python",
   "pygments_lexer": "ipython3",
   "version": "3.6.5"
  }
 },
 "nbformat": 4,
 "nbformat_minor": 2
}
