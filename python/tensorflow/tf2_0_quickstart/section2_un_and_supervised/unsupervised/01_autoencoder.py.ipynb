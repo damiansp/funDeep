{
 "cells": [
  {
   "cell_type": "code",
   "execution_count": 1,
   "metadata": {},
   "outputs": [],
   "source": [
    "import matplotlib.pyplot as plt\n",
    "import numpy as np\n",
    "from   tensorflow.keras import regularizers\n",
    "from   tensorflow.keras.callbacks import EarlyStopping, ModelCheckpoint\n",
    "from   tensorflow.keras.datasets import fashion_mnist\n",
    "from   tensorflow.keras.layers import Dense, Input\n",
    "from   tensorflow.keras.models import Model\n",
    "\n",
    "%matplotlib inline"
   ]
  },
  {
   "cell_type": "code",
   "execution_count": 2,
   "metadata": {},
   "outputs": [],
   "source": [
    "(X_train, _), (X_test, _) = fashion_mnist.load_data()\n",
    "X_train = X_train.astype('float32') / 255.\n",
    "X_test = X_test.astype('float32') / 255."
   ]
  },
  {
   "cell_type": "code",
   "execution_count": 3,
   "metadata": {},
   "outputs": [
    {
     "data": {
      "text/plain": [
       "((60000, 28, 28), (10000, 28, 28))"
      ]
     },
     "execution_count": 3,
     "metadata": {},
     "output_type": "execute_result"
    }
   ],
   "source": [
    "X_train.shape, X_test.shape"
   ]
  },
  {
   "cell_type": "code",
   "execution_count": 4,
   "metadata": {},
   "outputs": [],
   "source": [
    "# Flatten\n",
    "X_train = X_train.reshape((X_train.shape[0], np.prod(X_train.shape[1:])))\n",
    "X_test = X_test.reshape((X_test.shape[0], np.prod(X_test.shape[1:])))"
   ]
  },
  {
   "cell_type": "code",
   "execution_count": 5,
   "metadata": {},
   "outputs": [
    {
     "data": {
      "text/plain": [
       "((60000, 784), (10000, 784))"
      ]
     },
     "execution_count": 5,
     "metadata": {},
     "output_type": "execute_result"
    }
   ],
   "source": [
    "X_train.shape, X_test.shape"
   ]
  },
  {
   "cell_type": "code",
   "execution_count": 6,
   "metadata": {},
   "outputs": [],
   "source": [
    "image_dim = X_train.shape[1]\n",
    "encoding_dim = 32"
   ]
  },
  {
   "cell_type": "code",
   "execution_count": 7,
   "metadata": {},
   "outputs": [],
   "source": [
    "input_image = Input(shape=(image_dim,))\n",
    "encoded_image = Dense(\n",
    "    encoding_dim, \n",
    "    activation='relu', \n",
    "    activity_regularizer=regularizers.l1(10e-5)\n",
    ")(input_image)\n",
    "encoder = Model(input_image, encoded_image)\n",
    "decoded_image = Dense(image_dim, activation='sigmoid')(encoded_image)\n",
    "autoencoder = Model(input_image, decoded_image)"
   ]
  },
  {
   "cell_type": "code",
   "execution_count": 8,
   "metadata": {},
   "outputs": [],
   "source": [
    "encoded_input = Input(shape=(encoding_dim,))\n",
    "decoder_layer = autoencoder.layers[-1]\n",
    "decoder = Model(encoded_input, decoder_layer(encoded_input))"
   ]
  },
  {
   "cell_type": "code",
   "execution_count": 20,
   "metadata": {},
   "outputs": [],
   "source": [
    "autoencoder.compile(optimizer='adadelta', loss='binary_crossentropy')"
   ]
  },
  {
   "cell_type": "code",
   "execution_count": 21,
   "metadata": {},
   "outputs": [],
   "source": [
    "checkpointer1 = ModelCheckpoint(\n",
    "    filepath='modWBest.hdf5', verbose=2, save_best_only=True)"
   ]
  },
  {
   "cell_type": "code",
   "execution_count": 22,
   "metadata": {},
   "outputs": [],
   "source": [
    "checkpointer2 = EarlyStopping(monitor='val_loss', \n",
    "                              min_delta=0.0005, \n",
    "                              patience=2, \n",
    "                              verbose=2, \n",
    "                              mode='auto')"
   ]
  },
  {
   "cell_type": "code",
   "execution_count": 23,
   "metadata": {
    "scrolled": true
   },
   "outputs": [
    {
     "name": "stdout",
     "output_type": "stream",
     "text": [
      "Train on 60000 samples, validate on 10000 samples\n",
      "Epoch 1/50\n",
      "60000/60000 - 3s - loss: 0.6750 - val_loss: 0.6748\n",
      "Epoch 2/50\n",
      "60000/60000 - 3s - loss: 0.6745 - val_loss: 0.6743\n",
      "Epoch 3/50\n",
      "60000/60000 - 3s - loss: 0.6740 - val_loss: 0.6738\n",
      "Epoch 4/50\n",
      "60000/60000 - 3s - loss: 0.6735 - val_loss: 0.6733\n",
      "Epoch 5/50\n",
      "60000/60000 - 3s - loss: 0.6730 - val_loss: 0.6728\n",
      "Epoch 6/50\n",
      "60000/60000 - 3s - loss: 0.6725 - val_loss: 0.6723\n",
      "Epoch 7/50\n",
      "60000/60000 - 3s - loss: 0.6719 - val_loss: 0.6717\n",
      "Epoch 8/50\n",
      "60000/60000 - 3s - loss: 0.6714 - val_loss: 0.6712\n",
      "Epoch 9/50\n",
      "60000/60000 - 3s - loss: 0.6708 - val_loss: 0.6706\n",
      "Epoch 10/50\n",
      "60000/60000 - 3s - loss: 0.6702 - val_loss: 0.6700\n",
      "Epoch 11/50\n",
      "60000/60000 - 3s - loss: 0.6697 - val_loss: 0.6694\n",
      "Epoch 12/50\n",
      "60000/60000 - 3s - loss: 0.6690 - val_loss: 0.6688\n",
      "Epoch 13/50\n",
      "60000/60000 - 3s - loss: 0.6684 - val_loss: 0.6682\n",
      "Epoch 14/50\n",
      "60000/60000 - 3s - loss: 0.6678 - val_loss: 0.6675\n",
      "Epoch 15/50\n",
      "60000/60000 - 3s - loss: 0.6672 - val_loss: 0.6669\n",
      "Epoch 16/50\n",
      "60000/60000 - 3s - loss: 0.6665 - val_loss: 0.6662\n",
      "Epoch 17/50\n",
      "60000/60000 - 3s - loss: 0.6658 - val_loss: 0.6656\n",
      "Epoch 18/50\n",
      "60000/60000 - 3s - loss: 0.6651 - val_loss: 0.6649\n",
      "Epoch 19/50\n",
      "60000/60000 - 3s - loss: 0.6644 - val_loss: 0.6642\n",
      "Epoch 20/50\n",
      "60000/60000 - 3s - loss: 0.6637 - val_loss: 0.6634\n",
      "Epoch 21/50\n",
      "60000/60000 - 3s - loss: 0.6630 - val_loss: 0.6627\n",
      "Epoch 22/50\n",
      "60000/60000 - 3s - loss: 0.6623 - val_loss: 0.6620\n",
      "Epoch 23/50\n",
      "60000/60000 - 3s - loss: 0.6615 - val_loss: 0.6612\n",
      "Epoch 24/50\n",
      "60000/60000 - 3s - loss: 0.6607 - val_loss: 0.6604\n",
      "Epoch 25/50\n",
      "60000/60000 - 3s - loss: 0.6599 - val_loss: 0.6596\n",
      "Epoch 26/50\n",
      "60000/60000 - 3s - loss: 0.6591 - val_loss: 0.6588\n",
      "Epoch 27/50\n",
      "60000/60000 - 3s - loss: 0.6583 - val_loss: 0.6580\n",
      "Epoch 28/50\n",
      "60000/60000 - 3s - loss: 0.6575 - val_loss: 0.6572\n",
      "Epoch 29/50\n",
      "60000/60000 - 3s - loss: 0.6567 - val_loss: 0.6563\n",
      "Epoch 30/50\n",
      "60000/60000 - 3s - loss: 0.6558 - val_loss: 0.6554\n",
      "Epoch 31/50\n",
      "60000/60000 - 3s - loss: 0.6549 - val_loss: 0.6546\n",
      "Epoch 32/50\n",
      "60000/60000 - 3s - loss: 0.6540 - val_loss: 0.6537\n",
      "Epoch 33/50\n",
      "60000/60000 - 3s - loss: 0.6531 - val_loss: 0.6528\n",
      "Epoch 34/50\n",
      "60000/60000 - 3s - loss: 0.6522 - val_loss: 0.6518\n",
      "Epoch 35/50\n",
      "60000/60000 - 3s - loss: 0.6513 - val_loss: 0.6509\n",
      "Epoch 36/50\n",
      "60000/60000 - 3s - loss: 0.6503 - val_loss: 0.6499\n",
      "Epoch 37/50\n",
      "60000/60000 - 3s - loss: 0.6494 - val_loss: 0.6490\n",
      "Epoch 38/50\n",
      "60000/60000 - 3s - loss: 0.6484 - val_loss: 0.6480\n",
      "Epoch 39/50\n",
      "60000/60000 - 3s - loss: 0.6474 - val_loss: 0.6470\n",
      "Epoch 40/50\n",
      "60000/60000 - 3s - loss: 0.6464 - val_loss: 0.6460\n",
      "Epoch 41/50\n",
      "60000/60000 - 3s - loss: 0.6454 - val_loss: 0.6450\n",
      "Epoch 42/50\n",
      "60000/60000 - 3s - loss: 0.6444 - val_loss: 0.6439\n",
      "Epoch 43/50\n",
      "60000/60000 - 3s - loss: 0.6433 - val_loss: 0.6429\n",
      "Epoch 44/50\n",
      "60000/60000 - 3s - loss: 0.6423 - val_loss: 0.6418\n",
      "Epoch 45/50\n",
      "60000/60000 - 3s - loss: 0.6412 - val_loss: 0.6408\n",
      "Epoch 46/50\n",
      "60000/60000 - 3s - loss: 0.6401 - val_loss: 0.6397\n",
      "Epoch 47/50\n",
      "60000/60000 - 3s - loss: 0.6390 - val_loss: 0.6386\n",
      "Epoch 48/50\n",
      "60000/60000 - 3s - loss: 0.6379 - val_loss: 0.6375\n",
      "Epoch 49/50\n",
      "60000/60000 - 3s - loss: 0.6368 - val_loss: 0.6364\n",
      "Epoch 50/50\n",
      "60000/60000 - 3s - loss: 0.6357 - val_loss: 0.6352\n"
     ]
    },
    {
     "data": {
      "text/plain": [
       "<tensorflow.python.keras.callbacks.History at 0x641156b90>"
      ]
     },
     "execution_count": 23,
     "metadata": {},
     "output_type": "execute_result"
    }
   ],
   "source": [
    "EPOCHS = 50\n",
    "BATCH = 256\n",
    "autoencoder.fit(X_train, \n",
    "                X_train, \n",
    "                epochs=EPOCHS, \n",
    "                batch_size=BATCH, \n",
    "                verbose=2, \n",
    "                shuffle=True, \n",
    "                validation_data=(X_test, X_test))"
   ]
  },
  {
   "cell_type": "code",
   "execution_count": 24,
   "metadata": {},
   "outputs": [],
   "source": [
    "encoded_images = encoder.predict(X_test)         # compress\n",
    "decoded_images = decoder.predict(encoded_images) # decompress"
   ]
  },
  {
   "cell_type": "code",
   "execution_count": 25,
   "metadata": {
    "scrolled": true
   },
   "outputs": [
    {
     "data": {
      "text/plain": [
       "'\\nautoencoder.fit(X_train,\\n                X_train,\\n                epochs=EPOCHS,\\n                batch_size=BATCH,\\n                verbose=2,\\n                callbacks=[checkpointer1], # or checkpointer2\\n                shuffle=True,\\n                validation_data=(X_test, X_test))\\n'"
      ]
     },
     "execution_count": 25,
     "metadata": {},
     "output_type": "execute_result"
    }
   ],
   "source": [
    "# With checkpoints and saving:\n",
    "'''\n",
    "autoencoder.fit(X_train,\n",
    "                X_train,\n",
    "                epochs=EPOCHS,\n",
    "                batch_size=BATCH,\n",
    "                verbose=2,\n",
    "                callbacks=[checkpointer1], # or checkpointer2\n",
    "                shuffle=True,\n",
    "                validation_data=(X_test, X_test))\n",
    "'''"
   ]
  },
  {
   "cell_type": "code",
   "execution_count": 26,
   "metadata": {},
   "outputs": [],
   "source": [
    "#autoencoder.load_weights('modWBest.hdf5')\n",
    "#encoded_images = encoder.predict(X_test)\n",
    "#decoded_images = decoder.predict(encoded_images)"
   ]
  },
  {
   "cell_type": "code",
   "execution_count": null,
   "metadata": {},
   "outputs": [],
   "source": [
    "n_items = 12\n",
    "plt.figure(figsize=(20, 4))\n",
    "\n",
    "for i in range(n_items):\n",
    "    # original:\n",
    "    graph = plt.subpot(2, n_items, i + 1)\n",
    "    plt.imshow(X_test[i].reshape(28, 28))\n",
    "    plt.gray()\n",
    "    graph.get_xaxis().set_visible(False)\n",
    "    graph.get_yaxis().set_visible(False)\n",
    "    \n",
    "    # compressed/decompressed\n",
    "    graph = plt.subplot(2, n_items, i + 1 + n_items)\n",
    "    plt.imshow(decoded_images[i].reshape(28, 28))\n",
    "    plt.gray()\n",
    "    graph.get_xaxis().set_visible(False)\n",
    "    graph.get_yaxis().set_visible(False)"
   ]
  },
  {
   "cell_type": "code",
   "execution_count": null,
   "metadata": {},
   "outputs": [],
   "source": []
  }
 ],
 "metadata": {
  "kernelspec": {
   "display_name": "Python 3",
   "language": "python",
   "name": "python3"
  },
  "language_info": {
   "codemirror_mode": {
    "name": "ipython",
    "version": 3
   },
   "file_extension": ".py",
   "mimetype": "text/x-python",
   "name": "python",
   "nbconvert_exporter": "python",
   "pygments_lexer": "ipython3",
   "version": "3.7.4"
  }
 },
 "nbformat": 4,
 "nbformat_minor": 4
}
