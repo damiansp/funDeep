{
 "cells": [
  {
   "cell_type": "code",
   "execution_count": 1,
   "metadata": {},
   "outputs": [],
   "source": [
    "import matplotlib.pyplot as plt\n",
    "import numpy as np\n",
    "from   tensorflow.keras import regularizers\n",
    "from   tensorflow.keras.callbacks import EarlyStopping, ModelCheckpoint\n",
    "from   tensorflow.keras.datasets import fashion_mnist\n",
    "from   tensorflow.keras.layers import Dense, Input\n",
    "from   tensorflow.keras.models import Model\n",
    "\n",
    "%matplotlib inline"
   ]
  },
  {
   "cell_type": "code",
   "execution_count": 2,
   "metadata": {},
   "outputs": [],
   "source": [
    "(X_train, _), (X_test, _) = fashion_mnist.load_data()\n",
    "X_train = X_train.astype('float32') / 255.\n",
    "X_test = X_test.astype('float32') / 255."
   ]
  },
  {
   "cell_type": "code",
   "execution_count": 3,
   "metadata": {},
   "outputs": [
    {
     "data": {
      "text/plain": [
       "((60000, 28, 28), (10000, 28, 28))"
      ]
     },
     "execution_count": 3,
     "metadata": {},
     "output_type": "execute_result"
    }
   ],
   "source": [
    "X_train.shape, X_test.shape"
   ]
  },
  {
   "cell_type": "code",
   "execution_count": 4,
   "metadata": {},
   "outputs": [],
   "source": [
    "# Flatten\n",
    "X_train = X_train.reshape((X_train.shape[0], np.prod(X_train.shape[1:])))\n",
    "X_test = X_test.reshape((X_test.shape[0], np.prod(X_test.shape[1:])))"
   ]
  },
  {
   "cell_type": "code",
   "execution_count": 5,
   "metadata": {},
   "outputs": [
    {
     "data": {
      "text/plain": [
       "((60000, 784), (10000, 784))"
      ]
     },
     "execution_count": 5,
     "metadata": {},
     "output_type": "execute_result"
    }
   ],
   "source": [
    "X_train.shape, X_test.shape"
   ]
  },
  {
   "cell_type": "code",
   "execution_count": 6,
   "metadata": {},
   "outputs": [],
   "source": [
    "image_dim = X_train.shape[1]\n",
    "encoding_dim = 32"
   ]
  },
  {
   "cell_type": "code",
   "execution_count": 7,
   "metadata": {},
   "outputs": [],
   "source": [
    "input_image = Input(shape=(image_dim,))\n",
    "encoded_image = Dense(\n",
    "    encoding_dim, \n",
    "    activation='relu', \n",
    "    activity_regularizer=regularizers.l1(10e-5)\n",
    ")(input_image)\n",
    "encoder = Model(input_image, encoded_image)\n",
    "decoded_image = Dense(image_dim, activation='sigmoid')(encoded_image)\n",
    "autoencoder = Model(input_image, decoded_image)"
   ]
  },
  {
   "cell_type": "code",
   "execution_count": 8,
   "metadata": {},
   "outputs": [],
   "source": [
    "encoded_input = Input(shape=(encoding_dim,))\n",
    "decoder_layer = autoencoder.layers[-1]\n",
    "decoder = Model(encoded_input, decoder_layer(encoded_input))"
   ]
  },
  {
   "cell_type": "code",
   "execution_count": 9,
   "metadata": {},
   "outputs": [],
   "source": [
    "autoencoder.compile(optimizer='adadelta', loss='binary_crossentropy')"
   ]
  },
  {
   "cell_type": "code",
   "execution_count": 10,
   "metadata": {},
   "outputs": [],
   "source": [
    "checkpointer1 = ModelCheckpoint(\n",
    "    filepath='modWBest.hdf5', verbose=2, save_best_only=True)"
   ]
  },
  {
   "cell_type": "code",
   "execution_count": 11,
   "metadata": {},
   "outputs": [],
   "source": [
    "checkpointer2 = EarlyStopping(monitor='val_loss', \n",
    "                              min_delta=0.0005, \n",
    "                              patience=2, \n",
    "                              verbose=2, \n",
    "                              mode='auto')"
   ]
  },
  {
   "cell_type": "code",
   "execution_count": 12,
   "metadata": {
    "scrolled": true
   },
   "outputs": [
    {
     "name": "stdout",
     "output_type": "stream",
     "text": [
      "Train on 60000 samples, validate on 10000 samples\n",
      "Epoch 1/50\n",
      "60000/60000 - 4s - loss: 0.6942 - val_loss: 0.6941\n",
      "Epoch 2/50\n",
      "60000/60000 - 3s - loss: 0.6939 - val_loss: 0.6938\n",
      "Epoch 3/50\n",
      "60000/60000 - 3s - loss: 0.6936 - val_loss: 0.6935\n",
      "Epoch 4/50\n",
      "60000/60000 - 3s - loss: 0.6933 - val_loss: 0.6932\n",
      "Epoch 5/50\n",
      "60000/60000 - 3s - loss: 0.6931 - val_loss: 0.6929\n",
      "Epoch 6/50\n",
      "60000/60000 - 3s - loss: 0.6928 - val_loss: 0.6927\n",
      "Epoch 7/50\n",
      "60000/60000 - 3s - loss: 0.6925 - val_loss: 0.6924\n",
      "Epoch 8/50\n",
      "60000/60000 - 3s - loss: 0.6923 - val_loss: 0.6922\n",
      "Epoch 9/50\n",
      "60000/60000 - 3s - loss: 0.6920 - val_loss: 0.6919\n",
      "Epoch 10/50\n",
      "60000/60000 - 3s - loss: 0.6918 - val_loss: 0.6917\n",
      "Epoch 11/50\n",
      "60000/60000 - 3s - loss: 0.6915 - val_loss: 0.6914\n",
      "Epoch 12/50\n",
      "60000/60000 - 3s - loss: 0.6913 - val_loss: 0.6912\n",
      "Epoch 13/50\n",
      "60000/60000 - 3s - loss: 0.6910 - val_loss: 0.6909\n",
      "Epoch 14/50\n",
      "60000/60000 - 3s - loss: 0.6908 - val_loss: 0.6907\n",
      "Epoch 15/50\n",
      "60000/60000 - 3s - loss: 0.6906 - val_loss: 0.6905\n",
      "Epoch 16/50\n",
      "60000/60000 - 3s - loss: 0.6904 - val_loss: 0.6903\n",
      "Epoch 17/50\n",
      "60000/60000 - 3s - loss: 0.6901 - val_loss: 0.6900\n",
      "Epoch 18/50\n",
      "60000/60000 - 3s - loss: 0.6899 - val_loss: 0.6898\n",
      "Epoch 19/50\n",
      "60000/60000 - 3s - loss: 0.6897 - val_loss: 0.6896\n",
      "Epoch 20/50\n",
      "60000/60000 - 3s - loss: 0.6894 - val_loss: 0.6893\n",
      "Epoch 21/50\n",
      "60000/60000 - 3s - loss: 0.6892 - val_loss: 0.6891\n",
      "Epoch 22/50\n",
      "60000/60000 - 3s - loss: 0.6890 - val_loss: 0.6889\n",
      "Epoch 23/50\n",
      "60000/60000 - 3s - loss: 0.6888 - val_loss: 0.6887\n",
      "Epoch 24/50\n",
      "60000/60000 - 3s - loss: 0.6885 - val_loss: 0.6884\n",
      "Epoch 25/50\n",
      "60000/60000 - 3s - loss: 0.6883 - val_loss: 0.6882\n",
      "Epoch 26/50\n",
      "60000/60000 - 3s - loss: 0.6881 - val_loss: 0.6879\n",
      "Epoch 27/50\n",
      "60000/60000 - 3s - loss: 0.6878 - val_loss: 0.6877\n",
      "Epoch 28/50\n",
      "60000/60000 - 3s - loss: 0.6876 - val_loss: 0.6875\n",
      "Epoch 29/50\n",
      "60000/60000 - 3s - loss: 0.6873 - val_loss: 0.6872\n",
      "Epoch 30/50\n",
      "60000/60000 - 3s - loss: 0.6871 - val_loss: 0.6870\n",
      "Epoch 31/50\n",
      "60000/60000 - 3s - loss: 0.6868 - val_loss: 0.6867\n",
      "Epoch 32/50\n",
      "60000/60000 - 3s - loss: 0.6866 - val_loss: 0.6865\n",
      "Epoch 33/50\n",
      "60000/60000 - 3s - loss: 0.6863 - val_loss: 0.6862\n",
      "Epoch 34/50\n",
      "60000/60000 - 3s - loss: 0.6861 - val_loss: 0.6860\n",
      "Epoch 35/50\n",
      "60000/60000 - 3s - loss: 0.6858 - val_loss: 0.6857\n",
      "Epoch 36/50\n",
      "60000/60000 - 3s - loss: 0.6855 - val_loss: 0.6854\n",
      "Epoch 37/50\n",
      "60000/60000 - 3s - loss: 0.6853 - val_loss: 0.6851\n",
      "Epoch 38/50\n",
      "60000/60000 - 3s - loss: 0.6850 - val_loss: 0.6849\n",
      "Epoch 39/50\n",
      "60000/60000 - 3s - loss: 0.6847 - val_loss: 0.6846\n",
      "Epoch 40/50\n",
      "60000/60000 - 3s - loss: 0.6844 - val_loss: 0.6843\n",
      "Epoch 41/50\n",
      "60000/60000 - 3s - loss: 0.6841 - val_loss: 0.6840\n",
      "Epoch 42/50\n",
      "60000/60000 - 3s - loss: 0.6838 - val_loss: 0.6837\n",
      "Epoch 43/50\n",
      "60000/60000 - 3s - loss: 0.6835 - val_loss: 0.6834\n",
      "Epoch 44/50\n",
      "60000/60000 - 3s - loss: 0.6832 - val_loss: 0.6830\n",
      "Epoch 45/50\n",
      "60000/60000 - 3s - loss: 0.6829 - val_loss: 0.6827\n",
      "Epoch 46/50\n",
      "60000/60000 - 3s - loss: 0.6825 - val_loss: 0.6824\n",
      "Epoch 47/50\n",
      "60000/60000 - 3s - loss: 0.6822 - val_loss: 0.6820\n",
      "Epoch 48/50\n",
      "60000/60000 - 3s - loss: 0.6818 - val_loss: 0.6817\n",
      "Epoch 49/50\n",
      "60000/60000 - 3s - loss: 0.6815 - val_loss: 0.6813\n",
      "Epoch 50/50\n",
      "60000/60000 - 3s - loss: 0.6811 - val_loss: 0.6810\n"
     ]
    },
    {
     "data": {
      "text/plain": [
       "<tensorflow.python.keras.callbacks.History at 0x6589c4890>"
      ]
     },
     "execution_count": 12,
     "metadata": {},
     "output_type": "execute_result"
    }
   ],
   "source": [
    "EPOCHS = 50\n",
    "BATCH = 256\n",
    "autoencoder.fit(X_train, \n",
    "                X_train, \n",
    "                epochs=EPOCHS, \n",
    "                batch_size=BATCH, \n",
    "                verbose=2, \n",
    "                shuffle=True, \n",
    "                validation_data=(X_test, X_test))"
   ]
  },
  {
   "cell_type": "code",
   "execution_count": 13,
   "metadata": {},
   "outputs": [],
   "source": [
    "encoded_images = encoder.predict(X_test)         # compress\n",
    "decoded_images = decoder.predict(encoded_images) # decompress"
   ]
  },
  {
   "cell_type": "code",
   "execution_count": 14,
   "metadata": {
    "scrolled": true
   },
   "outputs": [
    {
     "data": {
      "text/plain": [
       "'\\nautoencoder.fit(X_train,\\n                X_train,\\n                epochs=EPOCHS,\\n                batch_size=BATCH,\\n                verbose=2,\\n                callbacks=[checkpointer1], # or checkpointer2\\n                shuffle=True,\\n                validation_data=(X_test, X_test))\\n'"
      ]
     },
     "execution_count": 14,
     "metadata": {},
     "output_type": "execute_result"
    }
   ],
   "source": [
    "# With checkpoints and saving:\n",
    "'''\n",
    "autoencoder.fit(X_train,\n",
    "                X_train,\n",
    "                epochs=EPOCHS,\n",
    "                batch_size=BATCH,\n",
    "                verbose=2,\n",
    "                callbacks=[checkpointer1], # or checkpointer2\n",
    "                shuffle=True,\n",
    "                validation_data=(X_test, X_test))\n",
    "'''"
   ]
  },
  {
   "cell_type": "code",
   "execution_count": 15,
   "metadata": {},
   "outputs": [],
   "source": [
    "#autoencoder.load_weights('modWBest.hdf5')\n",
    "#encoded_images = encoder.predict(X_test)\n",
    "#decoded_images = decoder.predict(encoded_images)"
   ]
  },
  {
   "cell_type": "code",
   "execution_count": null,
   "metadata": {},
   "outputs": [],
   "source": [
    "n_items = 12\n",
    "plt.figure(figsize=(20, 4))\n",
    "\n",
    "for i in range(n_items):\n",
    "    # original:\n",
    "    graph = plt.subpot(2, n_items, i + 1)\n",
    "    plt.imshow(X_test[i].reshape(28, 28))\n",
    "    plt.gray()\n",
    "    graph.get_xaxis().set_visible(False)\n",
    "    graph.get_yaxis().set_visible(False)\n",
    "    \n",
    "    # compressed/decompressed\n",
    "    graph = plt.subplot(2, n_items, i + 1 + n_items)\n",
    "    plt.imshow(decoded_images[i].reshape(28, 28))\n",
    "    plt.gray()\n",
    "    graph.get_xaxis().set_visible(False)\n",
    "    graph.get_yaxis().set_visible(False)"
   ]
  },
  {
   "cell_type": "code",
   "execution_count": null,
   "metadata": {},
   "outputs": [],
   "source": []
  },
  {
   "cell_type": "code",
   "execution_count": null,
   "metadata": {},
   "outputs": [],
   "source": []
  }
 ],
 "metadata": {
  "kernelspec": {
   "display_name": "Python 3",
   "language": "python",
   "name": "python3"
  },
  "language_info": {
   "codemirror_mode": {
    "name": "ipython",
    "version": 3
   },
   "file_extension": ".py",
   "mimetype": "text/x-python",
   "name": "python",
   "nbconvert_exporter": "python",
   "pygments_lexer": "ipython3",
   "version": "3.7.4"
  }
 },
 "nbformat": 4,
 "nbformat_minor": 4
}
