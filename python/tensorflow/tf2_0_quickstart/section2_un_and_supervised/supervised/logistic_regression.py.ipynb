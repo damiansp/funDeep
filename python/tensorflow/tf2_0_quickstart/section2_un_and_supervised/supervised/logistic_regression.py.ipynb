{
 "cells": [
  {
   "cell_type": "code",
   "execution_count": 1,
   "metadata": {},
   "outputs": [
    {
     "name": "stderr",
     "output_type": "stream",
     "text": [
      "Using TensorFlow backend.\n"
     ]
    }
   ],
   "source": [
    "import keras\n",
    "from   keras.callbacks import ModelCheckpoint\n",
    "import matplotlib.pyplot as plt\n",
    "import numpy as np\n",
    "import tensorflow as tf\n",
    "from   tensorflow.python.keras.datasets import fashion_mnist\n",
    "\n",
    "%matplotlib inline"
   ]
  },
  {
   "cell_type": "code",
   "execution_count": 2,
   "metadata": {},
   "outputs": [],
   "source": [
    "BATCH = 128\n",
    "EPOCHS = 20\n",
    "N_CLASSES = 10\n",
    "ETA = 0.1\n",
    "WIDTH, HEIGHT = 28, 28"
   ]
  },
  {
   "cell_type": "code",
   "execution_count": 3,
   "metadata": {},
   "outputs": [],
   "source": [
    "fashion_labels = [\n",
    "    # 0          1           2           3        4       5\n",
    "    'Shirt/top', 'Trousers', 'Pullover', 'Dress', 'Coat', 'Sandal', \n",
    "    # 6          7           8           9\n",
    "    'Shirt',     'Sneaker',  'Bag',      'Ankle boot']\n",
    "(X_train, y_train), (X_test, y_test) = fashion_mnist.load_data()"
   ]
  },
  {
   "cell_type": "code",
   "execution_count": 4,
   "metadata": {},
   "outputs": [],
   "source": [
    "# Flatten:\n",
    "X_train = X_train.reshape((60000, WIDTH * HEIGHT))\n",
    "X_test = X_test.reshape((10000, WIDTH * HEIGHT))"
   ]
  },
  {
   "cell_type": "code",
   "execution_count": 5,
   "metadata": {},
   "outputs": [],
   "source": [
    "SPLIT = 50000\n",
    "(X_train, X_valid) = X_train[:SPLIT], X_train[SPLIT:]\n",
    "(y_train, y_valid) = y_train[:SPLIT], y_train[SPLIT:]"
   ]
  },
  {
   "cell_type": "code",
   "execution_count": 6,
   "metadata": {},
   "outputs": [],
   "source": [
    "# One-Hot Encoding for lables\n",
    "y_train_1 = tf.one_hot(y_train, depth=N_CLASSES).numpy()\n",
    "y_valid_1 = tf.one_hot(y_valid, depth=N_CLASSES).numpy()\n",
    "y_test_1 = tf.one_hot(y_test, depth=N_CLASSES).numpy()"
   ]
  },
  {
   "cell_type": "code",
   "execution_count": 7,
   "metadata": {},
   "outputs": [
    {
     "name": "stdout",
     "output_type": "stream",
     "text": [
      "Ankle boot Shirt/top Shirt/top Dress Shirt/top Pullover Sneaker Pullover Sandal Sandal "
     ]
    },
    {
     "data": {
      "image/png": "[encoded data removed]",
      "text/plain": [
       "<Figure size 576x72 with 10 Axes>"
      ]
     },
     "metadata": {
      "needs_background": "light"
     },
     "output_type": "display_data"
    }
   ],
   "source": [
    "# Sample images\n",
    "_, image = plt.subplots(1, N_CLASSES, figsize=(8, 1))\n",
    "\n",
    "for i in range(N_CLASSES):\n",
    "    image[i].imshow(np.reshape(X_train[i], (WIDTH, HEIGHT)), cmap='Greys')\n",
    "    print(fashion_labels[y_train[i]], sep=' ', end=' ')"
   ]
  },
  {
   "cell_type": "code",
   "execution_count": 8,
   "metadata": {},
   "outputs": [],
   "source": [
    "# Canonical Google approach for modeling (subclass tf.keras.Model)\n",
    "class LogisticRegression(tf.keras.Model):\n",
    "    def __init__(self, n_classes):\n",
    "        super(LogisticRegression, self).__init__()\n",
    "        self.dense = tf.keras.layers.Dense(n_classes)\n",
    "        \n",
    "    def call(self, inputs, training=None, mask=None):\n",
    "        output = self.dense(inputs)\n",
    "        # softmax op does not exist on GPU so force CPU\n",
    "        with tf.device('/cpu:0'):\n",
    "            output = tf.nn.softmax(output)\n",
    "        return output"
   ]
  },
  {
   "cell_type": "code",
   "execution_count": 9,
   "metadata": {},
   "outputs": [],
   "source": [
    "mod = LogisticRegression(N_CLASSES)\n",
    "optimizer = tf.optimizers.SGD(ETA)\n",
    "#optimizer = tf.keras.optimizers.Adam() # not supported in eager mode\n",
    "mod.compile(optimizer=optimizer, \n",
    "            loss='categorical_crossentropy', \n",
    "            metrics=['accuracy'])"
   ]
  },
  {
   "cell_type": "code",
   "execution_count": null,
   "metadata": {},
   "outputs": [],
   "source": [
    "# TF Keras tries to use the entire dataset to determine the shape without \n",
    "# this step when using .fit() So, use one sample of the provided input \n",
    "# data set size to determine input/output shapes for the model\n",
    "X_dummy = tf.zeros((1, WIDTH * HEIGHT)) \n",
    "mod.call(X_dummy)\n",
    "\n",
    "# Causes jupyter kernel to crash...! Can (prob) run as .py"
   ]
  },
  {
   "cell_type": "code",
   "execution_count": null,
   "metadata": {},
   "outputs": [
    {
     "name": "stdout",
     "output_type": "stream",
     "text": [
      "Train on 50000 samples, validate on 10000 samples\n",
      "Epoch 1/20\n"
     ]
    }
   ],
   "source": [
    "weight_path = './mod.w.best.hdf5'\n",
    "checkpointer = ModelCheckpoint(filepath=weight_path, \n",
    "                               verbose=2, \n",
    "                               save_best_only=True, \n",
    "                               save_weights_only=True)\n",
    "mod.fit(X_train, \n",
    "        y_train_1, \n",
    "        batch_size=BATCH, \n",
    "        epochs=EPOCHS, \n",
    "        validation_data=(X_valid, y_valid_1), \n",
    "        callbacks=[checkpointer], \n",
    "        verbose=2)\n",
    "mod.load_weights(weight_path)"
   ]
  },
  {
   "cell_type": "code",
   "execution_count": null,
   "metadata": {},
   "outputs": [],
   "source": [
    "scores = mod.evaluate(X_test, y_test_1, BATCH, verbose=2)\n",
    "print('Acc:', scores)"
   ]
  },
  {
   "cell_type": "code",
   "execution_count": 1,
   "metadata": {},
   "outputs": [
    {
     "ename": "NameError",
     "evalue": "name 'mod' is not defined",
     "output_type": "error",
     "traceback": [
      "\u001b[0;31m---------------------------------------------------------------------------\u001b[0m",
      "\u001b[0;31mNameError\u001b[0m                                 Traceback (most recent call last)",
      "\u001b[0;32m<ipython-input-1-2f6c9813a832>\u001b[0m in \u001b[0;36m<module>\u001b[0;34m\u001b[0m\n\u001b[0;32m----> 1\u001b[0;31m \u001b[0my_preds\u001b[0m \u001b[0;34m=\u001b[0m \u001b[0mmod\u001b[0m\u001b[0;34m.\u001b[0m\u001b[0mpredict\u001b[0m\u001b[0;34m(\u001b[0m\u001b[0mX_test\u001b[0m\u001b[0;34m)\u001b[0m\u001b[0;34m\u001b[0m\u001b[0;34m\u001b[0m\u001b[0m\n\u001b[0m",
      "\u001b[0;31mNameError\u001b[0m: name 'mod' is not defined"
     ]
    }
   ],
   "source": [
    "y_preds = mod.predict(X_test)"
   ]
  },
  {
   "cell_type": "code",
   "execution_count": null,
   "metadata": {},
   "outputs": [],
   "source": [
    "INDEX = 42\n",
    "i_pred = np.argmax(y_preds[INDEX])\n",
    "i_actual = np.argmax(y_test_1[INDEX])\n",
    "\n",
    "print(f'Predicted: {fashion_labels[i_pred]}\\n'\n",
    "      f'Actual: {fashion_labels[i_actual]}')"
   ]
  },
  {
   "cell_type": "code",
   "execution_count": null,
   "metadata": {},
   "outputs": [],
   "source": [
    "print ('\\n\\nPredicted V (True) fashion labels, green is correct, red is '\n",
    "       'wrong')\n",
    "size = 12 # i.e. 12 random numbers chosen\n",
    "fig = plt.figure(figsize=(15, 3))\n",
    "rows = 3\n",
    "cols = 4"
   ]
  },
  {
   "cell_type": "code",
   "execution_count": null,
   "metadata": {},
   "outputs": [],
   "source": [
    "for i, index in enumerate(\n",
    "        np.random.choice(x_test.shape[0], size=size, replace=False)):\n",
    "    axis = fig.add_subplot(rows, cols, i + 1, xticks=[], yticks=[])\n",
    "    axis.imshow(x_test[index].reshape(WIDTH, HEIGHT), cmap=\"Greys\")\n",
    "    index_predicted = np.argmax(y_predictions[index])\n",
    "    index_true = np.argmax(y_test_1[index])\n",
    "    axis.set_title(\n",
    "        'f{fashion_labels[index_predicted]} ({fashion_labels[index_true]})',\n",
    "        color=('green' if index_predicted==index_true else 'red'))"
   ]
  },
  {
   "cell_type": "code",
   "execution_count": null,
   "metadata": {},
   "outputs": [],
   "source": []
  }
 ],
 "metadata": {
  "kernelspec": {
   "display_name": "Python 3",
   "language": "python",
   "name": "python3"
  },
  "language_info": {
   "codemirror_mode": {
    "name": "ipython",
    "version": 3
   },
   "file_extension": ".py",
   "mimetype": "text/x-python",
   "name": "python",
   "nbconvert_exporter": "python",
   "pygments_lexer": "ipython3",
   "version": "3.7.4"
  }
 },
 "nbformat": 4,
 "nbformat_minor": 4
}
