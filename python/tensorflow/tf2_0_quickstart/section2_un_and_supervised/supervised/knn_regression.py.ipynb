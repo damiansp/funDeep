{
 "cells": [
  {
   "cell_type": "code",
   "execution_count": 1,
   "metadata": {},
   "outputs": [],
   "source": [
    "import numpy as np\n",
    "from   sklearn import datasets\n",
    "import tensorflow as tf"
   ]
  },
  {
   "cell_type": "code",
   "execution_count": 6,
   "metadata": {},
   "outputs": [
    {
     "data": {
      "text/plain": [
       "((150, 4), (150,))"
      ]
     },
     "execution_count": 6,
     "metadata": {},
     "output_type": "execute_result"
    }
   ],
   "source": [
    "iris = datasets.load_iris()\n",
    "X = np.array([i for i in iris.data])\n",
    "y = np.array(iris.target)\n",
    "\n",
    "X.shape, y.shape"
   ]
  },
  {
   "cell_type": "code",
   "execution_count": 7,
   "metadata": {},
   "outputs": [],
   "source": [
    "labels = ['setosa', 'virginica', 'versicolor']"
   ]
  },
  {
   "cell_type": "code",
   "execution_count": 8,
   "metadata": {},
   "outputs": [
    {
     "data": {
      "text/plain": [
       "array([[1., 0., 0.],\n",
       "       [1., 0., 0.],\n",
       "       [1., 0., 0.],\n",
       "       [1., 0., 0.],\n",
       "       [1., 0., 0.],\n",
       "       [1., 0., 0.],\n",
       "       [1., 0., 0.],\n",
       "       [1., 0., 0.],\n",
       "       [1., 0., 0.],\n",
       "       [1., 0., 0.]])"
      ]
     },
     "execution_count": 8,
     "metadata": {},
     "output_type": "execute_result"
    }
   ],
   "source": [
    "y = np.eye(len(set(y)))[y]\n",
    "y[:10]"
   ]
  },
  {
   "cell_type": "code",
   "execution_count": 9,
   "metadata": {},
   "outputs": [],
   "source": [
    "# [0, 1] normalization\n",
    "X = (X - X.min(axis=0)) / (X.max(axis=0) - X.min(axis=0))"
   ]
  },
  {
   "cell_type": "code",
   "execution_count": 13,
   "metadata": {},
   "outputs": [],
   "source": [
    "split = 0.8\n",
    "train_inds = np.random.choice(\n",
    "    len(X), round(len(X) * split), replace=False)\n",
    "test_inds = np.array(list(set(range(len(X))) - set(train_inds)))"
   ]
  },
  {
   "cell_type": "code",
   "execution_count": 14,
   "metadata": {},
   "outputs": [],
   "source": [
    "X_train = X[train_inds]\n",
    "X_test = X[test_inds]\n",
    "y_train = y[train_inds]\n",
    "y_test = y[test_inds]"
   ]
  },
  {
   "cell_type": "code",
   "execution_count": 15,
   "metadata": {},
   "outputs": [],
   "source": [
    "K = 5 # no. neighbors to use"
   ]
  },
  {
   "cell_type": "code",
   "execution_count": 20,
   "metadata": {},
   "outputs": [],
   "source": [
    "def predict(X_train, X_test, y_train, k):\n",
    "    distances = tf.reduce_sum(\n",
    "        tf.abs(tf.subtract(X_train, tf.expand_dims(X_test, axis=1))), \n",
    "        axis=2)\n",
    "    _, top_k_inds = tf.nn.top_k(tf.negative(distances), k=k)\n",
    "    top_k_labels = tf.gather(y_train, top_k_inds)\n",
    "    predictions_sum = tf.reduce_sum(top_k_labels, axis=1)\n",
    "    pred = tf.argmax(predictions_sum, axis=1)\n",
    "    return pred"
   ]
  },
  {
   "cell_type": "code",
   "execution_count": 24,
   "metadata": {},
   "outputs": [
    {
     "name": "stdout",
     "output_type": "stream",
     "text": [
      "i\t Predicted\t Actual\n",
      "-\t ---------\t ------\n",
      "0 \t versicolor \t versicolor\n",
      "1 \t versicolor \t versicolor\n",
      "2 \t setosa \t setosa\n",
      "3 \t setosa \t setosa\n",
      "4 \t setosa \t setosa\n",
      "5 \t setosa \t setosa\n",
      "6 \t setosa \t setosa\n",
      "7 \t setosa \t setosa\n",
      "8 \t versicolor \t versicolor\n",
      "9 \t versicolor \t versicolor\n",
      "10 \t setosa \t setosa\n",
      "11 \t setosa \t setosa\n",
      "12 \t virginica \t virginica\n",
      "13 \t virginica \t virginica\n",
      "14 \t virginica \t virginica\n",
      "15 \t virginica \t virginica\n",
      "16 \t virginica \t virginica\n",
      "17 \t virginica \t virginica\n",
      "18 \t virginica \t virginica\n",
      "19 \t virginica \t virginica\n",
      "20 \t versicolor \t virginica\n",
      "21 \t virginica \t virginica\n",
      "22 \t virginica \t virginica\n",
      "23 \t versicolor \t virginica\n",
      "24 \t virginica \t virginica\n",
      "25 \t virginica \t virginica\n",
      "26 \t virginica \t virginica\n",
      "27 \t versicolor \t versicolor\n",
      "28 \t versicolor \t versicolor\n",
      "29 \t versicolor \t versicolor\n",
      "Accuracy: 0.93333\n"
     ]
    }
   ],
   "source": [
    "i, total = 0, 0\n",
    "res = zip(predict(X_train, X_test, y_train, K), y_test)\n",
    "print('i\\t Predicted\\t Actual')\n",
    "print('-\\t ---------\\t ------')\n",
    "for pred, actual in res:\n",
    "    print(i, '\\t', labels[pred.numpy()], '\\t', labels[np.argmax(actual)])\n",
    "    if pred.numpy() == np.argmax(actual):\n",
    "        total += 1\n",
    "    i += 1\n",
    "acc = total / i\n",
    "print(f'Accuracy: {acc:.5f}')"
   ]
  },
  {
   "cell_type": "code",
   "execution_count": null,
   "metadata": {},
   "outputs": [],
   "source": []
  }
 ],
 "metadata": {
  "kernelspec": {
   "display_name": "Python 3",
   "language": "python",
   "name": "python3"
  },
  "language_info": {
   "codemirror_mode": {
    "name": "ipython",
    "version": 3
   },
   "file_extension": ".py",
   "mimetype": "text/x-python",
   "name": "python",
   "nbconvert_exporter": "python",
   "pygments_lexer": "ipython3",
   "version": "3.7.4"
  }
 },
 "nbformat": 4,
 "nbformat_minor": 4
}
