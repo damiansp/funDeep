{
 "cells": [
  {
   "cell_type": "code",
   "execution_count": 6,
   "metadata": {},
   "outputs": [
    {
     "name": "stdout",
     "output_type": "stream",
     "text": [
      "full_numpy_bitmap_ambulance.npy   full_numpy_bitmap_mermaid.npy\r\n",
      "full_numpy_bitmap_crocodile.npy   full_numpy_bitmap_raccoon.npy\r\n",
      "full_numpy_bitmap_eye.npy         full_numpy_bitmap_rifle.npy\r\n",
      "full_numpy_bitmap_flamingo.npy    full_numpy_bitmap_snail.npy\r\n",
      "full_numpy_bitmap_harp.npy        full_numpy_bitmap_stethoscope.npy\r\n"
     ]
    }
   ],
   "source": [
    "impor\n",
    "import tensorflow as tf\n"
   ]
  },
  {
   "cell_type": "code",
   "execution_count": 9,
   "metadata": {},
   "outputs": [],
   "source": [
    "DATA = '../../../../data/quickdraw'\n",
    "FILE_TEMPLATE = f'{DATA}/full_numpy_bitmap_%s.py'\n",
    "categories = ['ambulance', 'crocodile', 'eye', 'flamingo', 'harp', \n",
    "              'mermaid', 'raccoon', 'rifle', 'snail', 'stethoscope']\n",
    "filenames = [FILE_TEMPLATE % x for x in categories]"
   ]
  },
  {
   "cell_type": "code",
   "execution_count": 11,
   "metadata": {},
   "outputs": [
    {
     "data": {
      "text/plain": [
       "10000"
      ]
     },
     "execution_count": 11,
     "metadata": {},
     "output_type": "execute_result"
    }
   ],
   "source": [
    "BATCH = 128\n",
    "DIM = 28\n",
    "N_IMAGES = 100000 # reduce if mem issues\n",
    "N_FILES = len(categories)\n",
    "IMAGES_PER_CATEGORY = N_IMAGES // N_FILES\n",
    "IMAGES_PER_CATEGORY"
   ]
  },
  {
   "cell_type": "code",
   "execution_count": null,
   "metadata": {},
   "outputs": [],
   "source": []
  }
 ],
 "metadata": {
  "kernelspec": {
   "display_name": "Python 3",
   "language": "python",
   "name": "python3"
  },
  "language_info": {
   "codemirror_mode": {
    "name": "ipython",
    "version": 3
   },
   "file_extension": ".py",
   "mimetype": "text/x-python",
   "name": "python",
   "nbconvert_exporter": "python",
   "pygments_lexer": "ipython3",
   "version": "3.7.4"
  }
 },
 "nbformat": 4,
 "nbformat_minor": 4
}
