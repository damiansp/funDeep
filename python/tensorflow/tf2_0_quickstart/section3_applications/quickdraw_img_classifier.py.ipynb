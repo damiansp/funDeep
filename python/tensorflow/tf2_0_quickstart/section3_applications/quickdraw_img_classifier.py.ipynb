{
 "cells": [
  {
   "cell_type": "code",
   "execution_count": 24,
   "metadata": {},
   "outputs": [],
   "source": [
    "import numpy as np\n",
    "from   sklearn.model_selection import train_test_split\n",
    "import tensorflow as tf\n",
    "from   tensorflow.keras.layers import (\n",
    "    Conv2D, Dense, Dropout, Flatten, MaxPooling2D)\n",
    "from   tensorflow.keras.losses import categorical_crossentropy as cxe"
   ]
  },
  {
   "cell_type": "code",
   "execution_count": 11,
   "metadata": {},
   "outputs": [
    {
     "name": "stdout",
     "output_type": "stream",
     "text": [
      "full_numpy_bitmap_ambulance.npy   full_numpy_bitmap_mermaid.npy\r\n",
      "full_numpy_bitmap_crocodile.npy   full_numpy_bitmap_raccoon.npy\r\n",
      "full_numpy_bitmap_eye.npy         full_numpy_bitmap_rifle.npy\r\n",
      "full_numpy_bitmap_flamingo.npy    full_numpy_bitmap_snail.npy\r\n",
      "full_numpy_bitmap_harp.npy        full_numpy_bitmap_stethoscope.npy\r\n"
     ]
    }
   ],
   "source": [
    "!ls ../../../../data/quickdraw"
   ]
  },
  {
   "cell_type": "code",
   "execution_count": 12,
   "metadata": {},
   "outputs": [],
   "source": [
    "DATA = '../../../../data/quickdraw'\n",
    "FILE_TEMPLATE = f'{DATA}/full_numpy_bitmap_%s.npy'\n",
    "categories = ['ambulance', 'crocodile', 'eye', 'flamingo', 'harp', \n",
    "              'mermaid', 'raccoon', 'rifle', 'snail', 'stethoscope']\n",
    "filenames = [FILE_TEMPLATE % x for x in categories]"
   ]
  },
  {
   "cell_type": "code",
   "execution_count": 13,
   "metadata": {},
   "outputs": [
    {
     "data": {
      "text/plain": [
       "10000"
      ]
     },
     "execution_count": 13,
     "metadata": {},
     "output_type": "execute_result"
    }
   ],
   "source": [
    "BATCH = 128\n",
    "DIM = 28\n",
    "N_IMAGES = 100000 # reduce if mem issues\n",
    "N_FILES = len(categories)\n",
    "IMAGES_PER_CATEGORY = N_IMAGES // N_FILES\n",
    "IMAGES_PER_CATEGORY"
   ]
  },
  {
   "cell_type": "markdown",
   "metadata": {},
   "source": [
    "### Preprocessing"
   ]
  },
  {
   "cell_type": "code",
   "execution_count": 14,
   "metadata": {},
   "outputs": [],
   "source": [
    "i = 0\n",
    "for path in filenames:\n",
    "    x = np.load(path)\n",
    "    x = x.astype('float32') / 255.\n",
    "    y = [i] * len(x)\n",
    "    x = x[:IMAGES_PER_CATEGORY]\n",
    "    y = y[:IMAGES_PER_CATEGORY]\n",
    "    if i == 0:\n",
    "        x_all = x\n",
    "        y_all = y\n",
    "    else:\n",
    "        x_all = np.concatenate((x, x_all), axis=0)\n",
    "        y_all = np.concatenate((y, y_all), axis=0)\n",
    "    i += 1"
   ]
  },
  {
   "cell_type": "code",
   "execution_count": 17,
   "metadata": {},
   "outputs": [],
   "source": [
    "X_train, X_test, y_train, y_test = train_test_split(\n",
    "    x_all, y_all, test_size=0.2, random_state=1103)"
   ]
  },
  {
   "cell_type": "code",
   "execution_count": 18,
   "metadata": {},
   "outputs": [],
   "source": [
    "X_train = X_train.reshape(X_train.shape[0], DIM, DIM, 1)\n",
    "X_test = X_test.reshape(X_test.shape[0], DIM, DIM, 1)\n",
    "input_shape = (DIM, DIM, 1)"
   ]
  },
  {
   "cell_type": "code",
   "execution_count": 19,
   "metadata": {},
   "outputs": [],
   "source": [
    "y_train = tf.keras.utils.to_categorical(y_train, N_FILES)\n",
    "y_test = tf.keras.utils.to_categorical(y_test, N_FILES)"
   ]
  },
  {
   "cell_type": "code",
   "execution_count": 20,
   "metadata": {},
   "outputs": [],
   "source": [
    "X_train, X_valid, y_train, y_valid = train_test_split(\n",
    "    X_train, y_train, test_size=0.1, random_state=1103)"
   ]
  },
  {
   "cell_type": "markdown",
   "metadata": {},
   "source": [
    "### ConvNet model"
   ]
  },
  {
   "cell_type": "code",
   "execution_count": 22,
   "metadata": {},
   "outputs": [],
   "source": [
    "DROP = 0.25"
   ]
  },
  {
   "cell_type": "code",
   "execution_count": 23,
   "metadata": {},
   "outputs": [],
   "source": [
    "mod = tf.keras.Sequential()\n",
    "\n",
    "mod.add(Conv2D(\n",
    "    32, kernel_size=(3, 3), activation='relu', input_shape=input_shape))\n",
    "mod.add(MaxPooling2D(pool_size=(2, 2)))\n",
    "mod.add(Dropout(DROP))\n",
    "\n",
    "mod.add(Conv2D(64, (3, 3), activation='relu'))\n",
    "mod.add(MaxPooling2D(pool_size=(2, 2)))\n",
    "mod.add(Dropout(DROP))\n",
    "\n",
    "mod.add(Flatten())\n",
    "mod.add(Dense(128, activation='relu'))\n",
    "mod.add(Dropout(2 * DROP))\n",
    "mod.add(Dense(N_FILES, activation='softmax'))"
   ]
  },
  {
   "cell_type": "code",
   "execution_count": 25,
   "metadata": {},
   "outputs": [],
   "source": [
    "mod.compile(loss=cxe, \n",
    "            optimizer=tf.keras.optimizers.Adadelta(), \n",
    "            metrics=['accuracy'])"
   ]
  },
  {
   "cell_type": "code",
   "execution_count": 26,
   "metadata": {},
   "outputs": [
    {
     "name": "stdout",
     "output_type": "stream",
     "text": [
      "Model: \"sequential\"\n",
      "_________________________________________________________________\n",
      "Layer (type)                 Output Shape              Param #   \n",
      "=================================================================\n",
      "conv2d (Conv2D)              (None, 26, 26, 32)        320       \n",
      "_________________________________________________________________\n",
      "max_pooling2d (MaxPooling2D) (None, 13, 13, 32)        0         \n",
      "_________________________________________________________________\n",
      "dropout (Dropout)            (None, 13, 13, 32)        0         \n",
      "_________________________________________________________________\n",
      "conv2d_1 (Conv2D)            (None, 11, 11, 64)        18496     \n",
      "_________________________________________________________________\n",
      "max_pooling2d_1 (MaxPooling2 (None, 5, 5, 64)          0         \n",
      "_________________________________________________________________\n",
      "dropout_1 (Dropout)          (None, 5, 5, 64)          0         \n",
      "_________________________________________________________________\n",
      "flatten (Flatten)            (None, 1600)              0         \n",
      "_________________________________________________________________\n",
      "dense (Dense)                (None, 128)               204928    \n",
      "_________________________________________________________________\n",
      "dropout_2 (Dropout)          (None, 128)               0         \n",
      "_________________________________________________________________\n",
      "dense_1 (Dense)              (None, 10)                1290      \n",
      "=================================================================\n",
      "Total params: 225,034\n",
      "Trainable params: 225,034\n",
      "Non-trainable params: 0\n",
      "_________________________________________________________________\n"
     ]
    }
   ],
   "source": [
    "mod.summary()"
   ]
  },
  {
   "cell_type": "code",
   "execution_count": null,
   "metadata": {},
   "outputs": [],
   "source": []
  }
 ],
 "metadata": {
  "kernelspec": {
   "display_name": "Python 3",
   "language": "python",
   "name": "python3"
  },
  "language_info": {
   "codemirror_mode": {
    "name": "ipython",
    "version": 3
   },
   "file_extension": ".py",
   "mimetype": "text/x-python",
   "name": "python",
   "nbconvert_exporter": "python",
   "pygments_lexer": "ipython3",
   "version": "3.7.4"
  }
 },
 "nbformat": 4,
 "nbformat_minor": 4
}
