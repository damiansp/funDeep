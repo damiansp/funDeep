{
 "cells": [
  {
   "cell_type": "code",
   "execution_count": 1,
   "metadata": {},
   "outputs": [],
   "source": [
    "import functools\n",
    "import time\n",
    "\n",
    "import matplotlib as mpl\n",
    "import matplotlib.pyplot as plt\n",
    "import numpy as np\n",
    "from   PIL import Image\n",
    "import tensorflow as tf\n",
    "from   tensorflow.keras import backend as K\n",
    "from   tensorflow.keras import layers, losses, models, optimizers\n",
    "from   tensorflow.keras.preprocessing import image as kp_image\n",
    "\n",
    "mpl.rcParams['figure.figsize'] = (10, 10)\n",
    "mpl.rcParams['axes.grid'] = False"
   ]
  },
  {
   "cell_type": "code",
   "execution_count": 4,
   "metadata": {},
   "outputs": [
    {
     "name": "stdout",
     "output_type": "stream",
     "text": [
      "elephant.jpg    parrot.png      sunset.jpg\r\n",
      "face.png        skyscrapers.jpg zebra.jpg\r\n"
     ]
    }
   ],
   "source": [
    "!ls ../../../../images"
   ]
  },
  {
   "cell_type": "code",
   "execution_count": 5,
   "metadata": {},
   "outputs": [],
   "source": [
    "IMG = '../../../../images'"
   ]
  },
  {
   "cell_type": "code",
   "execution_count": 6,
   "metadata": {},
   "outputs": [],
   "source": [
    "content_path = f'{IMG}/elephant.jpg'\n",
    "sytle_path = f'{IMG}/zebra.jpg'"
   ]
  },
  {
   "cell_type": "markdown",
   "metadata": {},
   "source": [
    "### Image Preprocessing"
   ]
  },
  {
   "cell_type": "code",
   "execution_count": 7,
   "metadata": {},
   "outputs": [],
   "source": [
    "def load_img(path):\n",
    "    max_dim = 512\n",
    "    img = Image.open(path)\n",
    "    longest_side = max(img.size)\n",
    "    scale = max_dim / longest_side\n",
    "    img = img.resize((round(img.size[0]*scale), round(img.size[1]*scale)),\n",
    "                     Image.ANTIALIAS)\n",
    "    img = kp_image.img_to_array(img)\n",
    "    # Broadcast img array so it has a batch dim on axis 0\n",
    "    img = np.expand_dims(img, axis=0)\n",
    "    return img"
   ]
  },
  {
   "cell_type": "code",
   "execution_count": 8,
   "metadata": {},
   "outputs": [],
   "source": [
    "def show_img(img, title=None):\n",
    "    # remove batch dim\n",
    "    img = np.squeeze(img, axis=0)\n",
    "    # Normalize for display\n",
    "    img = img.astype('uint8')\n",
    "    plt.imshow(img)\n",
    "    if title is not None:\n",
    "        plt.title(title)\n",
    "        plt.imshow(img)"
   ]
  },
  {
   "cell_type": "code",
   "execution_count": null,
   "metadata": {},
   "outputs": [],
   "source": []
  }
 ],
 "metadata": {
  "kernelspec": {
   "display_name": "Python 3",
   "language": "python",
   "name": "python3"
  },
  "language_info": {
   "codemirror_mode": {
    "name": "ipython",
    "version": 3
   },
   "file_extension": ".py",
   "mimetype": "text/x-python",
   "name": "python",
   "nbconvert_exporter": "python",
   "pygments_lexer": "ipython3",
   "version": "3.7.4"
  }
 },
 "nbformat": 4,
 "nbformat_minor": 4
}
