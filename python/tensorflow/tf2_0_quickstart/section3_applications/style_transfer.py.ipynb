{
 "cells": [
  {
   "cell_type": "code",
   "execution_count": null,
   "metadata": {},
   "outputs": [],
   "source": [
    "import functools\n",
    "import time\n",
    "\n",
    "import matplotlib as mpl\n",
    "import matplotlib.pyplot as plt\n",
    "import numpy as np\n",
    "from   PIL import Image\n",
    "import tensorflow as tf\n",
    "from   tensorflow.keras import backend as K\n",
    "from   tensorflow.keras import layers, losses, models, optimizers\n",
    "from   tensorflow.keras.preprocessing import image as kp_image\n",
    "\n",
    "mpl.rcParams['figure.figsize'] = (10, 10)\n",
    "mpl.rcParams['axes.grid'] = False"
   ]
  }
 ],
 "metadata": {
  "kernelspec": {
   "display_name": "Python 3",
   "language": "python",
   "name": "python3"
  },
  "language_info": {
   "codemirror_mode": {
    "name": "ipython",
    "version": 3
   },
   "file_extension": ".py",
   "mimetype": "text/x-python",
   "name": "python",
   "nbconvert_exporter": "python",
   "pygments_lexer": "ipython3",
   "version": "3.7.4"
  }
 },
 "nbformat": 4,
 "nbformat_minor": 4
}
