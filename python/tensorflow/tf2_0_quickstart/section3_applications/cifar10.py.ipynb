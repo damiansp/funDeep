{
 "cells": [
  {
   "cell_type": "code",
   "execution_count": null,
   "metadata": {},
   "outputs": [],
   "source": [
    "import os\n",
    "\n",
    "from   matplotlib import pyplot as plt\n",
    "import numpy as np\n",
    "from   PIL import Image\n",
    "import tensorflow as tf\n",
    "from   tensorflow.keras import regularizers\n",
    "from   tensorflow.keras.datasets import cifar10\n",
    "from   tensorflow.keras.layers import (\n",
    "    Activation, BatchNormalization, Conv2D, Dense, Dropout, Flatten, \n",
    "    MaxPooling2D)\n",
    "from   tensorflow.keras.models import load_model, Sequential\n",
    "from   tensorflow.keras.preprocessing.image import ImageDataGenerator\n",
    "\n",
    "%matplotlib inline"
   ]
  },
  {
   "cell_type": "code",
   "execution_count": 1,
   "metadata": {},
   "outputs": [],
   "source": [
    "labels = ['airplane', 'automobile', 'bird', 'cat', 'deer', 'dog', 'frog',\n",
    "          'horse', 'ship', 'truck']"
   ]
  },
  {
   "cell_type": "code",
   "execution_count": null,
   "metadata": {},
   "outputs": [],
   "source": []
  }
 ],
 "metadata": {
  "kernelspec": {
   "display_name": "Python 3",
   "language": "python",
   "name": "python3"
  },
  "language_info": {
   "codemirror_mode": {
    "name": "ipython",
    "version": 3
   },
   "file_extension": ".py",
   "mimetype": "text/x-python",
   "name": "python",
   "nbconvert_exporter": "python",
   "pygments_lexer": "ipython3",
   "version": "3.7.4"
  }
 },
 "nbformat": 4,
 "nbformat_minor": 4
}
