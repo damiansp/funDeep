{
 "cells": [
  {
   "cell_type": "code",
   "execution_count": 1,
   "metadata": {},
   "outputs": [],
   "source": [
    "import os\n",
    "import time\n",
    "\n",
    "import numpy as np\n",
    "import tensorflow as tf"
   ]
  },
  {
   "cell_type": "code",
   "execution_count": 2,
   "metadata": {},
   "outputs": [],
   "source": [
    "file = '1400-0.txt'\n",
    "url = f'https://www.gutenberg.org/files/1400/{file}'"
   ]
  },
  {
   "cell_type": "code",
   "execution_count": 3,
   "metadata": {},
   "outputs": [],
   "source": [
    "path = tf.keras.utils.get_file(file, url)"
   ]
  },
  {
   "cell_type": "code",
   "execution_count": 4,
   "metadata": {},
   "outputs": [
    {
     "name": "stdout",
     "output_type": "stream",
     "text": [
      "length of text: 1012598 chars:\n",
      "\n",
      "My father’s family name being Pirrip, and my Christian name Philip, my\n",
      "infant tongue could make of both names nothing longer or more explicit\n",
      "than Pip. So, I called myself Pip, and came to be called Pip.\n",
      "\n",
      "I give Pirrip as my father’s family name, on the authority of his\n",
      "tombstone and my sister,—Mrs\n"
     ]
    }
   ],
   "source": [
    "text = open(path).read()\n",
    "text = text[1797:] # strip front matter\n",
    "print(f'length of text: {len(text)} chars:\\n{text[:300]}')"
   ]
  },
  {
   "cell_type": "code",
   "execution_count": 5,
   "metadata": {},
   "outputs": [
    {
     "name": "stdout",
     "output_type": "stream",
     "text": [
      "92 unique characters\n"
     ]
    }
   ],
   "source": [
    "chars = sorted(set(text))\n",
    "print(f'{len(chars)} unique characters')"
   ]
  },
  {
   "cell_type": "code",
   "execution_count": 6,
   "metadata": {},
   "outputs": [],
   "source": [
    "# dict of unique chars to index vals\n",
    "char_to_index = {c: i for i, c in enumerate(chars)}"
   ]
  },
  {
   "cell_type": "code",
   "execution_count": 7,
   "metadata": {},
   "outputs": [],
   "source": [
    "index_to_char = np.array(chars)"
   ]
  },
  {
   "cell_type": "code",
   "execution_count": 8,
   "metadata": {},
   "outputs": [],
   "source": [
    "text_as_int = np.array([char_to_index[char] for char in text])"
   ]
  },
  {
   "cell_type": "code",
   "execution_count": 9,
   "metadata": {},
   "outputs": [
    {
     "name": "stdout",
     "output_type": "stream",
     "text": [
      "[ 1 42 83  2 64 59 78 66 63 76 89 77  2 64 59 71 67 70 83  2 72 59 71 63\n",
      "  2 60 63 67 72 65  2 45 67 76 76 67 74 12  2 59 72 62  2 71 83  2 32 66\n",
      " 76 67 77 78 67 59 72  2 72 59 71 63  2 45 66 67 70 67 74 12  2 71 83  1\n",
      " 67 72 64 59 72 78  2 78 73 72 65 79 63  2 61 73 79 70 62  2 71 59 69 63\n",
      "  2 73 64  2 60 73 78 66  2 72 59 71 63 77  2 72 73 78 66 67 72 65  2 70\n",
      " 73 72 65 63 76  2 73 76  2 71 73 76 63  2 63 82 74 70 67 61 67 78  1 78\n",
      " 66 59 72  2 45 67 74 14  2 48 73 12  2 38  2 61 59 70 70 63 62  2 71 83\n",
      " 77 63 70 64  2 45 67 74 12  2 59 72 62  2 61 59 71 63  2 78 73  2 60 63\n",
      "  2 61 59 70 70 63 62  2 45 67 74 14  1  1 38  2 65 67 80 63  2 45 67 76\n",
      " 76 67 74  2 59 77  2 71 83  2 64 59 78 66 63 76 89 77  2 64 59 71 67 70\n",
      " 83  2 72 59 71 63 12  2 73 72  2 78 66 63  2 59 79 78 66 73 76 67 78 83\n",
      "  2 73 64  2 66 67 77  1 78 73 71 60 77 78 73 72 63  2 59 72 62  2 71 83\n",
      "  2 77 67 77 78 63 76 12 87 42 76 77]\n"
     ]
    }
   ],
   "source": [
    "print(text_as_int[:300])"
   ]
  },
  {
   "cell_type": "code",
   "execution_count": 10,
   "metadata": {},
   "outputs": [],
   "source": [
    "# Max allowable seq length (in chars)\n",
    "seq_len = 100\n",
    "examples_per_epoch = len(text) // seq_len"
   ]
  },
  {
   "cell_type": "code",
   "execution_count": 11,
   "metadata": {},
   "outputs": [
    {
     "name": "stdout",
     "output_type": "stream",
     "text": [
      "1: \n",
      "\n",
      "42: M\n",
      "83: y\n",
      "2:  \n",
      "64: f\n",
      "59: a\n",
      "78: t\n",
      "66: h\n",
      "63: e\n",
      "76: r\n"
     ]
    }
   ],
   "source": [
    "char_dataset = tf.data.Dataset.from_tensor_slices(text_as_int)\n",
    "# Sanity check\n",
    "for char in char_dataset.take(10):\n",
    "    print(f'{char}: {index_to_char[char.numpy()]}')"
   ]
  },
  {
   "cell_type": "code",
   "execution_count": 12,
   "metadata": {},
   "outputs": [],
   "source": [
    "seqs = char_dataset.batch(seq_len + 1, drop_remainder=True)"
   ]
  },
  {
   "cell_type": "code",
   "execution_count": 13,
   "metadata": {},
   "outputs": [],
   "source": [
    "def split_input_target(chunk):\n",
    "    input_text = chunk[:-1]\n",
    "    target_text = chunk[1:]\n",
    "    return input_text, target_text"
   ]
  },
  {
   "cell_type": "code",
   "execution_count": 14,
   "metadata": {},
   "outputs": [],
   "source": [
    "dataset = seqs.map(split_input_target)"
   ]
  },
  {
   "cell_type": "code",
   "execution_count": 15,
   "metadata": {},
   "outputs": [
    {
     "name": "stdout",
     "output_type": "stream",
     "text": [
      "Input data: '\\nMy father’s family name being Pirrip, and my Christian name Philip, my\\ninfant tongue could make of '\n",
      "Target data: 'My father’s family name being Pirrip, and my Christian name Philip, my\\ninfant tongue could make of b'\n"
     ]
    }
   ],
   "source": [
    "for input_example, target_example in dataset.take(1):\n",
    "    print('Input data:', \n",
    "          repr(''.join(index_to_char[input_example.numpy()])))\n",
    "    print('Target data:',\n",
    "          repr(''.join(index_to_char[target_example.numpy()])))"
   ]
  },
  {
   "cell_type": "code",
   "execution_count": 16,
   "metadata": {},
   "outputs": [
    {
     "name": "stdout",
     "output_type": "stream",
     "text": [
      "Step    0\n",
      " input: 1 ('\\n')\n",
      " expected output: 42 ('M')\n",
      "Step    1\n",
      " input: 42 ('M')\n",
      " expected output: 83 ('y')\n",
      "Step    2\n",
      " input: 83 ('y')\n",
      " expected output: 2 (' ')\n",
      "Step    3\n",
      " input: 2 (' ')\n",
      " expected output: 64 ('f')\n",
      "Step    4\n",
      " input: 64 ('f')\n",
      " expected output: 59 ('a')\n"
     ]
    }
   ],
   "source": [
    "for char, (input_index, target_index) in enumerate(\n",
    "        zip(input_example[:5], target_example[:5])):\n",
    "    print(f'Step {char:4d}')\n",
    "    print(f' input: {input_index} ({repr(index_to_char[input_index])})')\n",
    "    print(f' expected output: {target_index} '\n",
    "          f'({repr(index_to_char[target_index])})')"
   ]
  },
  {
   "cell_type": "code",
   "execution_count": 17,
   "metadata": {},
   "outputs": [],
   "source": [
    "BATCH = 64\n",
    "STEPS_PER_EPOCH = examples_per_epoch // BATCH\n",
    "BUFFER = 10000"
   ]
  },
  {
   "cell_type": "code",
   "execution_count": 18,
   "metadata": {},
   "outputs": [
    {
     "data": {
      "text/plain": [
       "<RepeatDataset shapes: ((64, 100), (64, 100)), types: (tf.int64, tf.int64)>"
      ]
     },
     "execution_count": 18,
     "metadata": {},
     "output_type": "execute_result"
    }
   ],
   "source": [
    "dataset = dataset.shuffle(BUFFER).batch(BATCH, drop_remainder=True)\n",
    "dataset = dataset.repeat()\n",
    "dataset"
   ]
  },
  {
   "cell_type": "code",
   "execution_count": 21,
   "metadata": {},
   "outputs": [],
   "source": [
    "VOCAB_LEN = len(chars)\n",
    "EMBED_DIM = 256\n",
    "RNN_UNITS = 1024"
   ]
  },
  {
   "cell_type": "code",
   "execution_count": 25,
   "metadata": {},
   "outputs": [
    {
     "name": "stdout",
     "output_type": "stream",
     "text": [
      "Using CPU\n"
     ]
    }
   ],
   "source": [
    "if tf.config.list_physical_devices('GPU'):\n",
    "    rnn = tf.compat.v1.keras.layers.CuDNNGRU\n",
    "    print('Using GPU')\n",
    "else:\n",
    "    import functools\n",
    "    rnn = functools.partial(tf.keras.layers.GRU, \n",
    "                            recurrent_activation='sigmoid')\n",
    "    print('Using CPU')"
   ]
  },
  {
   "cell_type": "code",
   "execution_count": null,
   "metadata": {},
   "outputs": [],
   "source": []
  }
 ],
 "metadata": {
  "kernelspec": {
   "display_name": "Python 3",
   "language": "python",
   "name": "python3"
  },
  "language_info": {
   "codemirror_mode": {
    "name": "ipython",
    "version": 3
   },
   "file_extension": ".py",
   "mimetype": "text/x-python",
   "name": "python",
   "nbconvert_exporter": "python",
   "pygments_lexer": "ipython3",
   "version": "3.7.3"
  }
 },
 "nbformat": 4,
 "nbformat_minor": 4
}
