{
 "cells": [
  {
   "cell_type": "markdown",
   "metadata": {},
   "source": [
    "FWIW: Google recommends _not_ doing this, and preferring the functional model instead, but for completeness...."
   ]
  },
  {
   "cell_type": "code",
   "execution_count": 1,
   "metadata": {},
   "outputs": [],
   "source": [
    "import tensorflow as tf\n",
    "from   tensorflow.keras import Input, Model\n",
    "from   tensorflow.keras.layers import Dense, Dropout, Flatten\n",
    "from   tensorflow.keras.optimizers import Adam"
   ]
  },
  {
   "cell_type": "code",
   "execution_count": 8,
   "metadata": {},
   "outputs": [],
   "source": [
    "mnist = tf.keras.datasets.mnist\n",
    "(X_train, y_train), (X_test, y_test) = mnist.load_data()\n",
    "X_train = X_train / 255.\n",
    "X_test = X_test / 255."
   ]
  },
  {
   "cell_type": "code",
   "execution_count": 4,
   "metadata": {},
   "outputs": [],
   "source": [
    "EPOCHS = 10\n",
    "DROPOUT = 0.2\n",
    "BATCH = 32"
   ]
  },
  {
   "cell_type": "code",
   "execution_count": 5,
   "metadata": {},
   "outputs": [],
   "source": [
    "class MyModel(Model):\n",
    "    def __init__(self, n_classes=10):\n",
    "        super(MyModel, self).__init__()\n",
    "        inputs = Input(shape=(28, 28)) # returns placeholder tensor\n",
    "        self.X0 = Flatten()\n",
    "        self.X1 = Dense(512, activation='relu', name='d1')\n",
    "        self.X2 = Dropout(DROPOUT)\n",
    "        self.preds = Dense(10, activation=tf.nn.softmax, name='d2')\n",
    "        \n",
    "    def call(self, inputs):\n",
    "        # Forward pass\n",
    "        X = self.X0(inputs)\n",
    "        X = self.X1(X)\n",
    "        X = self.X2(X)\n",
    "        return self.preds(X)"
   ]
  },
  {
   "cell_type": "code",
   "execution_count": 6,
   "metadata": {},
   "outputs": [],
   "source": [
    "mod4 = MyModel()"
   ]
  },
  {
   "cell_type": "code",
   "execution_count": 10,
   "metadata": {},
   "outputs": [
    {
     "data": {
      "text/plain": [
       "1875"
      ]
     },
     "execution_count": 10,
     "metadata": {},
     "output_type": "execute_result"
    }
   ],
   "source": [
    "steps_per_epoch = len(X_train) // BATCH\n",
    "steps_per_epoch"
   ]
  },
  {
   "cell_type": "code",
   "execution_count": 13,
   "metadata": {},
   "outputs": [
    {
     "name": "stdout",
     "output_type": "stream",
     "text": [
      "Train on 60000 samples\n",
      "Epoch 1/10\n",
      "60000/60000 [==============================] - 9s 150us/sample - loss: 0.0216 - accuracy: 0.9928\n",
      "Epoch 2/10\n",
      "60000/60000 [==============================] - 9s 157us/sample - loss: 0.0183 - accuracy: 0.9937\n",
      "Epoch 3/10\n",
      "60000/60000 [==============================] - 9s 155us/sample - loss: 0.0175 - accuracy: 0.9940\n",
      "Epoch 4/10\n",
      "60000/60000 [==============================] - 10s 164us/sample - loss: 0.0172 - accuracy: 0.9942\n",
      "Epoch 5/10\n",
      "60000/60000 [==============================] - 9s 154us/sample - loss: 0.0166 - accuracy: 0.9946\n",
      "Epoch 6/10\n",
      "60000/60000 [==============================] - 10s 163us/sample - loss: 0.0168 - accuracy: 0.9943\n",
      "Epoch 7/10\n",
      "60000/60000 [==============================] - 10s 168us/sample - loss: 0.0128 - accuracy: 0.9957\n",
      "Epoch 8/10\n",
      "60000/60000 [==============================] - 10s 168us/sample - loss: 0.0150 - accuracy: 0.9950\n",
      "Epoch 9/10\n",
      "60000/60000 [==============================] - 10s 170us/sample - loss: 0.0143 - accuracy: 0.9954\n",
      "Epoch 10/10\n",
      "60000/60000 [==============================] - 10s 169us/sample - loss: 0.0126 - accuracy: 0.9958\n"
     ]
    },
    {
     "data": {
      "text/plain": [
       "[0.09284563216001601, 0.9821]"
      ]
     },
     "execution_count": 13,
     "metadata": {},
     "output_type": "execute_result"
    }
   ],
   "source": [
    "mod4.compile(optimizer=Adam(), \n",
    "             loss='sparse_categorical_crossentropy', \n",
    "             metrics=['accuracy'])\n",
    "mod4.fit(X_train, y_train, batch_size=BATCH, epochs=EPOCHS)\n",
    "mod4.evaluate(X_test, y_test, verbose=0)"
   ]
  },
  {
   "cell_type": "code",
   "execution_count": null,
   "metadata": {},
   "outputs": [],
   "source": []
  }
 ],
 "metadata": {
  "kernelspec": {
   "display_name": "Python 3",
   "language": "python",
   "name": "python3"
  },
  "language_info": {
   "codemirror_mode": {
    "name": "ipython",
    "version": 3
   },
   "file_extension": ".py",
   "mimetype": "text/x-python",
   "name": "python",
   "nbconvert_exporter": "python",
   "pygments_lexer": "ipython3",
   "version": "3.7.4"
  }
 },
 "nbformat": 4,
 "nbformat_minor": 4
}
