{
 "cells": [
  {
   "cell_type": "code",
   "execution_count": 1,
   "metadata": {},
   "outputs": [],
   "source": [
    "import tensorflow as tf\n",
    "from   tensorflow.keras.layers import Dense, Dropout, Flatten\n",
    "from   tensorflow.keras.models import Sequential\n",
    "from   tensorflow.keras.optimizers import Adam\n",
    "#from   tensorflow.nn import relu, softmax ??"
   ]
  },
  {
   "cell_type": "code",
   "execution_count": 2,
   "metadata": {},
   "outputs": [],
   "source": [
    "mnist = tf.keras.datasets.mnist\n",
    "(X_train, y_train), (X_test, y_test) = mnist.load_data()"
   ]
  },
  {
   "cell_type": "code",
   "execution_count": 3,
   "metadata": {},
   "outputs": [],
   "source": [
    "EPOCHS = 10\n",
    "BATCH = 32\n",
    "DROPOUT = 0.2"
   ]
  },
  {
   "cell_type": "code",
   "execution_count": 4,
   "metadata": {},
   "outputs": [],
   "source": [
    "X_train = tf.cast(X_train / 255., tf.float32)\n",
    "X_test = tf.cast(X_test / 255., tf.float32)\n",
    "y_train = tf.cast(y_train, tf.int64)\n",
    "y_test = tf.cast(y_test, tf.int64)"
   ]
  },
  {
   "cell_type": "code",
   "execution_count": 5,
   "metadata": {},
   "outputs": [],
   "source": [
    "mod1 = Sequential([Flatten(),\n",
    "                   Dense(512, activation=tf.nn.relu),\n",
    "                   Dropout(DROPOUT),\n",
    "                   Dense(10, activation=tf.nn.softmax)])"
   ]
  },
  {
   "cell_type": "code",
   "execution_count": 8,
   "metadata": {},
   "outputs": [
    {
     "name": "stdout",
     "output_type": "stream",
     "text": [
      "Model: \"sequential\"\n",
      "_________________________________________________________________\n",
      "Layer (type)                 Output Shape              Param #   \n",
      "=================================================================\n",
      "flatten (Flatten)            multiple                  0         \n",
      "_________________________________________________________________\n",
      "dense (Dense)                multiple                  401920    \n",
      "_________________________________________________________________\n",
      "dropout (Dropout)            multiple                  0         \n",
      "_________________________________________________________________\n",
      "dense_1 (Dense)              multiple                  5130      \n",
      "=================================================================\n",
      "Total params: 407,050\n",
      "Trainable params: 407,050\n",
      "Non-trainable params: 0\n",
      "_________________________________________________________________\n"
     ]
    }
   ],
   "source": [
    "optimizer = Adam()\n",
    "mod1.compile(optimizer=optimizer, \n",
    "             loss='sparse_categorical_crossentropy', \n",
    "             metrics=['accuracy'])\n",
    "mod1.summary()"
   ]
  },
  {
   "cell_type": "code",
   "execution_count": 9,
   "metadata": {},
   "outputs": [
    {
     "name": "stdout",
     "output_type": "stream",
     "text": [
      "Train on 60000 samples\n",
      "Epoch 1/10\n",
      "60000/60000 [==============================] - 10s 170us/sample - loss: 0.0590 - accuracy: 0.9812\n",
      "Epoch 2/10\n",
      "60000/60000 [==============================] - 11s 176us/sample - loss: 0.0446 - accuracy: 0.9856\n",
      "Epoch 3/10\n",
      "60000/60000 [==============================] - 10s 173us/sample - loss: 0.0363 - accuracy: 0.9882\n",
      "Epoch 4/10\n",
      "60000/60000 [==============================] - 10s 167us/sample - loss: 0.0318 - accuracy: 0.9892\n",
      "Epoch 5/10\n",
      "60000/60000 [==============================] - 10s 165us/sample - loss: 0.0270 - accuracy: 0.9908\n",
      "Epoch 6/10\n",
      "60000/60000 [==============================] - 10s 164us/sample - loss: 0.0239 - accuracy: 0.9923\n",
      "Epoch 7/10\n",
      "60000/60000 [==============================] - 10s 166us/sample - loss: 0.0218 - accuracy: 0.9926\n",
      "Epoch 8/10\n",
      "60000/60000 [==============================] - 10s 162us/sample - loss: 0.0204 - accuracy: 0.9932\n",
      "Epoch 9/10\n",
      "60000/60000 [==============================] - 10s 170us/sample - loss: 0.0185 - accuracy: 0.9940\n",
      "Epoch 10/10\n",
      "60000/60000 [==============================] - 10s 171us/sample - loss: 0.0186 - accuracy: 0.9938\n"
     ]
    },
    {
     "data": {
      "text/plain": [
       "<tensorflow.python.keras.callbacks.History at 0x68fb38710>"
      ]
     },
     "execution_count": 9,
     "metadata": {},
     "output_type": "execute_result"
    }
   ],
   "source": [
    "mod1.fit(X_train, y_train, batch_size=BATCH, epochs=EPOCHS)"
   ]
  },
  {
   "cell_type": "code",
   "execution_count": 11,
   "metadata": {},
   "outputs": [
    {
     "data": {
      "text/plain": [
       "[0.08537183429296055, 0.981]"
      ]
     },
     "execution_count": 11,
     "metadata": {},
     "output_type": "execute_result"
    }
   ],
   "source": [
    "mod1.evaluate(X_test, y_test, verbose=0)"
   ]
  },
  {
   "cell_type": "markdown",
   "metadata": {},
   "source": [
    "### Alternative Sequential Model Design"
   ]
  },
  {
   "cell_type": "code",
   "execution_count": 14,
   "metadata": {},
   "outputs": [],
   "source": [
    "mod2 = Sequential()\n",
    "mod2.add(Flatten())\n",
    "mod2.add(Dense(512, activation='relu'))\n",
    "mod2.add(Dropout(DROPOUT))\n",
    "mod2.add(Dense(10, activation=tf.nn.softmax))\n",
    "mod2.compile(optimizer=optimizer, \n",
    "             loss='sparse_categorical_crossentropy', \n",
    "             metrics=['accuracy'])"
   ]
  },
  {
   "cell_type": "code",
   "execution_count": 15,
   "metadata": {},
   "outputs": [
    {
     "name": "stdout",
     "output_type": "stream",
     "text": [
      "Train on 60000 samples\n",
      "Epoch 1/10\n",
      "60000/60000 [==============================] - 9s 148us/sample - loss: 0.1810 - accuracy: 0.9445\n",
      "Epoch 2/10\n",
      "60000/60000 [==============================] - 10s 159us/sample - loss: 0.0872 - accuracy: 0.9729\n",
      "Epoch 3/10\n",
      "60000/60000 [==============================] - 10s 160us/sample - loss: 0.0620 - accuracy: 0.9810\n",
      "Epoch 4/10\n",
      "60000/60000 [==============================] - 10s 164us/sample - loss: 0.0500 - accuracy: 0.9840\n",
      "Epoch 5/10\n",
      "60000/60000 [==============================] - 10s 165us/sample - loss: 0.0402 - accuracy: 0.9866\n",
      "Epoch 6/10\n",
      "60000/60000 [==============================] - 10s 166us/sample - loss: 0.0323 - accuracy: 0.9896\n",
      "Epoch 7/10\n",
      "60000/60000 [==============================] - 10s 165us/sample - loss: 0.0282 - accuracy: 0.9905\n",
      "Epoch 8/10\n",
      "60000/60000 [==============================] - 10s 164us/sample - loss: 0.0241 - accuracy: 0.9916\n",
      "Epoch 9/10\n",
      "60000/60000 [==============================] - 10s 162us/sample - loss: 0.0224 - accuracy: 0.9925\n",
      "Epoch 10/10\n",
      "60000/60000 [==============================] - 10s 162us/sample - loss: 0.0208 - accuracy: 0.9931\n"
     ]
    },
    {
     "data": {
      "text/plain": [
       "<tensorflow.python.keras.callbacks.History at 0x6903dd510>"
      ]
     },
     "execution_count": 15,
     "metadata": {},
     "output_type": "execute_result"
    }
   ],
   "source": [
    "mod2.fit(X_train, y_train, batch_size=BATCH, epochs=EPOCHS)"
   ]
  },
  {
   "cell_type": "code",
   "execution_count": 16,
   "metadata": {},
   "outputs": [
    {
     "name": "stdout",
     "output_type": "stream",
     "text": [
      "Model: \"sequential_3\"\n",
      "_________________________________________________________________\n",
      "Layer (type)                 Output Shape              Param #   \n",
      "=================================================================\n",
      "flatten_2 (Flatten)          multiple                  0         \n",
      "_________________________________________________________________\n",
      "dense_4 (Dense)              multiple                  401920    \n",
      "_________________________________________________________________\n",
      "dropout_2 (Dropout)          multiple                  0         \n",
      "_________________________________________________________________\n",
      "dense_5 (Dense)              multiple                  5130      \n",
      "=================================================================\n",
      "Total params: 407,050\n",
      "Trainable params: 407,050\n",
      "Non-trainable params: 0\n",
      "_________________________________________________________________\n"
     ]
    }
   ],
   "source": [
    "mod2.summary()"
   ]
  },
  {
   "cell_type": "code",
   "execution_count": 17,
   "metadata": {},
   "outputs": [
    {
     "data": {
      "text/plain": [
       "[0.08191576251361712, 0.9801]"
      ]
     },
     "execution_count": 17,
     "metadata": {},
     "output_type": "execute_result"
    }
   ],
   "source": [
    "mod2.evaluate(X_test, y_test, verbose=0)"
   ]
  },
  {
   "cell_type": "code",
   "execution_count": null,
   "metadata": {},
   "outputs": [],
   "source": []
  }
 ],
 "metadata": {
  "kernelspec": {
   "display_name": "Python 3",
   "language": "python",
   "name": "python3"
  },
  "language_info": {
   "codemirror_mode": {
    "name": "ipython",
    "version": 3
   },
   "file_extension": ".py",
   "mimetype": "text/x-python",
   "name": "python",
   "nbconvert_exporter": "python",
   "pygments_lexer": "ipython3",
   "version": "3.7.4"
  }
 },
 "nbformat": 4,
 "nbformat_minor": 2
}
