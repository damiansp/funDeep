{
 "cells": [
  {
   "cell_type": "code",
   "execution_count": 1,
   "metadata": {},
   "outputs": [],
   "source": [
    "import numpy as np\n",
    "import tensorflow as tf"
   ]
  },
  {
   "cell_type": "markdown",
   "metadata": {},
   "source": [
    "### Squared Difference Between Two Tensors"
   ]
  },
  {
   "cell_type": "code",
   "execution_count": 2,
   "metadata": {},
   "outputs": [
    {
     "data": {
      "text/plain": [
       "<tf.Tensor: id=2, shape=(5,), dtype=int32, numpy=array([16,  4,  0,  4, 36], dtype=int32)>"
      ]
     },
     "execution_count": 2,
     "metadata": {},
     "output_type": "execute_result"
    }
   ],
   "source": [
    "x = [1, 3, 5, 7, 11]\n",
    "y = 5\n",
    "tf.math.squared_difference(x, y)"
   ]
  },
  {
   "cell_type": "code",
   "execution_count": 3,
   "metadata": {},
   "outputs": [
    {
     "data": {
      "text/plain": [
       "array([16,  4,  0,  4, 36])"
      ]
     },
     "execution_count": 3,
     "metadata": {},
     "output_type": "execute_result"
    }
   ],
   "source": [
    "# functionally equivalent to:\n",
    "x = np.array(x)\n",
    "(5 - x)**2"
   ]
  },
  {
   "cell_type": "markdown",
   "metadata": {},
   "source": [
    "### Mean"
   ]
  },
  {
   "cell_type": "code",
   "execution_count": 4,
   "metadata": {},
   "outputs": [
    {
     "data": {
      "text/plain": [
       "<tf.Tensor: id=5, shape=(), dtype=float32, numpy=4.75>"
      ]
     },
     "execution_count": 4,
     "metadata": {},
     "output_type": "execute_result"
    }
   ],
   "source": [
    "numbers = tf.constant([[4., 5.], [7., 3.]])\n",
    "tf.reduce_mean(input_tensor=numbers) # mean of all cells"
   ]
  },
  {
   "cell_type": "code",
   "execution_count": 5,
   "metadata": {},
   "outputs": [
    {
     "data": {
      "text/plain": [
       "<tf.Tensor: id=7, shape=(2,), dtype=float32, numpy=array([5.5, 4. ], dtype=float32)>"
      ]
     },
     "execution_count": 5,
     "metadata": {},
     "output_type": "execute_result"
    }
   ],
   "source": [
    "# col-wise\n",
    "tf.reduce_mean(input_tensor=numbers, axis=0)"
   ]
  },
  {
   "cell_type": "code",
   "execution_count": 6,
   "metadata": {},
   "outputs": [
    {
     "data": {
      "text/plain": [
       "<tf.Tensor: id=9, shape=(1, 2), dtype=float32, numpy=array([[5.5, 4. ]], dtype=float32)>"
      ]
     },
     "execution_count": 6,
     "metadata": {},
     "output_type": "execute_result"
    }
   ],
   "source": [
    "# col-wise\n",
    "tf.reduce_mean(input_tensor=numbers, axis=0, keepdims=True)"
   ]
  },
  {
   "cell_type": "code",
   "execution_count": 7,
   "metadata": {},
   "outputs": [
    {
     "data": {
      "text/plain": [
       "<tf.Tensor: id=11, shape=(2,), dtype=float32, numpy=array([4.5, 5. ], dtype=float32)>"
      ]
     },
     "execution_count": 7,
     "metadata": {},
     "output_type": "execute_result"
    }
   ],
   "source": [
    "# row-wise\n",
    "tf.reduce_mean(input_tensor=numbers, axis=1)"
   ]
  },
  {
   "cell_type": "code",
   "execution_count": 8,
   "metadata": {},
   "outputs": [
    {
     "data": {
      "text/plain": [
       "<tf.Tensor: id=13, shape=(2, 1), dtype=float32, numpy=\n",
       "array([[4.5],\n",
       "       [5. ]], dtype=float32)>"
      ]
     },
     "execution_count": 8,
     "metadata": {},
     "output_type": "execute_result"
    }
   ],
   "source": [
    "# row-wise\n",
    "tf.reduce_mean(input_tensor=numbers, axis=1, keepdims=True)"
   ]
  },
  {
   "cell_type": "markdown",
   "metadata": {},
   "source": [
    "### Random Values\n",
    "Normal"
   ]
  },
  {
   "cell_type": "code",
   "execution_count": 9,
   "metadata": {},
   "outputs": [
    {
     "data": {
      "text/plain": [
       "<tf.Tensor: id=19, shape=(3, 2), dtype=float32, numpy=\n",
       "array([[ 9.114962 ,  9.2678795],\n",
       "       [11.913335 ,  9.294933 ],\n",
       "       [ 8.152638 ,  7.668091 ]], dtype=float32)>"
      ]
     },
     "execution_count": 9,
     "metadata": {},
     "output_type": "execute_result"
    }
   ],
   "source": [
    "tf.random.normal(shape=(3, 2), \n",
    "                 mean=10, \n",
    "                 stddev=2, \n",
    "                 dtype=tf.float32, \n",
    "                 seed=None, \n",
    "                 name=None)"
   ]
  },
  {
   "cell_type": "code",
   "execution_count": 10,
   "metadata": {},
   "outputs": [
    {
     "data": {
      "text/plain": [
       "<tf.Tensor: id=25, shape=(3, 2), dtype=float32, numpy=\n",
       "array([[12.160835 ,  8.977037 ],\n",
       "       [ 4.1770787, 12.660565 ],\n",
       "       [ 8.382292 , 11.1526575]], dtype=float32)>"
      ]
     },
     "execution_count": 10,
     "metadata": {},
     "output_type": "execute_result"
    }
   ],
   "source": [
    "rnorm = tf.random.normal((3, 2), mean=10., stddev=3.)\n",
    "rnorm"
   ]
  },
  {
   "cell_type": "markdown",
   "metadata": {},
   "source": [
    "Uniform"
   ]
  },
  {
   "cell_type": "code",
   "execution_count": 11,
   "metadata": {},
   "outputs": [
    {
     "data": {
      "text/plain": [
       "<tf.Tensor: id=29, shape=(2, 2), dtype=int32, numpy=\n",
       "array([[7, 7],\n",
       "       [7, 0]], dtype=int32)>"
      ]
     },
     "execution_count": 11,
     "metadata": {},
     "output_type": "execute_result"
    }
   ],
   "source": [
    "u1 = tf.random.uniform((2, 2), minval=0, maxval=10, dtype=tf.int32)\n",
    "u1"
   ]
  },
  {
   "cell_type": "code",
   "execution_count": 12,
   "metadata": {},
   "outputs": [
    {
     "data": {
      "text/plain": [
       "<tf.Tensor: id=57, shape=(10, 3), dtype=int32, numpy=\n",
       "array([[ 5,  2,  7],\n",
       "       [ 4,  3,  7],\n",
       "       [ 2,  1,  3],\n",
       "       [ 6,  6, 12],\n",
       "       [ 5,  1,  6],\n",
       "       [ 4,  6, 10],\n",
       "       [ 1,  2,  3],\n",
       "       [ 6,  1,  7],\n",
       "       [ 1,  4,  5],\n",
       "       [ 5,  3,  8]], dtype=int32)>"
      ]
     },
     "execution_count": 12,
     "metadata": {},
     "output_type": "execute_result"
    }
   ],
   "source": [
    "dice1 = tf.Variable(\n",
    "    tf.random.uniform((10, 1), minval=1, maxval=7, dtype=tf.int32))\n",
    "dice2 = tf.Variable(\n",
    "    tf.random.uniform((10, 1), minval=1, maxval=7, dtype=tf.int32))\n",
    "dice_sum = dice1 + dice2\n",
    "result = tf.concat(values=[dice1, dice2, dice_sum], axis=1)\n",
    "result # [d1, d2, sum] x10"
   ]
  },
  {
   "cell_type": "markdown",
   "metadata": {},
   "source": [
    "### Argmin, Argmax"
   ]
  },
  {
   "cell_type": "code",
   "execution_count": 13,
   "metadata": {},
   "outputs": [
    {
     "data": {
      "text/plain": [
       "<tf.Tensor: id=58, shape=(9,), dtype=int32, numpy=array([  2,  11,   5,  42,   7,  19,  -6, -11,  29], dtype=int32)>"
      ]
     },
     "execution_count": 13,
     "metadata": {},
     "output_type": "execute_result"
    }
   ],
   "source": [
    "# 1D \n",
    "t5 = tf.constant([2, 11, 5, 42, 7, 19, -6, -11, 29])\n",
    "t5"
   ]
  },
  {
   "cell_type": "code",
   "execution_count": 14,
   "metadata": {},
   "outputs": [
    {
     "data": {
      "text/plain": [
       "(<tf.Tensor: id=60, shape=(), dtype=int64, numpy=3>,\n",
       " <tf.Tensor: id=62, shape=(), dtype=int64, numpy=7>)"
      ]
     },
     "execution_count": 14,
     "metadata": {},
     "output_type": "execute_result"
    }
   ],
   "source": [
    "i = tf.argmax(t5)\n",
    "j = tf.argmin(t5)\n",
    "i, j"
   ]
  },
  {
   "cell_type": "code",
   "execution_count": 15,
   "metadata": {},
   "outputs": [
    {
     "data": {
      "text/plain": [
       "(<tf.Tensor: id=69, shape=(), dtype=int32, numpy=42>,\n",
       " <tf.Tensor: id=76, shape=(), dtype=int32, numpy=-11>)"
      ]
     },
     "execution_count": 15,
     "metadata": {},
     "output_type": "execute_result"
    }
   ],
   "source": [
    "t5[i], t5[j]"
   ]
  },
  {
   "cell_type": "code",
   "execution_count": 16,
   "metadata": {},
   "outputs": [
    {
     "data": {
      "text/plain": [
       "<tf.Tensor: id=78, shape=(3, 3), dtype=int32, numpy=\n",
       "array([[  2,  11,   5],\n",
       "       [ 42,   7,  19],\n",
       "       [ -6, -11,  29]], dtype=int32)>"
      ]
     },
     "execution_count": 16,
     "metadata": {},
     "output_type": "execute_result"
    }
   ],
   "source": [
    "t6 = tf.reshape(t5, [3, 3])\n",
    "t6"
   ]
  },
  {
   "cell_type": "code",
   "execution_count": 17,
   "metadata": {},
   "outputs": [
    {
     "data": {
      "text/plain": [
       "array([1, 0, 2])"
      ]
     },
     "execution_count": 17,
     "metadata": {},
     "output_type": "execute_result"
    }
   ],
   "source": [
    "# Row max\n",
    "i = tf.argmax(t6, axis=0).numpy()\n",
    "i"
   ]
  },
  {
   "cell_type": "markdown",
   "metadata": {},
   "source": [
    "### Checkpoints for Saving/Restoring Tensors"
   ]
  },
  {
   "cell_type": "code",
   "execution_count": 18,
   "metadata": {},
   "outputs": [
    {
     "data": {
      "text/plain": [
       "<tf.Variable 'Variable:0' shape=(2, 4) dtype=int32, numpy=\n",
       "array([[0, 0, 0, 0],\n",
       "       [0, 0, 0, 0]], dtype=int32)>"
      ]
     },
     "execution_count": 18,
     "metadata": {},
     "output_type": "execute_result"
    }
   ],
   "source": [
    "variable = tf.Variable([[1, 3, 5, 7],\n",
    "                        [2, 4, 6, 8]])\n",
    "checkpoint = tf.train.Checkpoint(var=variable)\n",
    "save_path = checkpoint.save('./vars')\n",
    "variable.assign([[0, 0, 0, 0], \n",
    "                 [0, 0, 0, 0]])\n",
    "variable"
   ]
  },
  {
   "cell_type": "code",
   "execution_count": 19,
   "metadata": {},
   "outputs": [
    {
     "data": {
      "text/plain": [
       "<tf.Variable 'Variable:0' shape=(2, 4) dtype=int32, numpy=\n",
       "array([[1, 3, 5, 7],\n",
       "       [2, 4, 6, 8]], dtype=int32)>"
      ]
     },
     "execution_count": 19,
     "metadata": {},
     "output_type": "execute_result"
    }
   ],
   "source": [
    "checkpoint.restore(save_path)\n",
    "variable"
   ]
  },
  {
   "cell_type": "markdown",
   "metadata": {},
   "source": [
    "### `tf.function`"
   ]
  },
  {
   "cell_type": "code",
   "execution_count": 20,
   "metadata": {},
   "outputs": [],
   "source": [
    "def f1(x, y):\n",
    "    return tf.reduce_mean(input_tensor=tf.multiply(x**2, 5) + y**2)\n",
    "\n",
    "f2 = tf.function(f1)"
   ]
  },
  {
   "cell_type": "code",
   "execution_count": 21,
   "metadata": {},
   "outputs": [
    {
     "data": {
      "text/plain": [
       "109.0"
      ]
     },
     "execution_count": 21,
     "metadata": {},
     "output_type": "execute_result"
    }
   ],
   "source": [
    "x = tf.constant([4., -5.])\n",
    "y = tf.constant([2., 3.])\n",
    "\n",
    "f2(x, y).numpy()"
   ]
  },
  {
   "cell_type": "code",
   "execution_count": 22,
   "metadata": {},
   "outputs": [
    {
     "data": {
      "text/plain": [
       "109.0"
      ]
     },
     "execution_count": 22,
     "metadata": {},
     "output_type": "execute_result"
    }
   ],
   "source": [
    "f1(x, y).numpy()"
   ]
  },
  {
   "cell_type": "code",
   "execution_count": null,
   "metadata": {},
   "outputs": [],
   "source": []
  }
 ],
 "metadata": {
  "kernelspec": {
   "display_name": "Python 3",
   "language": "python",
   "name": "python3"
  },
  "language_info": {
   "codemirror_mode": {
    "name": "ipython",
    "version": 3
   },
   "file_extension": ".py",
   "mimetype": "text/x-python",
   "name": "python",
   "nbconvert_exporter": "python",
   "pygments_lexer": "ipython3",
   "version": "3.7.4"
  }
 },
 "nbformat": 4,
 "nbformat_minor": 2
}
