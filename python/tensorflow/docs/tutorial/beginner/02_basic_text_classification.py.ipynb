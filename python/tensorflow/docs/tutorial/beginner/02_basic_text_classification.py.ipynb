{
 "cells": [
  {
   "cell_type": "code",
   "execution_count": 1,
   "id": "palestinian-oriental",
   "metadata": {},
   "outputs": [],
   "source": [
    "import os\n",
    "import re\n",
    "import shutil\n",
    "import string\n",
    "\n",
    "import matplotlib.pyplot as plt\n",
    "import tensorflow as tf\n",
    "from   tensorflow.keras import layers, losses, preprocessing\n",
    "from   tensorflow.keras.layers.experimental.preprocessing import (\n",
    "    TextVectorization)"
   ]
  },
  {
   "cell_type": "code",
   "execution_count": 2,
   "id": "electoral-egyptian",
   "metadata": {},
   "outputs": [
    {
     "data": {
      "text/plain": [
       "'2.4.1'"
      ]
     },
     "execution_count": 2,
     "metadata": {},
     "output_type": "execute_result"
    }
   ],
   "source": [
    "tf.__version__"
   ]
  },
  {
   "cell_type": "code",
   "execution_count": 9,
   "id": "foster-machine",
   "metadata": {},
   "outputs": [],
   "source": [
    "DATA = '../../../../../data'"
   ]
  },
  {
   "cell_type": "code",
   "execution_count": 12,
   "id": "floral-stage",
   "metadata": {},
   "outputs": [],
   "source": [
    "url = 'https://ai.stanford.edu/~amaas/data/sentiment/aclImdb_v1.tar.gz'\n",
    "subdir = 'aclIMDB'\n",
    "# BROKEN: requires certificate validation--downloading manually:\n",
    "#dataset = tf.keras.utils.get_file(\n",
    "#    'aclImdb_v1', url, untar=True, cache_dir=DATA, cache_subdir=subdir)\n",
    "#dataset_dir = os.path.join(os.path.dirname(dataset), subdir)"
   ]
  },
  {
   "cell_type": "code",
   "execution_count": 14,
   "id": "decent-dependence",
   "metadata": {},
   "outputs": [
    {
     "data": {
      "text/plain": [
       "['imdbEr.txt', 'test', 'imdb.vocab', 'README', 'train']"
      ]
     },
     "execution_count": 14,
     "metadata": {},
     "output_type": "execute_result"
    }
   ],
   "source": [
    "dataset_dir = f'{DATA}/{subdir}'\n",
    "os.listdir(dataset_dir)"
   ]
  },
  {
   "cell_type": "code",
   "execution_count": 15,
   "id": "sophisticated-millennium",
   "metadata": {},
   "outputs": [
    {
     "data": {
      "text/plain": [
       "['urls_unsup.txt',\n",
       " 'neg',\n",
       " 'urls_pos.txt',\n",
       " 'unsup',\n",
       " 'urls_neg.txt',\n",
       " 'pos',\n",
       " 'unsupBow.feat',\n",
       " 'labeledBow.feat']"
      ]
     },
     "execution_count": 15,
     "metadata": {},
     "output_type": "execute_result"
    }
   ],
   "source": [
    "train_dir = os.path.join(dataset_dir, 'train')\n",
    "os.listdir(train_dir)"
   ]
  },
  {
   "cell_type": "code",
   "execution_count": 16,
   "id": "worst-omaha",
   "metadata": {},
   "outputs": [
    {
     "name": "stdout",
     "output_type": "stream",
     "text": [
      "Rachel Griffiths writes and directs this award winning short film. A heartwarming story about coping with grief and cherishing the memory of those we've loved and lost. Although, only 15 minutes long, Griffiths manages to capture so much emotion and truth onto film in the short space of time. Bud Tingwell gives a touching performance as Will, a widower struggling to cope with his wife's death. Will is confronted by the harsh reality of loneliness and helplessness as he proceeds to take care of Ruth's pet cow, Tulip. The film displays the grief and responsibility one feels for those they have loved and lost. Good cinematography, great direction, and superbly acted. It will bring tears to all those who have lost a loved one, and survived.\n"
     ]
    }
   ],
   "source": [
    "sample_file = os.path.join(train_dir, 'pos/1181_9.txt')\n",
    "\n",
    "with open(sample_file) as f:\n",
    "    print(f.read())"
   ]
  },
  {
   "cell_type": "markdown",
   "id": "numerical-devon",
   "metadata": {},
   "source": [
    "Using `text_dataset_from_directory` util, expects directory structure:\n",
    "```\n",
    "main_dir/\n",
    "  class_a/\n",
    "    a_text_1.txt\n",
    "    a_text_2.txt\n",
    "    ...\n",
    "  class_b/\n",
    "    b_text_1.txt\n",
    "    ...\n",
    "```"
   ]
  },
  {
   "cell_type": "code",
   "execution_count": 17,
   "id": "widespread-collins",
   "metadata": {},
   "outputs": [],
   "source": [
    "remove_dir = os.path.join(train_dir, 'unsup')\n",
    "shutil.rmtree(remove_dir)"
   ]
  },
  {
   "cell_type": "code",
   "execution_count": 18,
   "id": "appropriate-subject",
   "metadata": {},
   "outputs": [
    {
     "name": "stdout",
     "output_type": "stream",
     "text": [
      "Found 25000 files belonging to 2 classes.\n",
      "Using 20000 files for training.\n"
     ]
    }
   ],
   "source": [
    "BATCH = 32\n",
    "SEED = 1103\n",
    "\n",
    "raw_training_ds = preprocessing.text_dataset_from_directory(\n",
    "    train_dir, \n",
    "    batch_size=BATCH, \n",
    "    validation_split=0.2, \n",
    "    subset='training', \n",
    "    seed=SEED)"
   ]
  },
  {
   "cell_type": "code",
   "execution_count": 19,
   "id": "parallel-packaging",
   "metadata": {},
   "outputs": [
    {
     "name": "stdout",
     "output_type": "stream",
     "text": [
      "Review:\n",
      " b\"Curly Sue is a 6 year old with an abundance of hair and a life as a drifter. She and her father, Bill (Jim Belushi), try to survive on the streets by being small time con artists. In Chicago, Bill decides to jump in front of a car in a pricey parking garage while Curly will scream about lawsuits and traction to the intended victim. It happens to be a very upscale lawyer named Grey (Kelly Lynch) who is appropriately appalled at what she has done. Not only do the scammers make some cash, they get to spend the night at Grey's plush apartment. Even then, Grey feels she owes them more so the three of them hang together for a spell. Grey only knows the lucrative law business and nothing about life. Who better to teach her than Bill and Curly, those savvy experts on life's realities? But, all good things must come to an end and there is no life for a legal expert and a couple of con men. Or is there? This is a sweet and funny movie about the unexpected. Curly is certainly as entertaining as Shirley Temple but much edgier, of course. Belushi gives a rare touching performance as the down on his luck con and Lynch is luminous as the snooty but soft touch lawyer. John Hughes, as writer and director, shows us his magic touch once again, as the script is lively and unpredictable. Just watch Curly and Bill take Grey out for a night, with no money, and see the humorous results. Do you long for happy endings, long promised and finally delivered, with a few uncertain moments in between? This is your made-to-order movie.\"\n",
      "Label: 1\n",
      "Review:\n",
      " b\"This has to be some of the worst direction I've seen. The close-up can be a very powerful shot, but when every scene consists of nothing but close-ups, it loses all its impact. <br /><br />Tony Scott has some very beautiful scenery to work with, the backdrops of Mexico, the cantinas, the beautiful estate where Anthony Quinn lives, and the dusty towns Costner rolls through on his journey for revenge. Unfortunately we only catch quick glimpses of these places before the camera cuts to a picture of a big, giant head. Even the transition scenes where Costner is driving alone across Mexico quickly cut to a close-up. <br /><br />The score is over-dramatic and intrusive, dictating every emotion we should feel. The story itself should have been handled much better. Among other things, too many people pop up out of nowhere to help Costner along - it's just bad writing. <br /><br />It's a typical thriller storyline, but many others have taken the same premise and done outstanding things with it. Costner's No Way Out had a somewhat similar storyline, but it was a much better movie. <br /><br />The ending was completely anticlimactic and suffered from the most melodramatic scoring of the film. This movie was never going to be great, but if we saw more of Mexico and less of giant heads this film might have been watchable.\"\n",
      "Label: 0\n",
      "Review:\n",
      " b'You may say to yourself, \"Don Johnson as Elvis? Can that work? Is it possible? Seems like an terrible choice to me, but perhaps I should have an open mind. Maybe I\\'ll be surprised. Maybe he can pull it off.\"<br /><br />NOT!<br /><br />Don Johnson is not a bad actor. But he is an awful Elvis. He\\'s too short, too weak-voiced, too sharply featured ... well you\\'ve already imagined how bad he would be. Add to that a hokey black wig and heavy-handed eye-liner and mascara and it\\'s a big fat embarrassing mess.<br /><br />The best I can say is that since Johnson\\'s acting is decent and since his impersonation is so far off, after a while you don\\'t even think of him as Elvis anymore. You see him as some other crazed pop star instead. Then, on that level, the movie becomes watchable.<br /><br />Stephanie Zimbalist is also not ideally cast as the tall, beauty queen, Linda Thompson. But she is attractive in her own right and plays the part with the honesty, elegance and intelligence we\\'ve come to expect from all her roles. There may be too much intelligence in her performance. You have to be kind of a dope to stick with a dope abusing dope.<br /><br />There\\'s nothing new to this story; we\\'ve heard it many times before. If you\\'ve looking for new info or insight, you won\\'t find it. It\\'s told as a love story - an unrequited one: Linda for Elvis and Elvis for drugs.'\n",
      "Label: 0\n"
     ]
    }
   ],
   "source": [
    "for text_batch, label_batch in raw_training_ds.take(1):\n",
    "    for i in range(3):\n",
    "        print('Review:\\n', text_batch.numpy()[i])\n",
    "        print('Label:', label_batch.numpy()[i])"
   ]
  },
  {
   "cell_type": "code",
   "execution_count": 21,
   "id": "functioning-roads",
   "metadata": {},
   "outputs": [
    {
     "name": "stdout",
     "output_type": "stream",
     "text": [
      "Label 0 corresponds to neg\n",
      "Label 1 corresponds to pos\n"
     ]
    }
   ],
   "source": [
    "for encoding in [0, 1]:\n",
    "    print(f'Label {encoding} corresponds to '\n",
    "          f'{raw_training_ds.class_names[encoding]}')"
   ]
  },
  {
   "cell_type": "code",
   "execution_count": null,
   "id": "sustainable-brazilian",
   "metadata": {},
   "outputs": [],
   "source": []
  }
 ],
 "metadata": {
  "kernelspec": {
   "display_name": "Python 3",
   "language": "python",
   "name": "python3"
  },
  "language_info": {
   "codemirror_mode": {
    "name": "ipython",
    "version": 3
   },
   "file_extension": ".py",
   "mimetype": "text/x-python",
   "name": "python",
   "nbconvert_exporter": "python",
   "pygments_lexer": "ipython3",
   "version": "3.8.8"
  }
 },
 "nbformat": 4,
 "nbformat_minor": 5
}
