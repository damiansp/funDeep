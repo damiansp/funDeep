{
 "cells": [
  {
   "cell_type": "markdown",
   "metadata": {},
   "source": [
    "Derived from the docs' tutorial <a href=\"https://trax-ml.readthedocs.io/en/latest/notebooks/trax_intro.html\">here</a>."
   ]
  },
  {
   "cell_type": "code",
   "execution_count": 1,
   "metadata": {},
   "outputs": [],
   "source": [
    "#@title\n",
    "# Copyright 2020 Google LLC.\n",
    "\n",
    "# Licensed under the Apache License, Version 2.0 (the \"License\");\n",
    "# you may not use this file except in compliance with the License.\n",
    "# You may obtain a copy of the License at\n",
    "\n",
    "# https://www.apache.org/licenses/LICENSE-2.0\n",
    "\n",
    "# Unless required by applicable law or agreed to in writing, software\n",
    "# distributed under the License is distributed on an \"AS IS\" BASIS,\n",
    "# WITHOUT WARRANTIES OR CONDITIONS OF ANY KIND, either express or implied.\n",
    "# See the License for the specific language governing permissions and\n",
    "# limitations under the License."
   ]
  },
  {
   "cell_type": "code",
   "execution_count": 2,
   "metadata": {},
   "outputs": [],
   "source": [
    "import trax"
   ]
  },
  {
   "cell_type": "code",
   "execution_count": 3,
   "metadata": {},
   "outputs": [],
   "source": [
    "mod = trax.models.Transformer(input_vocab_size=33300, \n",
    "                              d_model=512, \n",
    "                              d_ff=2048, \n",
    "                              n_heads=8, \n",
    "                              n_encoder_layers=6, \n",
    "                              n_decoder_layers=6, \n",
    "                              max_len=2048, \n",
    "                              mode='predict')"
   ]
  },
  {
   "cell_type": "code",
   "execution_count": 4,
   "metadata": {},
   "outputs": [
    {
     "name": "stderr",
     "output_type": "stream",
     "text": [
      "/Library/Frameworks/Python.framework/Versions/3.8/lib/python3.8/site-packages/jax/lib/xla_bridge.py:130: UserWarning: No GPU/TPU found, falling back to CPU.\n",
      "  warnings.warn('No GPU/TPU found, falling back to CPU.')\n"
     ]
    }
   ],
   "source": [
    "mod.init_from_file('gs://trax-ml/models/translation/ende_wmt32k.pkl.gz',\n",
    "                   weights_only=True)"
   ]
  },
  {
   "cell_type": "code",
   "execution_count": 5,
   "metadata": {},
   "outputs": [],
   "source": [
    "sent = ('How much wood would a woodchuck chuck if a woodchuck could chuck '\n",
    "        'wood?')\n",
    "tokenized = list(\n",
    "    trax.data.tokenize(iter([sent]), \n",
    "                       vocab_dir='gs://trax-ml/vocabs', \n",
    "                       vocab_file='ende_32k.subword')\n",
    ")[0]"
   ]
  },
  {
   "cell_type": "code",
   "execution_count": 6,
   "metadata": {},
   "outputs": [
    {
     "data": {
      "text/plain": [
       "array([ 1670,   276,  7610,    98,    13, 13081,  7851,  1574,  7851,\n",
       "        1574,   175,    13, 13081,  7851,  1574,   252,  7851,  1574,\n",
       "        7610,   102])"
      ]
     },
     "execution_count": 6,
     "metadata": {},
     "output_type": "execute_result"
    }
   ],
   "source": [
    "tokenized"
   ]
  },
  {
   "cell_type": "code",
   "execution_count": 7,
   "metadata": {},
   "outputs": [],
   "source": [
    "tokenized = tokenized[None, :] # add batch dim\n",
    "tokenized_translation = trax.supervised.decoding.autoregressive_sample(\n",
    "    mod, tokenized, temperature=0.) # higher temp -> more diverse results"
   ]
  },
  {
   "cell_type": "code",
   "execution_count": 8,
   "metadata": {},
   "outputs": [
    {
     "data": {
      "text/plain": [
       "'Wie viel Holz würde ein Waldchuck springen, wenn ein Waldschock Holz schütteln könnte.'"
      ]
     },
     "execution_count": 8,
     "metadata": {},
     "output_type": "execute_result"
    }
   ],
   "source": [
    "# Detokenize\n",
    "# remove batch and EOS\n",
    "tokenized_translation = tokenized_translation[0][:-1]\n",
    "translation = trax.data.detokenize(tokenized_translation, \n",
    "                                   vocab_dir='gs://trax-ml/vocabs/', \n",
    "                                   vocab_file='ende_32k.subword')\n",
    "translation"
   ]
  },
  {
   "cell_type": "code",
   "execution_count": null,
   "metadata": {},
   "outputs": [],
   "source": []
  }
 ],
 "metadata": {
  "kernelspec": {
   "display_name": "Python 3",
   "language": "python",
   "name": "python3"
  },
  "language_info": {
   "codemirror_mode": {
    "name": "ipython",
    "version": 3
   },
   "file_extension": ".py",
   "mimetype": "text/x-python",
   "name": "python",
   "nbconvert_exporter": "python",
   "pygments_lexer": "ipython3",
   "version": "3.8.5"
  }
 },
 "nbformat": 4,
 "nbformat_minor": 4
}
