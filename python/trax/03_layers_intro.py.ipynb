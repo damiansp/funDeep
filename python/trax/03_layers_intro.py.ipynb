{
 "cells": [
  {
   "cell_type": "markdown",
   "metadata": {},
   "source": [
    "Derived from <a href=\"https://trax-ml.readthedocs.io/en/latest/notebooks/layers_intro.html\">Trax Docs/Tutorial</a>."
   ]
  },
  {
   "cell_type": "code",
   "execution_count": 1,
   "metadata": {},
   "outputs": [],
   "source": [
    "# Copyright 2018 Google LLC.\n",
    "\n",
    "# Licensed under the Apache License, Version 2.0 (the \"License\");\n",
    "# you may not use this file except in compliance with the License.\n",
    "# You may obtain a copy of the License at\n",
    "\n",
    "# https://www.apache.org/licenses/LICENSE-2.0\n",
    "\n",
    "# Unless required by applicable law or agreed to in writing, software\n",
    "# distributed under the License is distributed on an \"AS IS\" BASIS,\n",
    "# WITHOUT WARRANTIES OR CONDITIONS OF ANY KIND, either express or implied.\n",
    "# See the License for the specific language governing permissions and\n",
    "# limitations under the License."
   ]
  },
  {
   "cell_type": "code",
   "execution_count": 2,
   "metadata": {},
   "outputs": [],
   "source": [
    "import numpy as np\n",
    "from   trax import fastmath\n",
    "from   trax import layers as tl\n",
    "from   trax import shapes\n",
    "from   trax.fastmath import numpy as jnp\n",
    "from   trax.shapes import signature, ShapeDtype"
   ]
  },
  {
   "cell_type": "code",
   "execution_count": 3,
   "metadata": {},
   "outputs": [],
   "source": [
    "np.set_printoptions(precision=3)"
   ]
  },
  {
   "cell_type": "code",
   "execution_count": 4,
   "metadata": {},
   "outputs": [],
   "source": [
    "def show_layer_props(layer, layer_name):\n",
    "    print(f'{layer_name}.n_in:      {layer.n_in}\\n'\n",
    "          f'{layer_name}.n_out:     {layer.n_out}\\n'\n",
    "          f'{layer_name}.sublayers: {layer.sublayers}\\n'\n",
    "          f'{layer_name}.weights:   {layer.weigths}\\n')"
   ]
  },
  {
   "cell_type": "code",
   "execution_count": 5,
   "metadata": {},
   "outputs": [
    {
     "name": "stderr",
     "output_type": "stream",
     "text": [
      "/Library/Frameworks/Python.framework/Versions/3.8/lib/python3.8/site-packages/jax/lib/xla_bridge.py:130: UserWarning: No GPU/TPU found, falling back to CPU.\n",
      "  warnings.warn('No GPU/TPU found, falling back to CPU.')\n"
     ]
    },
    {
     "data": {
      "text/plain": [
       "array([[ -2,  -1,   0,   1,   2],\n",
       "       [-20, -10,   0,  10,  20]])"
      ]
     },
     "execution_count": 5,
     "metadata": {},
     "output_type": "execute_result"
    }
   ],
   "source": [
    "relu = tl.Relu()\n",
    "x = np.array([[-2, -1, 0, 1, 2], [-20, -10, 0, 10, 20]])\n",
    "y = relu(x)\n",
    "x"
   ]
  },
  {
   "cell_type": "code",
   "execution_count": 6,
   "metadata": {},
   "outputs": [
    {
     "data": {
      "text/plain": [
       "DeviceArray([[ 0,  0,  0,  1,  2],\n",
       "             [ 0,  0,  0, 10, 20]], dtype=int32)"
      ]
     },
     "execution_count": 6,
     "metadata": {},
     "output_type": "execute_result"
    }
   ],
   "source": [
    "y"
   ]
  },
  {
   "cell_type": "code",
   "execution_count": 7,
   "metadata": {},
   "outputs": [
    {
     "data": {
      "text/plain": [
       "(1, 1)"
      ]
     },
     "execution_count": 7,
     "metadata": {},
     "output_type": "execute_result"
    }
   ],
   "source": [
    "relu.n_in, relu.n_out"
   ]
  },
  {
   "cell_type": "code",
   "execution_count": 8,
   "metadata": {},
   "outputs": [],
   "source": [
    "concat = tl.Concatenate()\n",
    "x0 = np.array([[1, 2, 3], [4, 5, 6]])\n",
    "x1 = np.array([[7, 8, 9], [10, 11, 12]])\n",
    "y = concat([x0, x1])"
   ]
  },
  {
   "cell_type": "code",
   "execution_count": 9,
   "metadata": {},
   "outputs": [
    {
     "data": {
      "text/plain": [
       "array([[1, 2, 3],\n",
       "       [4, 5, 6]])"
      ]
     },
     "execution_count": 9,
     "metadata": {},
     "output_type": "execute_result"
    }
   ],
   "source": [
    "x0"
   ]
  },
  {
   "cell_type": "code",
   "execution_count": 10,
   "metadata": {},
   "outputs": [
    {
     "data": {
      "text/plain": [
       "array([[ 7,  8,  9],\n",
       "       [10, 11, 12]])"
      ]
     },
     "execution_count": 10,
     "metadata": {},
     "output_type": "execute_result"
    }
   ],
   "source": [
    "x1"
   ]
  },
  {
   "cell_type": "code",
   "execution_count": 11,
   "metadata": {},
   "outputs": [
    {
     "data": {
      "text/plain": [
       "DeviceArray([[ 1,  2,  3,  7,  8,  9],\n",
       "             [ 4,  5,  6, 10, 11, 12]], dtype=int32)"
      ]
     },
     "execution_count": 11,
     "metadata": {},
     "output_type": "execute_result"
    }
   ],
   "source": [
    "y"
   ]
  },
  {
   "cell_type": "code",
   "execution_count": 12,
   "metadata": {},
   "outputs": [
    {
     "data": {
      "text/plain": [
       "(2, 1)"
      ]
     },
     "execution_count": 12,
     "metadata": {},
     "output_type": "execute_result"
    }
   ],
   "source": [
    "concat.n_in, concat.n_out"
   ]
  },
  {
   "cell_type": "markdown",
   "metadata": {},
   "source": [
    "### Layers Configurable"
   ]
  },
  {
   "cell_type": "code",
   "execution_count": 13,
   "metadata": {},
   "outputs": [
    {
     "data": {
      "text/plain": [
       "DeviceArray([[ 1,  2,  3],\n",
       "             [ 4,  5,  6],\n",
       "             [ 7,  8,  9],\n",
       "             [10, 11, 12],\n",
       "             [13, 14, 15],\n",
       "             [16, 17, 18]], dtype=int32)"
      ]
     },
     "execution_count": 13,
     "metadata": {},
     "output_type": "execute_result"
    }
   ],
   "source": [
    "concat3 = tl.Concatenate(n_items=3, axis=0)\n",
    "x2 = np.array([[13, 14, 15], [16, 17, 18]])\n",
    "y = concat3([x0, x1, x2])\n",
    "y"
   ]
  },
  {
   "cell_type": "markdown",
   "metadata": {},
   "source": [
    "### Layers Trainable"
   ]
  },
  {
   "cell_type": "code",
   "execution_count": 14,
   "metadata": {},
   "outputs": [
    {
     "data": {
      "text/plain": [
       "DeviceArray([[-1.414, -0.707,  0.   ,  0.707,  1.414],\n",
       "             [-1.414, -0.707,  0.   ,  0.707,  1.414],\n",
       "             [-1.414, -0.707,  0.   ,  0.707,  1.414]], dtype=float32)"
      ]
     },
     "execution_count": 14,
     "metadata": {},
     "output_type": "execute_result"
    }
   ],
   "source": [
    "layer_norm = tl.LayerNorm()\n",
    "x = np.array([[-2, -1, -0,  1,  2],\n",
    "              [ 1,  2,  3,  4,  5],\n",
    "              [10, 20, 30, 40, 50]]\n",
    ").astype(np.float32)\n",
    "layer_norm.init(shapes.signature(x))\n",
    "\n",
    "y = layer_norm(x)\n",
    "y"
   ]
  },
  {
   "cell_type": "markdown",
   "metadata": {},
   "source": [
    "### Combining Layers"
   ]
  },
  {
   "cell_type": "code",
   "execution_count": 15,
   "metadata": {},
   "outputs": [
    {
     "data": {
      "text/plain": [
       "DeviceArray([[-0.75, -0.75, -0.75,  0.5 ,  1.75],\n",
       "             [-0.75, -0.75, -0.75,  0.5 ,  1.75]], dtype=float32)"
      ]
     },
     "execution_count": 15,
     "metadata": {},
     "output_type": "execute_result"
    }
   ],
   "source": [
    "layer_block = tl.Serial(tl.Relu(), tl.LayerNorm())\n",
    "\n",
    "x = np.array([[ -2,  -1, 0,  1,  2],\n",
    "              [-20, -10, 0, 10, 20]]\n",
    ").astype(np.float32)\n",
    "\n",
    "layer_block.init(shapes.signature(x))\n",
    "y = layer_block(x)\n",
    "y"
   ]
  },
  {
   "cell_type": "code",
   "execution_count": 16,
   "metadata": {},
   "outputs": [
    {
     "name": "stdout",
     "output_type": "stream",
     "text": [
      "layer_block: Serial[\n",
      "  Relu\n",
      "  LayerNorm\n",
      "]\n",
      "\n",
      "weights: ((), (DeviceArray([1., 1., 1., 1., 1.], dtype=float32), DeviceArray([0., 0., 0., 0., 0.], dtype=float32)))\n"
     ]
    }
   ],
   "source": [
    "print(f'layer_block: {layer_block}\\n\\nweights: {layer_block.weights}')"
   ]
  },
  {
   "cell_type": "code",
   "execution_count": 17,
   "metadata": {},
   "outputs": [
    {
     "data": {
      "text/plain": [
       "(DeviceArray([[ 0.,  0.,  0.,  1.,  2.],\n",
       "              [ 0.,  0.,  0., 10., 20.]], dtype=float32),\n",
       " array([[ -200.,  -100.,     0.,   100.,   200.],\n",
       "        [-2000., -1000.,     0.,  1000.,  2000.]], dtype=float32))"
      ]
     },
     "execution_count": 17,
     "metadata": {},
     "output_type": "execute_result"
    }
   ],
   "source": [
    "times_100 = tl.Fn('x100', lambda x: x * 100.)\n",
    "branch_relu_t100 = tl.Branch(relu, times_100)\n",
    "branch_relu_t100.init(shapes.signature(x))\n",
    "y0, y1 = branch_relu_t100(x)\n",
    "y0, y1"
   ]
  },
  {
   "cell_type": "markdown",
   "metadata": {},
   "source": [
    "### 3. Defining New Layer Classes"
   ]
  },
  {
   "cell_type": "code",
   "execution_count": 20,
   "metadata": {},
   "outputs": [],
   "source": [
    "def GCD():\n",
    "    '''\n",
    "    Returns a layer to compute the greatest common divisor, elementwise\n",
    "    '''\n",
    "    return tl.Fn('GCD', lambda a, b: jnp.gcd(a, b))"
   ]
  },
  {
   "cell_type": "code",
   "execution_count": 22,
   "metadata": {},
   "outputs": [
    {
     "data": {
      "text/plain": [
       "DeviceArray([ 1,  2,  1,  2,  5,  2,  1,  2,  1, 10], dtype=int32)"
      ]
     },
     "execution_count": 22,
     "metadata": {},
     "output_type": "execute_result"
    }
   ],
   "source": [
    "gcd = GCD()\n",
    "a = np.array([ 1,  2,  3,  4,  5,  6,  7,  8,  9, 10])\n",
    "b = np.array([11, 12, 13, 14, 15, 16, 17, 18, 19, 20])\n",
    "y = gcd((a, b))\n",
    "y"
   ]
  },
  {
   "cell_type": "code",
   "execution_count": 23,
   "metadata": {},
   "outputs": [],
   "source": [
    "def SumAndMax():\n",
    "    '''\n",
    "    Returns a layer to compute sums and maxima of tow input tensors\n",
    "    '''\n",
    "    return tl.Fn(\n",
    "        'SumAndMax', lambda a, b: (a + b, jnp.maximum(a, b)), n_out=2)"
   ]
  },
  {
   "cell_type": "code",
   "execution_count": 24,
   "metadata": {},
   "outputs": [
    {
     "data": {
      "text/plain": [
       "(array([ 11, -18,  33, -36,  55]),\n",
       " DeviceArray([10,  2, 30,  4, 50], dtype=int32))"
      ]
     },
     "execution_count": 24,
     "metadata": {},
     "output_type": "execute_result"
    }
   ],
   "source": [
    "sum_and_max = SumAndMax()\n",
    "a = np.array([ 1,   2,  3,   4,  5])\n",
    "b = np.array([10, -20, 30, -40, 50])\n",
    "y, z = sum_and_max([a, b])\n",
    "y, z"
   ]
  },
  {
   "cell_type": "code",
   "execution_count": 25,
   "metadata": {},
   "outputs": [],
   "source": [
    "def Flatten(n_axes_to_keep=1):\n",
    "    '''\n",
    "    Return a layer that combines one or more trailing axes of a tensor.\n",
    "    Flattening keep all the values of the input tensor, but reshapes it by\n",
    "    collapsing one or more trailing axes into a single axis. For example,\n",
    "    `Flatten(2)` on tensor with shape `(2, 3, 5, 7, 11)` -> shape \n",
    "    `(2, 3, 385)`\n",
    "    Args:\n",
    "      - n_axes_to_keep (int): Number of leading axes to keep (unchanged).\n",
    "    '''\n",
    "    layer_name = f'Flatten_keep_{n_axes_to_keep}'\n",
    "    def f(x):\n",
    "        in_rank = len(x.shape)\n",
    "        if in_rank <= n_axes_to_keep:\n",
    "            raise ValueError(\n",
    "                f'Input rank ({in_rank}) must be greater that the number '\n",
    "                f'of axes to keep ({n_axes_to_keep})')\n",
    "        return jnp.reshape(x, (x.shape[:n_axes_to_keep] + (-1,)))\n",
    "\n",
    "    return tl.Fn(layer_name, f)"
   ]
  },
  {
   "cell_type": "code",
   "execution_count": 26,
   "metadata": {},
   "outputs": [
    {
     "data": {
      "text/plain": [
       "(array([[  1,   2,   3,  10,  20,  30, 100, 200, 300],\n",
       "        [  4,   5,   6,  40,  50,  60, 400, 500, 600]]),\n",
       " array([[[  1,   2,   3],\n",
       "         [ 10,  20,  30],\n",
       "         [100, 200, 300]],\n",
       " \n",
       "        [[  4,   5,   6],\n",
       "         [ 40,  50,  60],\n",
       "         [400, 500, 600]]]))"
      ]
     },
     "execution_count": 26,
     "metadata": {},
     "output_type": "execute_result"
    }
   ],
   "source": [
    "flatten_keep_1 = Flatten()\n",
    "flatten_keep_2 = Flatten(2)\n",
    "\n",
    "x = np.array([[[  1,   2,   3],\n",
    "               [ 10,  20,  30],\n",
    "               [100, 200, 300]],\n",
    "              [[  4,   5,   6],\n",
    "               [ 40,  50,  60],\n",
    "               [400, 500, 600]]])\n",
    "y = flatten_keep_1(x)\n",
    "z = flatten_keep_2(x)\n",
    "\n",
    "y, z"
   ]
  },
  {
   "cell_type": "code",
   "execution_count": null,
   "metadata": {},
   "outputs": [],
   "source": []
  }
 ],
 "metadata": {
  "kernelspec": {
   "display_name": "Python 3",
   "language": "python",
   "name": "python3"
  },
  "language_info": {
   "codemirror_mode": {
    "name": "ipython",
    "version": 3
   },
   "file_extension": ".py",
   "mimetype": "text/x-python",
   "name": "python",
   "nbconvert_exporter": "python",
   "pygments_lexer": "ipython3",
   "version": "3.8.5"
  }
 },
 "nbformat": 4,
 "nbformat_minor": 4
}
