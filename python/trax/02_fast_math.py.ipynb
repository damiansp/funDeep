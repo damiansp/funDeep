{
 "cells": [
  {
   "cell_type": "markdown",
   "metadata": {},
   "source": [
    "Derived from the docs' tutorial <a href=\"https://trax-ml.readthedocs.io/en/latest/notebooks/trax_intro.html\">here</a>."
   ]
  },
  {
   "cell_type": "code",
   "execution_count": 2,
   "metadata": {},
   "outputs": [],
   "source": [
    "#@title\n",
    "# Copyright 2020 Google LLC.\n",
    "\n",
    "# Licensed under the Apache License, Version 2.0 (the \"License\");\n",
    "# you may not use this file except in compliance with the License.\n",
    "# You may obtain a copy of the License at\n",
    "\n",
    "# https://www.apache.org/licenses/LICENSE-2.0\n",
    "\n",
    "# Unless required by applicable law or agreed to in writing, software\n",
    "# distributed under the License is distributed on an \"AS IS\" BASIS,\n",
    "# WITHOUT WARRANTIES OR CONDITIONS OF ANY KIND, either express or implied.\n",
    "# See the License for the specific language governing permissions and\n",
    "# limitations under the License."
   ]
  },
  {
   "cell_type": "code",
   "execution_count": 10,
   "metadata": {},
   "outputs": [],
   "source": [
    "import numpy as np\n",
    "import trax\n",
    "from   trax import layers as tl\n",
    "from   trax.fastmath import numpy as fastnp\n",
    "\n",
    "trax.fastmath.use_backend('jax'); # or 'tensorflow-numpy'"
   ]
  },
  {
   "cell_type": "code",
   "execution_count": 5,
   "metadata": {},
   "outputs": [
    {
     "name": "stdout",
     "output_type": "stream",
     "text": [
      "Matrix:\n",
      "[[1 2 3]\n",
      " [4 5 6]\n",
      " [7 8 9]]\n",
      "Vector: [1. 1. 1.]\n",
      "Dot product: [12. 15. 18.]\n",
      "tanh(prod): [1. 1. 1.]\n"
     ]
    },
    {
     "name": "stderr",
     "output_type": "stream",
     "text": [
      "/Library/Frameworks/Python.framework/Versions/3.8/lib/python3.8/site-packages/jax/lib/xla_bridge.py:130: UserWarning: No GPU/TPU found, falling back to CPU.\n",
      "  warnings.warn('No GPU/TPU found, falling back to CPU.')\n"
     ]
    }
   ],
   "source": [
    "M = fastnp.array([[1, 2, 3], [4, 5, 6], [7, 8, 9]])\n",
    "print(f'Matrix:\\n{M}')\n",
    "\n",
    "v = fastnp.ones(3)\n",
    "print(f'Vector: {v}')\n",
    "\n",
    "dot_prod = fastnp.dot(v, M)\n",
    "print(f'Dot product: {dot_prod}')\n",
    "\n",
    "tanh = fastnp.tanh(dot_prod)\n",
    "print(f'tanh(prod): {tanh}')"
   ]
  },
  {
   "cell_type": "code",
   "execution_count": 6,
   "metadata": {},
   "outputs": [],
   "source": [
    "def f(x):\n",
    "    return 2. * x * x"
   ]
  },
  {
   "cell_type": "code",
   "execution_count": 7,
   "metadata": {},
   "outputs": [
    {
     "name": "stdout",
     "output_type": "stream",
     "text": [
      "grad(2x^2) at 1: 4.0\n",
      "grad(2x^2) at -2: -8.0\n"
     ]
    }
   ],
   "source": [
    "grad_f = trax.fastmath.grad(f)\n",
    "\n",
    "print(f'grad(2x^2) at 1: {grad_f(1.)}')\n",
    "print(f'grad(2x^2) at -2: {grad_f(-2.)}')"
   ]
  },
  {
   "cell_type": "code",
   "execution_count": 11,
   "metadata": {},
   "outputs": [
    {
     "name": "stdout",
     "output_type": "stream",
     "text": [
      "x: [ 0  1  2  3  4  5  6  7  8  9 10 11 12 13 14]\n",
      "y.shape: (15, 32)\n"
     ]
    }
   ],
   "source": [
    "x = np.arange(15)\n",
    "print(f'x: {x}')\n",
    "      \n",
    "# Create embedding layer\n",
    "embedding = tl.Embedding(vocab_size=20, d_feature=32)\n",
    "embedding.init(trax.shapes.signature(x))\n",
    "\n",
    "# Run the layer -- y = embedding(x)\n",
    "y = embedding(x)\n",
    "print(f'y.shape: {y.shape}')"
   ]
  },
  {
   "cell_type": "code",
   "execution_count": null,
   "metadata": {},
   "outputs": [],
   "source": []
  }
 ],
 "metadata": {
  "kernelspec": {
   "display_name": "Python 3",
   "language": "python",
   "name": "python3"
  },
  "language_info": {
   "codemirror_mode": {
    "name": "ipython",
    "version": 3
   },
   "file_extension": ".py",
   "mimetype": "text/x-python",
   "name": "python",
   "nbconvert_exporter": "python",
   "pygments_lexer": "ipython3",
   "version": "3.8.5"
  }
 },
 "nbformat": 4,
 "nbformat_minor": 4
}
