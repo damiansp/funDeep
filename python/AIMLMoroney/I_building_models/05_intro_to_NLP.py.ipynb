{
 "cells": [
  {
   "cell_type": "code",
   "execution_count": 14,
   "id": "funded-library",
   "metadata": {},
   "outputs": [],
   "source": [
    "import tensorflow as tf\n",
    "from   tensorflow import keras\n",
    "from   tensorflow.keras.preprocessing.sequence import pad_sequences\n",
    "from   tensorflow.keras.preprocessing.text import Tokenizer"
   ]
  },
  {
   "cell_type": "code",
   "execution_count": 7,
   "id": "afraid-eating",
   "metadata": {},
   "outputs": [],
   "source": [
    "N_WORDS = 100\n",
    "OOV = '<OOV>'"
   ]
  },
  {
   "cell_type": "code",
   "execution_count": 3,
   "id": "following-november",
   "metadata": {},
   "outputs": [
    {
     "data": {
      "text/plain": [
       "{'today': 1, 'is': 2, 'a': 3, 'sunny': 4, 'day': 5, 'rainy': 6, 'it': 7}"
      ]
     },
     "execution_count": 3,
     "metadata": {},
     "output_type": "execute_result"
    }
   ],
   "source": [
    "sentences = ['Today is a sunny day.', 'Today is a rainy day.', \n",
    "             'Is it sunny today?']\n",
    "tokenizer = Tokenizer(num_words=N_WORDS)\n",
    "tokenizer.fit_on_texts(sentences)\n",
    "word_index = tokenizer.word_index\n",
    "word_index"
   ]
  },
  {
   "cell_type": "code",
   "execution_count": 4,
   "id": "placed-gambling",
   "metadata": {},
   "outputs": [
    {
     "data": {
      "text/plain": [
       "[[1, 2, 3, 4, 5], [1, 2, 3, 6, 5], [2, 7, 4, 1]]"
      ]
     },
     "execution_count": 4,
     "metadata": {},
     "output_type": "execute_result"
    }
   ],
   "source": [
    "sequences = tokenizer.texts_to_sequences(sentences)\n",
    "sequences"
   ]
  },
  {
   "cell_type": "code",
   "execution_count": 5,
   "id": "unlimited-polyester",
   "metadata": {},
   "outputs": [
    {
     "data": {
      "text/plain": [
       "{'today': 1, 'is': 2, 'a': 3, 'sunny': 4, 'day': 5, 'rainy': 6, 'it': 7}"
      ]
     },
     "execution_count": 5,
     "metadata": {},
     "output_type": "execute_result"
    }
   ],
   "source": [
    "test_data = ['Today is a snowy day', 'Will it be rainy tomorrow?']\n",
    "test_sequences = tokenizer.texts_to_sequences(test_data)\n",
    "word_index # unchanged"
   ]
  },
  {
   "cell_type": "code",
   "execution_count": 6,
   "id": "northern-tomorrow",
   "metadata": {},
   "outputs": [
    {
     "data": {
      "text/plain": [
       "[[1, 2, 3, 5], [7, 6]]"
      ]
     },
     "execution_count": 6,
     "metadata": {},
     "output_type": "execute_result"
    }
   ],
   "source": [
    "test_sequences"
   ]
  },
  {
   "cell_type": "code",
   "execution_count": 8,
   "id": "terminal-bristol",
   "metadata": {},
   "outputs": [
    {
     "data": {
      "text/plain": [
       "{'<OOV>': 1,\n",
       " 'today': 2,\n",
       " 'is': 3,\n",
       " 'a': 4,\n",
       " 'sunny': 5,\n",
       " 'day': 6,\n",
       " 'rainy': 7,\n",
       " 'it': 8}"
      ]
     },
     "execution_count": 8,
     "metadata": {},
     "output_type": "execute_result"
    }
   ],
   "source": [
    "tokenizer = Tokenizer(num_words=N_WORDS, oov_token=OOV)\n",
    "tokenizer.fit_on_texts(sentences)\n",
    "word_index = tokenizer.word_index\n",
    "sequences = tokenizer.texts_to_sequences(sentences)\n",
    "test_sequences = tokenizer.texts_to_sequences(test_data)\n",
    "word_index"
   ]
  },
  {
   "cell_type": "code",
   "execution_count": 9,
   "id": "aware-nurse",
   "metadata": {},
   "outputs": [
    {
     "data": {
      "text/plain": [
       "[[2, 3, 4, 1, 6], [1, 8, 1, 7, 1]]"
      ]
     },
     "execution_count": 9,
     "metadata": {},
     "output_type": "execute_result"
    }
   ],
   "source": [
    "test_sequences"
   ]
  },
  {
   "cell_type": "markdown",
   "id": "robust-danger",
   "metadata": {},
   "source": [
    "### Padding "
   ]
  },
  {
   "cell_type": "code",
   "execution_count": 10,
   "id": "excess-level",
   "metadata": {},
   "outputs": [],
   "source": [
    "sentences = ['Today is a sunny day',\n",
    "             'Today is a rainy day', \n",
    "             'Is it sunny today?',\n",
    "             'I really enjoyed walking in the snow today']"
   ]
  },
  {
   "cell_type": "code",
   "execution_count": 11,
   "id": "graduate-arrangement",
   "metadata": {},
   "outputs": [
    {
     "data": {
      "text/plain": [
       "[[2, 3, 4, 5, 6], [2, 3, 4, 7, 6], [3, 8, 5, 2], [1, 1, 1, 1, 1, 1, 1, 2]]"
      ]
     },
     "execution_count": 11,
     "metadata": {},
     "output_type": "execute_result"
    }
   ],
   "source": [
    "sentence_sequences = tokenizer.texts_to_sequences(sentences)\n",
    "sentence_sequences"
   ]
  },
  {
   "cell_type": "code",
   "execution_count": 15,
   "id": "champion-height",
   "metadata": {},
   "outputs": [
    {
     "data": {
      "text/plain": [
       "array([[0, 0, 0, 2, 3, 4, 5, 6],\n",
       "       [0, 0, 0, 2, 3, 4, 7, 6],\n",
       "       [0, 0, 0, 0, 3, 8, 5, 2],\n",
       "       [1, 1, 1, 1, 1, 1, 1, 2]], dtype=int32)"
      ]
     },
     "execution_count": 15,
     "metadata": {},
     "output_type": "execute_result"
    }
   ],
   "source": [
    "padded = pad_sequences(sentence_sequences)\n",
    "padded"
   ]
  },
  {
   "cell_type": "code",
   "execution_count": 16,
   "id": "flexible-sydney",
   "metadata": {},
   "outputs": [
    {
     "data": {
      "text/plain": [
       "array([[2, 3, 4, 5, 6, 0, 0, 0],\n",
       "       [2, 3, 4, 7, 6, 0, 0, 0],\n",
       "       [3, 8, 5, 2, 0, 0, 0, 0],\n",
       "       [1, 1, 1, 1, 1, 1, 1, 2]], dtype=int32)"
      ]
     },
     "execution_count": 16,
     "metadata": {},
     "output_type": "execute_result"
    }
   ],
   "source": [
    "post_padded = pad_sequences(sentence_sequences, padding='post')\n",
    "post_padded"
   ]
  },
  {
   "cell_type": "code",
   "execution_count": 18,
   "id": "ecological-samba",
   "metadata": {},
   "outputs": [
    {
     "data": {
      "text/plain": [
       "array([[2, 3, 4, 5, 6, 0],\n",
       "       [2, 3, 4, 7, 6, 0],\n",
       "       [3, 8, 5, 2, 0, 0],\n",
       "       [1, 1, 1, 1, 1, 2]], dtype=int32)"
      ]
     },
     "execution_count": 18,
     "metadata": {},
     "output_type": "execute_result"
    }
   ],
   "source": [
    "trim_pad = pad_sequences(sentence_sequences, padding='post', maxlen=6)\n",
    "trim_pad"
   ]
  },
  {
   "cell_type": "code",
   "execution_count": 19,
   "id": "differential-antibody",
   "metadata": {},
   "outputs": [
    {
     "data": {
      "text/plain": [
       "array([[2, 3, 4, 5, 6, 0],\n",
       "       [2, 3, 4, 7, 6, 0],\n",
       "       [3, 8, 5, 2, 0, 0],\n",
       "       [1, 1, 1, 1, 1, 1]], dtype=int32)"
      ]
     },
     "execution_count": 19,
     "metadata": {},
     "output_type": "execute_result"
    }
   ],
   "source": [
    "trim_pad2 = pad_sequences(\n",
    "    sentence_sequences, padding='post', maxlen=6, truncating='post')\n",
    "trim_pad2"
   ]
  },
  {
   "cell_type": "code",
   "execution_count": null,
   "id": "coral-beads",
   "metadata": {},
   "outputs": [],
   "source": []
  }
 ],
 "metadata": {
  "kernelspec": {
   "display_name": "Python 3",
   "language": "python",
   "name": "python3"
  },
  "language_info": {
   "codemirror_mode": {
    "name": "ipython",
    "version": 3
   },
   "file_extension": ".py",
   "mimetype": "text/x-python",
   "name": "python",
   "nbconvert_exporter": "python",
   "pygments_lexer": "ipython3",
   "version": "3.8.8"
  }
 },
 "nbformat": 4,
 "nbformat_minor": 5
}
