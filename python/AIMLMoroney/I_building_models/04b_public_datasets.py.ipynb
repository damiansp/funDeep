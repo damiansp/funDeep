{
 "cells": [
  {
   "cell_type": "code",
   "execution_count": 1,
   "id": "scientific-training",
   "metadata": {},
   "outputs": [],
   "source": [
    "import multiprocessing\n",
    "import os\n",
    "\n",
    "import tensorflow as tf\n",
    "import tensorflow_addons as tfa\n",
    "import tensorflow_datasets as tfds\n",
    "from   tensorflow.keras.datasets import fashion_mnist as fmnist\n",
    "from   tensorflow.keras.layers import (\n",
    "    Conv2D as Conv, MaxPooling2D as Pool, Dense, Dropout, Flatten)\n",
    "from   tensorflow.keras.models import Sequential\n",
    "from   tensorflow.nn import relu, softmax"
   ]
  },
  {
   "cell_type": "code",
   "execution_count": 2,
   "id": "organizational-phenomenon",
   "metadata": {},
   "outputs": [
    {
     "name": "stdout",
     "output_type": "stream",
     "text": [
      "train\n",
      "test\n"
     ]
    }
   ],
   "source": [
    "mnist_data = tfds.load('fashion_mnist')\n",
    "for item in mnist_data:\n",
    "    print(item)"
   ]
  },
  {
   "cell_type": "code",
   "execution_count": 3,
   "id": "agreed-passenger",
   "metadata": {},
   "outputs": [],
   "source": [
    "mnist_train = tfds.load(name='fashion_mnist', split='train')"
   ]
  },
  {
   "cell_type": "code",
   "execution_count": 4,
   "id": "smaller-apple",
   "metadata": {},
   "outputs": [
    {
     "data": {
      "text/plain": [
       "True"
      ]
     },
     "execution_count": 4,
     "metadata": {},
     "output_type": "execute_result"
    }
   ],
   "source": [
    "isinstance(mnist_train, tf.data.Dataset)"
   ]
  },
  {
   "cell_type": "code",
   "execution_count": 5,
   "id": "assigned-cross",
   "metadata": {},
   "outputs": [
    {
     "data": {
      "text/plain": [
       "False"
      ]
     },
     "execution_count": 5,
     "metadata": {},
     "output_type": "execute_result"
    }
   ],
   "source": [
    "isinstance(mnist_data, tf.data.Dataset)"
   ]
  },
  {
   "cell_type": "code",
   "execution_count": 6,
   "id": "necessary-charles",
   "metadata": {},
   "outputs": [
    {
     "name": "stdout",
     "output_type": "stream",
     "text": [
      "<class 'dict'>\n",
      "dict_keys(['image', 'label'])\n"
     ]
    }
   ],
   "source": [
    "for item in mnist_train.take(1):\n",
    "    print(type(item))\n",
    "    print(item.keys())"
   ]
  },
  {
   "cell_type": "code",
   "execution_count": 7,
   "id": "designed-principle",
   "metadata": {},
   "outputs": [
    {
     "name": "stdout",
     "output_type": "stream",
     "text": [
      "(28, 28, 1)\n",
      "tf.Tensor(2, shape=(), dtype=int64)\n"
     ]
    }
   ],
   "source": [
    "for item in mnist_train.take(1):\n",
    "    print(item['image'].shape)\n",
    "    print(item['label'])"
   ]
  },
  {
   "cell_type": "code",
   "execution_count": 8,
   "id": "convenient-alexander",
   "metadata": {},
   "outputs": [
    {
     "name": "stdout",
     "output_type": "stream",
     "text": [
      "tfds.core.DatasetInfo(\n",
      "    name='fashion_mnist',\n",
      "    full_name='fashion_mnist/3.0.1',\n",
      "    description=\"\"\"\n",
      "    Fashion-MNIST is a dataset of Zalando's article images consisting of a training set of 60,000 examples and a test set of 10,000 examples. Each example is a 28x28 grayscale image, associated with a label from 10 classes.\n",
      "    \"\"\",\n",
      "    homepage='https://github.com/zalandoresearch/fashion-mnist',\n",
      "    data_path='/Users/dsatterthwaite/tensorflow_datasets/fashion_mnist/3.0.1',\n",
      "    download_size=29.45 MiB,\n",
      "    dataset_size=36.42 MiB,\n",
      "    features=FeaturesDict({\n",
      "        'image': Image(shape=(28, 28, 1), dtype=tf.uint8),\n",
      "        'label': ClassLabel(shape=(), dtype=tf.int64, num_classes=10),\n",
      "    }),\n",
      "    supervised_keys=('image', 'label'),\n",
      "    splits={\n",
      "        'test': <SplitInfo num_examples=10000, num_shards=1>,\n",
      "        'train': <SplitInfo num_examples=60000, num_shards=1>,\n",
      "    },\n",
      "    citation=\"\"\"@article{DBLP:journals/corr/abs-1708-07747,\n",
      "      author    = {Han Xiao and\n",
      "                   Kashif Rasul and\n",
      "                   Roland Vollgraf},\n",
      "      title     = {Fashion-MNIST: a Novel Image Dataset for Benchmarking Machine Learning\n",
      "                   Algorithms},\n",
      "      journal   = {CoRR},\n",
      "      volume    = {abs/1708.07747},\n",
      "      year      = {2017},\n",
      "      url       = {http://arxiv.org/abs/1708.07747},\n",
      "      archivePrefix = {arXiv},\n",
      "      eprint    = {1708.07747},\n",
      "      timestamp = {Mon, 13 Aug 2018 16:47:27 +0200},\n",
      "      biburl    = {https://dblp.org/rec/bib/journals/corr/abs-1708-07747},\n",
      "      bibsource = {dblp computer science bibliography, https://dblp.org}\n",
      "    }\"\"\",\n",
      ")\n"
     ]
    }
   ],
   "source": [
    "mnist_test, info = tfds.load(name='fashion_mnist', with_info=True)\n",
    "print(info)"
   ]
  },
  {
   "cell_type": "code",
   "execution_count": 9,
   "id": "minor-police",
   "metadata": {},
   "outputs": [],
   "source": [
    "(X_train, y_train), (X_test, y_test) = fmnist.load_data()"
   ]
  },
  {
   "cell_type": "code",
   "execution_count": 10,
   "id": "essential-spring",
   "metadata": {},
   "outputs": [],
   "source": [
    "(X_train, y_train), (X_test, y_test) = tfds.as_numpy(\n",
    "    tfds.load('fashion_mnist', \n",
    "              split=['train', 'test'], \n",
    "              batch_size=-1, \n",
    "              as_supervised=True))"
   ]
  },
  {
   "cell_type": "code",
   "execution_count": 11,
   "id": "strong-birth",
   "metadata": {},
   "outputs": [],
   "source": [
    "X_train = X_train / 255.\n",
    "X_test = X_test / 255."
   ]
  },
  {
   "cell_type": "code",
   "execution_count": 12,
   "id": "enhanced-syria",
   "metadata": {},
   "outputs": [],
   "source": [
    "mod = Sequential([Flatten(input_shape=(28, 28, 1)),\n",
    "                  Dense(128, activation=relu),\n",
    "                  Dropout(0.2),\n",
    "                  Dense(10, activation=softmax)])"
   ]
  },
  {
   "cell_type": "code",
   "execution_count": 13,
   "id": "figured-finish",
   "metadata": {},
   "outputs": [],
   "source": [
    "mod.compile(optimizer='adam', \n",
    "            loss='sparse_categorical_crossentropy',\n",
    "            metrics=['accuracy'])"
   ]
  },
  {
   "cell_type": "code",
   "execution_count": 14,
   "id": "actual-tourism",
   "metadata": {},
   "outputs": [
    {
     "name": "stdout",
     "output_type": "stream",
     "text": [
      "Epoch 1/5\n",
      "1875/1875 [==============================] - 2s 598us/step - loss: 0.6702 - accuracy: 0.7673\n",
      "Epoch 2/5\n",
      "1875/1875 [==============================] - 1s 626us/step - loss: 0.4083 - accuracy: 0.8525\n",
      "Epoch 3/5\n",
      "1875/1875 [==============================] - 1s 612us/step - loss: 0.3725 - accuracy: 0.8643\n",
      "Epoch 4/5\n",
      "1875/1875 [==============================] - 1s 598us/step - loss: 0.3477 - accuracy: 0.8719\n",
      "Epoch 5/5\n",
      "1875/1875 [==============================] - 1s 605us/step - loss: 0.3364 - accuracy: 0.8752\n"
     ]
    },
    {
     "data": {
      "text/plain": [
       "<tensorflow.python.keras.callbacks.History at 0x7fc49c702ac0>"
      ]
     },
     "execution_count": 14,
     "metadata": {},
     "output_type": "execute_result"
    }
   ],
   "source": [
    "mod.fit(X_train, y_train, epochs=5)"
   ]
  },
  {
   "cell_type": "code",
   "execution_count": 15,
   "id": "fossil-thirty",
   "metadata": {},
   "outputs": [],
   "source": [
    "data = tfds.load('horses_or_humans', split='train', as_supervised=True)\n",
    "train_batches = data.shuffle(100).batch(100)"
   ]
  },
  {
   "cell_type": "code",
   "execution_count": 16,
   "id": "generic-things",
   "metadata": {},
   "outputs": [],
   "source": [
    "CKERN = (3, 3)\n",
    "PKERN = (2, 2)\n",
    "mod = Sequential([\n",
    "    Conv(16, CKERN, activation='relu', input_shape=(300, 300, 3)),\n",
    "    Pool(PKERN), \n",
    "    Conv(32, CKERN, activation='relu'),\n",
    "    Pool(PKERN),\n",
    "    Conv(64, CKERN, activation='relu'),\n",
    "    Pool(PKERN),\n",
    "    Conv(64, CKERN, activation='relu'),\n",
    "    Pool(PKERN),\n",
    "    Conv(64, CKERN, activation='relu'),\n",
    "    Pool(PKERN),\n",
    "    Flatten(),\n",
    "    Dense(512, activation='relu'),\n",
    "    Dense(1, activation='sigmoid')])"
   ]
  },
  {
   "cell_type": "code",
   "execution_count": 17,
   "id": "suffering-resolution",
   "metadata": {},
   "outputs": [],
   "source": [
    "mod.compile(\n",
    "    optimizer='Adam', loss='binary_crossentropy', metrics=['accuracy'])"
   ]
  },
  {
   "cell_type": "code",
   "execution_count": 18,
   "id": "chronic-financing",
   "metadata": {},
   "outputs": [
    {
     "name": "stdout",
     "output_type": "stream",
     "text": [
      "Epoch 1/5\n",
      "11/11 [==============================] - 25s 2s/step - loss: 45.3789 - accuracy: 0.5131\n",
      "Epoch 2/5\n",
      "11/11 [==============================] - 24s 2s/step - loss: 0.6350 - accuracy: 0.6553\n",
      "Epoch 3/5\n",
      "11/11 [==============================] - 24s 2s/step - loss: 0.4299 - accuracy: 0.7939\n",
      "Epoch 4/5\n",
      "11/11 [==============================] - 24s 2s/step - loss: 0.2276 - accuracy: 0.9069\n",
      "Epoch 5/5\n",
      "11/11 [==============================] - 24s 2s/step - loss: 0.1002 - accuracy: 0.9648\n"
     ]
    }
   ],
   "source": [
    "hist = mod.fit(train_batches, epochs=5)"
   ]
  },
  {
   "cell_type": "markdown",
   "id": "arbitrary-logic",
   "metadata": {},
   "source": [
    "### Adding image augmentation"
   ]
  },
  {
   "cell_type": "code",
   "execution_count": 19,
   "id": "broke-corps",
   "metadata": {},
   "outputs": [],
   "source": [
    "def augment(img, label):\n",
    "    img = tf.cast(img, tf.float32)\n",
    "    img = img / 255\n",
    "    img = tf.image.random_flip_left_right(img)\n",
    "    return img, label"
   ]
  },
  {
   "cell_type": "code",
   "execution_count": 20,
   "id": "fourth-portsmouth",
   "metadata": {},
   "outputs": [],
   "source": [
    "train = data.map(augment)\n",
    "train_batches = train.shuffle(100).batch(100)"
   ]
  },
  {
   "cell_type": "markdown",
   "id": "statutory-ethnic",
   "metadata": {},
   "source": [
    "### Addons"
   ]
  },
  {
   "cell_type": "code",
   "execution_count": 21,
   "id": "theoretical-craps",
   "metadata": {},
   "outputs": [],
   "source": [
    "def augment(img, label):\n",
    "    img = tf.cast(img, tf.float32)\n",
    "    img = img / 255\n",
    "    img = tf.image.random_flip_left_right(img)\n",
    "    img = tfa.image.rotate(img, 40, interpolation='NEAREST')\n",
    "    return img, label"
   ]
  },
  {
   "cell_type": "markdown",
   "id": "ecological-ceremony",
   "metadata": {},
   "source": [
    "## Data Splitting"
   ]
  },
  {
   "cell_type": "markdown",
   "id": "executive-collector",
   "metadata": {},
   "source": [
    "```\n",
    "data = tfds.load(\n",
    "    'cats_vs_dogs', split='train[:10000]', as_supervised=True)\n",
    "data = tfds.load(\n",
    "    'cats_vs_dogs', split='train[:20%]', as_supervised=True)\n",
    "data = tfds.load('cats_vs_dogs',     \n",
    "                 split='train[-1000:]+train[:1000]',\n",
    "                 as_supervised=True)\n",
    "\n",
    "train = tfds.load(\n",
    "    'cats_vs_dogs', split='train[:80%], as_supervised=True)\n",
    "valid = tfds.load(\n",
    "    'cats_vs_dogs', split='train[80%:90%], as_supervised=True)\n",
    "test = tfds.load(\n",
    "    'cats_vs_dogs', split='train[-10%:], as_supervised=True)\n",
    "    \n",
    "train_len = [i for i, _ in enumerate(train)][-1] + 1\n",
    "```"
   ]
  },
  {
   "cell_type": "markdown",
   "id": "collect-boulder",
   "metadata": {},
   "source": [
    "## TFRecord"
   ]
  },
  {
   "cell_type": "code",
   "execution_count": 22,
   "id": "driving-receptor",
   "metadata": {},
   "outputs": [
    {
     "name": "stdout",
     "output_type": "stream",
     "text": [
      "tfds.core.DatasetInfo(\n",
      "    name='mnist',\n",
      "    full_name='mnist/3.0.1',\n",
      "    description=\"\"\"\n",
      "    The MNIST database of handwritten digits.\n",
      "    \"\"\",\n",
      "    homepage='http://yann.lecun.com/exdb/mnist/',\n",
      "    data_path='/Users/dsatterthwaite/tensorflow_datasets/mnist/3.0.1',\n",
      "    download_size=11.06 MiB,\n",
      "    dataset_size=21.00 MiB,\n",
      "    features=FeaturesDict({\n",
      "        'image': Image(shape=(28, 28, 1), dtype=tf.uint8),\n",
      "        'label': ClassLabel(shape=(), dtype=tf.int64, num_classes=10),\n",
      "    }),\n",
      "    supervised_keys=('image', 'label'),\n",
      "    splits={\n",
      "        'test': <SplitInfo num_examples=10000, num_shards=1>,\n",
      "        'train': <SplitInfo num_examples=60000, num_shards=1>,\n",
      "    },\n",
      "    citation=\"\"\"@article{lecun2010mnist,\n",
      "      title={MNIST handwritten digit database},\n",
      "      author={LeCun, Yann and Cortes, Corinna and Burges, CJ},\n",
      "      journal={ATT Labs [Online]. Available: http://yann.lecun.com/exdb/mnist},\n",
      "      volume={2},\n",
      "      year={2010}\n",
      "    }\"\"\",\n",
      ")\n"
     ]
    }
   ],
   "source": [
    "data, info = tfds.load('mnist', with_info=True)\n",
    "print(info)"
   ]
  },
  {
   "cell_type": "markdown",
   "id": "cognitive-commons",
   "metadata": {},
   "source": [
    "```\n",
    "filename = ('/root/tensorflow_dataset/mnist/3.0.0/\n",
    "            'mnist-test.tfrecord-00000-of-00001')\n",
    "raw_dataset = tf.data.TFRecordDataset(filename)\n",
    "for raw_record in raw_dataset.take(1):\n",
    "    print(repr(raw_record))\n",
    "    \n",
    ">> <tf.Tensor: shape=(), dtype=string, numpy=b'\\n\\x85\\x03...'> \n",
    "# (long binary str)\n",
    "```"
   ]
  },
  {
   "cell_type": "code",
   "execution_count": 23,
   "id": "catholic-residence",
   "metadata": {},
   "outputs": [],
   "source": [
    "feature_description = {\n",
    "    'image': tf.io.FixedLenFeature([], dtype=tf.string),\n",
    "    'label': tf.io.FixedLenFeature([], dtype=tf.int64)}"
   ]
  },
  {
   "cell_type": "code",
   "execution_count": 24,
   "id": "nuclear-joining",
   "metadata": {},
   "outputs": [],
   "source": [
    "def parse_func(example_proto):\n",
    "    return tf.io.parse_single_example(example_proto, feature_description)"
   ]
  },
  {
   "cell_type": "markdown",
   "id": "reasonable-delta",
   "metadata": {},
   "source": [
    "```\n",
    "parsed_dataset = raw_dataset.map(parse_func)\n",
    "for record in parsed_dataset.take(1):\n",
    "    print((record))\n",
    "    \n",
    ">>  {'image': <tf.Tensor: shape=(), dtype=string, \n",
    "               numpy=b'\\x89PNG\\r\\n\\x1a\\n...'>,\n",
    "     'label': <tf.Tensor: shape=(), dtype=int64, numpy=2>}\n",
    "```"
   ]
  },
  {
   "cell_type": "markdown",
   "id": "hydraulic-asian",
   "metadata": {},
   "source": [
    "### ETL in TF"
   ]
  },
  {
   "cell_type": "code",
   "execution_count": 25,
   "id": "super-welcome",
   "metadata": {},
   "outputs": [],
   "source": [
    "CONV = (3, 3)\n",
    "POOL = (2, 2)\n",
    "mod = Sequential(\n",
    "    [Conv(16, CONV, activation='relu', input_shape=(300, 300, 3)),\n",
    "     Pool(POOL),\n",
    "     Conv(32, CONV, activation='relu'),\n",
    "     Pool(POOL),\n",
    "     Conv(64, CONV, activation='relu'),\n",
    "     Pool(POOL),\n",
    "     Conv(64, CONV, activation='relu'),\n",
    "     Pool(POOL),\n",
    "     Conv(64, CONV, activation='relu'),\n",
    "     Pool(POOL),\n",
    "     Flatten(),\n",
    "     Dense(512, activation='relu'),\n",
    "     Dense(1, activation='sigmoid')])\n",
    "mod.compile(\n",
    "    optimizer='Adam', loss='binary_crossentropy', metrics=['accuracy'])"
   ]
  },
  {
   "cell_type": "code",
   "execution_count": 26,
   "id": "living-commons",
   "metadata": {},
   "outputs": [],
   "source": [
    "data = tfds.load('horses_or_humans', split='train', as_supervised=True)\n",
    "val_data = tfds.load('horses_or_humans', split='test', as_supervised=True)"
   ]
  },
  {
   "cell_type": "code",
   "execution_count": 27,
   "id": "dying-operation",
   "metadata": {},
   "outputs": [],
   "source": [
    "def augment_images(img, label):\n",
    "    img = (tf.cast(img, tf.float32) / 255)\n",
    "    img = tf.image.random_flip_left_right(img)\n",
    "    img = tfa.image.rotate(img, 40, interpolation='NEAREST')\n",
    "    return img, label"
   ]
  },
  {
   "cell_type": "code",
   "execution_count": 28,
   "id": "happy-major",
   "metadata": {},
   "outputs": [],
   "source": [
    "BATCH = 32\n",
    "EPOCHS = 5\n",
    "\n",
    "train = data.map(augment_images)\n",
    "train_batches = train.shuffle(100).batch(BATCH)\n",
    "valid_batches = val_data.batch(BATCH)"
   ]
  },
  {
   "cell_type": "code",
   "execution_count": 29,
   "id": "expected-stewart",
   "metadata": {},
   "outputs": [
    {
     "name": "stdout",
     "output_type": "stream",
     "text": [
      "Epoch 1/5\n",
      "33/33 [==============================] - 32s 952ms/step - loss: 0.5869 - accuracy: 0.6551 - val_loss: 141.1512 - val_accuracy: 0.5625\n",
      "Epoch 2/5\n",
      "33/33 [==============================] - 31s 929ms/step - loss: 0.1269 - accuracy: 0.9460 - val_loss: 280.9872 - val_accuracy: 0.6250\n",
      "Epoch 3/5\n",
      "33/33 [==============================] - 31s 930ms/step - loss: 0.0936 - accuracy: 0.9657 - val_loss: 351.1207 - val_accuracy: 0.4688\n",
      "Epoch 4/5\n",
      "33/33 [==============================] - 31s 916ms/step - loss: 0.0651 - accuracy: 0.9768 - val_loss: 269.1770 - val_accuracy: 0.6562\n",
      "Epoch 5/5\n",
      "33/33 [==============================] - 31s 936ms/step - loss: 0.0331 - accuracy: 0.9851 - val_loss: 399.4900 - val_accuracy: 0.6250\n"
     ]
    }
   ],
   "source": [
    "hist = mod.fit(train_batches, \n",
    "               epochs=EPOCHS, \n",
    "               validation_data=valid_batches, \n",
    "               validation_steps=1)"
   ]
  },
  {
   "cell_type": "markdown",
   "id": "ready-technique",
   "metadata": {},
   "source": [
    "### Parallelizing ETL for Improved Training Performance"
   ]
  },
  {
   "cell_type": "code",
   "execution_count": 30,
   "id": "thermal-semester",
   "metadata": {},
   "outputs": [],
   "source": [
    "train_data = tfds.load('cats_vs_dogs', split='train', with_info=True)"
   ]
  },
  {
   "cell_type": "code",
   "execution_count": 31,
   "id": "interested-commerce",
   "metadata": {},
   "outputs": [],
   "source": [
    "HOME = os.environ['HOME']\n",
    "file_pattern = (f'{HOME}/tensorflow_datasets/cats_vs_dogs/4.0.0/'\n",
    "                'cats_vs_dogs-train.tfrecord*')\n",
    "files = tf.data.Dataset.list_files(file_pattern)"
   ]
  },
  {
   "cell_type": "code",
   "execution_count": 32,
   "id": "colonial-albuquerque",
   "metadata": {},
   "outputs": [],
   "source": [
    "train_dataset = files.interleave(\n",
    "    tf.data.TFRecordDataset, \n",
    "    cycle_length=4, \n",
    "    num_parallel_calls=tf.data.experimental.AUTOTUNE)"
   ]
  },
  {
   "cell_type": "code",
   "execution_count": 33,
   "id": "ultimate-reading",
   "metadata": {},
   "outputs": [],
   "source": [
    "def read_tfrecord(serialized_example):\n",
    "    feature_desc = {'image': tf.io.FixedLenFeature((), tf.string, ''),\n",
    "                    'label': tf.io.FixedLenFeature((), tf.int64, -1)}\n",
    "    example = tf.io.parse_single_example(serialized_example, feature_desc)\n",
    "    img = tf.io.decode_jpeg(example['image'], channels=3)\n",
    "    img = tf.cast(img, tf.float32)\n",
    "    img = img / 255\n",
    "    img = tf.image.resize(img, (300, 300))\n",
    "    return img, example['label']"
   ]
  },
  {
   "cell_type": "code",
   "execution_count": 34,
   "id": "allied-rebecca",
   "metadata": {},
   "outputs": [
    {
     "name": "stdout",
     "output_type": "stream",
     "text": [
      "12\n"
     ]
    }
   ],
   "source": [
    "cores = multiprocessing.cpu_count()\n",
    "print(cores)"
   ]
  },
  {
   "cell_type": "code",
   "execution_count": 35,
   "id": "associate-buying",
   "metadata": {},
   "outputs": [],
   "source": [
    "tain_dataset = train_dataset.map(read_tfrecord, num_parallel_calls=cores)\n",
    "train_dataset = train_dataset.cache()"
   ]
  },
  {
   "cell_type": "code",
   "execution_count": 37,
   "id": "jewish-september",
   "metadata": {},
   "outputs": [],
   "source": [
    "BUFFER = 1024\n",
    "EPOCHS = 10\n",
    "\n",
    "train_dataset = train_dataset.shuffle(BUFFER).batch(BATCH)\n",
    "train_dataset = train_dataset.prefetch(tf.data.experimental.AUTOTUNE)"
   ]
  },
  {
   "cell_type": "code",
   "execution_count": 39,
   "id": "certain-creek",
   "metadata": {},
   "outputs": [],
   "source": [
    "mod.fit(train_dataset, epochs=EPOCHS, verbose=1)"
   ]
  },
  {
   "cell_type": "code",
   "execution_count": null,
   "id": "another-hammer",
   "metadata": {},
   "outputs": [],
   "source": []
  }
 ],
 "metadata": {
  "kernelspec": {
   "display_name": "Python 3",
   "language": "python",
   "name": "python3"
  },
  "language_info": {
   "codemirror_mode": {
    "name": "ipython",
    "version": 3
   },
   "file_extension": ".py",
   "mimetype": "text/x-python",
   "name": "python",
   "nbconvert_exporter": "python",
   "pygments_lexer": "ipython3",
   "version": "3.8.8"
  }
 },
 "nbformat": 4,
 "nbformat_minor": 5
}
