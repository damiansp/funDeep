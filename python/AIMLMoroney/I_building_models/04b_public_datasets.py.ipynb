{
 "cells": [
  {
   "cell_type": "code",
   "execution_count": 1,
   "id": "scientific-training",
   "metadata": {},
   "outputs": [],
   "source": [
    "import tensorflow as tf\n",
    "import tensorflow_addons as tfa\n",
    "import tensorflow_datasets as tfds\n",
    "from   tensorflow.keras.datasets import fashion_mnist as fmnist\n",
    "from   tensorflow.keras.layers import (\n",
    "    Conv2D as Conv, MaxPooling2D as Pool, Dense, Dropout, Flatten)\n",
    "from   tensorflow.keras.models import Sequential\n",
    "from   tensorflow.nn import relu, softmax"
   ]
  },
  {
   "cell_type": "code",
   "execution_count": 2,
   "id": "organizational-phenomenon",
   "metadata": {},
   "outputs": [
    {
     "name": "stdout",
     "output_type": "stream",
     "text": [
      "train\n",
      "test\n"
     ]
    }
   ],
   "source": [
    "mnist_data = tfds.load('fashion_mnist')\n",
    "for item in mnist_data:\n",
    "    print(item)"
   ]
  },
  {
   "cell_type": "code",
   "execution_count": 3,
   "id": "agreed-passenger",
   "metadata": {},
   "outputs": [],
   "source": [
    "mnist_train = tfds.load(name='fashion_mnist', split='train')"
   ]
  },
  {
   "cell_type": "code",
   "execution_count": 4,
   "id": "smaller-apple",
   "metadata": {},
   "outputs": [
    {
     "data": {
      "text/plain": [
       "True"
      ]
     },
     "execution_count": 4,
     "metadata": {},
     "output_type": "execute_result"
    }
   ],
   "source": [
    "isinstance(mnist_train, tf.data.Dataset)"
   ]
  },
  {
   "cell_type": "code",
   "execution_count": 5,
   "id": "assigned-cross",
   "metadata": {},
   "outputs": [
    {
     "data": {
      "text/plain": [
       "False"
      ]
     },
     "execution_count": 5,
     "metadata": {},
     "output_type": "execute_result"
    }
   ],
   "source": [
    "isinstance(mnist_data, tf.data.Dataset)"
   ]
  },
  {
   "cell_type": "code",
   "execution_count": 6,
   "id": "necessary-charles",
   "metadata": {},
   "outputs": [
    {
     "name": "stdout",
     "output_type": "stream",
     "text": [
      "<class 'dict'>\n",
      "dict_keys(['image', 'label'])\n"
     ]
    }
   ],
   "source": [
    "for item in mnist_train.take(1):\n",
    "    print(type(item))\n",
    "    print(item.keys())"
   ]
  },
  {
   "cell_type": "code",
   "execution_count": 7,
   "id": "designed-principle",
   "metadata": {},
   "outputs": [
    {
     "name": "stdout",
     "output_type": "stream",
     "text": [
      "(28, 28, 1)\n",
      "tf.Tensor(2, shape=(), dtype=int64)\n"
     ]
    }
   ],
   "source": [
    "for item in mnist_train.take(1):\n",
    "    print(item['image'].shape)\n",
    "    print(item['label'])"
   ]
  },
  {
   "cell_type": "code",
   "execution_count": 8,
   "id": "convenient-alexander",
   "metadata": {},
   "outputs": [
    {
     "name": "stdout",
     "output_type": "stream",
     "text": [
      "tfds.core.DatasetInfo(\n",
      "    name='fashion_mnist',\n",
      "    full_name='fashion_mnist/3.0.1',\n",
      "    description=\"\"\"\n",
      "    Fashion-MNIST is a dataset of Zalando's article images consisting of a training set of 60,000 examples and a test set of 10,000 examples. Each example is a 28x28 grayscale image, associated with a label from 10 classes.\n",
      "    \"\"\",\n",
      "    homepage='https://github.com/zalandoresearch/fashion-mnist',\n",
      "    data_path='/Users/dsatterthwaite/tensorflow_datasets/fashion_mnist/3.0.1',\n",
      "    download_size=29.45 MiB,\n",
      "    dataset_size=36.42 MiB,\n",
      "    features=FeaturesDict({\n",
      "        'image': Image(shape=(28, 28, 1), dtype=tf.uint8),\n",
      "        'label': ClassLabel(shape=(), dtype=tf.int64, num_classes=10),\n",
      "    }),\n",
      "    supervised_keys=('image', 'label'),\n",
      "    splits={\n",
      "        'test': <SplitInfo num_examples=10000, num_shards=1>,\n",
      "        'train': <SplitInfo num_examples=60000, num_shards=1>,\n",
      "    },\n",
      "    citation=\"\"\"@article{DBLP:journals/corr/abs-1708-07747,\n",
      "      author    = {Han Xiao and\n",
      "                   Kashif Rasul and\n",
      "                   Roland Vollgraf},\n",
      "      title     = {Fashion-MNIST: a Novel Image Dataset for Benchmarking Machine Learning\n",
      "                   Algorithms},\n",
      "      journal   = {CoRR},\n",
      "      volume    = {abs/1708.07747},\n",
      "      year      = {2017},\n",
      "      url       = {http://arxiv.org/abs/1708.07747},\n",
      "      archivePrefix = {arXiv},\n",
      "      eprint    = {1708.07747},\n",
      "      timestamp = {Mon, 13 Aug 2018 16:47:27 +0200},\n",
      "      biburl    = {https://dblp.org/rec/bib/journals/corr/abs-1708-07747},\n",
      "      bibsource = {dblp computer science bibliography, https://dblp.org}\n",
      "    }\"\"\",\n",
      ")\n"
     ]
    }
   ],
   "source": [
    "mnist_test, info = tfds.load(name='fashion_mnist', with_info=True)\n",
    "print(info)"
   ]
  },
  {
   "cell_type": "code",
   "execution_count": 9,
   "id": "minor-police",
   "metadata": {},
   "outputs": [],
   "source": [
    "(X_train, y_train), (X_test, y_test) = fmnist.load_data()"
   ]
  },
  {
   "cell_type": "code",
   "execution_count": 10,
   "id": "essential-spring",
   "metadata": {},
   "outputs": [],
   "source": [
    "(X_train, y_train), (X_test, y_test) = tfds.as_numpy(\n",
    "    tfds.load('fashion_mnist', \n",
    "              split=['train', 'test'], \n",
    "              batch_size=-1, \n",
    "              as_supervised=True))"
   ]
  },
  {
   "cell_type": "code",
   "execution_count": 11,
   "id": "strong-birth",
   "metadata": {},
   "outputs": [],
   "source": [
    "X_train = X_train / 255.\n",
    "X_test = X_test / 255."
   ]
  },
  {
   "cell_type": "code",
   "execution_count": 12,
   "id": "enhanced-syria",
   "metadata": {},
   "outputs": [],
   "source": [
    "mod = Sequential([Flatten(input_shape=(28, 28, 1)),\n",
    "                  Dense(128, activation=relu),\n",
    "                  Dropout(0.2),\n",
    "                  Dense(10, activation=softmax)])"
   ]
  },
  {
   "cell_type": "code",
   "execution_count": 13,
   "id": "figured-finish",
   "metadata": {},
   "outputs": [],
   "source": [
    "mod.compile(optimizer='adam', \n",
    "            loss='sparse_categorical_crossentropy',\n",
    "            metrics=['accuracy'])"
   ]
  },
  {
   "cell_type": "code",
   "execution_count": 14,
   "id": "actual-tourism",
   "metadata": {},
   "outputs": [
    {
     "name": "stdout",
     "output_type": "stream",
     "text": [
      "Epoch 1/5\n",
      "1875/1875 [==============================] - 2s 589us/step - loss: 0.6998 - accuracy: 0.7561\n",
      "Epoch 2/5\n",
      "1875/1875 [==============================] - 1s 602us/step - loss: 0.4058 - accuracy: 0.8551\n",
      "Epoch 3/5\n",
      "1875/1875 [==============================] - 1s 588us/step - loss: 0.3746 - accuracy: 0.8641\n",
      "Epoch 4/5\n",
      "1875/1875 [==============================] - 1s 603us/step - loss: 0.3489 - accuracy: 0.8724\n",
      "Epoch 5/5\n",
      "1875/1875 [==============================] - 1s 600us/step - loss: 0.3367 - accuracy: 0.8761\n"
     ]
    },
    {
     "data": {
      "text/plain": [
       "<tensorflow.python.keras.callbacks.History at 0x7fc83bf06400>"
      ]
     },
     "execution_count": 14,
     "metadata": {},
     "output_type": "execute_result"
    }
   ],
   "source": [
    "mod.fit(X_train, y_train, epochs=5)"
   ]
  },
  {
   "cell_type": "code",
   "execution_count": 15,
   "id": "fossil-thirty",
   "metadata": {},
   "outputs": [],
   "source": [
    "data = tfds.load('horses_or_humans', split='train', as_supervised=True)\n",
    "train_batches = data.shuffle(100).batch(100)"
   ]
  },
  {
   "cell_type": "code",
   "execution_count": 16,
   "id": "generic-things",
   "metadata": {},
   "outputs": [],
   "source": [
    "CKERN = (3, 3)\n",
    "PKERN = (2, 2)\n",
    "mod = Sequential([\n",
    "    Conv(16, CKERN, activation='relu', input_shape=(300, 300, 3)),\n",
    "    Pool(PKERN), \n",
    "    Conv(32, CKERN, activation='relu'),\n",
    "    Pool(PKERN),\n",
    "    Conv(64, CKERN, activation='relu'),\n",
    "    Pool(PKERN),\n",
    "    Conv(64, CKERN, activation='relu'),\n",
    "    Pool(PKERN),\n",
    "    Conv(64, CKERN, activation='relu'),\n",
    "    Pool(PKERN),\n",
    "    Flatten(),\n",
    "    Dense(512, activation='relu'),\n",
    "    Dense(1, activation='sigmoid')])"
   ]
  },
  {
   "cell_type": "code",
   "execution_count": 17,
   "id": "suffering-resolution",
   "metadata": {},
   "outputs": [],
   "source": [
    "mod.compile(\n",
    "    optimizer='Adam', loss='binary_crossentropy', metrics=['accuracy'])"
   ]
  },
  {
   "cell_type": "code",
   "execution_count": 18,
   "id": "chronic-financing",
   "metadata": {},
   "outputs": [
    {
     "name": "stdout",
     "output_type": "stream",
     "text": [
      "Epoch 1/5\n",
      "11/11 [==============================] - 26s 2s/step - loss: 31.4099 - accuracy: 0.5154\n",
      "Epoch 2/5\n",
      "11/11 [==============================] - 23s 2s/step - loss: 0.5384 - accuracy: 0.6911\n",
      "Epoch 3/5\n",
      "11/11 [==============================] - 24s 2s/step - loss: 0.1805 - accuracy: 0.9273\n",
      "Epoch 4/5\n",
      "11/11 [==============================] - 23s 2s/step - loss: 0.0708 - accuracy: 0.9754\n",
      "Epoch 5/5\n",
      "11/11 [==============================] - 23s 2s/step - loss: 0.0367 - accuracy: 0.9878\n"
     ]
    }
   ],
   "source": [
    "hist = mod.fit(train_batches, epochs=5)"
   ]
  },
  {
   "cell_type": "markdown",
   "id": "arbitrary-logic",
   "metadata": {},
   "source": [
    "### Adding image augmentation"
   ]
  },
  {
   "cell_type": "code",
   "execution_count": 19,
   "id": "broke-corps",
   "metadata": {},
   "outputs": [],
   "source": [
    "def augment(img, label):\n",
    "    img = tf.cast(img, tf.float32)\n",
    "    img = img / 255\n",
    "    img = tf.image.random_flip_left_right(img)\n",
    "    return img, label"
   ]
  },
  {
   "cell_type": "code",
   "execution_count": 20,
   "id": "fourth-portsmouth",
   "metadata": {},
   "outputs": [],
   "source": [
    "train = data.map(augment)\n",
    "train_batches = train.shuffle(100).batch(100)"
   ]
  },
  {
   "cell_type": "markdown",
   "id": "statutory-ethnic",
   "metadata": {},
   "source": [
    "### Addons"
   ]
  },
  {
   "cell_type": "code",
   "execution_count": 21,
   "id": "theoretical-craps",
   "metadata": {},
   "outputs": [],
   "source": [
    "def augment(img, label):\n",
    "    img = tf.cast(img, tf.float32)\n",
    "    img = img / 255\n",
    "    img = tf.image.random_flip_left_right(img)\n",
    "    img = tfa.image.rotate(img, 40, interpolation='NEAREST')\n",
    "    return img, label"
   ]
  },
  {
   "cell_type": "markdown",
   "id": "ecological-ceremony",
   "metadata": {},
   "source": [
    "## Data Splitting"
   ]
  },
  {
   "cell_type": "markdown",
   "id": "executive-collector",
   "metadata": {},
   "source": [
    "```\n",
    "data = tfds.load(\n",
    "    'cats_vs_dogs', split='train[:10000]', as_supervised=True)\n",
    "data = tfds.load(\n",
    "    'cats_vs_dogs', split='train[:20%]', as_supervised=True)\n",
    "data = tfds.load('cats_vs_dogs',     \n",
    "                 split='train[-1000:]+train[:1000]',\n",
    "                 as_supervised=True)\n",
    "\n",
    "train = tfds.load(\n",
    "    'cats_vs_dogs', split='train[:80%], as_supervised=True)\n",
    "valid = tfds.load(\n",
    "    'cats_vs_dogs', split='train[80%:90%], as_supervised=True)\n",
    "test = tfds.load(\n",
    "    'cats_vs_dogs', split='train[-10%:], as_supervised=True)\n",
    "    \n",
    "train_len = [i for i, _ in enumerate(train)][-1] + 1\n",
    "```"
   ]
  },
  {
   "cell_type": "markdown",
   "id": "collect-boulder",
   "metadata": {},
   "source": [
    "## TFRecord"
   ]
  },
  {
   "cell_type": "code",
   "execution_count": 22,
   "id": "driving-receptor",
   "metadata": {},
   "outputs": [
    {
     "name": "stdout",
     "output_type": "stream",
     "text": [
      "tfds.core.DatasetInfo(\n",
      "    name='mnist',\n",
      "    full_name='mnist/3.0.1',\n",
      "    description=\"\"\"\n",
      "    The MNIST database of handwritten digits.\n",
      "    \"\"\",\n",
      "    homepage='http://yann.lecun.com/exdb/mnist/',\n",
      "    data_path='/Users/dsatterthwaite/tensorflow_datasets/mnist/3.0.1',\n",
      "    download_size=11.06 MiB,\n",
      "    dataset_size=21.00 MiB,\n",
      "    features=FeaturesDict({\n",
      "        'image': Image(shape=(28, 28, 1), dtype=tf.uint8),\n",
      "        'label': ClassLabel(shape=(), dtype=tf.int64, num_classes=10),\n",
      "    }),\n",
      "    supervised_keys=('image', 'label'),\n",
      "    splits={\n",
      "        'test': <SplitInfo num_examples=10000, num_shards=1>,\n",
      "        'train': <SplitInfo num_examples=60000, num_shards=1>,\n",
      "    },\n",
      "    citation=\"\"\"@article{lecun2010mnist,\n",
      "      title={MNIST handwritten digit database},\n",
      "      author={LeCun, Yann and Cortes, Corinna and Burges, CJ},\n",
      "      journal={ATT Labs [Online]. Available: http://yann.lecun.com/exdb/mnist},\n",
      "      volume={2},\n",
      "      year={2010}\n",
      "    }\"\"\",\n",
      ")\n"
     ]
    }
   ],
   "source": [
    "data, info = tfds.load('mnist', with_info=True)\n",
    "print(info)"
   ]
  },
  {
   "cell_type": "markdown",
   "id": "cognitive-commons",
   "metadata": {},
   "source": [
    "```\n",
    "filename = ('/root/tensorflow_dataset/mnist/3.0.0/\n",
    "            'mnist-test.tfrecord-00000-of-00001')\n",
    "raw_dataset = tf.data.TFRecordDataset(filename)\n",
    "for raw_record in raw_dataset.take(1):\n",
    "    print(repr(raw_record))\n",
    "    \n",
    ">> <tf.Tensor: shape=(), dtype=string, numpy=b'\\n\\x85\\x03...'> \n",
    "# (long binary str)\n",
    "```"
   ]
  },
  {
   "cell_type": "code",
   "execution_count": 23,
   "id": "catholic-residence",
   "metadata": {},
   "outputs": [],
   "source": [
    "feature_description = {\n",
    "    'image': tf.io.FixedLenFeature([], dtype=tf.string),\n",
    "    'label': tf.io.FixedLenFeature([], dtype=tf.int64)}"
   ]
  },
  {
   "cell_type": "code",
   "execution_count": 24,
   "id": "nuclear-joining",
   "metadata": {},
   "outputs": [],
   "source": [
    "def parse_func(example_proto):\n",
    "    return tf.io.parse_single_example(example_proto, feature_description)"
   ]
  },
  {
   "cell_type": "markdown",
   "id": "reasonable-delta",
   "metadata": {},
   "source": [
    "```\n",
    "parsed_dataset = raw_dataset.map(parse_func)\n",
    "for record in parsed_dataset.take(1):\n",
    "    print((record))\n",
    "    \n",
    ">>  {'image': <tf.Tensor: shape=(), dtype=string, \n",
    "               numpy=b'\\x89PNG\\r\\n\\x1a\\n...'>,\n",
    "     'label': <tf.Tensor: shape=(), dtype=int64, numpy=2>}\n",
    "```"
   ]
  },
  {
   "cell_type": "markdown",
   "id": "hydraulic-asian",
   "metadata": {},
   "source": [
    "### ETL in TF"
   ]
  },
  {
   "cell_type": "code",
   "execution_count": 26,
   "id": "super-welcome",
   "metadata": {},
   "outputs": [],
   "source": [
    "CONV = (3, 3)\n",
    "POOL = (2, 2)\n",
    "mod = Sequential(\n",
    "    [Conv(16, CONV, activation='relu', input_shape=(300, 300, 3)),\n",
    "     Pool(POOL),\n",
    "     Conv(32, CONV, activation='relu'),\n",
    "     Pool(POOL),\n",
    "     Conv(64, CONV, activation='relu'),\n",
    "     Pool(POOL),\n",
    "     Conv(64, CONV, activation='relu'),\n",
    "     Pool(POOL),\n",
    "     Conv(64, CONV, activation='relu'),\n",
    "     Pool(POOL),\n",
    "     Flatten(),\n",
    "     Dense(512, activation='relu'),\n",
    "     Dense(1, activation='sigmoid')])\n",
    "mod.compile(\n",
    "    optimizer='Adam', loss='binary_crossentropy', metrics=['accuracy'])"
   ]
  },
  {
   "cell_type": "code",
   "execution_count": 28,
   "id": "living-commons",
   "metadata": {},
   "outputs": [],
   "source": [
    "data = tfds.load('horses_or_humans', split='train', as_supervised=True)\n",
    "val_data = tfds.load('horses_or_humans', split='test', as_supervised=True)"
   ]
  },
  {
   "cell_type": "code",
   "execution_count": 31,
   "id": "dying-operation",
   "metadata": {},
   "outputs": [],
   "source": [
    "def augment_images(img, label):\n",
    "    img = (tf.cast(img, tf.float32) / 255)\n",
    "    img = tf.image.random_flip_left_right(img)\n",
    "    img = tfa.image.rotate(img, 40, interpolation='NEAREST')\n",
    "    return img, label"
   ]
  },
  {
   "cell_type": "code",
   "execution_count": 32,
   "id": "happy-major",
   "metadata": {},
   "outputs": [],
   "source": [
    "BATCH = 32\n",
    "EPOCHS = 5\n",
    "\n",
    "train = data.map(augment_images)\n",
    "train_batches = train.shuffle(100).batch(BATCH)\n",
    "valid_batches = val_data.batch(BATCH)"
   ]
  },
  {
   "cell_type": "code",
   "execution_count": 33,
   "id": "expected-stewart",
   "metadata": {},
   "outputs": [
    {
     "name": "stdout",
     "output_type": "stream",
     "text": [
      "Epoch 1/5\n",
      "33/33 [==============================] - 33s 966ms/step - loss: 0.7285 - accuracy: 0.5796 - val_loss: 60.5105 - val_accuracy: 0.4688\n",
      "Epoch 2/5\n",
      "33/33 [==============================] - 31s 932ms/step - loss: 0.3586 - accuracy: 0.8694 - val_loss: 395.4640 - val_accuracy: 0.5000\n",
      "Epoch 3/5\n",
      "33/33 [==============================] - 31s 916ms/step - loss: 0.1615 - accuracy: 0.9346 - val_loss: 182.8270 - val_accuracy: 0.5000\n",
      "Epoch 4/5\n",
      "33/33 [==============================] - 30s 910ms/step - loss: 0.0973 - accuracy: 0.9642 - val_loss: 243.6972 - val_accuracy: 0.4688\n",
      "Epoch 5/5\n",
      "33/33 [==============================] - 30s 909ms/step - loss: 0.0510 - accuracy: 0.9824 - val_loss: 252.3439 - val_accuracy: 0.5000\n"
     ]
    }
   ],
   "source": [
    "hist = mod.fit(train_batches, \n",
    "               epochs=EPOCHS, \n",
    "               validation_data=valid_batches, \n",
    "               validation_steps=1)"
   ]
  },
  {
   "cell_type": "code",
   "execution_count": null,
   "id": "sunrise-synthesis",
   "metadata": {},
   "outputs": [],
   "source": []
  }
 ],
 "metadata": {
  "kernelspec": {
   "display_name": "Python 3",
   "language": "python",
   "name": "python3"
  },
  "language_info": {
   "codemirror_mode": {
    "name": "ipython",
    "version": 3
   },
   "file_extension": ".py",
   "mimetype": "text/x-python",
   "name": "python",
   "nbconvert_exporter": "python",
   "pygments_lexer": "ipython3",
   "version": "3.8.8"
  }
 },
 "nbformat": 4,
 "nbformat_minor": 5
}
