{
 "cells": [
  {
   "cell_type": "code",
   "execution_count": 9,
   "metadata": {},
   "outputs": [],
   "source": [
    "import tensorflow as tf\n",
    "from   tensorflow.keras import Sequential\n",
    "from   tensorflow.keras.callbacks import Callback\n",
    "from   tensorflow.keras.layers import Dense, Flatten\n",
    "from   tensorflow.nn import relu, softmax"
   ]
  },
  {
   "cell_type": "code",
   "execution_count": 2,
   "metadata": {},
   "outputs": [],
   "source": [
    "data = tf.keras.datasets.fashion_mnist\n",
    "(X_train, y_train), (X_test, y_test) = data.load_data()"
   ]
  },
  {
   "cell_type": "code",
   "execution_count": 3,
   "metadata": {},
   "outputs": [],
   "source": [
    "X_train = X_train / 255.\n",
    "X_test = X_test / 255."
   ]
  },
  {
   "cell_type": "code",
   "execution_count": 4,
   "metadata": {},
   "outputs": [],
   "source": [
    "model = Sequential([Flatten(input_shape=(28, 28)),\n",
    "                    Dense(128, activation=relu),\n",
    "                    Dense(10, activation=softmax)])"
   ]
  },
  {
   "cell_type": "code",
   "execution_count": 5,
   "metadata": {},
   "outputs": [],
   "source": [
    "model.compile(optimizer='adam', \n",
    "              loss='sparse_categorical_crossentropy', \n",
    "              metrics=['accuracy'])"
   ]
  },
  {
   "cell_type": "code",
   "execution_count": 6,
   "metadata": {},
   "outputs": [
    {
     "name": "stdout",
     "output_type": "stream",
     "text": [
      "Epoch 1/5\n",
      "1875/1875 [==============================] - 1s 696us/step - loss: 0.5004 - accuracy: 0.8237\n",
      "Epoch 2/5\n",
      "1875/1875 [==============================] - 1s 684us/step - loss: 0.3746 - accuracy: 0.8633\n",
      "Epoch 3/5\n",
      "1875/1875 [==============================] - 1s 698us/step - loss: 0.3357 - accuracy: 0.8779\n",
      "Epoch 4/5\n",
      "1875/1875 [==============================] - 1s 677us/step - loss: 0.3138 - accuracy: 0.8842\n",
      "Epoch 5/5\n",
      "1875/1875 [==============================] - 1s 694us/step - loss: 0.2957 - accuracy: 0.8916\n"
     ]
    },
    {
     "data": {
      "text/plain": [
       "<tensorflow.python.keras.callbacks.History at 0x7ffa39f747c0>"
      ]
     },
     "execution_count": 6,
     "metadata": {},
     "output_type": "execute_result"
    }
   ],
   "source": [
    "model.fit(X_train, y_train, epochs=5)"
   ]
  },
  {
   "cell_type": "code",
   "execution_count": 7,
   "metadata": {},
   "outputs": [
    {
     "name": "stdout",
     "output_type": "stream",
     "text": [
      "313/313 [==============================] - 0s 540us/step - loss: 0.3869 - accuracy: 0.8640\n"
     ]
    },
    {
     "data": {
      "text/plain": [
       "[0.38692644238471985, 0.8640000224113464]"
      ]
     },
     "execution_count": 7,
     "metadata": {},
     "output_type": "execute_result"
    }
   ],
   "source": [
    "model.evaluate(X_test, y_test)"
   ]
  },
  {
   "cell_type": "code",
   "execution_count": 8,
   "metadata": {},
   "outputs": [
    {
     "name": "stdout",
     "output_type": "stream",
     "text": [
      "[2.2505051e-03 2.5152151e-05 1.0429374e-04 9.4396739e-07 6.0094877e-05\n",
      " 1.7382354e-01 8.1703276e-04 2.0687740e-01 1.1635972e-03 6.1487734e-01] 9\n"
     ]
    }
   ],
   "source": [
    "classifications = model.predict(X_test)\n",
    "print(classifications[0], y_test[0])"
   ]
  },
  {
   "cell_type": "code",
   "execution_count": 10,
   "metadata": {},
   "outputs": [],
   "source": [
    "class myCallback(Callback):\n",
    "    def on_epoch_end(self, epoch, logs={}):\n",
    "        if logs.get('accuracy') > 0.95:\n",
    "            print('\\nStopping at 95% accuracy')\n",
    "            self.model.stop_training = True"
   ]
  },
  {
   "cell_type": "code",
   "execution_count": 11,
   "metadata": {},
   "outputs": [],
   "source": [
    "callbacks = myCallback()"
   ]
  },
  {
   "cell_type": "code",
   "execution_count": 12,
   "metadata": {},
   "outputs": [],
   "source": [
    "mod = Sequential([Flatten(input_shape=(28, 28)),\n",
    "                  Dense(128, activation=relu),\n",
    "                  Dense(10, activation=softmax)])\n",
    "mod.compile(optimizer='adam', \n",
    "            loss='sparse_categorical_crossentropy', \n",
    "            metrics=['accuracy'])"
   ]
  },
  {
   "cell_type": "code",
   "execution_count": 13,
   "metadata": {},
   "outputs": [
    {
     "name": "stdout",
     "output_type": "stream",
     "text": [
      "Epoch 1/50\n",
      "1875/1875 [==============================] - 1s 721us/step - loss: 0.4951 - accuracy: 0.8259\n",
      "Epoch 2/50\n",
      "1875/1875 [==============================] - 1s 693us/step - loss: 0.3755 - accuracy: 0.8640\n",
      "Epoch 3/50\n",
      "1875/1875 [==============================] - 1s 696us/step - loss: 0.3361 - accuracy: 0.8765\n",
      "Epoch 4/50\n",
      "1875/1875 [==============================] - 1s 687us/step - loss: 0.3125 - accuracy: 0.8857\n",
      "Epoch 5/50\n",
      "1875/1875 [==============================] - 1s 718us/step - loss: 0.2942 - accuracy: 0.8902\n",
      "Epoch 6/50\n",
      "1875/1875 [==============================] - 1s 744us/step - loss: 0.2810 - accuracy: 0.8954\n",
      "Epoch 7/50\n",
      "1875/1875 [==============================] - 1s 694us/step - loss: 0.2667 - accuracy: 0.9007\n",
      "Epoch 8/50\n",
      "1875/1875 [==============================] - 1s 689us/step - loss: 0.2559 - accuracy: 0.9045\n",
      "Epoch 9/50\n",
      "1875/1875 [==============================] - 1s 710us/step - loss: 0.2468 - accuracy: 0.9076\n",
      "Epoch 10/50\n",
      "1875/1875 [==============================] - 1s 729us/step - loss: 0.2363 - accuracy: 0.9102\n",
      "Epoch 11/50\n",
      "1875/1875 [==============================] - 1s 694us/step - loss: 0.2279 - accuracy: 0.9138\n",
      "Epoch 12/50\n",
      "1875/1875 [==============================] - 1s 705us/step - loss: 0.2220 - accuracy: 0.9162\n",
      "Epoch 13/50\n",
      "1875/1875 [==============================] - 1s 727us/step - loss: 0.2121 - accuracy: 0.9208\n",
      "Epoch 14/50\n",
      "1875/1875 [==============================] - 1s 705us/step - loss: 0.2080 - accuracy: 0.9204\n",
      "Epoch 15/50\n",
      "1875/1875 [==============================] - 1s 724us/step - loss: 0.2018 - accuracy: 0.9240\n",
      "Epoch 16/50\n",
      "1875/1875 [==============================] - 1s 712us/step - loss: 0.1922 - accuracy: 0.9283\n",
      "Epoch 17/50\n",
      "1875/1875 [==============================] - 1s 726us/step - loss: 0.1913 - accuracy: 0.9284\n",
      "Epoch 18/50\n",
      "1875/1875 [==============================] - 1s 710us/step - loss: 0.1860 - accuracy: 0.9292\n",
      "Epoch 19/50\n",
      "1875/1875 [==============================] - 1s 728us/step - loss: 0.1815 - accuracy: 0.9313\n",
      "Epoch 20/50\n",
      "1875/1875 [==============================] - 1s 717us/step - loss: 0.1751 - accuracy: 0.9341\n",
      "Epoch 21/50\n",
      "1875/1875 [==============================] - 1s 733us/step - loss: 0.1696 - accuracy: 0.9366\n",
      "Epoch 22/50\n",
      "1875/1875 [==============================] - 1s 779us/step - loss: 0.1674 - accuracy: 0.9368\n",
      "Epoch 23/50\n",
      "1875/1875 [==============================] - 1s 736us/step - loss: 0.1629 - accuracy: 0.9379\n",
      "Epoch 24/50\n",
      "1875/1875 [==============================] - 1s 728us/step - loss: 0.1595 - accuracy: 0.9393\n",
      "Epoch 25/50\n",
      "1875/1875 [==============================] - 1s 737us/step - loss: 0.1566 - accuracy: 0.9415\n",
      "Epoch 26/50\n",
      "1875/1875 [==============================] - 1s 723us/step - loss: 0.1522 - accuracy: 0.9430\n",
      "Epoch 27/50\n",
      "1875/1875 [==============================] - 1s 736us/step - loss: 0.1477 - accuracy: 0.9439\n",
      "Epoch 28/50\n",
      "1875/1875 [==============================] - 1s 726us/step - loss: 0.1438 - accuracy: 0.9454\n",
      "Epoch 29/50\n",
      "1875/1875 [==============================] - 1s 740us/step - loss: 0.1432 - accuracy: 0.9460\n",
      "Epoch 30/50\n",
      "1875/1875 [==============================] - 1s 719us/step - loss: 0.1375 - accuracy: 0.9477\n",
      "Epoch 31/50\n",
      "1875/1875 [==============================] - 1s 724us/step - loss: 0.1367 - accuracy: 0.9481\n",
      "Epoch 32/50\n",
      "1854/1875 [============================>.] - ETA: 0s - loss: 0.1320 - accuracy: 0.9505\n",
      "Stopping at 95% accuracy\n",
      "1875/1875 [==============================] - 1s 734us/step - loss: 0.1319 - accuracy: 0.9504\n"
     ]
    },
    {
     "data": {
      "text/plain": [
       "<tensorflow.python.keras.callbacks.History at 0x7ffa3a2ad9a0>"
      ]
     },
     "execution_count": 13,
     "metadata": {},
     "output_type": "execute_result"
    }
   ],
   "source": [
    "mod.fit(X_train, y_train, epochs=50, callbacks=callbacks)"
   ]
  },
  {
   "cell_type": "code",
   "execution_count": 14,
   "metadata": {},
   "outputs": [
    {
     "name": "stdout",
     "output_type": "stream",
     "text": [
      "313/313 [==============================] - 0s 555us/step - loss: 0.3869 - accuracy: 0.8640\n"
     ]
    },
    {
     "data": {
      "text/plain": [
       "[0.38692644238471985, 0.8640000224113464]"
      ]
     },
     "execution_count": 14,
     "metadata": {},
     "output_type": "execute_result"
    }
   ],
   "source": [
    "model.evaluate(X_test, y_test)"
   ]
  },
  {
   "cell_type": "code",
   "execution_count": null,
   "metadata": {},
   "outputs": [],
   "source": []
  }
 ],
 "metadata": {
  "kernelspec": {
   "display_name": "Python 3",
   "language": "python",
   "name": "python3"
  },
  "language_info": {
   "codemirror_mode": {
    "name": "ipython",
    "version": 3
   },
   "file_extension": ".py",
   "mimetype": "text/x-python",
   "name": "python",
   "nbconvert_exporter": "python",
   "pygments_lexer": "ipython3",
   "version": "3.8.5"
  }
 },
 "nbformat": 4,
 "nbformat_minor": 4
}
