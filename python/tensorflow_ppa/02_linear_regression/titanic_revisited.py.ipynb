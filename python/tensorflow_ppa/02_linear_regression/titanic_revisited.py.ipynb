{
 "cells": [
  {
   "cell_type": "code",
   "execution_count": 4,
   "metadata": {},
   "outputs": [],
   "source": [
    "import os\n",
    "import random\n",
    "import shutil\n",
    "\n",
    "#from feature import * # for 'features' defined here if in other file?\n",
    "import matplotlib.pyplot as plt\n",
    "import numpy as np\n",
    "import pandas as pd\n",
    "import seaborn as sns\n",
    "from sklearn.metrics import classification_report, confusion_matrix\n",
    "from sklearn.model_selection import train_test_split\n",
    "import tensorflow as tf\n",
    "from tensorflow.contrib import learn\n",
    "from tensorflow.contrib.learn.python.learn.estimators import (estimator, \n",
    "                                                              svm)\n",
    "from tensorflow.contrib.tensor_forest.client import random_forest\n",
    "from tensorflow.contrib.tensor_forest.python import tensor_forest"
   ]
  },
  {
   "cell_type": "code",
   "execution_count": 5,
   "metadata": {},
   "outputs": [
    {
     "name": "stdout",
     "output_type": "stream",
     "text": [
      "gender_submission.csv test.csv              train.csv\r\n"
     ]
    }
   ],
   "source": [
    "HOME = os.environ['HOME']\n",
    "DATA_DIR = f'{HOME}/Learning/neuralNet/data/kaggle/titanic'\n",
    "!ls $DATA_DIR"
   ]
  },
  {
   "cell_type": "code",
   "execution_count": 6,
   "metadata": {},
   "outputs": [
    {
     "name": "stdout",
     "output_type": "stream",
     "text": [
      "<class 'pandas.core.frame.DataFrame'>\n",
      "RangeIndex: 891 entries, 0 to 890\n",
      "Data columns (total 12 columns):\n",
      "PassengerId    891 non-null int64\n",
      "Survived       891 non-null int64\n",
      "Pclass         891 non-null int64\n",
      "Name           891 non-null object\n",
      "Sex            891 non-null object\n",
      "Age            714 non-null float64\n",
      "SibSp          891 non-null int64\n",
      "Parch          891 non-null int64\n",
      "Ticket         891 non-null object\n",
      "Fare           891 non-null float64\n",
      "Cabin          204 non-null object\n",
      "Embarked       889 non-null object\n",
      "dtypes: float64(2), int64(5), object(5)\n",
      "memory usage: 83.6+ KB\n",
      "None\n"
     ]
    }
   ],
   "source": [
    "train = pd.read_csv(f'{DATA_DIR}/train.csv')\n",
    "test = pd.read_csv(f'{DATA_DIR}/test.csv')\n",
    "print(train.info())"
   ]
  },
  {
   "cell_type": "code",
   "execution_count": 7,
   "metadata": {},
   "outputs": [
    {
     "name": "stdout",
     "output_type": "stream",
     "text": [
      "0    549\n",
      "1    342\n",
      "Name: Survived, dtype: int64\n",
      "0    0.616162\n",
      "1    0.383838\n",
      "Name: Survived, dtype: float64\n"
     ]
    }
   ],
   "source": [
    "print(train.Survived.value_counts())\n",
    "print(train.Survived.value_counts(normalize=True))"
   ]
  },
  {
   "cell_type": "code",
   "execution_count": 8,
   "metadata": {},
   "outputs": [
    {
     "data": {
      "image/png": "[encoded data removed]",
      "text/plain": [
       "<Figure size 432x288 with 1 Axes>"
      ]
     },
     "metadata": {},
     "output_type": "display_data"
    }
   ],
   "source": [
    "count_plot = sns.countplot(train.Survived)"
   ]
  },
  {
   "cell_type": "code",
   "execution_count": 9,
   "metadata": {},
   "outputs": [
    {
     "name": "stdout",
     "output_type": "stream",
     "text": [
      "Mr.          517\n",
      "Miss.        182\n",
      "Mrs.         125\n",
      "Master.       40\n",
      "Dr.            7\n",
      "Rev.           6\n",
      "Mlle.          2\n",
      "Col.           2\n",
      "Major.         2\n",
      "Sir.           1\n",
      "Lady.          1\n",
      "Mme.           1\n",
      "Ms.            1\n",
      "Jonkheer.      1\n",
      "Capt.          1\n",
      "Don.           1\n",
      "the            1\n",
      "Name: NameTitle, dtype: int64\n"
     ]
    }
   ],
   "source": [
    "train['NameTitle'] = train.Name\\\n",
    "    .apply(lambda x: x.split(',')[1])\\\n",
    "    .apply(lambda x: x.split()[0])\n",
    "print(train['NameTitle'].value_counts())"
   ]
  },
  {
   "cell_type": "code",
   "execution_count": 10,
   "metadata": {},
   "outputs": [
    {
     "name": "stdout",
     "output_type": "stream",
     "text": [
      "NameTitle\n",
      "Capt.        0.000000\n",
      "Col.         0.500000\n",
      "Don.         0.000000\n",
      "Dr.          0.428571\n",
      "Jonkheer.    0.000000\n",
      "Lady.        1.000000\n",
      "Major.       0.500000\n",
      "Master.      0.575000\n",
      "Miss.        0.697802\n",
      "Mlle.        1.000000\n",
      "Mme.         1.000000\n",
      "Mr.          0.156673\n",
      "Mrs.         0.792000\n",
      "Ms.          1.000000\n",
      "Rev.         0.000000\n",
      "Sir.         1.000000\n",
      "the          1.000000\n",
      "Name: Survived, dtype: float64\n"
     ]
    }
   ],
   "source": [
    "print(train.Survived.groupby(train.NameTitle).mean())"
   ]
  },
  {
   "cell_type": "code",
   "execution_count": 11,
   "metadata": {},
   "outputs": [
    {
     "data": {
      "text/plain": [
       "Sex\n",
       "female    0.742038\n",
       "male      0.188908\n",
       "Name: Survived, dtype: float64"
      ]
     },
     "execution_count": 11,
     "metadata": {},
     "output_type": "execute_result"
    }
   ],
   "source": [
    "train.Survived.groupby(train.Sex).mean()"
   ]
  },
  {
   "cell_type": "code",
   "execution_count": 12,
   "metadata": {},
   "outputs": [
    {
     "data": {
      "text/plain": [
       "CabinLetter\n",
       "A    0.466667\n",
       "B    0.744681\n",
       "C    0.593220\n",
       "D    0.757576\n",
       "E    0.750000\n",
       "F    0.615385\n",
       "G    0.500000\n",
       "T    0.000000\n",
       "n    0.299854\n",
       "Name: Survived, dtype: float64"
      ]
     },
     "execution_count": 12,
     "metadata": {},
     "output_type": "execute_result"
    }
   ],
   "source": [
    "train['CabinLetter'] = train.Cabin.apply(lambda x: str(x)[0])\n",
    "train.Survived.groupby(train.CabinLetter).mean()"
   ]
  },
  {
   "cell_type": "code",
   "execution_count": 13,
   "metadata": {},
   "outputs": [
    {
     "data": {
      "text/plain": [
       "Embarked\n",
       "C    0.553571\n",
       "Q    0.389610\n",
       "S    0.336957\n",
       "Name: Survived, dtype: float64"
      ]
     },
     "execution_count": 13,
     "metadata": {},
     "output_type": "execute_result"
    }
   ],
   "source": [
    "train.Survived.groupby(train.Embarked).mean()"
   ]
  },
  {
   "cell_type": "code",
   "execution_count": 14,
   "metadata": {},
   "outputs": [
    {
     "data": {
      "image/png": "[encoded data removed]",
      "text/plain": [
       "<Figure size 432x288 with 1 Axes>"
      ]
     },
     "metadata": {},
     "output_type": "display_data"
    }
   ],
   "source": [
    "sns.countplot(train.Embarked, hue=train.Pclass);"
   ]
  },
  {
   "cell_type": "code",
   "execution_count": 15,
   "metadata": {},
   "outputs": [],
   "source": [
    "def create_name_feat(train, test):\n",
    "    for i in [train, test]:\n",
    "        i['Name_Len'] = i['Name'].apply(len)\n",
    "        i['Name_Title'] = i['Name'].apply(lambda x: x.split(',')[1])\\\n",
    "            .apply(lambda x: x.split()[0])\n",
    "        del i['Name']\n",
    "    return train, test"
   ]
  },
  {
   "cell_type": "code",
   "execution_count": 16,
   "metadata": {},
   "outputs": [],
   "source": [
    "def age_impute(train, test):\n",
    "    for i in [train, test]:\n",
    "        i['Age_Null_Flag'] = i['Age'].apply(\n",
    "            lambda x: 1 if pd.isnull(x) else 0)\n",
    "        data = train.groupby(['Name_Title', 'Pclass'])['Age']\n",
    "        i['Age'] = data.transform(lambda x: x.fillna(x.median()))\n",
    "    return train, test"
   ]
  },
  {
   "cell_type": "code",
   "execution_count": 17,
   "metadata": {},
   "outputs": [],
   "source": [
    "def fam_size(train, test):\n",
    "    for i in [train, test]:\n",
    "        i['Fam_Size'] = np.where(\n",
    "            (i['SibSp'] + i['Parch']) == 0, 'One',\n",
    "            np.where((i['SibSp'] + i['Parch']) <= 3, 'Small', 'Big'))\n",
    "        del i['SibSp']\n",
    "        del i['Parch']\n",
    "    return train, test\n",
    "        "
   ]
  },
  {
   "cell_type": "code",
   "execution_count": 18,
   "metadata": {},
   "outputs": [],
   "source": [
    "def ticket_grouped(train, test):\n",
    "    for i in [train, test]:\n",
    "        i['Ticket_Letr'] = i['Ticket'].apply(lambda x: str(x)[0])\n",
    "        i['Ticket_Letr'] = i['Ticket_Letr'].apply(str)\n",
    "        i['Ticket_Letr'] = np.where(\n",
    "            (i['Ticket_Letr']).isin(['1', '2', '3', 'S', 'P', 'C', 'A']),\n",
    "            i['Ticket_Letr'],\n",
    "            np.where((i['Ticket_Letr'])\\\n",
    "                         .isin(['W', '4', '7', '6', 'L', '5', '8']),\n",
    "                     'Low_ticket', \n",
    "                     'Other_ticket'))\n",
    "        i['Ticket_Len'] = i['Ticket'].apply(len)\n",
    "        del i['Ticket']\n",
    "    return train, test"
   ]
  },
  {
   "cell_type": "code",
   "execution_count": 19,
   "metadata": {},
   "outputs": [],
   "source": [
    "def cabin(train, test):\n",
    "    for i in [train, test]:\n",
    "        i['Cabin_Letter'] = i['Cabin'].apply(lambda x: str(x)[0])\n",
    "        del i['Cabin']\n",
    "    return train, test"
   ]
  },
  {
   "cell_type": "code",
   "execution_count": 20,
   "metadata": {},
   "outputs": [],
   "source": [
    "def embarked_impute(train, test):\n",
    "    for i in [train, test]:\n",
    "        i['Embarked'] = i['Embarked'].fillna('S')\n",
    "    return train, test"
   ]
  },
  {
   "cell_type": "code",
   "execution_count": 21,
   "metadata": {},
   "outputs": [],
   "source": [
    "def dummies(\n",
    "        train, test, \n",
    "        columns=['Pclass', 'Sex', 'Embarked', 'Ticket_Letr', \n",
    "                 'Cabin_Letter', 'Name_Title', 'Fam_Size']):\n",
    "    for column in columns:\n",
    "        train[column] = train[column].apply(str)\n",
    "        test[column] = train[column].apply(str)\n",
    "        good_cols = [column + '_' + i for i in train[column].unique() \n",
    "                     if i in test[column].unique()]\n",
    "        train = pd.concat(\n",
    "            (train, \n",
    "             pd.get_dummies(train[column], prefix=column)[good_cols]),\n",
    "            axis=1)\n",
    "        test = pd.concat(\n",
    "            (test, \n",
    "             pd.get_dummies(test[column], prefix=column)[good_cols]),\n",
    "            axis=1)\n",
    "        del train[column]\n",
    "        del test[column]\n",
    "    return train, test"
   ]
  },
  {
   "cell_type": "code",
   "execution_count": 22,
   "metadata": {},
   "outputs": [],
   "source": [
    "def PrepareTarget(data):\n",
    "    return np.array(data.Survived, dtype='int8').reshape(-1, 1)"
   ]
  },
  {
   "cell_type": "markdown",
   "metadata": {},
   "source": [
    "# Logistic Regression\n",
    "### Using `tf.contrib`"
   ]
  },
  {
   "cell_type": "markdown",
   "metadata": {},
   "source": [
    "```\n",
    "model_params = {'learning_rate': LEARNING_RATE}\n",
    "nn = tf.contrib.learn.Estimator(model_fn=model_fn, \n",
    "                                params=model_params)\n",
    "```"
   ]
  },
  {
   "cell_type": "code",
   "execution_count": 23,
   "metadata": {},
   "outputs": [],
   "source": [
    "random.seed(1103)\n",
    "train = pd.read_csv(f'{DATA_DIR}/train.csv')\n",
    "test = pd.read_csv(f'{DATA_DIR}/test.csv')"
   ]
  },
  {
   "cell_type": "code",
   "execution_count": 24,
   "metadata": {},
   "outputs": [],
   "source": [
    "train, test = create_name_feat(train, test)\n",
    "train, test = age_impute(train, test)\n",
    "train, test = cabin(train, test)\n",
    "train, test = embarked_impute(train, test)\n",
    "train, test = fam_size(train, test)\n",
    "test['Fare'].fillna(train['Fare'].median(), inplace=True)\n",
    "train, test = ticket_grouped(train, test)"
   ]
  },
  {
   "cell_type": "code",
   "execution_count": 25,
   "metadata": {},
   "outputs": [],
   "source": [
    "train, test = dummies(train, test)"
   ]
  },
  {
   "cell_type": "code",
   "execution_count": 26,
   "metadata": {},
   "outputs": [],
   "source": [
    "TEST = True\n",
    "if TEST:\n",
    "    train, test = train_test_split(train, test_size=0.25, random_state=110)\n",
    "    train = train.sort_values('PassengerId')\n",
    "    test = test.sort_values('PassengerId')\n",
    "    \n",
    "X_train = train.iloc[:, 1:]\n",
    "X_test = test.iloc[:, 1:]"
   ]
  },
  {
   "cell_type": "code",
   "execution_count": 27,
   "metadata": {},
   "outputs": [],
   "source": [
    "X_train = np.array(X_train.iloc[:, 1:], dtype='float32')\n",
    "\n",
    "if TEST:\n",
    "    X_test = np.array(X_test.iloc[:, 1:], dtype='float32')\n",
    "else:\n",
    "    X_test = np.array(X_test, dtype='float32')"
   ]
  },
  {
   "cell_type": "code",
   "execution_count": 28,
   "metadata": {},
   "outputs": [],
   "source": [
    "y_train = PrepareTarget(train)"
   ]
  },
  {
   "cell_type": "code",
   "execution_count": 29,
   "metadata": {},
   "outputs": [],
   "source": [
    "feature_count = X_train.shape[1]"
   ]
  },
  {
   "cell_type": "code",
   "execution_count": 30,
   "metadata": {},
   "outputs": [],
   "source": [
    "def build_lr_estimator(model_dir, feature_count):\n",
    "    return estimator.SKCompat(learn.LinearClassifier(\n",
    "        feature_columns=[\n",
    "            tf.contrib.layers.real_valued_column(\n",
    "                '', dimension=feature_count)],\n",
    "        n_classes=2,\n",
    "        model_dir=model_dir))"
   ]
  },
  {
   "cell_type": "code",
   "execution_count": 31,
   "metadata": {},
   "outputs": [
    {
     "name": "stdout",
     "output_type": "stream",
     "text": [
      "Training...\n",
      "WARNING:tensorflow:From /usr/local/lib/python3.6/site-packages/tensorflow/contrib/learn/python/learn/estimators/linear.py:469: multi_class_head (from tensorflow.contrib.learn.python.learn.estimators.head) is deprecated and will be removed in a future version.\n",
      "Instructions for updating:\n",
      "Please switch to tf.contrib.estimator.*_head.\n",
      "WARNING:tensorflow:From /usr/local/lib/python3.6/site-packages/tensorflow/contrib/learn/python/learn/estimators/estimator.py:1179: BaseEstimator.__init__ (from tensorflow.contrib.learn.python.learn.estimators.estimator) is deprecated and will be removed in a future version.\n",
      "Instructions for updating:\n",
      "Please replace uses of any Estimator from tf.contrib.learn with an Estimator from tf.estimator.*\n",
      "WARNING:tensorflow:From /usr/local/lib/python3.6/site-packages/tensorflow/contrib/learn/python/learn/estimators/estimator.py:427: RunConfig.__init__ (from tensorflow.contrib.learn.python.learn.estimators.run_config) is deprecated and will be removed in a future version.\n",
      "Instructions for updating:\n",
      "When switching to tf.estimator.Estimator, use tf.estimator.RunConfig instead.\n",
      "INFO:tensorflow:Using default config.\n",
      "INFO:tensorflow:Using config: {'_task_type': None, '_task_id': 0, '_cluster_spec': <tensorflow.python.training.server_lib.ClusterSpec object at 0x13258fd30>, '_master': '', '_num_ps_replicas': 0, '_num_worker_replicas': 0, '_environment': 'local', '_is_chief': True, '_evaluation_master': '', '_train_distribute': None, '_eval_distribute': None, '_device_fn': None, '_tf_config': gpu_options {\n",
      "  per_process_gpu_memory_fraction: 1.0\n",
      "}\n",
      ", '_tf_random_seed': None, '_save_summary_steps': 100, '_save_checkpoints_secs': 600, '_log_step_count_steps': 100, '_protocol': None, '_session_config': None, '_save_checkpoints_steps': None, '_keep_checkpoint_max': 5, '_keep_checkpoint_every_n_hours': 10000, '_model_dir': 'lr/'}\n",
      "WARNING:tensorflow:From <ipython-input-30-4359b10fd140>:7: SKCompat.__init__ (from tensorflow.contrib.learn.python.learn.estimators.estimator) is deprecated and will be removed in a future version.\n",
      "Instructions for updating:\n",
      "Please switch to the Estimator interface.\n",
      "WARNING:tensorflow:From /usr/local/lib/python3.6/site-packages/tensorflow/contrib/learn/python/learn/estimators/estimator.py:143: setup_train_data_feeder (from tensorflow.contrib.learn.python.learn.learn_io.data_feeder) is deprecated and will be removed in a future version.\n",
      "Instructions for updating:\n",
      "Please use tensorflow/transform or tf.data.\n",
      "WARNING:tensorflow:From /usr/local/lib/python3.6/site-packages/tensorflow/contrib/learn/python/learn/learn_io/data_feeder.py:96: extract_dask_data (from tensorflow.contrib.learn.python.learn.learn_io.dask_io) is deprecated and will be removed in a future version.\n",
      "Instructions for updating:\n",
      "Please feed input to tf.data to support dask.\n",
      "WARNING:tensorflow:From /usr/local/lib/python3.6/site-packages/tensorflow/contrib/learn/python/learn/learn_io/data_feeder.py:98: extract_dask_labels (from tensorflow.contrib.learn.python.learn.learn_io.dask_io) is deprecated and will be removed in a future version.\n",
      "Instructions for updating:\n",
      "Please feed input to tf.data to support dask.\n",
      "WARNING:tensorflow:From /usr/local/lib/python3.6/site-packages/tensorflow/contrib/learn/python/learn/learn_io/data_feeder.py:100: extract_pandas_data (from tensorflow.contrib.learn.python.learn.learn_io.pandas_io) is deprecated and will be removed in a future version.\n",
      "Instructions for updating:\n",
      "Please access pandas data directly.\n",
      "WARNING:tensorflow:From /usr/local/lib/python3.6/site-packages/tensorflow/contrib/learn/python/learn/learn_io/data_feeder.py:102: extract_pandas_labels (from tensorflow.contrib.learn.python.learn.learn_io.pandas_io) is deprecated and will be removed in a future version.\n",
      "Instructions for updating:\n",
      "Please access pandas data directly.\n",
      "WARNING:tensorflow:From /usr/local/lib/python3.6/site-packages/tensorflow/contrib/learn/python/learn/learn_io/data_feeder.py:159: DataFeeder.__init__ (from tensorflow.contrib.learn.python.learn.learn_io.data_feeder) is deprecated and will be removed in a future version.\n",
      "Instructions for updating:\n",
      "Please use tensorflow/transform or tf.data.\n",
      "WARNING:tensorflow:From /usr/local/lib/python3.6/site-packages/tensorflow/contrib/learn/python/learn/learn_io/data_feeder.py:340: check_array (from tensorflow.contrib.learn.python.learn.learn_io.data_feeder) is deprecated and will be removed in a future version.\n",
      "Instructions for updating:\n",
      "Please convert numpy dtypes explicitly.\n",
      "WARNING:tensorflow:From /usr/local/lib/python3.6/site-packages/tensorflow/python/framework/op_def_library.py:263: colocate_with (from tensorflow.python.framework.ops) is deprecated and will be removed in a future version.\n",
      "Instructions for updating:\n",
      "Colocations handled automatically by placer.\n",
      "WARNING:tensorflow:From /usr/local/lib/python3.6/site-packages/tensorflow/contrib/layers/python/layers/feature_column.py:1874: to_float (from tensorflow.python.ops.math_ops) is deprecated and will be removed in a future version.\n",
      "Instructions for updating:\n",
      "Use tf.cast instead.\n",
      "WARNING:tensorflow:Casting <dtype: 'int8'> labels to bool.\n",
      "WARNING:tensorflow:From /usr/local/lib/python3.6/site-packages/tensorflow/python/ops/metrics_impl.py:788: div (from tensorflow.python.ops.math_ops) is deprecated and will be removed in a future version.\n",
      "Instructions for updating:\n",
      "Deprecated in favor of operator or tf.math.divide.\n",
      "WARNING:tensorflow:Casting <dtype: 'int8'> labels to bool.\n",
      "WARNING:tensorflow:Trapezoidal rule is known to produce incorrect PR-AUCs; please switch to \"careful_interpolation\" instead.\n",
      "WARNING:tensorflow:Trapezoidal rule is known to produce incorrect PR-AUCs; please switch to \"careful_interpolation\" instead.\n",
      "WARNING:tensorflow:From /usr/local/lib/python3.6/site-packages/tensorflow/contrib/learn/python/learn/estimators/head.py:677: ModelFnOps.__new__ (from tensorflow.contrib.learn.python.learn.estimators.model_fn) is deprecated and will be removed in a future version.\n",
      "Instructions for updating:\n",
      "When switching to tf.estimator.Estimator, use tf.estimator.EstimatorSpec. You can use the `estimator_spec` method to create an equivalent one.\n",
      "INFO:tensorflow:Create CheckpointSaverHook.\n",
      "INFO:tensorflow:Graph was finalized.\n",
      "INFO:tensorflow:Running local_init_op.\n",
      "INFO:tensorflow:Done running local_init_op.\n",
      "INFO:tensorflow:Saving checkpoints for 0 into lr/model.ckpt.\n",
      "INFO:tensorflow:loss = 0.6931473, step = 1\n",
      "INFO:tensorflow:global_step/sec: 853.608\n",
      "INFO:tensorflow:loss = 0.52068955, step = 101 (0.118 sec)\n",
      "INFO:tensorflow:global_step/sec: 1321.42\n",
      "INFO:tensorflow:loss = 0.47202414, step = 201 (0.076 sec)\n",
      "INFO:tensorflow:global_step/sec: 1285.43\n",
      "INFO:tensorflow:loss = 0.3573994, step = 301 (0.078 sec)\n",
      "INFO:tensorflow:global_step/sec: 1326.77\n",
      "INFO:tensorflow:loss = 0.33633006, step = 401 (0.075 sec)\n",
      "INFO:tensorflow:global_step/sec: 1343.05\n",
      "INFO:tensorflow:loss = 0.3832652, step = 501 (0.074 sec)\n",
      "INFO:tensorflow:global_step/sec: 1343.11\n",
      "INFO:tensorflow:loss = 0.30436784, step = 601 (0.075 sec)\n",
      "INFO:tensorflow:global_step/sec: 1287.83\n",
      "INFO:tensorflow:loss = 0.38668656, step = 701 (0.078 sec)\n",
      "INFO:tensorflow:global_step/sec: 1282.07\n",
      "INFO:tensorflow:loss = 0.32220596, step = 801 (0.078 sec)\n",
      "INFO:tensorflow:global_step/sec: 1304.41\n",
      "INFO:tensorflow:loss = 0.597625, step = 901 (0.076 sec)\n",
      "INFO:tensorflow:Saving checkpoints for 1000 into lr/model.ckpt.\n",
      "INFO:tensorflow:Loss for final step: 0.35219735.\n",
      "INFO:tensorflow:Graph was finalized.\n",
      "WARNING:tensorflow:From /usr/local/lib/python3.6/site-packages/tensorflow/python/training/saver.py:1266: checkpoint_exists (from tensorflow.python.training.checkpoint_management) is deprecated and will be removed in a future version.\n",
      "Instructions for updating:\n",
      "Use standard file APIs to check for files with this prefix.\n",
      "INFO:tensorflow:Restoring parameters from lr/model.ckpt-1000\n",
      "INFO:tensorflow:Running local_init_op.\n",
      "INFO:tensorflow:Done running local_init_op.\n"
     ]
    }
   ],
   "source": [
    "print('Training...')\n",
    "try:\n",
    "    shutil.rmtree('lr/')\n",
    "except OSError:\n",
    "    pass\n",
    "\n",
    "lr = build_lr_estimator('lr/', feature_count)\n",
    "lr.fit(X_train, y_train, steps=1000)\n",
    "lr_pred = lr.predict(X_test)\n",
    "lr_pred = lr_pred['classes']"
   ]
  },
  {
   "cell_type": "code",
   "execution_count": 32,
   "metadata": {},
   "outputs": [
    {
     "name": "stdout",
     "output_type": "stream",
     "text": [
      "Logistic Regression Report\n",
      "              precision    recall  f1-score   support\n",
      "\n",
      "Not Survived       0.86      0.89      0.87       129\n",
      "    Survived       0.84      0.80      0.82        94\n",
      "\n",
      "    accuracy                           0.85       223\n",
      "   macro avg       0.85      0.84      0.85       223\n",
      "weighted avg       0.85      0.85      0.85       223\n",
      "\n"
     ]
    }
   ],
   "source": [
    "if TEST:\n",
    "    target_names= ['Not Survived', 'Survived']\n",
    "    print('Logistic Regression Report')\n",
    "    print(classification_report(\n",
    "        test['Survived'], lr_pred, target_names=target_names))"
   ]
  },
  {
   "cell_type": "code",
   "execution_count": 33,
   "metadata": {},
   "outputs": [
    {
     "name": "stdout",
     "output_type": "stream",
     "text": [
      "Logistic Regression Confusion Matrix\n",
      "              Not Survived  Survived\n",
      "Not Survived           115        14\n",
      "Survived                19        75\n"
     ]
    }
   ],
   "source": [
    "cm = confusion_matrix(test['Survived'], lr_pred)\n",
    "df_cm = pd.DataFrame(cm, index=target_names, columns=target_names)\n",
    "print('Logistic Regression Confusion Matrix')\n",
    "print(df_cm)"
   ]
  },
  {
   "cell_type": "code",
   "execution_count": 34,
   "metadata": {},
   "outputs": [
    {
     "data": {
      "image/png": "[encoded data removed]",
      "text/plain": [
       "<Figure size 432x288 with 1 Axes>"
      ]
     },
     "metadata": {},
     "output_type": "display_data"
    }
   ],
   "source": [
    "sol = pd.DataFrame()\n",
    "sol['PassengerId'] = test['PassengerId']\n",
    "sol['Survived'] = pd.Series(lr_pred.reshape(-1)).map({True: 1, False: 0})\\\n",
    "    .values\n",
    "#sns.plt.suptitle('Predicted Suvived LR')\n",
    "count_plot = sns.countplot(sol.Survived)\n",
    "#count_plot.get_figure().savefig('survived_count_lr_prd.png')"
   ]
  },
  {
   "cell_type": "code",
   "execution_count": 35,
   "metadata": {},
   "outputs": [
    {
     "name": "stdout",
     "output_type": "stream",
     "text": [
      "Predicted Counts\n",
      "0    134\n",
      "1     89\n",
      "Name: Survived, dtype: int64\n"
     ]
    }
   ],
   "source": [
    "print('Predicted Counts')\n",
    "print(sol.Survived.value_counts())"
   ]
  },
  {
   "cell_type": "code",
   "execution_count": 36,
   "metadata": {},
   "outputs": [],
   "source": [
    "train['PassengerId'] = train['PassengerId'].astype(str)\n",
    "test['PassengerId'] = test['PassengerId'].astype(str)"
   ]
  },
  {
   "cell_type": "code",
   "execution_count": 37,
   "metadata": {},
   "outputs": [],
   "source": [
    "def train_input_fn():\n",
    "    continuous_cols = {k: tf.expand_dims(tf.constant(train[k].values), 1)\n",
    "                       for k in list(train) \n",
    "                       if k not in ['Survived', 'PassengerId']}\n",
    "    id_col = {'PassengerId': tf.constant(train['PassengerId'].values)}\n",
    "    feature_cols = continuous_cols.copy()\n",
    "    feature_cols.update(id_col)\n",
    "    label = tf.constant(train['Survived'].values)\n",
    "    return feature_cols, label"
   ]
  },
  {
   "cell_type": "code",
   "execution_count": 38,
   "metadata": {},
   "outputs": [],
   "source": [
    "def predict_input_fn():\n",
    "    continuous_cols = {k: tf.expand_dims(tf.constant(test[k].values), 1)\n",
    "                       for k in list(test) \n",
    "                       if k not in ['Survived', 'PassengerId']}\n",
    "    id_col = {'PassengerId': tf.constant(test['PassengerId'].values)}\n",
    "    feature_cols = continuous_cols.copy()\n",
    "    feature_cols.update(id_col)\n",
    "    return feature_cols"
   ]
  },
  {
   "cell_type": "code",
   "execution_count": 39,
   "metadata": {},
   "outputs": [
    {
     "name": "stdout",
     "output_type": "stream",
     "text": [
      "WARNING:tensorflow:From /usr/local/lib/python3.6/site-packages/tensorflow/contrib/learn/python/learn/estimators/svm.py:153: binary_svm_head (from tensorflow.contrib.learn.python.learn.estimators.head) is deprecated and will be removed in a future version.\n",
      "Instructions for updating:\n",
      "Please switch to tf.contrib.estimator.*_head.\n",
      "INFO:tensorflow:Using default config.\n",
      "INFO:tensorflow:Using config: {'_task_type': None, '_task_id': 0, '_cluster_spec': <tensorflow.python.training.server_lib.ClusterSpec object at 0x13277a8d0>, '_master': '', '_num_ps_replicas': 0, '_num_worker_replicas': 0, '_environment': 'local', '_is_chief': True, '_evaluation_master': '', '_train_distribute': None, '_eval_distribute': None, '_device_fn': None, '_tf_config': gpu_options {\n",
      "  per_process_gpu_memory_fraction: 1.0\n",
      "}\n",
      ", '_tf_random_seed': None, '_save_summary_steps': 100, '_save_checkpoints_secs': 600, '_log_step_count_steps': 100, '_protocol': None, '_session_config': None, '_save_checkpoints_steps': None, '_keep_checkpoint_max': 5, '_keep_checkpoint_every_n_hours': 10000, '_model_dir': 'svm/'}\n",
      "INFO:tensorflow:Created variable linear/bias_weight:0, with device=\n",
      "WARNING:tensorflow:From /usr/local/lib/python3.6/site-packages/tensorflow/contrib/linear_optimizer/python/sdca_optimizer.py:276: SdcaModel.__init__ (from tensorflow.contrib.linear_optimizer.python.ops.sdca_ops) is deprecated and will be removed in a future version.\n",
      "Instructions for updating:\n",
      "This class is deprecated. To UPDATE or USE linear optimizers, please check its latest version in core: tensorflow_estimator/python/estimator/canned/linear_optimizer/.\n",
      "WARNING:tensorflow:From /usr/local/lib/python3.6/site-packages/tensorflow/contrib/linear_optimizer/python/ops/sdca_ops.py:169: ShardedMutableDenseHashTable.__init__ (from tensorflow.contrib.linear_optimizer.python.ops.sharded_mutable_dense_hashtable) is deprecated and will be removed in a future version.\n",
      "Instructions for updating:\n",
      "This class is deprecated. To UPDATE or USE linear optimizers, please check its latest version in core: tensorflow_estimator/python/estimator/canned/linear_optimizer/.\n",
      "WARNING:tensorflow:From /usr/local/lib/python3.6/site-packages/tensorflow/contrib/linear_optimizer/python/ops/sdca_ops.py:627: to_double (from tensorflow.python.ops.math_ops) is deprecated and will be removed in a future version.\n",
      "Instructions for updating:\n",
      "Use tf.cast instead.\n",
      "INFO:tensorflow:Create CheckpointSaverHook.\n",
      "INFO:tensorflow:Graph was finalized.\n",
      "INFO:tensorflow:Restoring parameters from svm/model.ckpt-20000\n",
      "WARNING:tensorflow:From /usr/local/lib/python3.6/site-packages/tensorflow/python/training/saver.py:1070: get_checkpoint_mtimes (from tensorflow.python.training.checkpoint_management) is deprecated and will be removed in a future version.\n",
      "Instructions for updating:\n",
      "Use standard file utilities to get mtimes.\n",
      "INFO:tensorflow:Running local_init_op.\n",
      "INFO:tensorflow:Done running local_init_op.\n",
      "INFO:tensorflow:Saving checkpoints for 20000 into svm/model.ckpt.\n",
      "INFO:tensorflow:loss = 0.32240477, step = 20001\n",
      "INFO:tensorflow:global_step/sec: 17.2142\n",
      "INFO:tensorflow:loss = 0.32234362, step = 20101 (5.810 sec)\n",
      "INFO:tensorflow:global_step/sec: 17.9237\n",
      "INFO:tensorflow:loss = 0.32688773, step = 20201 (5.579 sec)\n",
      "INFO:tensorflow:global_step/sec: 17.607\n",
      "INFO:tensorflow:loss = 0.32517362, step = 20301 (5.680 sec)\n",
      "INFO:tensorflow:global_step/sec: 17.3323\n",
      "INFO:tensorflow:loss = 0.32505742, step = 20401 (5.769 sec)\n",
      "INFO:tensorflow:global_step/sec: 17.3863\n",
      "INFO:tensorflow:loss = 0.32254463, step = 20501 (5.752 sec)\n",
      "INFO:tensorflow:global_step/sec: 17.5937\n",
      "INFO:tensorflow:loss = 0.3290244, step = 20601 (5.684 sec)\n",
      "INFO:tensorflow:global_step/sec: 17.9671\n",
      "INFO:tensorflow:loss = 0.32234073, step = 20701 (5.566 sec)\n",
      "INFO:tensorflow:global_step/sec: 18.1101\n",
      "INFO:tensorflow:loss = 0.32687488, step = 20801 (5.521 sec)\n",
      "INFO:tensorflow:global_step/sec: 18.1044\n",
      "INFO:tensorflow:loss = 0.32394964, step = 20901 (5.524 sec)\n",
      "INFO:tensorflow:global_step/sec: 18.1293\n",
      "INFO:tensorflow:loss = 0.37835014, step = 21001 (5.516 sec)\n",
      "INFO:tensorflow:global_step/sec: 18.0813\n",
      "INFO:tensorflow:loss = 0.32214612, step = 21101 (5.531 sec)\n",
      "INFO:tensorflow:global_step/sec: 18.2682\n",
      "INFO:tensorflow:loss = 0.32158032, step = 21201 (5.474 sec)\n",
      "INFO:tensorflow:global_step/sec: 18.2499\n",
      "INFO:tensorflow:loss = 0.3217236, step = 21301 (5.479 sec)\n",
      "INFO:tensorflow:global_step/sec: 18.106\n",
      "INFO:tensorflow:loss = 0.32231948, step = 21401 (5.523 sec)\n",
      "INFO:tensorflow:global_step/sec: 18.1424\n",
      "INFO:tensorflow:loss = 0.32201743, step = 21501 (5.512 sec)\n",
      "INFO:tensorflow:global_step/sec: 18.3578\n",
      "INFO:tensorflow:loss = 0.32227927, step = 21601 (5.447 sec)\n",
      "INFO:tensorflow:global_step/sec: 17.8578\n",
      "INFO:tensorflow:loss = 0.32338488, step = 21701 (5.600 sec)\n",
      "INFO:tensorflow:global_step/sec: 17.8454\n",
      "INFO:tensorflow:loss = 0.32268584, step = 21801 (5.604 sec)\n",
      "INFO:tensorflow:global_step/sec: 18.3785\n",
      "INFO:tensorflow:loss = 0.32278624, step = 21901 (5.441 sec)\n",
      "INFO:tensorflow:global_step/sec: 18.0867\n",
      "INFO:tensorflow:loss = 0.32722512, step = 22001 (5.529 sec)\n",
      "INFO:tensorflow:global_step/sec: 17.7328\n",
      "INFO:tensorflow:loss = 0.32260656, step = 22101 (5.639 sec)\n",
      "INFO:tensorflow:global_step/sec: 18.149\n",
      "INFO:tensorflow:loss = 0.32194012, step = 22201 (5.510 sec)\n",
      "INFO:tensorflow:global_step/sec: 18.3152\n",
      "INFO:tensorflow:loss = 0.32215255, step = 22301 (5.459 sec)\n",
      "INFO:tensorflow:global_step/sec: 18.3643\n",
      "INFO:tensorflow:loss = 0.32435915, step = 22401 (5.446 sec)\n",
      "INFO:tensorflow:global_step/sec: 18.1559\n",
      "INFO:tensorflow:loss = 0.3224359, step = 22501 (5.508 sec)\n",
      "INFO:tensorflow:global_step/sec: 18.092\n",
      "INFO:tensorflow:loss = 0.3256142, step = 22601 (5.527 sec)\n",
      "INFO:tensorflow:global_step/sec: 18.3366\n",
      "INFO:tensorflow:loss = 0.32332152, step = 22701 (5.453 sec)\n",
      "INFO:tensorflow:global_step/sec: 18.4176\n",
      "INFO:tensorflow:loss = 0.32241854, step = 22801 (5.430 sec)\n",
      "INFO:tensorflow:global_step/sec: 17.6386\n",
      "INFO:tensorflow:loss = 0.32504427, step = 22901 (5.669 sec)\n",
      "INFO:tensorflow:global_step/sec: 18.6317\n",
      "INFO:tensorflow:loss = 0.32251525, step = 23001 (5.368 sec)\n",
      "INFO:tensorflow:global_step/sec: 18.7804\n",
      "INFO:tensorflow:loss = 0.32151052, step = 23101 (5.324 sec)\n",
      "INFO:tensorflow:global_step/sec: 18.4852\n",
      "INFO:tensorflow:loss = 0.32442236, step = 23201 (5.410 sec)\n",
      "INFO:tensorflow:global_step/sec: 18.6617\n",
      "INFO:tensorflow:loss = 0.32234088, step = 23301 (5.358 sec)\n",
      "INFO:tensorflow:global_step/sec: 18.2314\n",
      "INFO:tensorflow:loss = 0.3221082, step = 23401 (5.486 sec)\n",
      "INFO:tensorflow:global_step/sec: 18.2078\n",
      "INFO:tensorflow:loss = 0.33257422, step = 23501 (5.491 sec)\n",
      "INFO:tensorflow:global_step/sec: 17.9649\n",
      "INFO:tensorflow:loss = 0.33029786, step = 23601 (5.567 sec)\n",
      "INFO:tensorflow:global_step/sec: 18.3752\n",
      "INFO:tensorflow:loss = 0.32493144, step = 23701 (5.442 sec)\n",
      "INFO:tensorflow:global_step/sec: 18.1151\n",
      "INFO:tensorflow:loss = 0.32359055, step = 23801 (5.521 sec)\n",
      "INFO:tensorflow:global_step/sec: 18.0491\n",
      "INFO:tensorflow:loss = 0.3233511, step = 23901 (5.540 sec)\n",
      "INFO:tensorflow:global_step/sec: 18.182\n",
      "INFO:tensorflow:loss = 0.3336532, step = 24001 (5.500 sec)\n",
      "INFO:tensorflow:global_step/sec: 18.1038\n",
      "INFO:tensorflow:loss = 0.322146, step = 24101 (5.524 sec)\n",
      "INFO:tensorflow:global_step/sec: 18.0398\n",
      "INFO:tensorflow:loss = 0.32177657, step = 24201 (5.542 sec)\n",
      "INFO:tensorflow:global_step/sec: 18.2431\n",
      "INFO:tensorflow:loss = 0.32658172, step = 24301 (5.483 sec)\n",
      "INFO:tensorflow:global_step/sec: 18.6477\n",
      "INFO:tensorflow:loss = 0.32222554, step = 24401 (5.363 sec)\n",
      "INFO:tensorflow:global_step/sec: 18.8011\n",
      "INFO:tensorflow:loss = 0.3216108, step = 24501 (5.319 sec)\n",
      "INFO:tensorflow:global_step/sec: 18.7571\n",
      "INFO:tensorflow:loss = 0.3226173, step = 24601 (5.331 sec)\n",
      "INFO:tensorflow:global_step/sec: 18.1527\n",
      "INFO:tensorflow:loss = 0.32213682, step = 24701 (5.509 sec)\n",
      "INFO:tensorflow:global_step/sec: 18.2441\n",
      "INFO:tensorflow:loss = 0.32131252, step = 24801 (5.481 sec)\n",
      "INFO:tensorflow:global_step/sec: 18.3476\n",
      "INFO:tensorflow:loss = 0.32293358, step = 24901 (5.450 sec)\n",
      "INFO:tensorflow:global_step/sec: 18.1995\n",
      "INFO:tensorflow:loss = 0.3236523, step = 25001 (5.495 sec)\n",
      "INFO:tensorflow:global_step/sec: 18.6827\n",
      "INFO:tensorflow:loss = 0.33186027, step = 25101 (5.353 sec)\n",
      "INFO:tensorflow:global_step/sec: 18.3796\n"
     ]
    },
    {
     "name": "stdout",
     "output_type": "stream",
     "text": [
      "INFO:tensorflow:loss = 0.32416558, step = 25201 (5.440 sec)\n",
      "INFO:tensorflow:global_step/sec: 18.3885\n",
      "INFO:tensorflow:loss = 0.32106867, step = 25301 (5.439 sec)\n",
      "INFO:tensorflow:global_step/sec: 18.096\n",
      "INFO:tensorflow:loss = 0.32297322, step = 25401 (5.525 sec)\n",
      "INFO:tensorflow:global_step/sec: 18.1844\n",
      "INFO:tensorflow:loss = 0.33467263, step = 25501 (5.499 sec)\n",
      "INFO:tensorflow:global_step/sec: 18.1412\n",
      "INFO:tensorflow:loss = 0.32339966, step = 25601 (5.513 sec)\n",
      "INFO:tensorflow:global_step/sec: 18.0601\n",
      "INFO:tensorflow:loss = 0.32147476, step = 25701 (5.537 sec)\n",
      "INFO:tensorflow:global_step/sec: 17.5489\n",
      "INFO:tensorflow:loss = 0.32203323, step = 25801 (5.698 sec)\n",
      "INFO:tensorflow:global_step/sec: 17.4343\n",
      "INFO:tensorflow:loss = 0.32388613, step = 25901 (5.735 sec)\n",
      "INFO:tensorflow:global_step/sec: 17.5878\n",
      "INFO:tensorflow:loss = 0.3247414, step = 26001 (5.686 sec)\n",
      "INFO:tensorflow:global_step/sec: 18.0336\n",
      "INFO:tensorflow:loss = 0.32118672, step = 26101 (5.545 sec)\n",
      "INFO:tensorflow:global_step/sec: 18.3078\n",
      "INFO:tensorflow:loss = 0.32277945, step = 26201 (5.462 sec)\n",
      "INFO:tensorflow:global_step/sec: 18.4374\n",
      "INFO:tensorflow:loss = 0.32262132, step = 26301 (5.424 sec)\n",
      "INFO:tensorflow:global_step/sec: 18.2114\n",
      "INFO:tensorflow:loss = 0.3259239, step = 26401 (5.490 sec)\n",
      "INFO:tensorflow:global_step/sec: 18.1449\n",
      "INFO:tensorflow:loss = 0.32368982, step = 26501 (5.511 sec)\n",
      "INFO:tensorflow:global_step/sec: 18.1466\n",
      "INFO:tensorflow:loss = 0.321782, step = 26601 (5.511 sec)\n",
      "INFO:tensorflow:global_step/sec: 18.2126\n",
      "INFO:tensorflow:loss = 0.3250846, step = 26701 (5.491 sec)\n",
      "INFO:tensorflow:global_step/sec: 18.3473\n",
      "INFO:tensorflow:loss = 0.324109, step = 26801 (5.450 sec)\n",
      "INFO:tensorflow:global_step/sec: 18.667\n",
      "INFO:tensorflow:loss = 0.32179976, step = 26901 (5.357 sec)\n",
      "INFO:tensorflow:global_step/sec: 17.5395\n",
      "INFO:tensorflow:loss = 0.3261508, step = 27001 (5.702 sec)\n",
      "INFO:tensorflow:global_step/sec: 18.2959\n",
      "INFO:tensorflow:loss = 0.32101062, step = 27101 (5.465 sec)\n",
      "INFO:tensorflow:global_step/sec: 18.4845\n",
      "INFO:tensorflow:loss = 0.32316008, step = 27201 (5.410 sec)\n",
      "INFO:tensorflow:global_step/sec: 18.3527\n",
      "INFO:tensorflow:loss = 0.32115707, step = 27301 (5.450 sec)\n",
      "INFO:tensorflow:global_step/sec: 18.2124\n",
      "INFO:tensorflow:loss = 0.32242367, step = 27401 (5.491 sec)\n",
      "INFO:tensorflow:global_step/sec: 18.1587\n",
      "INFO:tensorflow:loss = 0.3246716, step = 27501 (5.507 sec)\n",
      "INFO:tensorflow:global_step/sec: 18.4178\n",
      "INFO:tensorflow:loss = 0.32589227, step = 27601 (5.429 sec)\n",
      "INFO:tensorflow:global_step/sec: 18.0012\n",
      "INFO:tensorflow:loss = 0.32126507, step = 27701 (5.555 sec)\n",
      "INFO:tensorflow:global_step/sec: 18.7517\n",
      "INFO:tensorflow:loss = 0.32291758, step = 27801 (5.333 sec)\n",
      "INFO:tensorflow:global_step/sec: 18.5048\n",
      "INFO:tensorflow:loss = 0.32241553, step = 27901 (5.404 sec)\n",
      "INFO:tensorflow:global_step/sec: 17.9311\n",
      "INFO:tensorflow:loss = 0.32760513, step = 28001 (5.577 sec)\n",
      "INFO:tensorflow:global_step/sec: 18.1138\n",
      "INFO:tensorflow:loss = 0.32214993, step = 28101 (5.521 sec)\n",
      "INFO:tensorflow:global_step/sec: 17.9008\n",
      "INFO:tensorflow:loss = 0.32875824, step = 28201 (5.586 sec)\n",
      "INFO:tensorflow:global_step/sec: 17.2857\n",
      "INFO:tensorflow:loss = 0.3217877, step = 28301 (5.785 sec)\n",
      "INFO:tensorflow:global_step/sec: 17.2568\n",
      "INFO:tensorflow:loss = 0.32151848, step = 28401 (5.796 sec)\n",
      "INFO:tensorflow:global_step/sec: 17.6251\n",
      "INFO:tensorflow:loss = 0.32130203, step = 28501 (5.673 sec)\n",
      "INFO:tensorflow:global_step/sec: 17.3395\n",
      "INFO:tensorflow:loss = 0.32192242, step = 28601 (5.768 sec)\n",
      "INFO:tensorflow:global_step/sec: 17.3184\n",
      "INFO:tensorflow:loss = 0.32175195, step = 28701 (5.774 sec)\n",
      "INFO:tensorflow:global_step/sec: 17.8801\n",
      "INFO:tensorflow:loss = 0.32104445, step = 28801 (5.593 sec)\n",
      "INFO:tensorflow:global_step/sec: 18.1696\n",
      "INFO:tensorflow:loss = 0.32107827, step = 28901 (5.504 sec)\n",
      "INFO:tensorflow:global_step/sec: 18.5132\n",
      "INFO:tensorflow:loss = 0.3215516, step = 29001 (5.401 sec)\n",
      "INFO:tensorflow:global_step/sec: 18.671\n",
      "INFO:tensorflow:loss = 0.3215022, step = 29101 (5.356 sec)\n",
      "INFO:tensorflow:global_step/sec: 18.2443\n",
      "INFO:tensorflow:loss = 0.345988, step = 29201 (5.481 sec)\n",
      "INFO:tensorflow:global_step/sec: 18.2865\n",
      "INFO:tensorflow:loss = 0.32140112, step = 29301 (5.469 sec)\n",
      "INFO:tensorflow:global_step/sec: 18.6786\n",
      "INFO:tensorflow:loss = 0.32173875, step = 29401 (5.353 sec)\n",
      "INFO:tensorflow:global_step/sec: 19.0251\n",
      "INFO:tensorflow:loss = 0.32680288, step = 29501 (5.256 sec)\n",
      "INFO:tensorflow:global_step/sec: 18.4873\n",
      "INFO:tensorflow:loss = 0.32550594, step = 29601 (5.410 sec)\n",
      "INFO:tensorflow:global_step/sec: 18.4322\n",
      "INFO:tensorflow:loss = 0.32108322, step = 29701 (5.424 sec)\n",
      "INFO:tensorflow:global_step/sec: 18.6745\n",
      "INFO:tensorflow:loss = 0.32546425, step = 29801 (5.355 sec)\n",
      "INFO:tensorflow:global_step/sec: 18.5708\n",
      "INFO:tensorflow:loss = 0.3211182, step = 29901 (5.385 sec)\n",
      "INFO:tensorflow:Saving checkpoints for 30000 into svm/model.ckpt.\n",
      "INFO:tensorflow:Loss for final step: 0.32187694.\n",
      "INFO:tensorflow:Created variable linear/bias_weight:0, with device=\n",
      "INFO:tensorflow:Graph was finalized.\n",
      "INFO:tensorflow:Restoring parameters from svm/model.ckpt-30000\n",
      "INFO:tensorflow:Running local_init_op.\n",
      "INFO:tensorflow:Done running local_init_op.\n"
     ]
    }
   ],
   "source": [
    "svm_model = svm.SVM(\n",
    "    example_id_column='PassengerId',\n",
    "    feature_columns=[tf.contrib.layers.real_valued_column(k) \n",
    "                     for k in list(train) \n",
    "                     if k not in ['Survived', 'PassengerId']],\n",
    "    model_dir='svm/')\n",
    "svm_model.fit(input_fn=train_input_fn, steps=10000)\n",
    "svm_pred = list(svm_model.predict_classes(input_fn=predict_input_fn))"
   ]
  },
  {
   "cell_type": "code",
   "execution_count": 40,
   "metadata": {},
   "outputs": [
    {
     "name": "stdout",
     "output_type": "stream",
     "text": [
      "SVM Report\n",
      "              precision    recall  f1-score   support\n",
      "\n",
      "Not Survived       0.83      0.84      0.84       129\n",
      "    Survived       0.78      0.76      0.77        94\n",
      "\n",
      "    accuracy                           0.81       223\n",
      "   macro avg       0.80      0.80      0.80       223\n",
      "weighted avg       0.81      0.81      0.81       223\n",
      "\n"
     ]
    }
   ],
   "source": [
    "print('SVM Report')\n",
    "print(classification_report(\n",
    "    test['Survived'], svm_pred, target_names=target_names))"
   ]
  },
  {
   "cell_type": "code",
   "execution_count": 41,
   "metadata": {},
   "outputs": [
    {
     "name": "stdout",
     "output_type": "stream",
     "text": [
      "SVM Confusion Matrix\n",
      "              Not Survived  Survived\n",
      "Not Survived           109        20\n",
      "Survived                23        71\n"
     ]
    }
   ],
   "source": [
    "cm = confusion_matrix(test['Survived'], svm_pred)\n",
    "df_cm = pd.DataFrame(cm, index=target_names, columns=target_names)\n",
    "print('SVM Confusion Matrix')\n",
    "print(df_cm)"
   ]
  },
  {
   "cell_type": "code",
   "execution_count": 42,
   "metadata": {},
   "outputs": [
    {
     "data": {
      "image/png": "[encoded data removed]",
      "text/plain": [
       "<Figure size 432x288 with 1 Axes>"
      ]
     },
     "metadata": {},
     "output_type": "display_data"
    }
   ],
   "source": [
    "sol = pd.DataFrame()\n",
    "sol['PassengerId'] = test['PassengerId']\n",
    "sol['Survived'] = pd.Series(svm_pred).values\n",
    "#sns.plt.suptitle('Titanic Survival Prediction using SVM in TensorFlow')\n",
    "count_plot = sns.countplot(sol.Survived)"
   ]
  },
  {
   "cell_type": "code",
   "execution_count": 43,
   "metadata": {},
   "outputs": [
    {
     "name": "stdout",
     "output_type": "stream",
     "text": [
      "Predicted Counts\n",
      "0    132\n",
      "1     91\n",
      "Name: Survived, dtype: int64\n"
     ]
    }
   ],
   "source": [
    "print('Predicted Counts')\n",
    "print(sol.Survived.value_counts())"
   ]
  },
  {
   "cell_type": "markdown",
   "metadata": {},
   "source": [
    "# Random Forest"
   ]
  },
  {
   "cell_type": "code",
   "execution_count": 48,
   "metadata": {},
   "outputs": [],
   "source": [
    "def build_rf_estimator(model_dir, feature_count):\n",
    "    params = tensor_forest.ForestHParams(num_classes=2, \n",
    "                                         num_features=feature_count, \n",
    "                                         num_trees=1000, \n",
    "                                         max_nodes=1000, \n",
    "                                         min_split_samples=10)\n",
    "    graph_builder_class = tensor_forest.RandomForestGraphs\n",
    "    return estimator.SKCompat(random_forest.TensorForestEstimator(\n",
    "        params, \n",
    "        graph_builder_class=graph_builder_class, \n",
    "        model_dir=model_dir))"
   ]
  },
  {
   "cell_type": "code",
   "execution_count": 49,
   "metadata": {
    "scrolled": true
   },
   "outputs": [
    {
     "name": "stdout",
     "output_type": "stream",
     "text": [
      "INFO:tensorflow:Using default config.\n",
      "INFO:tensorflow:Using config: {'_task_type': None, '_task_id': 0, '_cluster_spec': <tensorflow.python.training.server_lib.ClusterSpec object at 0x134f609e8>, '_master': '', '_num_ps_replicas': 0, '_num_worker_replicas': 0, '_environment': 'local', '_is_chief': True, '_evaluation_master': '', '_train_distribute': None, '_eval_distribute': None, '_device_fn': None, '_tf_config': gpu_options {\n",
      "  per_process_gpu_memory_fraction: 1.0\n",
      "}\n",
      ", '_tf_random_seed': None, '_save_summary_steps': 100, '_save_checkpoints_secs': 600, '_log_step_count_steps': 100, '_protocol': None, '_session_config': None, '_save_checkpoints_steps': None, '_keep_checkpoint_max': 5, '_keep_checkpoint_every_n_hours': 10000, '_model_dir': 'rf/'}\n",
      "INFO:tensorflow:Constructing forest with params = \n",
      "INFO:tensorflow:{'num_trees': 1000, 'max_nodes': 1000, 'bagging_fraction': 1.0, 'feature_bagging_fraction': 1.0, 'num_splits_to_consider': 10, 'max_fertile_nodes': 0, 'split_after_samples': 250, 'valid_leaf_threshold': 1, 'dominate_method': 'bootstrap', 'dominate_fraction': 0.99, 'model_name': 'all_dense', 'split_finish_name': 'basic', 'split_pruning_name': 'none', 'collate_examples': False, 'checkpoint_stats': False, 'use_running_stats_method': False, 'initialize_average_splits': False, 'inference_tree_paths': False, 'param_file': None, 'split_name': 'less_or_equal', 'early_finish_check_every_samples': 0, 'prune_every_samples': 0, 'num_classes': 2, 'num_features': 42, 'min_split_samples': 10, 'bagged_num_features': 42, 'bagged_features': None, 'regression': False, 'num_outputs': 1, 'num_output_columns': 3, 'base_random_seed': 0, 'leaf_model_type': 0, 'stats_model_type': 0, 'finish_type': 0, 'pruning_type': 0, 'split_type': 0}\n",
      "INFO:tensorflow:dense_features_size: 42 dense: [{name: features original_type: 0 size: 42}] sparse: []\n",
      "INFO:tensorflow:dense_features_size: 42 dense: [{name: features original_type: 0 size: 42}] sparse: []\n",
      "WARNING:tensorflow:From /usr/local/lib/python3.6/site-packages/tensorflow/contrib/tensor_forest/python/tensor_forest.py:606: to_int32 (from tensorflow.python.ops.math_ops) is deprecated and will be removed in a future version.\n",
      "Instructions for updating:\n",
      "Use tf.cast instead.\n",
      "WARNING:tensorflow:Casting <dtype: 'int8'> labels to bool.\n",
      "WARNING:tensorflow:Casting <dtype: 'int8'> labels to bool.\n",
      "WARNING:tensorflow:Trapezoidal rule is known to produce incorrect PR-AUCs; please switch to \"careful_interpolation\" instead.\n",
      "WARNING:tensorflow:Trapezoidal rule is known to produce incorrect PR-AUCs; please switch to \"careful_interpolation\" instead.\n",
      "INFO:tensorflow:Create CheckpointSaverHook.\n",
      "WARNING:tensorflow:Issue encountered when serializing resources.\n",
      "Type is unsupported, or the types of the items don't match field type in CollectionDef. Note this is a warning and probably safe to ignore.\n",
      "'_Resource' object has no attribute 'name'\n",
      "INFO:tensorflow:Graph was finalized.\n",
      "INFO:tensorflow:Running local_init_op.\n",
      "INFO:tensorflow:Done running local_init_op.\n",
      "WARNING:tensorflow:Issue encountered when serializing resources.\n",
      "Type is unsupported, or the types of the items don't match field type in CollectionDef. Note this is a warning and probably safe to ignore.\n",
      "'_Resource' object has no attribute 'name'\n",
      "INFO:tensorflow:Saving checkpoints for 0 into rf/model.ckpt.\n",
      "WARNING:tensorflow:Issue encountered when serializing resources.\n",
      "Type is unsupported, or the types of the items don't match field type in CollectionDef. Note this is a warning and probably safe to ignore.\n",
      "'_Resource' object has no attribute 'name'\n",
      "INFO:tensorflow:loss = 5.249895, step = 1\n",
      "INFO:tensorflow:TensorForestLossHook resetting last_step.\n",
      "INFO:tensorflow:global_step/sec: 11.6173\n",
      "INFO:tensorflow:loss = 0.29737422, step = 101 (8.609 sec)\n",
      "INFO:tensorflow:global_step/sec: 17.0464\n",
      "INFO:tensorflow:loss = 0.30622423, step = 201 (5.867 sec)\n",
      "INFO:tensorflow:global_step/sec: 14.495\n",
      "INFO:tensorflow:loss = 0.2874389, step = 301 (6.899 sec)\n",
      "INFO:tensorflow:global_step/sec: 12.3284\n",
      "INFO:tensorflow:loss = 0.29735875, step = 401 (8.111 sec)\n",
      "INFO:tensorflow:TensorForestLossHook requesting stop.\n",
      "INFO:tensorflow:Saving checkpoints for 430 into rf/model.ckpt.\n",
      "WARNING:tensorflow:Issue encountered when serializing resources.\n",
      "Type is unsupported, or the types of the items don't match field type in CollectionDef. Note this is a warning and probably safe to ignore.\n",
      "'_Resource' object has no attribute 'name'\n",
      "INFO:tensorflow:9: clean up resources: None\n",
      "INFO:tensorflow:Loss for final step: 0.24050072.\n",
      "INFO:tensorflow:Constructing forest with params = \n",
      "INFO:tensorflow:{'num_trees': 1000, 'max_nodes': 1000, 'bagging_fraction': 1.0, 'feature_bagging_fraction': 1.0, 'num_splits_to_consider': 10, 'max_fertile_nodes': 0, 'split_after_samples': 250, 'valid_leaf_threshold': 1, 'dominate_method': 'bootstrap', 'dominate_fraction': 0.99, 'model_name': 'all_dense', 'split_finish_name': 'basic', 'split_pruning_name': 'none', 'collate_examples': False, 'checkpoint_stats': False, 'use_running_stats_method': False, 'initialize_average_splits': False, 'inference_tree_paths': False, 'param_file': None, 'split_name': 'less_or_equal', 'early_finish_check_every_samples': 0, 'prune_every_samples': 0, 'num_classes': 2, 'num_features': 42, 'min_split_samples': 10, 'bagged_num_features': 42, 'bagged_features': None, 'regression': False, 'num_outputs': 1, 'num_output_columns': 3, 'base_random_seed': 0, 'leaf_model_type': 0, 'stats_model_type': 0, 'finish_type': 0, 'pruning_type': 0, 'split_type': 0, 'params_proto': pruning_type {\n",
      "  prune_every_samples {\n",
      "    constant_value: 0.0\n",
      "  }\n",
      "}\n",
      "finish_type {\n",
      "  check_every_steps {\n",
      "    constant_value: 0.0\n",
      "  }\n",
      "}\n",
      "num_trees: 1000\n",
      "max_nodes: 1000\n",
      "num_outputs: 2\n",
      "num_splits_to_consider {\n",
      "  constant_value: 10.0\n",
      "}\n",
      "split_after_samples {\n",
      "  constant_value: 250.0\n",
      "}\n",
      "dominate_fraction {\n",
      "  constant_value: 0.9900000095367432\n",
      "}\n",
      "num_features: 42\n",
      ", 'serialized_params_proto': b'\"\\x07\\n\\x05\\r\\x00\\x00\\x00\\x00*\\x07\\n\\x05\\r\\x00\\x00\\x00\\x000\\xe8\\x078\\xe8\\x07`\\x02j\\x05\\r\\x00\\x00 Ar\\x05\\r\\x00\\x00zCz\\x05\\r\\xa4p}?\\xa8\\x01*'}\n",
      "INFO:tensorflow:dense_features_size: 42 dense: [{name: features original_type: 0 size: 42}] sparse: []\n",
      "INFO:tensorflow:Graph was finalized.\n",
      "INFO:tensorflow:Restoring parameters from rf/model.ckpt-430\n",
      "INFO:tensorflow:Running local_init_op.\n",
      "INFO:tensorflow:Done running local_init_op.\n"
     ]
    }
   ],
   "source": [
    "rf = build_rf_estimator('rf/', feature_count)\n",
    "rf.fit(X_train, y_train, batch_size=100)\n",
    "rf_pred = rf.predict(X_test)\n",
    "rf_pred = rf_pred['classes']"
   ]
  },
  {
   "cell_type": "code",
   "execution_count": 52,
   "metadata": {},
   "outputs": [
    {
     "name": "stdout",
     "output_type": "stream",
     "text": [
      "Random Forest Report\n",
      "              precision    recall  f1-score   support\n",
      "\n",
      "Not Survived       0.84      0.88      0.86       129\n",
      "    Survived       0.82      0.77      0.79        94\n",
      "\n",
      "    accuracy                           0.83       223\n",
      "   macro avg       0.83      0.82      0.82       223\n",
      "weighted avg       0.83      0.83      0.83       223\n",
      "\n"
     ]
    }
   ],
   "source": [
    "target_names= ['Not Survived', 'Survived']\n",
    "print('Random Forest Report')\n",
    "print(classification_report(\n",
    "    test['Survived'], rf_pred, target_names=target_names))"
   ]
  },
  {
   "cell_type": "code",
   "execution_count": 53,
   "metadata": {},
   "outputs": [
    {
     "name": "stdout",
     "output_type": "stream",
     "text": [
      "Random Forest Confusion Matrix\n"
     ]
    },
    {
     "ename": "TypeError",
     "evalue": "'('Survived', array([1, 0, 0, 1, 0, 0, 0, 0, 1, 0, 1, 1, 1, 0, 0, 1, 0, 0, 1, 1, 0, 1,\n       1, 0, 0, 0, 1, 0, 0, 1, 0, 1, 0, 0, 0, 0, 0, 1, 0, 1, 0, 0, 0, 0,\n       0, 0, 1, 0, 0, 1, 1, 0, 1, 0, 0, 0, 1, 0, 0, 1, 0, 0, 0, 0, 0, 1,\n       0, 1, 1, 1, 0, 0, 1, 0, 1, 1, 1, 0, 1, 1, 1, 1, 1, 0, 1, 0, 1, 1,\n       0, 0, 1, 0, 0, 0, 0, 1, 0, 0, 0, 0, 1, 0, 1, 0, 0, 0, 0, 1, 0, 0,\n       0, 1, 0, 1, 0, 0, 0, 1, 1, 0, 0, 0, 0, 1, 1, 0, 1, 1, 0, 0, 1, 0,\n       1, 0, 0, 0, 1, 0, 0, 1, 1, 0, 1, 0, 0, 0, 0, 0, 1, 1, 1, 0, 1, 0,\n       0, 0, 1, 0, 0, 0, 0, 0, 0, 0, 1, 0, 0, 0, 0, 1, 0, 1, 0, 0, 0, 0,\n       1, 1, 1, 1, 0, 0, 0, 1, 1, 0, 0, 0, 0, 1, 1, 1, 1, 1, 1, 0, 0, 0,\n       1, 0, 1, 1, 0, 0, 1, 1, 0, 0, 0, 1, 0, 0, 1, 1, 0, 0, 1, 1, 0, 1,\n       0, 0, 0]))' is an invalid key",
     "output_type": "error",
     "traceback": [
      "\u001b[0;31m---------------------------------------------------------------------------\u001b[0m",
      "\u001b[0;31mTypeError\u001b[0m                                 Traceback (most recent call last)",
      "\u001b[0;32m<ipython-input-53-1274c7c4118e>\u001b[0m in \u001b[0;36m<module>\u001b[0;34m()\u001b[0m\n\u001b[1;32m      1\u001b[0m \u001b[0mprint\u001b[0m\u001b[0;34m(\u001b[0m\u001b[0;34m'Random Forest Confusion Matrix'\u001b[0m\u001b[0;34m)\u001b[0m\u001b[0;34m\u001b[0m\u001b[0m\n\u001b[0;32m----> 2\u001b[0;31m \u001b[0mcm\u001b[0m \u001b[0;34m=\u001b[0m \u001b[0mconfusion_matrix\u001b[0m\u001b[0;34m(\u001b[0m\u001b[0mtest\u001b[0m\u001b[0;34m[\u001b[0m\u001b[0;34m'Survived'\u001b[0m\u001b[0;34m,\u001b[0m \u001b[0mrf_pred\u001b[0m\u001b[0;34m]\u001b[0m\u001b[0;34m)\u001b[0m\u001b[0;34m\u001b[0m\u001b[0m\n\u001b[0m\u001b[1;32m      3\u001b[0m \u001b[0mdf_cm\u001b[0m \u001b[0;34m=\u001b[0m \u001b[0mpd\u001b[0m\u001b[0;34m.\u001b[0m\u001b[0mDataFrame\u001b[0m\u001b[0;34m(\u001b[0m\u001b[0mcm\u001b[0m\u001b[0;34m,\u001b[0m \u001b[0mindex\u001b[0m\u001b[0;34m=\u001b[0m\u001b[0mtarget_names\u001b[0m\u001b[0;34m,\u001b[0m \u001b[0mcolumns\u001b[0m\u001b[0;34m=\u001b[0m\u001b[0mtarget_names\u001b[0m\u001b[0;34m)\u001b[0m\u001b[0;34m\u001b[0m\u001b[0m\n",
      "\u001b[0;32m/usr/local/lib/python3.6/site-packages/pandas/core/frame.py\u001b[0m in \u001b[0;36m__getitem__\u001b[0;34m(self, key)\u001b[0m\n\u001b[1;32m   2925\u001b[0m             \u001b[0;32mif\u001b[0m \u001b[0mself\u001b[0m\u001b[0;34m.\u001b[0m\u001b[0mcolumns\u001b[0m\u001b[0;34m.\u001b[0m\u001b[0mnlevels\u001b[0m \u001b[0;34m>\u001b[0m \u001b[0;36m1\u001b[0m\u001b[0;34m:\u001b[0m\u001b[0;34m\u001b[0m\u001b[0m\n\u001b[1;32m   2926\u001b[0m                 \u001b[0;32mreturn\u001b[0m \u001b[0mself\u001b[0m\u001b[0;34m.\u001b[0m\u001b[0m_getitem_multilevel\u001b[0m\u001b[0;34m(\u001b[0m\u001b[0mkey\u001b[0m\u001b[0;34m)\u001b[0m\u001b[0;34m\u001b[0m\u001b[0m\n\u001b[0;32m-> 2927\u001b[0;31m             \u001b[0mindexer\u001b[0m \u001b[0;34m=\u001b[0m \u001b[0mself\u001b[0m\u001b[0;34m.\u001b[0m\u001b[0mcolumns\u001b[0m\u001b[0;34m.\u001b[0m\u001b[0mget_loc\u001b[0m\u001b[0;34m(\u001b[0m\u001b[0mkey\u001b[0m\u001b[0;34m)\u001b[0m\u001b[0;34m\u001b[0m\u001b[0m\n\u001b[0m\u001b[1;32m   2928\u001b[0m             \u001b[0;32mif\u001b[0m \u001b[0mis_integer\u001b[0m\u001b[0;34m(\u001b[0m\u001b[0mindexer\u001b[0m\u001b[0;34m)\u001b[0m\u001b[0;34m:\u001b[0m\u001b[0;34m\u001b[0m\u001b[0m\n\u001b[1;32m   2929\u001b[0m                 \u001b[0mindexer\u001b[0m \u001b[0;34m=\u001b[0m \u001b[0;34m[\u001b[0m\u001b[0mindexer\u001b[0m\u001b[0;34m]\u001b[0m\u001b[0;34m\u001b[0m\u001b[0m\n",
      "\u001b[0;32m/usr/local/lib/python3.6/site-packages/pandas/core/indexes/base.py\u001b[0m in \u001b[0;36mget_loc\u001b[0;34m(self, key, method, tolerance)\u001b[0m\n\u001b[1;32m   2654\u001b[0m                                  'backfill or nearest lookups')\n\u001b[1;32m   2655\u001b[0m             \u001b[0;32mtry\u001b[0m\u001b[0;34m:\u001b[0m\u001b[0;34m\u001b[0m\u001b[0m\n\u001b[0;32m-> 2656\u001b[0;31m                 \u001b[0;32mreturn\u001b[0m \u001b[0mself\u001b[0m\u001b[0;34m.\u001b[0m\u001b[0m_engine\u001b[0m\u001b[0;34m.\u001b[0m\u001b[0mget_loc\u001b[0m\u001b[0;34m(\u001b[0m\u001b[0mkey\u001b[0m\u001b[0;34m)\u001b[0m\u001b[0;34m\u001b[0m\u001b[0m\n\u001b[0m\u001b[1;32m   2657\u001b[0m             \u001b[0;32mexcept\u001b[0m \u001b[0mKeyError\u001b[0m\u001b[0;34m:\u001b[0m\u001b[0;34m\u001b[0m\u001b[0m\n\u001b[1;32m   2658\u001b[0m                 \u001b[0;32mreturn\u001b[0m \u001b[0mself\u001b[0m\u001b[0;34m.\u001b[0m\u001b[0m_engine\u001b[0m\u001b[0;34m.\u001b[0m\u001b[0mget_loc\u001b[0m\u001b[0;34m(\u001b[0m\u001b[0mself\u001b[0m\u001b[0;34m.\u001b[0m\u001b[0m_maybe_cast_indexer\u001b[0m\u001b[0;34m(\u001b[0m\u001b[0mkey\u001b[0m\u001b[0;34m)\u001b[0m\u001b[0;34m)\u001b[0m\u001b[0;34m\u001b[0m\u001b[0m\n",
      "\u001b[0;32mpandas/_libs/index.pyx\u001b[0m in \u001b[0;36mpandas._libs.index.IndexEngine.get_loc\u001b[0;34m()\u001b[0m\n",
      "\u001b[0;32mpandas/_libs/index.pyx\u001b[0m in \u001b[0;36mpandas._libs.index.IndexEngine.get_loc\u001b[0;34m()\u001b[0m\n",
      "\u001b[0;31mTypeError\u001b[0m: '('Survived', array([1, 0, 0, 1, 0, 0, 0, 0, 1, 0, 1, 1, 1, 0, 0, 1, 0, 0, 1, 1, 0, 1,\n       1, 0, 0, 0, 1, 0, 0, 1, 0, 1, 0, 0, 0, 0, 0, 1, 0, 1, 0, 0, 0, 0,\n       0, 0, 1, 0, 0, 1, 1, 0, 1, 0, 0, 0, 1, 0, 0, 1, 0, 0, 0, 0, 0, 1,\n       0, 1, 1, 1, 0, 0, 1, 0, 1, 1, 1, 0, 1, 1, 1, 1, 1, 0, 1, 0, 1, 1,\n       0, 0, 1, 0, 0, 0, 0, 1, 0, 0, 0, 0, 1, 0, 1, 0, 0, 0, 0, 1, 0, 0,\n       0, 1, 0, 1, 0, 0, 0, 1, 1, 0, 0, 0, 0, 1, 1, 0, 1, 1, 0, 0, 1, 0,\n       1, 0, 0, 0, 1, 0, 0, 1, 1, 0, 1, 0, 0, 0, 0, 0, 1, 1, 1, 0, 1, 0,\n       0, 0, 1, 0, 0, 0, 0, 0, 0, 0, 1, 0, 0, 0, 0, 1, 0, 1, 0, 0, 0, 0,\n       1, 1, 1, 1, 0, 0, 0, 1, 1, 0, 0, 0, 0, 1, 1, 1, 1, 1, 1, 0, 0, 0,\n       1, 0, 1, 1, 0, 0, 1, 1, 0, 0, 0, 1, 0, 0, 1, 1, 0, 0, 1, 1, 0, 1,\n       0, 0, 0]))' is an invalid key"
     ]
    }
   ],
   "source": [
    "print('Random Forest Confusion Matrix')\n",
    "cm = confusion_matrix(test['Survived', rf_pred])\n",
    "df_cm = pd.DataFrame(cm, index=target_names, columns=target_names)"
   ]
  },
  {
   "cell_type": "code",
   "execution_count": null,
   "metadata": {},
   "outputs": [],
   "source": []
  }
 ],
 "metadata": {
  "kernelspec": {
   "display_name": "Python 3",
   "language": "python",
   "name": "python3"
  },
  "language_info": {
   "codemirror_mode": {
    "name": "ipython",
    "version": 3
   },
   "file_extension": ".py",
   "mimetype": "text/x-python",
   "name": "python",
   "nbconvert_exporter": "python",
   "pygments_lexer": "ipython3",
   "version": "3.6.5"
  }
 },
 "nbformat": 4,
 "nbformat_minor": 2
}
