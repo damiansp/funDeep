{
 "cells": [
  {
   "cell_type": "code",
   "execution_count": 41,
   "metadata": {},
   "outputs": [],
   "source": [
    "import os\n",
    "import random\n",
    "import shutil\n",
    "\n",
    "#from feature import * ??? for 'features' defined here if in other file?\n",
    "import matplotlib.pyplot as plt\n",
    "import numpy as np\n",
    "import pandas as pd\n",
    "import seaborn as sns\n",
    "from sklearn.metrics import classification_report, confusion_matrix\n",
    "from sklearn.model_selection import train_test_split\n",
    "import tensorflow as tf\n",
    "from tensorflow.contrib.learn.python.learn.estimators import estimator, svm\n",
    "from tensorflow.contrib import learn"
   ]
  },
  {
   "cell_type": "code",
   "execution_count": 2,
   "metadata": {},
   "outputs": [
    {
     "name": "stdout",
     "output_type": "stream",
     "text": [
      "gender_submission.csv test.csv              train.csv\r\n"
     ]
    }
   ],
   "source": [
    "HOME = os.environ['HOME']\n",
    "DATA_DIR = f'{HOME}/Learning/neuralNet/data/kaggle/titanic'\n",
    "!ls $DATA_DIR"
   ]
  },
  {
   "cell_type": "code",
   "execution_count": 3,
   "metadata": {},
   "outputs": [
    {
     "name": "stdout",
     "output_type": "stream",
     "text": [
      "<class 'pandas.core.frame.DataFrame'>\n",
      "RangeIndex: 891 entries, 0 to 890\n",
      "Data columns (total 12 columns):\n",
      "PassengerId    891 non-null int64\n",
      "Survived       891 non-null int64\n",
      "Pclass         891 non-null int64\n",
      "Name           891 non-null object\n",
      "Sex            891 non-null object\n",
      "Age            714 non-null float64\n",
      "SibSp          891 non-null int64\n",
      "Parch          891 non-null int64\n",
      "Ticket         891 non-null object\n",
      "Fare           891 non-null float64\n",
      "Cabin          204 non-null object\n",
      "Embarked       889 non-null object\n",
      "dtypes: float64(2), int64(5), object(5)\n",
      "memory usage: 83.6+ KB\n",
      "None\n"
     ]
    }
   ],
   "source": [
    "train = pd.read_csv(f'{DATA_DIR}/train.csv')\n",
    "test = pd.read_csv(f'{DATA_DIR}/test.csv')\n",
    "print(train.info())"
   ]
  },
  {
   "cell_type": "code",
   "execution_count": 4,
   "metadata": {},
   "outputs": [
    {
     "name": "stdout",
     "output_type": "stream",
     "text": [
      "0    549\n",
      "1    342\n",
      "Name: Survived, dtype: int64\n",
      "0    0.616162\n",
      "1    0.383838\n",
      "Name: Survived, dtype: float64\n"
     ]
    }
   ],
   "source": [
    "print(train.Survived.value_counts())\n",
    "print(train.Survived.value_counts(normalize=True))"
   ]
  },
  {
   "cell_type": "code",
   "execution_count": 5,
   "metadata": {},
   "outputs": [
    {
     "data": {
      "image/png": "[encoded data removed]",
      "text/plain": [
       "<Figure size 432x288 with 1 Axes>"
      ]
     },
     "metadata": {},
     "output_type": "display_data"
    }
   ],
   "source": [
    "count_plot = sns.countplot(train.Survived)"
   ]
  },
  {
   "cell_type": "code",
   "execution_count": 6,
   "metadata": {},
   "outputs": [
    {
     "name": "stdout",
     "output_type": "stream",
     "text": [
      "Mr.          517\n",
      "Miss.        182\n",
      "Mrs.         125\n",
      "Master.       40\n",
      "Dr.            7\n",
      "Rev.           6\n",
      "Major.         2\n",
      "Mlle.          2\n",
      "Col.           2\n",
      "the            1\n",
      "Lady.          1\n",
      "Ms.            1\n",
      "Mme.           1\n",
      "Sir.           1\n",
      "Don.           1\n",
      "Capt.          1\n",
      "Jonkheer.      1\n",
      "Name: NameTitle, dtype: int64\n"
     ]
    }
   ],
   "source": [
    "train['NameTitle'] = train.Name\\\n",
    "    .apply(lambda x: x.split(',')[1])\\\n",
    "    .apply(lambda x: x.split()[0])\n",
    "print(train['NameTitle'].value_counts())"
   ]
  },
  {
   "cell_type": "code",
   "execution_count": 7,
   "metadata": {},
   "outputs": [
    {
     "name": "stdout",
     "output_type": "stream",
     "text": [
      "NameTitle\n",
      "Capt.        0.000000\n",
      "Col.         0.500000\n",
      "Don.         0.000000\n",
      "Dr.          0.428571\n",
      "Jonkheer.    0.000000\n",
      "Lady.        1.000000\n",
      "Major.       0.500000\n",
      "Master.      0.575000\n",
      "Miss.        0.697802\n",
      "Mlle.        1.000000\n",
      "Mme.         1.000000\n",
      "Mr.          0.156673\n",
      "Mrs.         0.792000\n",
      "Ms.          1.000000\n",
      "Rev.         0.000000\n",
      "Sir.         1.000000\n",
      "the          1.000000\n",
      "Name: Survived, dtype: float64\n"
     ]
    }
   ],
   "source": [
    "print(train.Survived.groupby(train.NameTitle).mean())"
   ]
  },
  {
   "cell_type": "code",
   "execution_count": 8,
   "metadata": {},
   "outputs": [
    {
     "data": {
      "text/plain": [
       "Sex\n",
       "female    0.742038\n",
       "male      0.188908\n",
       "Name: Survived, dtype: float64"
      ]
     },
     "execution_count": 8,
     "metadata": {},
     "output_type": "execute_result"
    }
   ],
   "source": [
    "train.Survived.groupby(train.Sex).mean()"
   ]
  },
  {
   "cell_type": "code",
   "execution_count": 9,
   "metadata": {},
   "outputs": [
    {
     "data": {
      "text/plain": [
       "CabinLetter\n",
       "A    0.466667\n",
       "B    0.744681\n",
       "C    0.593220\n",
       "D    0.757576\n",
       "E    0.750000\n",
       "F    0.615385\n",
       "G    0.500000\n",
       "T    0.000000\n",
       "n    0.299854\n",
       "Name: Survived, dtype: float64"
      ]
     },
     "execution_count": 9,
     "metadata": {},
     "output_type": "execute_result"
    }
   ],
   "source": [
    "train['CabinLetter'] = train.Cabin.apply(lambda x: str(x)[0])\n",
    "train.Survived.groupby(train.CabinLetter).mean()"
   ]
  },
  {
   "cell_type": "code",
   "execution_count": 10,
   "metadata": {},
   "outputs": [
    {
     "data": {
      "text/plain": [
       "Embarked\n",
       "C    0.553571\n",
       "Q    0.389610\n",
       "S    0.336957\n",
       "Name: Survived, dtype: float64"
      ]
     },
     "execution_count": 10,
     "metadata": {},
     "output_type": "execute_result"
    }
   ],
   "source": [
    "train.Survived.groupby(train.Embarked).mean()"
   ]
  },
  {
   "cell_type": "code",
   "execution_count": 11,
   "metadata": {},
   "outputs": [
    {
     "data": {
      "image/png": "[encoded data removed]",
      "text/plain": [
       "<Figure size 432x288 with 1 Axes>"
      ]
     },
     "metadata": {},
     "output_type": "display_data"
    }
   ],
   "source": [
    "sns.countplot(train.Embarked, hue=train.Pclass);"
   ]
  },
  {
   "cell_type": "code",
   "execution_count": 12,
   "metadata": {},
   "outputs": [],
   "source": [
    "def create_name_feat(train, test):\n",
    "    for i in [train, test]:\n",
    "        i['Name_Len'] = i['Name'].apply(len)\n",
    "        i['Name_Title'] = i['Name'].apply(lambda x: x.split(',')[1])\\\n",
    "            .apply(lambda x: x.split()[0])\n",
    "        del i['Name']\n",
    "    return train, test"
   ]
  },
  {
   "cell_type": "code",
   "execution_count": 13,
   "metadata": {},
   "outputs": [],
   "source": [
    "def age_impute(train, test):\n",
    "    for i in [train, test]:\n",
    "        i['Age_Null_Flag'] = i['Age'].apply(\n",
    "            lambda x: 1 if pd.isnull(x) else 0)\n",
    "        data = train.groupby(['Name_Title', 'Pclass'])['Age']\n",
    "        i['Age'] = data.transform(lambda x: x.fillna(x.median()))\n",
    "    return train, test"
   ]
  },
  {
   "cell_type": "code",
   "execution_count": 14,
   "metadata": {},
   "outputs": [],
   "source": [
    "def fam_size(train, test):\n",
    "    for i in [train, test]:\n",
    "        i['Fam_Size'] = np.where(\n",
    "            (i['SibSp'] + i['Parch']) == 0, 'One',\n",
    "            np.where((i['SibSp'] + i['Parch']) <= 3, 'Small', 'Big'))\n",
    "        del i['SibSp']\n",
    "        del i['Parch']\n",
    "    return train, test\n",
    "        "
   ]
  },
  {
   "cell_type": "code",
   "execution_count": 15,
   "metadata": {},
   "outputs": [],
   "source": [
    "def ticket_grouped(train, test):\n",
    "    for i in [train, test]:\n",
    "        i['Ticket_Letr'] = i['Ticket'].apply(lambda x: str(x)[0])\n",
    "        i['Ticket_Letr'] = i['Ticket_Letr'].apply(str)\n",
    "        i['Ticket_Letr'] = np.where(\n",
    "            (i['Ticket_Letr']).isin(['1', '2', '3', 'S', 'P', 'C', 'A']),\n",
    "            i['Ticket_Letr'],\n",
    "            np.where((i['Ticket_Letr'])\\\n",
    "                         .isin(['W', '4', '7', '6', 'L', '5', '8']),\n",
    "                     'Low_ticket', \n",
    "                     'Other_ticket'))\n",
    "        i['Ticket_Len'] = i['Ticket'].apply(len)\n",
    "        del i['Ticket']\n",
    "    return train, test"
   ]
  },
  {
   "cell_type": "code",
   "execution_count": 16,
   "metadata": {},
   "outputs": [],
   "source": [
    "def cabin(train, test):\n",
    "    for i in [train, test]:\n",
    "        i['Cabin_Letter'] = i['Cabin'].apply(lambda x: str(x)[0])\n",
    "        del i['Cabin']\n",
    "    return train, test"
   ]
  },
  {
   "cell_type": "code",
   "execution_count": 17,
   "metadata": {},
   "outputs": [],
   "source": [
    "def embarked_impute(train, test):\n",
    "    for i in [train, test]:\n",
    "        i['Embarked'] = i['Embarked'].fillna('S')\n",
    "    return train, test"
   ]
  },
  {
   "cell_type": "code",
   "execution_count": 18,
   "metadata": {},
   "outputs": [],
   "source": [
    "def dummies(\n",
    "        train, test, \n",
    "        columns=['Pclass', 'Sex', 'Embarked', 'Ticket_Letr', \n",
    "                 'Cabin_Letter', 'Name_Title', 'Fam_Size']):\n",
    "    for column in columns:\n",
    "        train[column] = train[column].apply(str)\n",
    "        test[column] = train[column].apply(str)\n",
    "        good_cols = [column + '_' + i for i in train[column].unique() \n",
    "                     if i in test[column].unique()]\n",
    "        train = pd.concat(\n",
    "            (train, \n",
    "             pd.get_dummies(train[column], prefix=column)[good_cols]),\n",
    "            axis=1)\n",
    "        test = pd.concat(\n",
    "            (test, \n",
    "             pd.get_dummies(test[column], prefix=column)[good_cols]),\n",
    "            axis=1)\n",
    "        del train[column]\n",
    "        del test[column]\n",
    "    return train, test"
   ]
  },
  {
   "cell_type": "code",
   "execution_count": 19,
   "metadata": {},
   "outputs": [],
   "source": [
    "def PrepareTarget(data):\n",
    "    return np.array(data.Survived, dtype='int8').reshape(-1, 1)"
   ]
  },
  {
   "cell_type": "markdown",
   "metadata": {},
   "source": [
    "# Logistic Regression\n",
    "### Using `tf.contrib`"
   ]
  },
  {
   "cell_type": "markdown",
   "metadata": {},
   "source": [
    "```\n",
    "model_params = {'learning_rate': LEARNING_RATE}\n",
    "nn = tf.contrib.learn.Estimator(model_fn=model_fn, \n",
    "                                params=model_params)\n",
    "```"
   ]
  },
  {
   "cell_type": "code",
   "execution_count": 20,
   "metadata": {},
   "outputs": [],
   "source": [
    "random.seed(1103)\n",
    "train = pd.read_csv(f'{DATA_DIR}/train.csv')\n",
    "test = pd.read_csv(f'{DATA_DIR}/test.csv')"
   ]
  },
  {
   "cell_type": "code",
   "execution_count": 21,
   "metadata": {},
   "outputs": [],
   "source": [
    "train, test = create_name_feat(train, test)\n",
    "train, test = age_impute(train, test)\n",
    "train, test = cabin(train, test)\n",
    "train, test = embarked_impute(train, test)\n",
    "train, test = fam_size(train, test)\n",
    "test['Fare'].fillna(train['Fare'].median(), inplace=True)\n",
    "train, test = ticket_grouped(train, test)"
   ]
  },
  {
   "cell_type": "code",
   "execution_count": 22,
   "metadata": {},
   "outputs": [],
   "source": [
    "train, test = dummies(train, test)"
   ]
  },
  {
   "cell_type": "code",
   "execution_count": 23,
   "metadata": {},
   "outputs": [],
   "source": [
    "TEST = True\n",
    "if TEST:\n",
    "    train, test = train_test_split(train, test_size=0.25, random_state=110)\n",
    "    train = train.sort_values('PassengerId')\n",
    "    test = test.sort_values('PassengerId')\n",
    "    \n",
    "X_train = train.iloc[:, 1:]\n",
    "X_test = test.iloc[:, 1:]"
   ]
  },
  {
   "cell_type": "code",
   "execution_count": 24,
   "metadata": {},
   "outputs": [],
   "source": [
    "X_train = np.array(X_train.iloc[:, 1:], dtype='float32')\n",
    "\n",
    "if TEST:\n",
    "    X_test = np.array(X_test.iloc[:, 1:], dtype='float32')\n",
    "else:\n",
    "    X_test = np.array(X_test, dtype='float32')"
   ]
  },
  {
   "cell_type": "code",
   "execution_count": 25,
   "metadata": {},
   "outputs": [],
   "source": [
    "y_train = PrepareTarget(train)"
   ]
  },
  {
   "cell_type": "code",
   "execution_count": 26,
   "metadata": {},
   "outputs": [],
   "source": [
    "feature_count = X_train.shape[1]"
   ]
  },
  {
   "cell_type": "code",
   "execution_count": 29,
   "metadata": {},
   "outputs": [],
   "source": [
    "def build_lr_estimator(model_dir, feature_count):\n",
    "    return estimator.SKCompat(learn.LinearClassifier(\n",
    "        feature_columns=[\n",
    "            tf.contrib.layers.real_valued_column(\n",
    "                '', dimension=feature_count)],\n",
    "        n_classes=2,\n",
    "        model_dir=model_dir))"
   ]
  },
  {
   "cell_type": "code",
   "execution_count": 31,
   "metadata": {},
   "outputs": [
    {
     "name": "stdout",
     "output_type": "stream",
     "text": [
      "Training...\n",
      "INFO:tensorflow:Using default config.\n",
      "INFO:tensorflow:Using config: {'_task_type': None, '_task_id': 0, '_cluster_spec': <tensorflow.python.training.server_lib.ClusterSpec object at 0x12d95d780>, '_master': '', '_num_ps_replicas': 0, '_num_worker_replicas': 0, '_environment': 'local', '_is_chief': True, '_evaluation_master': '', '_train_distribute': None, '_eval_distribute': None, '_device_fn': None, '_tf_config': gpu_options {\n",
      "  per_process_gpu_memory_fraction: 1.0\n",
      "}\n",
      ", '_tf_random_seed': None, '_save_summary_steps': 100, '_save_checkpoints_secs': 600, '_log_step_count_steps': 100, '_protocol': None, '_session_config': None, '_save_checkpoints_steps': None, '_keep_checkpoint_max': 5, '_keep_checkpoint_every_n_hours': 10000, '_model_dir': 'lr/'}\n",
      "WARNING:tensorflow:From /usr/local/lib/python3.6/site-packages/tensorflow/contrib/learn/python/learn/estimators/estimator.py:143: setup_train_data_feeder (from tensorflow.contrib.learn.python.learn.learn_io.data_feeder) is deprecated and will be removed in a future version.\n",
      "Instructions for updating:\n",
      "Please use tensorflow/transform or tf.data.\n",
      "WARNING:tensorflow:From /usr/local/lib/python3.6/site-packages/tensorflow/contrib/learn/python/learn/learn_io/data_feeder.py:96: extract_dask_data (from tensorflow.contrib.learn.python.learn.learn_io.dask_io) is deprecated and will be removed in a future version.\n",
      "Instructions for updating:\n",
      "Please feed input to tf.data to support dask.\n",
      "WARNING:tensorflow:From /usr/local/lib/python3.6/site-packages/tensorflow/contrib/learn/python/learn/learn_io/data_feeder.py:98: extract_dask_labels (from tensorflow.contrib.learn.python.learn.learn_io.dask_io) is deprecated and will be removed in a future version.\n",
      "Instructions for updating:\n",
      "Please feed input to tf.data to support dask.\n",
      "WARNING:tensorflow:From /usr/local/lib/python3.6/site-packages/tensorflow/contrib/learn/python/learn/learn_io/data_feeder.py:100: extract_pandas_data (from tensorflow.contrib.learn.python.learn.learn_io.pandas_io) is deprecated and will be removed in a future version.\n",
      "Instructions for updating:\n",
      "Please access pandas data directly.\n",
      "WARNING:tensorflow:From /usr/local/lib/python3.6/site-packages/tensorflow/contrib/learn/python/learn/learn_io/data_feeder.py:102: extract_pandas_labels (from tensorflow.contrib.learn.python.learn.learn_io.pandas_io) is deprecated and will be removed in a future version.\n",
      "Instructions for updating:\n",
      "Please access pandas data directly.\n",
      "WARNING:tensorflow:From /usr/local/lib/python3.6/site-packages/tensorflow/contrib/learn/python/learn/learn_io/data_feeder.py:159: DataFeeder.__init__ (from tensorflow.contrib.learn.python.learn.learn_io.data_feeder) is deprecated and will be removed in a future version.\n",
      "Instructions for updating:\n",
      "Please use tensorflow/transform or tf.data.\n",
      "WARNING:tensorflow:From /usr/local/lib/python3.6/site-packages/tensorflow/contrib/learn/python/learn/learn_io/data_feeder.py:340: check_array (from tensorflow.contrib.learn.python.learn.learn_io.data_feeder) is deprecated and will be removed in a future version.\n",
      "Instructions for updating:\n",
      "Please convert numpy dtypes explicitly.\n",
      "WARNING:tensorflow:From /usr/local/lib/python3.6/site-packages/tensorflow/python/framework/op_def_library.py:263: colocate_with (from tensorflow.python.framework.ops) is deprecated and will be removed in a future version.\n",
      "Instructions for updating:\n",
      "Colocations handled automatically by placer.\n",
      "WARNING:tensorflow:From /usr/local/lib/python3.6/site-packages/tensorflow/contrib/layers/python/layers/feature_column.py:1874: to_float (from tensorflow.python.ops.math_ops) is deprecated and will be removed in a future version.\n",
      "Instructions for updating:\n",
      "Use tf.cast instead.\n",
      "WARNING:tensorflow:Casting <dtype: 'int8'> labels to bool.\n",
      "WARNING:tensorflow:From /usr/local/lib/python3.6/site-packages/tensorflow/python/ops/metrics_impl.py:788: div (from tensorflow.python.ops.math_ops) is deprecated and will be removed in a future version.\n",
      "Instructions for updating:\n",
      "Deprecated in favor of operator or tf.math.divide.\n",
      "WARNING:tensorflow:Casting <dtype: 'int8'> labels to bool.\n",
      "WARNING:tensorflow:Trapezoidal rule is known to produce incorrect PR-AUCs; please switch to \"careful_interpolation\" instead.\n",
      "WARNING:tensorflow:Trapezoidal rule is known to produce incorrect PR-AUCs; please switch to \"careful_interpolation\" instead.\n",
      "WARNING:tensorflow:From /usr/local/lib/python3.6/site-packages/tensorflow/contrib/learn/python/learn/estimators/head.py:677: ModelFnOps.__new__ (from tensorflow.contrib.learn.python.learn.estimators.model_fn) is deprecated and will be removed in a future version.\n",
      "Instructions for updating:\n",
      "When switching to tf.estimator.Estimator, use tf.estimator.EstimatorSpec. You can use the `estimator_spec` method to create an equivalent one.\n",
      "INFO:tensorflow:Create CheckpointSaverHook.\n",
      "INFO:tensorflow:Graph was finalized.\n",
      "INFO:tensorflow:Running local_init_op.\n",
      "INFO:tensorflow:Done running local_init_op.\n",
      "INFO:tensorflow:Saving checkpoints for 0 into lr/model.ckpt.\n",
      "INFO:tensorflow:loss = 0.6931473, step = 1\n",
      "INFO:tensorflow:global_step/sec: 864.657\n",
      "INFO:tensorflow:loss = 0.52068955, step = 101 (0.116 sec)\n",
      "INFO:tensorflow:global_step/sec: 1284.22\n",
      "INFO:tensorflow:loss = 0.47202414, step = 201 (0.078 sec)\n",
      "INFO:tensorflow:global_step/sec: 1299.65\n",
      "INFO:tensorflow:loss = 0.3573994, step = 301 (0.077 sec)\n",
      "INFO:tensorflow:global_step/sec: 1341.76\n",
      "INFO:tensorflow:loss = 0.33633006, step = 401 (0.075 sec)\n",
      "INFO:tensorflow:global_step/sec: 1272.01\n",
      "INFO:tensorflow:loss = 0.3832652, step = 501 (0.079 sec)\n",
      "INFO:tensorflow:global_step/sec: 1279.08\n",
      "INFO:tensorflow:loss = 0.30436784, step = 601 (0.078 sec)\n",
      "INFO:tensorflow:global_step/sec: 1291.16\n",
      "INFO:tensorflow:loss = 0.38668656, step = 701 (0.077 sec)\n",
      "INFO:tensorflow:global_step/sec: 1252.46\n",
      "INFO:tensorflow:loss = 0.32220596, step = 801 (0.080 sec)\n",
      "INFO:tensorflow:global_step/sec: 1172.1\n",
      "INFO:tensorflow:loss = 0.597625, step = 901 (0.086 sec)\n",
      "INFO:tensorflow:Saving checkpoints for 1000 into lr/model.ckpt.\n",
      "INFO:tensorflow:Loss for final step: 0.35219735.\n",
      "INFO:tensorflow:Graph was finalized.\n",
      "WARNING:tensorflow:From /usr/local/lib/python3.6/site-packages/tensorflow/python/training/saver.py:1266: checkpoint_exists (from tensorflow.python.training.checkpoint_management) is deprecated and will be removed in a future version.\n",
      "Instructions for updating:\n",
      "Use standard file APIs to check for files with this prefix.\n",
      "INFO:tensorflow:Restoring parameters from lr/model.ckpt-1000\n",
      "INFO:tensorflow:Running local_init_op.\n",
      "INFO:tensorflow:Done running local_init_op.\n"
     ]
    }
   ],
   "source": [
    "print('Training...')\n",
    "try:\n",
    "    shutil.rmtree('lr/')\n",
    "except OSError:\n",
    "    pass\n",
    "\n",
    "lr = build_lr_estimator('lr/', feature_count)\n",
    "lr.fit(X_train, y_train, steps=1000)\n",
    "lr_pred = lr.predict(X_test)\n",
    "lr_pred = lr_pred['classes']"
   ]
  },
  {
   "cell_type": "code",
   "execution_count": 33,
   "metadata": {},
   "outputs": [
    {
     "name": "stdout",
     "output_type": "stream",
     "text": [
      "Logistic Regression Report\n",
      "              precision    recall  f1-score   support\n",
      "\n",
      "Not Survived       0.86      0.89      0.87       129\n",
      "    Survived       0.84      0.80      0.82        94\n",
      "\n",
      "    accuracy                           0.85       223\n",
      "   macro avg       0.85      0.84      0.85       223\n",
      "weighted avg       0.85      0.85      0.85       223\n",
      "\n"
     ]
    }
   ],
   "source": [
    "if TEST:\n",
    "    target_names= ['Not Survived', 'Survived']\n",
    "    print('Logistic Regression Report')\n",
    "    print(classification_report(\n",
    "        test['Survived'], lr_pred, target_names=target_names))"
   ]
  },
  {
   "cell_type": "code",
   "execution_count": 34,
   "metadata": {},
   "outputs": [
    {
     "name": "stdout",
     "output_type": "stream",
     "text": [
      "Logistic Regression Confusion Matrix\n",
      "              Not Survived  Survived\n",
      "Not Survived           115        14\n",
      "Survived                19        75\n"
     ]
    }
   ],
   "source": [
    "cm = confusion_matrix(test['Survived'], lr_pred)\n",
    "df_cm = pd.DataFrame(cm, index=target_names, columns=target_names)\n",
    "print('Logistic Regression Confusion Matrix')\n",
    "print(df_cm)"
   ]
  },
  {
   "cell_type": "code",
   "execution_count": 52,
   "metadata": {},
   "outputs": [
    {
     "data": {
      "image/png": "[encoded data removed]",
      "text/plain": [
       "<Figure size 432x288 with 1 Axes>"
      ]
     },
     "metadata": {},
     "output_type": "display_data"
    }
   ],
   "source": [
    "sol = pd.DataFrame()\n",
    "sol['PassengerId'] = test['PassengerId']\n",
    "sol['Survived'] = pd.Series(lr_pred.reshape(-1)).map({True: 1, False: 0})\\\n",
    "    .values\n",
    "#sns.plt.suptitle('Predicted Suvived LR')\n",
    "count_plot = sns.countplot(sol.Survived)\n",
    "#count_plot.get_figure().savefig('survived_count_lr_prd.png')"
   ]
  },
  {
   "cell_type": "code",
   "execution_count": 40,
   "metadata": {},
   "outputs": [
    {
     "name": "stdout",
     "output_type": "stream",
     "text": [
      "Predicted Counts\n",
      "0    134\n",
      "1     89\n",
      "Name: Survived, dtype: int64\n"
     ]
    }
   ],
   "source": [
    "print('Predicted Counts')\n",
    "print(sol.Survived.value_counts())"
   ]
  },
  {
   "cell_type": "code",
   "execution_count": 42,
   "metadata": {},
   "outputs": [],
   "source": [
    "train['PassengerId'] = train['PassengerId'].astype(str)\n",
    "test['PassengerId'] = test['PassengerId'].astype(str)"
   ]
  },
  {
   "cell_type": "code",
   "execution_count": 48,
   "metadata": {},
   "outputs": [],
   "source": [
    "def train_input_fn():\n",
    "    continuous_cols = {k: tf.expand_dims(tf.constant(train[k].values), 1)\n",
    "                       for k in list(train) \n",
    "                       if k not in ['Survived', 'PassengerId']}\n",
    "    id_col = {'PassengerId': tf.constant(train['PassengerId'].values)}\n",
    "    feature_cols = continuous_cols.copy()\n",
    "    feature_cols.update(id_col)\n",
    "    label = tf.constant(train['Survived'].values)\n",
    "    return feature_cols, label"
   ]
  },
  {
   "cell_type": "code",
   "execution_count": 55,
   "metadata": {},
   "outputs": [],
   "source": [
    "def predict_input_fn():\n",
    "    continuous_cols = {k: tf.expand_dims(tf.constant(test[k].values), 1)\n",
    "                       for k in list(test) \n",
    "                       if k not in ['Survived', 'PassengerId']}\n",
    "    id_col = {'PassengerId': tf.constant(test['PassengerId'].values)}\n",
    "    feature_cols = continuous_cols.copy()\n",
    "    feature_cols.update(id_col)\n",
    "    return feature_cols"
   ]
  },
  {
   "cell_type": "code",
   "execution_count": 56,
   "metadata": {},
   "outputs": [
    {
     "name": "stdout",
     "output_type": "stream",
     "text": [
      "INFO:tensorflow:Using default config.\n",
      "INFO:tensorflow:Using config: {'_task_type': None, '_task_id': 0, '_cluster_spec': <tensorflow.python.training.server_lib.ClusterSpec object at 0x12dca0a90>, '_master': '', '_num_ps_replicas': 0, '_num_worker_replicas': 0, '_environment': 'local', '_is_chief': True, '_evaluation_master': '', '_train_distribute': None, '_eval_distribute': None, '_device_fn': None, '_tf_config': gpu_options {\n",
      "  per_process_gpu_memory_fraction: 1.0\n",
      "}\n",
      ", '_tf_random_seed': None, '_save_summary_steps': 100, '_save_checkpoints_secs': 600, '_log_step_count_steps': 100, '_protocol': None, '_session_config': None, '_save_checkpoints_steps': None, '_keep_checkpoint_max': 5, '_keep_checkpoint_every_n_hours': 10000, '_model_dir': 'svm/'}\n",
      "INFO:tensorflow:Created variable linear/bias_weight:0, with device=\n",
      "INFO:tensorflow:Create CheckpointSaverHook.\n",
      "INFO:tensorflow:Graph was finalized.\n",
      "INFO:tensorflow:Restoring parameters from svm/model.ckpt-10000\n",
      "WARNING:tensorflow:From /usr/local/lib/python3.6/site-packages/tensorflow/python/training/saver.py:1070: get_checkpoint_mtimes (from tensorflow.python.training.checkpoint_management) is deprecated and will be removed in a future version.\n",
      "Instructions for updating:\n",
      "Use standard file utilities to get mtimes.\n",
      "INFO:tensorflow:Running local_init_op.\n",
      "INFO:tensorflow:Done running local_init_op.\n",
      "INFO:tensorflow:Saving checkpoints for 10000 into svm/model.ckpt.\n",
      "INFO:tensorflow:loss = 0.3252158, step = 10001\n",
      "INFO:tensorflow:global_step/sec: 15.8865\n",
      "INFO:tensorflow:loss = 0.32353783, step = 10101 (6.296 sec)\n",
      "INFO:tensorflow:global_step/sec: 16.1224\n",
      "INFO:tensorflow:loss = 0.32323602, step = 10201 (6.203 sec)\n",
      "INFO:tensorflow:global_step/sec: 16.4221\n",
      "INFO:tensorflow:loss = 0.33381066, step = 10301 (6.089 sec)\n",
      "INFO:tensorflow:global_step/sec: 16.4815\n",
      "INFO:tensorflow:loss = 0.32534972, step = 10401 (6.067 sec)\n",
      "INFO:tensorflow:global_step/sec: 16.0661\n",
      "INFO:tensorflow:loss = 0.3366571, step = 10501 (6.224 sec)\n",
      "INFO:tensorflow:global_step/sec: 15.7373\n",
      "INFO:tensorflow:loss = 0.32366422, step = 10601 (6.354 sec)\n",
      "INFO:tensorflow:global_step/sec: 15.8043\n",
      "INFO:tensorflow:loss = 0.32353124, step = 10701 (6.327 sec)\n",
      "INFO:tensorflow:global_step/sec: 16.0214\n",
      "INFO:tensorflow:loss = 0.34153947, step = 10801 (6.242 sec)\n",
      "INFO:tensorflow:global_step/sec: 16.1445\n",
      "INFO:tensorflow:loss = 0.32426876, step = 10901 (6.194 sec)\n",
      "INFO:tensorflow:global_step/sec: 16.1481\n",
      "INFO:tensorflow:loss = 0.32731783, step = 11001 (6.193 sec)\n",
      "INFO:tensorflow:global_step/sec: 16.057\n",
      "INFO:tensorflow:loss = 0.32281655, step = 11101 (6.228 sec)\n",
      "INFO:tensorflow:global_step/sec: 16.0346\n",
      "INFO:tensorflow:loss = 0.32808328, step = 11201 (6.236 sec)\n",
      "INFO:tensorflow:global_step/sec: 15.9621\n",
      "INFO:tensorflow:loss = 0.32720295, step = 11301 (6.265 sec)\n",
      "INFO:tensorflow:global_step/sec: 16.0282\n",
      "INFO:tensorflow:loss = 0.3488955, step = 11401 (6.240 sec)\n",
      "INFO:tensorflow:global_step/sec: 15.5124\n",
      "INFO:tensorflow:loss = 0.3233747, step = 11501 (6.446 sec)\n",
      "INFO:tensorflow:global_step/sec: 16.0803\n",
      "INFO:tensorflow:loss = 0.32493842, step = 11601 (6.219 sec)\n",
      "INFO:tensorflow:global_step/sec: 16.0713\n",
      "INFO:tensorflow:loss = 0.32692665, step = 11701 (6.222 sec)\n",
      "INFO:tensorflow:global_step/sec: 16.0763\n",
      "INFO:tensorflow:loss = 0.3233239, step = 11801 (6.220 sec)\n",
      "INFO:tensorflow:global_step/sec: 15.9573\n",
      "INFO:tensorflow:loss = 0.38968986, step = 11901 (6.267 sec)\n",
      "INFO:tensorflow:global_step/sec: 15.9175\n",
      "INFO:tensorflow:loss = 0.32457152, step = 12001 (6.283 sec)\n",
      "INFO:tensorflow:global_step/sec: 16.0251\n",
      "INFO:tensorflow:loss = 0.32276884, step = 12101 (6.241 sec)\n",
      "INFO:tensorflow:global_step/sec: 16.0194\n",
      "INFO:tensorflow:loss = 0.32283357, step = 12201 (6.242 sec)\n",
      "INFO:tensorflow:global_step/sec: 16.086\n",
      "INFO:tensorflow:loss = 0.32313204, step = 12301 (6.216 sec)\n",
      "INFO:tensorflow:global_step/sec: 16.0889\n",
      "INFO:tensorflow:loss = 0.3485245, step = 12401 (6.216 sec)\n",
      "INFO:tensorflow:global_step/sec: 15.8556\n",
      "INFO:tensorflow:loss = 0.3245952, step = 12501 (6.306 sec)\n",
      "INFO:tensorflow:global_step/sec: 15.9525\n",
      "INFO:tensorflow:loss = 0.32668093, step = 12601 (6.269 sec)\n",
      "INFO:tensorflow:global_step/sec: 15.905\n",
      "INFO:tensorflow:loss = 0.32283995, step = 12701 (6.287 sec)\n",
      "INFO:tensorflow:global_step/sec: 16.0134\n",
      "INFO:tensorflow:loss = 0.32231852, step = 12801 (6.245 sec)\n",
      "INFO:tensorflow:global_step/sec: 16.0479\n",
      "INFO:tensorflow:loss = 0.32431173, step = 12901 (6.232 sec)\n",
      "INFO:tensorflow:global_step/sec: 15.9903\n",
      "INFO:tensorflow:loss = 0.32408357, step = 13001 (6.254 sec)\n",
      "INFO:tensorflow:global_step/sec: 16.0447\n",
      "INFO:tensorflow:loss = 0.33086076, step = 13101 (6.233 sec)\n",
      "INFO:tensorflow:global_step/sec: 16.0371\n",
      "INFO:tensorflow:loss = 0.32273743, step = 13201 (6.235 sec)\n",
      "INFO:tensorflow:global_step/sec: 16.0249\n",
      "INFO:tensorflow:loss = 0.32217222, step = 13301 (6.240 sec)\n",
      "INFO:tensorflow:global_step/sec: 15.9072\n",
      "INFO:tensorflow:loss = 0.3227701, step = 13401 (6.286 sec)\n",
      "INFO:tensorflow:global_step/sec: 16.2248\n",
      "INFO:tensorflow:loss = 0.32464156, step = 13501 (6.164 sec)\n",
      "INFO:tensorflow:global_step/sec: 16.4995\n",
      "INFO:tensorflow:loss = 0.3275477, step = 13601 (6.062 sec)\n",
      "INFO:tensorflow:global_step/sec: 16.5662\n",
      "INFO:tensorflow:loss = 0.32543093, step = 13701 (6.035 sec)\n",
      "INFO:tensorflow:global_step/sec: 15.9546\n",
      "INFO:tensorflow:loss = 0.32518893, step = 13801 (6.268 sec)\n",
      "INFO:tensorflow:global_step/sec: 15.9179\n",
      "INFO:tensorflow:loss = 0.3263899, step = 13901 (6.282 sec)\n",
      "INFO:tensorflow:global_step/sec: 16.0251\n",
      "INFO:tensorflow:loss = 0.32253602, step = 14001 (6.240 sec)\n",
      "INFO:tensorflow:global_step/sec: 16.1161\n",
      "INFO:tensorflow:loss = 0.32215783, step = 14101 (6.205 sec)\n",
      "INFO:tensorflow:global_step/sec: 15.9758\n",
      "INFO:tensorflow:loss = 0.32228196, step = 14201 (6.259 sec)\n",
      "INFO:tensorflow:global_step/sec: 16.0694\n",
      "INFO:tensorflow:loss = 0.3224246, step = 14301 (6.223 sec)\n",
      "INFO:tensorflow:global_step/sec: 15.9703\n",
      "INFO:tensorflow:loss = 0.32237512, step = 14401 (6.262 sec)\n",
      "INFO:tensorflow:global_step/sec: 16.2486\n",
      "INFO:tensorflow:loss = 0.3307398, step = 14501 (6.155 sec)\n",
      "INFO:tensorflow:global_step/sec: 16.0351\n",
      "INFO:tensorflow:loss = 0.3221833, step = 14601 (6.236 sec)\n",
      "INFO:tensorflow:global_step/sec: 16.0462\n",
      "INFO:tensorflow:loss = 0.32258523, step = 14701 (6.232 sec)\n",
      "INFO:tensorflow:global_step/sec: 16.1519\n",
      "INFO:tensorflow:loss = 0.3223813, step = 14801 (6.192 sec)\n",
      "INFO:tensorflow:global_step/sec: 15.8801\n",
      "INFO:tensorflow:loss = 0.32602203, step = 14901 (6.297 sec)\n",
      "INFO:tensorflow:global_step/sec: 15.8911\n",
      "INFO:tensorflow:loss = 0.32385764, step = 15001 (6.293 sec)\n",
      "INFO:tensorflow:global_step/sec: 16.0305\n",
      "INFO:tensorflow:loss = 0.3247722, step = 15101 (6.238 sec)\n",
      "INFO:tensorflow:global_step/sec: 15.9218\n",
      "INFO:tensorflow:loss = 0.3261553, step = 15201 (6.281 sec)\n",
      "INFO:tensorflow:global_step/sec: 15.9964\n",
      "INFO:tensorflow:loss = 0.32582995, step = 15301 (6.251 sec)\n",
      "INFO:tensorflow:global_step/sec: 15.8881\n",
      "INFO:tensorflow:loss = 0.32274997, step = 15401 (6.294 sec)\n",
      "INFO:tensorflow:global_step/sec: 15.9849\n",
      "INFO:tensorflow:loss = 0.32213575, step = 15501 (6.256 sec)\n",
      "INFO:tensorflow:global_step/sec: 16.0197\n",
      "INFO:tensorflow:loss = 0.3248983, step = 15601 (6.242 sec)\n",
      "INFO:tensorflow:global_step/sec: 15.9909\n",
      "INFO:tensorflow:loss = 0.32307002, step = 15701 (6.254 sec)\n",
      "INFO:tensorflow:global_step/sec: 15.9814\n",
      "INFO:tensorflow:loss = 0.32193407, step = 15801 (6.257 sec)\n",
      "INFO:tensorflow:global_step/sec: 15.946\n",
      "INFO:tensorflow:loss = 0.34148353, step = 15901 (6.271 sec)\n",
      "INFO:tensorflow:global_step/sec: 16.0821\n",
      "INFO:tensorflow:loss = 0.3217272, step = 16001 (6.224 sec)\n",
      "INFO:tensorflow:global_step/sec: 15.9723\n",
      "INFO:tensorflow:loss = 0.32236838, step = 16101 (6.255 sec)\n",
      "INFO:tensorflow:global_step/sec: 15.9902\n",
      "INFO:tensorflow:loss = 0.32188004, step = 16201 (6.254 sec)\n",
      "INFO:tensorflow:global_step/sec: 15.9283\n",
      "INFO:tensorflow:loss = 0.32169798, step = 16301 (6.278 sec)\n",
      "INFO:tensorflow:global_step/sec: 15.9999\n",
      "INFO:tensorflow:loss = 0.3220753, step = 16401 (6.251 sec)\n",
      "INFO:tensorflow:global_step/sec: 16.0795\n",
      "INFO:tensorflow:loss = 0.32512462, step = 16501 (6.218 sec)\n",
      "INFO:tensorflow:global_step/sec: 16.0241\n",
      "INFO:tensorflow:loss = 0.32217294, step = 16601 (6.241 sec)\n",
      "INFO:tensorflow:global_step/sec: 16.0812\n",
      "INFO:tensorflow:loss = 0.32218435, step = 16701 (6.219 sec)\n"
     ]
    },
    {
     "name": "stdout",
     "output_type": "stream",
     "text": [
      "INFO:tensorflow:global_step/sec: 15.9425\n",
      "INFO:tensorflow:loss = 0.3252361, step = 16801 (6.273 sec)\n",
      "INFO:tensorflow:global_step/sec: 15.9924\n",
      "INFO:tensorflow:loss = 0.32236525, step = 16901 (6.253 sec)\n",
      "INFO:tensorflow:global_step/sec: 15.9994\n",
      "INFO:tensorflow:loss = 0.32537904, step = 17001 (6.250 sec)\n",
      "INFO:tensorflow:global_step/sec: 16.1163\n",
      "INFO:tensorflow:loss = 0.3221936, step = 17101 (6.205 sec)\n",
      "INFO:tensorflow:global_step/sec: 16.2235\n",
      "INFO:tensorflow:loss = 0.3220861, step = 17201 (6.164 sec)\n",
      "INFO:tensorflow:global_step/sec: 16.095\n",
      "INFO:tensorflow:loss = 0.32268283, step = 17301 (6.213 sec)\n",
      "INFO:tensorflow:global_step/sec: 16.0415\n",
      "INFO:tensorflow:loss = 0.321739, step = 17401 (6.234 sec)\n",
      "INFO:tensorflow:global_step/sec: 16.053\n",
      "INFO:tensorflow:loss = 0.32461068, step = 17501 (6.229 sec)\n",
      "INFO:tensorflow:global_step/sec: 16.0185\n",
      "INFO:tensorflow:loss = 0.32169297, step = 17601 (6.243 sec)\n",
      "INFO:tensorflow:global_step/sec: 16.1003\n",
      "INFO:tensorflow:loss = 0.3229816, step = 17701 (6.211 sec)\n",
      "INFO:tensorflow:global_step/sec: 15.591\n",
      "INFO:tensorflow:loss = 0.3216702, step = 17801 (6.414 sec)\n",
      "INFO:tensorflow:global_step/sec: 16.0277\n",
      "INFO:tensorflow:loss = 0.32337114, step = 17901 (6.240 sec)\n",
      "INFO:tensorflow:global_step/sec: 17.1855\n",
      "INFO:tensorflow:loss = 0.3222532, step = 18001 (5.825 sec)\n",
      "INFO:tensorflow:global_step/sec: 17.4109\n",
      "INFO:tensorflow:loss = 0.3238613, step = 18101 (5.738 sec)\n",
      "INFO:tensorflow:global_step/sec: 17.2381\n",
      "INFO:tensorflow:loss = 0.3217544, step = 18201 (5.801 sec)\n",
      "INFO:tensorflow:global_step/sec: 17.5066\n",
      "INFO:tensorflow:loss = 0.3244631, step = 18301 (5.712 sec)\n",
      "INFO:tensorflow:global_step/sec: 16.6151\n",
      "INFO:tensorflow:loss = 0.32410672, step = 18401 (6.019 sec)\n",
      "INFO:tensorflow:global_step/sec: 17.0712\n",
      "INFO:tensorflow:loss = 0.32182053, step = 18501 (5.857 sec)\n",
      "INFO:tensorflow:global_step/sec: 15.9955\n",
      "INFO:tensorflow:loss = 0.32215846, step = 18601 (6.253 sec)\n",
      "INFO:tensorflow:global_step/sec: 16.9968\n",
      "INFO:tensorflow:loss = 0.3258554, step = 18701 (5.883 sec)\n",
      "INFO:tensorflow:global_step/sec: 17.1062\n",
      "INFO:tensorflow:loss = 0.32288226, step = 18801 (5.846 sec)\n",
      "INFO:tensorflow:global_step/sec: 17.0189\n",
      "INFO:tensorflow:loss = 0.32170218, step = 18901 (5.876 sec)\n",
      "INFO:tensorflow:global_step/sec: 17.7467\n",
      "INFO:tensorflow:loss = 0.39251804, step = 19001 (5.635 sec)\n",
      "INFO:tensorflow:global_step/sec: 17.7316\n",
      "INFO:tensorflow:loss = 0.32881758, step = 19101 (5.640 sec)\n",
      "INFO:tensorflow:global_step/sec: 17.7107\n",
      "INFO:tensorflow:loss = 0.32609954, step = 19201 (5.646 sec)\n",
      "INFO:tensorflow:global_step/sec: 17.7339\n",
      "INFO:tensorflow:loss = 0.3230967, step = 19301 (5.638 sec)\n",
      "INFO:tensorflow:global_step/sec: 17.7386\n",
      "INFO:tensorflow:loss = 0.32328862, step = 19401 (5.638 sec)\n",
      "INFO:tensorflow:global_step/sec: 17.3706\n",
      "INFO:tensorflow:loss = 0.3214374, step = 19501 (5.757 sec)\n",
      "INFO:tensorflow:global_step/sec: 16.915\n",
      "INFO:tensorflow:loss = 0.3216796, step = 19601 (5.912 sec)\n",
      "INFO:tensorflow:global_step/sec: 17.1871\n",
      "INFO:tensorflow:loss = 0.32182083, step = 19701 (5.818 sec)\n",
      "INFO:tensorflow:Saving checkpoints for 19736 into svm/model.ckpt.\n",
      "INFO:tensorflow:global_step/sec: 16.4392\n",
      "INFO:tensorflow:loss = 0.322474, step = 19801 (6.083 sec)\n",
      "INFO:tensorflow:global_step/sec: 17.6165\n",
      "INFO:tensorflow:loss = 0.32447958, step = 19901 (5.677 sec)\n",
      "INFO:tensorflow:Saving checkpoints for 20000 into svm/model.ckpt.\n",
      "INFO:tensorflow:Loss for final step: 0.32180262.\n",
      "INFO:tensorflow:Created variable linear/bias_weight:0, with device=\n",
      "INFO:tensorflow:Graph was finalized.\n",
      "INFO:tensorflow:Restoring parameters from svm/model.ckpt-20000\n",
      "INFO:tensorflow:Running local_init_op.\n",
      "INFO:tensorflow:Done running local_init_op.\n"
     ]
    }
   ],
   "source": [
    "svm_model = svm.SVM(\n",
    "    example_id_column='PassengerId',\n",
    "    feature_columns=[tf.contrib.layers.real_valued_column(k) \n",
    "                     for k in list(train) \n",
    "                     if k not in ['Survived', 'PassengerId']],\n",
    "    model_dir='svm/')\n",
    "svm_model.fit(input_fn=train_input_fn, steps=10000)\n",
    "svm_pred = list(svm_model.predict_classes(input_fn=predict_input_fn))"
   ]
  },
  {
   "cell_type": "code",
   "execution_count": 57,
   "metadata": {},
   "outputs": [
    {
     "name": "stdout",
     "output_type": "stream",
     "text": [
      "SVM Report\n",
      "              precision    recall  f1-score   support\n",
      "\n",
      "Not Survived       0.83      0.84      0.84       129\n",
      "    Survived       0.78      0.76      0.77        94\n",
      "\n",
      "    accuracy                           0.81       223\n",
      "   macro avg       0.80      0.80      0.80       223\n",
      "weighted avg       0.81      0.81      0.81       223\n",
      "\n"
     ]
    }
   ],
   "source": [
    "print('SVM Report')\n",
    "print(classification_report(\n",
    "    test['Survived'], svm_pred, target_names=target_names))"
   ]
  },
  {
   "cell_type": "code",
   "execution_count": 59,
   "metadata": {},
   "outputs": [
    {
     "name": "stdout",
     "output_type": "stream",
     "text": [
      "SVM Confusion Matrix\n",
      "              Not Survived  Survived\n",
      "Not Survived           109        20\n",
      "Survived                23        71\n"
     ]
    }
   ],
   "source": [
    "cm = confusion_matrix(test['Survived'], svm_pred)\n",
    "df_cm = pd.DataFrame(cm, index=target_names, columns=target_names)\n",
    "print('SVM Confusion Matrix')\n",
    "print(df_cm)"
   ]
  },
  {
   "cell_type": "code",
   "execution_count": 63,
   "metadata": {},
   "outputs": [
    {
     "data": {
      "image/png": "[encoded data removed]",
      "text/plain": [
       "<Figure size 432x288 with 1 Axes>"
      ]
     },
     "metadata": {},
     "output_type": "display_data"
    }
   ],
   "source": [
    "sol = pd.DataFrame()\n",
    "sol['PassengerId'] = test['PassengerId']\n",
    "sol['Survived'] = pd.Series(svm_pred).values\n",
    "#sns.plt.suptitle('Titanic Survival Prediction using SVM in TensorFlow')\n",
    "count_plot = sns.countplot(sol.Survived)"
   ]
  },
  {
   "cell_type": "code",
   "execution_count": 64,
   "metadata": {},
   "outputs": [
    {
     "name": "stdout",
     "output_type": "stream",
     "text": [
      "Predicted Counts\n",
      "0    132\n",
      "1     91\n",
      "Name: Survived, dtype: int64\n"
     ]
    }
   ],
   "source": [
    "print('Predicted Counts')\n",
    "print(sol.Survived.value_counts())"
   ]
  },
  {
   "cell_type": "code",
   "execution_count": null,
   "metadata": {},
   "outputs": [],
   "source": []
  }
 ],
 "metadata": {
  "kernelspec": {
   "display_name": "Python 3",
   "language": "python",
   "name": "python3"
  },
  "language_info": {
   "codemirror_mode": {
    "name": "ipython",
    "version": 3
   },
   "file_extension": ".py",
   "mimetype": "text/x-python",
   "name": "python",
   "nbconvert_exporter": "python",
   "pygments_lexer": "ipython3",
   "version": "3.6.5"
  }
 },
 "nbformat": 4,
 "nbformat_minor": 2
}
