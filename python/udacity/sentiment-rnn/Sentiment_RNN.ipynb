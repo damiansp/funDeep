{
 "cells": [
  {
   "cell_type": "markdown",
   "metadata": {},
   "source": [
    "# Sentiment Analysis with an RNN\n",
    "\n",
    "In this notebook, you'll implement a recurrent neural network that performs sentiment analysis. Using an RNN rather than a feedfoward network is more accurate since we can include information about the *sequence* of words. Here we'll use a dataset of movie reviews, accompanied by labels.\n",
    "\n",
    "The architecture for this network is shown below.\n",
    "\n",
    "<img src=\"assets/network_diagram.png\" width=400px>\n",
    "\n",
    "Here, we'll pass in words to an embedding layer. We need an embedding layer because we have tens of thousands of words, so we'll need a more efficient representation for our input data than one-hot encoded vectors. You should have seen this before from the word2vec lesson. You can actually train up an embedding with word2vec and use it here. But it's good enough to just have an embedding layer and let the network learn the embedding table on it's own.\n",
    "\n",
    "From the embedding layer, the new representations will be passed to LSTM cells. These will add recurrent connections to the network so we can include information about the sequence of words in the data. Finally, the LSTM cells will go to a sigmoid output layer here. We're using the sigmoid because we're trying to predict if this text has positive or negative sentiment. The output layer will just be a single unit then, with a sigmoid activation function.\n",
    "\n",
    "We don't care about the sigmoid outputs except for the very last one, we can ignore the rest. We'll calculate the cost from the output of the last step and the training label."
   ]
  },
  {
   "cell_type": "code",
   "execution_count": 1,
   "metadata": {
    "collapsed": true
   },
   "outputs": [],
   "source": [
    "import numpy as np\n",
    "import tensorflow as tf"
   ]
  },
  {
   "cell_type": "code",
   "execution_count": 2,
   "metadata": {
    "collapsed": true
   },
   "outputs": [],
   "source": [
    "with open('../sentiment-network/reviews.txt', 'r') as f:\n",
    "    reviews = f.read()\n",
    "with open('../sentiment-network/labels.txt', 'r') as f:\n",
    "    labels = f.read()"
   ]
  },
  {
   "cell_type": "code",
   "execution_count": 3,
   "metadata": {},
   "outputs": [
    {
     "data": {
      "text/plain": [
       "'bromwell high is a cartoon comedy . it ran at the same time as some other programs about school life  such as  teachers  . my   years in the teaching profession lead me to believe that bromwell high  s satire is much closer to reality than is  teachers  . the scramble to survive financially  the insightful students who can see right through their pathetic teachers  pomp  the pettiness of the whole situation  all remind me of the schools i knew and their students . when i saw the episode in which a student repeatedly tried to burn down the school  i immediately recalled . . . . . . . . . at . . . . . . . . . . high . a classic line inspector i  m here to sack one of your teachers . student welcome to bromwell high . i expect that many adults of my age think that bromwell high is far fetched . what a pity that it isn  t   \\nstory of a man who has unnatural feelings for a pig . starts out with a opening scene that is a terrific example of absurd comedy . a formal orchestra audience is turned into an insane  violent mob by the crazy chantings of it  s singers . unfortunately it stays absurd the whole time with no general narrative eventually making it just too off putting . even those from the era should be turned off . the cryptic dialogue would make shakespeare seem easy to a third grader . on a technical level it  s better than you might think with some good cinematography by future great vilmos zsigmond . future stars sally kirkland and frederic forrest can be seen briefly .  \\nhomelessness  or houselessness as george carlin stated  has been an issue for years but never a plan to help those on the street that were once considered human who did everything from going to school  work  or vote for the matter . most people think of the homeless as just a lost cause while worrying about things such as racism  the war on iraq  pressuring kids to succeed  technology  the elections  inflation  or worrying if they  ll be next to end up on the streets .  br    br   but what if y'"
      ]
     },
     "execution_count": 3,
     "metadata": {},
     "output_type": "execute_result"
    }
   ],
   "source": [
    "reviews[:2000]"
   ]
  },
  {
   "cell_type": "markdown",
   "metadata": {},
   "source": [
    "## Data preprocessing\n",
    "\n",
    "The first step when building a neural network model is getting your data into the proper form to feed into the network. Since we're using embedding layers, we'll need to encode each word with an integer. We'll also want to clean it up a bit.\n",
    "\n",
    "You can see an example of the reviews data above. We'll want to get rid of those periods. Also, you might notice that the reviews are delimited with newlines `\\n`. To deal with those, I'm going to split the text into each review using `\\n` as the delimiter. Then I can combined all the reviews back together into one big string.\n",
    "\n",
    "First, let's remove all punctuation. Then get all the text without the newlines and split it into individual words."
   ]
  },
  {
   "cell_type": "code",
   "execution_count": 4,
   "metadata": {
    "collapsed": true
   },
   "outputs": [],
   "source": [
    "from string import punctuation\n",
    "all_text = ''.join([c for c in reviews if c not in punctuation])\n",
    "reviews = all_text.split('\\n')\n",
    "\n",
    "all_text = ' '.join(reviews)\n",
    "words = all_text.split()"
   ]
  },
  {
   "cell_type": "code",
   "execution_count": 5,
   "metadata": {},
   "outputs": [
    {
     "data": {
      "text/plain": [
       "'bromwell high is a cartoon comedy  it ran at the same time as some other programs about school life  such as  teachers   my   years in the teaching profession lead me to believe that bromwell high  s satire is much closer to reality than is  teachers   the scramble to survive financially  the insightful students who can see right through their pathetic teachers  pomp  the pettiness of the whole situation  all remind me of the schools i knew and their students  when i saw the episode in which a student repeatedly tried to burn down the school  i immediately recalled          at           high  a classic line inspector i  m here to sack one of your teachers  student welcome to bromwell high  i expect that many adults of my age think that bromwell high is far fetched  what a pity that it isn  t    story of a man who has unnatural feelings for a pig  starts out with a opening scene that is a terrific example of absurd comedy  a formal orchestra audience is turned into an insane  violent mob by the crazy chantings of it  s singers  unfortunately it stays absurd the whole time with no general narrative eventually making it just too off putting  even those from the era should be turned off  the cryptic dialogue would make shakespeare seem easy to a third grader  on a technical level it  s better than you might think with some good cinematography by future great vilmos zsigmond  future stars sally kirkland and frederic forrest can be seen briefly    homelessness  or houselessness as george carlin stated  has been an issue for years but never a plan to help those on the street that were once considered human who did everything from going to school  work  or vote for the matter  most people think of the homeless as just a lost cause while worrying about things such as racism  the war on iraq  pressuring kids to succeed  technology  the elections  inflation  or worrying if they  ll be next to end up on the streets   br    br   but what if you were given a bet to live on the st'"
      ]
     },
     "execution_count": 5,
     "metadata": {},
     "output_type": "execute_result"
    }
   ],
   "source": [
    "all_text[:2000]"
   ]
  },
  {
   "cell_type": "code",
   "execution_count": 6,
   "metadata": {},
   "outputs": [
    {
     "data": {
      "text/plain": [
       "['bromwell', 'high', 'is', 'a', 'cartoon', 'comedy', 'it', 'ran', 'at', 'the']"
      ]
     },
     "execution_count": 6,
     "metadata": {},
     "output_type": "execute_result"
    }
   ],
   "source": [
    "words[:10]"
   ]
  },
  {
   "cell_type": "markdown",
   "metadata": {},
   "source": [
    "### Encoding the words\n",
    "\n",
    "The embedding lookup requires that we pass in integers to our network. The easiest way to do this is to create dictionaries that map the words in the vocabulary to integers. Then we can convert each of our reviews into integers so they can be passed into the network.\n",
    "\n",
    "> **Exercise:** Now you're going to encode the words with integers. Build a dictionary that maps words to integers. Later we're going to pad our input vectors with zeros, so make sure the integers **start at 1, not 0**.\n",
    "> Also, convert the reviews to integers and store the reviews in a new list called `reviews_ints`. "
   ]
  },
  {
   "cell_type": "code",
   "execution_count": 7,
   "metadata": {},
   "outputs": [
    {
     "name": "stdout",
     "output_type": "stream",
     "text": [
      "[('hoaky', 1), ('succo', 2), ('dinocroc', 3), ('fling', 4), ('grandfather', 5), ('helen', 6), ('gratitude', 7), ('fangs', 8), ('selldal', 9), ('parceled', 10)]\n",
      "[13194, 10141, 23028, 20216, 7523, 61719, 65992, 33203, 72556, 43161, 61297, 1692, 48229, 23830, 12909, 30926, 53717, 40920, 63239, 51627, 48229, 55266, 14915, 2780, 56523, 43161, 68124, 50586, 58741, 20918, 57937, 5612, 58653, 13194, 10141, 35450, 35936, 23028, 63703, 10073, 57937, 15054, 2283, 23028, 55266, 43161, 69353, 57937, 30874, 19235, 43161, 21863, 39808, 44930, 52588, 24818, 12445, 25905, 48856, 33329, 55266, 344, 43161, 24022, 22859, 43161, 42671, 30382, 69671, 11605, 20918, 22859, 43161, 36417, 12035, 10060, 22597, 48856, 39808, 65735, 12035, 11219, 43161, 66489, 56523, 52508, 20216, 43701, 15313, 22238, 57937, 58116, 30369, 43161, 40920, 12035, 33037, 26396, 72556, 10141, 20216, 71191, 50167, 5984, 12035, 5130, 67824, 57937, 61840, 56633, 22859, 58994, 55266, 43701, 6976, 57937, 13194, 10141, 12035, 53856, 58653, 650, 39799, 22859, 14915, 24542, 62956, 58653, 13194, 10141, 23028, 14387, 53424, 56170, 20216, 2043, 58653, 65992, 61933, 62419]\n"
     ]
    }
   ],
   "source": [
    "# Create your dictionary that maps vocab words to integers here\n",
    "vocab_to_int = set(words)\n",
    "vocab_to_int = {word: int for (int, word) in enumerate(vocab_to_int, 1)}\n",
    "print(list(vocab_to_int.items())[:10])\n",
    "\n",
    "# Convert the reviews to integers, same shape as reviews list, but with \n",
    "# integers\n",
    "reviews_ints = [[vocab_to_int[word] for word in review.split()] \n",
    "                for review in reviews]\n",
    "print(reviews_ints[0])"
   ]
  },
  {
   "cell_type": "markdown",
   "metadata": {},
   "source": [
    "### Encoding the labels\n",
    "\n",
    "Our labels are \"positive\" or \"negative\". To use these labels in our network, we need to convert them to 0 and 1.\n",
    "\n",
    "> **Exercise:** Convert labels from `positive` and `negative` to 1 and 0, respectively."
   ]
  },
  {
   "cell_type": "code",
   "execution_count": 8,
   "metadata": {},
   "outputs": [
    {
     "data": {
      "text/plain": [
       "'positive\\nn'"
      ]
     },
     "execution_count": 8,
     "metadata": {},
     "output_type": "execute_result"
    }
   ],
   "source": [
    "raw_labels = labels\n",
    "raw_labels[:10]"
   ]
  },
  {
   "cell_type": "code",
   "execution_count": 9,
   "metadata": {
    "collapsed": true
   },
   "outputs": [],
   "source": [
    "# Convert labels to 1s and 0s for 'positive' and 'negative'\n",
    "labels = np.array(\n",
    "    [1 * (label == 'positive') for label in labels.split('\\n')])"
   ]
  },
  {
   "cell_type": "code",
   "execution_count": 10,
   "metadata": {},
   "outputs": [
    {
     "name": "stdout",
     "output_type": "stream",
     "text": [
      "[1 0 1 0 1 0 1 0 1 0]\n",
      "n positive: 12500\n"
     ]
    }
   ],
   "source": [
    "print(labels[:10])\n",
    "print('n positive:', labels.sum())"
   ]
  },
  {
   "cell_type": "markdown",
   "metadata": {},
   "source": [
    "If you built `labels` correctly, you should see the next output."
   ]
  },
  {
   "cell_type": "code",
   "execution_count": 11,
   "metadata": {},
   "outputs": [
    {
     "name": "stdout",
     "output_type": "stream",
     "text": [
      "Zero-length reviews: 1\n",
      "Maximum review length: 2514\n"
     ]
    }
   ],
   "source": [
    "from collections import Counter\n",
    "review_lens = Counter([len(x) for x in reviews_ints])\n",
    "print(\"Zero-length reviews: {}\".format(review_lens[0]))\n",
    "print(\"Maximum review length: {}\".format(max(review_lens)))"
   ]
  },
  {
   "cell_type": "markdown",
   "metadata": {},
   "source": [
    "Okay, a couple issues here. We seem to have one review with zero length. And, the maximum review length is way too many steps for our RNN. Let's truncate to 200 steps. For reviews shorter than 200, we'll pad with 0s. For reviews longer than 200, we can truncate them to the first 200 characters.\n",
    "\n",
    "> **Exercise:** First, remove the review with zero length from the `reviews_ints` list."
   ]
  },
  {
   "cell_type": "code",
   "execution_count": 12,
   "metadata": {
    "collapsed": true
   },
   "outputs": [],
   "source": [
    "# Filter out that review with 0 length\n",
    "reviews_ints = [rev for rev in reviews_ints if len(rev)]"
   ]
  },
  {
   "cell_type": "markdown",
   "metadata": {},
   "source": [
    "> **Exercise:** Now, create an array `features` that contains the data we'll pass to the network. The data should come from `review_ints`, since we want to feed integers to the network. Each row should be 200 elements long. For reviews shorter than 200 words, left pad with 0s. That is, if the review is `['best', 'movie', 'ever']`, `[117, 18, 128]` as integers, the row will look like `[0, 0, 0, ..., 0, 117, 18, 128]`. For reviews longer than 200, use on the first 200 words as the feature vector.\n",
    "\n",
    "This isn't trivial and there are a bunch of ways to do this. But, if you're going to be building your own deep learning networks, you're going to have to get used to preparing your data.\n",
    "\n"
   ]
  },
  {
   "cell_type": "code",
   "execution_count": 13,
   "metadata": {
    "collapsed": true
   },
   "outputs": [],
   "source": [
    "seq_len = 200\n",
    "\n",
    "def format_review(review, seq_len):\n",
    "    n = len(review)\n",
    "    if n > seq_len:\n",
    "        return review[:seq_len]\n",
    "    else:\n",
    "        deficit = seq_len - n\n",
    "        return [0] * deficit + review\n",
    "    \n",
    "features = np.array([format_review(rev, seq_len) for rev in reviews_ints])"
   ]
  },
  {
   "cell_type": "markdown",
   "metadata": {},
   "source": [
    "If you build features correctly, it should look like that cell output below."
   ]
  },
  {
   "cell_type": "code",
   "execution_count": 14,
   "metadata": {},
   "outputs": [
    {
     "data": {
      "text/plain": [
       "array([[    0,     0,     0,     0,     0,     0,     0,     0,     0,\n",
       "            0,     0,     0,     0,     0,     0,     0,     0,     0,\n",
       "            0,     0,     0,     0,     0,     0,     0,     0,     0,\n",
       "            0,     0,     0,     0,     0,     0,     0,     0,     0,\n",
       "            0,     0,     0,     0,     0,     0,     0,     0,     0,\n",
       "            0,     0,     0,     0,     0,     0,     0,     0,     0,\n",
       "            0,     0,     0,     0,     0,     0, 13194, 10141, 23028,\n",
       "        20216,  7523, 61719, 65992, 33203, 72556, 43161, 61297,  1692,\n",
       "        48229, 23830, 12909, 30926, 53717, 40920, 63239, 51627, 48229,\n",
       "        55266, 14915,  2780, 56523, 43161, 68124, 50586, 58741, 20918,\n",
       "        57937,  5612, 58653, 13194, 10141, 35450, 35936, 23028, 63703,\n",
       "        10073],\n",
       "       [    0,     0,     0,     0,     0,     0,     0,     0,     0,\n",
       "            0,     0,     0,     0,     0,     0,     0,     0,     0,\n",
       "            0,     0,     0,     0,     0,     0,     0,     0,     0,\n",
       "            0,     0,     0,     0,     0,     0,     0,     0,     0,\n",
       "            0,     0,     0,     0,     0,     0,     0,     0,     0,\n",
       "            0,     0,     0,     0,     0,     0,     0,     0,     0,\n",
       "            0,     0,     0,     0,     0,     0,     0,     0,     0,\n",
       "            0,     0,     0,     0,     0,     0,     0,     0,     0,\n",
       "            0,     0,     0,     0,     0,     0,     0,     0,     0,\n",
       "            0,     0,     0,     0,     0,  2188, 22859, 20216, 53707,\n",
       "        44930, 22741, 56223, 52617, 24902, 20216, 61266, 22980, 27015,\n",
       "        38082],\n",
       "       [46513, 55051,  5227, 48229, 48101,   227, 28139, 22741, 36465,\n",
       "        35552, 50834, 24902,  2780, 36707, 71983, 20216, 26445, 57937,\n",
       "        57671, 28474,  1280, 43161,  6848, 58653, 33808, 49984, 63492,\n",
       "        71181, 44930,  1643, 27462, 50159, 46449, 57937, 40920, 69302,\n",
       "        55051, 65105, 24902, 43161, 53762, 66988, 69974, 62956, 22859,\n",
       "        43161, 67885, 48229, 10729, 20216, 57916,  6420, 27870, 55762,\n",
       "        53717, 51085, 51627, 48229, 53495, 43161, 42885,  1280,  7014,\n",
       "         1272, 24355, 57937, 29584,  9600, 43161, 23918, 73968, 55051,\n",
       "        55762, 47080, 49618, 20075, 36129, 31139, 57937, 57198, 16785,\n",
       "         1280, 43161, 41649, 64228, 64228, 36707, 56170, 47080,   507,\n",
       "        33808, 66043, 20216, 53279, 57937, 25799,  1280, 43161, 41649,\n",
       "        24902],\n",
       "       [14782, 22980, 48229, 20216, 42762, 37518, 25602,  2739, 23028,\n",
       "        18689, 16785, 38082, 41426, 23559, 51627, 21786, 57937, 63407,\n",
       "        20243, 47992, 34225, 11224,   200, 44930, 23028, 37247, 19571,\n",
       "        20216, 63794, 22859, 25181, 35450, 57937, 55098, 11083, 56523,\n",
       "        31319, 22859, 65992,   540, 21226, 57937, 43161, 51659, 48229,\n",
       "        20216, 19973, 34725,  1280, 58107, 23028, 34225, 44149,  5523,\n",
       "        29134, 22318, 68366, 70296, 43161, 25602, 60979, 22121, 23536,\n",
       "        48229, 29432, 36707, 63725, 31177, 43161,  2739, 23028, 34406,\n",
       "        39479, 39863, 43161, 28555, 56852,  6124, 13738, 19250, 55098,\n",
       "        23133, 71308, 35450, 63530,  6650, 17166, 48390, 28845, 71784,\n",
       "        44930, 67947, 43161, 10523, 68374, 27015, 38082, 10853, 17271,\n",
       "        49618],\n",
       "       [    0,     0,     0,     0,     0,     0,     0,     0,     0,\n",
       "            0,     0,     0,     0,     0,     0,     0,     0,     0,\n",
       "            0,     0,     0,     0,     0,     0,     0,     0,     0,\n",
       "            0,     0,     0,     0,     0,     0,     0,     0,     0,\n",
       "            0,     0,     0,     0,     0,     0,     0,     0,     0,\n",
       "            0,     0,     0,     0,     0, 55167, 53104, 10473, 39863,\n",
       "        36970, 12173, 66177, 34088, 33432, 23669,  4811, 12035,  1065,\n",
       "        39265, 43819, 22597, 18696,  2840, 56523, 56370, 25557, 20474,\n",
       "        58420, 57937, 49373, 43161, 15017,  1280, 57643, 23028, 20216,\n",
       "        71191, 48229, 65373, 48229, 40248, 56523, 66141,  9642, 43161,\n",
       "        16988,  1280, 36560, 23028, 34725, 54086, 64140,   540, 19026,\n",
       "        22859],\n",
       "       [    0,     0,     0,     0,     0,     0,     0,     0,     0,\n",
       "            0,     0,     0,     0,     0,     0,     0,     0,     0,\n",
       "            0,     0,     0,     0,     0,     0,     0,     0,     0,\n",
       "            0,     0,     0,     0,     0,     0,     0,     0,     0,\n",
       "            0,     0,     0,     0,     0,     0,     0,     0,     0,\n",
       "            0,     0,     0,     0,     0,     0,     0,     0,     0,\n",
       "         9655, 62007, 55780, 73310, 12035, 71386, 62419, 35733, 14915,\n",
       "        18746,  1280, 72556, 57119, 20237,  1280, 43161,  2273, 22859,\n",
       "        43161, 20318, 44978,  9655, 37211, 34552, 57937, 55797, 22859,\n",
       "        62973, 65735, 29798, 33338, 43161, 35659, 38082, 68366, 20318,\n",
       "        53707, 65037, 43161, 20780,  2840, 68229, 66634, 48229,   540,\n",
       "        66702],\n",
       "       [    0,     0,     0,     0,     0,     0,     0,     0,     0,\n",
       "            0,     0,     0,     0,     0,     0,     0,     0,     0,\n",
       "            0,     0,     0,     0,     0,     0,     0,     0,     0,\n",
       "            0,     0,     0,     0,     0,     0,     0,     0,     0,\n",
       "            0,     0,     0,     0,     0,     0,     0,     0,     0,\n",
       "            0,     0,     0,     0,     0,     0,     0,     0,     0,\n",
       "            0,     0,     0,     0,     0,     0,     0,     0,     0,\n",
       "            0,     0,     0,     0,     0,     0,     0,     0,     0,\n",
       "            0,     0,     0,     0,  9655, 23028, 15547, 43161, 66988,\n",
       "        45717, 62007, 39089, 43161, 66485, 43924, 25982, 47064, 21087,\n",
       "        65992, 47707,  5806, 50258, 20216, 17410,  2627, 22859, 46513,\n",
       "        40146],\n",
       "       [    0,     0,     0,     0,     0,     0,     0,     0,     0,\n",
       "            0,     0,     0,     0,     0,     0,     0,     0,     0,\n",
       "            0,     0,     0,     0,     0,     0,     0,     0,     0,\n",
       "            0,     0,     0,     0,     0,     0,     0,     0,     0,\n",
       "            0,     0,     0,     0,     0,     0,     0,     0,     0,\n",
       "            0,     0, 18852, 54925, 12035, 24351,  9655, 23028, 34375,\n",
       "        57937, 36129, 35552, 12109, 62007, 36707, 28258, 49618, 47265,\n",
       "         1065, 44977, 27015, 58960, 72556, 43161, 28773, 22891, 69974,\n",
       "        36128, 68520, 48856, 11653, 27015, 22597,  5806, 69114, 66850,\n",
       "        43161, 71415, 53929, 22597, 64769, 68856, 62206, 56758,  9655,\n",
       "         2188, 23028,  8678, 48257, 57937, 69114, 43161, 23810, 22859,\n",
       "        20216],\n",
       "       [    0,     0,     0,     0,     0,     0,     0,     0,     0,\n",
       "            0,     0,     0,     0,     0,     0,     0,     0,     0,\n",
       "            0,     0,     0,     0,     0,     0,     0,     0,     0,\n",
       "            0,     0,     0,     0,     0,     0,     0,     0,     0,\n",
       "            0,     0,     0,     0,     0,     0,     0,     0,     0,\n",
       "            0,     0,     0,     0,     0,     0,     0,     0,     0,\n",
       "            0,     0,     0,     0,     0,     0,     0,     0,     0,\n",
       "            0,     0,     0,     0,     0,     0,     0,     0,     0,\n",
       "            0,     0,     0,     0,     0,     0,     0,  9655, 23028,\n",
       "         5806, 43161, 66781, 25847, 66485, 62007, 65992, 62206, 63703,\n",
       "        18137, 60280,  2283, 66988, 22859, 55098,  8817, 22597, 61893,\n",
       "        11714],\n",
       "       [65735, 12035, 62206, 72428, 14915, 44990, 60048, 20918,  4876,\n",
       "        57937, 43161, 70118, 57937, 24818, 46558, 65992, 62206, 56633,\n",
       "        22859,   650,  8817, 12035, 69753, 38082, 14915, 44990, 36707,\n",
       "         9655, 62206, 43161, 72701, 56633, 20497,  8489, 27015, 22859,\n",
       "        43103, 54572, 12035, 11714, 71983, 43819, 46558, 22945, 10729,\n",
       "        31688, 22597, 12035, 36128,  1065, 21442, 27015, 43161, 19592,\n",
       "        22859, 14915, 63239,  4634, 65992, 56170, 20216, 41633, 18436,\n",
       "        22597, 66839, 73044, 72345, 22859, 35450, 40642, 22597, 15983,\n",
       "        66752, 26600, 69701, 23028, 56633, 22859, 14915, 22360, 15045,\n",
       "        36707, 46558, 23028, 39863, 14387, 43161, 42789, 72345, 22859,\n",
       "         1935, 22859, 55098, 18541, 56523, 43161, 28910, 14577, 22859,\n",
       "        71684]])"
      ]
     },
     "execution_count": 14,
     "metadata": {},
     "output_type": "execute_result"
    }
   ],
   "source": [
    "features[:10,:100]"
   ]
  },
  {
   "cell_type": "markdown",
   "metadata": {},
   "source": [
    "## Training, Validation, Test\n",
    "\n"
   ]
  },
  {
   "cell_type": "markdown",
   "metadata": {},
   "source": [
    "With our data in nice shape, we'll split it into training, validation, and test sets.\n",
    "\n",
    "> **Exercise:** Create the training, validation, and test sets here. You'll need to create sets for the features and the labels, `train_x` and `train_y` for example. Define a split fraction, `split_frac` as the fraction of data to keep in the training set. Usually this is set to 0.8 or 0.9. The rest of the data will be split in half to create the validation and testing data."
   ]
  },
  {
   "cell_type": "code",
   "execution_count": 15,
   "metadata": {},
   "outputs": [
    {
     "name": "stdout",
     "output_type": "stream",
     "text": [
      "\t\t\tFeature Shapes:\n",
      "Train set: \t\t(20000, 200) \n",
      "Validation set: \t(2500, 200) \n",
      "Test set: \t\t(2500, 200)\n"
     ]
    }
   ],
   "source": [
    "split_frac = 0.8\n",
    "n = len(features)\n",
    "n_train = int(round(split_frac * n))\n",
    "n_valid = (n - n_train) // 2\n",
    "\n",
    "train_x, valtest_x = features[:n_train], features[n_train:]\n",
    "train_y, valtest_y = labels[:n_train],   labels[n_train:]\n",
    "\n",
    "val_x, test_x = valtest_x[:n_valid], valtest_x[n_valid:]\n",
    "val_y, test_y = valtest_y[:n_valid], valtest_y[n_valid:]\n",
    "\n",
    "print(\"\\t\\t\\tFeature Shapes:\")\n",
    "print(\"Train set: \\t\\t{}\".format(train_x.shape), \n",
    "      \"\\nValidation set: \\t{}\".format(val_x.shape),\n",
    "      \"\\nTest set: \\t\\t{}\".format(test_x.shape))"
   ]
  },
  {
   "cell_type": "markdown",
   "metadata": {},
   "source": [
    "With train, validation, and text fractions of 0.8, 0.1, 0.1, the final shapes should look like:\n",
    "```\n",
    "                    Feature Shapes:\n",
    "Train set: \t\t (20000, 200) \n",
    "Validation set: \t(2500, 200) \n",
    "Test set: \t\t  (2500, 200)\n",
    "```"
   ]
  },
  {
   "cell_type": "markdown",
   "metadata": {},
   "source": [
    "## Build the graph\n",
    "\n",
    "Here, we'll build the graph. First up, defining the hyperparameters.\n",
    "\n",
    "* `lstm_size`: Number of units in the hidden layers in the LSTM cells. Usually larger is better performance wise. Common values are 128, 256, 512, etc.\n",
    "* `lstm_layers`: Number of LSTM layers in the network. I'd start with 1, then add more if I'm underfitting.\n",
    "* `batch_size`: The number of reviews to feed the network in one training pass. Typically this should be set as high as you can go without running out of memory.\n",
    "* `learning_rate`: Learning rate"
   ]
  },
  {
   "cell_type": "code",
   "execution_count": 16,
   "metadata": {
    "collapsed": true
   },
   "outputs": [],
   "source": [
    "lstm_size = 256\n",
    "lstm_layers = 1\n",
    "batch_size = 512\n",
    "learning_rate = 0.001"
   ]
  },
  {
   "cell_type": "markdown",
   "metadata": {},
   "source": [
    "For the network itself, we'll be passing in our 200 element long review vectors. Each batch will be `batch_size` vectors. We'll also be using dropout on the LSTM layer, so we'll make a placeholder for the keep probability."
   ]
  },
  {
   "cell_type": "markdown",
   "metadata": {},
   "source": [
    "> **Exercise:** Create the `inputs_`, `labels_`, and drop out `keep_prob` placeholders using `tf.placeholder`. `labels_` needs to be two-dimensional to work with some functions later.  Since `keep_prob` is a scalar (a 0-dimensional tensor), you shouldn't provide a size to `tf.placeholder`."
   ]
  },
  {
   "cell_type": "code",
   "execution_count": 17,
   "metadata": {
    "collapsed": true
   },
   "outputs": [],
   "source": [
    "n_words = len(vocab_to_int) + 1 # Adding 1 because we use 0's for padding, dictionary started at 1\n",
    "\n",
    "# Create the graph object\n",
    "graph = tf.Graph()\n",
    "# Add nodes to the graph\n",
    "with graph.as_default():\n",
    "    inputs_ = tf.placeholder(tf.int32, [None, None], name='inputs')\n",
    "    labels_ = tf.placeholder(tf.int32, [None, None], name='labels')\n",
    "    keep_prob = tf.placeholder(tf.float32, name='keep_prob')"
   ]
  },
  {
   "cell_type": "markdown",
   "metadata": {},
   "source": [
    "### Embedding\n",
    "\n",
    "Now we'll add an embedding layer. We need to do this because there are 74000 words in our vocabulary. It is massively inefficient to one-hot encode our classes here. You should remember dealing with this problem from the word2vec lesson. Instead of one-hot encoding, we can have an embedding layer and use that layer as a lookup table. You could train an embedding layer using word2vec, then load it here. But, it's fine to just make a new layer and let the network learn the weights.\n",
    "\n",
    "> **Exercise:** Create the embedding lookup matrix as a `tf.Variable`. Use that embedding matrix to get the embedded vectors to pass to the LSTM cell with [`tf.nn.embedding_lookup`](https://www.tensorflow.org/api_docs/python/tf/nn/embedding_lookup). This function takes the embedding matrix and an input tensor, such as the review vectors. Then, it'll return another tensor with the embedded vectors. So, if the embedding layer has 200 units, the function will return a tensor with size [batch_size, 200].\n",
    "\n"
   ]
  },
  {
   "cell_type": "code",
   "execution_count": 19,
   "metadata": {},
   "outputs": [],
   "source": [
    "# Size of the embedding vectors (number of units in the embedding layer)\n",
    "embed_size = 300 \n",
    "\n",
    "with graph.as_default():\n",
    "    embedding = tf.Variable(\n",
    "        tf.random_uniform([n_words, embed_size], -1, 1))\n",
    "    embed = tf.nn.embedding_lookup(embedding, inputs_)"
   ]
  },
  {
   "cell_type": "markdown",
   "metadata": {},
   "source": [
    "### LSTM cell\n",
    "\n",
    "<img src=\"assets/network_diagram.png\" width=400px>\n",
    "\n",
    "Next, we'll create our LSTM cells to use in the recurrent network ([TensorFlow documentation](https://www.tensorflow.org/api_docs/python/tf/contrib/rnn)). Here we are just defining what the cells look like. This isn't actually building the graph, just defining the type of cells we want in our graph.\n",
    "\n",
    "To create a basic LSTM cell for the graph, you'll want to use `tf.contrib.rnn.BasicLSTMCell`. Looking at the function documentation:\n",
    "\n",
    "```\n",
    "tf.contrib.rnn.BasicLSTMCell(num_units, forget_bias=1.0, input_size=None, state_is_tuple=True, activation=<function tanh at 0x109f1ef28>)\n",
    "```\n",
    "\n",
    "you can see it takes a parameter called `num_units`, the number of units in the cell, called `lstm_size` in this code. So then, you can write something like \n",
    "\n",
    "```\n",
    "lstm = tf.contrib.rnn.BasicLSTMCell(num_units)\n",
    "```\n",
    "\n",
    "to create an LSTM cell with `num_units`. Next, you can add dropout to the cell with `tf.contrib.rnn.DropoutWrapper`. This just wraps the cell in another cell, but with dropout added to the inputs and/or outputs. It's a really convenient way to make your network better with almost no effort! So you'd do something like\n",
    "\n",
    "```\n",
    "drop = tf.contrib.rnn.DropoutWrapper(cell, output_keep_prob=keep_prob)\n",
    "```\n",
    "\n",
    "Most of the time, your network will have better performance with more layers. That's sort of the magic of deep learning, adding more layers allows the network to learn really complex relationships. Again, there is a simple way to create multiple layers of LSTM cells with `tf.contrib.rnn.MultiRNNCell`:\n",
    "\n",
    "```\n",
    "cell = tf.contrib.rnn.MultiRNNCell([drop] * lstm_layers)\n",
    "```\n",
    "\n",
    "Here, `[drop] * lstm_layers` creates a list of cells (`drop`) that is `lstm_layers` long. The `MultiRNNCell` wrapper builds this into multiple layers of RNN cells, one for each cell in the list.\n",
    "\n",
    "So the final cell you're using in the network is actually multiple (or just one) LSTM cells with dropout. But it all works the same from an achitectural viewpoint, just a more complicated graph in the cell.\n",
    "\n",
    "> **Exercise:** Below, use `tf.contrib.rnn.BasicLSTMCell` to create an LSTM cell. Then, add drop out to it with `tf.contrib.rnn.DropoutWrapper`. Finally, create multiple LSTM layers with `tf.contrib.rnn.MultiRNNCell`.\n",
    "\n",
    "Here is [a tutorial on building RNNs](https://www.tensorflow.org/tutorials/recurrent) that will help you out.\n"
   ]
  },
  {
   "cell_type": "code",
   "execution_count": 20,
   "metadata": {
    "collapsed": true
   },
   "outputs": [],
   "source": [
    "with graph.as_default():\n",
    "    # Your basic LSTM cell\n",
    "    lstm = tf.contrib.rnn.BasicLSTMCell(lstm_size)\n",
    "    \n",
    "    # Add dropout to the cell\n",
    "    drop = tf.contrib.rnn.DropoutWrapper(lstm, output_keep_prob=keep_prob)\n",
    "    \n",
    "    # Stack up multiple LSTM layers, for deep learning\n",
    "    cell = tf.contrib.rnn.MultiRNNCell([drop] * lstm_layers)\n",
    "    \n",
    "    # Getting an initial state of all zeros\n",
    "    initial_state = cell.zero_state(batch_size, tf.float32)"
   ]
  },
  {
   "cell_type": "markdown",
   "metadata": {},
   "source": [
    "### RNN forward pass\n",
    "\n",
    "<img src=\"assets/network_diagram.png\" width=400px>\n",
    "\n",
    "Now we need to actually run the data through the RNN nodes. You can use [`tf.nn.dynamic_rnn`](https://www.tensorflow.org/api_docs/python/tf/nn/dynamic_rnn) to do this. You'd pass in the RNN cell you created (our multiple layered LSTM `cell` for instance), and the inputs to the network.\n",
    "\n",
    "```\n",
    "outputs, final_state = tf.nn.dynamic_rnn(cell, inputs, initial_state=initial_state)\n",
    "```\n",
    "\n",
    "Above I created an initial state, `initial_state`, to pass to the RNN. This is the cell state that is passed between the hidden layers in successive time steps. `tf.nn.dynamic_rnn` takes care of most of the work for us. We pass in our cell and the input to the cell, then it does the unrolling and everything else for us. It returns outputs for each time step and the final_state of the hidden layer.\n",
    "\n",
    "> **Exercise:** Use `tf.nn.dynamic_rnn` to add the forward pass through the RNN. Remember that we're actually passing in vectors from the embedding layer, `embed`.\n",
    "\n"
   ]
  },
  {
   "cell_type": "code",
   "execution_count": 21,
   "metadata": {
    "collapsed": true
   },
   "outputs": [],
   "source": [
    "with graph.as_default():\n",
    "    outputs, final_state = tf.nn.dynamic_rnn(\n",
    "        cell, embed, initial_state=initial_state)"
   ]
  },
  {
   "cell_type": "markdown",
   "metadata": {},
   "source": [
    "### Output\n",
    "\n",
    "We only care about the final output, we'll be using that as our sentiment prediction. So we need to grab the last output with `outputs[:, -1]`, the calculate the cost from that and `labels_`."
   ]
  },
  {
   "cell_type": "code",
   "execution_count": 22,
   "metadata": {
    "collapsed": true
   },
   "outputs": [],
   "source": [
    "with graph.as_default():\n",
    "    predictions = tf.contrib.layers.fully_connected(\n",
    "        outputs[:, -1], 1, activation_fn=tf.sigmoid)\n",
    "    cost = tf.losses.mean_squared_error(labels_, predictions)\n",
    "    optimizer = tf.train.AdamOptimizer(learning_rate).minimize(cost)"
   ]
  },
  {
   "cell_type": "markdown",
   "metadata": {},
   "source": [
    "### Validation accuracy\n",
    "\n",
    "Here we can add a few nodes to calculate the accuracy which we'll use in the validation pass."
   ]
  },
  {
   "cell_type": "code",
   "execution_count": 23,
   "metadata": {
    "collapsed": true
   },
   "outputs": [],
   "source": [
    "with graph.as_default():\n",
    "    correct_pred = tf.equal(tf.cast(tf.round(predictions), tf.int32), \n",
    "                            labels_)\n",
    "    accuracy = tf.reduce_mean(tf.cast(correct_pred, tf.float32))"
   ]
  },
  {
   "cell_type": "markdown",
   "metadata": {},
   "source": [
    "### Batching\n",
    "\n",
    "This is a simple function for returning batches from our data. First it removes data such that we only have full batches. Then it iterates through the `x` and `y` arrays and returns slices out of those arrays with size `[batch_size]`."
   ]
  },
  {
   "cell_type": "code",
   "execution_count": 24,
   "metadata": {
    "collapsed": true
   },
   "outputs": [],
   "source": [
    "def get_batches(x, y, batch_size=100):\n",
    "    \n",
    "    n_batches = len(x)//batch_size\n",
    "    x, y = x[:n_batches*batch_size], y[:n_batches*batch_size]\n",
    "    for ii in range(0, len(x), batch_size):\n",
    "        yield x[ii:ii + batch_size], y[ii:ii + batch_size]"
   ]
  },
  {
   "cell_type": "markdown",
   "metadata": {},
   "source": [
    "## Training\n",
    "\n",
    "Below is the typical training code. If you want to do this yourself, feel free to delete all this code and implement it yourself. Before you run this, make sure the `checkpoints` directory exists."
   ]
  },
  {
   "cell_type": "code",
   "execution_count": 25,
   "metadata": {},
   "outputs": [
    {
     "name": "stdout",
     "output_type": "stream",
     "text": [
      "Epoch: 0/10 Iteration: 5 Train loss: 0.243\n",
      "Epoch: 0/10 Iteration: 10 Train loss: 0.240\n",
      "Epoch: 0/10 Iteration: 15 Train loss: 0.215\n",
      "Epoch: 0/10 Iteration: 20 Train loss: 0.211\n",
      "Epoch: 0/10 Iteration: 25 Train loss: 0.229\n",
      "Val acc: 0.628\n",
      "Epoch: 0/10 Iteration: 30 Train loss: 0.229\n",
      "Epoch: 0/10 Iteration: 35 Train loss: 0.219\n",
      "Epoch: 0/10 Iteration: 40 Train loss: 0.221\n",
      "Epoch: 1/10 Iteration: 45 Train loss: 0.250\n",
      "Epoch: 1/10 Iteration: 50 Train loss: 0.217\n",
      "Val acc: 0.646\n",
      "Epoch: 1/10 Iteration: 55 Train loss: 0.210\n",
      "Epoch: 1/10 Iteration: 60 Train loss: 0.193\n",
      "Epoch: 1/10 Iteration: 65 Train loss: 0.175\n",
      "Epoch: 1/10 Iteration: 70 Train loss: 0.224\n",
      "Epoch: 1/10 Iteration: 75 Train loss: 0.236\n",
      "Val acc: 0.615\n",
      "Epoch: 1/10 Iteration: 80 Train loss: 0.198\n",
      "Epoch: 2/10 Iteration: 85 Train loss: 0.187\n",
      "Epoch: 2/10 Iteration: 90 Train loss: 0.198\n",
      "Epoch: 2/10 Iteration: 95 Train loss: 0.162\n",
      "Epoch: 2/10 Iteration: 100 Train loss: 0.170\n",
      "Val acc: 0.743\n",
      "Epoch: 2/10 Iteration: 105 Train loss: 0.132\n",
      "Epoch: 2/10 Iteration: 110 Train loss: 0.182\n",
      "Epoch: 2/10 Iteration: 115 Train loss: 0.161\n",
      "Epoch: 2/10 Iteration: 120 Train loss: 0.162\n",
      "Epoch: 3/10 Iteration: 125 Train loss: 0.125\n",
      "Val acc: 0.787\n",
      "Epoch: 3/10 Iteration: 130 Train loss: 0.137\n",
      "Epoch: 3/10 Iteration: 135 Train loss: 0.142\n",
      "Epoch: 3/10 Iteration: 140 Train loss: 0.115\n",
      "Epoch: 3/10 Iteration: 145 Train loss: 0.100\n",
      "Epoch: 3/10 Iteration: 150 Train loss: 0.128\n",
      "Val acc: 0.786\n",
      "Epoch: 3/10 Iteration: 155 Train loss: 0.105\n",
      "Epoch: 3/10 Iteration: 160 Train loss: 0.127\n",
      "Epoch: 4/10 Iteration: 165 Train loss: 0.113\n",
      "Epoch: 4/10 Iteration: 170 Train loss: 0.115\n",
      "Epoch: 4/10 Iteration: 175 Train loss: 0.219\n",
      "Val acc: 0.748\n",
      "Epoch: 4/10 Iteration: 180 Train loss: 0.101\n",
      "Epoch: 4/10 Iteration: 185 Train loss: 0.111\n",
      "Epoch: 4/10 Iteration: 190 Train loss: 0.096\n",
      "Epoch: 4/10 Iteration: 195 Train loss: 0.094\n",
      "Epoch: 4/10 Iteration: 200 Train loss: 0.091\n",
      "Val acc: 0.826\n",
      "Epoch: 5/10 Iteration: 205 Train loss: 0.072\n",
      "Epoch: 5/10 Iteration: 210 Train loss: 0.085\n",
      "Epoch: 5/10 Iteration: 215 Train loss: 0.095\n",
      "Epoch: 5/10 Iteration: 220 Train loss: 0.144\n",
      "Epoch: 5/10 Iteration: 225 Train loss: 0.131\n",
      "Val acc: 0.749\n",
      "Epoch: 5/10 Iteration: 230 Train loss: 0.112\n",
      "Epoch: 5/10 Iteration: 235 Train loss: 0.123\n",
      "Epoch: 5/10 Iteration: 240 Train loss: 0.088\n",
      "Epoch: 6/10 Iteration: 245 Train loss: 0.072\n",
      "Epoch: 6/10 Iteration: 250 Train loss: 0.092\n",
      "Val acc: 0.782\n",
      "Epoch: 6/10 Iteration: 255 Train loss: 0.121\n",
      "Epoch: 6/10 Iteration: 260 Train loss: 0.087\n",
      "Epoch: 6/10 Iteration: 265 Train loss: 0.072\n",
      "Epoch: 6/10 Iteration: 270 Train loss: 0.065\n",
      "Epoch: 6/10 Iteration: 275 Train loss: 0.064\n",
      "Val acc: 0.812\n",
      "Epoch: 6/10 Iteration: 280 Train loss: 0.060\n",
      "Epoch: 7/10 Iteration: 285 Train loss: 0.093\n",
      "Epoch: 7/10 Iteration: 290 Train loss: 0.071\n",
      "Epoch: 7/10 Iteration: 295 Train loss: 0.080\n",
      "Epoch: 7/10 Iteration: 300 Train loss: 0.090\n",
      "Val acc: 0.817\n",
      "Epoch: 7/10 Iteration: 305 Train loss: 0.067\n",
      "Epoch: 7/10 Iteration: 310 Train loss: 0.064\n",
      "Epoch: 7/10 Iteration: 315 Train loss: 0.063\n",
      "Epoch: 7/10 Iteration: 320 Train loss: 0.047\n",
      "Epoch: 8/10 Iteration: 325 Train loss: 0.060\n",
      "Val acc: 0.807\n",
      "Epoch: 8/10 Iteration: 330 Train loss: 0.054\n",
      "Epoch: 8/10 Iteration: 335 Train loss: 0.087\n",
      "Epoch: 8/10 Iteration: 340 Train loss: 0.075\n",
      "Epoch: 8/10 Iteration: 345 Train loss: 0.050\n",
      "Epoch: 8/10 Iteration: 350 Train loss: 0.039\n",
      "Val acc: 0.846\n",
      "Epoch: 8/10 Iteration: 355 Train loss: 0.042\n",
      "Epoch: 8/10 Iteration: 360 Train loss: 0.029\n",
      "Epoch: 9/10 Iteration: 365 Train loss: 0.042\n",
      "Epoch: 9/10 Iteration: 370 Train loss: 0.039\n",
      "Epoch: 9/10 Iteration: 375 Train loss: 0.044\n",
      "Val acc: 0.828\n",
      "Epoch: 9/10 Iteration: 380 Train loss: 0.052\n",
      "Epoch: 9/10 Iteration: 385 Train loss: 0.042\n",
      "Epoch: 9/10 Iteration: 390 Train loss: 0.037\n",
      "Epoch: 9/10 Iteration: 395 Train loss: 0.034\n",
      "Epoch: 9/10 Iteration: 400 Train loss: 0.022\n",
      "Val acc: 0.851\n"
     ]
    }
   ],
   "source": [
    "epochs = 10\n",
    "\n",
    "with graph.as_default():\n",
    "    saver = tf.train.Saver()\n",
    "\n",
    "with tf.Session(graph=graph) as sess:\n",
    "    sess.run(tf.global_variables_initializer())\n",
    "    iteration = 1\n",
    "    for e in range(epochs):\n",
    "        state = sess.run(initial_state)\n",
    "        \n",
    "        for ii, (x, y) in enumerate(get_batches(\n",
    "            train_x, train_y, batch_size), 1):\n",
    "            \n",
    "            feed = {inputs_: x,\n",
    "                    labels_: y[:, None],\n",
    "                    keep_prob: 0.5,\n",
    "                    initial_state: state}\n",
    "            loss, state, _ = sess.run([cost, final_state, optimizer], \n",
    "                                      feed_dict=feed)\n",
    "            \n",
    "            if iteration % 5 == 0:\n",
    "                print(\"Epoch: {}/{}\".format(e, epochs),\n",
    "                      \"Iteration: {}\".format(iteration),\n",
    "                      \"Train loss: {:.3f}\".format(loss))\n",
    "\n",
    "            if iteration % 25 == 0:\n",
    "                val_acc = []\n",
    "                val_state = sess.run(cell.zero_state(batch_size, \n",
    "                                                     tf.float32))\n",
    "                for x, y in get_batches(val_x, val_y, batch_size):\n",
    "                    feed = {inputs_: x,\n",
    "                            labels_: y[:, None],\n",
    "                            keep_prob: 1,\n",
    "                            initial_state: val_state}\n",
    "                    batch_acc, val_state = sess.run(\n",
    "                        [accuracy, final_state], feed_dict=feed)\n",
    "                    val_acc.append(batch_acc)\n",
    "                print(\"Val acc: {:.3f}\".format(np.mean(val_acc)))\n",
    "            iteration +=1\n",
    "    saver.save(sess, \"checkpoints/sentiment.ckpt\")"
   ]
  },
  {
   "cell_type": "markdown",
   "metadata": {},
   "source": [
    "## Testing"
   ]
  },
  {
   "cell_type": "code",
   "execution_count": 26,
   "metadata": {},
   "outputs": [
    {
     "name": "stdout",
     "output_type": "stream",
     "text": [
      "INFO:tensorflow:Restoring parameters from checkpoints/sentiment.ckpt\n",
      "Test accuracy: 0.853\n"
     ]
    }
   ],
   "source": [
    "test_acc = []\n",
    "with tf.Session(graph=graph) as sess:\n",
    "    saver.restore(sess, tf.train.latest_checkpoint('checkpoints'))\n",
    "    test_state = sess.run(cell.zero_state(batch_size, tf.float32))\n",
    "    for ii, (x, y) in enumerate(get_batches(test_x, test_y, batch_size), 1):\n",
    "        feed = {inputs_: x,\n",
    "                labels_: y[:, None],\n",
    "                keep_prob: 1,\n",
    "                initial_state: test_state}\n",
    "        batch_acc, test_state = sess.run([accuracy, final_state], feed_dict=feed)\n",
    "        test_acc.append(batch_acc)\n",
    "    print(\"Test accuracy: {:.3f}\".format(np.mean(test_acc)))"
   ]
  },
  {
   "cell_type": "code",
   "execution_count": null,
   "metadata": {
    "collapsed": true
   },
   "outputs": [],
   "source": []
  }
 ],
 "metadata": {
  "kernelspec": {
   "display_name": "Python 3",
   "language": "python",
   "name": "python3"
  },
  "language_info": {
   "codemirror_mode": {
    "name": "ipython",
    "version": 3
   },
   "file_extension": ".py",
   "mimetype": "text/x-python",
   "name": "python",
   "nbconvert_exporter": "python",
   "pygments_lexer": "ipython3",
   "version": "3.6.2"
  }
 },
 "nbformat": 4,
 "nbformat_minor": 2
}
