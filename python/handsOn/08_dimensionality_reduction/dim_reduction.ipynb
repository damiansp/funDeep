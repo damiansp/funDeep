{
 "cells": [
  {
   "cell_type": "code",
   "execution_count": 24,
   "metadata": {},
   "outputs": [],
   "source": [
    "import matplotlib.pyplot as plt\n",
    "import numpy as np\n",
    "import pandas as pd\n",
    "from   sklearn.decomposition import IncrementalPCA, KernelPCA, PCA\n",
    "from   sklearn.linear_model import LogisticRegression\n",
    "from   sklearn.model_selection import GridSearchCV\n",
    "from   sklearn.pipeline import Pipeline\n",
    "\n",
    "%matplotlib inline"
   ]
  },
  {
   "cell_type": "markdown",
   "metadata": {},
   "source": [
    "### Make some highly-correlated data"
   ]
  },
  {
   "cell_type": "code",
   "execution_count": 2,
   "metadata": {},
   "outputs": [],
   "source": [
    "n_cols = 50\n",
    "n_rows = 500\n",
    "\n",
    "X = pd.DataFrame(data=np.zeros([n_rows, n_cols]), \n",
    "                 columns=[f'x{i + 1}' for i in range(n_cols)])"
   ]
  },
  {
   "cell_type": "code",
   "execution_count": 3,
   "metadata": {},
   "outputs": [],
   "source": [
    "X.x1 = np.random.uniform(size=n_rows)\n",
    "for c in range(2, n_cols + 1):\n",
    "    intercept = np.random.uniform(-10, 10, size=1)\n",
    "    slope = np.random.uniform(-3, 3, 1)\n",
    "    noise = np.random.normal(\n",
    "        scale=np.random.uniform(0.01, np.abs(slope), n_rows))\n",
    "    c2 = np.random.choice(range(1, c))\n",
    "    X[f'x{c}'] = intercept + slope * X[f'x{c2}'] + noise"
   ]
  },
  {
   "cell_type": "code",
   "execution_count": 4,
   "metadata": {},
   "outputs": [
    {
     "data": {
      "text/html": [
       "<div>\n",
       "<style scoped>\n",
       "    .dataframe tbody tr th:only-of-type {\n",
       "        vertical-align: middle;\n",
       "    }\n",
       "\n",
       "    .dataframe tbody tr th {\n",
       "        vertical-align: top;\n",
       "    }\n",
       "\n",
       "    .dataframe thead th {\n",
       "        text-align: right;\n",
       "    }\n",
       "</style>\n",
       "<table border=\"1\" class=\"dataframe\">\n",
       "  <thead>\n",
       "    <tr style=\"text-align: right;\">\n",
       "      <th></th>\n",
       "      <th>x1</th>\n",
       "      <th>x2</th>\n",
       "      <th>x3</th>\n",
       "      <th>x4</th>\n",
       "      <th>x5</th>\n",
       "      <th>x6</th>\n",
       "      <th>x7</th>\n",
       "      <th>x8</th>\n",
       "      <th>x9</th>\n",
       "      <th>x10</th>\n",
       "      <th>...</th>\n",
       "      <th>x41</th>\n",
       "      <th>x42</th>\n",
       "      <th>x43</th>\n",
       "      <th>x44</th>\n",
       "      <th>x45</th>\n",
       "      <th>x46</th>\n",
       "      <th>x47</th>\n",
       "      <th>x48</th>\n",
       "      <th>x49</th>\n",
       "      <th>x50</th>\n",
       "    </tr>\n",
       "  </thead>\n",
       "  <tbody>\n",
       "    <tr>\n",
       "      <td>0</td>\n",
       "      <td>0.837094</td>\n",
       "      <td>-3.120181</td>\n",
       "      <td>9.816461</td>\n",
       "      <td>4.159235</td>\n",
       "      <td>11.811405</td>\n",
       "      <td>22.272108</td>\n",
       "      <td>-19.164694</td>\n",
       "      <td>18.848765</td>\n",
       "      <td>10.582789</td>\n",
       "      <td>32.597206</td>\n",
       "      <td>...</td>\n",
       "      <td>-12.206787</td>\n",
       "      <td>-46.247946</td>\n",
       "      <td>135.524622</td>\n",
       "      <td>47.681811</td>\n",
       "      <td>-0.668867</td>\n",
       "      <td>-2.669925</td>\n",
       "      <td>-11.438041</td>\n",
       "      <td>28.465796</td>\n",
       "      <td>181.692659</td>\n",
       "      <td>-274.327374</td>\n",
       "    </tr>\n",
       "    <tr>\n",
       "      <td>1</td>\n",
       "      <td>0.116409</td>\n",
       "      <td>-2.874234</td>\n",
       "      <td>9.561101</td>\n",
       "      <td>3.329488</td>\n",
       "      <td>11.224593</td>\n",
       "      <td>20.159731</td>\n",
       "      <td>-16.542951</td>\n",
       "      <td>15.983409</td>\n",
       "      <td>10.361607</td>\n",
       "      <td>28.603283</td>\n",
       "      <td>...</td>\n",
       "      <td>-13.775484</td>\n",
       "      <td>-47.688496</td>\n",
       "      <td>140.564690</td>\n",
       "      <td>47.538607</td>\n",
       "      <td>-1.517538</td>\n",
       "      <td>-0.830949</td>\n",
       "      <td>-12.187985</td>\n",
       "      <td>26.280327</td>\n",
       "      <td>163.650748</td>\n",
       "      <td>-246.072861</td>\n",
       "    </tr>\n",
       "    <tr>\n",
       "      <td>2</td>\n",
       "      <td>0.470606</td>\n",
       "      <td>-2.615497</td>\n",
       "      <td>9.776808</td>\n",
       "      <td>2.786051</td>\n",
       "      <td>12.297530</td>\n",
       "      <td>27.300324</td>\n",
       "      <td>-24.384467</td>\n",
       "      <td>25.028505</td>\n",
       "      <td>10.570306</td>\n",
       "      <td>39.273030</td>\n",
       "      <td>...</td>\n",
       "      <td>-14.125285</td>\n",
       "      <td>-57.955459</td>\n",
       "      <td>169.310404</td>\n",
       "      <td>48.595119</td>\n",
       "      <td>-1.239382</td>\n",
       "      <td>-3.000423</td>\n",
       "      <td>-12.479067</td>\n",
       "      <td>30.728705</td>\n",
       "      <td>225.390766</td>\n",
       "      <td>-342.757420</td>\n",
       "    </tr>\n",
       "    <tr>\n",
       "      <td>3</td>\n",
       "      <td>0.721263</td>\n",
       "      <td>-4.624237</td>\n",
       "      <td>9.820764</td>\n",
       "      <td>3.466076</td>\n",
       "      <td>11.675928</td>\n",
       "      <td>22.934599</td>\n",
       "      <td>-19.425866</td>\n",
       "      <td>20.180282</td>\n",
       "      <td>10.927898</td>\n",
       "      <td>33.280468</td>\n",
       "      <td>...</td>\n",
       "      <td>-14.969452</td>\n",
       "      <td>-52.089065</td>\n",
       "      <td>151.934326</td>\n",
       "      <td>44.696061</td>\n",
       "      <td>-0.290423</td>\n",
       "      <td>-3.514053</td>\n",
       "      <td>-11.392942</td>\n",
       "      <td>27.702217</td>\n",
       "      <td>187.043653</td>\n",
       "      <td>-283.120444</td>\n",
       "    </tr>\n",
       "    <tr>\n",
       "      <td>4</td>\n",
       "      <td>0.724899</td>\n",
       "      <td>-1.934100</td>\n",
       "      <td>9.880730</td>\n",
       "      <td>4.877769</td>\n",
       "      <td>13.726438</td>\n",
       "      <td>23.105075</td>\n",
       "      <td>-20.255378</td>\n",
       "      <td>20.215752</td>\n",
       "      <td>11.508087</td>\n",
       "      <td>31.394738</td>\n",
       "      <td>...</td>\n",
       "      <td>-12.662791</td>\n",
       "      <td>-49.080796</td>\n",
       "      <td>143.217681</td>\n",
       "      <td>46.911070</td>\n",
       "      <td>-1.110493</td>\n",
       "      <td>-3.478767</td>\n",
       "      <td>-13.154336</td>\n",
       "      <td>33.929255</td>\n",
       "      <td>177.842026</td>\n",
       "      <td>-268.071625</td>\n",
       "    </tr>\n",
       "  </tbody>\n",
       "</table>\n",
       "<p>5 rows × 50 columns</p>\n",
       "</div>"
      ],
      "text/plain": [
       "         x1        x2        x3        x4         x5         x6         x7  \\\n",
       "0  0.837094 -3.120181  9.816461  4.159235  11.811405  22.272108 -19.164694   \n",
       "1  0.116409 -2.874234  9.561101  3.329488  11.224593  20.159731 -16.542951   \n",
       "2  0.470606 -2.615497  9.776808  2.786051  12.297530  27.300324 -24.384467   \n",
       "3  0.721263 -4.624237  9.820764  3.466076  11.675928  22.934599 -19.425866   \n",
       "4  0.724899 -1.934100  9.880730  4.877769  13.726438  23.105075 -20.255378   \n",
       "\n",
       "          x8         x9        x10  ...        x41        x42         x43  \\\n",
       "0  18.848765  10.582789  32.597206  ... -12.206787 -46.247946  135.524622   \n",
       "1  15.983409  10.361607  28.603283  ... -13.775484 -47.688496  140.564690   \n",
       "2  25.028505  10.570306  39.273030  ... -14.125285 -57.955459  169.310404   \n",
       "3  20.180282  10.927898  33.280468  ... -14.969452 -52.089065  151.934326   \n",
       "4  20.215752  11.508087  31.394738  ... -12.662791 -49.080796  143.217681   \n",
       "\n",
       "         x44       x45       x46        x47        x48         x49         x50  \n",
       "0  47.681811 -0.668867 -2.669925 -11.438041  28.465796  181.692659 -274.327374  \n",
       "1  47.538607 -1.517538 -0.830949 -12.187985  26.280327  163.650748 -246.072861  \n",
       "2  48.595119 -1.239382 -3.000423 -12.479067  30.728705  225.390766 -342.757420  \n",
       "3  44.696061 -0.290423 -3.514053 -11.392942  27.702217  187.043653 -283.120444  \n",
       "4  46.911070 -1.110493 -3.478767 -13.154336  33.929255  177.842026 -268.071625  \n",
       "\n",
       "[5 rows x 50 columns]"
      ]
     },
     "execution_count": 4,
     "metadata": {},
     "output_type": "execute_result"
    }
   ],
   "source": [
    "X.head()"
   ]
  },
  {
   "cell_type": "code",
   "execution_count": 5,
   "metadata": {},
   "outputs": [],
   "source": [
    "pca = PCA(n_components=2)\n",
    "X2D = pca.fit_transform(X)"
   ]
  },
  {
   "cell_type": "code",
   "execution_count": 6,
   "metadata": {},
   "outputs": [
    {
     "data": {
      "text/plain": [
       "array([0.86914159, 0.03636881])"
      ]
     },
     "execution_count": 6,
     "metadata": {},
     "output_type": "execute_result"
    }
   ],
   "source": [
    "# variance explained by each of the first 2 PCs\n",
    "pca.explained_variance_ratio_ "
   ]
  },
  {
   "cell_type": "code",
   "execution_count": 7,
   "metadata": {},
   "outputs": [
    {
     "data": {
      "text/plain": [
       "5"
      ]
     },
     "execution_count": 7,
     "metadata": {},
     "output_type": "execute_result"
    }
   ],
   "source": [
    "pca = PCA()\n",
    "pca.fit(X)\n",
    "cumsum = np.cumsum(pca.explained_variance_ratio_)\n",
    "d = np.argmax(cumsum >= 0.95) + 1\n",
    "d"
   ]
  },
  {
   "cell_type": "code",
   "execution_count": 8,
   "metadata": {},
   "outputs": [
    {
     "data": {
      "image/png": "[encoded data removed]",
      "text/plain": [
       "<Figure size 432x288 with 1 Axes>"
      ]
     },
     "metadata": {
      "needs_background": "light"
     },
     "output_type": "display_data"
    }
   ],
   "source": [
    "plt.plot(cumsum);\n",
    "plt.axhline(0.95, c='k', alpha=0.5)\n",
    "plt.scatter(d, cumsum[d], c='r');"
   ]
  },
  {
   "cell_type": "code",
   "execution_count": 9,
   "metadata": {},
   "outputs": [],
   "source": [
    "pca = PCA(n_components=0.95)\n",
    "X_red = pca.fit_transform(X)"
   ]
  },
  {
   "cell_type": "code",
   "execution_count": 10,
   "metadata": {},
   "outputs": [
    {
     "data": {
      "text/plain": [
       "(500, 5)"
      ]
     },
     "execution_count": 10,
     "metadata": {},
     "output_type": "execute_result"
    }
   ],
   "source": [
    "X_red.shape"
   ]
  },
  {
   "cell_type": "code",
   "execution_count": 11,
   "metadata": {},
   "outputs": [
    {
     "data": {
      "text/html": [
       "<div>\n",
       "<style scoped>\n",
       "    .dataframe tbody tr th:only-of-type {\n",
       "        vertical-align: middle;\n",
       "    }\n",
       "\n",
       "    .dataframe tbody tr th {\n",
       "        vertical-align: top;\n",
       "    }\n",
       "\n",
       "    .dataframe thead th {\n",
       "        text-align: right;\n",
       "    }\n",
       "</style>\n",
       "<table border=\"1\" class=\"dataframe\">\n",
       "  <thead>\n",
       "    <tr style=\"text-align: right;\">\n",
       "      <th></th>\n",
       "      <th>0</th>\n",
       "      <th>1</th>\n",
       "      <th>2</th>\n",
       "      <th>3</th>\n",
       "      <th>4</th>\n",
       "      <th>5</th>\n",
       "      <th>6</th>\n",
       "      <th>7</th>\n",
       "      <th>8</th>\n",
       "      <th>9</th>\n",
       "      <th>...</th>\n",
       "      <th>40</th>\n",
       "      <th>41</th>\n",
       "      <th>42</th>\n",
       "      <th>43</th>\n",
       "      <th>44</th>\n",
       "      <th>45</th>\n",
       "      <th>46</th>\n",
       "      <th>47</th>\n",
       "      <th>48</th>\n",
       "      <th>49</th>\n",
       "    </tr>\n",
       "  </thead>\n",
       "  <tbody>\n",
       "    <tr>\n",
       "      <td>0</td>\n",
       "      <td>0.509618</td>\n",
       "      <td>-2.590402</td>\n",
       "      <td>9.773067</td>\n",
       "      <td>4.080876</td>\n",
       "      <td>11.564680</td>\n",
       "      <td>22.108389</td>\n",
       "      <td>-18.840613</td>\n",
       "      <td>18.629033</td>\n",
       "      <td>10.478203</td>\n",
       "      <td>32.064092</td>\n",
       "      <td>...</td>\n",
       "      <td>-14.876618</td>\n",
       "      <td>-46.236577</td>\n",
       "      <td>135.727801</td>\n",
       "      <td>47.716133</td>\n",
       "      <td>-0.594395</td>\n",
       "      <td>-2.441169</td>\n",
       "      <td>-12.064800</td>\n",
       "      <td>27.618959</td>\n",
       "      <td>182.025429</td>\n",
       "      <td>-274.668079</td>\n",
       "    </tr>\n",
       "    <tr>\n",
       "      <td>1</td>\n",
       "      <td>0.590322</td>\n",
       "      <td>-2.521501</td>\n",
       "      <td>9.777557</td>\n",
       "      <td>3.953061</td>\n",
       "      <td>11.128293</td>\n",
       "      <td>21.088974</td>\n",
       "      <td>-18.022631</td>\n",
       "      <td>17.657272</td>\n",
       "      <td>10.228782</td>\n",
       "      <td>29.195870</td>\n",
       "      <td>...</td>\n",
       "      <td>-14.712232</td>\n",
       "      <td>-47.403169</td>\n",
       "      <td>139.686279</td>\n",
       "      <td>47.409369</td>\n",
       "      <td>-1.354542</td>\n",
       "      <td>-2.766010</td>\n",
       "      <td>-12.212018</td>\n",
       "      <td>26.170896</td>\n",
       "      <td>162.968401</td>\n",
       "      <td>-245.256072</td>\n",
       "    </tr>\n",
       "    <tr>\n",
       "      <td>2</td>\n",
       "      <td>0.562157</td>\n",
       "      <td>-2.654051</td>\n",
       "      <td>9.808921</td>\n",
       "      <td>4.002433</td>\n",
       "      <td>11.624619</td>\n",
       "      <td>27.710066</td>\n",
       "      <td>-25.127884</td>\n",
       "      <td>25.760939</td>\n",
       "      <td>10.473177</td>\n",
       "      <td>39.953962</td>\n",
       "      <td>...</td>\n",
       "      <td>-14.853934</td>\n",
       "      <td>-57.938837</td>\n",
       "      <td>168.379017</td>\n",
       "      <td>48.580876</td>\n",
       "      <td>-1.090225</td>\n",
       "      <td>-2.799718</td>\n",
       "      <td>-12.208477</td>\n",
       "      <td>27.362531</td>\n",
       "      <td>225.033053</td>\n",
       "      <td>-341.056752</td>\n",
       "    </tr>\n",
       "    <tr>\n",
       "      <td>3</td>\n",
       "      <td>0.543774</td>\n",
       "      <td>-2.608334</td>\n",
       "      <td>9.777270</td>\n",
       "      <td>4.050856</td>\n",
       "      <td>11.164357</td>\n",
       "      <td>23.566246</td>\n",
       "      <td>-20.608584</td>\n",
       "      <td>20.614538</td>\n",
       "      <td>10.200193</td>\n",
       "      <td>33.369015</td>\n",
       "      <td>...</td>\n",
       "      <td>-14.808627</td>\n",
       "      <td>-51.497211</td>\n",
       "      <td>151.028973</td>\n",
       "      <td>44.653790</td>\n",
       "      <td>-0.428012</td>\n",
       "      <td>-2.515540</td>\n",
       "      <td>-12.109040</td>\n",
       "      <td>26.666505</td>\n",
       "      <td>186.827752</td>\n",
       "      <td>-281.935384</td>\n",
       "    </tr>\n",
       "    <tr>\n",
       "      <td>4</td>\n",
       "      <td>0.599342</td>\n",
       "      <td>-2.637283</td>\n",
       "      <td>9.786200</td>\n",
       "      <td>4.033482</td>\n",
       "      <td>12.500533</td>\n",
       "      <td>22.415206</td>\n",
       "      <td>-19.368188</td>\n",
       "      <td>19.314077</td>\n",
       "      <td>11.184935</td>\n",
       "      <td>31.655894</td>\n",
       "      <td>...</td>\n",
       "      <td>-14.722791</td>\n",
       "      <td>-48.983376</td>\n",
       "      <td>143.985971</td>\n",
       "      <td>47.172833</td>\n",
       "      <td>-0.953863</td>\n",
       "      <td>-2.849531</td>\n",
       "      <td>-12.050985</td>\n",
       "      <td>30.363615</td>\n",
       "      <td>177.735777</td>\n",
       "      <td>-268.007669</td>\n",
       "    </tr>\n",
       "  </tbody>\n",
       "</table>\n",
       "<p>5 rows × 50 columns</p>\n",
       "</div>"
      ],
      "text/plain": [
       "         0         1         2         3          4          5          6   \\\n",
       "0  0.509618 -2.590402  9.773067  4.080876  11.564680  22.108389 -18.840613   \n",
       "1  0.590322 -2.521501  9.777557  3.953061  11.128293  21.088974 -18.022631   \n",
       "2  0.562157 -2.654051  9.808921  4.002433  11.624619  27.710066 -25.127884   \n",
       "3  0.543774 -2.608334  9.777270  4.050856  11.164357  23.566246 -20.608584   \n",
       "4  0.599342 -2.637283  9.786200  4.033482  12.500533  22.415206 -19.368188   \n",
       "\n",
       "          7          8          9   ...         40         41          42  \\\n",
       "0  18.629033  10.478203  32.064092  ... -14.876618 -46.236577  135.727801   \n",
       "1  17.657272  10.228782  29.195870  ... -14.712232 -47.403169  139.686279   \n",
       "2  25.760939  10.473177  39.953962  ... -14.853934 -57.938837  168.379017   \n",
       "3  20.614538  10.200193  33.369015  ... -14.808627 -51.497211  151.028973   \n",
       "4  19.314077  11.184935  31.655894  ... -14.722791 -48.983376  143.985971   \n",
       "\n",
       "          43        44        45         46         47          48          49  \n",
       "0  47.716133 -0.594395 -2.441169 -12.064800  27.618959  182.025429 -274.668079  \n",
       "1  47.409369 -1.354542 -2.766010 -12.212018  26.170896  162.968401 -245.256072  \n",
       "2  48.580876 -1.090225 -2.799718 -12.208477  27.362531  225.033053 -341.056752  \n",
       "3  44.653790 -0.428012 -2.515540 -12.109040  26.666505  186.827752 -281.935384  \n",
       "4  47.172833 -0.953863 -2.849531 -12.050985  30.363615  177.735777 -268.007669  \n",
       "\n",
       "[5 rows x 50 columns]"
      ]
     },
     "execution_count": 11,
     "metadata": {},
     "output_type": "execute_result"
    }
   ],
   "source": [
    "X_recovered = pca.inverse_transform(X_red)\n",
    "pd.DataFrame(X_recovered).head()"
   ]
  },
  {
   "cell_type": "code",
   "execution_count": 12,
   "metadata": {},
   "outputs": [],
   "source": [
    "# us. faster if m or n > ~500\n",
    "rnd_pca = PCA(n_components=25, svd_solver='randomized') \n",
    "X_red = rnd_pca.fit_transform(X)"
   ]
  },
  {
   "cell_type": "markdown",
   "metadata": {},
   "source": [
    "### Incremental PCA"
   ]
  },
  {
   "cell_type": "code",
   "execution_count": 16,
   "metadata": {},
   "outputs": [],
   "source": [
    "N_BATCHES = 5\n",
    "inc_pca = IncrementalPCA(n_components=20)\n",
    "\n",
    "for X_batch in np.array_split(X, N_BATCHES):\n",
    "    inc_pca.partial_fit(X_batch)\n",
    "    \n",
    "X_reducesd = inc_pca.transform(X)"
   ]
  },
  {
   "cell_type": "code",
   "execution_count": 17,
   "metadata": {},
   "outputs": [],
   "source": [
    "# Alternately\n",
    "#X_mn = np.memmap(\n",
    "#    filename, dtype='float32', mode='readonly', shape=(m, n))\n",
    "#BATCH_SIZE = m // N_BATCHES\n",
    "#inc_pca = IncrementalPCA(n_components=20, batch_size=BATCH_SIZE)\n",
    "#inc_pca.fit(X_mn)"
   ]
  },
  {
   "cell_type": "markdown",
   "metadata": {},
   "source": [
    "### Kernel PCA"
   ]
  },
  {
   "cell_type": "code",
   "execution_count": 20,
   "metadata": {},
   "outputs": [],
   "source": [
    "rbf_pca = KernelPCA(n_components=2, kernel='rbf', gamma=0.04)\n",
    "X_reduced = rbf_pca.fit_transform(X)"
   ]
  },
  {
   "cell_type": "code",
   "execution_count": 23,
   "metadata": {},
   "outputs": [
    {
     "data": {
      "image/png": "[encoded data removed]",
      "text/plain": [
       "<Figure size 432x288 with 1 Axes>"
      ]
     },
     "metadata": {
      "needs_background": "light"
     },
     "output_type": "display_data"
    }
   ],
   "source": [
    "plt.scatter([x[0] for x in X_reduced], [x[1] for x in X_reduced], \n",
    "            alpha=0.2);"
   ]
  },
  {
   "cell_type": "markdown",
   "metadata": {},
   "source": [
    "Selecting a Kernel and Tuning Parameters"
   ]
  },
  {
   "cell_type": "code",
   "execution_count": null,
   "metadata": {},
   "outputs": [],
   "source": [
    "clf = Pipeline([('kpca', KernelPCA(n_components=2)),\n",
    "                ('log_reg', LogisticRegression())])\n",
    "param_grid = [{'kpca__gamma': np.linspace(0.3, 0.5, 10),\n",
    "               'kpca__kernel': ['rbf', 'sigmoid']}]\n",
    "grid_search = GridSearchCV(clf, param_grid, cv=3)\n",
    "grid_search.fit(X, y)\n",
    "print(grid_search.best_params)"
   ]
  }
 ],
 "metadata": {
  "kernelspec": {
   "display_name": "Python 3",
   "language": "python",
   "name": "python3"
  },
  "language_info": {
   "codemirror_mode": {
    "name": "ipython",
    "version": 3
   },
   "file_extension": ".py",
   "mimetype": "text/x-python",
   "name": "python",
   "nbconvert_exporter": "python",
   "pygments_lexer": "ipython3",
   "version": "3.7.4"
  }
 },
 "nbformat": 4,
 "nbformat_minor": 2
}
