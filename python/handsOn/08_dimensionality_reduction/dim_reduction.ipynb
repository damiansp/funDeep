{
 "cells": [
  {
   "cell_type": "code",
   "execution_count": 31,
   "metadata": {},
   "outputs": [],
   "source": [
    "import matplotlib.pyplot as plt\n",
    "import numpy as np\n",
    "import pandas as pd\n",
    "from   sklearn.decomposition import IncrementalPCA, KernelPCA, PCA\n",
    "from   sklearn.linear_model import LogisticRegression\n",
    "from   sklearn.manifold import LocallyLinearEmbedding as LLE\n",
    "from   sklearn.metrics import mean_squared_error as mse\n",
    "from   sklearn.model_selection import GridSearchCV\n",
    "from   sklearn.pipeline import Pipeline\n",
    "\n",
    "%matplotlib inline"
   ]
  },
  {
   "cell_type": "markdown",
   "metadata": {},
   "source": [
    "### Make some highly-correlated data"
   ]
  },
  {
   "cell_type": "code",
   "execution_count": 2,
   "metadata": {},
   "outputs": [],
   "source": [
    "n_cols = 50\n",
    "n_rows = 500\n",
    "\n",
    "X = pd.DataFrame(data=np.zeros([n_rows, n_cols]), \n",
    "                 columns=[f'x{i + 1}' for i in range(n_cols)])"
   ]
  },
  {
   "cell_type": "code",
   "execution_count": 3,
   "metadata": {},
   "outputs": [],
   "source": [
    "X.x1 = np.random.uniform(size=n_rows)\n",
    "for c in range(2, n_cols + 1):\n",
    "    intercept = np.random.uniform(-10, 10, size=1)\n",
    "    slope = np.random.uniform(-3, 3, 1)\n",
    "    noise = np.random.normal(\n",
    "        scale=np.random.uniform(0.01, np.abs(slope), n_rows))\n",
    "    c2 = np.random.choice(range(1, c))\n",
    "    X[f'x{c}'] = intercept + slope * X[f'x{c2}'] + noise"
   ]
  },
  {
   "cell_type": "code",
   "execution_count": 4,
   "metadata": {},
   "outputs": [
    {
     "data": {
      "text/html": [
       "<div>\n",
       "<style scoped>\n",
       "    .dataframe tbody tr th:only-of-type {\n",
       "        vertical-align: middle;\n",
       "    }\n",
       "\n",
       "    .dataframe tbody tr th {\n",
       "        vertical-align: top;\n",
       "    }\n",
       "\n",
       "    .dataframe thead th {\n",
       "        text-align: right;\n",
       "    }\n",
       "</style>\n",
       "<table border=\"1\" class=\"dataframe\">\n",
       "  <thead>\n",
       "    <tr style=\"text-align: right;\">\n",
       "      <th></th>\n",
       "      <th>x1</th>\n",
       "      <th>x2</th>\n",
       "      <th>x3</th>\n",
       "      <th>x4</th>\n",
       "      <th>x5</th>\n",
       "      <th>x6</th>\n",
       "      <th>x7</th>\n",
       "      <th>x8</th>\n",
       "      <th>x9</th>\n",
       "      <th>x10</th>\n",
       "      <th>...</th>\n",
       "      <th>x41</th>\n",
       "      <th>x42</th>\n",
       "      <th>x43</th>\n",
       "      <th>x44</th>\n",
       "      <th>x45</th>\n",
       "      <th>x46</th>\n",
       "      <th>x47</th>\n",
       "      <th>x48</th>\n",
       "      <th>x49</th>\n",
       "      <th>x50</th>\n",
       "    </tr>\n",
       "  </thead>\n",
       "  <tbody>\n",
       "    <tr>\n",
       "      <td>0</td>\n",
       "      <td>0.816645</td>\n",
       "      <td>8.454015</td>\n",
       "      <td>-0.545023</td>\n",
       "      <td>7.981188</td>\n",
       "      <td>-7.117035</td>\n",
       "      <td>-7.347763</td>\n",
       "      <td>-12.012326</td>\n",
       "      <td>-22.583301</td>\n",
       "      <td>13.823841</td>\n",
       "      <td>-41.180153</td>\n",
       "      <td>...</td>\n",
       "      <td>4.277622</td>\n",
       "      <td>-35.015668</td>\n",
       "      <td>1.456630</td>\n",
       "      <td>-6.052178</td>\n",
       "      <td>-84.319207</td>\n",
       "      <td>-36.459157</td>\n",
       "      <td>291.392005</td>\n",
       "      <td>-31.208496</td>\n",
       "      <td>12.848542</td>\n",
       "      <td>9.964656</td>\n",
       "    </tr>\n",
       "    <tr>\n",
       "      <td>1</td>\n",
       "      <td>0.434301</td>\n",
       "      <td>9.355319</td>\n",
       "      <td>-0.044246</td>\n",
       "      <td>7.773932</td>\n",
       "      <td>-7.209484</td>\n",
       "      <td>-6.988225</td>\n",
       "      <td>-12.958119</td>\n",
       "      <td>-20.916872</td>\n",
       "      <td>15.472749</td>\n",
       "      <td>-44.673124</td>\n",
       "      <td>...</td>\n",
       "      <td>3.361459</td>\n",
       "      <td>-37.223217</td>\n",
       "      <td>-0.913944</td>\n",
       "      <td>-5.980090</td>\n",
       "      <td>-90.135155</td>\n",
       "      <td>-37.747203</td>\n",
       "      <td>318.913318</td>\n",
       "      <td>-31.009736</td>\n",
       "      <td>13.582008</td>\n",
       "      <td>11.159464</td>\n",
       "    </tr>\n",
       "    <tr>\n",
       "      <td>2</td>\n",
       "      <td>0.496046</td>\n",
       "      <td>8.023062</td>\n",
       "      <td>-0.167151</td>\n",
       "      <td>8.465247</td>\n",
       "      <td>-6.920041</td>\n",
       "      <td>-6.819159</td>\n",
       "      <td>-11.475435</td>\n",
       "      <td>-21.831217</td>\n",
       "      <td>12.908482</td>\n",
       "      <td>-38.009757</td>\n",
       "      <td>...</td>\n",
       "      <td>6.598625</td>\n",
       "      <td>-34.091976</td>\n",
       "      <td>-0.061563</td>\n",
       "      <td>-6.573382</td>\n",
       "      <td>-77.149453</td>\n",
       "      <td>-32.862149</td>\n",
       "      <td>269.825466</td>\n",
       "      <td>-34.289534</td>\n",
       "      <td>12.608070</td>\n",
       "      <td>5.425750</td>\n",
       "    </tr>\n",
       "    <tr>\n",
       "      <td>3</td>\n",
       "      <td>0.980487</td>\n",
       "      <td>6.990734</td>\n",
       "      <td>-0.152812</td>\n",
       "      <td>7.998346</td>\n",
       "      <td>-6.610046</td>\n",
       "      <td>-6.643653</td>\n",
       "      <td>-10.425224</td>\n",
       "      <td>-21.017948</td>\n",
       "      <td>9.376888</td>\n",
       "      <td>-29.076542</td>\n",
       "      <td>...</td>\n",
       "      <td>3.176190</td>\n",
       "      <td>-29.251957</td>\n",
       "      <td>0.157328</td>\n",
       "      <td>-6.833324</td>\n",
       "      <td>-72.021753</td>\n",
       "      <td>-30.220968</td>\n",
       "      <td>203.773686</td>\n",
       "      <td>-27.504921</td>\n",
       "      <td>10.952611</td>\n",
       "      <td>8.166603</td>\n",
       "    </tr>\n",
       "    <tr>\n",
       "      <td>4</td>\n",
       "      <td>0.653127</td>\n",
       "      <td>7.503660</td>\n",
       "      <td>-0.800962</td>\n",
       "      <td>8.179534</td>\n",
       "      <td>-6.915950</td>\n",
       "      <td>-7.926742</td>\n",
       "      <td>-12.117117</td>\n",
       "      <td>-21.425107</td>\n",
       "      <td>14.335516</td>\n",
       "      <td>-42.708795</td>\n",
       "      <td>...</td>\n",
       "      <td>2.276731</td>\n",
       "      <td>-34.886971</td>\n",
       "      <td>-0.092730</td>\n",
       "      <td>-5.741425</td>\n",
       "      <td>-88.543903</td>\n",
       "      <td>-37.927153</td>\n",
       "      <td>301.846078</td>\n",
       "      <td>-29.538144</td>\n",
       "      <td>13.160756</td>\n",
       "      <td>7.051499</td>\n",
       "    </tr>\n",
       "  </tbody>\n",
       "</table>\n",
       "<p>5 rows × 50 columns</p>\n",
       "</div>"
      ],
      "text/plain": [
       "         x1        x2        x3        x4        x5        x6         x7  \\\n",
       "0  0.816645  8.454015 -0.545023  7.981188 -7.117035 -7.347763 -12.012326   \n",
       "1  0.434301  9.355319 -0.044246  7.773932 -7.209484 -6.988225 -12.958119   \n",
       "2  0.496046  8.023062 -0.167151  8.465247 -6.920041 -6.819159 -11.475435   \n",
       "3  0.980487  6.990734 -0.152812  7.998346 -6.610046 -6.643653 -10.425224   \n",
       "4  0.653127  7.503660 -0.800962  8.179534 -6.915950 -7.926742 -12.117117   \n",
       "\n",
       "          x8         x9        x10  ...       x41        x42       x43  \\\n",
       "0 -22.583301  13.823841 -41.180153  ...  4.277622 -35.015668  1.456630   \n",
       "1 -20.916872  15.472749 -44.673124  ...  3.361459 -37.223217 -0.913944   \n",
       "2 -21.831217  12.908482 -38.009757  ...  6.598625 -34.091976 -0.061563   \n",
       "3 -21.017948   9.376888 -29.076542  ...  3.176190 -29.251957  0.157328   \n",
       "4 -21.425107  14.335516 -42.708795  ...  2.276731 -34.886971 -0.092730   \n",
       "\n",
       "        x44        x45        x46         x47        x48        x49        x50  \n",
       "0 -6.052178 -84.319207 -36.459157  291.392005 -31.208496  12.848542   9.964656  \n",
       "1 -5.980090 -90.135155 -37.747203  318.913318 -31.009736  13.582008  11.159464  \n",
       "2 -6.573382 -77.149453 -32.862149  269.825466 -34.289534  12.608070   5.425750  \n",
       "3 -6.833324 -72.021753 -30.220968  203.773686 -27.504921  10.952611   8.166603  \n",
       "4 -5.741425 -88.543903 -37.927153  301.846078 -29.538144  13.160756   7.051499  \n",
       "\n",
       "[5 rows x 50 columns]"
      ]
     },
     "execution_count": 4,
     "metadata": {},
     "output_type": "execute_result"
    }
   ],
   "source": [
    "X.head()"
   ]
  },
  {
   "cell_type": "code",
   "execution_count": 5,
   "metadata": {},
   "outputs": [],
   "source": [
    "pca = PCA(n_components=2)\n",
    "X2D = pca.fit_transform(X)"
   ]
  },
  {
   "cell_type": "code",
   "execution_count": 6,
   "metadata": {},
   "outputs": [
    {
     "data": {
      "text/plain": [
       "array([0.99041116, 0.00343077])"
      ]
     },
     "execution_count": 6,
     "metadata": {},
     "output_type": "execute_result"
    }
   ],
   "source": [
    "# variance explained by each of the first 2 PCs\n",
    "pca.explained_variance_ratio_ "
   ]
  },
  {
   "cell_type": "code",
   "execution_count": 7,
   "metadata": {},
   "outputs": [
    {
     "data": {
      "text/plain": [
       "1"
      ]
     },
     "execution_count": 7,
     "metadata": {},
     "output_type": "execute_result"
    }
   ],
   "source": [
    "pca = PCA()\n",
    "pca.fit(X)\n",
    "cumsum = np.cumsum(pca.explained_variance_ratio_)\n",
    "d = np.argmax(cumsum >= 0.95) + 1\n",
    "d"
   ]
  },
  {
   "cell_type": "code",
   "execution_count": 8,
   "metadata": {},
   "outputs": [
    {
     "data": {
      "image/png": "[encoded data removed]",
      "text/plain": [
       "<Figure size 432x288 with 1 Axes>"
      ]
     },
     "metadata": {
      "needs_background": "light"
     },
     "output_type": "display_data"
    }
   ],
   "source": [
    "plt.plot(cumsum);\n",
    "plt.axhline(0.95, c='k', alpha=0.5)\n",
    "plt.scatter(d, cumsum[d], c='r');"
   ]
  },
  {
   "cell_type": "code",
   "execution_count": 9,
   "metadata": {},
   "outputs": [],
   "source": [
    "pca = PCA(n_components=0.95)\n",
    "X_red = pca.fit_transform(X)"
   ]
  },
  {
   "cell_type": "code",
   "execution_count": 10,
   "metadata": {},
   "outputs": [
    {
     "data": {
      "text/plain": [
       "(500, 1)"
      ]
     },
     "execution_count": 10,
     "metadata": {},
     "output_type": "execute_result"
    }
   ],
   "source": [
    "X_red.shape"
   ]
  },
  {
   "cell_type": "code",
   "execution_count": 11,
   "metadata": {},
   "outputs": [
    {
     "data": {
      "text/html": [
       "<div>\n",
       "<style scoped>\n",
       "    .dataframe tbody tr th:only-of-type {\n",
       "        vertical-align: middle;\n",
       "    }\n",
       "\n",
       "    .dataframe tbody tr th {\n",
       "        vertical-align: top;\n",
       "    }\n",
       "\n",
       "    .dataframe thead th {\n",
       "        text-align: right;\n",
       "    }\n",
       "</style>\n",
       "<table border=\"1\" class=\"dataframe\">\n",
       "  <thead>\n",
       "    <tr style=\"text-align: right;\">\n",
       "      <th></th>\n",
       "      <th>0</th>\n",
       "      <th>1</th>\n",
       "      <th>2</th>\n",
       "      <th>3</th>\n",
       "      <th>4</th>\n",
       "      <th>5</th>\n",
       "      <th>6</th>\n",
       "      <th>7</th>\n",
       "      <th>8</th>\n",
       "      <th>9</th>\n",
       "      <th>...</th>\n",
       "      <th>40</th>\n",
       "      <th>41</th>\n",
       "      <th>42</th>\n",
       "      <th>43</th>\n",
       "      <th>44</th>\n",
       "      <th>45</th>\n",
       "      <th>46</th>\n",
       "      <th>47</th>\n",
       "      <th>48</th>\n",
       "      <th>49</th>\n",
       "    </tr>\n",
       "  </thead>\n",
       "  <tbody>\n",
       "    <tr>\n",
       "      <td>0</td>\n",
       "      <td>0.482137</td>\n",
       "      <td>8.538346</td>\n",
       "      <td>-0.654328</td>\n",
       "      <td>8.224196</td>\n",
       "      <td>-7.029296</td>\n",
       "      <td>-7.220233</td>\n",
       "      <td>-12.057054</td>\n",
       "      <td>-21.395582</td>\n",
       "      <td>13.897636</td>\n",
       "      <td>-41.007483</td>\n",
       "      <td>...</td>\n",
       "      <td>3.675589</td>\n",
       "      <td>-34.528684</td>\n",
       "      <td>-0.369530</td>\n",
       "      <td>-6.263333</td>\n",
       "      <td>-84.904675</td>\n",
       "      <td>-35.768013</td>\n",
       "      <td>290.343720</td>\n",
       "      <td>-31.900905</td>\n",
       "      <td>12.936225</td>\n",
       "      <td>9.276913</td>\n",
       "    </tr>\n",
       "    <tr>\n",
       "      <td>1</td>\n",
       "      <td>0.456592</td>\n",
       "      <td>9.079312</td>\n",
       "      <td>-0.632455</td>\n",
       "      <td>8.222118</td>\n",
       "      <td>-7.168203</td>\n",
       "      <td>-7.195076</td>\n",
       "      <td>-12.766742</td>\n",
       "      <td>-21.344837</td>\n",
       "      <td>15.320754</td>\n",
       "      <td>-45.089449</td>\n",
       "      <td>...</td>\n",
       "      <td>3.665512</td>\n",
       "      <td>-36.688915</td>\n",
       "      <td>-0.446114</td>\n",
       "      <td>-6.269099</td>\n",
       "      <td>-91.126810</td>\n",
       "      <td>-38.137816</td>\n",
       "      <td>321.167625</td>\n",
       "      <td>-31.888774</td>\n",
       "      <td>13.613699</td>\n",
       "      <td>10.395043</td>\n",
       "    </tr>\n",
       "    <tr>\n",
       "      <td>2</td>\n",
       "      <td>0.498707</td>\n",
       "      <td>8.187452</td>\n",
       "      <td>-0.668516</td>\n",
       "      <td>8.225544</td>\n",
       "      <td>-6.939195</td>\n",
       "      <td>-7.236550</td>\n",
       "      <td>-11.596718</td>\n",
       "      <td>-21.428498</td>\n",
       "      <td>12.974537</td>\n",
       "      <td>-38.359735</td>\n",
       "      <td>...</td>\n",
       "      <td>3.682125</td>\n",
       "      <td>-33.127460</td>\n",
       "      <td>-0.319854</td>\n",
       "      <td>-6.259592</td>\n",
       "      <td>-80.868715</td>\n",
       "      <td>-34.230851</td>\n",
       "      <td>270.349937</td>\n",
       "      <td>-31.908774</td>\n",
       "      <td>12.496785</td>\n",
       "      <td>8.551642</td>\n",
       "    </tr>\n",
       "    <tr>\n",
       "      <td>3</td>\n",
       "      <td>0.558348</td>\n",
       "      <td>6.924489</td>\n",
       "      <td>-0.719582</td>\n",
       "      <td>8.230396</td>\n",
       "      <td>-6.614898</td>\n",
       "      <td>-7.295281</td>\n",
       "      <td>-9.939847</td>\n",
       "      <td>-21.546972</td>\n",
       "      <td>9.652059</td>\n",
       "      <td>-28.829786</td>\n",
       "      <td>...</td>\n",
       "      <td>3.705651</td>\n",
       "      <td>-28.084084</td>\n",
       "      <td>-0.141057</td>\n",
       "      <td>-6.246130</td>\n",
       "      <td>-66.342225</td>\n",
       "      <td>-28.698196</td>\n",
       "      <td>198.387003</td>\n",
       "      <td>-31.937095</td>\n",
       "      <td>10.915122</td>\n",
       "      <td>5.941202</td>\n",
       "    </tr>\n",
       "    <tr>\n",
       "      <td>4</td>\n",
       "      <td>0.472799</td>\n",
       "      <td>8.736100</td>\n",
       "      <td>-0.646332</td>\n",
       "      <td>8.223436</td>\n",
       "      <td>-7.080075</td>\n",
       "      <td>-7.211036</td>\n",
       "      <td>-12.316486</td>\n",
       "      <td>-21.377032</td>\n",
       "      <td>14.417866</td>\n",
       "      <td>-42.499674</td>\n",
       "      <td>...</td>\n",
       "      <td>3.671906</td>\n",
       "      <td>-35.318371</td>\n",
       "      <td>-0.397526</td>\n",
       "      <td>-6.265441</td>\n",
       "      <td>-87.179219</td>\n",
       "      <td>-36.634311</td>\n",
       "      <td>301.611609</td>\n",
       "      <td>-31.896470</td>\n",
       "      <td>13.183880</td>\n",
       "      <td>9.685653</td>\n",
       "    </tr>\n",
       "  </tbody>\n",
       "</table>\n",
       "<p>5 rows × 50 columns</p>\n",
       "</div>"
      ],
      "text/plain": [
       "         0         1         2         3         4         5          6   \\\n",
       "0  0.482137  8.538346 -0.654328  8.224196 -7.029296 -7.220233 -12.057054   \n",
       "1  0.456592  9.079312 -0.632455  8.222118 -7.168203 -7.195076 -12.766742   \n",
       "2  0.498707  8.187452 -0.668516  8.225544 -6.939195 -7.236550 -11.596718   \n",
       "3  0.558348  6.924489 -0.719582  8.230396 -6.614898 -7.295281  -9.939847   \n",
       "4  0.472799  8.736100 -0.646332  8.223436 -7.080075 -7.211036 -12.316486   \n",
       "\n",
       "          7          8          9   ...        40         41        42  \\\n",
       "0 -21.395582  13.897636 -41.007483  ...  3.675589 -34.528684 -0.369530   \n",
       "1 -21.344837  15.320754 -45.089449  ...  3.665512 -36.688915 -0.446114   \n",
       "2 -21.428498  12.974537 -38.359735  ...  3.682125 -33.127460 -0.319854   \n",
       "3 -21.546972   9.652059 -28.829786  ...  3.705651 -28.084084 -0.141057   \n",
       "4 -21.377032  14.417866 -42.499674  ...  3.671906 -35.318371 -0.397526   \n",
       "\n",
       "         43         44         45          46         47         48         49  \n",
       "0 -6.263333 -84.904675 -35.768013  290.343720 -31.900905  12.936225   9.276913  \n",
       "1 -6.269099 -91.126810 -38.137816  321.167625 -31.888774  13.613699  10.395043  \n",
       "2 -6.259592 -80.868715 -34.230851  270.349937 -31.908774  12.496785   8.551642  \n",
       "3 -6.246130 -66.342225 -28.698196  198.387003 -31.937095  10.915122   5.941202  \n",
       "4 -6.265441 -87.179219 -36.634311  301.611609 -31.896470  13.183880   9.685653  \n",
       "\n",
       "[5 rows x 50 columns]"
      ]
     },
     "execution_count": 11,
     "metadata": {},
     "output_type": "execute_result"
    }
   ],
   "source": [
    "X_recovered = pca.inverse_transform(X_red)\n",
    "pd.DataFrame(X_recovered).head()"
   ]
  },
  {
   "cell_type": "code",
   "execution_count": 12,
   "metadata": {},
   "outputs": [],
   "source": [
    "# us. faster if m or n > ~500\n",
    "rnd_pca = PCA(n_components=25, svd_solver='randomized') \n",
    "X_red = rnd_pca.fit_transform(X)"
   ]
  },
  {
   "cell_type": "code",
   "execution_count": 30,
   "metadata": {},
   "outputs": [
    {
     "data": {
      "text/plain": [
       "2.0579242771368547"
      ]
     },
     "execution_count": 30,
     "metadata": {},
     "output_type": "execute_result"
    }
   ],
   "source": [
    "np.sqrt(mse(X, X_recovered))"
   ]
  },
  {
   "cell_type": "markdown",
   "metadata": {},
   "source": [
    "### Incremental PCA"
   ]
  },
  {
   "cell_type": "code",
   "execution_count": 13,
   "metadata": {},
   "outputs": [],
   "source": [
    "N_BATCHES = 5\n",
    "inc_pca = IncrementalPCA(n_components=20)\n",
    "\n",
    "for X_batch in np.array_split(X, N_BATCHES):\n",
    "    inc_pca.partial_fit(X_batch)\n",
    "    \n",
    "X_reducesd = inc_pca.transform(X)"
   ]
  },
  {
   "cell_type": "code",
   "execution_count": 14,
   "metadata": {},
   "outputs": [],
   "source": [
    "# Alternately\n",
    "#X_mn = np.memmap(\n",
    "#    filename, dtype='float32', mode='readonly', shape=(m, n))\n",
    "#BATCH_SIZE = m // N_BATCHES\n",
    "#inc_pca = IncrementalPCA(n_components=20, batch_size=BATCH_SIZE)\n",
    "#inc_pca.fit(X_mn)"
   ]
  },
  {
   "cell_type": "markdown",
   "metadata": {},
   "source": [
    "### Kernel PCA"
   ]
  },
  {
   "cell_type": "code",
   "execution_count": 15,
   "metadata": {},
   "outputs": [],
   "source": [
    "rbf_pca = KernelPCA(n_components=2, kernel='rbf', gamma=0.04)\n",
    "X_reduced = rbf_pca.fit_transform(X)"
   ]
  },
  {
   "cell_type": "code",
   "execution_count": 16,
   "metadata": {},
   "outputs": [
    {
     "data": {
      "image/png": "[encoded data removed]",
      "text/plain": [
       "<Figure size 432x288 with 1 Axes>"
      ]
     },
     "metadata": {
      "needs_background": "light"
     },
     "output_type": "display_data"
    }
   ],
   "source": [
    "plt.scatter([x[0] for x in X_reduced], [x[1] for x in X_reduced], \n",
    "            alpha=0.2);"
   ]
  },
  {
   "cell_type": "markdown",
   "metadata": {},
   "source": [
    "Selecting a Kernel and Tuning Parameters"
   ]
  },
  {
   "cell_type": "code",
   "execution_count": 18,
   "metadata": {},
   "outputs": [],
   "source": [
    "clf = Pipeline([('kpca', KernelPCA(n_components=2)),\n",
    "                ('log_reg', LogisticRegression())])\n",
    "param_grid = [{'kpca__gamma': np.linspace(0.3, 0.5, 10),\n",
    "               'kpca__kernel': ['rbf', 'sigmoid']}]\n",
    "grid_search = GridSearchCV(clf, param_grid, cv=3)\n",
    "#grid_search.fit(X, y)\n",
    "#print(grid_search.best_params)"
   ]
  },
  {
   "cell_type": "code",
   "execution_count": 26,
   "metadata": {},
   "outputs": [],
   "source": [
    "rbf_pca = KernelPCA(\n",
    "    n_components=25, kernel='rbf', gamma=0.04, fit_inverse_transform=True)\n",
    "X_reduced = rbf_pca.fit_transform(X)\n",
    "X_preimage = rbf_pca.inverse_transform(X_reduced)"
   ]
  },
  {
   "cell_type": "code",
   "execution_count": 27,
   "metadata": {},
   "outputs": [
    {
     "data": {
      "text/html": [
       "<div>\n",
       "<style scoped>\n",
       "    .dataframe tbody tr th:only-of-type {\n",
       "        vertical-align: middle;\n",
       "    }\n",
       "\n",
       "    .dataframe tbody tr th {\n",
       "        vertical-align: top;\n",
       "    }\n",
       "\n",
       "    .dataframe thead th {\n",
       "        text-align: right;\n",
       "    }\n",
       "</style>\n",
       "<table border=\"1\" class=\"dataframe\">\n",
       "  <thead>\n",
       "    <tr style=\"text-align: right;\">\n",
       "      <th></th>\n",
       "      <th>0</th>\n",
       "      <th>1</th>\n",
       "      <th>2</th>\n",
       "      <th>3</th>\n",
       "      <th>4</th>\n",
       "      <th>5</th>\n",
       "      <th>6</th>\n",
       "      <th>7</th>\n",
       "      <th>8</th>\n",
       "      <th>9</th>\n",
       "      <th>...</th>\n",
       "      <th>40</th>\n",
       "      <th>41</th>\n",
       "      <th>42</th>\n",
       "      <th>43</th>\n",
       "      <th>44</th>\n",
       "      <th>45</th>\n",
       "      <th>46</th>\n",
       "      <th>47</th>\n",
       "      <th>48</th>\n",
       "      <th>49</th>\n",
       "    </tr>\n",
       "  </thead>\n",
       "  <tbody>\n",
       "    <tr>\n",
       "      <td>0</td>\n",
       "      <td>0.509484</td>\n",
       "      <td>8.169922</td>\n",
       "      <td>-0.651788</td>\n",
       "      <td>8.089304</td>\n",
       "      <td>-6.864008</td>\n",
       "      <td>-7.112039</td>\n",
       "      <td>-11.566553</td>\n",
       "      <td>-21.109478</td>\n",
       "      <td>13.106676</td>\n",
       "      <td>-38.738890</td>\n",
       "      <td>...</td>\n",
       "      <td>3.718920</td>\n",
       "      <td>-33.100155</td>\n",
       "      <td>-0.181734</td>\n",
       "      <td>-6.224928</td>\n",
       "      <td>-80.854590</td>\n",
       "      <td>-34.220502</td>\n",
       "      <td>273.723175</td>\n",
       "      <td>-31.302588</td>\n",
       "      <td>12.458234</td>\n",
       "      <td>8.748572</td>\n",
       "    </tr>\n",
       "    <tr>\n",
       "      <td>1</td>\n",
       "      <td>0.493117</td>\n",
       "      <td>8.298474</td>\n",
       "      <td>-0.664464</td>\n",
       "      <td>8.225010</td>\n",
       "      <td>-6.967047</td>\n",
       "      <td>-7.229967</td>\n",
       "      <td>-11.739806</td>\n",
       "      <td>-21.418520</td>\n",
       "      <td>13.262153</td>\n",
       "      <td>-39.182337</td>\n",
       "      <td>...</td>\n",
       "      <td>3.682358</td>\n",
       "      <td>-33.564058</td>\n",
       "      <td>-0.336409</td>\n",
       "      <td>-6.259921</td>\n",
       "      <td>-82.121587</td>\n",
       "      <td>-34.709364</td>\n",
       "      <td>276.580014</td>\n",
       "      <td>-31.906907</td>\n",
       "      <td>12.633030</td>\n",
       "      <td>8.783146</td>\n",
       "    </tr>\n",
       "    <tr>\n",
       "      <td>2</td>\n",
       "      <td>0.489219</td>\n",
       "      <td>8.198632</td>\n",
       "      <td>-0.638024</td>\n",
       "      <td>8.153316</td>\n",
       "      <td>-6.891289</td>\n",
       "      <td>-7.157296</td>\n",
       "      <td>-11.606996</td>\n",
       "      <td>-21.203986</td>\n",
       "      <td>13.091977</td>\n",
       "      <td>-38.703704</td>\n",
       "      <td>...</td>\n",
       "      <td>3.764958</td>\n",
       "      <td>-33.150362</td>\n",
       "      <td>-0.355535</td>\n",
       "      <td>-6.180911</td>\n",
       "      <td>-80.919188</td>\n",
       "      <td>-34.199165</td>\n",
       "      <td>273.104645</td>\n",
       "      <td>-31.725640</td>\n",
       "      <td>12.487189</td>\n",
       "      <td>8.686692</td>\n",
       "    </tr>\n",
       "    <tr>\n",
       "      <td>3</td>\n",
       "      <td>0.493327</td>\n",
       "      <td>8.296567</td>\n",
       "      <td>-0.664560</td>\n",
       "      <td>8.225015</td>\n",
       "      <td>-6.966719</td>\n",
       "      <td>-7.229926</td>\n",
       "      <td>-11.737871</td>\n",
       "      <td>-21.418692</td>\n",
       "      <td>13.258189</td>\n",
       "      <td>-39.170787</td>\n",
       "      <td>...</td>\n",
       "      <td>3.682125</td>\n",
       "      <td>-33.557622</td>\n",
       "      <td>-0.335230</td>\n",
       "      <td>-6.260887</td>\n",
       "      <td>-82.101821</td>\n",
       "      <td>-34.701847</td>\n",
       "      <td>276.493437</td>\n",
       "      <td>-31.906687</td>\n",
       "      <td>12.631042</td>\n",
       "      <td>8.777336</td>\n",
       "    </tr>\n",
       "    <tr>\n",
       "      <td>4</td>\n",
       "      <td>0.490984</td>\n",
       "      <td>8.303774</td>\n",
       "      <td>-0.656269</td>\n",
       "      <td>8.207752</td>\n",
       "      <td>-6.959817</td>\n",
       "      <td>-7.223471</td>\n",
       "      <td>-11.752658</td>\n",
       "      <td>-21.381873</td>\n",
       "      <td>13.301101</td>\n",
       "      <td>-39.290738</td>\n",
       "      <td>...</td>\n",
       "      <td>3.660320</td>\n",
       "      <td>-33.600356</td>\n",
       "      <td>-0.321750</td>\n",
       "      <td>-6.241859</td>\n",
       "      <td>-82.249481</td>\n",
       "      <td>-34.747706</td>\n",
       "      <td>277.513474</td>\n",
       "      <td>-31.851563</td>\n",
       "      <td>12.642591</td>\n",
       "      <td>8.818360</td>\n",
       "    </tr>\n",
       "  </tbody>\n",
       "</table>\n",
       "<p>5 rows × 50 columns</p>\n",
       "</div>"
      ],
      "text/plain": [
       "         0         1         2         3         4         5          6   \\\n",
       "0  0.509484  8.169922 -0.651788  8.089304 -6.864008 -7.112039 -11.566553   \n",
       "1  0.493117  8.298474 -0.664464  8.225010 -6.967047 -7.229967 -11.739806   \n",
       "2  0.489219  8.198632 -0.638024  8.153316 -6.891289 -7.157296 -11.606996   \n",
       "3  0.493327  8.296567 -0.664560  8.225015 -6.966719 -7.229926 -11.737871   \n",
       "4  0.490984  8.303774 -0.656269  8.207752 -6.959817 -7.223471 -11.752658   \n",
       "\n",
       "          7          8          9   ...        40         41        42  \\\n",
       "0 -21.109478  13.106676 -38.738890  ...  3.718920 -33.100155 -0.181734   \n",
       "1 -21.418520  13.262153 -39.182337  ...  3.682358 -33.564058 -0.336409   \n",
       "2 -21.203986  13.091977 -38.703704  ...  3.764958 -33.150362 -0.355535   \n",
       "3 -21.418692  13.258189 -39.170787  ...  3.682125 -33.557622 -0.335230   \n",
       "4 -21.381873  13.301101 -39.290738  ...  3.660320 -33.600356 -0.321750   \n",
       "\n",
       "         43         44         45          46         47         48        49  \n",
       "0 -6.224928 -80.854590 -34.220502  273.723175 -31.302588  12.458234  8.748572  \n",
       "1 -6.259921 -82.121587 -34.709364  276.580014 -31.906907  12.633030  8.783146  \n",
       "2 -6.180911 -80.919188 -34.199165  273.104645 -31.725640  12.487189  8.686692  \n",
       "3 -6.260887 -82.101821 -34.701847  276.493437 -31.906687  12.631042  8.777336  \n",
       "4 -6.241859 -82.249481 -34.747706  277.513474 -31.851563  12.642591  8.818360  \n",
       "\n",
       "[5 rows x 50 columns]"
      ]
     },
     "execution_count": 27,
     "metadata": {},
     "output_type": "execute_result"
    }
   ],
   "source": [
    "pd.DataFrame(X_preimage).head()"
   ]
  },
  {
   "cell_type": "code",
   "execution_count": 29,
   "metadata": {},
   "outputs": [
    {
     "data": {
      "text/plain": [
       "20.942225273328216"
      ]
     },
     "execution_count": 29,
     "metadata": {},
     "output_type": "execute_result"
    }
   ],
   "source": [
    "np.sqrt(mse(X, X_preimage))"
   ]
  },
  {
   "cell_type": "markdown",
   "metadata": {},
   "source": [
    "### Local Linear Embedding (LLE)"
   ]
  },
  {
   "cell_type": "code",
   "execution_count": 32,
   "metadata": {},
   "outputs": [],
   "source": [
    "lle = LLE(n_components=2, n_neighbors=10)\n",
    "X_reduced = lle.fit_transform(X)"
   ]
  },
  {
   "cell_type": "code",
   "execution_count": null,
   "metadata": {},
   "outputs": [],
   "source": []
  }
 ],
 "metadata": {
  "kernelspec": {
   "display_name": "Python 3",
   "language": "python",
   "name": "python3"
  },
  "language_info": {
   "codemirror_mode": {
    "name": "ipython",
    "version": 3
   },
   "file_extension": ".py",
   "mimetype": "text/x-python",
   "name": "python",
   "nbconvert_exporter": "python",
   "pygments_lexer": "ipython3",
   "version": "3.7.4"
  }
 },
 "nbformat": 4,
 "nbformat_minor": 2
}
