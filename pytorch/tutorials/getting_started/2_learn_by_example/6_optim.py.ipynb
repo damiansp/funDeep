{
 "cells": [
  {
   "cell_type": "code",
   "execution_count": 1,
   "metadata": {
    "collapsed": true
   },
   "outputs": [],
   "source": [
    "import torch"
   ]
  },
  {
   "cell_type": "code",
   "execution_count": 7,
   "metadata": {
    "collapsed": false
   },
   "outputs": [],
   "source": [
    "BATCH = 64\n",
    "IN = 1000\n",
    "HIDDEN = 100\n",
    "OUT = 10\n",
    "ETA = 1e-4\n",
    "EPOCHS = 100"
   ]
  },
  {
   "cell_type": "code",
   "execution_count": 4,
   "metadata": {
    "collapsed": true
   },
   "outputs": [],
   "source": [
    "x = torch.randn(BATCH, IN)\n",
    "y = torch.randn(BATCH, OUT)"
   ]
  },
  {
   "cell_type": "code",
   "execution_count": 5,
   "metadata": {
    "collapsed": true
   },
   "outputs": [],
   "source": [
    "model = torch.nn.Sequential(torch.nn.Linear(IN, HIDDEN),\n",
    "                            torch.nn.ReLU(),\n",
    "                            torch.nn.Linear(HIDDEN, OUT))\n",
    "loss_fn = torch.nn.MSELoss(reduction='sum')"
   ]
  },
  {
   "cell_type": "code",
   "execution_count": 6,
   "metadata": {
    "collapsed": true
   },
   "outputs": [],
   "source": [
    "optimizer = torch.optim.Adam(model.parameters(), lr=ETA)"
   ]
  },
  {
   "cell_type": "code",
   "execution_count": 9,
   "metadata": {
    "collapsed": false
   },
   "outputs": [
    {
     "name": "stdout",
     "output_type": "stream",
     "text": [
      "  0:  690.11383\n",
      "  1:  672.70251\n",
      "  2:  655.82434\n",
      "  3:  639.44598\n",
      "  4:  623.50171\n",
      "  5:  608.06293\n",
      "  6:  593.07666\n",
      "  7:  578.48315\n",
      "  8:  564.54327\n",
      "  9:  551.06793\n",
      " 10:  537.94287\n",
      " 11:  525.16034\n",
      " 12:  512.66357\n",
      " 13:  500.41797\n",
      " 14:  488.52350\n",
      " 15:  477.01584\n",
      " 16:  465.87485\n",
      " 17:  455.11884\n",
      " 18:  444.63992\n",
      " 19:  434.41071\n",
      " 20:  424.43494\n",
      " 21:  414.69308\n",
      " 22:  405.18939\n",
      " 23:  395.86237\n",
      " 24:  386.73337\n",
      " 25:  377.88235\n",
      " 26:  369.24072\n",
      " 27:  360.81488\n",
      " 28:  352.58536\n",
      " 29:  344.54596\n",
      " 30:  336.68515\n",
      " 31:  328.97018\n",
      " 32:  321.41183\n",
      " 33:  314.05090\n",
      " 34:  306.83643\n",
      " 35:  299.75909\n",
      " 36:  292.84555\n",
      " 37:  286.06717\n",
      " 38:  279.42984\n",
      " 39:  272.96552\n",
      " 40:  266.67218\n",
      " 41:  260.53479\n",
      " 42:  254.53230\n",
      " 43:  248.65646\n",
      " 44:  242.88417\n",
      " 45:  237.23582\n",
      " 46:  231.70833\n",
      " 47:  226.29141\n",
      " 48:  220.97484\n",
      " 49:  215.76076\n",
      " 50:  210.64357\n",
      " 51:  205.61494\n",
      " 52:  200.68712\n",
      " 53:  195.85283\n",
      " 54:  191.10352\n",
      " 55:  186.44661\n",
      " 56:  181.88881\n",
      " 57:  177.41927\n",
      " 58:  173.02156\n",
      " 59:  168.70399\n",
      " 60:  164.47083\n",
      " 61:  160.32083\n",
      " 62:  156.25417\n",
      " 63:  152.26825\n",
      " 64:  148.36954\n",
      " 65:  144.54916\n",
      " 66:  140.81229\n",
      " 67:  137.14105\n",
      " 68:  133.54216\n",
      " 69:  130.02214\n",
      " 70:  126.56622\n",
      " 71:  123.17989\n",
      " 72:  119.85839\n",
      " 73:  116.59779\n",
      " 74:  113.41225\n",
      " 75:  110.29385\n",
      " 76:  107.24781\n",
      " 77:  104.26374\n",
      " 78:  101.33809\n",
      " 79:   98.47804\n",
      " 80:   95.67364\n",
      " 81:   92.93480\n",
      " 82:   90.25620\n",
      " 83:   87.64545\n",
      " 84:   85.09554\n",
      " 85:   82.60146\n",
      " 86:   80.17125\n",
      " 87:   77.79652\n",
      " 88:   75.47954\n",
      " 89:   73.21738\n",
      " 90:   71.00896\n",
      " 91:   68.85844\n",
      " 92:   66.76542\n",
      " 93:   64.72675\n",
      " 94:   62.73941\n",
      " 95:   60.80100\n",
      " 96:   58.91202\n",
      " 97:   57.07040\n",
      " 98:   55.27378\n",
      " 99:   53.52404\n"
     ]
    }
   ],
   "source": [
    "for i in range(EPOCHS):\n",
    "    y_pred = model(x)\n",
    "    loss = loss_fn(y_pred, y)\n",
    "    print('%3d: %10.5f' % (i, loss.item()))\n",
    "    \n",
    "    optimizer.zero_grad()\n",
    "    loss.backward()\n",
    "    optimizer.step()"
   ]
  },
  {
   "cell_type": "code",
   "execution_count": null,
   "metadata": {
    "collapsed": true
   },
   "outputs": [],
   "source": []
  }
 ],
 "metadata": {
  "kernelspec": {
   "display_name": "Python 3",
   "language": "python",
   "name": "python3"
  },
  "language_info": {
   "codemirror_mode": {
    "name": "ipython",
    "version": 3
   },
   "file_extension": ".py",
   "mimetype": "text/x-python",
   "name": "python",
   "nbconvert_exporter": "python",
   "pygments_lexer": "ipython3",
   "version": "3.6.1"
  }
 },
 "nbformat": 4,
 "nbformat_minor": 0
}
