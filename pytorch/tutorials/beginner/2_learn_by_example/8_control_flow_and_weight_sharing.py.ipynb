{
 "cells": [
  {
   "cell_type": "code",
   "execution_count": 1,
   "metadata": {},
   "outputs": [],
   "source": [
    "import random\n",
    "\n",
    "import torch"
   ]
  },
  {
   "cell_type": "code",
   "execution_count": 2,
   "metadata": {},
   "outputs": [],
   "source": [
    "class DynamicNet(torch.nn.Module):\n",
    "    def __init__(self, n_in, n_hidden, n_out):\n",
    "        super(DynamicNet, self).__init__()\n",
    "        self.input_linear = torch.nn.Linear(n_in, n_hidden)\n",
    "        self.middle_linear = torch.nn.Linear(n_hidden, n_hidden)\n",
    "        self.output_linear = torch.nn.Linear(n_hidden, n_out)\n",
    "        \n",
    "    def forward(self, x):\n",
    "        '''Randomly opt to utse the middle layer 0-3 times'''\n",
    "        h_relu = self.input_linear(x).clamp(min=0)\n",
    "        for _ in range(random.randint(0, 3)):\n",
    "            h_relu = self.middle_linear(h_relu).clamp(min=0)\n",
    "        y_pred = self.output_linear(h_relu)\n",
    "        return y_pred"
   ]
  },
  {
   "cell_type": "code",
   "execution_count": 3,
   "metadata": {},
   "outputs": [],
   "source": [
    "BATCH = 64\n",
    "N_IN = 1000\n",
    "N_HIDDEN = 100\n",
    "N_OUT = 10\n",
    "ETA = 1e-4\n",
    "EPOCHS = 500"
   ]
  },
  {
   "cell_type": "code",
   "execution_count": 4,
   "metadata": {},
   "outputs": [],
   "source": [
    "x = torch.randn(BATCH, N_IN)\n",
    "y = torch.randn(BATCH, N_OUT)"
   ]
  },
  {
   "cell_type": "code",
   "execution_count": 5,
   "metadata": {},
   "outputs": [],
   "source": [
    "model = DynamicNet(N_IN, N_HIDDEN, N_OUT)"
   ]
  },
  {
   "cell_type": "code",
   "execution_count": 6,
   "metadata": {},
   "outputs": [],
   "source": [
    "criterion = torch.nn.MSELoss(reduction='sum')\n",
    "optimizer = torch.optim.SGD(model.parameters(), lr=ETA, momentum=0.9)"
   ]
  },
  {
   "cell_type": "code",
   "execution_count": 7,
   "metadata": {},
   "outputs": [
    {
     "name": "stdout",
     "output_type": "stream",
     "text": [
      "  0:  680.01129\n",
      "  5:  629.60736\n",
      " 10:  576.00116\n",
      " 15:  664.12860\n",
      " 20:  637.16675\n",
      " 25:  543.65039\n",
      " 30:  359.29688\n",
      " 35:  130.62375\n",
      " 40:   69.90417\n",
      " 45:   95.13435\n",
      " 50:  187.87845\n",
      " 55:  139.01768\n",
      " 60:   62.25080\n",
      " 65:   42.61739\n",
      " 70:   81.49670\n",
      " 75:   98.60233\n",
      " 80:  129.66028\n",
      " 85:   39.84469\n",
      " 90:   41.74377\n",
      " 95:   38.56695\n",
      "100:   33.14603\n",
      "105:   12.15540\n",
      "110:   30.01736\n",
      "115:    9.31846\n",
      "120:   38.20812\n",
      "125:    7.92883\n",
      "130:    6.08496\n",
      "135:    9.31918\n",
      "140:    8.62426\n",
      "145:    4.73302\n",
      "150:   33.53943\n",
      "155:    4.34914\n",
      "160:    2.14262\n",
      "165:    8.99930\n",
      "170:    2.36260\n",
      "175:    3.93586\n",
      "180:    4.20734\n",
      "185:    8.45644\n",
      "190:    1.81362\n",
      "195:    1.89961\n",
      "200:    4.87334\n",
      "205:    2.05342\n",
      "210:    1.06519\n",
      "215:    1.29791\n",
      "220:    1.52088\n",
      "225:    2.13221\n",
      "230:    0.57581\n",
      "235:    2.67284\n",
      "240:   32.80236\n",
      "245:   43.07402\n",
      "250:   14.67170\n",
      "255:   13.03360\n",
      "260:   12.75906\n",
      "265:   21.47322\n",
      "270:    5.62084\n",
      "275:    2.44912\n",
      "280:    2.65326\n",
      "285:    5.01941\n",
      "290:    7.14621\n",
      "295:    3.84539\n",
      "300:   12.01002\n",
      "305:    4.95244\n",
      "310:    6.21376\n",
      "315:    1.26228\n",
      "320:    1.25527\n",
      "325:    1.83952\n",
      "330:    0.96699\n",
      "335:    1.34949\n",
      "340:    1.36501\n",
      "345:    0.28257\n",
      "350:    4.81005\n",
      "355:    0.95160\n",
      "360:    1.04931\n",
      "365:    1.15684\n",
      "370:    1.05937\n",
      "375:    0.97722\n",
      "380:    1.06010\n",
      "385:    0.68525\n",
      "390:    0.91305\n",
      "395:    0.37848\n",
      "400:    0.32306\n",
      "405:    0.53000\n",
      "410:    2.05062\n",
      "415:    0.61838\n",
      "420:    0.74068\n",
      "425:    1.61548\n",
      "430:    2.01436\n",
      "435:    0.24175\n",
      "440:    1.08311\n",
      "445:    0.11658\n",
      "450:    5.72971\n",
      "455:    1.59150\n",
      "460:    1.74191\n",
      "465:    1.50433\n",
      "470:    0.22543\n",
      "475:    0.70774\n",
      "480:    2.27257\n",
      "485:    0.17430\n",
      "490:    1.19820\n",
      "495:    1.82651\n"
     ]
    }
   ],
   "source": [
    "for i in range(EPOCHS):\n",
    "    y_pred = model(x)\n",
    "    loss = criterion(y_pred, y)\n",
    "    if i % 5 == 0:\n",
    "        print('%3d: %10.5f' % (i, loss.item()))\n",
    "    optimizer.zero_grad()\n",
    "    loss.backward()\n",
    "    optimizer.step()"
   ]
  },
  {
   "cell_type": "code",
   "execution_count": null,
   "metadata": {},
   "outputs": [],
   "source": []
  }
 ],
 "metadata": {
  "kernelspec": {
   "display_name": "Python 3",
   "language": "python",
   "name": "python3"
  },
  "language_info": {
   "codemirror_mode": {
    "name": "ipython",
    "version": 3
   },
   "file_extension": ".py",
   "mimetype": "text/x-python",
   "name": "python",
   "nbconvert_exporter": "python",
   "pygments_lexer": "ipython3",
   "version": "3.6.5"
  }
 },
 "nbformat": 4,
 "nbformat_minor": 2
}
