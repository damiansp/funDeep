{
 "cells": [
  {
   "cell_type": "code",
   "execution_count": 1,
   "metadata": {},
   "outputs": [],
   "source": [
    "import torch"
   ]
  },
  {
   "cell_type": "code",
   "execution_count": 8,
   "metadata": {},
   "outputs": [],
   "source": [
    "class TwoLayerNet(torch.nn.Module):\n",
    "    def __init__(self, n_in, n_hidden, n_out):\n",
    "        '''\n",
    "        Instantiate 2 nn.Linear modules, assigned to variables.\n",
    "        '''\n",
    "        super(TwoLayerNet, self).__init__()\n",
    "        self.linear1 = torch.nn.Linear(n_in, n_hidden)\n",
    "        self.linear2 = torch.nn.Linear(n_hidden, n_out)\n",
    "        \n",
    "    def forward(self, x):\n",
    "        '''\n",
    "        Accepts and returns tensors.\n",
    "        '''\n",
    "        h_relu = self.linear1(x).clamp(min=0)\n",
    "        y_pred = self.linear2(h_relu)\n",
    "        return y_pred"
   ]
  },
  {
   "cell_type": "code",
   "execution_count": 9,
   "metadata": {},
   "outputs": [],
   "source": [
    "BATCH = 64\n",
    "IN = 1000\n",
    "HIDDEN = 100\n",
    "OUT = 10\n",
    "ETA = 1e-4\n",
    "EPOCHS = 100"
   ]
  },
  {
   "cell_type": "code",
   "execution_count": 10,
   "metadata": {},
   "outputs": [],
   "source": [
    "x = torch.randn(BATCH, IN)\n",
    "y = torch.randn(BATCH, OUT)"
   ]
  },
  {
   "cell_type": "code",
   "execution_count": 11,
   "metadata": {},
   "outputs": [],
   "source": [
    "model = TwoLayerNet(IN, HIDDEN, OUT)"
   ]
  },
  {
   "cell_type": "code",
   "execution_count": 12,
   "metadata": {},
   "outputs": [],
   "source": [
    "criterion = torch.nn.MSELoss(reduction='sum')\n",
    "optimizer = torch.optim.SGD(model.parameters(), lr=ETA)"
   ]
  },
  {
   "cell_type": "code",
   "execution_count": 13,
   "metadata": {},
   "outputs": [
    {
     "name": "stdout",
     "output_type": "stream",
     "text": [
      "  0:    664.90656\n",
      "  1:    614.13776\n",
      "  2:    570.82385\n",
      "  3:    533.45581\n",
      "  4:    500.72803\n",
      "  5:    471.48337\n",
      "  6:    445.10971\n",
      "  7:    421.08856\n",
      "  8:    398.82999\n",
      "  9:    378.20114\n",
      " 10:    358.86484\n",
      " 11:    340.58722\n",
      " 12:    323.26477\n",
      " 13:    306.85660\n",
      " 14:    291.35184\n",
      " 15:    276.58057\n",
      " 16:    262.48080\n",
      " 17:    249.00406\n",
      " 18:    236.12132\n",
      " 19:    223.83188\n",
      " 20:    212.08751\n",
      " 21:    200.84447\n",
      " 22:    190.09787\n",
      " 23:    179.83983\n",
      " 24:    170.04681\n",
      " 25:    160.69820\n",
      " 26:    151.81458\n",
      " 27:    143.33427\n",
      " 28:    135.24963\n",
      " 29:    127.56573\n",
      " 30:    120.25288\n",
      " 31:    113.30234\n",
      " 32:    106.71396\n",
      " 33:    100.45516\n",
      " 34:     94.52892\n",
      " 35:     88.90723\n",
      " 36:     83.58414\n",
      " 37:     78.54665\n",
      " 38:     73.80019\n",
      " 39:     69.32065\n",
      " 40:     65.09936\n",
      " 41:     61.12055\n",
      " 42:     57.36731\n",
      " 43:     53.83711\n",
      " 44:     50.52351\n",
      " 45:     47.40761\n",
      " 46:     44.48128\n",
      " 47:     41.73412\n",
      " 48:     39.15869\n",
      " 49:     36.74324\n",
      " 50:     34.48620\n",
      " 51:     32.36775\n",
      " 52:     30.38392\n",
      " 53:     28.52699\n",
      " 54:     26.78757\n",
      " 55:     25.16142\n",
      " 56:     23.64016\n",
      " 57:     22.21631\n",
      " 58:     20.88442\n",
      " 59:     19.63842\n",
      " 60:     18.47197\n",
      " 61:     17.37799\n",
      " 62:     16.35518\n",
      " 63:     15.39699\n",
      " 64:     14.49955\n",
      " 65:     13.65822\n",
      " 66:     12.87218\n",
      " 67:     12.13617\n",
      " 68:     11.44599\n",
      " 69:     10.79758\n",
      " 70:     10.18871\n",
      " 71:      9.61700\n",
      " 72:      9.08023\n",
      " 73:      8.57587\n",
      " 74:      8.10205\n",
      " 75:      7.65806\n",
      " 76:      7.24103\n",
      " 77:      6.84940\n",
      " 78:      6.48135\n",
      " 79:      6.13474\n",
      " 80:      5.80865\n",
      " 81:      5.50162\n",
      " 82:      5.21263\n",
      " 83:      4.94025\n",
      " 84:      4.68393\n",
      " 85:      4.44214\n",
      " 86:      4.21438\n",
      " 87:      3.99935\n",
      " 88:      3.79645\n",
      " 89:      3.60477\n",
      " 90:      3.42372\n",
      " 91:      3.25286\n",
      " 92:      3.09153\n",
      " 93:      2.93904\n",
      " 94:      2.79488\n",
      " 95:      2.65865\n",
      " 96:      2.52942\n",
      " 97:      2.40720\n",
      " 98:      2.29146\n",
      " 99:      2.18177\n"
     ]
    }
   ],
   "source": [
    "for i in range(EPOCHS):\n",
    "    y_pred = model(x)\n",
    "    loss = criterion(y_pred, y)\n",
    "    print('%3d: %12.5f' % (i, loss.item()))\n",
    "    \n",
    "    optimizer.zero_grad()\n",
    "    loss.backward()\n",
    "    optimizer.step()"
   ]
  },
  {
   "cell_type": "code",
   "execution_count": null,
   "metadata": {},
   "outputs": [],
   "source": []
  }
 ],
 "metadata": {
  "kernelspec": {
   "display_name": "Python 3",
   "language": "python",
   "name": "python3"
  },
  "language_info": {
   "codemirror_mode": {
    "name": "ipython",
    "version": 3
   },
   "file_extension": ".py",
   "mimetype": "text/x-python",
   "name": "python",
   "nbconvert_exporter": "python",
   "pygments_lexer": "ipython3",
   "version": "3.6.5"
  }
 },
 "nbformat": 4,
 "nbformat_minor": 2
}
