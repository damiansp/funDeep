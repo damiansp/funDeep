{
 "cells": [
  {
   "cell_type": "code",
   "execution_count": 1,
   "metadata": {},
   "outputs": [],
   "source": [
    "import random\n",
    "\n",
    "import tensorflow as tf"
   ]
  },
  {
   "cell_type": "code",
   "execution_count": 2,
   "metadata": {},
   "outputs": [],
   "source": [
    "N = 100000\n",
    "N_CLASSES = 50"
   ]
  },
  {
   "cell_type": "code",
   "execution_count": 3,
   "metadata": {},
   "outputs": [],
   "source": [
    "def input_values():\n",
    "    multiple_values = [map(int, '{0:050b}'.format(i)) \n",
    "                       for i in range(2**20)]\n",
    "    random.shuffle(multiple_values)\n",
    "    final_values = []\n",
    "    for value in multiple_values[:N]:\n",
    "        temp = []\n",
    "        for i in value:\n",
    "            temp.append([i])\n",
    "        final_values.append(temp)\n",
    "    return final_values"
   ]
  },
  {
   "cell_type": "code",
   "execution_count": 4,
   "metadata": {},
   "outputs": [],
   "source": [
    "def output_values(inputs):\n",
    "    final_values = []\n",
    "    for value in inputs:\n",
    "        output_values = [0 for _ in range(N_CLASSES)]\n",
    "        count = 0\n",
    "        for i in value:\n",
    "            count += i[0]\n",
    "        if count < N_CLASSES:\n",
    "            output_values[count] = 1\n",
    "        final_values.append(output_values)\n",
    "    return final_values"
   ]
  },
  {
   "cell_type": "code",
   "execution_count": 5,
   "metadata": {},
   "outputs": [],
   "source": [
    "def generate_data():\n",
    "    inputs = input_values()\n",
    "    return inputs, output_values(inputs)"
   ]
  },
  {
   "cell_type": "code",
   "execution_count": 6,
   "metadata": {},
   "outputs": [],
   "source": [
    "X = tf.placeholder(tf.float32, shape=[None, N_CLASSES, 1])\n",
    "Y = tf.placeholder(tf.float32, shape=[None, N_CLASSES])\n",
    "N_HIDDEN = 24\n",
    "\n",
    "weights = tf.Variable(tf.truncated_normal([N_HIDDEN, N_CLASSES]))\n",
    "biases = tf.Variable(tf.truncated_normal([N_CLASSES]))"
   ]
  },
  {
   "cell_type": "code",
   "execution_count": 7,
   "metadata": {},
   "outputs": [],
   "source": [
    "rnn_cell = tf.contrib.rnn.BasicRNNCell(num_units=N_HIDDEN, \n",
    "                                       activation=tf.nn.relu)\n",
    "outputs1, state = tf.nn.dynamic_rnn(rnn_cell, inputs=X, dtype=tf.float32)\n",
    "outputs = tf.transpose(outputs1, [1, 0, 2])"
   ]
  },
  {
   "cell_type": "code",
   "execution_count": 8,
   "metadata": {},
   "outputs": [],
   "source": [
    "last_output = tf.gather(outputs, int(outputs.get_shape()[0]) - 1)\n",
    "prediction = tf.matmul(last_output, weights) + biases"
   ]
  },
  {
   "cell_type": "code",
   "execution_count": 9,
   "metadata": {},
   "outputs": [],
   "source": [
    "loss = tf.nn.softmax_cross_entropy_with_logits_v2(labels=Y, \n",
    "                                                  logits=prediction)\n",
    "total_loss = tf.reduce_mean(loss)"
   ]
  },
  {
   "cell_type": "code",
   "execution_count": 10,
   "metadata": {},
   "outputs": [
    {
     "name": "stderr",
     "output_type": "stream",
     "text": [
      "/usr/local/lib/python3.6/site-packages/tensorflow/python/ops/gradients_impl.py:100: UserWarning: Converting sparse IndexedSlices to a dense Tensor of unknown shape. This may consume a large amount of memory.\n",
      "  \"Converting sparse IndexedSlices to a dense Tensor of unknown shape. \"\n"
     ]
    }
   ],
   "source": [
    "ETA = 0.001\n",
    "optimizer = tf.train.AdamOptimizer(learning_rate=ETA)\\\n",
    "    .minimize(loss=total_loss)"
   ]
  },
  {
   "cell_type": "code",
   "execution_count": 31,
   "metadata": {},
   "outputs": [],
   "source": [
    "BATCH_SIZE = 1000\n",
    "N_BATCHES = int(N / BATCH_SIZE)\n",
    "EPOCHS = 50\n",
    "\n",
    "test_example = [[\n",
    "    [0], [1], [1], [0], [0], [0], [1], [0], [0], [1],\n",
    "    [1], [1], [1], [0], [1], [0], [0], [0], [1], [1],\n",
    "    [1], [0], [0], [0], [1], [0], [1], [0], [1], [0],\n",
    "    [1], [1], [1], [0], [1], [0], [0], [0], [1], [1],\n",
    "    [1], [1], [1], [0], [1], [0], [0], [0], [1], [1]]]"
   ]
  },
  {
   "cell_type": "code",
   "execution_count": 32,
   "metadata": {},
   "outputs": [
    {
     "name": "stdout",
     "output_type": "stream",
     "text": [
      "\n",
      "------------------------------------------------------------\n",
      "Epoch: 0\n",
      "Iter: 100000 Loss: 3.535387\n",
      "------------------------------------------------------------\n",
      "Epoch: 1\n",
      "Iter: 100000 Loss: 2.16721532.7354205\n",
      "------------------------------------------------------------\n",
      "Epoch: 2\n",
      "Iter: 100000 Loss: 1.7057124\n",
      "------------------------------------------------------------\n",
      "Epoch: 3\n",
      "Iter: 100000 Loss: 1.3609849\n",
      "------------------------------------------------------------\n",
      "Epoch: 4\n",
      "Iter: 100000 Loss: 1.2009692\n",
      "------------------------------------------------------------\n",
      "Epoch: 5\n",
      "Iter: 100000 Loss: 1.1164911\n",
      "------------------------------------------------------------\n",
      "Epoch: 6\n",
      "Iter: 100000 Loss: 1.2702043\n",
      "------------------------------------------------------------\n",
      "Epoch: 7\n",
      "Iter: 100000 Loss: 0.8865079\n",
      "------------------------------------------------------------\n",
      "Epoch: 8\n",
      "Iter: 100000 Loss: 0.8152359\n",
      "------------------------------------------------------------\n",
      "Epoch: 9\n",
      "Iter: 100000 Loss: 0.7631535\n",
      "------------------------------------------------------------\n",
      "Epoch: 10\n",
      "Iter: 100000 Loss: 0.7261219\n",
      "------------------------------------------------------------\n",
      "Epoch: 11\n",
      "Iter: 100000 Loss: 0.8142378\n",
      "------------------------------------------------------------\n",
      "Epoch: 12\n",
      "Iter: 100000 Loss: 0.6674408\n",
      "------------------------------------------------------------\n",
      "Epoch: 13\n",
      "Iter: 100000 Loss: 0.67274123\n",
      "------------------------------------------------------------\n",
      "Epoch: 14\n",
      "Iter: 100000 Loss: 0.52663726\n",
      "------------------------------------------------------------\n",
      "Epoch: 15\n",
      "Iter: 100000 Loss: 0.4950717\n",
      "------------------------------------------------------------\n",
      "Epoch: 16\n",
      "Iter: 100000 Loss: 0.4797962\n",
      "------------------------------------------------------------\n",
      "Epoch: 17\n",
      "Iter: 100000 Loss: 0.48692128\n",
      "------------------------------------------------------------\n",
      "Epoch: 18\n",
      "Iter: 100000 Loss: 0.48895323\n",
      "------------------------------------------------------------\n",
      "Epoch: 19\n",
      "Iter: 100000 Loss: 0.46141413\n",
      "------------------------------------------------------------\n",
      "Epoch: 20\n",
      "Iter: 100000 Loss: 0.36269867\n",
      "------------------------------------------------------------\n",
      "Epoch: 21\n",
      "Iter: 100000 Loss: 0.3427555\n",
      "------------------------------------------------------------\n",
      "Epoch: 22\n",
      "Iter: 100000 Loss: 0.3244156\n",
      "------------------------------------------------------------\n",
      "Epoch: 23\n",
      "Iter: 100000 Loss: 0.3776692\n",
      "------------------------------------------------------------\n",
      "Epoch: 24\n",
      "Iter: 100000 Loss: 0.28885454\n",
      "------------------------------------------------------------\n",
      "Epoch: 25\n",
      "Iter: 100000 Loss: 0.2724087\n",
      "------------------------------------------------------------\n",
      "Epoch: 26\n",
      "Iter: 100000 Loss: 0.25862804\n",
      "------------------------------------------------------------\n",
      "Epoch: 27\n",
      "Iter: 100000 Loss: 0.2460222\n",
      "------------------------------------------------------------\n",
      "Epoch: 28\n",
      "Iter: 100000 Loss: 0.22980478\n",
      "------------------------------------------------------------\n",
      "Epoch: 29\n",
      "Iter: 100000 Loss: 0.21525718\n",
      "------------------------------------------------------------\n",
      "Epoch: 30\n",
      "Iter: 100000 Loss: 1.7529845\n",
      "------------------------------------------------------------\n",
      "Epoch: 31\n",
      "Iter: 100000 Loss: 0.21269861\n",
      "------------------------------------------------------------\n",
      "Epoch: 32\n",
      "Iter: 100000 Loss: 0.19461985\n",
      "------------------------------------------------------------\n",
      "Epoch: 33\n",
      "Iter: 100000 Loss: 0.18600434\n",
      "------------------------------------------------------------\n",
      "Epoch: 34\n",
      "Iter: 100000 Loss: 0.54685473\n",
      "------------------------------------------------------------\n",
      "Epoch: 35\n",
      "Iter: 100000 Loss: 0.16838159\n",
      "------------------------------------------------------------\n",
      "Epoch: 36\n",
      "Iter: 100000 Loss: 0.16048603\n",
      "------------------------------------------------------------\n",
      "Epoch: 37\n",
      "Iter: 100000 Loss: 0.15507558\n",
      "------------------------------------------------------------\n",
      "Epoch: 38\n",
      "Iter: 100000 Loss: 0.15048258\n",
      "------------------------------------------------------------\n",
      "Epoch: 39\n",
      "Iter: 100000 Loss: 0.13672863\n",
      "------------------------------------------------------------\n",
      "Epoch: 40\n",
      "Iter: 100000 Loss: 0.13053192\n",
      "------------------------------------------------------------\n",
      "Epoch: 41\n",
      "Iter: 100000 Loss: 1.1633887\n",
      "------------------------------------------------------------\n",
      "Epoch: 42\n",
      "Iter: 100000 Loss: 0.70147246\n",
      "------------------------------------------------------------\n",
      "Epoch: 43\n",
      "Iter: 100000 Loss: 0.3925791\n",
      "------------------------------------------------------------\n",
      "Epoch: 44\n",
      "Iter: 100000 Loss: 0.20159711\n",
      "------------------------------------------------------------\n",
      "Epoch: 45\n",
      "Iter: 100000 Loss: 0.15068832\n",
      "------------------------------------------------------------\n",
      "Epoch: 46\n",
      "Iter: 100000 Loss: 0.13315687\n",
      "------------------------------------------------------------\n",
      "Epoch: 47\n",
      "Iter: 100000 Loss: 0.12474861\n",
      "------------------------------------------------------------\n",
      "Epoch: 48\n",
      "Iter: 100000 Loss: 0.12545324\n",
      "------------------------------------------------------------\n",
      "Epoch: 49\n",
      "Predicted sum: [17] Actual: 26\n",
      "The predicted sequence parity is  [1] and it should be: 0\n"
     ]
    }
   ],
   "source": [
    "with tf.Session() as sess:\n",
    "    sess.run(tf.global_variables_initializer())\n",
    "    X_train, y_train = generate_data()\n",
    "    for epoch in range(EPOCHS):\n",
    "        print('\\n' + '-' * 60)\n",
    "        print('Epoch:', epoch)\n",
    "        i = 0\n",
    "        for _ in range(N_BATCHES):\n",
    "            training_x = X_train[i:i + BATCH_SIZE]\n",
    "            training_y = y_train[i:i + BATCH_SIZE]\n",
    "            i += BATCH_SIZE\n",
    "            _, current_total_loss = sess.run(\n",
    "                [optimizer, total_loss], \n",
    "                feed_dict={X: training_x, Y: training_y})\n",
    "            print('Iter:', i, 'Loss:', current_total_loss, end='\\r')\n",
    "            \n",
    "    pred_result = sess.run(prediction, {X: test_example})\n",
    "    largest_number_index = pred_result[0].argsort()[-1:][::-1]\n",
    "    print('Predicted sum:', largest_number_index, 'Actual:', 26)\n",
    "    print('The predicted sequence parity is ', largest_number_index % 2, \n",
    "          'and it should be:', 0)"
   ]
  },
  {
   "cell_type": "code",
   "execution_count": null,
   "metadata": {},
   "outputs": [],
   "source": []
  }
 ],
 "metadata": {
  "kernelspec": {
   "display_name": "Python 3",
   "language": "python",
   "name": "python3"
  },
  "language_info": {
   "codemirror_mode": {
    "name": "ipython",
    "version": 3
   },
   "file_extension": ".py",
   "mimetype": "text/x-python",
   "name": "python",
   "nbconvert_exporter": "python",
   "pygments_lexer": "ipython3",
   "version": "3.6.5"
  }
 },
 "nbformat": 4,
 "nbformat_minor": 2
}
