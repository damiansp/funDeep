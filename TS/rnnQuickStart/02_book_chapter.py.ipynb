{
 "cells": [
  {
   "cell_type": "code",
   "execution_count": 1,
   "metadata": {},
   "outputs": [],
   "source": [
    "import collections\n",
    "import sys\n",
    "\n",
    "import numpy as np\n",
    "import tensorflow as tf"
   ]
  },
  {
   "cell_type": "code",
   "execution_count": 2,
   "metadata": {},
   "outputs": [],
   "source": [
    "DATA_DIR = 'data'\n",
    "alice = f'{DATA_DIR}/alice_in_wonderland.txt'"
   ]
  },
  {
   "cell_type": "code",
   "execution_count": 3,
   "metadata": {},
   "outputs": [],
   "source": [
    "def get_words(file_name):\n",
    "    with open(file_name) as f:\n",
    "        all_lines = f.readlines()\n",
    "    stripped_lines = [x.strip() for x in all_lines]\n",
    "    words = []\n",
    "    for line in stripped_lines:\n",
    "        words.extend(line.split())\n",
    "    return np.array(words)"
   ]
  },
  {
   "cell_type": "code",
   "execution_count": 4,
   "metadata": {},
   "outputs": [],
   "source": [
    "def build_dict(words):\n",
    "    most_common_words = collections.Counter(words).most_common()\n",
    "    word2id = {word: id_ \n",
    "               for (id_, (word, _)) in enumerate(most_common_words)}\n",
    "    id2word = {id_: word\n",
    "               for (id_, (word, _)) in enumerate(most_common_words)}\n",
    "    return most_common_words, word2id, id2word"
   ]
  },
  {
   "cell_type": "code",
   "execution_count": 5,
   "metadata": {},
   "outputs": [
    {
     "data": {
      "text/plain": [
       "array(['\\ufeffProject', 'Gutenberg’s', 'Alice’s', 'Adventures', 'in',\n",
       "       'Wonderland,', 'by', 'Lewis', 'Carroll', 'This'], dtype='<U50')"
      ]
     },
     "execution_count": 5,
     "metadata": {},
     "output_type": "execute_result"
    }
   ],
   "source": [
    "words = get_words(alice)\n",
    "words[:10]"
   ]
  },
  {
   "cell_type": "code",
   "execution_count": 6,
   "metadata": {},
   "outputs": [
    {
     "data": {
      "text/plain": [
       "6019"
      ]
     },
     "execution_count": 6,
     "metadata": {},
     "output_type": "execute_result"
    }
   ],
   "source": [
    "most_common_words, word2id, id2word = build_dict(words)\n",
    "most_common_words_len = len(most_common_words)\n",
    "most_common_words_len"
   ]
  },
  {
   "cell_type": "code",
   "execution_count": 7,
   "metadata": {},
   "outputs": [],
   "source": [
    "section_len = 20 # number of sequential (one-hot encoded) words to use"
   ]
  },
  {
   "cell_type": "code",
   "execution_count": 8,
   "metadata": {},
   "outputs": [],
   "source": [
    "def get_input_output(words):\n",
    "    input_values = []\n",
    "    output_values = []\n",
    "    n_sections = 0\n",
    "    for i in range(len(words) - section_len):\n",
    "        input_values.append(words[i:i + section_len])\n",
    "        output_values.append(words[i + section_len])\n",
    "        n_sections += 1\n",
    "    one_hot_inputs = np.zeros(\n",
    "        (n_sections, section_len, most_common_words_len))\n",
    "    one_hot_outputs = np.zeros((n_sections, most_common_words_len))\n",
    "    for s, section in enumerate(input_values):\n",
    "        for w, word in enumerate(section):\n",
    "            one_hot_inputs[s, w, word2id[word]] = 1.\n",
    "        one_hot_outputs[s, word2id[output_values[s]]] = 1.\n",
    "    return one_hot_inputs, one_hot_outputs"
   ]
  },
  {
   "cell_type": "code",
   "execution_count": 9,
   "metadata": {},
   "outputs": [],
   "source": [
    "X_train, y_train = get_input_output(words)"
   ]
  },
  {
   "cell_type": "code",
   "execution_count": 10,
   "metadata": {},
   "outputs": [],
   "source": [
    "ETA = 0.001\n",
    "BATCH = 512\n",
    "ITERS = 100000\n",
    "HIDDEN_UNITS = 1024"
   ]
  },
  {
   "cell_type": "code",
   "execution_count": 11,
   "metadata": {},
   "outputs": [],
   "source": [
    "X = tf.placeholder(tf.float32, \n",
    "                   shape=[BATCH, section_len, most_common_words_len])\n",
    "y = tf.placeholder(tf.float32, shape=[BATCH, most_common_words_len])"
   ]
  },
  {
   "cell_type": "code",
   "execution_count": 12,
   "metadata": {},
   "outputs": [],
   "source": [
    "weights = tf.Variable(\n",
    "    tf.truncated_normal([HIDDEN_UNITS, most_common_words_len]))\n",
    "biases = tf.Variable(tf.truncated_normal([most_common_words_len]))"
   ]
  },
  {
   "cell_type": "code",
   "execution_count": 13,
   "metadata": {},
   "outputs": [],
   "source": [
    "gru_cell = tf.contrib.rnn.GRUCell(num_units=HIDDEN_UNITS)"
   ]
  },
  {
   "cell_type": "code",
   "execution_count": 14,
   "metadata": {},
   "outputs": [],
   "source": [
    "outputs, state = tf.nn.dynamic_rnn(gru_cell, inputs=X, dtype=tf.float32)\n",
    "outputs = tf.transpose(outputs, perm=[1, 0, 2])\n",
    "last_output = tf.gather(outputs, int(outputs.get_shape()[0]) - 1)"
   ]
  },
  {
   "cell_type": "code",
   "execution_count": 15,
   "metadata": {},
   "outputs": [],
   "source": [
    "prediction = tf.matmul(last_output, weights) + biases\n",
    "\n",
    "loss = tf.nn.softmax_cross_entropy_with_logits_v2(labels=y, \n",
    "                                                  logits=prediction)\n",
    "total_loss = tf.reduce_mean(loss)"
   ]
  },
  {
   "cell_type": "code",
   "execution_count": 16,
   "metadata": {},
   "outputs": [],
   "source": [
    "optimizer = tf.train\\\n",
    "    .AdamOptimizer(learning_rate=ETA)\\\n",
    "    .minimize(loss=total_loss)"
   ]
  },
  {
   "cell_type": "code",
   "execution_count": 17,
   "metadata": {},
   "outputs": [
    {
     "name": "stdout",
     "output_type": "stream",
     "text": [
      "0: Loss: 8.957990646362305\n"
     ]
    },
    {
     "ename": "ValueError",
     "evalue": "all the input arrays must have same number of dimensions",
     "output_type": "error",
     "traceback": [
      "\u001b[0;31m---------------------------------------------------------------------------\u001b[0m",
      "\u001b[0;31mValueError\u001b[0m                                Traceback (most recent call last)",
      "\u001b[0;32m<ipython-input-17-d1a370ca2ce8>\u001b[0m in \u001b[0;36m<module>\u001b[0;34m()\u001b[0m\n\u001b[1;32m     14\u001b[0m             \u001b[0madd_from_the_beginning\u001b[0m \u001b[0;34m=\u001b[0m \u001b[0mBATCH\u001b[0m \u001b[0;34m-\u001b[0m \u001b[0;34m(\u001b[0m\u001b[0mlen_X\u001b[0m \u001b[0;34m-\u001b[0m \u001b[0miter_offset\u001b[0m\u001b[0;34m)\u001b[0m\u001b[0;34m\u001b[0m\u001b[0m\n\u001b[1;32m     15\u001b[0m             X_train_batch = np.concatenate((X_train[iter_offset:len_X],\n\u001b[0;32m---> 16\u001b[0;31m                                             X[0:add_from_the_beginning]))\n\u001b[0m\u001b[1;32m     17\u001b[0m             y_train_batch = np.concatentate((y_train[iter_offset:len_X],\n\u001b[1;32m     18\u001b[0m                                              y[0:add_from_the_beginning]))\n",
      "\u001b[0;31mValueError\u001b[0m: all the input arrays must have same number of dimensions"
     ]
    }
   ],
   "source": [
    "with tf.Session() as sess:\n",
    "    sess.run(tf.global_variables_initializer())\n",
    "    iter_offset = 0\n",
    "    saver = tf.train.Saver()\n",
    "    for i in range(ITERS):\n",
    "        len_X = len(X_train)\n",
    "        if len_X != 0:\n",
    "            iter_offset %= len_X\n",
    "        if iter_offset <= len_X - BATCH:\n",
    "            X_train_batch = X_train[iter_offset:iter_offset + BATCH]\n",
    "            y_train_batch = y_train[iter_offset:iter_offset + BATCH]\n",
    "            iter_offset += BATCH\n",
    "        else:\n",
    "            add_from_the_beginning = BATCH - (len_X - iter_offset)\n",
    "            X_train_batch = np.concatenate((X_train[iter_offset:len_X],\n",
    "                                            X[0:add_from_the_beginning]))\n",
    "            y_train_batch = np.concatentate((y_train[iter_offset:len_X],\n",
    "                                             y[0:add_from_the_beginning]))\n",
    "            iter_offset = add_from_the_beginning\n",
    "        _, training_loss = sess.run([optimizer, total_loss], \n",
    "                                    feed_dict={X: X_train_batch, \n",
    "                                               y: y_train_batch})\n",
    "        if i % 100 == 0:\n",
    "            print(f'{i}: Loss: {training_loss}')\n",
    "            saver.save(sess, 'ckpt/model', global_step=i)"
   ]
  },
  {
   "cell_type": "code",
   "execution_count": null,
   "metadata": {},
   "outputs": [],
   "source": [
    "starting_sentence = 'The rabbit hole had become a very dark place '\n",
    "\n",
    "with tf.Session() as sess:\n",
    "    sess.run(tf.global_variables_initializer())\n",
    "    mod = tf.train.latest_checkpoint('ckpt')\n",
    "    saver = tf.train.Saver()\n",
    "    saver.restore(sess, mod)\n",
    "    \n",
    "    generated_text = starting _sentence\n",
    "    words_in_starting_sentence = starting sentence.split()\n",
    "    X_test = np.zeros((1, section_len, most_common_words_len))\n",
    "    \n",
    "    for idx, word in enumerate(words_in_starting_sentence[:-1]):\n",
    "        if index < section_len:\n",
    "            test_X[0, idx, word2id[word]] = 1"
   ]
  }
 ],
 "metadata": {
  "kernelspec": {
   "display_name": "Python 3",
   "language": "python",
   "name": "python3"
  },
  "language_info": {
   "codemirror_mode": {
    "name": "ipython",
    "version": 3
   },
   "file_extension": ".py",
   "mimetype": "text/x-python",
   "name": "python",
   "nbconvert_exporter": "python",
   "pygments_lexer": "ipython3",
   "version": "3.6.5"
  }
 },
 "nbformat": 4,
 "nbformat_minor": 2
}
