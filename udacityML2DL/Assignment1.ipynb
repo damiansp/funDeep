{
 "cells": [
  {
   "cell_type": "code",
   "execution_count": 26,
   "metadata": {
    "collapsed": false
   },
   "outputs": [],
   "source": [
    "import matplotlib.pyplot as plt\n",
    "import numpy as np\n",
    "import os\n",
    "import sys\n",
    "import tarfile\n",
    "\n",
    "from IPython.display import display\n",
    "from PIL import Image\n",
    "from scipy import ndimage\n",
    "from six.moves.urllib.request import urlretrieve\n",
    "from six.moves import cPickle as pickle\n",
    "from sklearn.linear_model import LogisticRegression\n",
    "\n",
    "%matplotlib inline\n",
    "plt.rcParams['figure.figsize'] = [15, 10]"
   ]
  },
  {
   "cell_type": "code",
   "execution_count": 2,
   "metadata": {
    "collapsed": true
   },
   "outputs": [],
   "source": [
    "url = 'https://commondatastorage.googleapis.com/books1000/'\n",
    "last_percent_reported = None\n",
    "data_root = './data/'"
   ]
  },
  {
   "cell_type": "code",
   "execution_count": 3,
   "metadata": {
    "collapsed": true
   },
   "outputs": [],
   "source": [
    "def download_progress_hook(count, block_size, total_size):\n",
    "    '''\n",
    "    A hook to report the progress of a download, in the event of a slow\n",
    "    connection.\n",
    "    '''\n",
    "    global last_percent_reported\n",
    "    percent = int(100 * count * block_size /total_size)\n",
    "    if last_percent_reported != percent:\n",
    "        if percent % 5 == 0:\n",
    "            sys.stdout.write('%s%%' %percent)\n",
    "            sys.stdout.flush()\n",
    "        else:\n",
    "            sys.stdout.write('.')\n",
    "            sys.stdout.flush()\n",
    "        last_percent_reported = percent"
   ]
  },
  {
   "cell_type": "code",
   "execution_count": 4,
   "metadata": {
    "collapsed": true
   },
   "outputs": [],
   "source": [
    "def maybe_download(filename, expected_bytes, force=False):\n",
    "    '''Download a file if not present; make sure it is the right size'''\n",
    "    dest_filename = os.path.join(data_root, filename)\n",
    "    if force or not os.path.exists(dest_filename):\n",
    "        print('Attempting to download', filename)\n",
    "        filename, _ = urlretrieve(url + filename, \n",
    "                                  dest_filename, \n",
    "                                  reporthook=download_progress_hook)\n",
    "        print('\\nDownload Complete.')\n",
    "    statinfo = os.stat(dest_filename)\n",
    "    if statinfo.st_size == expected_bytes:\n",
    "        print('Found and verified', dest_filename)\n",
    "    else:\n",
    "        raise Exception('Failed to verify ' + dest_filename + \n",
    "                        '. Can you get it with a browser?')\n",
    "    return dest_filename"
   ]
  },
  {
   "cell_type": "code",
   "execution_count": 5,
   "metadata": {
    "collapsed": false
   },
   "outputs": [
    {
     "name": "stdout",
     "output_type": "stream",
     "text": [
      "Found and verified ./data/notMNIST_large.tar.gz\n",
      "Found and verified ./data/notMNIST_small.tar.gz\n"
     ]
    }
   ],
   "source": [
    "train_filename = maybe_download('notMNIST_large.tar.gz', 247336696)\n",
    "test_filename = maybe_download('notMNIST_small.tar.gz', 8458043)                                "
   ]
  },
  {
   "cell_type": "markdown",
   "metadata": {},
   "source": [
    "Extract the data from the compressed tarball.  Contains directories A - J"
   ]
  },
  {
   "cell_type": "code",
   "execution_count": 6,
   "metadata": {
    "collapsed": true
   },
   "outputs": [],
   "source": [
    "n_classes = 10\n",
    "np.random.seed(266)"
   ]
  },
  {
   "cell_type": "code",
   "execution_count": 7,
   "metadata": {
    "collapsed": true
   },
   "outputs": [],
   "source": [
    "def maybe_extract(filename, force=False):\n",
    "    # remove '.tar.gz'\n",
    "    root = os.path.splitext(os.path.splitext(filename)[0])[0] \n",
    "    if os.path.isdir(root) and not force:\n",
    "        # override with `force=True`\n",
    "        print('%s already present - not rextracting %s' %(root, filename))\n",
    "    else:\n",
    "        print('Extracting data for %s. May take a while...' %root)\n",
    "        tar = tarfile.open(filename)\n",
    "        sys.stdout.flush()\n",
    "        tar.extractall(data_root)\n",
    "        tar.close()\n",
    "    data_folders = [os.path.join(root, d) for d in sorted(os.listdir(root))\n",
    "                    if os.path.isdir(os.path.join(root, d))]\n",
    "    if len(data_folders) != n_classes:\n",
    "        raise Exception('Expected %d folders, (one per class). Got %d' \n",
    "                        %(n_classes, len(data_folders)))\n",
    "    print(data_folders)\n",
    "    return data_folders"
   ]
  },
  {
   "cell_type": "code",
   "execution_count": 8,
   "metadata": {
    "collapsed": false
   },
   "outputs": [
    {
     "name": "stdout",
     "output_type": "stream",
     "text": [
      "./data/notMNIST_large already present - not rextracting ./data/notMNIST_large.tar.gz\n",
      "['./data/notMNIST_large/A', './data/notMNIST_large/B', './data/notMNIST_large/C', './data/notMNIST_large/D', './data/notMNIST_large/E', './data/notMNIST_large/F', './data/notMNIST_large/G', './data/notMNIST_large/H', './data/notMNIST_large/I', './data/notMNIST_large/J']\n",
      "./data/notMNIST_small already present - not rextracting ./data/notMNIST_small.tar.gz\n",
      "['./data/notMNIST_small/A', './data/notMNIST_small/B', './data/notMNIST_small/C', './data/notMNIST_small/D', './data/notMNIST_small/E', './data/notMNIST_small/F', './data/notMNIST_small/G', './data/notMNIST_small/H', './data/notMNIST_small/I', './data/notMNIST_small/J']\n"
     ]
    }
   ],
   "source": [
    "train_folders = maybe_extract(train_filename)\n",
    "test_folders = maybe_extract(test_filename)"
   ]
  },
  {
   "cell_type": "markdown",
   "metadata": {},
   "source": [
    "# Problem 1\n",
    "\n",
    "Take a peek at some of the data to make sure it looks sensible. Each example should be an image of a character A through J rendered in a different font. Display a sample of the images that we just downloaded. Hint: you can use the package IPython.display.\n",
    "\n",
    "Now let's load the data in a more manageable format. Since, depending on your computer setup you might not be able to fit it all in memory, we'll load each class into a separate dataset, store them on disk and curate them independently. Later we'll merge them into a single dataset of manageable size.\n",
    "\n",
    "We'll convert the entire dataset into a 3D array (image_index, x, y) of floating point values, normalized to have approximately zero mean and standard deviation ~0.5 to make training easier down the road.\n",
    "\n",
    "A few images might not be readable, we'll just skip them."
   ]
  },
  {
   "cell_type": "code",
   "execution_count": 9,
   "metadata": {
    "collapsed": true
   },
   "outputs": [],
   "source": [
    "image_size = 28    # w and h in px\n",
    "pixel_depth = 255. # max value for each px"
   ]
  },
  {
   "cell_type": "code",
   "execution_count": 16,
   "metadata": {
    "collapsed": true
   },
   "outputs": [],
   "source": [
    "def load_letter(folder, min_images):\n",
    "    '''Load data for a single letter'''\n",
    "    image_files = os.listdir(folder)\n",
    "    data_set = np.ndarray(shape=(len(image_files), image_size, image_size),\n",
    "                          dtype=np.float32)\n",
    "    print(folder)\n",
    "    n_images = 0\n",
    "    for image in image_files:\n",
    "        image_file = os.path.join(folder, image)\n",
    "        try:\n",
    "            image_data = (ndimage.imread(image_file).astype(float) - \n",
    "                          pixel_depth / 2) / pixel_depth\n",
    "            if image_data.shape != (image_size, image_size):\n",
    "                raise Exception('Unexpected image shape: %s' \n",
    "                                %str(image_data.shape))\n",
    "            data_set[n_images, :, :] = image_data\n",
    "            n_images += 1\n",
    "        except IOError as e:\n",
    "            print('Could not read ', image_file, ':', e, '--skipping...')\n",
    "    data_set = data_set[0:n_images, :, :]\n",
    "    if n_images < min_images:\n",
    "        raise Exception('Many fewer images than expected (%d < %d)' \n",
    "                        %(n_images, min_images))\n",
    "    print('Full data set tensor:', data_set.shape)\n",
    "    print('Mean:', np.mean(data_set))\n",
    "    print('SD:', np.std(data_set))\n",
    "    return data_set"
   ]
  },
  {
   "cell_type": "code",
   "execution_count": 17,
   "metadata": {
    "collapsed": true
   },
   "outputs": [],
   "source": [
    "def maybe_pickle(data_folders, min_class_img, force=False):\n",
    "    data_set_names = []\n",
    "    for folder in data_folders:\n",
    "        set_filename = folder + '.pickle'\n",
    "        data_set_names.append(set_filename)\n",
    "        if os.path.exists(set_filename) and not force:\n",
    "            print('%s already present--Not repickling')\n",
    "        else:\n",
    "            print('Pickling %s...' %set_filename)\n",
    "            data_set = load_letter(folder, min_class_img)\n",
    "            try:\n",
    "                with open(set_filename, 'wb') as f:\n",
    "                    pickle.dump(data_set, f, pickle.HIGHEST_PROTOCOL)\n",
    "            except Exception as e:\n",
    "                print('Unable to save data to', set_filename, ':', e)\n",
    "    return data_set_names"
   ]
  },
  {
   "cell_type": "code",
   "execution_count": 18,
   "metadata": {
    "collapsed": false
   },
   "outputs": [
    {
     "name": "stdout",
     "output_type": "stream",
     "text": [
      "Pickling ./data/notMNIST_large/A.pickle...\n",
      "./data/notMNIST_large/A\n",
      "Could not read  ./data/notMNIST_large/A/RnJlaWdodERpc3BCb29rSXRhbGljLnR0Zg==.png : cannot identify image file './data/notMNIST_large/A/RnJlaWdodERpc3BCb29rSXRhbGljLnR0Zg==.png' --skipping...\n",
      "Could not read  ./data/notMNIST_large/A/SG90IE11c3RhcmQgQlROIFBvc3Rlci50dGY=.png : cannot identify image file './data/notMNIST_large/A/SG90IE11c3RhcmQgQlROIFBvc3Rlci50dGY=.png' --skipping...\n",
      "Could not read  ./data/notMNIST_large/A/Um9tYW5hIEJvbGQucGZi.png : cannot identify image file './data/notMNIST_large/A/Um9tYW5hIEJvbGQucGZi.png' --skipping...\n",
      "Full data set tensor: (52909, 28, 28)\n",
      "Mean: -0.12825\n",
      "SD: 0.443121\n",
      "Pickling ./data/notMNIST_large/B.pickle...\n",
      "./data/notMNIST_large/B\n",
      "Could not read  ./data/notMNIST_large/B/TmlraXNFRi1TZW1pQm9sZEl0YWxpYy5vdGY=.png : cannot identify image file './data/notMNIST_large/B/TmlraXNFRi1TZW1pQm9sZEl0YWxpYy5vdGY=.png' --skipping...\n",
      "Full data set tensor: (52911, 28, 28)\n",
      "Mean: -0.00756303\n",
      "SD: 0.454491\n",
      "Pickling ./data/notMNIST_large/C.pickle...\n",
      "./data/notMNIST_large/C\n",
      "Full data set tensor: (52912, 28, 28)\n",
      "Mean: -0.142258\n",
      "SD: 0.439806\n",
      "Pickling ./data/notMNIST_large/D.pickle...\n",
      "./data/notMNIST_large/D\n",
      "Could not read  ./data/notMNIST_large/D/VHJhbnNpdCBCb2xkLnR0Zg==.png : cannot identify image file './data/notMNIST_large/D/VHJhbnNpdCBCb2xkLnR0Zg==.png' --skipping...\n",
      "Full data set tensor: (52911, 28, 28)\n",
      "Mean: -0.0573678\n",
      "SD: 0.455648\n",
      "Pickling ./data/notMNIST_large/E.pickle...\n",
      "./data/notMNIST_large/E\n",
      "Full data set tensor: (52912, 28, 28)\n",
      "Mean: -0.069899\n",
      "SD: 0.452942\n",
      "Pickling ./data/notMNIST_large/F.pickle...\n",
      "./data/notMNIST_large/F\n",
      "Full data set tensor: (52912, 28, 28)\n",
      "Mean: -0.125583\n",
      "SD: 0.44709\n",
      "Pickling ./data/notMNIST_large/G.pickle...\n",
      "./data/notMNIST_large/G\n",
      "Full data set tensor: (52912, 28, 28)\n",
      "Mean: -0.0945814\n",
      "SD: 0.44624\n",
      "Pickling ./data/notMNIST_large/H.pickle...\n",
      "./data/notMNIST_large/H\n",
      "Full data set tensor: (52912, 28, 28)\n",
      "Mean: -0.0685221\n",
      "SD: 0.454232\n",
      "Pickling ./data/notMNIST_large/I.pickle...\n",
      "./data/notMNIST_large/I\n",
      "Full data set tensor: (52912, 28, 28)\n",
      "Mean: 0.0307862\n",
      "SD: 0.468899\n",
      "Pickling ./data/notMNIST_large/J.pickle...\n",
      "./data/notMNIST_large/J\n",
      "Full data set tensor: (52911, 28, 28)\n",
      "Mean: -0.153358\n",
      "SD: 0.443656\n",
      "Pickling ./data/notMNIST_small/A.pickle...\n",
      "./data/notMNIST_small/A\n",
      "Could not read  ./data/notMNIST_small/A/RGVtb2NyYXRpY2FCb2xkT2xkc3R5bGUgQm9sZC50dGY=.png : cannot identify image file './data/notMNIST_small/A/RGVtb2NyYXRpY2FCb2xkT2xkc3R5bGUgQm9sZC50dGY=.png' --skipping...\n",
      "Full data set tensor: (1872, 28, 28)\n",
      "Mean: -0.132626\n",
      "SD: 0.445128\n",
      "Pickling ./data/notMNIST_small/B.pickle...\n",
      "./data/notMNIST_small/B\n",
      "Full data set tensor: (1873, 28, 28)\n",
      "Mean: 0.00535609\n",
      "SD: 0.457115\n",
      "Pickling ./data/notMNIST_small/C.pickle...\n",
      "./data/notMNIST_small/C\n",
      "Full data set tensor: (1873, 28, 28)\n",
      "Mean: -0.141521\n",
      "SD: 0.44269\n",
      "Pickling ./data/notMNIST_small/D.pickle...\n",
      "./data/notMNIST_small/D\n",
      "Full data set tensor: (1873, 28, 28)\n",
      "Mean: -0.0492167\n",
      "SD: 0.459759\n",
      "Pickling ./data/notMNIST_small/E.pickle...\n",
      "./data/notMNIST_small/E\n",
      "Full data set tensor: (1873, 28, 28)\n",
      "Mean: -0.0599148\n",
      "SD: 0.45735\n",
      "Pickling ./data/notMNIST_small/F.pickle...\n",
      "./data/notMNIST_small/F\n",
      "Could not read  ./data/notMNIST_small/F/Q3Jvc3NvdmVyIEJvbGRPYmxpcXVlLnR0Zg==.png : cannot identify image file './data/notMNIST_small/F/Q3Jvc3NvdmVyIEJvbGRPYmxpcXVlLnR0Zg==.png' --skipping...\n",
      "Full data set tensor: (1872, 28, 28)\n",
      "Mean: -0.118185\n",
      "SD: 0.452279\n",
      "Pickling ./data/notMNIST_small/G.pickle...\n",
      "./data/notMNIST_small/G\n",
      "Full data set tensor: (1872, 28, 28)\n",
      "Mean: -0.0925503\n",
      "SD: 0.449006\n",
      "Pickling ./data/notMNIST_small/H.pickle...\n",
      "./data/notMNIST_small/H\n",
      "Full data set tensor: (1872, 28, 28)\n",
      "Mean: -0.0586893\n",
      "SD: 0.458759\n",
      "Pickling ./data/notMNIST_small/I.pickle...\n",
      "./data/notMNIST_small/I\n",
      "Full data set tensor: (1872, 28, 28)\n",
      "Mean: 0.0526451\n",
      "SD: 0.471894\n",
      "Pickling ./data/notMNIST_small/J.pickle...\n",
      "./data/notMNIST_small/J\n",
      "Full data set tensor: (1872, 28, 28)\n",
      "Mean: -0.151689\n",
      "SD: 0.448014\n"
     ]
    }
   ],
   "source": [
    "train_datasets = maybe_pickle(train_folders, 45000)\n",
    "test_datasets = maybe_pickle(test_folders, 1800)"
   ]
  },
  {
   "cell_type": "code",
   "execution_count": 22,
   "metadata": {
    "collapsed": false
   },
   "outputs": [
    {
     "name": "stdout",
     "output_type": "stream",
     "text": [
      "\u001b[34mA\u001b[m\u001b[m        B.pickle \u001b[34mD\u001b[m\u001b[m        E.pickle \u001b[34mG\u001b[m\u001b[m        H.pickle \u001b[34mJ\u001b[m\u001b[m\r\n",
      "A.pickle \u001b[34mC\u001b[m\u001b[m        D.pickle \u001b[34mF\u001b[m\u001b[m        G.pickle \u001b[34mI\u001b[m\u001b[m        J.pickle\r\n",
      "\u001b[34mB\u001b[m\u001b[m        C.pickle \u001b[34mE\u001b[m\u001b[m        F.pickle \u001b[34mH\u001b[m\u001b[m        I.pickle\r\n"
     ]
    }
   ],
   "source": [
    "# Display some sample images\n",
    "!ls ./data/notMNIST_large/"
   ]
  },
  {
   "cell_type": "code",
   "execution_count": 30,
   "metadata": {
    "collapsed": false
   },
   "outputs": [
    {
     "data": {
      "text/plain": [
       "'a2F6b28udHRm.png'"
      ]
     },
     "execution_count": 30,
     "metadata": {},
     "output_type": "execute_result"
    }
   ],
   "source": [
    "os.listdir('./data/notMNIST_large/D/')[1]"
   ]
  },
  {
   "cell_type": "code",
   "execution_count": 34,
   "metadata": {
    "collapsed": false
   },
   "outputs": [
    {
     "data": {
      "image/png": "[encoded data removed]",
      "text/plain": [
       "<matplotlib.figure.Figure at 0x105d9b240>"
      ]
     },
     "metadata": {},
     "output_type": "display_data"
    }
   ],
   "source": [
    "D1 = plt.imread('./data/notMNIST_large/D/a2F6b28udHRm.png')\n",
    "plt.imshow(D1);"
   ]
  },
  {
   "cell_type": "code",
   "execution_count": 37,
   "metadata": {
    "collapsed": false
   },
   "outputs": [
    {
     "name": "stdout",
     "output_type": "stream",
     "text": [
      "A : 52912\n",
      "B : 52912\n",
      "C : 52912\n",
      "D : 52912\n",
      "E : 52912\n",
      "F : 52912\n",
      "G : 52912\n",
      "H : 52912\n",
      "I : 52912\n",
      "J : 52911\n"
     ]
    }
   ],
   "source": [
    "# Check no. of images similar for each letter\n",
    "for letter in ['A', 'B', 'C', 'D', 'E', 'F', 'G', 'H', 'I', 'J']:\n",
    "    print(letter, ':', len(os.listdir('./data/notMNIST_large/%s' %letter)))"
   ]
  },
  {
   "cell_type": "code",
   "execution_count": null,
   "metadata": {
    "collapsed": true
   },
   "outputs": [],
   "source": []
  }
 ],
 "metadata": {
  "kernelspec": {
   "display_name": "Python 3",
   "language": "python",
   "name": "python3"
  },
  "language_info": {
   "codemirror_mode": {
    "name": "ipython",
    "version": 3
   },
   "file_extension": ".py",
   "mimetype": "text/x-python",
   "name": "python",
   "nbconvert_exporter": "python",
   "pygments_lexer": "ipython3",
   "version": "3.6.1"
  }
 },
 "nbformat": 4,
 "nbformat_minor": 0
}
