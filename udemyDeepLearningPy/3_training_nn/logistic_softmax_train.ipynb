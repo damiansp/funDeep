{
 "cells": [
  {
   "cell_type": "markdown",
   "metadata": {},
   "source": [
    "### Use logistic regression model for comparison with NN"
   ]
  },
  {
   "cell_type": "code",
   "execution_count": 1,
   "metadata": {
    "collapsed": true
   },
   "outputs": [],
   "source": [
    "import numpy as np\n",
    "import matplotlib.pyplot as plt\n",
    "import sys\n",
    "\n",
    "from sklearn.utils import shuffle\n",
    "\n",
    "sys.path.append('../2_multiclass_classification')\n",
    "from process import get_data\n",
    "\n",
    "%matplotlib inline"
   ]
  },
  {
   "cell_type": "code",
   "execution_count": 2,
   "metadata": {
    "collapsed": true
   },
   "outputs": [],
   "source": [
    "def y2indicator(y, K):\n",
    "    N = len(y)\n",
    "    ind = np.zeros((N, K))\n",
    "    for i in range(N):\n",
    "        ind[i, y[i]] = 1\n",
    "    return ind"
   ]
  },
  {
   "cell_type": "code",
   "execution_count": 3,
   "metadata": {},
   "outputs": [],
   "source": [
    "X, Y = get_data('../courseCode/ann_logistic_extra/ecommerce_data.csv')\n",
    "X, Y = shuffle(X, Y)\n",
    "Y = Y.astype(np.int32)"
   ]
  },
  {
   "cell_type": "code",
   "execution_count": 15,
   "metadata": {
    "collapsed": true
   },
   "outputs": [],
   "source": [
    "D = X.shape[1]\n",
    "K = len(set(Y))\n",
    "\n",
    "X_train = X[:-100]\n",
    "Y_train = Y[:-100]\n",
    "Y_train_ind = y2indicator(Y_train, K)\n",
    "\n",
    "X_test = X[-100:]\n",
    "Y_test = Y[-100:]\n",
    "Y_test_ind = y2indicator(Y_test, K)"
   ]
  },
  {
   "cell_type": "code",
   "execution_count": 16,
   "metadata": {
    "collapsed": true
   },
   "outputs": [],
   "source": [
    "W = np.random.randn(D, K)\n",
    "b = np.zeros(K)"
   ]
  },
  {
   "cell_type": "code",
   "execution_count": 17,
   "metadata": {
    "collapsed": true
   },
   "outputs": [],
   "source": [
    "def softmax(a):\n",
    "    expA = np.exp(a)\n",
    "    return expA / expA.sum(axis = 1, keepdims = True)"
   ]
  },
  {
   "cell_type": "code",
   "execution_count": 18,
   "metadata": {
    "collapsed": true
   },
   "outputs": [],
   "source": [
    "def forward(X, W, b):\n",
    "    return softmax(X.dot(W) + b)"
   ]
  },
  {
   "cell_type": "code",
   "execution_count": 19,
   "metadata": {
    "collapsed": true
   },
   "outputs": [],
   "source": [
    "def predict(prob_Y):\n",
    "    return np.argmax(prob_Y, axis = 1)"
   ]
  },
  {
   "cell_type": "code",
   "execution_count": 20,
   "metadata": {
    "collapsed": true
   },
   "outputs": [],
   "source": [
    "def accuracy(Y, preds):\n",
    "    return np.mean(Y == preds)"
   ]
  },
  {
   "cell_type": "code",
   "execution_count": 21,
   "metadata": {
    "collapsed": true
   },
   "outputs": [],
   "source": [
    "def cross_entropy(T, preds):\n",
    "    return -np.mean(T * np.log(preds))"
   ]
  },
  {
   "cell_type": "code",
   "execution_count": 22,
   "metadata": {},
   "outputs": [
    {
     "name": "stdout",
     "output_type": "stream",
     "text": [
      "Epoch\tCross-Entropy\n",
      "     \t(train)\t(test)\n",
      "    0\t0.45118\t0.46062\n",
      " 1000\t0.09245\t0.16374\n",
      " 2000\t0.08957\t0.16591\n",
      " 3000\t0.08875\t0.16783\n",
      " 4000\t0.08843\t0.16913\n",
      " 5000\t0.08830\t0.16999\n",
      " 6000\t0.08823\t0.17056\n",
      " 7000\t0.08820\t0.17095\n",
      " 8000\t0.08819\t0.17122\n",
      " 9000\t0.08818\t0.17140\n",
      "Final training accuracy: 0.87\n",
      "Final test accuracy:     0.83\n"
     ]
    }
   ],
   "source": [
    "# Init\n",
    "train_costs = []\n",
    "test_costs = []\n",
    "eta = 0.001\n",
    "\n",
    "print('Epoch\\tCross-Entropy')\n",
    "print('     \\t(train)\\t(test)')\n",
    "\n",
    "for i in range(10000):\n",
    "    pred_train = forward(X_train, W, b)\n",
    "    pred_test  = forward(X_test, W, b)\n",
    "    \n",
    "    c_train = cross_entropy(Y_train_ind, pred_train)\n",
    "    c_test  = cross_entropy(Y_test_ind,  pred_test)\n",
    "    train_costs.append(c_train)\n",
    "    test_costs.append(c_test)\n",
    "    \n",
    "    # GD\n",
    "    W -= eta * X_train.T.dot(pred_train - Y_train_ind)\n",
    "    b -= eta * (pred_train - Y_train_ind).sum(axis = 0)\n",
    "    \n",
    "    if i % 1000 == 0:\n",
    "        print('%5d\\t%.5f\\t%.5f' %(i, c_train, c_test))\n",
    "        \n",
    "print('Final training accuracy:', accuracy(Y_train, predict(pred_train)))\n",
    "print('Final test accuracy:    ', accuracy(Y_test,  predict(pred_test)))"
   ]
  },
  {
   "cell_type": "code",
   "execution_count": 23,
   "metadata": {},
   "outputs": [
    {
     "data": {
      "image/png": "[encoded data removed]",
      "text/plain": [
       "<matplotlib.figure.Figure at 0x10c22be48>"
      ]
     },
     "metadata": {},
     "output_type": "display_data"
    }
   ],
   "source": [
    "legend1, = plt.plot(train_costs, label = 'training cost')\n",
    "legend2, = plt.plot(test_costs,  label = 'test cost')\n",
    "plt.legend([legend1, legend2]);\n",
    "plt.show();"
   ]
  },
  {
   "cell_type": "code",
   "execution_count": null,
   "metadata": {
    "collapsed": true
   },
   "outputs": [],
   "source": []
  }
 ],
 "metadata": {
  "kernelspec": {
   "display_name": "Python 3",
   "language": "python",
   "name": "python3"
  },
  "language_info": {
   "codemirror_mode": {
    "name": "ipython",
    "version": 3
   },
   "file_extension": ".py",
   "mimetype": "text/x-python",
   "name": "python",
   "nbconvert_exporter": "python",
   "pygments_lexer": "ipython3",
   "version": "3.6.1"
  }
 },
 "nbformat": 4,
 "nbformat_minor": 2
}
