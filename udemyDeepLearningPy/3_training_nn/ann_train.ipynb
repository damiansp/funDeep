{
 "cells": [
  {
   "cell_type": "code",
   "execution_count": 5,
   "metadata": {},
   "outputs": [
    {
     "name": "stdout",
     "output_type": "stream",
     "text": [
      "\u001b[34m__pycache__\u001b[m\u001b[m/                process.py\r\n",
      "ann_predict.ipynb           process.pyc\r\n",
      "ecommerce_preprocess.ipynb  softmax.ipynb\r\n",
      "forward_prop.ipynb\r\n"
     ]
    }
   ],
   "source": [
    "ls '../2_multiclass_classification'"
   ]
  },
  {
   "cell_type": "code",
   "execution_count": 4,
   "metadata": {
    "collapsed": true
   },
   "outputs": [],
   "source": [
    "import matplotlib.pyplot as plt\n",
    "import numpy as np\n",
    "import sys\n",
    "from sklearn.utils import shuffle\n",
    "\n",
    "sys.path.append('../2_multiclass_classification')\n",
    "from process import get_data"
   ]
  },
  {
   "cell_type": "code",
   "execution_count": 6,
   "metadata": {
    "collapsed": true
   },
   "outputs": [],
   "source": [
    "def y2indicator(y, K):\n",
    "    N = len(y)\n",
    "    ind = np.zeros((N, K))\n",
    "    for i in range(N):\n",
    "        ind[i, y[i]] = 1\n",
    "    return ind"
   ]
  },
  {
   "cell_type": "code",
   "execution_count": 18,
   "metadata": {},
   "outputs": [],
   "source": [
    "X, Y = get_data()\n",
    "X, Y = shuffle(X, Y)\n",
    "Y = Y.astype(np.int32)\n",
    "M = 5\n",
    "D = X.shape[1]\n",
    "K = len(set(Y))"
   ]
  },
  {
   "cell_type": "code",
   "execution_count": 19,
   "metadata": {
    "collapsed": true
   },
   "outputs": [],
   "source": [
    "X_train = X[:-100]\n",
    "Y_train = Y[:-100]\n",
    "Y_train_ind = y2indicator(Y_train, K)\n",
    "X_test = X[-100:]\n",
    "Y_test = Y[-100:]\n",
    "Y_test_ind = y2indicator(Y_test, K)"
   ]
  },
  {
   "cell_type": "code",
   "execution_count": 20,
   "metadata": {
    "collapsed": true
   },
   "outputs": [],
   "source": [
    "W1 = np.random.randn(D, M)\n",
    "b1 = np.zeros(M)\n",
    "W2 = np.random.randn(M, K)\n",
    "b2 = np.zeros(K)"
   ]
  },
  {
   "cell_type": "code",
   "execution_count": 21,
   "metadata": {
    "collapsed": true
   },
   "outputs": [],
   "source": [
    "def softmax(a):\n",
    "    expA = np.exp(a)\n",
    "    return expA / expA.sum(axis = 1, keepdims = True)"
   ]
  },
  {
   "cell_type": "code",
   "execution_count": 22,
   "metadata": {
    "collapsed": true
   },
   "outputs": [],
   "source": [
    "def forward(X, W1, b1, W2, b2):\n",
    "    Z = np.tanh(X.dot(W1) + b1)\n",
    "    return softmax(Z.dot(W2) + b2), Z # return Z now, too"
   ]
  },
  {
   "cell_type": "code",
   "execution_count": 23,
   "metadata": {
    "collapsed": true
   },
   "outputs": [],
   "source": [
    "def predict(probY):\n",
    "    return np.argmax(probY, axis = 1)"
   ]
  },
  {
   "cell_type": "code",
   "execution_count": 24,
   "metadata": {
    "collapsed": true
   },
   "outputs": [],
   "source": [
    "def accuracy(Y, preds):\n",
    "    return np.mean(Y == preds)"
   ]
  },
  {
   "cell_type": "code",
   "execution_count": 25,
   "metadata": {
    "collapsed": true
   },
   "outputs": [],
   "source": [
    "def cross_entropy(T, preds):\n",
    "    return -np.mean(T * np.log(preds))"
   ]
  },
  {
   "cell_type": "code",
   "execution_count": 26,
   "metadata": {},
   "outputs": [
    {
     "name": "stdout",
     "output_type": "stream",
     "text": [
      "     \tError\n",
      "Epoch\t(train)\t(test)\n",
      "    0\t0.6393\t0.5924\n",
      " 1000\t0.0602\t0.0729\n",
      " 2000\t0.0528\t0.0688\n",
      " 3000\t0.0494\t0.0690\n",
      " 4000\t0.0474\t0.0708\n",
      " 5000\t0.0462\t0.0728\n",
      " 6000\t0.0452\t0.0748\n",
      " 7000\t0.0445\t0.0766\n",
      " 8000\t0.0440\t0.0782\n",
      " 9000\t0.0435\t0.0797\n",
      "Accuracy (train): 0.9025\t(test): 0.9000\n"
     ]
    }
   ],
   "source": [
    "train_costs = []\n",
    "test_costs  = []\n",
    "eta = 0.001\n",
    "print('     \\tError')\n",
    "print('Epoch\\t(train)\\t(test)')\n",
    "\n",
    "for i in range(10000):\n",
    "    # Forward prop\n",
    "    pY_train, Z_train = forward(X_train, W1, b1, W2, b2)\n",
    "    pY_test,  Z_test  = forward(X_test,  W1, b1, W2, b2)\n",
    "    \n",
    "    # Record error\n",
    "    c_train = cross_entropy(Y_train_ind, pY_train)\n",
    "    c_test  = cross_entropy(Y_test_ind,  pY_test)\n",
    "    train_costs.append(c_train)\n",
    "    test_costs.append(c_test)\n",
    "    \n",
    "    # Gradient descent\n",
    "    W2 -= eta * Z_train.T.dot(pY_train - Y_train_ind)\n",
    "    b2 -= eta * (pY_train - Y_train_ind).sum()\n",
    "    dZ = (pY_train - Y_train_ind).dot(W2.T) * (1 - Z_train * Z_train)\n",
    "    W1 -= eta * X_train.T.dot(dZ)\n",
    "    b1 -= eta * dZ.sum(axis = 0)\n",
    "    \n",
    "    # Output progress\n",
    "    if i % 1000 == 0:\n",
    "        print('%5d\\t%.4f\\t%.4f' %(i, c_train, c_test))\n",
    "        \n",
    "print(\n",
    "    'Accuracy (train): %.4f\\t(test): %.4f' \n",
    "    %(accuracy(Y_train, predict(pY_train)), \n",
    "      accuracy(Y_test, predict(pY_test))))"
   ]
  },
  {
   "cell_type": "code",
   "execution_count": 27,
   "metadata": {},
   "outputs": [
    {
     "data": {
      "image/png": "[encoded data removed]",
      "text/plain": [
       "<matplotlib.figure.Figure at 0x11490bcc0>"
      ]
     },
     "metadata": {},
     "output_type": "display_data"
    }
   ],
   "source": [
    "legend1, = plt.plot(train_costs, label = 'training cost')\n",
    "legend2, = plt.plot(test_costs,  label = 'test cost')\n",
    "plt.legend([legend1, legend2]);\n",
    "plt.show();"
   ]
  },
  {
   "cell_type": "code",
   "execution_count": null,
   "metadata": {
    "collapsed": true
   },
   "outputs": [],
   "source": []
  }
 ],
 "metadata": {
  "kernelspec": {
   "display_name": "Python 3",
   "language": "python",
   "name": "python3"
  },
  "language_info": {
   "codemirror_mode": {
    "name": "ipython",
    "version": 3
   },
   "file_extension": ".py",
   "mimetype": "text/x-python",
   "name": "python",
   "nbconvert_exporter": "python",
   "pygments_lexer": "ipython3",
   "version": "3.6.1"
  }
 },
 "nbformat": 4,
 "nbformat_minor": 2
}
