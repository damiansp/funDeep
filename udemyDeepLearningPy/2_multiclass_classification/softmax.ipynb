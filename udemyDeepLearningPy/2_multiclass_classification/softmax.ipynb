{
 "cells": [
  {
   "cell_type": "code",
   "execution_count": 1,
   "metadata": {
    "collapsed": true
   },
   "outputs": [],
   "source": [
    "import numpy as np"
   ]
  },
  {
   "cell_type": "markdown",
   "metadata": {},
   "source": [
    "### Single output example"
   ]
  },
  {
   "cell_type": "code",
   "execution_count": 2,
   "metadata": {
    "collapsed": false
   },
   "outputs": [
    {
     "data": {
      "text/plain": [
       "array([-0.36710061, -0.67012695,  0.49512674,  1.48306992, -0.68713561])"
      ]
     },
     "execution_count": 2,
     "metadata": {},
     "output_type": "execute_result"
    }
   ],
   "source": [
    "a = np.random.randn(5)\n",
    "a"
   ]
  },
  {
   "cell_type": "code",
   "execution_count": 4,
   "metadata": {
    "collapsed": false
   },
   "outputs": [
    {
     "data": {
      "text/plain": [
       "array([ 0.69273995,  0.51164362,  1.64070617,  4.40645237,  0.50301484])"
      ]
     },
     "execution_count": 4,
     "metadata": {},
     "output_type": "execute_result"
    }
   ],
   "source": [
    "expa = np.exp(a)\n",
    "expa"
   ]
  },
  {
   "cell_type": "code",
   "execution_count": 5,
   "metadata": {
    "collapsed": false
   },
   "outputs": [
    {
     "data": {
      "text/plain": [
       "array([ 0.08933327,  0.06597974,  0.21157961,  0.56824038,  0.064867  ])"
      ]
     },
     "execution_count": 5,
     "metadata": {},
     "output_type": "execute_result"
    }
   ],
   "source": [
    "smax = expa / expa.sum()\n",
    "smax"
   ]
  },
  {
   "cell_type": "markdown",
   "metadata": {},
   "source": [
    "### Output Array"
   ]
  },
  {
   "cell_type": "code",
   "execution_count": 7,
   "metadata": {
    "collapsed": false
   },
   "outputs": [],
   "source": [
    "A = np.random.randn(100, 5)"
   ]
  },
  {
   "cell_type": "code",
   "execution_count": 8,
   "metadata": {
    "collapsed": true
   },
   "outputs": [],
   "source": [
    "expA = np.exp(A)"
   ]
  },
  {
   "cell_type": "code",
   "execution_count": 9,
   "metadata": {
    "collapsed": true
   },
   "outputs": [],
   "source": [
    "smaxA = expA / expA.sum(axis = 1, keepdims = True)"
   ]
  },
  {
   "cell_type": "code",
   "execution_count": 10,
   "metadata": {
    "collapsed": false
   },
   "outputs": [
    {
     "data": {
      "text/plain": [
       "array([[ 0.09271716,  0.3972813 ,  0.05794322,  0.15209545,  0.29996287],\n",
       "       [ 0.19699098,  0.05092447,  0.52574356,  0.15210514,  0.07423585],\n",
       "       [ 0.03413873,  0.06036705,  0.38054791,  0.41957858,  0.10536773],\n",
       "       [ 0.32428827,  0.24116123,  0.29523753,  0.12752339,  0.01178958],\n",
       "       [ 0.01245263,  0.20043907,  0.18316159,  0.07075657,  0.53319014],\n",
       "       [ 0.19419089,  0.22542441,  0.43613689,  0.04191068,  0.10233713],\n",
       "       [ 0.06967034,  0.44966736,  0.27776903,  0.07863823,  0.12425505],\n",
       "       [ 0.13506202,  0.37811436,  0.16611052,  0.18141971,  0.13929339],\n",
       "       [ 0.15599493,  0.08032871,  0.04777285,  0.66634444,  0.04955908],\n",
       "       [ 0.14047899,  0.13958802,  0.13179204,  0.54410667,  0.04403428]])"
      ]
     },
     "execution_count": 10,
     "metadata": {},
     "output_type": "execute_result"
    }
   ],
   "source": [
    "smaxA[:10]"
   ]
  },
  {
   "cell_type": "code",
   "execution_count": null,
   "metadata": {
    "collapsed": true
   },
   "outputs": [],
   "source": []
  }
 ],
 "metadata": {
  "kernelspec": {
   "display_name": "Python 2",
   "language": "python",
   "name": "python2"
  },
  "language_info": {
   "codemirror_mode": {
    "name": "ipython",
    "version": 2
   },
   "file_extension": ".py",
   "mimetype": "text/x-python",
   "name": "python",
   "nbconvert_exporter": "python",
   "pygments_lexer": "ipython2",
   "version": "2.7.10"
  }
 },
 "nbformat": 4,
 "nbformat_minor": 2
}
