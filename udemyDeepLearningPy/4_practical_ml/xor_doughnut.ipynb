{
 "cells": [
  {
   "cell_type": "code",
   "execution_count": 1,
   "metadata": {
    "collapsed": true
   },
   "outputs": [],
   "source": [
    "import numpy as np\n",
    "import matplotlib.pyplot as plt\n",
    "\n",
    "%matplotlib inline"
   ]
  },
  {
   "cell_type": "code",
   "execution_count": 2,
   "metadata": {
    "collapsed": true
   },
   "outputs": [],
   "source": [
    "def forward(X, W1, b1, W2, b2):\n",
    "    Z = 1 / (1 + np.exp(-(X.dot(W1) + b1)))\n",
    "    activation = Z.dot(W2) + b2\n",
    "    Y = 1 / (1 + np.exp(-activation))\n",
    "    return Y, Z"
   ]
  },
  {
   "cell_type": "code",
   "execution_count": 3,
   "metadata": {
    "collapsed": true
   },
   "outputs": [],
   "source": [
    "def predict(X, W1, b1, W2, b2):\n",
    "    Y, _ = forward(X, W1, b1, W2, b2)\n",
    "    return np.round(Y)"
   ]
  },
  {
   "cell_type": "code",
   "execution_count": 4,
   "metadata": {
    "collapsed": true
   },
   "outputs": [],
   "source": [
    "def derivative_W2(Z, T, Y):\n",
    "    return (T - Y).dot(Z)"
   ]
  },
  {
   "cell_type": "code",
   "execution_count": 5,
   "metadata": {
    "collapsed": true
   },
   "outputs": [],
   "source": [
    "def derivative_b2(T, Y):\n",
    "    return (T - Y).sum()"
   ]
  },
  {
   "cell_type": "code",
   "execution_count": 6,
   "metadata": {
    "collapsed": true
   },
   "outputs": [],
   "source": [
    "def derivative_W1(X, Z, T, Y, W2):\n",
    "    # Sigmoid:\n",
    "    # dZ = np.outer(T - Y, W2) * Z * (1 - Z)\n",
    "    # Tanh:\n",
    "    dZ = np.outer(T - Y, W2) * (1 - Z * Z)\n",
    "    return X.T.dot(dZ)"
   ]
  },
  {
   "cell_type": "code",
   "execution_count": 7,
   "metadata": {
    "collapsed": true
   },
   "outputs": [],
   "source": [
    "def derivative_b1(Z, T, Y, W2):\n",
    "    dZ = np.outer(T - Y, W2) * (1 - Z * Z)\n",
    "    return dZ.sum(axis = 0)"
   ]
  },
  {
   "cell_type": "code",
   "execution_count": 8,
   "metadata": {
    "collapsed": true
   },
   "outputs": [],
   "source": [
    "def cost(T, Y):\n",
    "    tot = 0\n",
    "    for n in range(len(T)):\n",
    "        if T[n] == 1:\n",
    "            tot += np.log(Y[n])\n",
    "        else:\n",
    "            tot += np.log(1 - Y[n])\n",
    "    return tot"
   ]
  },
  {
   "cell_type": "code",
   "execution_count": 9,
   "metadata": {
    "collapsed": true
   },
   "outputs": [],
   "source": [
    "def test_xor():\n",
    "    X = np.array([[0, 0], [0, 1], [1, 0], [1, 1]])\n",
    "    Y = np.array([0, 1, 1, 0])\n",
    "    W1 = np.random.randn(2, 4)\n",
    "    b1 = np.random.randn(4)\n",
    "    W2 = np.random.randn(4)\n",
    "    b2 = np.random.randn(1)\n",
    "    LL = [] # track likelihoods\n",
    "    eta = 0.0005\n",
    "    reg = 0.\n",
    "    last_error_rate = None\n",
    "    \n",
    "    for i in range(100000):\n",
    "        pY, Z = forward(X, W1, b1, W2, b2)\n",
    "        ll = cost(Y, pY)\n",
    "        pred = predict(X, W1, b1, W2, b2)\n",
    "        err = np.abs(pred - Y).mean()\n",
    "        \n",
    "        if err != last_error_rate:\n",
    "            last_error_rate = err\n",
    "            print('error rate:', err)\n",
    "            print('true:', Y)\n",
    "            print('pred:', pred)\n",
    "        if LL and ll < LL[-1]:\n",
    "            print('early exit')\n",
    "            break\n",
    "        LL.append(ll)\n",
    "        \n",
    "        # Gradient descent\n",
    "        W2 += eta * (derivative_W2(Z, Y, pY) - reg * W2)\n",
    "        b2 += eta * (derivative_b2(Y, pY) - reg * b2)\n",
    "        W1 += eta * (derivative_W1(X, Z, Y, pY, W2) - reg * W1)\n",
    "        b1 += eta * (derivative_b1(Z, Y, pY, W2) - reg * b1)\n",
    "        \n",
    "        if i% 10000 == 0:\n",
    "            print('Log-Likelihood:', ll)\n",
    "    print('Final accuracy:', 1 - np.abs(pred - Y).mean())\n",
    "    plt.plot(LL)"
   ]
  },
  {
   "cell_type": "code",
   "execution_count": 14,
   "metadata": {
    "collapsed": true
   },
   "outputs": [],
   "source": [
    "def test_doughnut(n_hidden = 8):\n",
    "    N = 1000\n",
    "    r_inner = 5\n",
    "    r_outer = 10\n",
    "    \n",
    "    R1 = np.random.randn(N // 2) + r_inner\n",
    "    theta = 2 * np.pi * np.random.random(N // 2)\n",
    "    X_inner = np.concatenate(\n",
    "        [[R1 * np.cos(theta)], [R1 * np.sin(theta)]]).T\n",
    "    \n",
    "    R2 = np.random.randn(N // 2) + r_outer\n",
    "    theta = 2 * np.pi * np.random.random(N // 2)\n",
    "    X_outer = np.concatenate(\n",
    "        [[R2 * np.cos(theta)], [R2 * np.sin(theta)]]).T\n",
    "    \n",
    "    X = np.concatenate([X_inner, X_outer])\n",
    "    Y = np.array([0] * (N // 2) + [1] * (N // 2))  \n",
    "    \n",
    "    #n_hidden = 8\n",
    "    W1 = np.random.randn(2, n_hidden)\n",
    "    b1 = np.random.randn(n_hidden)\n",
    "    W2 = np.random.randn(n_hidden)\n",
    "    b2 = np.random.randn(1)\n",
    "    LL = [] # track likelihoods\n",
    "    eta = 0.00005\n",
    "    reg = 0.\n",
    "    last_error_rate = None\n",
    "    \n",
    "    for i in range(500000):\n",
    "        pY, Z = forward(X, W1, b1, W2, b2)\n",
    "        ll = cost(Y, pY)\n",
    "        pred = predict(X, W1, b1, W2, b2)\n",
    "        err = np.abs(pred - Y).mean()\n",
    "        LL.append(ll)\n",
    "        \n",
    "        # Gradient descent\n",
    "        W2 += eta * (derivative_W2(Z, Y, pY) - reg * W2)\n",
    "        b2 += eta * (derivative_b2(Y, pY) - reg * b2)\n",
    "        W1 += eta * (derivative_W1(X, Z, Y, pY, W2) - reg * W1)\n",
    "        b1 += eta * (derivative_b1(Z, Y, pY, W2) - reg * b1)\n",
    "        \n",
    "        if i% 5000 == 0:\n",
    "            print('Log-Likelihood:', ll, '\\tAccuracy:', 1 - err)\n",
    "    \n",
    "    plt.plot(LL)"
   ]
  },
  {
   "cell_type": "code",
   "execution_count": 31,
   "metadata": {},
   "outputs": [
    {
     "name": "stdout",
     "output_type": "stream",
     "text": [
      "error rate: 0.5\n",
      "true: [0 1 1 0]\n",
      "pred: [ 1.  1.  1.  1.]\n",
      "Log-Likelihood: -3.3720157422\n",
      "error rate: 0.75\n",
      "true: [0 1 1 0]\n",
      "pred: [ 1.  1.  0.  1.]\n",
      "error rate: 0.5\n",
      "true: [0 1 1 0]\n",
      "pred: [ 0.  1.  0.  1.]\n",
      "Log-Likelihood: -2.71652048556\n",
      "Log-Likelihood: -2.68948923779\n",
      "Log-Likelihood: -2.62726953462\n",
      "error rate: 0.25\n",
      "true: [0 1 1 0]\n",
      "pred: [ 0.  1.  0.  0.]\n",
      "Log-Likelihood: -2.52522158603\n",
      "Log-Likelihood: -2.41112493094\n",
      "Log-Likelihood: -2.17216927295\n",
      "error rate: 0.0\n",
      "true: [0 1 1 0]\n",
      "pred: [ 0.  1.  1.  0.]\n",
      "Log-Likelihood: -1.96350137048\n",
      "Log-Likelihood: -1.78745971766\n",
      "Log-Likelihood: -1.61225096565\n",
      "Final accuracy: 1.0\n"
     ]
    },
    {
     "data": {
      "image/png": "[encoded data removed]",
      "text/plain": [
       "<matplotlib.figure.Figure at 0x109c29c50>"
      ]
     },
     "metadata": {},
     "output_type": "display_data"
    }
   ],
   "source": [
    "test_xor()"
   ]
  },
  {
   "cell_type": "code",
   "execution_count": 13,
   "metadata": {},
   "outputs": [
    {
     "name": "stdout",
     "output_type": "stream",
     "text": [
      "Log-Likelihood: -1281.47934265 \tAccuracy: 0.503\n",
      "Log-Likelihood: -686.43740657 \tAccuracy: 0.538\n",
      "Log-Likelihood: -683.878253837 \tAccuracy: 0.556\n",
      "Log-Likelihood: -682.448854629 \tAccuracy: 0.555\n",
      "Log-Likelihood: -681.607523914 \tAccuracy: 0.561\n",
      "Log-Likelihood: -680.465240895 \tAccuracy: 0.567\n",
      "Log-Likelihood: -679.525409562 \tAccuracy: 0.571\n",
      "Log-Likelihood: -678.664533979 \tAccuracy: 0.575\n",
      "Log-Likelihood: -677.838876488 \tAccuracy: 0.584\n",
      "Log-Likelihood: -677.094434914 \tAccuracy: 0.591\n",
      "Log-Likelihood: -676.417494524 \tAccuracy: 0.596\n",
      "Log-Likelihood: -675.779752939 \tAccuracy: 0.598\n",
      "Log-Likelihood: -675.176713795 \tAccuracy: 0.603\n",
      "Log-Likelihood: -674.613898824 \tAccuracy: 0.606\n",
      "Log-Likelihood: -674.0985753 \tAccuracy: 0.61\n",
      "Log-Likelihood: -673.643374936 \tAccuracy: 0.616\n",
      "Log-Likelihood: -673.242344784 \tAccuracy: 0.625\n",
      "Log-Likelihood: -672.886570855 \tAccuracy: 0.632\n",
      "Log-Likelihood: -672.57059337 \tAccuracy: 0.634\n",
      "Log-Likelihood: -672.290309926 \tAccuracy: 0.633\n",
      "Log-Likelihood: -672.042285523 \tAccuracy: 0.634\n",
      "Log-Likelihood: -671.823537708 \tAccuracy: 0.636\n",
      "Log-Likelihood: -671.631397879 \tAccuracy: 0.635\n",
      "Log-Likelihood: -671.463439658 \tAccuracy: 0.635\n",
      "Log-Likelihood: -671.317460005 \tAccuracy: 0.636\n",
      "Log-Likelihood: -671.191491991 \tAccuracy: 0.635\n",
      "Log-Likelihood: -671.083842709 \tAccuracy: 0.635\n",
      "Log-Likelihood: -670.993174968 \tAccuracy: 0.634\n",
      "Log-Likelihood: -670.91869771 \tAccuracy: 0.635\n",
      "Log-Likelihood: -670.860660876 \tAccuracy: 0.635\n",
      "Log-Likelihood: -670.821830674 \tAccuracy: 0.632\n",
      "Log-Likelihood: -670.812804367 \tAccuracy: 0.63\n",
      "Log-Likelihood: -670.876376273 \tAccuracy: 0.632\n",
      "Log-Likelihood: -671.1875195 \tAccuracy: 0.632\n",
      "Log-Likelihood: -671.235967066 \tAccuracy: 0.631\n",
      "Log-Likelihood: -671.297848056 \tAccuracy: 0.63\n",
      "Log-Likelihood: -671.783309692 \tAccuracy: 0.63\n",
      "Log-Likelihood: -671.15959944 \tAccuracy: 0.626\n",
      "Log-Likelihood: -671.348664332 \tAccuracy: 0.626\n",
      "Log-Likelihood: -672.821143818 \tAccuracy: 0.634\n",
      "Log-Likelihood: -671.645016629 \tAccuracy: 0.627\n",
      "Log-Likelihood: -672.939691944 \tAccuracy: 0.633\n",
      "Log-Likelihood: -671.07007154 \tAccuracy: 0.621\n",
      "Log-Likelihood: -670.830006851 \tAccuracy: 0.618\n",
      "Log-Likelihood: -670.77910361 \tAccuracy: 0.618\n",
      "Log-Likelihood: -670.782372581 \tAccuracy: 0.616\n",
      "Log-Likelihood: -670.849145166 \tAccuracy: 0.614\n",
      "Log-Likelihood: -670.995429943 \tAccuracy: 0.614\n",
      "Log-Likelihood: -671.042076902 \tAccuracy: 0.612\n",
      "Log-Likelihood: -671.135763228 \tAccuracy: 0.61\n",
      "Log-Likelihood: -671.223138112 \tAccuracy: 0.609\n",
      "Log-Likelihood: -670.765296934 \tAccuracy: 0.605\n",
      "Log-Likelihood: -669.799453002 \tAccuracy: 0.61\n",
      "Log-Likelihood: -671.063741392 \tAccuracy: 0.607\n",
      "Log-Likelihood: -671.091695336 \tAccuracy: 0.605\n",
      "Log-Likelihood: -670.337308555 \tAccuracy: 0.608\n",
      "Log-Likelihood: -670.886162558 \tAccuracy: 0.605\n",
      "Log-Likelihood: -670.984861662 \tAccuracy: 0.605\n",
      "Log-Likelihood: -670.27625157 \tAccuracy: 0.604\n",
      "Log-Likelihood: -671.452007588 \tAccuracy: 0.605\n",
      "Log-Likelihood: -670.887596315 \tAccuracy: 0.603\n",
      "Log-Likelihood: -670.960677737 \tAccuracy: 0.603\n",
      "Log-Likelihood: -671.130244902 \tAccuracy: 0.603\n",
      "Log-Likelihood: -670.998415966 \tAccuracy: 0.601\n",
      "Log-Likelihood: -671.094183794 \tAccuracy: 0.601\n",
      "Log-Likelihood: -671.126100716 \tAccuracy: 0.6\n",
      "Log-Likelihood: -671.11663704 \tAccuracy: 0.599\n",
      "Log-Likelihood: -671.168173971 \tAccuracy: 0.599\n",
      "Log-Likelihood: -671.187743359 \tAccuracy: 0.598\n",
      "Log-Likelihood: -671.207498019 \tAccuracy: 0.598\n",
      "Log-Likelihood: -671.240590676 \tAccuracy: 0.598\n",
      "Log-Likelihood: -671.263733975 \tAccuracy: 0.597\n",
      "Log-Likelihood: -671.28982841 \tAccuracy: 0.595\n",
      "Log-Likelihood: -671.319479638 \tAccuracy: 0.595\n",
      "Log-Likelihood: -671.348641035 \tAccuracy: 0.593\n",
      "Log-Likelihood: -671.383999248 \tAccuracy: 0.593\n",
      "Log-Likelihood: -671.433577778 \tAccuracy: 0.593\n",
      "Log-Likelihood: -671.533479758 \tAccuracy: 0.593\n",
      "Log-Likelihood: -672.022358377 \tAccuracy: 0.594\n",
      "Log-Likelihood: -672.433556774 \tAccuracy: 0.596\n",
      "Log-Likelihood: -671.60540478 \tAccuracy: 0.593\n",
      "Log-Likelihood: -671.465655251 \tAccuracy: 0.593\n",
      "Log-Likelihood: -671.498785368 \tAccuracy: 0.593\n",
      "Log-Likelihood: -671.518176118 \tAccuracy: 0.593\n",
      "Log-Likelihood: -671.539296809 \tAccuracy: 0.592\n",
      "Log-Likelihood: -671.560811079 \tAccuracy: 0.592\n",
      "Log-Likelihood: -671.580534706 \tAccuracy: 0.592\n",
      "Log-Likelihood: -671.600837638 \tAccuracy: 0.592\n",
      "Log-Likelihood: -671.620954776 \tAccuracy: 0.592\n",
      "Log-Likelihood: -671.640370284 \tAccuracy: 0.592\n",
      "Log-Likelihood: -671.659742479 \tAccuracy: 0.591\n",
      "Log-Likelihood: -671.678879813 \tAccuracy: 0.591\n",
      "Log-Likelihood: -671.697623804 \tAccuracy: 0.591\n",
      "Log-Likelihood: -671.716156376 \tAccuracy: 0.591\n",
      "Log-Likelihood: -671.734437761 \tAccuracy: 0.591\n",
      "Log-Likelihood: -671.752418717 \tAccuracy: 0.591\n",
      "Log-Likelihood: -671.770149822 \tAccuracy: 0.59\n",
      "Log-Likelihood: -671.787626708 \tAccuracy: 0.59\n",
      "Log-Likelihood: -671.804835464 \tAccuracy: 0.589\n",
      "Log-Likelihood: -671.821791209 \tAccuracy: 0.589\n"
     ]
    },
    {
     "data": {
      "image/png": "[encoded data removed]",
      "text/plain": [
       "<matplotlib.figure.Figure at 0x103f0f550>"
      ]
     },
     "metadata": {},
     "output_type": "display_data"
    }
   ],
   "source": [
    "test_doughnut()"
   ]
  },
  {
   "cell_type": "code",
   "execution_count": 15,
   "metadata": {},
   "outputs": [
    {
     "name": "stdout",
     "output_type": "stream",
     "text": [
      "Log-Likelihood: -788.976781879 \tAccuracy: 0.5\n",
      "Log-Likelihood: -692.462876741 \tAccuracy: 0.518\n",
      "Log-Likelihood: -692.324810369 \tAccuracy: 0.519\n",
      "Log-Likelihood: -692.135893538 \tAccuracy: 0.522\n"
     ]
    },
    {
     "name": "stderr",
     "output_type": "stream",
     "text": [
      "/usr/local/lib/python3.6/site-packages/ipykernel_launcher.py:2: RuntimeWarning: overflow encountered in exp\n",
      "  \n"
     ]
    },
    {
     "name": "stdout",
     "output_type": "stream",
     "text": [
      "Log-Likelihood: -692.077881684 \tAccuracy: 0.522\n",
      "Log-Likelihood: -692.00713934 \tAccuracy: 0.523\n",
      "Log-Likelihood: -692.048066848 \tAccuracy: 0.523\n",
      "Log-Likelihood: -692.136361155 \tAccuracy: 0.521\n",
      "Log-Likelihood: -692.169032938 \tAccuracy: 0.52\n",
      "Log-Likelihood: -692.186520601 \tAccuracy: 0.521\n",
      "Log-Likelihood: -692.185799641 \tAccuracy: 0.521\n",
      "Log-Likelihood: -692.179922598 \tAccuracy: 0.521\n",
      "Log-Likelihood: -692.172962956 \tAccuracy: 0.521\n",
      "Log-Likelihood: -692.165969403 \tAccuracy: 0.521\n",
      "Log-Likelihood: -692.159162272 \tAccuracy: 0.521\n",
      "Log-Likelihood: -692.152570386 \tAccuracy: 0.521\n",
      "Log-Likelihood: -692.146202566 \tAccuracy: 0.521\n",
      "Log-Likelihood: -692.140092523 \tAccuracy: 0.521\n",
      "Log-Likelihood: -692.134307264 \tAccuracy: 0.521\n",
      "Log-Likelihood: -692.128938093 \tAccuracy: 0.521\n",
      "Log-Likelihood: -692.124074336 \tAccuracy: 0.521\n",
      "Log-Likelihood: -692.119760032 \tAccuracy: 0.521\n",
      "Log-Likelihood: -692.115944705 \tAccuracy: 0.521\n",
      "Log-Likelihood: -692.112450348 \tAccuracy: 0.521\n",
      "Log-Likelihood: -692.108971555 \tAccuracy: 0.521\n",
      "Log-Likelihood: -692.105105464 \tAccuracy: 0.52\n",
      "Log-Likelihood: -692.100399259 \tAccuracy: 0.52\n",
      "Log-Likelihood: -692.094416416 \tAccuracy: 0.52\n",
      "Log-Likelihood: -692.086826638 \tAccuracy: 0.52\n",
      "Log-Likelihood: -692.077488324 \tAccuracy: 0.52\n",
      "Log-Likelihood: -692.066456201 \tAccuracy: 0.52\n",
      "Log-Likelihood: -692.053883024 \tAccuracy: 0.52\n",
      "Log-Likelihood: -692.039863649 \tAccuracy: 0.52\n",
      "Log-Likelihood: -692.024296977 \tAccuracy: 0.52\n",
      "Log-Likelihood: -692.006849471 \tAccuracy: 0.52\n",
      "Log-Likelihood: -691.987231242 \tAccuracy: 0.52\n",
      "Log-Likelihood: -691.965969001 \tAccuracy: 0.52\n",
      "Log-Likelihood: -691.944707687 \tAccuracy: 0.52\n",
      "Log-Likelihood: -691.924945591 \tAccuracy: 0.521\n",
      "Log-Likelihood: -691.907088929 \tAccuracy: 0.521\n",
      "Log-Likelihood: -691.890868817 \tAccuracy: 0.521\n",
      "Log-Likelihood: -691.875897386 \tAccuracy: 0.521\n",
      "Log-Likelihood: -691.861868518 \tAccuracy: 0.521\n",
      "Log-Likelihood: -691.848572307 \tAccuracy: 0.521\n",
      "Log-Likelihood: -691.835860744 \tAccuracy: 0.521\n",
      "Log-Likelihood: -691.82361017 \tAccuracy: 0.521\n",
      "Log-Likelihood: -691.811698352 \tAccuracy: 0.521\n",
      "Log-Likelihood: -691.80000479 \tAccuracy: 0.521\n",
      "Log-Likelihood: -691.788426188 \tAccuracy: 0.521\n",
      "Log-Likelihood: -691.776888941 \tAccuracy: 0.521\n",
      "Log-Likelihood: -691.765349431 \tAccuracy: 0.521\n",
      "Log-Likelihood: -691.753786038 \tAccuracy: 0.521\n",
      "Log-Likelihood: -691.742189964 \tAccuracy: 0.521\n",
      "Log-Likelihood: -691.730558538 \tAccuracy: 0.521\n",
      "Log-Likelihood: -691.718891379 \tAccuracy: 0.521\n",
      "Log-Likelihood: -691.707188579 \tAccuracy: 0.521\n",
      "Log-Likelihood: -691.695450007 \tAccuracy: 0.521\n",
      "Log-Likelihood: -691.683675163 \tAccuracy: 0.521\n",
      "Log-Likelihood: -691.671863263 \tAccuracy: 0.521\n",
      "Log-Likelihood: -691.66001339 \tAccuracy: 0.521\n",
      "Log-Likelihood: -691.648124657 \tAccuracy: 0.521\n",
      "Log-Likelihood: -691.636196348 \tAccuracy: 0.521\n",
      "Log-Likelihood: -691.624228042 \tAccuracy: 0.521\n",
      "Log-Likelihood: -691.612219709 \tAccuracy: 0.521\n",
      "Log-Likelihood: -691.600171785 \tAccuracy: 0.521\n",
      "Log-Likelihood: -691.588085239 \tAccuracy: 0.521\n",
      "Log-Likelihood: -691.575961606 \tAccuracy: 0.521\n",
      "Log-Likelihood: -691.563803019 \tAccuracy: 0.521\n",
      "Log-Likelihood: -691.551612212 \tAccuracy: 0.521\n",
      "Log-Likelihood: -691.539392507 \tAccuracy: 0.52\n",
      "Log-Likelihood: -691.527147773 \tAccuracy: 0.52\n",
      "Log-Likelihood: -691.514882376 \tAccuracy: 0.52\n",
      "Log-Likelihood: -691.502601096 \tAccuracy: 0.52\n",
      "Log-Likelihood: -691.490309028 \tAccuracy: 0.52\n",
      "Log-Likelihood: -691.478011472 \tAccuracy: 0.52\n",
      "Log-Likelihood: -691.465713807 \tAccuracy: 0.52\n",
      "Log-Likelihood: -691.453421366 \tAccuracy: 0.52\n",
      "Log-Likelihood: -691.441139308 \tAccuracy: 0.52\n",
      "Log-Likelihood: -691.428872503 \tAccuracy: 0.52\n",
      "Log-Likelihood: -691.416625438 \tAccuracy: 0.52\n",
      "Log-Likelihood: -691.404402131 \tAccuracy: 0.52\n",
      "Log-Likelihood: -691.39220608 \tAccuracy: 0.52\n",
      "Log-Likelihood: -691.380040232 \tAccuracy: 0.52\n",
      "Log-Likelihood: -691.367906974 \tAccuracy: 0.52\n",
      "Log-Likelihood: -691.355808153 \tAccuracy: 0.52\n",
      "Log-Likelihood: -691.3437451 \tAccuracy: 0.52\n",
      "Log-Likelihood: -691.331718682 \tAccuracy: 0.52\n",
      "Log-Likelihood: -691.319729353 \tAccuracy: 0.52\n",
      "Log-Likelihood: -691.307777212 \tAccuracy: 0.52\n",
      "Log-Likelihood: -691.295862063 \tAccuracy: 0.52\n",
      "Log-Likelihood: -691.283983473 \tAccuracy: 0.52\n",
      "Log-Likelihood: -691.272140818 \tAccuracy: 0.52\n",
      "Log-Likelihood: -691.260333337 \tAccuracy: 0.52\n",
      "Log-Likelihood: -691.248560169 \tAccuracy: 0.52\n",
      "Log-Likelihood: -691.236820386 \tAccuracy: 0.52\n",
      "Log-Likelihood: -691.225113022 \tAccuracy: 0.52\n",
      "Log-Likelihood: -691.213437092 \tAccuracy: 0.52\n",
      "Log-Likelihood: -691.201791613 \tAccuracy: 0.52\n",
      "Log-Likelihood: -691.190175614 \tAccuracy: 0.52\n",
      "Log-Likelihood: -691.178588145 \tAccuracy: 0.521\n"
     ]
    },
    {
     "data": {
      "image/png": "[encoded data removed]",
      "text/plain": [
       "<matplotlib.figure.Figure at 0x1040d3ba8>"
      ]
     },
     "metadata": {},
     "output_type": "display_data"
    }
   ],
   "source": [
    "test_doughnut(n_hidden = 4)"
   ]
  },
  {
   "cell_type": "code",
   "execution_count": null,
   "metadata": {
    "collapsed": true
   },
   "outputs": [],
   "source": []
  }
 ],
 "metadata": {
  "kernelspec": {
   "display_name": "Python 3",
   "language": "python",
   "name": "python3"
  },
  "language_info": {
   "codemirror_mode": {
    "name": "ipython",
    "version": 3
   },
   "file_extension": ".py",
   "mimetype": "text/x-python",
   "name": "python",
   "nbconvert_exporter": "python",
   "pygments_lexer": "ipython3",
   "version": "3.6.1"
  }
 },
 "nbformat": 4,
 "nbformat_minor": 2
}
