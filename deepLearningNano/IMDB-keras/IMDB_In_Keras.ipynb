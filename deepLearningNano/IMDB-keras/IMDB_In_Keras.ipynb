{
 "cells": [
  {
   "cell_type": "markdown",
   "metadata": {},
   "source": [
    "# Analyzing IMDB Data in Keras"
   ]
  },
  {
   "cell_type": "code",
   "execution_count": 1,
   "metadata": {
    "collapsed": false
   },
   "outputs": [
    {
     "name": "stderr",
     "output_type": "stream",
     "text": [
      "Using TensorFlow backend.\n"
     ]
    }
   ],
   "source": [
    "# Imports\n",
    "import keras\n",
    "import numpy as np\n",
    "from keras.datasets import imdb\n",
    "from keras.layers import Dense, Dropout, Activation\n",
    "from keras.models import Sequential\n",
    "from keras.preprocessing.text import Tokenizer\n",
    "import matplotlib.pyplot as plt\n",
    "%matplotlib inline\n",
    "\n",
    "np.random.seed(42)"
   ]
  },
  {
   "cell_type": "markdown",
   "metadata": {},
   "source": [
    "## 1. Loading the data\n",
    "This dataset comes preloaded with Keras, so one simple command will get us training and testing data. There is a parameter for how many words we want to look at. We've set it at 1000, but feel free to experiment."
   ]
  },
  {
   "cell_type": "code",
   "execution_count": 2,
   "metadata": {
    "collapsed": false
   },
   "outputs": [
    {
     "name": "stdout",
     "output_type": "stream",
     "text": [
      "Downloading data from https://s3.amazonaws.com/text-datasets/imdb.npz\n",
      "17465344/17464789 [==============================] - 5s 0us/step\n",
      "(25000,)\n",
      "(25000,)\n"
     ]
    }
   ],
   "source": [
    "# Loading the data (it's preloaded in Keras)\n",
    "(x_train, y_train), (x_test, y_test) = imdb.load_data(num_words=1000)\n",
    "\n",
    "print(x_train.shape)\n",
    "print(x_test.shape)"
   ]
  },
  {
   "cell_type": "markdown",
   "metadata": {},
   "source": [
    "## 2. Examining the data\n",
    "Notice that the data have already been pre-processed, where all the words have numbers, and the reviews come in as a vector with the words that the review contains. For example, if the word 'the' is the first one in our dictionary, and a review contains the word 'the', then there is a 1 in the corresponding vector.\n",
    "\n",
    "The output comes as a vector of 1's and 0's, where 1 is a positive sentiment for the review, and 0 is negative."
   ]
  },
  {
   "cell_type": "code",
   "execution_count": 3,
   "metadata": {
    "collapsed": false
   },
   "outputs": [
    {
     "name": "stdout",
     "output_type": "stream",
     "text": [
      "[1, 14, 22, 16, 43, 530, 973, 2, 2, 65, 458, 2, 66, 2, 4, 173, 36, 256, 5, 25, 100, 43, 838, 112, 50, 670, 2, 9, 35, 480, 284, 5, 150, 4, 172, 112, 167, 2, 336, 385, 39, 4, 172, 2, 2, 17, 546, 38, 13, 447, 4, 192, 50, 16, 6, 147, 2, 19, 14, 22, 4, 2, 2, 469, 4, 22, 71, 87, 12, 16, 43, 530, 38, 76, 15, 13, 2, 4, 22, 17, 515, 17, 12, 16, 626, 18, 2, 5, 62, 386, 12, 8, 316, 8, 106, 5, 4, 2, 2, 16, 480, 66, 2, 33, 4, 130, 12, 16, 38, 619, 5, 25, 124, 51, 36, 135, 48, 25, 2, 33, 6, 22, 12, 215, 28, 77, 52, 5, 14, 407, 16, 82, 2, 8, 4, 107, 117, 2, 15, 256, 4, 2, 7, 2, 5, 723, 36, 71, 43, 530, 476, 26, 400, 317, 46, 7, 4, 2, 2, 13, 104, 88, 4, 381, 15, 297, 98, 32, 2, 56, 26, 141, 6, 194, 2, 18, 4, 226, 22, 21, 134, 476, 26, 480, 5, 144, 30, 2, 18, 51, 36, 28, 224, 92, 25, 104, 4, 226, 65, 16, 38, 2, 88, 12, 16, 283, 5, 16, 2, 113, 103, 32, 15, 16, 2, 19, 178, 32]\n",
      "1\n"
     ]
    }
   ],
   "source": [
    "print(x_train[0])\n",
    "print(y_train[0])"
   ]
  },
  {
   "cell_type": "markdown",
   "metadata": {},
   "source": [
    "## 3. One-hot encoding the output\n",
    "Here, we'll turn the input vectors into (0,1)-vectors. For example, if the pre-processed vector contains the number 14, then in the processed vector, the 14th entry will be 1."
   ]
  },
  {
   "cell_type": "code",
   "execution_count": 4,
   "metadata": {
    "collapsed": false
   },
   "outputs": [
    {
     "name": "stdout",
     "output_type": "stream",
     "text": [
      "[ 0.  1.  1.  0.  1.  1.  1.  1.  1.  1.  0.  0.  1.  1.  1.  1.  1.  1.\n",
      "  1.  1.  0.  1.  1.  0.  0.  1.  1.  0.  1.  0.  1.  0.  1.  1.  0.  1.\n",
      "  1.  0.  1.  1.  0.  0.  0.  1.  0.  0.  1.  0.  1.  0.  1.  1.  1.  0.\n",
      "  0.  0.  1.  0.  0.  0.  0.  0.  1.  0.  0.  1.  1.  0.  0.  0.  0.  1.\n",
      "  0.  0.  0.  0.  1.  1.  0.  0.  0.  0.  1.  0.  0.  0.  0.  1.  1.  0.\n",
      "  0.  0.  1.  0.  0.  0.  0.  0.  1.  0.  1.  0.  0.  1.  1.  0.  1.  1.\n",
      "  0.  0.  0.  0.  1.  1.  0.  0.  0.  1.  0.  0.  0.  0.  0.  0.  1.  0.\n",
      "  0.  0.  0.  0.  1.  0.  0.  0.  1.  1.  0.  0.  0.  0.  0.  1.  0.  0.\n",
      "  1.  0.  0.  1.  0.  0.  1.  0.  0.  0.  0.  0.  0.  0.  0.  0.  0.  0.\n",
      "  0.  0.  0.  0.  0.  1.  0.  0.  0.  0.  1.  1.  0.  0.  0.  0.  1.  0.\n",
      "  0.  0.  0.  0.  0.  0.  0.  0.  0.  0.  0.  0.  1.  0.  1.  0.  0.  0.\n",
      "  0.  0.  0.  0.  0.  0.  0.  0.  0.  0.  0.  0.  0.  0.  0.  0.  0.  1.\n",
      "  0.  0.  0.  0.  0.  0.  0.  0.  1.  0.  1.  0.  0.  0.  0.  0.  0.  0.\n",
      "  0.  0.  0.  0.  0.  0.  0.  0.  0.  0.  0.  0.  0.  0.  0.  0.  0.  0.\n",
      "  0.  0.  0.  0.  1.  0.  0.  0.  0.  0.  0.  0.  0.  0.  0.  0.  0.  0.\n",
      "  0.  0.  0.  0.  0.  0.  0.  0.  0.  0.  0.  0.  0.  1.  1.  0.  0.  0.\n",
      "  0.  0.  0.  0.  0.  0.  0.  0.  0.  1.  0.  0.  0.  0.  0.  0.  0.  0.\n",
      "  0.  0.  0.  0.  0.  0.  0.  0.  0.  0.  1.  1.  0.  0.  0.  0.  0.  0.\n",
      "  0.  0.  0.  0.  0.  0.  0.  0.  0.  0.  0.  0.  1.  0.  0.  0.  0.  0.\n",
      "  0.  0.  0.  0.  0.  0.  0.  0.  0.  0.  0.  0.  0.  0.  0.  0.  0.  0.\n",
      "  0.  0.  0.  0.  0.  0.  0.  0.  0.  0.  0.  0.  0.  0.  0.  0.  0.  0.\n",
      "  0.  0.  0.  1.  0.  0.  0.  1.  1.  0.  0.  0.  0.  0.  0.  0.  0.  0.\n",
      "  0.  0.  0.  0.  1.  0.  0.  0.  0.  0.  0.  1.  0.  0.  0.  0.  0.  0.\n",
      "  0.  0.  0.  0.  0.  0.  0.  0.  0.  0.  0.  0.  0.  0.  0.  0.  0.  0.\n",
      "  0.  0.  0.  0.  0.  0.  0.  0.  0.  0.  0.  0.  0.  0.  0.  1.  0.  0.\n",
      "  0.  0.  0.  0.  0.  0.  0.  0.  1.  0.  0.  0.  0.  0.  0.  0.  0.  0.\n",
      "  0.  1.  0.  0.  0.  0.  0.  0.  1.  0.  0.  0.  1.  0.  0.  0.  0.  0.\n",
      "  0.  0.  0.  0.  0.  0.  0.  0.  0.  0.  0.  0.  0.  0.  0.  0.  0.  0.\n",
      "  0.  0.  0.  0.  0.  0.  0.  0.  0.  0.  0.  1.  0.  0.  0.  0.  0.  0.\n",
      "  0.  0.  0.  0.  0.  0.  0.  0.  1.  0.  0.  0.  0.  0.  0.  0.  0.  0.\n",
      "  0.  0.  0.  0.  0.  0.  1.  0.  0.  0.  0.  0.  0.  0.  0.  0.  0.  0.\n",
      "  0.  0.  0.  0.  0.  0.  0.  0.  0.  0.  0.  0.  0.  0.  0.  0.  0.  0.\n",
      "  0.  0.  0.  0.  0.  0.  0.  0.  0.  0.  0.  0.  0.  0.  0.  0.  0.  0.\n",
      "  0.  0.  0.  0.  0.  0.  0.  0.  0.  0.  0.  0.  0.  0.  0.  0.  0.  0.\n",
      "  0.  0.  0.  0.  0.  0.  0.  1.  0.  0.  0.  0.  0.  0.  1.  0.  0.  0.\n",
      "  0.  0.  0.  0.  0.  0.  0.  0.  0.  0.  0.  0.  0.  0.  0.  0.  0.  0.\n",
      "  0.  0.  0.  0.  0.  0.  0.  0.  0.  0.  0.  0.  0.  0.  0.  0.  0.  0.\n",
      "  0.  0.  0.  0.  1.  0.  0.  0.  0.  0.  0.  0.  0.  0.  0.  0.  0.  0.\n",
      "  0.  0.  0.  0.  0.  0.  0.  0.  0.  0.  0.  0.  0.  0.  0.  0.  0.  0.\n",
      "  0.  0.  0.  0.  0.  0.  0.  0.  0.  0.  0.  0.  0.  0.  0.  0.  0.  0.\n",
      "  0.  0.  0.  1.  0.  0.  0.  0.  0.  0.  0.  0.  0.  0.  0.  0.  0.  0.\n",
      "  0.  0.  0.  0.  0.  0.  0.  0.  0.  0.  0.  0.  0.  0.  0.  0.  0.  0.\n",
      "  0.  0.  0.  0.  0.  0.  0.  0.  0.  0.  0.  0.  0.  0.  0.  0.  0.  0.\n",
      "  0.  0.  0.  0.  0.  0.  0.  0.  0.  0.  0.  0.  0.  0.  0.  0.  0.  0.\n",
      "  0.  0.  0.  0.  0.  0.  0.  0.  0.  0.  0.  0.  0.  0.  0.  0.  0.  0.\n",
      "  0.  0.  0.  0.  0.  0.  0.  0.  0.  0.  0.  0.  0.  0.  0.  0.  0.  0.\n",
      "  0.  0.  0.  0.  0.  0.  0.  0.  0.  0.  1.  0.  0.  0.  0.  0.  0.  0.\n",
      "  0.  0.  0.  0.  0.  0.  0.  0.  0.  0.  0.  0.  0.  0.  0.  0.  0.  0.\n",
      "  0.  0.  0.  0.  0.  0.  0.  0.  0.  0.  0.  0.  0.  0.  0.  0.  0.  0.\n",
      "  0.  0.  0.  0.  0.  0.  0.  0.  0.  0.  0.  0.  0.  0.  0.  0.  0.  0.\n",
      "  0.  0.  0.  0.  0.  0.  0.  0.  0.  0.  0.  0.  0.  0.  0.  0.  0.  0.\n",
      "  0.  0.  0.  0.  0.  0.  0.  0.  0.  0.  0.  0.  0.  0.  0.  0.  0.  0.\n",
      "  0.  0.  0.  0.  0.  0.  0.  0.  0.  0.  0.  0.  0.  0.  0.  0.  0.  0.\n",
      "  0.  0.  0.  0.  0.  0.  0.  0.  0.  0.  0.  0.  0.  0.  0.  0.  0.  0.\n",
      "  0.  1.  0.  0.  0.  0.  0.  0.  0.  0.  0.  0.  0.  0.  0.  0.  0.  0.\n",
      "  0.  0.  0.  0.  0.  0.  0.  0.  0.  0.]\n"
     ]
    }
   ],
   "source": [
    "# One-hot encoding the output into vector mode, each of length 1000\n",
    "tokenizer = Tokenizer(num_words=1000)\n",
    "x_train = tokenizer.sequences_to_matrix(x_train, mode='binary')\n",
    "x_test = tokenizer.sequences_to_matrix(x_test, mode='binary')\n",
    "print(x_train[0])"
   ]
  },
  {
   "cell_type": "markdown",
   "metadata": {},
   "source": [
    "And we'll also one-hot encode the output."
   ]
  },
  {
   "cell_type": "code",
   "execution_count": 5,
   "metadata": {
    "collapsed": false
   },
   "outputs": [
    {
     "name": "stdout",
     "output_type": "stream",
     "text": [
      "(25000, 2)\n",
      "(25000, 2)\n"
     ]
    }
   ],
   "source": [
    "# One-hot encoding the output\n",
    "num_classes = 2\n",
    "y_train = keras.utils.to_categorical(y_train, num_classes)\n",
    "y_test = keras.utils.to_categorical(y_test, num_classes)\n",
    "print(y_train.shape)\n",
    "print(y_test.shape)"
   ]
  },
  {
   "cell_type": "markdown",
   "metadata": {},
   "source": [
    "## 4. Building the  model architecture\n",
    "Build a model here using sequential. Feel free to experiment with different layers and sizes! Also, experiment adding dropout to reduce overfitting."
   ]
  },
  {
   "cell_type": "code",
   "execution_count": 38,
   "metadata": {
    "collapsed": true
   },
   "outputs": [],
   "source": [
    "# TODO: Build the model architecture\n",
    "def build_model(\n",
    "    input_shape, nodes, dropouts, activations, optimizer='adam'):\n",
    "    \n",
    "    model = Sequential()\n",
    "    model.add(Dense(\n",
    "        nodes[0], activation=activations[0], input_shape=(input_shape,)))\n",
    "    model.add(Dropout(dropouts[0]))\n",
    "    model.add(Dense(nodes[1], activation=activations[1]))\n",
    "    model.add(Dropout(dropouts[1]))\n",
    "    model.add(Dense(nodes[2], activation=activations[2]))\n",
    "    model.add(Dropout(dropouts[2]))\n",
    "    model.add(Dense(nodes[3], activation=activations[3]))\n",
    "\n",
    "    model.compile(loss='categorical_crossentropy', \n",
    "                  optimizer=optimizer, \n",
    "                  metrics=['accuracy'])\n",
    "    model.summary()\n",
    "    return model\n",
    "\n",
    "# TODO: Compile the model using a loss function and an optimizer.\n",
    "def train_model(model, \n",
    "                X_train, \n",
    "                Y_train, \n",
    "                X_test, \n",
    "                Y_test, \n",
    "                epochs, \n",
    "                batch_size=256, \n",
    "                verbose=1):\n",
    "    model.fit(X_train, \n",
    "              Y_train, \n",
    "              epochs=epochs, \n",
    "              batch_size=batch_size, \n",
    "              verbose=verbose)\n",
    "    score = model.evaluate(X_train, Y_train)\n",
    "    print('\\nTraining Accuracy:', score[1])\n",
    "    test_score = model.evaluate(X_test, Y_test)\n",
    "    print('\\nTest Accuracy:', test_score[1])\n",
    "    return score, test_score"
   ]
  },
  {
   "cell_type": "markdown",
   "metadata": {},
   "source": [
    "## 5. Training the model\n",
    "Run the model here. Experiment with different batch_size, and number of epochs!"
   ]
  },
  {
   "cell_type": "code",
   "execution_count": 40,
   "metadata": {
    "collapsed": false
   },
   "outputs": [
    {
     "name": "stdout",
     "output_type": "stream",
     "text": [
      "_________________________________________________________________\n",
      "Layer (type)                 Output Shape              Param #   \n",
      "=================================================================\n",
      "dense_30 (Dense)             (None, 1000)              1001000   \n",
      "_________________________________________________________________\n",
      "dropout_17 (Dropout)         (None, 1000)              0         \n",
      "_________________________________________________________________\n",
      "dense_31 (Dense)             (None, 1000)              1001000   \n",
      "_________________________________________________________________\n",
      "dropout_18 (Dropout)         (None, 1000)              0         \n",
      "_________________________________________________________________\n",
      "dense_32 (Dense)             (None, 1000)              1001000   \n",
      "_________________________________________________________________\n",
      "dropout_19 (Dropout)         (None, 1000)              0         \n",
      "_________________________________________________________________\n",
      "dense_33 (Dense)             (None, 2)                 2002      \n",
      "=================================================================\n",
      "Total params: 3,005,002\n",
      "Trainable params: 3,005,002\n",
      "Non-trainable params: 0\n",
      "_________________________________________________________________\n",
      "Epoch 1/10\n",
      "25000/25000 [==============================] - 15s 609us/step - loss: 0.4258 - acc: 0.8034\n",
      "Epoch 2/10\n",
      "25000/25000 [==============================] - 14s 563us/step - loss: 0.2583 - acc: 0.8943\n",
      "Epoch 3/10\n",
      "25000/25000 [==============================] - 14s 559us/step - loss: 0.1097 - acc: 0.9624\n",
      "Epoch 4/10\n",
      "25000/25000 [==============================] - 15s 581us/step - loss: 0.0319 - acc: 0.9891\n",
      "Epoch 5/10\n",
      "25000/25000 [==============================] - 14s 557us/step - loss: 0.0213 - acc: 0.9925\n",
      "Epoch 6/10\n",
      "25000/25000 [==============================] - 14s 578us/step - loss: 0.0209 - acc: 0.9924\n",
      "Epoch 7/10\n",
      "25000/25000 [==============================] - 14s 557us/step - loss: 0.0166 - acc: 0.9941\n",
      "Epoch 8/10\n",
      "25000/25000 [==============================] - 14s 554us/step - loss: 0.0134 - acc: 0.9960\n",
      "Epoch 9/10\n",
      "25000/25000 [==============================] - 14s 551us/step - loss: 0.0055 - acc: 0.9982\n",
      "Epoch 10/10\n",
      "25000/25000 [==============================] - 15s 582us/step - loss: 0.0153 - acc: 0.9942\n",
      "25000/25000 [==============================] - 9s 341us/step\n",
      "\n",
      "Training Accuracy: 0.99632\n",
      "25000/25000 [==============================] - 8s 330us/step\n",
      "\n",
      "Test Accuracy: 0.84052\n"
     ]
    }
   ],
   "source": [
    "# TODO: Run the model. Feel free to experiment with different batch sizes \n",
    "# and number of epochs.\n",
    "nodes = [1000, 1000, 1000, 2]\n",
    "dropouts = [0, 0, 0]\n",
    "activations = ['relu', 'relu', 'relu', 'softmax']\n",
    "optimizer = 'adam'\n",
    "epochs = 10\n",
    "batch_size = 256\n",
    "\n",
    "mod = build_model(input_shape=x_train.shape[1], \n",
    "                  nodes=nodes, \n",
    "                  dropouts=dropouts, \n",
    "                  activations=activations, \n",
    "                  optimizer=optimizer)\n",
    "\n",
    "res = train_model(\n",
    "    mod, x_train, y_train, x_test, y_test, epochs, batch_size)"
   ]
  },
  {
   "cell_type": "code",
   "execution_count": 44,
   "metadata": {
    "collapsed": false
   },
   "outputs": [
    {
     "name": "stdout",
     "output_type": "stream",
     "text": [
      "_________________________________________________________________\n",
      "Layer (type)                 Output Shape              Param #   \n",
      "=================================================================\n",
      "dense_41 (Dense)             (None, 1000)              1001000   \n",
      "_________________________________________________________________\n",
      "dropout_25 (Dropout)         (None, 1000)              0         \n",
      "_________________________________________________________________\n",
      "dense_42 (Dense)             (None, 1000)              1001000   \n",
      "_________________________________________________________________\n",
      "dropout_26 (Dropout)         (None, 1000)              0         \n",
      "_________________________________________________________________\n",
      "dense_43 (Dense)             (None, 1000)              1001000   \n",
      "_________________________________________________________________\n",
      "dropout_27 (Dropout)         (None, 1000)              0         \n",
      "_________________________________________________________________\n",
      "dense_44 (Dense)             (None, 2)                 2002      \n",
      "=================================================================\n",
      "Total params: 3,005,002\n",
      "Trainable params: 3,005,002\n",
      "Non-trainable params: 0\n",
      "_________________________________________________________________\n",
      "Epoch 1/10\n",
      "25000/25000 [==============================] - 16s 624us/step - loss: 0.4566 - acc: 0.7798\n",
      "Epoch 2/10\n",
      "25000/25000 [==============================] - 15s 594us/step - loss: 0.3090 - acc: 0.8693\n",
      "Epoch 3/10\n",
      "25000/25000 [==============================] - 15s 587us/step - loss: 0.2532 - acc: 0.8965\n",
      "Epoch 4/10\n",
      "25000/25000 [==============================] - 15s 600us/step - loss: 0.1870 - acc: 0.9288\n",
      "Epoch 5/10\n",
      "25000/25000 [==============================] - 15s 603us/step - loss: 0.1278 - acc: 0.9508\n",
      "Epoch 6/10\n",
      "25000/25000 [==============================] - 15s 594us/step - loss: 0.0891 - acc: 0.9653\n",
      "Epoch 7/10\n",
      "25000/25000 [==============================] - 15s 593us/step - loss: 0.0709 - acc: 0.9746\n",
      "Epoch 8/10\n",
      "25000/25000 [==============================] - 15s 599us/step - loss: 0.0498 - acc: 0.9826\n",
      "Epoch 9/10\n",
      "25000/25000 [==============================] - 15s 597us/step - loss: 0.0462 - acc: 0.9835\n",
      "Epoch 10/10\n",
      "25000/25000 [==============================] - 15s 590us/step - loss: 0.0439 - acc: 0.9846\n",
      "25000/25000 [==============================] - 9s 355us/step\n",
      "\n",
      "Training Accuracy: 0.99924\n",
      "25000/25000 [==============================] - 8s 327us/step\n",
      "\n",
      "Test Accuracy: 0.85236\n",
      "New Best Model!\n"
     ]
    }
   ],
   "source": [
    "baseline = res[1][1]\n",
    "best_so_far = baseline\n",
    "best_params = {'nodes': nodes,\n",
    "               'dropouts': dropouts,\n",
    "               'activations': activations,\n",
    "               'optimizer': optimizer,\n",
    "               'epochs': epochs,\n",
    "               'batch_size': batch_size}\n",
    "\n",
    "nodes = [1000, 1000, 1000, 2]\n",
    "dropouts = [0.5, 0.3, 0.1]\n",
    "activations = ['relu', 'relu', 'relu', 'softmax']\n",
    "optimizer = 'adam'\n",
    "epochs = 10\n",
    "batch_size = 256\n",
    "\n",
    "mod = build_model(input_shape=x_train.shape[1], \n",
    "                  nodes=nodes, \n",
    "                  dropouts=dropouts, \n",
    "                  activations=activations, \n",
    "                  optimizer=optimizer)\n",
    "\n",
    "res = train_model(\n",
    "    mod, x_train, y_train, x_test, y_test, epochs, batch_size)\n",
    "\n",
    "test_acc = res[1][1]\n",
    "if test_acc > best_so_far:\n",
    "    print('New Best Model!')\n",
    "    best_so_far = train_acc\n",
    "    best_params = {'nodes': nodes,\n",
    "                   'dropouts': dropouts,\n",
    "                   'activations': activations,\n",
    "                   'optimizer': optimizer,\n",
    "                   'epochs': epochs,\n",
    "                   'batch_size': batch_size}"
   ]
  },
  {
   "cell_type": "code",
   "execution_count": 45,
   "metadata": {
    "collapsed": false
   },
   "outputs": [
    {
     "name": "stdout",
     "output_type": "stream",
     "text": [
      "0.8528\n",
      "nodes: [1000, 1000, 1000, 2]\n",
      "dropouts: [0.5, 0.3, 0.1]\n",
      "activations: ['relu', 'relu', 'relu', 'softmax']\n",
      "optimizer: adam\n",
      "epochs: 10\n",
      "batch_size: 256\n"
     ]
    }
   ],
   "source": [
    "print(best_so_far)\n",
    "for k, v in best_params.items():\n",
    "    print('%s: %s' % (k, v))"
   ]
  },
  {
   "cell_type": "markdown",
   "metadata": {},
   "source": [
    "## 6. Evaluating the model\n",
    "This will give you the accuracy of the model, as evaluated on the testing set. Can you get something over 85%?"
   ]
  },
  {
   "cell_type": "code",
   "execution_count": null,
   "metadata": {
    "collapsed": true
   },
   "outputs": [],
   "source": [
    "# DONE ABOVE\n",
    "#score = model.evaluate(x_test, y_test, verbose=0)\n",
    "#print(\"Accuracy: \", score[1])"
   ]
  }
 ],
 "metadata": {
  "kernelspec": {
   "display_name": "Python 3",
   "language": "python",
   "name": "python3"
  },
  "language_info": {
   "codemirror_mode": {
    "name": "ipython",
    "version": 3
   },
   "file_extension": ".py",
   "mimetype": "text/x-python",
   "name": "python",
   "nbconvert_exporter": "python",
   "pygments_lexer": "ipython3",
   "version": "3.6.1"
  }
 },
 "nbformat": 4,
 "nbformat_minor": 2
}
