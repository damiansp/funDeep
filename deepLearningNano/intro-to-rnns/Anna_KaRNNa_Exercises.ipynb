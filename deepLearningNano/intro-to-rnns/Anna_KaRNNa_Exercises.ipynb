{
 "cells": [
  {
   "cell_type": "markdown",
   "metadata": {},
   "source": [
    "# Anna KaRNNa\n",
    "\n",
    "In this notebook, we'll build a character-wise RNN trained on Anna Karenina, one of my all-time favorite books. It'll be able to generate new text based on the text from the book.\n",
    "\n",
    "This network is based off of Andrej Karpathy's [post on RNNs](http://karpathy.github.io/2015/05/21/rnn-effectiveness/) and [implementation in Torch](https://github.com/karpathy/char-rnn). Also, some information [here at r2rt](http://r2rt.com/recurrent-neural-networks-in-tensorflow-ii.html) and from [Sherjil Ozair](https://github.com/sherjilozair/char-rnn-tensorflow) on GitHub. Below is the general architecture of the character-wise RNN.\n",
    "\n",
    "<img src=\"assets/charseq.jpeg\" width=\"500\">"
   ]
  },
  {
   "cell_type": "code",
   "execution_count": null,
   "metadata": {
    "collapsed": true
   },
   "outputs": [],
   "source": [
    "import matplotlib.pyplot as plt\n",
    "import numpy as np\n",
    "import time\n",
    "import tensorflow as tf\n",
    "from collections import namedtuple\n",
    "\n",
    "%matplotlib inline"
   ]
  },
  {
   "cell_type": "markdown",
   "metadata": {},
   "source": [
    "First we'll load the text file and convert it into integers for our network to use. Here I'm creating a couple dictionaries to convert the characters to and from integers. Encoding the characters as integers makes it easier to use as input in the network."
   ]
  },
  {
   "cell_type": "code",
   "execution_count": 2,
   "metadata": {
    "collapsed": false
   },
   "outputs": [],
   "source": [
    "with open('anna.txt', 'r') as f:\n",
    "    text = f.read()\n",
    "    \n",
    "vocab = sorted(set(text))\n",
    "vocab_to_int = {c: i for i, c in enumerate(vocab)}\n",
    "int_to_vocab = dict(enumerate(vocab))\n",
    "encoded = np.array([vocab_to_int[c] for c in text], dtype=np.int32)"
   ]
  },
  {
   "cell_type": "markdown",
   "metadata": {},
   "source": [
    "Let's check out the first 100 characters, make sure everything is peachy. According to the [American Book Review](http://americanbookreview.org/100bestlines.asp), this is the 6th best first line of a book ever."
   ]
  },
  {
   "cell_type": "code",
   "execution_count": 9,
   "metadata": {
    "collapsed": false
   },
   "outputs": [
    {
     "name": "stdout",
     "output_type": "stream",
     "text": [
      "'\\n' ' ' '!' '\"' '$' '%' '&' \"'\" '(' ')' '*' ',' '-' '.' '/' '0' '1' '2' '3' '4' '5' '6' '7' '8' '9' ':' ';' '?' '@' 'A' 'B' 'C' 'D' 'E' 'F' 'G' 'H' 'I' 'J' 'K' 'L' 'M' 'N' 'O' 'P' 'Q' 'R' 'S' 'T' 'U' 'V' 'W' 'X' 'Y' 'Z' '_' '`' 'a' 'b' 'c' 'd' 'e' 'f' 'g' 'h' 'i' 'j' 'k' 'l' 'm' 'n' 'o' 'p' 'q' 'r' 's' 't' 'u' 'v' 'w' 'x' 'y' 'z' "
     ]
    }
   ],
   "source": [
    "for v in vocab:\n",
    "    print(repr(v), end= ' ')"
   ]
  },
  {
   "cell_type": "code",
   "execution_count": 3,
   "metadata": {
    "collapsed": false
   },
   "outputs": [
    {
     "data": {
      "text/plain": [
       "'Chapter 1\\n\\n\\nHappy families are all alike; every unhappy family is unhappy in its own\\nway.\\n\\nEverythin'"
      ]
     },
     "execution_count": 3,
     "metadata": {},
     "output_type": "execute_result"
    }
   ],
   "source": [
    "text[:100]"
   ]
  },
  {
   "cell_type": "markdown",
   "metadata": {},
   "source": [
    "And we can see the characters encoded as integers."
   ]
  },
  {
   "cell_type": "code",
   "execution_count": 4,
   "metadata": {
    "collapsed": false
   },
   "outputs": [
    {
     "data": {
      "text/plain": [
       "array([31, 64, 57, 72, 76, 61, 74,  1, 16,  0,  0,  0, 36, 57, 72, 72, 81,\n",
       "        1, 62, 57, 69, 65, 68, 65, 61, 75,  1, 57, 74, 61,  1, 57, 68, 68,\n",
       "        1, 57, 68, 65, 67, 61, 26,  1, 61, 78, 61, 74, 81,  1, 77, 70, 64,\n",
       "       57, 72, 72, 81,  1, 62, 57, 69, 65, 68, 81,  1, 65, 75,  1, 77, 70,\n",
       "       64, 57, 72, 72, 81,  1, 65, 70,  1, 65, 76, 75,  1, 71, 79, 70,  0,\n",
       "       79, 57, 81, 13,  0,  0, 33, 78, 61, 74, 81, 76, 64, 65, 70], dtype=int32)"
      ]
     },
     "execution_count": 4,
     "metadata": {},
     "output_type": "execute_result"
    }
   ],
   "source": [
    "encoded[:100]"
   ]
  },
  {
   "cell_type": "markdown",
   "metadata": {},
   "source": [
    "Since the network is working with individual characters, it's similar to a classification problem in which we are trying to predict the next character from the previous text.  Here's how many 'classes' our network has to pick from."
   ]
  },
  {
   "cell_type": "code",
   "execution_count": 10,
   "metadata": {
    "collapsed": false
   },
   "outputs": [
    {
     "data": {
      "text/plain": [
       "83"
      ]
     },
     "execution_count": 10,
     "metadata": {},
     "output_type": "execute_result"
    }
   ],
   "source": [
    "len(vocab)"
   ]
  },
  {
   "cell_type": "markdown",
   "metadata": {},
   "source": [
    "## Making training mini-batches\n",
    "\n",
    "Here is where we'll make our mini-batches for training. Remember that we want our batches to be multiple sequences of some desired number of sequence steps. Considering a simple example, our batches would look like this:\n",
    "\n",
    "<img src=\"assets/sequence_batching@1x.png\" width=500px>\n",
    "\n",
    "\n",
    "<br>\n",
    "We have our text encoded as integers as one long array in `encoded`. Let's create a function that will give us an iterator for our batches. I like using [generator functions](https://jeffknupp.com/blog/2013/04/07/improve-your-python-yield-and-generators-explained/) to do this. Then we can pass `encoded` into this function and get our batch generator.\n",
    "\n",
    "The first thing we need to do is discard some of the text so we only have completely full batches. Each batch contains $N \\times M$ characters, where $N$ is the batch size (the number of sequences) and $M$ is the number of steps. Then, to get the number of batches we can make from some array `arr`, you divide the length of `arr` by the batch size. Once you know the number of batches and the batch size, you can get the total number of characters to keep.\n",
    "\n",
    "After that, we need to split `arr` into $N$ sequences. You can do this using `arr.reshape(size)` where `size` is a tuple containing the dimensions sizes of the reshaped array. We know we want $N$ sequences (`n_seqs` below), let's make that the size of the first dimension. For the second dimension, you can use `-1` as a placeholder in the size, it'll fill up the array with the appropriate data for you. After this, you should have an array that is $N \\times (M * K)$ where $K$ is the number of batches.\n",
    "\n",
    "Now that we have this array, we can iterate through it to get our batches. The idea is each batch is a $N \\times M$ window on the array. For each subsequent batch, the window moves over by `n_steps`. We also want to create both the input and target arrays. Remember that the targets are the inputs shifted over one character. You'll usually see the first input character used as the last target character, so something like this:\n",
    "```python\n",
    "y[:, :-1], y[:, -1] = x[:, 1:], x[:, 0]\n",
    "```\n",
    "where `x` is the input batch and `y` is the target batch.\n",
    "\n",
    "The way I like to do this window is use `range` to take steps of size `n_steps` from $0$ to `arr.shape[1]`, the total number of steps in each sequence. That way, the integers you get from `range` always point to the start of a batch, and each window is `n_steps` wide.\n",
    "\n",
    "> **Exercise:** Write the code for creating batches in the function below. The exercises in this notebook _will not be easy_. I've provided a notebook with solutions alongside this notebook. If you get stuck, checkout the solutions. The most important thing is that you don't copy and paste the code into here, **type out the solution code yourself.**"
   ]
  },
  {
   "cell_type": "code",
   "execution_count": 13,
   "metadata": {
    "collapsed": true
   },
   "outputs": [],
   "source": [
    "def get_batches(arr, n_seqs, n_steps):\n",
    "    '''Create a generator that returns batches of size\n",
    "       n_seqs x n_steps from arr.\n",
    "       \n",
    "       Arguments\n",
    "       ---------\n",
    "       arr: Array you want to make batches from\n",
    "       n_seqs: Batch size, the number of sequences per batch\n",
    "       n_steps: Number of sequence steps per batch\n",
    "    '''\n",
    "    # Get the number of characters per batch and number of batches we can \n",
    "    # make\n",
    "    characters_per_batch = n_seqs * n_steps\n",
    "    n_batches =  len(arr) // characters_per_batch\n",
    "    \n",
    "    # Keep only enough characters to make full batches\n",
    "    arr = arr[:n_batches * characters_per_batch]\n",
    "    \n",
    "    # Reshape into n_seqs rows\n",
    "    arr = arr.reshape([n_seqs, -1])\n",
    "    \n",
    "    for n in range(0, arr.shape[1], n_steps):\n",
    "        # The features\n",
    "        x = arr[:, n:n + n_steps]\n",
    "        # The targets, shifted by one\n",
    "        y = np.zeros_like(x)\n",
    "        y[:, :-1], y[:, -1] = x[:, 1:], x[:, 0]\n",
    "        yield x, y"
   ]
  },
  {
   "cell_type": "markdown",
   "metadata": {},
   "source": [
    "Now I'll make my data sets and we can check out what's going on here. Here I'm going to use a batch size of 10 and 50 sequence steps."
   ]
  },
  {
   "cell_type": "code",
   "execution_count": 14,
   "metadata": {
    "collapsed": false
   },
   "outputs": [],
   "source": [
    "batches = get_batches(encoded, 10, 50)\n",
    "x, y = next(batches)"
   ]
  },
  {
   "cell_type": "code",
   "execution_count": 15,
   "metadata": {
    "collapsed": false
   },
   "outputs": [
    {
     "name": "stdout",
     "output_type": "stream",
     "text": [
      "(10, 50) (10, 50)\n"
     ]
    }
   ],
   "source": [
    "print(x.shape, y.shape)"
   ]
  },
  {
   "cell_type": "code",
   "execution_count": 16,
   "metadata": {
    "collapsed": false
   },
   "outputs": [
    {
     "name": "stdout",
     "output_type": "stream",
     "text": [
      "x\n",
      " [[31 64 57 72 76 61 74  1 16  0]\n",
      " [ 1 57 69  1 70 71 76  1 63 71]\n",
      " [78 65 70 13  0  0  3 53 61 75]\n",
      " [70  1 60 77 74 65 70 63  1 64]\n",
      " [ 1 65 76  1 65 75 11  1 75 65]\n",
      " [ 1 37 76  1 79 57 75  0 71 70]\n",
      " [64 61 70  1 59 71 69 61  1 62]\n",
      " [26  1 58 77 76  1 70 71 79  1]\n",
      " [76  1 65 75 70  7 76 13  1 48]\n",
      " [ 1 75 57 65 60  1 76 71  1 64]]\n",
      "\n",
      "y\n",
      " [[64 57 72 76 61 74  1 16  0  0]\n",
      " [57 69  1 70 71 76  1 63 71 65]\n",
      " [65 70 13  0  0  3 53 61 75 11]\n",
      " [ 1 60 77 74 65 70 63  1 64 65]\n",
      " [65 76  1 65 75 11  1 75 65 74]\n",
      " [37 76  1 79 57 75  0 71 70 68]\n",
      " [61 70  1 59 71 69 61  1 62 71]\n",
      " [ 1 58 77 76  1 70 71 79  1 75]\n",
      " [ 1 65 75 70  7 76 13  1 48 64]\n",
      " [75 57 65 60  1 76 71  1 64 61]]\n"
     ]
    }
   ],
   "source": [
    "print('x\\n', x[:10, :10])\n",
    "print('\\ny\\n', y[:10, :10])"
   ]
  },
  {
   "cell_type": "markdown",
   "metadata": {},
   "source": [
    "If you implemented `get_batches` correctly, the above output should look something like \n",
    "```\n",
    "x\n",
    " [[55 63 69 22  6 76 45  5 16 35]\n",
    " [ 5 69  1  5 12 52  6  5 56 52]\n",
    " [48 29 12 61 35 35  8 64 76 78]\n",
    " [12  5 24 39 45 29 12 56  5 63]\n",
    " [ 5 29  6  5 29 78 28  5 78 29]\n",
    " [ 5 13  6  5 36 69 78 35 52 12]\n",
    " [63 76 12  5 18 52  1 76  5 58]\n",
    " [34  5 73 39  6  5 12 52 36  5]\n",
    " [ 6  5 29 78 12 79  6 61  5 59]\n",
    " [ 5 78 69 29 24  5  6 52  5 63]]\n",
    "\n",
    "y\n",
    " [[63 69 22  6 76 45  5 16 35 35]\n",
    " [69  1  5 12 52  6  5 56 52 29]\n",
    " [29 12 61 35 35  8 64 76 78 28]\n",
    " [ 5 24 39 45 29 12 56  5 63 29]\n",
    " [29  6  5 29 78 28  5 78 29 45]\n",
    " [13  6  5 36 69 78 35 52 12 43]\n",
    " [76 12  5 18 52  1 76  5 58 52]\n",
    " [ 5 73 39  6  5 12 52 36  5 78]\n",
    " [ 5 29 78 12 79  6 61  5 59 63]\n",
    " [78 69 29 24  5  6 52  5 63 76]]\n",
    " ```\n",
    " although the exact numbers will be different. Check to make sure the data is shifted over one step for `y`."
   ]
  },
  {
   "cell_type": "markdown",
   "metadata": {},
   "source": [
    "## Building the model\n",
    "\n",
    "Below is where you'll build the network. We'll break it up into parts so it's easier to reason about each bit. Then we can connect them up into the whole network.\n",
    "\n",
    "<img src=\"assets/charRNN.png\" width=500px>\n",
    "```\n",
    "   o          b          e          o\n",
    "   ^          ^          ^          ^\n",
    "Softmax    Softmax    Softmax    Softmax\n",
    "   ^          ^          ^          ^\n",
    "  LSTM  ->   LSTM  ->   LSTM  ->   LSTM\n",
    "   ^          ^          ^          ^\n",
    "  LSTM  ->   LSTM  ->   LSTM  ->   LSTM\n",
    "   ^          ^          ^          ^\n",
    " input      input      input      input   \n",
    "   ^          ^          ^          ^\n",
    "   t          o          b          e\n",
    "```\n",
    "\n",
    "### Inputs\n",
    "\n",
    "First off we'll create our input placeholders. As usual we need placeholders for the training data and the targets. We'll also create a placeholder for dropout layers called `keep_prob`. This will be a scalar, that is a 0-D tensor. To make a scalar, you create a placeholder without giving it a size.\n",
    "\n",
    "> **Exercise:** Create the input placeholders in the function below."
   ]
  },
  {
   "cell_type": "code",
   "execution_count": 17,
   "metadata": {
    "collapsed": true
   },
   "outputs": [],
   "source": [
    "def build_inputs(batch_size, num_steps):\n",
    "    ''' Define placeholders for inputs, targets, and dropout \n",
    "    \n",
    "        Arguments\n",
    "        ---------\n",
    "        batch_size: Batch size, number of sequences per batch\n",
    "        num_steps: Number of sequence steps in a batch\n",
    "        \n",
    "    '''\n",
    "    # Declare placeholders we'll feed into the graph\n",
    "    inputs = tf.placeholder(\n",
    "        tf.int32, [batch_size, num_steps], name='inputs')\n",
    "    targets = tf.placeholder(\n",
    "        tf.int32, [batch_size, num_steps], name='targets')\n",
    "    \n",
    "    # Keep probability placeholder for drop out layers\n",
    "    keep_prob = tf.placeholder(tf.float32, name='keep_prob')\n",
    "    \n",
    "    return inputs, targets, keep_prob"
   ]
  },
  {
   "cell_type": "markdown",
   "metadata": {},
   "source": [
    "### LSTM Cell\n",
    "\n",
    "Here we will create the LSTM cell we'll use in the hidden layer. We'll use this cell as a building block for the RNN. So we aren't actually defining the RNN here, just the type of cell we'll use in the hidden layer.\n",
    "\n",
    "We first create a basic LSTM cell with\n",
    "\n",
    "```python\n",
    "lstm = tf.contrib.rnn.BasicLSTMCell(num_units)\n",
    "```\n",
    "\n",
    "where `num_units` is the number of units in the hidden layers in the cell. Then we can add dropout by wrapping it with \n",
    "\n",
    "```python\n",
    "tf.contrib.rnn.DropoutWrapper(lstm, output_keep_prob=keep_prob)\n",
    "```\n",
    "You pass in a cell and it will automatically add dropout to the inputs or outputs. Finally, we can stack up the LSTM cells into layers with [`tf.contrib.rnn.MultiRNNCell`](https://www.tensorflow.org/versions/r1.0/api_docs/python/tf/contrib/rnn/MultiRNNCell). With this, you pass in a list of cells and it will send the output of one cell into the next cell. Previously with TensorFlow 1.0, you could do this\n",
    "\n",
    "```python\n",
    "tf.contrib.rnn.MultiRNNCell([cell]*num_layers)\n",
    "```\n",
    "\n",
    "This might look a little weird if you know Python well because this will create a list of the same `cell` object. However, TensorFlow 1.0 will create different weight matrices for all `cell` objects. But, starting with TensorFlow 1.1 you actually need to create new cell objects in the list. To get it to work in TensorFlow 1.1, it should look like\n",
    "\n",
    "```python\n",
    "def build_cell(num_units, keep_prob):\n",
    "    lstm = tf.contrib.rnn.BasicLSTMCell(num_units)\n",
    "    drop = tf.contrib.rnn.DropoutWrapper(lstm, output_keep_prob=keep_prob)\n",
    "    \n",
    "    return drop\n",
    "    \n",
    "tf.contrib.rnn.MultiRNNCell([build_cell(num_units, keep_prob) for _ in range(num_layers)])\n",
    "```\n",
    "\n",
    "Even though this is actually multiple LSTM cells stacked on each other, you can treat the multiple layers as one cell.\n",
    "\n",
    "We also need to create an initial cell state of all zeros. This can be done like so\n",
    "\n",
    "```python\n",
    "initial_state = cell.zero_state(batch_size, tf.float32)\n",
    "```\n",
    "\n",
    "Below, we implement the `build_lstm` function to create these LSTM cells and the initial state."
   ]
  },
  {
   "cell_type": "code",
   "execution_count": 18,
   "metadata": {
    "collapsed": true
   },
   "outputs": [],
   "source": [
    "def build_lstm(lstm_size, num_layers, batch_size, keep_prob):\n",
    "    ''' Build LSTM cell.\n",
    "    \n",
    "        Arguments\n",
    "        ---------\n",
    "        keep_prob: Scalar tensor (tf.placeholder) for the dropout keep \n",
    "            probability\n",
    "        lstm_size: Size of the hidden layers in the LSTM cells\n",
    "        num_layers: Number of LSTM layers\n",
    "        batch_size: Batch size\n",
    "\n",
    "    '''\n",
    "    ### Build the LSTM Cell\n",
    "    # Use a basic LSTM cell\n",
    "    lstm = tf.contrib.rnn.BasicLSTMCell(lstm_size)\n",
    "    \n",
    "    # Add dropout to the cell outputs\n",
    "    drop = tf.contrib.rnn.DropoutWrapper(lstm, output_keep_prob=keep_prob)\n",
    "    \n",
    "    # Stack up multiple LSTM layers, for deep learning\n",
    "    cell = tf.contrib.rnn.MultiRNNCell([drop] * num_layers)\n",
    "    initial_state = cell.zero_state(batch_size, tf.float32)\n",
    "    \n",
    "    return cell, initial_state"
   ]
  },
  {
   "cell_type": "markdown",
   "metadata": {},
   "source": [
    "### RNN Output\n",
    "\n",
    "Here we'll create the output layer. We need to connect the output of the RNN cells to a full connected layer with a softmax output. The softmax output gives us a probability distribution we can use to predict the next character, so we want this layer to have size $C$, the number of classes/characters we have in our text.\n",
    "\n",
    "If our input has batch size $N$, number of steps $M$, and the hidden layer has $L$ hidden units, then the output is a 3D tensor with size $N \\times M \\times L$. The output of each LSTM cell has size $L$, we have $M$ of them, one for each sequence step, and we have $N$ sequences. So the total size is $N \\times M \\times L$. \n",
    "\n",
    "We are using the same fully connected layer, the same weights, for each of the outputs. Then, to make things easier, we should reshape the outputs into a 2D tensor with shape $(M * N) \\times L$. That is, one row for each sequence and step, where the values of each row are the output from the LSTM cells. We get the LSTM output as a list, `lstm_output`. First we need to concatenate this whole list into one array with [`tf.concat`](https://www.tensorflow.org/api_docs/python/tf/concat). Then, reshape it (with `tf.reshape`) to size $(M * N) \\times L$.\n",
    "\n",
    "One we have the outputs reshaped, we can do the matrix multiplication with the weights. We need to wrap the weight and bias variables in a variable scope with `tf.variable_scope(scope_name)` because there are weights being created in the LSTM cells. TensorFlow will throw an error if the weights created here have the same names as the weights created in the LSTM cells, which they will be default. To avoid this, we wrap the variables in a variable scope so we can give them unique names.\n",
    "\n",
    "> **Exercise:** Implement the output layer in the function below."
   ]
  },
  {
   "cell_type": "code",
   "execution_count": 26,
   "metadata": {
    "collapsed": true
   },
   "outputs": [],
   "source": [
    "def build_output(lstm_output, in_size, out_size):\n",
    "    ''' Build a softmax layer, return the softmax output and logits.\n",
    "    \n",
    "        Arguments\n",
    "        ---------\n",
    "        \n",
    "        lstm_output: List of output tensors from the LSTM layer\n",
    "        in_size: Size of the input tensor, for example, size of the LSTM \n",
    "            cells \n",
    "        out_size: Size of this softmax layer\n",
    "    \n",
    "    '''\n",
    "\n",
    "    # Reshape output so it's a bunch of rows, one row for each step for \n",
    "    # each sequence. Concatenate lstm_output over axis 1 (the columns)\n",
    "    seq_output = tf.concat(lstm_output, axis=1)\n",
    "    # Reshape seq_output to a 2D tensor with lstm_size columns\n",
    "    x = tf.reshape(seq_output, [-1, lstm_size])\n",
    "    \n",
    "    # Connect the RNN outputs to a softmax layer\n",
    "    with tf.variable_scope('softmax'):\n",
    "        # Create the weight and bias variables here\n",
    "        softmax_w = tf.Variable(\n",
    "            tf.truncated_normal([in_size, out_size], stddev=0.1)) \n",
    "                                \n",
    "        softmax_b = tf.Variable(tf.zeros(out_size))\n",
    "    \n",
    "    # Since output is a bunch of rows of RNN cell outputs, logits will be \n",
    "    # a bunch of rows of logit outputs, one for each step and sequence\n",
    "    logits = tf.matmul(x, softmax_w) + softmax_b\n",
    "    \n",
    "    # Use softmax to get the probabilities for predicted characters\n",
    "    out = tf.nn.softmax(logits, name='predictions')\n",
    "    \n",
    "    return out, logits"
   ]
  },
  {
   "cell_type": "markdown",
   "metadata": {},
   "source": [
    "### Training loss\n",
    "\n",
    "Next up is the training loss. We get the logits and targets and calculate the softmax cross-entropy loss. First we need to one-hot encode the targets, we're getting them as encoded characters. Then, reshape the one-hot targets so it's a 2D tensor with size $(M*N) \\times C$ where $C$ is the number of classes/characters we have. Remember that we reshaped the LSTM outputs and ran them through a fully connected layer with $C$ units. So our logits will also have size $(M*N) \\times C$.\n",
    "\n",
    "Then we run the logits and targets through `tf.nn.softmax_cross_entropy_with_logits` and find the mean to get the loss.\n",
    "\n",
    ">**Exercise:** Implement the loss calculation in the function below."
   ]
  },
  {
   "cell_type": "code",
   "execution_count": 21,
   "metadata": {
    "collapsed": true
   },
   "outputs": [],
   "source": [
    "def build_loss(logits, targets, lstm_size, num_classes):\n",
    "    ''' Calculate the loss from the logits and the targets.\n",
    "    \n",
    "        Arguments\n",
    "        ---------\n",
    "        logits: Logits from final fully connected layer\n",
    "        targets: Targets for supervised learning\n",
    "        lstm_size: Number of LSTM hidden units\n",
    "        num_classes: Number of classes in targets\n",
    "        \n",
    "    '''\n",
    "    \n",
    "    # One-hot encode targets and reshape to match logits, one row per \n",
    "    # sequence per step\n",
    "    y_one_hot = tf.one_hot(targets, num_classes)\n",
    "    y_reshaped = tf.reshape(y_one_hot, logits.get_shape())\n",
    "    \n",
    "    # Softmax cross entropy loss\n",
    "    loss = tf.reduce_mean(\n",
    "        tf.nn.softmax_cross_entropy_with_logits(logits=logits, \n",
    "                                                labels=y_reshaped))\n",
    "    return loss"
   ]
  },
  {
   "cell_type": "markdown",
   "metadata": {},
   "source": [
    "### Optimizer\n",
    "\n",
    "Here we build the optimizer. Normal RNNs have have issues gradients exploding and disappearing. LSTMs fix the disappearance problem, but the gradients can still grow without bound. To fix this, we can clip the gradients above some threshold. That is, if a gradient is larger than that threshold, we set it to the threshold. This will ensure the gradients never grow overly large. Then we use an AdamOptimizer for the learning step."
   ]
  },
  {
   "cell_type": "code",
   "execution_count": 22,
   "metadata": {
    "collapsed": true
   },
   "outputs": [],
   "source": [
    "def build_optimizer(loss, learning_rate, grad_clip):\n",
    "    ''' Build optmizer for training, using gradient clipping.\n",
    "    \n",
    "        Arguments:\n",
    "        loss: Network loss\n",
    "        learning_rate: Learning rate for optimizer\n",
    "    \n",
    "    '''\n",
    "    \n",
    "    # Optimizer for training, using gradient clipping to control exploding\n",
    "    # gradients\n",
    "    tvars = tf.trainable_variables()\n",
    "    grads, _ = tf.clip_by_global_norm(tf.gradients(loss, tvars), grad_clip)\n",
    "    train_op = tf.train.AdamOptimizer(learning_rate)\n",
    "    optimizer = train_op.apply_gradients(zip(grads, tvars))\n",
    "    \n",
    "    return optimizer"
   ]
  },
  {
   "cell_type": "markdown",
   "metadata": {},
   "source": [
    "### Build the network\n",
    "\n",
    "Now we can put all the pieces together and build a class for the network. To actually run data through the LSTM cells, we will use [`tf.nn.dynamic_rnn`](https://www.tensorflow.org/versions/r1.0/api_docs/python/tf/nn/dynamic_rnn). This function will pass the hidden and cell states across LSTM cells appropriately for us. It returns the outputs for each LSTM cell at each step for each sequence in the mini-batch. It also gives us the final LSTM state. We want to save this state as `final_state` so we can pass it to the first LSTM cell in the the next mini-batch run. For `tf.nn.dynamic_rnn`, we pass in the cell and initial state we get from `build_lstm`, as well as our input sequences. Also, we need to one-hot encode the inputs before going into the RNN. \n",
    "\n",
    "> **Exercise:** Use the functions you've implemented previously and `tf.nn.dynamic_rnn` to build the network."
   ]
  },
  {
   "cell_type": "code",
   "execution_count": 23,
   "metadata": {
    "collapsed": true
   },
   "outputs": [],
   "source": [
    "class CharRNN:\n",
    "    def __init__(self, num_classes, batch_size=64, num_steps=50, \n",
    "                 lstm_size=128, num_layers=2, learning_rate=0.001, \n",
    "                 grad_clip=5, sampling=False):\n",
    "    \n",
    "        # When we're using this network for sampling later, we'll be \n",
    "        # passing in one character at a time, so providing an option for \n",
    "        # that\n",
    "        if sampling == True:\n",
    "            batch_size, num_steps = 1, 1\n",
    "        else:\n",
    "            batch_size, num_steps = batch_size, num_steps\n",
    "\n",
    "        tf.reset_default_graph()\n",
    "        \n",
    "        # Build the input placeholder tensors\n",
    "        self.inputs, self.targets, self.keep_prob = build_inputs(\n",
    "            batch_size, num_steps)\n",
    "\n",
    "        # Build the LSTM cell\n",
    "        cell, self.initial_state = build_lstm(\n",
    "            lstm_size, num_layers, batch_size, self.keep_prob)\n",
    "\n",
    "        ### Run the data through the RNN layers\n",
    "        # First, one-hot encode the input tokens\n",
    "        x_one_hot = tf.one_hot(self.inputs, num_classes)\n",
    "        \n",
    "        # Run each sequence step through the RNN with tf.nn.dynamic_rnn \n",
    "        outputs, state = tf.nn.dynamic_rnn(\n",
    "            cell, x_one_hot, initial_state=self.initial_state)\n",
    "        self.final_state = state\n",
    "        \n",
    "        # Get softmax predictions and logits\n",
    "        self.prediction, self.logits = build_output(\n",
    "            outputs, lstm_size, num_classes)\n",
    "        \n",
    "        # Loss and optimizer (with gradient clipping)\n",
    "        self.loss = build_loss(\n",
    "            self.logits, self.targets, lstm_size, num_classes)\n",
    "        self.optimizer = build_optimizer(\n",
    "            self.loss, learning_rate, grad_clip)"
   ]
  },
  {
   "cell_type": "markdown",
   "metadata": {},
   "source": [
    "## Hyperparameters\n",
    "\n",
    "Here are the hyperparameters for the network.\n",
    "\n",
    "* `batch_size` - Number of sequences running through the network in one pass.\n",
    "* `num_steps` - Number of characters in the sequence the network is trained on. Larger is better typically, the network will learn more long range dependencies. But it takes longer to train. 100 is typically a good number here.\n",
    "* `lstm_size` - The number of units in the hidden layers.\n",
    "* `num_layers` - Number of hidden LSTM layers to use\n",
    "* `learning_rate` - Learning rate for training\n",
    "* `keep_prob` - The dropout keep probability when training. If you're network is overfitting, try decreasing this.\n",
    "\n",
    "Here's some good advice from Andrej Karpathy on training the network. I'm going to copy it in here for your benefit, but also link to [where it originally came from](https://github.com/karpathy/char-rnn#tips-and-tricks).\n",
    "\n",
    "> ## Tips and Tricks\n",
    "\n",
    ">### Monitoring Validation Loss vs. Training Loss\n",
    ">If you're somewhat new to Machine Learning or Neural Networks it can take a bit of expertise to get good models. The most important quantity to keep track of is the difference between your training loss (printed during training) and the validation loss (printed once in a while when the RNN is run on the validation data (by default every 1000 iterations)). In particular:\n",
    "\n",
    "> - If your training loss is much lower than validation loss then this means the network might be **overfitting**. Solutions to this are to decrease your network size, or to increase dropout. For example you could try dropout of 0.5 and so on.\n",
    "> - If your training/validation loss are about equal then your model is **underfitting**. Increase the size of your model (either number of layers or the raw number of neurons per layer)\n",
    "\n",
    "> ### Approximate number of parameters\n",
    "\n",
    "> The two most important parameters that control the model are `lstm_size` and `num_layers`. I would advise that you always use `num_layers` of either 2/3. The `lstm_size` can be adjusted based on how much data you have. The two important quantities to keep track of here are:\n",
    "\n",
    "> - The number of parameters in your model. This is printed when you start training.\n",
    "> - The size of your dataset. 1MB file is approximately 1 million characters.\n",
    "\n",
    ">These two should be about the same order of magnitude. It's a little tricky to tell. Here are some examples:\n",
    "\n",
    "> - I have a 100MB dataset and I'm using the default parameter settings (which currently print 150K parameters). My data size is significantly larger (100 mil >> 0.15 mil), so I expect to heavily underfit. I am thinking I can comfortably afford to make `lstm_size` larger.\n",
    "> - I have a 10MB dataset and running a 10 million parameter model. I'm slightly nervous and I'm carefully monitoring my validation loss. If it's larger than my training loss then I may want to try to increase dropout a bit and see if that helps the validation loss.\n",
    "\n",
    "> ### Best models strategy\n",
    "\n",
    ">The winning strategy to obtaining very good models (if you have the compute time) is to always err on making the network larger (as large as you're willing to wait for it to compute) and then try different dropout values (between 0,1). Whatever model has the best validation performance (the loss, written in the checkpoint filename, low is good) is the one you should use in the end.\n",
    "\n",
    ">It is very common in deep learning to run many different models with many different hyperparameter settings, and in the end take whatever checkpoint gave the best validation performance.\n",
    "\n",
    ">By the way, the size of your training and validation splits are also parameters. Make sure you have a decent amount of data in your validation set or otherwise the validation performance will be noisy and not very informative."
   ]
  },
  {
   "cell_type": "code",
   "execution_count": 24,
   "metadata": {
    "collapsed": true
   },
   "outputs": [],
   "source": [
    "batch_size = 10         # Sequences per batch\n",
    "num_steps = 50          # Number of sequence steps per batch\n",
    "lstm_size = 128         # Size of hidden layers in LSTMs\n",
    "num_layers = 2          # Number of LSTM layers\n",
    "learning_rate = 0.01    # Learning rate\n",
    "keep_prob = 0.5         # Dropout keep probability"
   ]
  },
  {
   "cell_type": "markdown",
   "metadata": {},
   "source": [
    "## Time for training\n",
    "\n",
    "This is typical training code, passing inputs and targets into the network, then running the optimizer. Here we also get back the final LSTM state for the mini-batch. Then, we pass that state back into the network so the next batch can continue the state from the previous batch. And every so often (set by `save_every_n`) I save a checkpoint.\n",
    "\n",
    "Here I'm saving checkpoints with the format\n",
    "\n",
    "`i{iteration number}_l{# hidden layer units}.ckpt`\n",
    "\n",
    "> **Exercise:** Set the hyperparameters above to train the network. Watch the training loss, it should be consistently dropping. Also, I highly advise running this on a GPU."
   ]
  },
  {
   "cell_type": "code",
   "execution_count": 30,
   "metadata": {
    "collapsed": false,
    "scrolled": true
   },
   "outputs": [
    {
     "name": "stdout",
     "output_type": "stream",
     "text": [
      "Epoch: 1/20...  Training Step: 200...  Training loss: 2.5394...  0.1357 sec/batch\n",
      "Epoch: 1/20...  Training Step: 400...  Training loss: 2.2812...  0.1267 sec/batch\n",
      "Epoch: 1/20...  Training Step: 600...  Training loss: 2.0182...  0.1284 sec/batch\n",
      "Epoch: 1/20...  Training Step: 800...  Training loss: 2.0849...  0.1243 sec/batch\n",
      "Epoch: 1/20...  Training Step: 1000...  Training loss: 2.0754...  0.1355 sec/batch\n",
      "Epoch: 1/20...  Training Step: 1200...  Training loss: 1.9940...  0.1191 sec/batch\n",
      "Epoch: 1/20...  Training Step: 1400...  Training loss: 2.1330...  0.1292 sec/batch\n",
      "Epoch: 1/20...  Training Step: 1600...  Training loss: 1.9553...  0.1256 sec/batch\n",
      "Epoch: 1/20...  Training Step: 1800...  Training loss: 1.9718...  0.1470 sec/batch\n",
      "Epoch: 1/20...  Training Step: 2000...  Training loss: 2.0170...  0.1326 sec/batch\n",
      "Epoch: 1/20...  Training Step: 2200...  Training loss: 1.8695...  0.1549 sec/batch\n",
      "Epoch: 1/20...  Training Step: 2400...  Training loss: 1.9814...  0.1344 sec/batch\n",
      "Epoch: 1/20...  Training Step: 2600...  Training loss: 1.8243...  0.1516 sec/batch\n",
      "Epoch: 1/20...  Training Step: 2800...  Training loss: 1.8118...  0.1311 sec/batch\n",
      "Epoch: 1/20...  Training Step: 3000...  Training loss: 1.8540...  0.1388 sec/batch\n",
      "Epoch: 1/20...  Training Step: 3200...  Training loss: 1.9348...  0.1303 sec/batch\n",
      "Epoch: 1/20...  Training Step: 3400...  Training loss: 1.7741...  0.1381 sec/batch\n",
      "Epoch: 1/20...  Training Step: 3600...  Training loss: 1.8900...  0.1405 sec/batch\n",
      "Epoch: 1/20...  Training Step: 3800...  Training loss: 1.8287...  0.1327 sec/batch\n",
      "Epoch: 2/20...  Training Step: 4000...  Training loss: 1.7784...  0.1335 sec/batch\n",
      "Epoch: 2/20...  Training Step: 4200...  Training loss: 1.7478...  0.1392 sec/batch\n",
      "Epoch: 2/20...  Training Step: 4400...  Training loss: 1.8142...  0.1326 sec/batch\n",
      "Epoch: 2/20...  Training Step: 4600...  Training loss: 1.8538...  0.1460 sec/batch\n",
      "Epoch: 2/20...  Training Step: 4800...  Training loss: 1.7592...  0.1367 sec/batch\n",
      "Epoch: 2/20...  Training Step: 5000...  Training loss: 1.7882...  0.1467 sec/batch\n",
      "Epoch: 2/20...  Training Step: 5200...  Training loss: 1.8801...  0.1288 sec/batch\n",
      "Epoch: 2/20...  Training Step: 5400...  Training loss: 1.7869...  0.1229 sec/batch\n",
      "Epoch: 2/20...  Training Step: 5600...  Training loss: 1.8722...  0.1439 sec/batch\n",
      "Epoch: 2/20...  Training Step: 5800...  Training loss: 1.7377...  0.1330 sec/batch\n",
      "Epoch: 2/20...  Training Step: 6000...  Training loss: 1.6662...  0.1348 sec/batch\n",
      "Epoch: 2/20...  Training Step: 6200...  Training loss: 1.6791...  0.1389 sec/batch\n",
      "Epoch: 2/20...  Training Step: 6400...  Training loss: 1.8003...  0.1350 sec/batch\n",
      "Epoch: 2/20...  Training Step: 6600...  Training loss: 2.0418...  0.1339 sec/batch\n",
      "Epoch: 2/20...  Training Step: 6800...  Training loss: 1.8220...  0.1305 sec/batch\n",
      "Epoch: 2/20...  Training Step: 7000...  Training loss: 1.6981...  0.1365 sec/batch\n",
      "Epoch: 2/20...  Training Step: 7200...  Training loss: 1.8227...  0.1561 sec/batch\n",
      "Epoch: 2/20...  Training Step: 7400...  Training loss: 1.6335...  0.1563 sec/batch\n",
      "Epoch: 2/20...  Training Step: 7600...  Training loss: 1.7391...  0.1384 sec/batch\n",
      "Epoch: 2/20...  Training Step: 7800...  Training loss: 1.8891...  0.1419 sec/batch\n",
      "Epoch: 3/20...  Training Step: 8000...  Training loss: 1.7308...  0.1259 sec/batch\n",
      "Epoch: 3/20...  Training Step: 8200...  Training loss: 1.7196...  0.1631 sec/batch\n",
      "Epoch: 3/20...  Training Step: 8400...  Training loss: 1.8948...  0.1409 sec/batch\n",
      "Epoch: 3/20...  Training Step: 8600...  Training loss: 1.7714...  0.1373 sec/batch\n",
      "Epoch: 3/20...  Training Step: 8800...  Training loss: 1.8581...  0.1575 sec/batch\n",
      "Epoch: 3/20...  Training Step: 9000...  Training loss: 1.7430...  0.1353 sec/batch\n",
      "Epoch: 3/20...  Training Step: 9200...  Training loss: 1.7241...  0.1256 sec/batch\n",
      "Epoch: 3/20...  Training Step: 9400...  Training loss: 1.7961...  0.1367 sec/batch\n",
      "Epoch: 3/20...  Training Step: 9600...  Training loss: 1.6642...  0.1282 sec/batch\n",
      "Epoch: 3/20...  Training Step: 9800...  Training loss: 1.7738...  0.1260 sec/batch\n",
      "Epoch: 3/20...  Training Step: 10000...  Training loss: 1.7102...  0.1307 sec/batch\n",
      "Epoch: 3/20...  Training Step: 10200...  Training loss: 1.9350...  0.1386 sec/batch\n",
      "Epoch: 3/20...  Training Step: 10400...  Training loss: 1.8261...  0.1526 sec/batch\n",
      "Epoch: 3/20...  Training Step: 10600...  Training loss: 1.8036...  0.1411 sec/batch\n",
      "Epoch: 3/20...  Training Step: 10800...  Training loss: 1.6306...  0.1377 sec/batch\n",
      "Epoch: 3/20...  Training Step: 11000...  Training loss: 1.7370...  0.1286 sec/batch\n",
      "Epoch: 3/20...  Training Step: 11200...  Training loss: 1.6726...  0.1431 sec/batch\n",
      "Epoch: 3/20...  Training Step: 11400...  Training loss: 1.6956...  0.1370 sec/batch\n",
      "Epoch: 3/20...  Training Step: 11600...  Training loss: 1.8494...  0.1322 sec/batch\n",
      "Epoch: 3/20...  Training Step: 11800...  Training loss: 1.7731...  0.1374 sec/batch\n",
      "Epoch: 4/20...  Training Step: 12000...  Training loss: 1.7590...  0.1302 sec/batch\n",
      "Epoch: 4/20...  Training Step: 12200...  Training loss: 1.6691...  0.2616 sec/batch\n",
      "Epoch: 4/20...  Training Step: 12400...  Training loss: 1.7915...  0.1395 sec/batch\n",
      "Epoch: 4/20...  Training Step: 12600...  Training loss: 1.6627...  0.1306 sec/batch\n",
      "Epoch: 4/20...  Training Step: 12800...  Training loss: 1.6765...  0.1477 sec/batch\n",
      "Epoch: 4/20...  Training Step: 13000...  Training loss: 1.8340...  0.1658 sec/batch\n",
      "Epoch: 4/20...  Training Step: 13200...  Training loss: 1.9034...  0.1225 sec/batch\n",
      "Epoch: 4/20...  Training Step: 13400...  Training loss: 1.6876...  0.1338 sec/batch\n",
      "Epoch: 4/20...  Training Step: 13600...  Training loss: 1.6780...  0.1448 sec/batch\n",
      "Epoch: 4/20...  Training Step: 13800...  Training loss: 1.6974...  0.1589 sec/batch\n",
      "Epoch: 4/20...  Training Step: 14000...  Training loss: 1.6233...  0.1426 sec/batch\n",
      "Epoch: 4/20...  Training Step: 14200...  Training loss: 1.7549...  0.1436 sec/batch\n",
      "Epoch: 4/20...  Training Step: 14400...  Training loss: 1.7558...  0.1309 sec/batch\n",
      "Epoch: 4/20...  Training Step: 14600...  Training loss: 1.7889...  0.1318 sec/batch\n",
      "Epoch: 4/20...  Training Step: 14800...  Training loss: 1.6288...  0.1732 sec/batch\n",
      "Epoch: 4/20...  Training Step: 15000...  Training loss: 1.6291...  0.1527 sec/batch\n",
      "Epoch: 4/20...  Training Step: 15200...  Training loss: 1.7927...  0.1558 sec/batch\n",
      "Epoch: 4/20...  Training Step: 15400...  Training loss: 1.8613...  0.2017 sec/batch\n",
      "Epoch: 4/20...  Training Step: 15600...  Training loss: 1.6836...  0.1664 sec/batch\n",
      "Epoch: 4/20...  Training Step: 15800...  Training loss: 1.8962...  0.1553 sec/batch\n",
      "Epoch: 5/20...  Training Step: 16000...  Training loss: 1.6326...  0.1702 sec/batch\n",
      "Epoch: 5/20...  Training Step: 16200...  Training loss: 1.7126...  0.1524 sec/batch\n",
      "Epoch: 5/20...  Training Step: 16400...  Training loss: 1.6303...  0.1298 sec/batch\n",
      "Epoch: 5/20...  Training Step: 16600...  Training loss: 1.7550...  0.1227 sec/batch\n",
      "Epoch: 5/20...  Training Step: 16800...  Training loss: 1.5800...  0.1329 sec/batch\n",
      "Epoch: 5/20...  Training Step: 17000...  Training loss: 1.4570...  0.1297 sec/batch\n",
      "Epoch: 5/20...  Training Step: 17200...  Training loss: 1.7683...  0.1255 sec/batch\n",
      "Epoch: 5/20...  Training Step: 17400...  Training loss: 1.7262...  0.1452 sec/batch\n",
      "Epoch: 5/20...  Training Step: 17600...  Training loss: 1.6381...  0.1881 sec/batch\n",
      "Epoch: 5/20...  Training Step: 17800...  Training loss: 1.7118...  0.1699 sec/batch\n",
      "Epoch: 5/20...  Training Step: 18000...  Training loss: 1.5029...  0.1664 sec/batch\n",
      "Epoch: 5/20...  Training Step: 18200...  Training loss: 1.6788...  0.1683 sec/batch\n",
      "Epoch: 5/20...  Training Step: 18400...  Training loss: 1.7677...  0.1710 sec/batch\n",
      "Epoch: 5/20...  Training Step: 18600...  Training loss: 1.5413...  0.1553 sec/batch\n",
      "Epoch: 5/20...  Training Step: 18800...  Training loss: 1.8155...  0.1752 sec/batch\n",
      "Epoch: 5/20...  Training Step: 19000...  Training loss: 1.5872...  0.1279 sec/batch\n",
      "Epoch: 5/20...  Training Step: 19200...  Training loss: 1.7690...  0.1232 sec/batch\n",
      "Epoch: 5/20...  Training Step: 19400...  Training loss: 1.5967...  0.1188 sec/batch\n",
      "Epoch: 5/20...  Training Step: 19600...  Training loss: 1.6800...  0.1178 sec/batch\n",
      "Epoch: 5/20...  Training Step: 19800...  Training loss: 1.9601...  0.1293 sec/batch\n",
      "Epoch: 6/20...  Training Step: 20000...  Training loss: 1.5196...  0.1415 sec/batch\n",
      "Epoch: 6/20...  Training Step: 20200...  Training loss: 1.6694...  0.1227 sec/batch\n",
      "Epoch: 6/20...  Training Step: 20400...  Training loss: 1.5963...  0.1602 sec/batch\n",
      "Epoch: 6/20...  Training Step: 20600...  Training loss: 1.6554...  0.1269 sec/batch\n",
      "Epoch: 6/20...  Training Step: 20800...  Training loss: 1.6613...  0.1521 sec/batch\n",
      "Epoch: 6/20...  Training Step: 21000...  Training loss: 1.6389...  0.1208 sec/batch\n",
      "Epoch: 6/20...  Training Step: 21200...  Training loss: 1.5169...  0.1462 sec/batch\n",
      "Epoch: 6/20...  Training Step: 21400...  Training loss: 1.6042...  0.1244 sec/batch\n",
      "Epoch: 6/20...  Training Step: 21600...  Training loss: 1.7672...  0.1234 sec/batch\n",
      "Epoch: 6/20...  Training Step: 21800...  Training loss: 1.6199...  0.1215 sec/batch\n",
      "Epoch: 6/20...  Training Step: 22000...  Training loss: 1.5970...  0.1391 sec/batch\n",
      "Epoch: 6/20...  Training Step: 22200...  Training loss: 1.7616...  0.1294 sec/batch\n",
      "Epoch: 6/20...  Training Step: 22400...  Training loss: 1.6658...  0.1309 sec/batch\n",
      "Epoch: 6/20...  Training Step: 22600...  Training loss: 1.6142...  0.1383 sec/batch\n",
      "Epoch: 6/20...  Training Step: 22800...  Training loss: 1.4359...  0.1304 sec/batch\n",
      "Epoch: 6/20...  Training Step: 23000...  Training loss: 1.5789...  0.1452 sec/batch\n",
      "Epoch: 6/20...  Training Step: 23200...  Training loss: 1.5886...  0.1302 sec/batch\n",
      "Epoch: 6/20...  Training Step: 23400...  Training loss: 1.7129...  0.1331 sec/batch\n",
      "Epoch: 6/20...  Training Step: 23600...  Training loss: 1.7836...  0.1334 sec/batch\n",
      "Epoch: 6/20...  Training Step: 23800...  Training loss: 1.6026...  0.1306 sec/batch\n",
      "Epoch: 7/20...  Training Step: 24000...  Training loss: 1.5476...  0.1370 sec/batch\n",
      "Epoch: 7/20...  Training Step: 24200...  Training loss: 1.7119...  0.1278 sec/batch\n",
      "Epoch: 7/20...  Training Step: 24400...  Training loss: 1.7856...  0.1358 sec/batch\n",
      "Epoch: 7/20...  Training Step: 24600...  Training loss: 1.7377...  0.1278 sec/batch\n",
      "Epoch: 7/20...  Training Step: 24800...  Training loss: 1.6217...  0.1216 sec/batch\n",
      "Epoch: 7/20...  Training Step: 25000...  Training loss: 1.6913...  0.1308 sec/batch\n",
      "Epoch: 7/20...  Training Step: 25200...  Training loss: 1.6408...  0.1255 sec/batch\n",
      "Epoch: 7/20...  Training Step: 25400...  Training loss: 1.7054...  0.1294 sec/batch\n",
      "Epoch: 7/20...  Training Step: 25600...  Training loss: 1.6054...  0.1385 sec/batch\n",
      "Epoch: 7/20...  Training Step: 25800...  Training loss: 1.5631...  0.1279 sec/batch\n",
      "Epoch: 7/20...  Training Step: 26000...  Training loss: 1.6842...  0.1344 sec/batch\n",
      "Epoch: 7/20...  Training Step: 26200...  Training loss: 1.7658...  0.1259 sec/batch\n",
      "Epoch: 7/20...  Training Step: 26400...  Training loss: 1.6881...  0.1497 sec/batch\n",
      "Epoch: 7/20...  Training Step: 26600...  Training loss: 1.6780...  0.1313 sec/batch\n",
      "Epoch: 7/20...  Training Step: 26800...  Training loss: 1.8745...  0.1311 sec/batch\n",
      "Epoch: 7/20...  Training Step: 27000...  Training loss: 1.5232...  0.1296 sec/batch\n",
      "Epoch: 7/20...  Training Step: 27200...  Training loss: 1.5482...  0.1449 sec/batch\n",
      "Epoch: 7/20...  Training Step: 27400...  Training loss: 1.6103...  0.1257 sec/batch\n",
      "Epoch: 7/20...  Training Step: 27600...  Training loss: 1.8493...  0.1270 sec/batch\n",
      "Epoch: 8/20...  Training Step: 27800...  Training loss: 1.6713...  0.1311 sec/batch\n",
      "Epoch: 8/20...  Training Step: 28000...  Training loss: 1.5846...  0.1288 sec/batch\n",
      "Epoch: 8/20...  Training Step: 28200...  Training loss: 1.7128...  0.1411 sec/batch\n",
      "Epoch: 8/20...  Training Step: 28400...  Training loss: 1.6213...  0.1310 sec/batch\n",
      "Epoch: 8/20...  Training Step: 28600...  Training loss: 1.5536...  0.1305 sec/batch\n",
      "Epoch: 8/20...  Training Step: 28800...  Training loss: 1.7894...  0.1334 sec/batch\n",
      "Epoch: 8/20...  Training Step: 29000...  Training loss: 1.6558...  0.1429 sec/batch\n",
      "Epoch: 8/20...  Training Step: 29200...  Training loss: 1.6877...  0.1350 sec/batch\n",
      "Epoch: 8/20...  Training Step: 29400...  Training loss: 1.7611...  0.1325 sec/batch\n",
      "Epoch: 8/20...  Training Step: 29600...  Training loss: 1.4645...  0.1335 sec/batch\n",
      "Epoch: 8/20...  Training Step: 29800...  Training loss: 1.7292...  0.1314 sec/batch\n",
      "Epoch: 8/20...  Training Step: 30000...  Training loss: 1.7767...  0.1276 sec/batch\n",
      "Epoch: 8/20...  Training Step: 30200...  Training loss: 1.6055...  0.1363 sec/batch\n",
      "Epoch: 8/20...  Training Step: 30400...  Training loss: 1.7353...  0.1292 sec/batch\n",
      "Epoch: 8/20...  Training Step: 30600...  Training loss: 1.7554...  0.1402 sec/batch\n",
      "Epoch: 8/20...  Training Step: 30800...  Training loss: 1.7628...  0.1298 sec/batch\n",
      "Epoch: 8/20...  Training Step: 31000...  Training loss: 1.5684...  0.1314 sec/batch\n",
      "Epoch: 8/20...  Training Step: 31200...  Training loss: 1.7113...  0.1528 sec/batch\n",
      "Epoch: 8/20...  Training Step: 31400...  Training loss: 1.7522...  0.1277 sec/batch\n",
      "Epoch: 8/20...  Training Step: 31600...  Training loss: 1.6945...  0.1268 sec/batch\n",
      "Epoch: 9/20...  Training Step: 31800...  Training loss: 1.6533...  0.1392 sec/batch\n",
      "Epoch: 9/20...  Training Step: 32000...  Training loss: 1.6690...  0.1277 sec/batch\n",
      "Epoch: 9/20...  Training Step: 32200...  Training loss: 1.7237...  0.1626 sec/batch\n",
      "Epoch: 9/20...  Training Step: 32400...  Training loss: 1.5338...  0.1360 sec/batch\n",
      "Epoch: 9/20...  Training Step: 32600...  Training loss: 1.5854...  0.1377 sec/batch\n",
      "Epoch: 9/20...  Training Step: 32800...  Training loss: 1.6342...  0.1327 sec/batch\n",
      "Epoch: 9/20...  Training Step: 33000...  Training loss: 1.5396...  0.1355 sec/batch\n",
      "Epoch: 9/20...  Training Step: 33200...  Training loss: 1.6127...  0.1336 sec/batch\n",
      "Epoch: 9/20...  Training Step: 33400...  Training loss: 1.7553...  0.1223 sec/batch\n",
      "Epoch: 9/20...  Training Step: 33600...  Training loss: 1.6601...  0.1530 sec/batch\n",
      "Epoch: 9/20...  Training Step: 33800...  Training loss: 1.6784...  0.1445 sec/batch\n",
      "Epoch: 9/20...  Training Step: 34000...  Training loss: 1.8837...  0.1317 sec/batch\n",
      "Epoch: 9/20...  Training Step: 34200...  Training loss: 1.6292...  0.1606 sec/batch\n",
      "Epoch: 9/20...  Training Step: 34400...  Training loss: 1.5368...  0.1355 sec/batch\n",
      "Epoch: 9/20...  Training Step: 34600...  Training loss: 1.6764...  0.1316 sec/batch\n",
      "Epoch: 9/20...  Training Step: 34800...  Training loss: 1.7432...  0.1369 sec/batch\n",
      "Epoch: 9/20...  Training Step: 35000...  Training loss: 1.5616...  0.1333 sec/batch\n",
      "Epoch: 9/20...  Training Step: 35200...  Training loss: 1.7372...  0.1571 sec/batch\n",
      "Epoch: 9/20...  Training Step: 35400...  Training loss: 1.5605...  0.1375 sec/batch\n",
      "Epoch: 9/20...  Training Step: 35600...  Training loss: 1.8038...  0.1419 sec/batch\n",
      "Epoch: 10/20...  Training Step: 35800...  Training loss: 1.6335...  0.1266 sec/batch\n",
      "Epoch: 10/20...  Training Step: 36000...  Training loss: 1.7532...  0.1545 sec/batch\n",
      "Epoch: 10/20...  Training Step: 36200...  Training loss: 1.7111...  0.1487 sec/batch\n",
      "Epoch: 10/20...  Training Step: 36400...  Training loss: 1.6504...  0.1380 sec/batch\n",
      "Epoch: 10/20...  Training Step: 36600...  Training loss: 1.6827...  0.1367 sec/batch\n",
      "Epoch: 10/20...  Training Step: 36800...  Training loss: 1.6195...  0.1251 sec/batch\n",
      "Epoch: 10/20...  Training Step: 37000...  Training loss: 1.6767...  0.1347 sec/batch\n",
      "Epoch: 10/20...  Training Step: 37200...  Training loss: 1.5716...  0.1522 sec/batch\n",
      "Epoch: 10/20...  Training Step: 37400...  Training loss: 1.7306...  0.1298 sec/batch\n",
      "Epoch: 10/20...  Training Step: 37600...  Training loss: 1.5681...  0.1354 sec/batch\n",
      "Epoch: 10/20...  Training Step: 37800...  Training loss: 1.5171...  0.1207 sec/batch\n",
      "Epoch: 10/20...  Training Step: 38000...  Training loss: 1.5277...  0.1431 sec/batch\n",
      "Epoch: 10/20...  Training Step: 38200...  Training loss: 1.7181...  0.1221 sec/batch\n",
      "Epoch: 10/20...  Training Step: 38400...  Training loss: 1.6165...  0.1393 sec/batch\n",
      "Epoch: 10/20...  Training Step: 38600...  Training loss: 1.6179...  0.1324 sec/batch\n",
      "Epoch: 10/20...  Training Step: 38800...  Training loss: 1.6999...  0.1261 sec/batch\n",
      "Epoch: 10/20...  Training Step: 39000...  Training loss: 1.7314...  0.1244 sec/batch\n",
      "Epoch: 10/20...  Training Step: 39200...  Training loss: 1.6921...  0.1691 sec/batch\n",
      "Epoch: 10/20...  Training Step: 39400...  Training loss: 1.6913...  0.1486 sec/batch\n",
      "Epoch: 10/20...  Training Step: 39600...  Training loss: 1.7970...  0.1301 sec/batch\n",
      "Epoch: 11/20...  Training Step: 39800...  Training loss: 1.6011...  0.1437 sec/batch\n",
      "Epoch: 11/20...  Training Step: 40000...  Training loss: 1.5134...  0.1348 sec/batch\n",
      "Epoch: 11/20...  Training Step: 40200...  Training loss: 1.7572...  0.1279 sec/batch\n",
      "Epoch: 11/20...  Training Step: 40400...  Training loss: 1.6016...  0.1282 sec/batch\n",
      "Epoch: 11/20...  Training Step: 40600...  Training loss: 1.6879...  0.1495 sec/batch\n",
      "Epoch: 11/20...  Training Step: 40800...  Training loss: 1.6108...  0.1342 sec/batch\n",
      "Epoch: 11/20...  Training Step: 41000...  Training loss: 1.6490...  0.1373 sec/batch\n",
      "Epoch: 11/20...  Training Step: 41200...  Training loss: 1.6124...  0.1252 sec/batch\n",
      "Epoch: 11/20...  Training Step: 41400...  Training loss: 1.6450...  0.1335 sec/batch\n",
      "Epoch: 11/20...  Training Step: 41600...  Training loss: 1.4945...  0.1515 sec/batch\n",
      "Epoch: 11/20...  Training Step: 41800...  Training loss: 1.6308...  0.1333 sec/batch\n",
      "Epoch: 11/20...  Training Step: 42000...  Training loss: 1.5308...  0.1344 sec/batch\n",
      "Epoch: 11/20...  Training Step: 42200...  Training loss: 1.6116...  0.1438 sec/batch\n",
      "Epoch: 11/20...  Training Step: 42400...  Training loss: 1.7369...  0.1190 sec/batch\n",
      "Epoch: 11/20...  Training Step: 42600...  Training loss: 1.4902...  0.1315 sec/batch\n",
      "Epoch: 11/20...  Training Step: 42800...  Training loss: 1.5718...  0.1385 sec/batch\n",
      "Epoch: 11/20...  Training Step: 43000...  Training loss: 1.6981...  0.1425 sec/batch\n",
      "Epoch: 11/20...  Training Step: 43200...  Training loss: 1.6359...  0.1394 sec/batch\n",
      "Epoch: 11/20...  Training Step: 43400...  Training loss: 1.5578...  0.1498 sec/batch\n",
      "Epoch: 11/20...  Training Step: 43600...  Training loss: 1.7837...  0.1212 sec/batch\n",
      "Epoch: 12/20...  Training Step: 43800...  Training loss: 1.6277...  0.1299 sec/batch\n",
      "Epoch: 12/20...  Training Step: 44000...  Training loss: 1.6544...  0.1463 sec/batch\n",
      "Epoch: 12/20...  Training Step: 44200...  Training loss: 1.6264...  0.1512 sec/batch\n",
      "Epoch: 12/20...  Training Step: 44400...  Training loss: 1.5434...  0.1269 sec/batch\n",
      "Epoch: 12/20...  Training Step: 44600...  Training loss: 1.6604...  0.2232 sec/batch\n",
      "Epoch: 12/20...  Training Step: 44800...  Training loss: 1.4514...  0.1375 sec/batch\n",
      "Epoch: 12/20...  Training Step: 45000...  Training loss: 1.6993...  0.1542 sec/batch\n",
      "Epoch: 12/20...  Training Step: 45200...  Training loss: 1.6778...  0.1701 sec/batch\n",
      "Epoch: 12/20...  Training Step: 45400...  Training loss: 1.5663...  0.1559 sec/batch\n",
      "Epoch: 12/20...  Training Step: 45600...  Training loss: 1.6177...  0.1912 sec/batch\n",
      "Epoch: 12/20...  Training Step: 45800...  Training loss: 1.6761...  0.1448 sec/batch\n",
      "Epoch: 12/20...  Training Step: 46000...  Training loss: 1.5034...  0.1236 sec/batch\n",
      "Epoch: 12/20...  Training Step: 46200...  Training loss: 1.5816...  0.1345 sec/batch\n",
      "Epoch: 12/20...  Training Step: 46400...  Training loss: 1.5209...  0.1280 sec/batch\n",
      "Epoch: 12/20...  Training Step: 46600...  Training loss: 1.5674...  0.1295 sec/batch\n",
      "Epoch: 12/20...  Training Step: 46800...  Training loss: 1.5202...  0.1287 sec/batch\n",
      "Epoch: 12/20...  Training Step: 47000...  Training loss: 1.7225...  0.1340 sec/batch\n",
      "Epoch: 12/20...  Training Step: 47200...  Training loss: 1.5490...  0.1458 sec/batch\n",
      "Epoch: 12/20...  Training Step: 47400...  Training loss: 1.7155...  0.1107 sec/batch\n",
      "Epoch: 12/20...  Training Step: 47600...  Training loss: 1.7146...  0.1323 sec/batch\n",
      "Epoch: 13/20...  Training Step: 47800...  Training loss: 1.8441...  0.1406 sec/batch\n",
      "Epoch: 13/20...  Training Step: 48000...  Training loss: 1.6765...  0.1320 sec/batch\n",
      "Epoch: 13/20...  Training Step: 48200...  Training loss: 1.6326...  0.1230 sec/batch\n",
      "Epoch: 13/20...  Training Step: 48400...  Training loss: 1.5037...  0.1387 sec/batch\n",
      "Epoch: 13/20...  Training Step: 48600...  Training loss: 1.6784...  0.1296 sec/batch\n",
      "Epoch: 13/20...  Training Step: 48800...  Training loss: 1.4604...  0.1212 sec/batch\n",
      "Epoch: 13/20...  Training Step: 49000...  Training loss: 1.5582...  0.1475 sec/batch\n",
      "Epoch: 13/20...  Training Step: 49200...  Training loss: 1.6214...  0.1285 sec/batch\n",
      "Epoch: 13/20...  Training Step: 49400...  Training loss: 1.5309...  0.1314 sec/batch\n",
      "Epoch: 13/20...  Training Step: 49600...  Training loss: 1.6386...  0.1262 sec/batch\n",
      "Epoch: 13/20...  Training Step: 49800...  Training loss: 1.6647...  0.1246 sec/batch\n",
      "Epoch: 13/20...  Training Step: 50000...  Training loss: 1.6974...  0.1206 sec/batch\n",
      "Epoch: 13/20...  Training Step: 50200...  Training loss: 1.5242...  0.1313 sec/batch\n",
      "Epoch: 13/20...  Training Step: 50400...  Training loss: 1.6321...  0.1624 sec/batch\n",
      "Epoch: 13/20...  Training Step: 50600...  Training loss: 1.6957...  0.1335 sec/batch\n",
      "Epoch: 13/20...  Training Step: 50800...  Training loss: 1.5690...  0.1316 sec/batch\n",
      "Epoch: 13/20...  Training Step: 51000...  Training loss: 1.4841...  0.1413 sec/batch\n",
      "Epoch: 13/20...  Training Step: 51200...  Training loss: 1.6566...  0.1407 sec/batch\n",
      "Epoch: 13/20...  Training Step: 51400...  Training loss: 1.5556...  0.1368 sec/batch\n",
      "Epoch: 13/20...  Training Step: 51600...  Training loss: 1.7087...  0.1431 sec/batch\n",
      "Epoch: 14/20...  Training Step: 51800...  Training loss: 1.7329...  0.1351 sec/batch\n",
      "Epoch: 14/20...  Training Step: 52000...  Training loss: 1.5816...  0.1327 sec/batch\n",
      "Epoch: 14/20...  Training Step: 52200...  Training loss: 1.6686...  0.1379 sec/batch\n",
      "Epoch: 14/20...  Training Step: 52400...  Training loss: 1.6626...  0.1360 sec/batch\n",
      "Epoch: 14/20...  Training Step: 52600...  Training loss: 1.5100...  0.1467 sec/batch\n",
      "Epoch: 14/20...  Training Step: 52800...  Training loss: 1.5438...  0.1379 sec/batch\n",
      "Epoch: 14/20...  Training Step: 53000...  Training loss: 1.6067...  0.1310 sec/batch\n",
      "Epoch: 14/20...  Training Step: 53200...  Training loss: 1.6806...  0.1310 sec/batch\n",
      "Epoch: 14/20...  Training Step: 53400...  Training loss: 1.5567...  0.1423 sec/batch\n",
      "Epoch: 14/20...  Training Step: 53600...  Training loss: 1.6103...  0.1313 sec/batch\n",
      "Epoch: 14/20...  Training Step: 53800...  Training loss: 1.5640...  0.1510 sec/batch\n",
      "Epoch: 14/20...  Training Step: 54000...  Training loss: 1.6603...  0.1541 sec/batch\n",
      "Epoch: 14/20...  Training Step: 54200...  Training loss: 1.6481...  0.1286 sec/batch\n",
      "Epoch: 14/20...  Training Step: 54400...  Training loss: 1.5608...  0.1243 sec/batch\n",
      "Epoch: 14/20...  Training Step: 54600...  Training loss: 1.6345...  0.1333 sec/batch\n",
      "Epoch: 14/20...  Training Step: 54800...  Training loss: 1.5615...  0.1438 sec/batch\n",
      "Epoch: 14/20...  Training Step: 55000...  Training loss: 1.6081...  0.1314 sec/batch\n",
      "Epoch: 14/20...  Training Step: 55200...  Training loss: 1.5354...  0.1455 sec/batch\n",
      "Epoch: 14/20...  Training Step: 55400...  Training loss: 1.5679...  0.1412 sec/batch\n",
      "Epoch: 15/20...  Training Step: 55600...  Training loss: 1.7299...  0.1368 sec/batch\n",
      "Epoch: 15/20...  Training Step: 55800...  Training loss: 1.6092...  0.1534 sec/batch\n",
      "Epoch: 15/20...  Training Step: 56000...  Training loss: 1.7005...  0.1184 sec/batch\n",
      "Epoch: 15/20...  Training Step: 56200...  Training loss: 1.4856...  0.1452 sec/batch\n",
      "Epoch: 15/20...  Training Step: 56400...  Training loss: 1.6800...  0.1392 sec/batch\n",
      "Epoch: 15/20...  Training Step: 56600...  Training loss: 1.4456...  0.1362 sec/batch\n",
      "Epoch: 15/20...  Training Step: 56800...  Training loss: 1.5342...  0.1411 sec/batch\n",
      "Epoch: 15/20...  Training Step: 57000...  Training loss: 1.6746...  0.1280 sec/batch\n",
      "Epoch: 15/20...  Training Step: 57200...  Training loss: 1.7382...  0.1005 sec/batch\n",
      "Epoch: 15/20...  Training Step: 57400...  Training loss: 1.6424...  0.1097 sec/batch\n",
      "Epoch: 15/20...  Training Step: 57600...  Training loss: 1.5129...  0.2276 sec/batch\n",
      "Epoch: 15/20...  Training Step: 57800...  Training loss: 1.7006...  0.1382 sec/batch\n",
      "Epoch: 15/20...  Training Step: 58000...  Training loss: 1.7963...  0.1277 sec/batch\n",
      "Epoch: 15/20...  Training Step: 58200...  Training loss: 1.4412...  0.1657 sec/batch\n",
      "Epoch: 15/20...  Training Step: 58400...  Training loss: 1.6900...  0.1643 sec/batch\n",
      "Epoch: 15/20...  Training Step: 58600...  Training loss: 1.7326...  0.2676 sec/batch\n",
      "Epoch: 15/20...  Training Step: 58800...  Training loss: 1.5997...  0.1817 sec/batch\n",
      "Epoch: 15/20...  Training Step: 59000...  Training loss: 1.7135...  0.1007 sec/batch\n",
      "Epoch: 15/20...  Training Step: 59200...  Training loss: 1.5883...  0.1273 sec/batch\n",
      "Epoch: 15/20...  Training Step: 59400...  Training loss: 1.8331...  0.1310 sec/batch\n",
      "Epoch: 16/20...  Training Step: 59600...  Training loss: 1.7393...  0.1307 sec/batch\n",
      "Epoch: 16/20...  Training Step: 59800...  Training loss: 1.5971...  0.1303 sec/batch\n",
      "Epoch: 16/20...  Training Step: 60000...  Training loss: 1.7295...  0.1666 sec/batch\n",
      "Epoch: 16/20...  Training Step: 60200...  Training loss: 1.4445...  0.1289 sec/batch\n",
      "Epoch: 16/20...  Training Step: 60400...  Training loss: 1.6966...  0.1296 sec/batch\n",
      "Epoch: 16/20...  Training Step: 60600...  Training loss: 1.5922...  0.1373 sec/batch\n",
      "Epoch: 16/20...  Training Step: 60800...  Training loss: 1.4236...  0.1382 sec/batch\n",
      "Epoch: 16/20...  Training Step: 61000...  Training loss: 1.6753...  0.1350 sec/batch\n",
      "Epoch: 16/20...  Training Step: 61200...  Training loss: 1.5596...  0.1413 sec/batch\n",
      "Epoch: 16/20...  Training Step: 61400...  Training loss: 1.6557...  0.1348 sec/batch\n",
      "Epoch: 16/20...  Training Step: 61600...  Training loss: 1.7909...  0.1243 sec/batch\n",
      "Epoch: 16/20...  Training Step: 61800...  Training loss: 1.6194...  0.1269 sec/batch\n",
      "Epoch: 16/20...  Training Step: 62000...  Training loss: 1.7053...  0.1344 sec/batch\n",
      "Epoch: 16/20...  Training Step: 62200...  Training loss: 1.7718...  0.1284 sec/batch\n",
      "Epoch: 16/20...  Training Step: 62400...  Training loss: 1.7713...  0.1523 sec/batch\n",
      "Epoch: 16/20...  Training Step: 62600...  Training loss: 1.6464...  0.1250 sec/batch\n",
      "Epoch: 16/20...  Training Step: 62800...  Training loss: 1.6064...  0.1226 sec/batch\n",
      "Epoch: 16/20...  Training Step: 63000...  Training loss: 1.5249...  0.1391 sec/batch\n",
      "Epoch: 16/20...  Training Step: 63200...  Training loss: 1.7138...  0.1276 sec/batch\n",
      "Epoch: 16/20...  Training Step: 63400...  Training loss: 1.5604...  0.1261 sec/batch\n",
      "Epoch: 17/20...  Training Step: 63600...  Training loss: 1.5940...  0.1640 sec/batch\n",
      "Epoch: 17/20...  Training Step: 63800...  Training loss: 1.6237...  0.1271 sec/batch\n",
      "Epoch: 17/20...  Training Step: 64000...  Training loss: 1.6967...  0.1223 sec/batch\n",
      "Epoch: 17/20...  Training Step: 64200...  Training loss: 1.6658...  0.1372 sec/batch\n",
      "Epoch: 17/20...  Training Step: 64400...  Training loss: 1.5483...  0.1284 sec/batch\n",
      "Epoch: 17/20...  Training Step: 64600...  Training loss: 1.4931...  0.1357 sec/batch\n",
      "Epoch: 17/20...  Training Step: 64800...  Training loss: 1.4721...  0.1265 sec/batch\n",
      "Epoch: 17/20...  Training Step: 65000...  Training loss: 1.6541...  0.1203 sec/batch\n",
      "Epoch: 17/20...  Training Step: 65200...  Training loss: 1.5675...  0.1263 sec/batch\n",
      "Epoch: 17/20...  Training Step: 65400...  Training loss: 1.7502...  0.1256 sec/batch\n",
      "Epoch: 17/20...  Training Step: 65600...  Training loss: 1.5838...  0.1261 sec/batch\n",
      "Epoch: 17/20...  Training Step: 65800...  Training loss: 1.5256...  0.1396 sec/batch\n",
      "Epoch: 17/20...  Training Step: 66000...  Training loss: 1.5978...  0.1385 sec/batch\n",
      "Epoch: 17/20...  Training Step: 66200...  Training loss: 1.5505...  0.1284 sec/batch\n",
      "Epoch: 17/20...  Training Step: 66400...  Training loss: 1.5573...  0.1275 sec/batch\n",
      "Epoch: 17/20...  Training Step: 66600...  Training loss: 1.6621...  0.1444 sec/batch\n",
      "Epoch: 17/20...  Training Step: 66800...  Training loss: 1.5419...  0.1290 sec/batch\n",
      "Epoch: 17/20...  Training Step: 67000...  Training loss: 1.4831...  0.1189 sec/batch\n",
      "Epoch: 17/20...  Training Step: 67200...  Training loss: 1.8269...  0.1297 sec/batch\n",
      "Epoch: 17/20...  Training Step: 67400...  Training loss: 1.6310...  0.1283 sec/batch\n",
      "Epoch: 18/20...  Training Step: 67600...  Training loss: 1.5861...  0.1346 sec/batch\n",
      "Epoch: 18/20...  Training Step: 67800...  Training loss: 1.7263...  0.1321 sec/batch\n",
      "Epoch: 18/20...  Training Step: 68000...  Training loss: 1.6177...  0.1266 sec/batch\n",
      "Epoch: 18/20...  Training Step: 68200...  Training loss: 1.6718...  0.1295 sec/batch\n",
      "Epoch: 18/20...  Training Step: 68400...  Training loss: 1.6767...  0.1306 sec/batch\n",
      "Epoch: 18/20...  Training Step: 68600...  Training loss: 1.5775...  0.1985 sec/batch\n",
      "Epoch: 18/20...  Training Step: 68800...  Training loss: 1.5974...  0.2005 sec/batch\n",
      "Epoch: 18/20...  Training Step: 69000...  Training loss: 1.5685...  0.1439 sec/batch\n",
      "Epoch: 18/20...  Training Step: 69200...  Training loss: 1.6291...  0.1411 sec/batch\n",
      "Epoch: 18/20...  Training Step: 69400...  Training loss: 1.5340...  0.1480 sec/batch\n",
      "Epoch: 18/20...  Training Step: 69600...  Training loss: 1.6114...  0.1552 sec/batch\n",
      "Epoch: 18/20...  Training Step: 69800...  Training loss: 1.6183...  0.1270 sec/batch\n",
      "Epoch: 18/20...  Training Step: 70000...  Training loss: 1.6665...  0.1313 sec/batch\n",
      "Epoch: 18/20...  Training Step: 70200...  Training loss: 1.5447...  0.1537 sec/batch\n",
      "Epoch: 18/20...  Training Step: 70400...  Training loss: 1.6346...  0.1403 sec/batch\n",
      "Epoch: 18/20...  Training Step: 70600...  Training loss: 1.5650...  0.1371 sec/batch\n",
      "Epoch: 18/20...  Training Step: 70800...  Training loss: 1.6270...  0.1358 sec/batch\n",
      "Epoch: 18/20...  Training Step: 71000...  Training loss: 1.5602...  0.1383 sec/batch\n",
      "Epoch: 18/20...  Training Step: 71200...  Training loss: 1.6183...  0.1463 sec/batch\n",
      "Epoch: 18/20...  Training Step: 71400...  Training loss: 1.8589...  0.1664 sec/batch\n",
      "Epoch: 19/20...  Training Step: 71600...  Training loss: 1.5478...  0.1498 sec/batch\n",
      "Epoch: 19/20...  Training Step: 71800...  Training loss: 1.6189...  0.1545 sec/batch\n",
      "Epoch: 19/20...  Training Step: 72000...  Training loss: 1.4388...  0.1400 sec/batch\n",
      "Epoch: 19/20...  Training Step: 72200...  Training loss: 1.5475...  0.1378 sec/batch\n",
      "Epoch: 19/20...  Training Step: 72400...  Training loss: 1.4979...  0.1342 sec/batch\n",
      "Epoch: 19/20...  Training Step: 72600...  Training loss: 1.7191...  0.1413 sec/batch\n",
      "Epoch: 19/20...  Training Step: 72800...  Training loss: 1.5663...  0.1261 sec/batch\n",
      "Epoch: 19/20...  Training Step: 73000...  Training loss: 1.6526...  0.1489 sec/batch\n",
      "Epoch: 19/20...  Training Step: 73200...  Training loss: 1.6724...  0.1425 sec/batch\n",
      "Epoch: 19/20...  Training Step: 73400...  Training loss: 1.8797...  0.1484 sec/batch\n",
      "Epoch: 19/20...  Training Step: 73600...  Training loss: 1.5905...  0.1337 sec/batch\n",
      "Epoch: 19/20...  Training Step: 73800...  Training loss: 1.6822...  0.1287 sec/batch\n",
      "Epoch: 19/20...  Training Step: 74000...  Training loss: 1.6946...  0.1337 sec/batch\n",
      "Epoch: 19/20...  Training Step: 74200...  Training loss: 1.4677...  0.1272 sec/batch\n",
      "Epoch: 19/20...  Training Step: 74400...  Training loss: 1.6202...  0.1357 sec/batch\n",
      "Epoch: 19/20...  Training Step: 74600...  Training loss: 1.7150...  0.1291 sec/batch\n",
      "Epoch: 19/20...  Training Step: 74800...  Training loss: 1.5864...  0.1297 sec/batch\n",
      "Epoch: 19/20...  Training Step: 75000...  Training loss: 1.5362...  0.1365 sec/batch\n",
      "Epoch: 19/20...  Training Step: 75200...  Training loss: 1.5956...  0.1406 sec/batch\n",
      "Epoch: 19/20...  Training Step: 75400...  Training loss: 1.6822...  0.1151 sec/batch\n",
      "Epoch: 20/20...  Training Step: 75600...  Training loss: 1.6497...  0.1338 sec/batch\n",
      "Epoch: 20/20...  Training Step: 75800...  Training loss: 1.7050...  0.1507 sec/batch\n",
      "Epoch: 20/20...  Training Step: 76000...  Training loss: 1.6083...  0.1331 sec/batch\n",
      "Epoch: 20/20...  Training Step: 76200...  Training loss: 1.5696...  0.1367 sec/batch\n",
      "Epoch: 20/20...  Training Step: 76400...  Training loss: 1.4754...  0.1428 sec/batch\n",
      "Epoch: 20/20...  Training Step: 76600...  Training loss: 1.5321...  0.1383 sec/batch\n",
      "Epoch: 20/20...  Training Step: 76800...  Training loss: 1.6202...  0.2364 sec/batch\n",
      "Epoch: 20/20...  Training Step: 77000...  Training loss: 1.6348...  0.2125 sec/batch\n",
      "Epoch: 20/20...  Training Step: 77200...  Training loss: 1.6620...  0.2180 sec/batch\n",
      "Epoch: 20/20...  Training Step: 77400...  Training loss: 1.6582...  0.1492 sec/batch\n",
      "Epoch: 20/20...  Training Step: 77600...  Training loss: 1.5201...  0.1315 sec/batch\n",
      "Epoch: 20/20...  Training Step: 77800...  Training loss: 1.5585...  0.1445 sec/batch\n",
      "Epoch: 20/20...  Training Step: 78000...  Training loss: 1.5280...  0.1561 sec/batch\n",
      "Epoch: 20/20...  Training Step: 78200...  Training loss: 1.6473...  0.1469 sec/batch\n",
      "Epoch: 20/20...  Training Step: 78400...  Training loss: 1.5146...  0.1307 sec/batch\n",
      "Epoch: 20/20...  Training Step: 78600...  Training loss: 1.6580...  0.1519 sec/batch\n",
      "Epoch: 20/20...  Training Step: 78800...  Training loss: 1.5046...  0.1631 sec/batch\n",
      "Epoch: 20/20...  Training Step: 79000...  Training loss: 1.3609...  0.1437 sec/batch\n",
      "Epoch: 20/20...  Training Step: 79200...  Training loss: 1.5557...  0.1357 sec/batch\n",
      "Epoch: 20/20...  Training Step: 79400...  Training loss: 1.7832...  0.1149 sec/batch\n"
     ]
    }
   ],
   "source": [
    "epochs = 20\n",
    "# Save every N iterations\n",
    "save_every_n = 200\n",
    "training_losses = []\n",
    "\n",
    "model = CharRNN(len(vocab), batch_size=batch_size, num_steps=num_steps,\n",
    "                lstm_size=lstm_size, num_layers=num_layers, \n",
    "                learning_rate=learning_rate)\n",
    "saver = tf.train.Saver(max_to_keep=100)\n",
    "\n",
    "with tf.Session() as sess:\n",
    "    sess.run(tf.global_variables_initializer())\n",
    "    \n",
    "    # Use the line below to load a checkpoint and resume training\n",
    "    #saver.restore(sess, 'checkpoints/______.ckpt')\n",
    "    counter = 0\n",
    "    for e in range(epochs):\n",
    "        # Train network\n",
    "        new_state = sess.run(model.initial_state)\n",
    "        loss = 0\n",
    "        for x, y in get_batches(encoded, batch_size, num_steps):\n",
    "            counter += 1\n",
    "            start = time.time()\n",
    "            feed = {model.inputs: x,\n",
    "                    model.targets: y,\n",
    "                    model.keep_prob: keep_prob,\n",
    "                    model.initial_state: new_state}\n",
    "            batch_loss, new_state, _ = sess.run([model.loss, \n",
    "                                                 model.final_state, \n",
    "                                                 model.optimizer], \n",
    "                                                 feed_dict=feed)\n",
    "            \n",
    "            end = time.time()\n",
    "            training_losses.append(batch_loss)\n",
    "        \n",
    "            if (counter % save_every_n == 0):\n",
    "                saver.save(sess, \n",
    "                           \"checkpoints/i{}_l{}.ckpt\".format(counter, \n",
    "                                                             lstm_size))\n",
    "                print('Epoch: {}/{}... '.format(e + 1, epochs),\n",
    "                      'Training Step: {}... '.format(counter),\n",
    "                      'Training loss: {:.4f}... '.format(batch_loss),\n",
    "                      '{:.4f} sec/batch'.format((end-start)))\n",
    "\n",
    "    saver.save(sess, \"checkpoints/i{}_l{}.ckpt\".format(counter, lstm_size))"
   ]
  },
  {
   "cell_type": "code",
   "execution_count": null,
   "metadata": {
    "collapsed": true
   },
   "outputs": [],
   "source": [
    "plt.plot(training_losses)"
   ]
  },
  {
   "cell_type": "markdown",
   "metadata": {},
   "source": [
    "#### Saved checkpoints\n",
    "\n",
    "Read up on saving and loading checkpoints here: https://www.tensorflow.org/programmers_guide/variables"
   ]
  },
  {
   "cell_type": "code",
   "execution_count": null,
   "metadata": {
    "collapsed": true
   },
   "outputs": [],
   "source": [
    "tf.train.get_checkpoint_state('checkpoints')"
   ]
  },
  {
   "cell_type": "markdown",
   "metadata": {},
   "source": [
    "## Sampling\n",
    "\n",
    "Now that the network is trained, we'll can use it to generate new text. The idea is that we pass in a character, then the network will predict the next character. We can use the new one, to predict the next one. And we keep doing this to generate all new text. I also included some functionality to prime the network with some text by passing in a string and building up a state from that.\n",
    "\n",
    "The network gives us predictions for each character. To reduce noise and make things a little less random, I'm going to only choose a new character from the top N most likely characters.\n",
    "\n"
   ]
  },
  {
   "cell_type": "code",
   "execution_count": null,
   "metadata": {
    "collapsed": true
   },
   "outputs": [],
   "source": [
    "def pick_top_n(preds, vocab_size, top_n=5):\n",
    "    p = np.squeeze(preds)\n",
    "    p[np.argsort(p)[:-top_n]] = 0\n",
    "    p = p / np.sum(p)\n",
    "    c = np.random.choice(vocab_size, 1, p=p)[0]\n",
    "    return c"
   ]
  },
  {
   "cell_type": "code",
   "execution_count": null,
   "metadata": {
    "collapsed": true
   },
   "outputs": [],
   "source": [
    "def sample(checkpoint, n_samples, lstm_size, vocab_size, prime=\"The \"):\n",
    "    samples = [c for c in prime]\n",
    "    model = CharRNN(len(vocab), lstm_size=lstm_size, sampling=True)\n",
    "    saver = tf.train.Saver()\n",
    "    with tf.Session() as sess:\n",
    "        saver.restore(sess, checkpoint)\n",
    "        new_state = sess.run(model.initial_state)\n",
    "        for c in prime:\n",
    "            x = np.zeros((1, 1))\n",
    "            x[0,0] = vocab_to_int[c]\n",
    "            feed = {model.inputs: x,\n",
    "                    model.keep_prob: 1.,\n",
    "                    model.initial_state: new_state}\n",
    "            preds, new_state = sess.run([model.prediction, model.final_state], \n",
    "                                         feed_dict=feed)\n",
    "\n",
    "        c = pick_top_n(preds, len(vocab))\n",
    "        samples.append(int_to_vocab[c])\n",
    "\n",
    "        for i in range(n_samples):\n",
    "            x[0,0] = c\n",
    "            feed = {model.inputs: x,\n",
    "                    model.keep_prob: 1.,\n",
    "                    model.initial_state: new_state}\n",
    "            preds, new_state = sess.run([model.prediction, model.final_state], \n",
    "                                         feed_dict=feed)\n",
    "\n",
    "            c = pick_top_n(preds, len(vocab))\n",
    "            samples.append(int_to_vocab[c])\n",
    "        \n",
    "    return ''.join(samples)"
   ]
  },
  {
   "cell_type": "markdown",
   "metadata": {},
   "source": [
    "Here, pass in the path to a checkpoint and sample from the network."
   ]
  },
  {
   "cell_type": "code",
   "execution_count": null,
   "metadata": {
    "collapsed": true
   },
   "outputs": [],
   "source": [
    "tf.train.latest_checkpoint('checkpoints')"
   ]
  },
  {
   "cell_type": "code",
   "execution_count": null,
   "metadata": {
    "collapsed": true
   },
   "outputs": [],
   "source": [
    "checkpoint = tf.train.latest_checkpoint('checkpoints')\n",
    "samp = sample(checkpoint, 2000, lstm_size, len(vocab), prime=\"Far\")\n",
    "print(samp)"
   ]
  },
  {
   "cell_type": "code",
   "execution_count": null,
   "metadata": {
    "collapsed": true
   },
   "outputs": [],
   "source": [
    "checkpoint = 'checkpoints/i200_l512.ckpt'\n",
    "samp = sample(checkpoint, 1000, lstm_size, len(vocab), prime=\"Far\")\n",
    "print(samp)"
   ]
  },
  {
   "cell_type": "code",
   "execution_count": null,
   "metadata": {
    "collapsed": true
   },
   "outputs": [],
   "source": [
    "checkpoint = 'checkpoints/i600_l512.ckpt'\n",
    "samp = sample(checkpoint, 1000, lstm_size, len(vocab), prime=\"Far\")\n",
    "print(samp)"
   ]
  },
  {
   "cell_type": "code",
   "execution_count": null,
   "metadata": {
    "collapsed": true
   },
   "outputs": [],
   "source": [
    "checkpoint = 'checkpoints/i1200_l512.ckpt'\n",
    "samp = sample(checkpoint, 1000, lstm_size, len(vocab), prime=\"Far\")\n",
    "print(samp)"
   ]
  }
 ],
 "metadata": {
  "kernelspec": {
   "display_name": "Python 3",
   "language": "python",
   "name": "python3"
  },
  "language_info": {
   "codemirror_mode": {
    "name": "ipython",
    "version": 3
   },
   "file_extension": ".py",
   "mimetype": "text/x-python",
   "name": "python",
   "nbconvert_exporter": "python",
   "pygments_lexer": "ipython3",
   "version": "3.6.1"
  }
 },
 "nbformat": 4,
 "nbformat_minor": 2
}
