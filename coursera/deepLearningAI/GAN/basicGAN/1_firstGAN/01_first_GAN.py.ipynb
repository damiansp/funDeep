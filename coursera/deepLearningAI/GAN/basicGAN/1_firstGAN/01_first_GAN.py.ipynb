{
 "cells": [
  {
   "cell_type": "markdown",
   "metadata": {},
   "source": [
    "Derived from the notebook found here: https://github.com/Sachin-Wani/deeplearning.ai-GANs-Specialization/blob/master/Course%201%20-%20Build%20Basic%20Generative%20Adversarial%20Networks%20(GANs)/Week%201/C1W1_Your_First_GAN.ipynb"
   ]
  },
  {
   "cell_type": "code",
   "execution_count": 17,
   "metadata": {},
   "outputs": [],
   "source": [
    "import matplotlib.pyplot as plt\n",
    "\n",
    "import torch\n",
    "from torch.nn import (\n",
    "    BatchNorm1d, Linear, Module, ReLU, Sequential, Sigmoid)\n",
    "from torchvision import transforms\n",
    "from torch.utils.data import DataLoader\n",
    "from torchvision.datasets import MNIST\n",
    "from torchvision.utils import make_grid\n",
    "from tqdm.auto import tqdm"
   ]
  },
  {
   "cell_type": "code",
   "execution_count": 3,
   "metadata": {},
   "outputs": [
    {
     "data": {
      "text/plain": [
       "<torch._C.Generator at 0x7fbb9e092250>"
      ]
     },
     "execution_count": 3,
     "metadata": {},
     "output_type": "execute_result"
    }
   ],
   "source": [
    "torch.manual_seed(0)"
   ]
  },
  {
   "cell_type": "code",
   "execution_count": 6,
   "metadata": {},
   "outputs": [],
   "source": [
    "def plot_tensor_imgs(img_tensor, n_img=25, size=(1, 28, 28)):\n",
    "    img = img_tensor.detach().cpu().view(-1, *size)\n",
    "    img_grid = make_grid(img[:n_img], nrow=5)\n",
    "    plt.imshow(img_grid.permute(1, 2, 0).squeeze())"
   ]
  },
  {
   "cell_type": "markdown",
   "metadata": {},
   "source": [
    "### Generator"
   ]
  },
  {
   "cell_type": "code",
   "execution_count": 12,
   "metadata": {},
   "outputs": [],
   "source": [
    "def get_generator_block(in_dim, out_dim):\n",
    "    '''\n",
    "    Function for returning a block of the generator's neural network\n",
    "    given input and output dims.\n",
    "    Args:\n",
    "        in_dim (int): dim of the input vector\n",
    "        out_dim (int): dim of the output vector\n",
    "    Returns:\n",
    "        a generator neural network layer\n",
    "    '''\n",
    "    \n",
    "    return Sequential(Linear(in_dim, out_dim),\n",
    "                      BatchNorm1d(out_dim),\n",
    "                      ReLU(inplace=True))"
   ]
  },
  {
   "cell_type": "code",
   "execution_count": 13,
   "metadata": {},
   "outputs": [
    {
     "name": "stdout",
     "output_type": "stream",
     "text": [
      "Success!\n"
     ]
    }
   ],
   "source": [
    "def test_gen_block(in_features, out_features, num_test=1000):\n",
    "    block = get_generator_block(in_features, out_features)\n",
    "    assert len(block) == 3, 'block has wrong len'\n",
    "    assert type(block[0]) == nn.Linear, 'block[0] not Linear'\n",
    "    assert type(block[1]) == nn.BatchNorm1d, 'block[1] not BatchNorm'\n",
    "    assert type(block[2]) == nn.ReLU, 'block[2] not ReLU'\n",
    "    test_input = torch.randn(num_test, in_features)\n",
    "    test_output = block(test_input)\n",
    "    assert tuple(test_output.shape) == (num_test, out_features), \\\n",
    "        (f'output_shape = {tuple(test_output.shape)}, '\n",
    "         f'expected {(n_test, out_features)}')\n",
    "    assert test_output.std() > 0.55, 'output sd <= 0.55'\n",
    "    assert test_output.std() < 0.65, 'output sd >= 0.65'\n",
    "\n",
    "test_gen_block(25, 12)\n",
    "test_gen_block(15, 28)\n",
    "print(\"Success!\")"
   ]
  },
  {
   "cell_type": "code",
   "execution_count": 16,
   "metadata": {},
   "outputs": [
    {
     "data": {
      "text/plain": [
       "1024"
      ]
     },
     "execution_count": 16,
     "metadata": {},
     "output_type": "execute_result"
    }
   ],
   "source": [
    "128*8"
   ]
  },
  {
   "cell_type": "code",
   "execution_count": 22,
   "metadata": {},
   "outputs": [],
   "source": [
    "class Generator(Module):\n",
    "    '''\n",
    "    Generator Class\n",
    "    Vals:\n",
    "        z_dim (int): dim of the noise vector\n",
    "        img_dim: the dimension of the images, fitted for the dataset used\n",
    "          (Defaults to MNIST images: 28 x 28 = 784)\n",
    "        hidden_dim (int): dime of inner layer\n",
    "    '''\n",
    "    def __init__(self, z_dim=10, img_dim=28*28, hidden_dim=128):\n",
    "        super().__init__()\n",
    "        self.gen = Sequential(\n",
    "            get_generator_block(z_dim, hidden_dim),\n",
    "            get_generator_block(hidden_dim, 2*hidden_dim),\n",
    "            get_generator_block(2*hidden_dim, 4*hidden_dim),\n",
    "            get_generator_block(4*hidden_dim, 8*hidden_dim),\n",
    "            Linear(8*hidden_dim, img_dim),\n",
    "            Sigmoid())\n",
    "        \n",
    "    def forward(self, noise):\n",
    "        '''\n",
    "        Complete a forward pass of the generator: Given a noise tensor, \n",
    "        returns generated images.\n",
    "        Args:\n",
    "            noise: a noise tensor with dims (n_samples, z_dim)\n",
    "        '''\n",
    "        return self.get(noise)\n",
    "    \n",
    "    def get_gen(self):\n",
    "        return self.gen"
   ]
  },
  {
   "cell_type": "code",
   "execution_count": 23,
   "metadata": {},
   "outputs": [
    {
     "name": "stdout",
     "output_type": "stream",
     "text": [
      "Success!\n"
     ]
    }
   ],
   "source": [
    "def test_generator(z_dim, im_dim, hidden_dim, num_test=10000):\n",
    "    gen = Generator(z_dim, im_dim, hidden_dim).get_gen()\n",
    "    \n",
    "    # Check there are six modules in the sequential part\n",
    "    assert len(gen) == 6\n",
    "    assert str(gen.__getitem__(4)).replace(' ', '') == f'Linear(in_features={hidden_dim * 8},out_features={im_dim},bias=True)'\n",
    "    assert str(gen.__getitem__(5)).replace(' ', '') == 'Sigmoid()'\n",
    "    test_input = torch.randn(num_test, z_dim)\n",
    "    test_output = gen(test_input)\n",
    "\n",
    "    # Check that the output shape is correct\n",
    "    assert tuple(test_output.shape) == (num_test, im_dim)\n",
    "    assert test_output.max() < 1, \"Make sure to use a sigmoid\"\n",
    "    assert test_output.min() > 0, \"Make sure to use a sigmoid\"\n",
    "    assert test_output.std() > 0.05, \"Don't use batchnorm here\"\n",
    "    assert test_output.std() < 0.15, \"Don't use batchnorm here\"\n",
    "\n",
    "test_generator(5, 10, 20)\n",
    "test_generator(20, 8, 24)\n",
    "print(\"Success!\")"
   ]
  },
  {
   "cell_type": "code",
   "execution_count": null,
   "metadata": {},
   "outputs": [],
   "source": []
  }
 ],
 "metadata": {
  "kernelspec": {
   "display_name": "Python 3",
   "language": "python",
   "name": "python3"
  },
  "language_info": {
   "codemirror_mode": {
    "name": "ipython",
    "version": 3
   },
   "file_extension": ".py",
   "mimetype": "text/x-python",
   "name": "python",
   "nbconvert_exporter": "python",
   "pygments_lexer": "ipython3",
   "version": "3.8.5"
  }
 },
 "nbformat": 4,
 "nbformat_minor": 4
}
