{
 "cells": [
  {
   "cell_type": "code",
   "execution_count": 45,
   "metadata": {},
   "outputs": [],
   "source": [
    "import matplotlib.pyplot as plt\n",
    "import numpy as np\n",
    "import pandas as pd\n",
    "import pydot\n",
    "from   sklearn.model_selection import train_test_split\n",
    "import tensorflow as tf\n",
    "from   tensorflow.keras.layers import Dense, Input, Layer\n",
    "from   tensorflow.keras.metrics import RootMeanSquaredError as RMSE\n",
    "from   tensorflow.keras.models import Model\n",
    "from   tensorflow.keras.optimizers import SGD\n",
    "from   tensorflow.python.keras.utils.vis_utils import plot_model"
   ]
  },
  {
   "cell_type": "code",
   "execution_count": 24,
   "metadata": {},
   "outputs": [],
   "source": [
    "URL = ('https://archive.ics.uci.edu/ml/machine-learning-databases/00242/'\n",
    "       'ENB2012_data.xlsx')\n",
    "VARS = {'X1': 'relative_compactness',\n",
    "        'X2': 'surface_area',\n",
    "        'X3': 'wall_area',\n",
    "        'X4': 'roof_area',\n",
    "        'X5': 'overall_height',\n",
    "        'X6': 'orientation',\n",
    "        'X7': 'glazing_area',\n",
    "        'X8': 'glazing_area_distribution',\n",
    "        'Y1': 'heatingLoad',\n",
    "        'Y2': 'coolingLoad'}\n",
    "DATA = '../data/energy_efficiency.csv'"
   ]
  },
  {
   "cell_type": "code",
   "execution_count": 49,
   "metadata": {},
   "outputs": [],
   "source": [
    "ETA = 0.001\n",
    "EPOCHS = 2000\n",
    "BATCH = 16"
   ]
  },
  {
   "cell_type": "code",
   "execution_count": 18,
   "metadata": {},
   "outputs": [],
   "source": [
    "def format_output(data):\n",
    "    y1 = np.array(data.pop(VARS['Y1']))\n",
    "    y2 = np.array(data.pop(VARS['Y2']))\n",
    "    return y1, y2"
   ]
  },
  {
   "cell_type": "code",
   "execution_count": 28,
   "metadata": {},
   "outputs": [],
   "source": [
    "def norm(x, train_stats):\n",
    "    return (x - train_stats['mean']) / train_stats['std']"
   ]
  },
  {
   "cell_type": "code",
   "execution_count": 79,
   "metadata": {},
   "outputs": [],
   "source": [
    "def plot_diff(y, pred, title='', dims=[-100, 100], **kwargs):\n",
    "    plt.scatter(y, pred, **kwargs)\n",
    "    plt.title(title)\n",
    "    plt.xlabel('Ground truth')\n",
    "    plt.ylabel('Predictions')\n",
    "    plt.axis('equal')\n",
    "    plt.axis('square')\n",
    "    plt.plot(dims, dims, color='r')\n",
    "    plt.show()"
   ]
  },
  {
   "cell_type": "code",
   "execution_count": 87,
   "metadata": {},
   "outputs": [],
   "source": [
    "def plot_metrics(history, metric_name, title, ylim=5, **kwargs):\n",
    "    plt.title(title)\n",
    "    plt.ylim(0, ylim)\n",
    "    plt.plot(history.history[metric_name], color='blue', label=metric_name)\n",
    "    val_metric = f'val_{metric_name}'\n",
    "    plt.plot(history.history[val_metric], color='red', label=val_metric)\n",
    "    plt.legend()\n",
    "    plt.show()"
   ]
  },
  {
   "cell_type": "code",
   "execution_count": 57,
   "metadata": {},
   "outputs": [],
   "source": [
    "def load_data(path, test_size=0.2):\n",
    "    df = pd.read_csv(path)\n",
    "    drop = [col for col in list(df) if col.startswith('Unnamed')]\n",
    "    df.drop(drop, axis=1, inplace=True)\n",
    "    df = df.sample(frac=1).reset_index(drop=True) # shuffle\n",
    "    train, test = train_test_split(df, test_size=test_size)\n",
    "    train_stats = train.describe()\n",
    "    train_stats.pop(VARS['Y1'])\n",
    "    train_stats.pop(VARS['Y2'])\n",
    "    train_stats = train_stats.transpose()\n",
    "    train_Y = format_output(train)\n",
    "    test_Y = format_output(test)\n",
    "    norm_train_X = norm(train, train_stats)\n",
    "    norm_test_X = norm(test, train_stats)\n",
    "    return norm_train_X, train_Y, norm_test_X, test_Y #, train_stats"
   ]
  },
  {
   "cell_type": "code",
   "execution_count": 58,
   "metadata": {},
   "outputs": [],
   "source": [
    "norm_train_X, train_Y, norm_test_X, test_Y = load_data(DATA)"
   ]
  },
  {
   "cell_type": "code",
   "execution_count": 59,
   "metadata": {},
   "outputs": [],
   "source": [
    "def build_model(input_shape):\n",
    "    input_layer = Input(shape=input_shape)\n",
    "    d1 = Dense(128, activation='relu')(input_layer)\n",
    "    d2 = Dense(128, activation='relu')(d1)\n",
    "    y1 = Dense(1, name='y1')(d2)\n",
    "    d3 = Dense(64, activation='relu')(d2)\n",
    "    y2 = Dense(1, name='y2')(d3)\n",
    "    mod = Model(inputs=input_layer, outputs=[y1, y2])\n",
    "    return mod"
   ]
  },
  {
   "cell_type": "code",
   "execution_count": 60,
   "metadata": {},
   "outputs": [
    {
     "name": "stdout",
     "output_type": "stream",
     "text": [
      "Model: \"functional_5\"\n",
      "__________________________________________________________________________________________________\n",
      "Layer (type)                    Output Shape         Param #     Connected to                     \n",
      "==================================================================================================\n",
      "input_4 (InputLayer)            [(None, 8)]          0                                            \n",
      "__________________________________________________________________________________________________\n",
      "dense_9 (Dense)                 (None, 128)          1152        input_4[0][0]                    \n",
      "__________________________________________________________________________________________________\n",
      "dense_10 (Dense)                (None, 128)          16512       dense_9[0][0]                    \n",
      "__________________________________________________________________________________________________\n",
      "dense_11 (Dense)                (None, 64)           8256        dense_10[0][0]                   \n",
      "__________________________________________________________________________________________________\n",
      "y1 (Dense)                      (None, 1)            129         dense_10[0][0]                   \n",
      "__________________________________________________________________________________________________\n",
      "y2 (Dense)                      (None, 1)            65          dense_11[0][0]                   \n",
      "==================================================================================================\n",
      "Total params: 26,114\n",
      "Trainable params: 26,114\n",
      "Non-trainable params: 0\n",
      "__________________________________________________________________________________________________\n",
      "None\n"
     ]
    }
   ],
   "source": [
    "input_shape = (norm_train_X.shape[1],)\n",
    "mod = build_model(input_shape)\n",
    "print(mod.summary())"
   ]
  },
  {
   "cell_type": "code",
   "execution_count": 61,
   "metadata": {},
   "outputs": [],
   "source": [
    "optimizer = SGD(lr=ETA)\n",
    "mod.compile(optimizer=optimizer, \n",
    "            loss={'y1': 'mse', 'y2': 'mse'}, \n",
    "            metrics={'y1': RMSE(), 'y2': RMSE()})"
   ]
  },
  {
   "cell_type": "code",
   "execution_count": 62,
   "metadata": {},
   "outputs": [],
   "source": [
    "# Us. unnecessary, but some versions of TF may insert an empty layer\n",
    "# that breaks plot_model()\n",
    "mod._layers = [layer for layer in mod._layers if isinstance(layer, Layer)]"
   ]
  },
  {
   "cell_type": "code",
   "execution_count": 63,
   "metadata": {},
   "outputs": [
    {
     "name": "stdout",
     "output_type": "stream",
     "text": [
      "('Failed to import pydot. You must `pip install pydot` and install graphviz (https://graphviz.gitlab.io/download/), ', 'for `pydotprint` to work.')\n"
     ]
    }
   ],
   "source": [
    "plot_model(mod)"
   ]
  },
  {
   "cell_type": "code",
   "execution_count": 64,
   "metadata": {},
   "outputs": [
    {
     "name": "stdout",
     "output_type": "stream",
     "text": [
      "('Failed to import pydot. You must `pip install pydot` and install graphviz (https://graphviz.gitlab.io/download/), ', 'for `pydotprint` to work.')\n"
     ]
    }
   ],
   "source": [
    "plot_model(mod, show_shapes=True, show_layer_names=True, to_file='mod.png')"
   ]
  },
  {
   "cell_type": "code",
   "execution_count": 67,
   "metadata": {},
   "outputs": [],
   "source": [
    "history = mod.fit(norm_train_X, \n",
    "                  train_Y, \n",
    "                  epochs=EPOCHS, \n",
    "                  batch_size=BATCH, \n",
    "                  validation_data=(norm_test_X, test_Y),\n",
    "                  verbose=0)"
   ]
  },
  {
   "cell_type": "code",
   "execution_count": 72,
   "metadata": {},
   "outputs": [
    {
     "name": "stdout",
     "output_type": "stream",
     "text": [
      "5/5 [==============================] - 0s 768us/step - loss: 0.5379 - y1_loss: 0.1972 - y2_loss: 0.3406 - y1_root_mean_squared_error: 0.4441 - y2_root_mean_squared_error: 0.5836\n",
      "\n",
      "Loss: 0.53786\n",
      "Y1:\n",
      "  loss: 0.19725, rmse: 0.44413\n",
      "Y2:\n",
      "        0.34061        0.58362\n"
     ]
    }
   ],
   "source": [
    "loss, y1_loss, y2_loss, y1_rmse, y2_rmse = mod.evaluate(x=norm_test_X, \n",
    "                                                        y=test_Y)\n",
    "print(f'\\nLoss: {loss:.5f}\\n'\n",
    "      f'Y1:\\n  loss: {y1_loss:.5f}, rmse: {y1_rmse:.5f}\\n'\n",
    "      f'Y2:\\n        {y2_loss:.5f}        {y2_rmse:.5f}')"
   ]
  },
  {
   "cell_type": "code",
   "execution_count": 80,
   "metadata": {},
   "outputs": [
    {
     "data": {
      "image/png": "[encoded data removed]",
      "text/plain": [
       "<Figure size 432x288 with 1 Axes>"
      ]
     },
     "metadata": {
      "needs_background": "light"
     },
     "output_type": "display_data"
    }
   ],
   "source": [
    "preds = mod.predict(norm_test_X)\n",
    "plot_diff(test_Y[0], preds[0], title=VARS['Y1'], alpha=0.4)"
   ]
  },
  {
   "cell_type": "code",
   "execution_count": 81,
   "metadata": {},
   "outputs": [
    {
     "data": {
      "image/png": "[encoded data removed]",
      "text/plain": [
       "<Figure size 432x288 with 1 Axes>"
      ]
     },
     "metadata": {
      "needs_background": "light"
     },
     "output_type": "display_data"
    }
   ],
   "source": [
    "preds = mod.predict(norm_test_X)\n",
    "plot_diff(test_Y[1], preds[1], title=VARS['Y2'], alpha=0.4)"
   ]
  },
  {
   "cell_type": "code",
   "execution_count": 85,
   "metadata": {},
   "outputs": [
    {
     "data": {
      "text/plain": [
       "dict_keys(['loss', 'y1_loss', 'y2_loss', 'y1_root_mean_squared_error', 'y2_root_mean_squared_error', 'val_loss', 'val_y1_loss', 'val_y2_loss', 'val_y1_root_mean_squared_error', 'val_y2_root_mean_squared_error'])"
      ]
     },
     "execution_count": 85,
     "metadata": {},
     "output_type": "execute_result"
    }
   ],
   "source": [
    "history.history.keys()"
   ]
  },
  {
   "cell_type": "code",
   "execution_count": 88,
   "metadata": {},
   "outputs": [
    {
     "data": {
      "image/png": "[encoded data removed]",
      "text/plain": [
       "<Figure size 432x288 with 1 Axes>"
      ]
     },
     "metadata": {
      "needs_background": "light"
     },
     "output_type": "display_data"
    }
   ],
   "source": [
    "plot_metrics(\n",
    "    history, 'y1_root_mean_squared_error', title='y1 RMSE', ylim=6)"
   ]
  },
  {
   "cell_type": "code",
   "execution_count": 90,
   "metadata": {},
   "outputs": [
    {
     "data": {
      "image/png": "[encoded data removed]",
      "text/plain": [
       "<Figure size 432x288 with 1 Axes>"
      ]
     },
     "metadata": {
      "needs_background": "light"
     },
     "output_type": "display_data"
    }
   ],
   "source": [
    "plot_metrics(\n",
    "    history, 'y2_root_mean_squared_error', title='y2 RMSE', ylim=7)"
   ]
  },
  {
   "cell_type": "code",
   "execution_count": null,
   "metadata": {},
   "outputs": [],
   "source": []
  }
 ],
 "metadata": {
  "kernelspec": {
   "display_name": "Python 3",
   "language": "python",
   "name": "python3"
  },
  "language_info": {
   "codemirror_mode": {
    "name": "ipython",
    "version": 3
   },
   "file_extension": ".py",
   "mimetype": "text/x-python",
   "name": "python",
   "nbconvert_exporter": "python",
   "pygments_lexer": "ipython3",
   "version": "3.8.5"
  }
 },
 "nbformat": 4,
 "nbformat_minor": 4
}
