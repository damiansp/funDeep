{
 "cells": [
  {
   "cell_type": "code",
   "execution_count": 3,
   "metadata": {},
   "outputs": [],
   "source": [
    "import numpy as np\n",
    "import tensorflow as tf\n",
    "from   tensorflow.keras import Sequential\n",
    "from   tensorflow.keras.layers import Dense"
   ]
  },
  {
   "cell_type": "code",
   "execution_count": 4,
   "metadata": {},
   "outputs": [],
   "source": [
    "xs = np.array([-1.,  0., 1., 2., 3., 4.])\n",
    "ys = np.array([-3., -1., 1., 3., 5., 7.])"
   ]
  },
  {
   "cell_type": "code",
   "execution_count": 7,
   "metadata": {},
   "outputs": [
    {
     "name": "stdout",
     "output_type": "stream",
     "text": [
      "[[18.97669]]\n"
     ]
    }
   ],
   "source": [
    "mod = Sequential(Dense(units=1, input_shape=[1]))\n",
    "mod.compile(optimizer='sgd', loss='mse')\n",
    "mod.fit(xs, ys, epochs=500, verbose=0)\n",
    "print(mod.predict([10.0]))"
   ]
  },
  {
   "cell_type": "code",
   "execution_count": 11,
   "metadata": {},
   "outputs": [],
   "source": [
    "def my_huber_loss(y, pred, thresh=1):\n",
    "    err = y - pred\n",
    "    is_small_err = tf.abs(err) <= thresh\n",
    "    small_err_loss = tf.square(err) / 2\n",
    "    big_err_loss = thresh * (tf.abs(err) - (0.5*thresh))\n",
    "    return tf.where(is_small_err, small_err_loss, big_err_loss)"
   ]
  },
  {
   "cell_type": "code",
   "execution_count": 12,
   "metadata": {},
   "outputs": [
    {
     "name": "stdout",
     "output_type": "stream",
     "text": [
      "[[18.705374]]\n"
     ]
    }
   ],
   "source": [
    "mod = Sequential(Dense(units=1, input_shape=[1]))\n",
    "mod.compile(optimizer='sgd', loss=my_huber_loss)\n",
    "mod.fit(xs, ys, epochs=500, verbose=0)\n",
    "print(mod.predict([10.0]))"
   ]
  },
  {
   "cell_type": "code",
   "execution_count": null,
   "metadata": {},
   "outputs": [],
   "source": []
  }
 ],
 "metadata": {
  "kernelspec": {
   "display_name": "Python 3",
   "language": "python",
   "name": "python3"
  },
  "language_info": {
   "codemirror_mode": {
    "name": "ipython",
    "version": 3
   },
   "file_extension": ".py",
   "mimetype": "text/x-python",
   "name": "python",
   "nbconvert_exporter": "python",
   "pygments_lexer": "ipython3",
   "version": "3.8.5"
  }
 },
 "nbformat": 4,
 "nbformat_minor": 4
}
