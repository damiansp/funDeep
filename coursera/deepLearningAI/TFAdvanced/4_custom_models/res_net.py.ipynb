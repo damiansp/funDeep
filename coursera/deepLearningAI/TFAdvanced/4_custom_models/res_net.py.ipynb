{
 "cells": [
  {
   "cell_type": "code",
   "execution_count": 11,
   "metadata": {},
   "outputs": [],
   "source": [
    "import tensorflow as tf\n",
    "from   tensorflow.keras.layers import (\n",
    "    Activation, Add, BatchNormalization, Conv2D, Dense, \n",
    "    GlobalAveragePooling2D, Layer, MaxPool2D)\n",
    "from   tensorflow.keras import Model\n",
    "import tensorflow_datasets as tfds"
   ]
  },
  {
   "cell_type": "code",
   "execution_count": 17,
   "metadata": {},
   "outputs": [],
   "source": [
    "class IdentityBlock(Model):\n",
    "    def __init__(self, filters, kernel_size, name=''):\n",
    "        super().__init__(name=name)\n",
    "        self.conv1 = Conv2D(filters, kernel_size, padding='same')\n",
    "        self.bn1 = BatchNormalization()\n",
    "        self.conv2 = Conv2D(filters, kernel_size, padding='same')\n",
    "        self.bn2 = BatchNormalization()\n",
    "        self.relu = Activation('relu')\n",
    "        self.add = Add()\n",
    "        \n",
    "    def call(self, input_tensor):\n",
    "        x = self.conv1(input_tensor)\n",
    "        x = self.bn1(x)\n",
    "        x = self.relu(x)\n",
    "        x = self.conv2(x)\n",
    "        x = self.bn2(x)\n",
    "        x = self.relu(x)\n",
    "        x = self.add([x, input_tensor])\n",
    "        x = self.relu(x)\n",
    "        return x"
   ]
  },
  {
   "cell_type": "code",
   "execution_count": 19,
   "metadata": {},
   "outputs": [],
   "source": [
    "class ResNet(Model):\n",
    "    def __init__(self, n_classes):\n",
    "        super().__init__()\n",
    "        self.conv = Conv2D(64, 7, padding='same')\n",
    "        self.bn = BatchNormalization()\n",
    "        self.relu = Activation('relu')\n",
    "        self.pool = MaxPool2D((3, 3))\n",
    "        self.id1a = IdentityBlock(64, 3)\n",
    "        self.id1b = IdentityBlock(64, 3)\n",
    "        self.global_pool = GlobalAveragePooling2D()\n",
    "        self.classifier = Dense(n_classes, activation='softmax')\n",
    "        \n",
    "    def call(self, inputs):\n",
    "        x = self.conv(inputs)\n",
    "        x = self.bn(x)\n",
    "        x = self.relu(x)\n",
    "        x = self.pool(x)\n",
    "        x = self.id1a(x)\n",
    "        x = self.id1b(x)\n",
    "        x = self.global_pool(x)\n",
    "        return self.classifier(x)"
   ]
  },
  {
   "cell_type": "code",
   "execution_count": 20,
   "metadata": {},
   "outputs": [],
   "source": [
    "def preprocess(features):\n",
    "    return (tf.cast(features['image'], tf.float32) / 255., \n",
    "            features['label'])"
   ]
  },
  {
   "cell_type": "code",
   "execution_count": 21,
   "metadata": {},
   "outputs": [],
   "source": [
    "resnet = ResNet(10)\n",
    "resnet.compile(optimizer='adam', \n",
    "               loss='sparse_categorical_crossentropy',\n",
    "               metrics=['accuracy'])"
   ]
  },
  {
   "cell_type": "code",
   "execution_count": 22,
   "metadata": {},
   "outputs": [
    {
     "name": "stdout",
     "output_type": "stream",
     "text": [
      "Epoch 1/3\n",
      "1875/1875 [==============================] - 101s 54ms/step - loss: 0.1442 - accuracy: 0.9643\n",
      "Epoch 2/3\n",
      "1875/1875 [==============================] - 98s 52ms/step - loss: 0.0486 - accuracy: 0.9857\n",
      "Epoch 3/3\n",
      "1875/1875 [==============================] - 99s 53ms/step - loss: 0.0356 - accuracy: 0.9897\n"
     ]
    },
    {
     "data": {
      "text/plain": [
       "<tensorflow.python.keras.callbacks.History at 0x7fe9ca9111c0>"
      ]
     },
     "execution_count": 22,
     "metadata": {},
     "output_type": "execute_result"
    }
   ],
   "source": [
    "data_set = tfds.load('mnist', split=tfds.Split.TRAIN)\n",
    "data_set = data_set.map(preprocess).batch(32)\n",
    "resnet.fit(data_set, epochs=3)"
   ]
  },
  {
   "cell_type": "code",
   "execution_count": null,
   "metadata": {},
   "outputs": [],
   "source": []
  }
 ],
 "metadata": {
  "kernelspec": {
   "display_name": "Python 3",
   "language": "python",
   "name": "python3"
  },
  "language_info": {
   "codemirror_mode": {
    "name": "ipython",
    "version": 3
   },
   "file_extension": ".py",
   "mimetype": "text/x-python",
   "name": "python",
   "nbconvert_exporter": "python",
   "pygments_lexer": "ipython3",
   "version": "3.8.5"
  }
 },
 "nbformat": 4,
 "nbformat_minor": 4
}
