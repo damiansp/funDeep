{
 "cells": [
  {
   "cell_type": "code",
   "execution_count": 7,
   "id": "reserved-botswana",
   "metadata": {},
   "outputs": [],
   "source": [
    "import itertools\n",
    "\n",
    "import matplotlib.pyplot as plt\n",
    "from   matplotlib import ticker\n",
    "import numpy as np\n",
    "import pandas as pd\n",
    "from   sklearn.metrics import confusion_matrix\n",
    "from   sklearn.model_selection import train_test_split\n",
    "import tensorflow as tf\n",
    "from   tensorflow.keras import Model\n",
    "from   tensorflow.keras.layers import Dense, Input\n",
    "import tensorflow_datasets as tfds\n",
    "from   tqdm import tqdm"
   ]
  },
  {
   "cell_type": "code",
   "execution_count": 2,
   "id": "coupled-methodology",
   "metadata": {},
   "outputs": [],
   "source": [
    "train, info = tfds.load('fashion_mnist', split='train', with_info=True)\n",
    "test = tfds.load('fashion_mnist', split='test')\n",
    "class_names = ['T-shirt/top', 'Pants', 'Pullover', 'Dress', 'Coat',\n",
    "               'Sandal', 'Shirt', 'Sneaker', 'Bag', 'Ankle boot']"
   ]
  },
  {
   "cell_type": "code",
   "execution_count": 3,
   "id": "trained-hardware",
   "metadata": {},
   "outputs": [],
   "source": [
    "def format_img(data):\n",
    "    img = data['image']\n",
    "    img = tf.reshape(img, [-1])\n",
    "    img = tf.cast(img, 'float32')\n",
    "    img = img / 255.\n",
    "    return img, data['label']"
   ]
  },
  {
   "cell_type": "code",
   "execution_count": 4,
   "id": "dynamic-wallpaper",
   "metadata": {},
   "outputs": [],
   "source": [
    "train, test = [x.map(format_img) for x in [train, test]]"
   ]
  },
  {
   "cell_type": "code",
   "execution_count": 5,
   "id": "revised-values",
   "metadata": {},
   "outputs": [],
   "source": [
    "BATCH = 64\n",
    "BUFFER = 1024"
   ]
  },
  {
   "cell_type": "code",
   "execution_count": 6,
   "id": "occupational-showcase",
   "metadata": {},
   "outputs": [],
   "source": [
    "train = train.shuffle(buffer_size=BUFFER).batch(BATCH)\n",
    "test = test.batch(batch_size=BATCH)"
   ]
  },
  {
   "cell_type": "code",
   "execution_count": 8,
   "id": "historical-lindsay",
   "metadata": {},
   "outputs": [],
   "source": [
    "def base_mod():\n",
    "    inputs = Input(shape=(784,), name='digits')\n",
    "    X = Dense(64, activation='relu', name='D1')(inputs)\n",
    "    X = Dense(64, activation='relu', name='D2')(X)\n",
    "    outputs = Dense(10, activation='softmax', name='preds')(X)\n",
    "    mod = Model(inputs=inputs, outputs=outputs)\n",
    "    return mod"
   ]
  },
  {
   "cell_type": "code",
   "execution_count": 12,
   "id": "framed-monitoring",
   "metadata": {},
   "outputs": [],
   "source": [
    "optim = tf.keras.optimizers.Adam()\n",
    "get_loss = tf.keras.losses.SparseCategoricalCrossentropy()"
   ]
  },
  {
   "cell_type": "code",
   "execution_count": 11,
   "id": "flush-information",
   "metadata": {},
   "outputs": [],
   "source": [
    "train_acc_metric = tf.keras.metrics.SparseCategoricalCrossentropy()\n",
    "val_acc_metric = tf.keras.metrics.SparseCategoricalCrossentropy()"
   ]
  },
  {
   "cell_type": "code",
   "execution_count": 13,
   "id": "rural-district",
   "metadata": {},
   "outputs": [],
   "source": [
    "def apply_grad(optim, mod, X, y):\n",
    "    with tf.GradientTape() as t:\n",
    "        logits = mod(X)\n",
    "        loss =  get_loss(y_true=y, y_pred=logits)\n",
    "    grads = t.gradient(loss, mod.trainable_weights)\n",
    "    optim.apply_gradients(zip(grads, mod.trainable_weights))\n",
    "    return logits, loss"
   ]
  },
  {
   "cell_type": "code",
   "execution_count": 20,
   "id": "handled-greeting",
   "metadata": {},
   "outputs": [],
   "source": [
    "def train_epoch():\n",
    "    losses = []\n",
    "    pbar = tqdm(total=len(list(enumerate(train))), \n",
    "                position=0, \n",
    "                leave=True, \n",
    "                bar_format='{l_bar}{bar}| {n_fmt}/{total_fmt} ')\n",
    "    for step, (X_batch, y_batch) in enumerate(train):\n",
    "        logits, loss = apply_grad(optim, mod, X_batch, y_batch)\n",
    "        losses.append(loss)\n",
    "        train_acc_metric(y_batch, logits)\n",
    "        pbar.set_description(f'Training loss for step {step}: {loss:.4f}')\n",
    "        pbar.update()\n",
    "    return losses"
   ]
  },
  {
   "cell_type": "code",
   "execution_count": 21,
   "id": "friendly-oliver",
   "metadata": {},
   "outputs": [],
   "source": [
    "def validate():\n",
    "    losses = []\n",
    "    for X, y in test:\n",
    "        logits = mod(X)\n",
    "        loss = get_loss(y_true=y, y_pred=logits)\n",
    "        losses.append(loss)\n",
    "        val_acc_metric(y, logits)\n",
    "    return losses"
   ]
  },
  {
   "cell_type": "code",
   "execution_count": 22,
   "id": "careful-residence",
   "metadata": {},
   "outputs": [
    {
     "name": "stdout",
     "output_type": "stream",
     "text": [
      "Epoch 0: "
     ]
    },
    {
     "name": "stderr",
     "output_type": "stream",
     "text": [
      "Training loss for step 937: 0.4260: 100%|██████████| 938/938 "
     ]
    },
    {
     "name": "stdout",
     "output_type": "stream",
     "text": [
      "Train loss: 0.5329715609550476, Val loss: 0.4286866784095764\n",
      "Epoch 1: "
     ]
    },
    {
     "name": "stderr",
     "output_type": "stream",
     "text": [
      "\n",
      "Training loss for step 937: 0.1213: 100%|█████████▉| 937/938 "
     ]
    },
    {
     "name": "stdout",
     "output_type": "stream",
     "text": [
      "Train loss: 0.3869134485721588, Val loss: 0.3866068124771118\n",
      "Epoch 2: "
     ]
    },
    {
     "name": "stderr",
     "output_type": "stream",
     "text": [
      "Training loss for step 937: 0.2873: 100%|██████████| 938/938 "
     ]
    },
    {
     "name": "stdout",
     "output_type": "stream",
     "text": [
      "Train loss: 0.34794753789901733, Val loss: 0.3804185092449188\n",
      "Epoch 3: "
     ]
    },
    {
     "name": "stderr",
     "output_type": "stream",
     "text": [
      "\n",
      "Training loss for step 937: 0.2748: 100%|██████████| 938/938 \n"
     ]
    },
    {
     "name": "stdout",
     "output_type": "stream",
     "text": [
      "Train loss: 0.3236325979232788, Val loss: 0.3730868101119995\n",
      "Epoch 4: "
     ]
    },
    {
     "name": "stderr",
     "output_type": "stream",
     "text": [
      "Exception ignored in: <function tqdm.__del__ at 0x7f90228c81f0>\n",
      "Traceback (most recent call last):\n",
      "  File \"/Library/Frameworks/Python.framework/Versions/3.8/lib/python3.8/site-packages/tqdm/std.py\", line 1143, in __del__\n",
      "    self.close()\n",
      "  File \"/Library/Frameworks/Python.framework/Versions/3.8/lib/python3.8/site-packages/tqdm/std.py\", line 1272, in close\n",
      "    if self.last_print_t < self.start_t + self.delay:\n",
      "AttributeError: 'tqdm' object has no attribute 'last_print_t'\n",
      "Training loss for step 937: 0.1213: 100%|██████████| 938/938 \n",
      "Training loss for step 937: 0.1981: 100%|██████████| 938/938 "
     ]
    },
    {
     "name": "stdout",
     "output_type": "stream",
     "text": [
      "Train loss: 0.3088153004646301, Val loss: 0.36588847637176514\n",
      "Epoch 5: "
     ]
    },
    {
     "name": "stderr",
     "output_type": "stream",
     "text": [
      "\n",
      "Training loss for step 937: 0.3980: 100%|█████████▉| 937/938 "
     ]
    },
    {
     "name": "stdout",
     "output_type": "stream",
     "text": [
      "Train loss: 0.2932245433330536, Val loss: 0.3645918667316437\n",
      "Epoch 6: "
     ]
    },
    {
     "name": "stderr",
     "output_type": "stream",
     "text": [
      "Training loss for step 937: 0.2469: 100%|█████████▉| 937/938 "
     ]
    },
    {
     "name": "stdout",
     "output_type": "stream",
     "text": [
      "Train loss: 0.2835500240325928, Val loss: 0.34679949283599854\n",
      "Epoch 7: "
     ]
    },
    {
     "name": "stderr",
     "output_type": "stream",
     "text": [
      "Training loss for step 937: 0.2469: 100%|██████████| 938/938 \n",
      "Training loss for step 937: 0.2505: 100%|██████████| 938/938 \n"
     ]
    },
    {
     "name": "stdout",
     "output_type": "stream",
     "text": [
      "Train loss: 0.2739180624485016, Val loss: 0.34918415546417236\n",
      "Epoch 8: "
     ]
    },
    {
     "name": "stderr",
     "output_type": "stream",
     "text": [
      "Training loss for step 937: 0.1325: 100%|█████████▉| 937/938 "
     ]
    },
    {
     "name": "stdout",
     "output_type": "stream",
     "text": [
      "Train loss: 0.2641352117061615, Val loss: 0.36420685052871704\n",
      "Epoch 9: "
     ]
    },
    {
     "name": "stderr",
     "output_type": "stream",
     "text": [
      "Training loss for step 937: 0.1325: 100%|██████████| 938/938 \n",
      "Training loss for step 937: 0.2400: 100%|██████████| 938/938 "
     ]
    },
    {
     "name": "stdout",
     "output_type": "stream",
     "text": [
      "Train loss: 0.25690481066703796, Val loss: 0.3572276830673218\n"
     ]
    }
   ],
   "source": [
    "EPOCHS = 10\n",
    "\n",
    "mod = base_mod()\n",
    "val_losses, train_losses = [], []\n",
    "for i in range(EPOCHS):\n",
    "    print(f'Epoch {i}:', end=' ')\n",
    "    loss_train = train_epoch()\n",
    "    acc_train = train_acc_metric.result()\n",
    "    loss_val = validate()\n",
    "    acc_val = val_acc_metric.result()\n",
    "    train_losses.append(np.mean(loss_train))\n",
    "    val_losses.append(np.mean(loss_val))\n",
    "    print(f'Train loss: {train_losses[-1]}, Val loss: {val_losses[-1]}')\n",
    "    train_acc_metric.reset_states()\n",
    "    val_acc_metric.reset_states()"
   ]
  },
  {
   "cell_type": "code",
   "execution_count": 24,
   "id": "excess-talent",
   "metadata": {},
   "outputs": [],
   "source": [
    "def plot_metrics(train_metric, val_metric, metric_name, title, ylim=5):\n",
    "    plt.title(title)\n",
    "    plt.ylim(0, ylim)\n",
    "    plt.gca().xaxis.set_major_locator(ticker.MultipleLocator(1))\n",
    "    plt.plot(train_metric, color='blue', label=metric_name)\n",
    "    plt.plot(val_metric, color='red', label=f'val_{metric_name}')\n",
    "    plt.legend()"
   ]
  },
  {
   "cell_type": "code",
   "execution_count": 25,
   "id": "brilliant-blink",
   "metadata": {},
   "outputs": [
    {
     "name": "stderr",
     "output_type": "stream",
     "text": [
      "Training loss for step 937: 0.2400: 100%|██████████| 938/938 \n"
     ]
    },
    {
     "data": {
      "image/png": "[encoded data removed]",
      "text/plain": [
       "<Figure size 432x288 with 1 Axes>"
      ]
     },
     "metadata": {
      "needs_background": "light"
     },
     "output_type": "display_data"
    }
   ],
   "source": [
    "plot_metrics(train_losses, val_losses, 'Loss', 'Perfromance', 1.)"
   ]
  },
  {
   "cell_type": "code",
   "execution_count": null,
   "id": "higher-hearing",
   "metadata": {},
   "outputs": [],
   "source": []
  }
 ],
 "metadata": {
  "kernelspec": {
   "display_name": "Python 3",
   "language": "python",
   "name": "python3"
  },
  "language_info": {
   "codemirror_mode": {
    "name": "ipython",
    "version": 3
   },
   "file_extension": ".py",
   "mimetype": "text/x-python",
   "name": "python",
   "nbconvert_exporter": "python",
   "pygments_lexer": "ipython3",
   "version": "3.8.8"
  }
 },
 "nbformat": 4,
 "nbformat_minor": 5
}
