{
 "cells": [
  {
   "cell_type": "code",
   "execution_count": 1,
   "id": "seasonal-person",
   "metadata": {},
   "outputs": [],
   "source": [
    "import tensorflow as tf"
   ]
  },
  {
   "cell_type": "code",
   "execution_count": 2,
   "id": "historical-advice",
   "metadata": {},
   "outputs": [
    {
     "data": {
      "text/plain": [
       "<tf.Tensor: shape=(2, 2), dtype=float32, numpy=\n",
       "array([[8., 8.],\n",
       "       [8., 8.]], dtype=float32)>"
      ]
     },
     "execution_count": 2,
     "metadata": {},
     "output_type": "execute_result"
    }
   ],
   "source": [
    "x = tf.ones((2, 2))\n",
    "\n",
    "with tf.GradientTape() as t:\n",
    "    t.watch(x)\n",
    "    y = tf.reduce_sum(x) # 4\n",
    "    z = tf.square(y)     # x2: 16\n",
    "    \n",
    "dzdx = t.gradient(z, x) # dzdx = dzdy/dydx = 2x -> 2 + 2 + 2 + 2 = 8\n",
    "dzdx"
   ]
  },
  {
   "cell_type": "code",
   "execution_count": 3,
   "id": "destroyed-roots",
   "metadata": {},
   "outputs": [
    {
     "name": "stdout",
     "output_type": "stream",
     "text": [
      "tf.Tensor(108.0, shape=(), dtype=float32)\n",
      "tf.Tensor(6.0, shape=(), dtype=float32)\n"
     ]
    }
   ],
   "source": [
    "x = tf.constant(3.)\n",
    "\n",
    "with tf.GradientTape(persistent=True) as t:\n",
    "    t.watch(x)\n",
    "    y = x * x  # x^2\n",
    "    z = y * y  # y^2 = x^4\n",
    "\n",
    "dzdx = t.gradient(z, x) # 4x^3 (= dzdy/dydx = 2y/dx = 2(x^2)2x = 4x^3\n",
    "print(dzdx) # 4(3^3)\n",
    "dydx = t.gradient(y, x) # 2x\n",
    "print(dydx) # (2*3)"
   ]
  },
  {
   "cell_type": "code",
   "execution_count": 4,
   "id": "resident-imperial",
   "metadata": {},
   "outputs": [
    {
     "name": "stdout",
     "output_type": "stream",
     "text": [
      "tf.Tensor(27.0, shape=(), dtype=float32)\n",
      "tf.Tensor(18.0, shape=(), dtype=float32)\n"
     ]
    }
   ],
   "source": [
    "x = tf.Variable(3.)\n",
    "\n",
    "with tf.GradientTape() as t2:\n",
    "    with tf.GradientTape() as t1:\n",
    "        y = x * x * x\n",
    "    dydx = t1.gradient(y, x) # = 3x^2\n",
    "d2ydx2 = t2.gradient(dydx, x)# = 6x\n",
    "print(dydx) # (3*3^2)\n",
    "print(d2ydx2) # 6 * 3"
   ]
  },
  {
   "cell_type": "code",
   "execution_count": null,
   "id": "deluxe-memorial",
   "metadata": {},
   "outputs": [],
   "source": []
  }
 ],
 "metadata": {
  "kernelspec": {
   "display_name": "Python 3",
   "language": "python",
   "name": "python3"
  },
  "language_info": {
   "codemirror_mode": {
    "name": "ipython",
    "version": 3
   },
   "file_extension": ".py",
   "mimetype": "text/x-python",
   "name": "python",
   "nbconvert_exporter": "python",
   "pygments_lexer": "ipython3",
   "version": "3.8.8"
  }
 },
 "nbformat": 4,
 "nbformat_minor": 5
}
