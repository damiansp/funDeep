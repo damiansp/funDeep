{
 "cells": [
  {
   "cell_type": "code",
   "execution_count": 11,
   "metadata": {},
   "outputs": [],
   "source": [
    "import numpy as np\n",
    "import tensorflow as tf\n",
    "#from   tensorflow import keras\n",
    "from   tensorflow.keras import Sequential\n",
    "from   tensorflow.keras.layers import Dense\n",
    "from   tensorflow.keras.losses import Loss"
   ]
  },
  {
   "cell_type": "code",
   "execution_count": 2,
   "metadata": {},
   "outputs": [],
   "source": [
    "xs = np.array([-1,  0, 1, 2, 3, 4], dtype=float)\n",
    "ys = np.array([-3, -1, 1, 3, 5, 7], dtype=float)"
   ]
  },
  {
   "cell_type": "code",
   "execution_count": 12,
   "metadata": {},
   "outputs": [],
   "source": [
    "def tunable_huber(thresh=1):\n",
    "    def my_huber(ys, preds):\n",
    "        err = ys - preds\n",
    "        is_small_err = tf.abs(err) <= thresh\n",
    "        small_err_loss = tf.square(err) / 2\n",
    "        big_err_loss = thresh * (tf.abs(err) - (thresh / 2))\n",
    "        return tf.where(is_small_err, small_err_loss, big_err_loss)\n",
    "    return my_huber"
   ]
  },
  {
   "cell_type": "code",
   "execution_count": 13,
   "metadata": {},
   "outputs": [
    {
     "name": "stdout",
     "output_type": "stream",
     "text": [
      "[[18.823088]]\n"
     ]
    }
   ],
   "source": [
    "mod = Sequential([Dense(units=1, input_shape=[1])])\n",
    "mod.compile(optimizer='sgd', loss=tunable_huber(thresh=2))\n",
    "mod.fit(xs, ys, epochs=500, verbose=0)\n",
    "print(mod.predict([10.]))"
   ]
  },
  {
   "cell_type": "code",
   "execution_count": 20,
   "metadata": {},
   "outputs": [],
   "source": [
    "class TunableHuber(Loss):\n",
    "    def __init__(self, thresh):\n",
    "        super().__init__()\n",
    "        self.thresh = thresh\n",
    "        \n",
    "    def call(self, ys, preds):\n",
    "        err = ys - preds\n",
    "        is_small_err = tf.abs(err) <= self.thresh\n",
    "        small_err_loss = tf.square(err) / 2\n",
    "        big_err_loss = self.thresh * (tf.abs(err) - self.thresh/2)\n",
    "        return tf.where(is_small_err, small_err_loss, big_err_loss)"
   ]
  },
  {
   "cell_type": "code",
   "execution_count": 21,
   "metadata": {},
   "outputs": [
    {
     "name": "stdout",
     "output_type": "stream",
     "text": [
      "[[18.692566]]\n"
     ]
    }
   ],
   "source": [
    "mod = Sequential([Dense(units=1, input_shape=[1])])\n",
    "mod.compile(optimizer='sgd', loss=TunableHuber(thresh=2))\n",
    "mod.fit(xs, ys, epochs=500, verbose=0)\n",
    "print(mod.predict([10.]))"
   ]
  },
  {
   "cell_type": "code",
   "execution_count": null,
   "metadata": {},
   "outputs": [],
   "source": []
  }
 ],
 "metadata": {
  "kernelspec": {
   "display_name": "Python 3",
   "language": "python",
   "name": "python3"
  },
  "language_info": {
   "codemirror_mode": {
    "name": "ipython",
    "version": 3
   },
   "file_extension": ".py",
   "mimetype": "text/x-python",
   "name": "python",
   "nbconvert_exporter": "python",
   "pygments_lexer": "ipython3",
   "version": "3.8.5"
  }
 },
 "nbformat": 4,
 "nbformat_minor": 4
}
