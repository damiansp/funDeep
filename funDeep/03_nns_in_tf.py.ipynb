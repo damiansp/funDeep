{
 "cells": [
  {
   "cell_type": "code",
   "execution_count": 1,
   "metadata": {
    "collapsed": true
   },
   "outputs": [],
   "source": [
    "import tensorflow as tf"
   ]
  },
  {
   "cell_type": "code",
   "execution_count": 2,
   "metadata": {
    "collapsed": true
   },
   "outputs": [],
   "source": [
    "W = tf.Variable(tf.random_normal([300, 200], stddev=0.5), name='W')"
   ]
  },
  {
   "cell_type": "code",
   "execution_count": 4,
   "metadata": {},
   "outputs": [],
   "source": [
    "# Other common tensors in TF\n",
    "Z = tf.zeros([50, 50], dtype=tf.float32, name='Z')\n",
    "O = tf.ones([50, 50], dtype=tf.float32, name='O')\n",
    "N = tf.random_normal(\n",
    "    [30, 30], mean=0., stddev=1., dtype=tf.float32, seed=None, name='N')\n",
    "NT = tf.truncated_normal(\n",
    "    [30, 30], mean=0., stddev=1., dtype=tf.float32, seed=None, name='NT')\n",
    "U = tf.random_uniform(\n",
    "    [5, 5], minval=0, maxval=1, dtype=tf.float32, seed=None, name='U')"
   ]
  },
  {
   "cell_type": "code",
   "execution_count": null,
   "metadata": {
    "collapsed": true
   },
   "outputs": [],
   "source": []
  }
 ],
 "metadata": {
  "kernelspec": {
   "display_name": "Python 3",
   "language": "python",
   "name": "python3"
  },
  "language_info": {
   "codemirror_mode": {
    "name": "ipython",
    "version": 3
   },
   "file_extension": ".py",
   "mimetype": "text/x-python",
   "name": "python",
   "nbconvert_exporter": "python",
   "pygments_lexer": "ipython3",
   "version": "3.6.1"
  }
 },
 "nbformat": 4,
 "nbformat_minor": 2
}
